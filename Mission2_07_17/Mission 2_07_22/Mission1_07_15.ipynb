{
 "cells": [
  {
   "cell_type": "markdown",
   "metadata": {
    "id": "AkyJEB1dBhAk"
   },
   "source": [
    "**LeetCode**"
   ]
  },
  {
   "cell_type": "code",
   "execution_count": 180,
   "metadata": {
    "id": "d1ej3wF3iQFV"
   },
   "outputs": [],
   "source": [
    "A =[[1,5], [10,14], [16,18]]\n",
    "B =[[2,6], [8,10], [11,20]]"
   ]
  },
  {
   "cell_type": "code",
   "execution_count": 181,
   "metadata": {
    "id": "x4LQm5FriqYT"
   },
   "outputs": [],
   "source": [
    "def merge(A,B):\n",
    "  i = 0\n",
    "  j = 0\n",
    "  out = []\n",
    "  start = -float('inf')\n",
    "  p_end = -float('inf')\n",
    "  while i<len(A) and j<len(B):\n",
    "    if A[i][0] < B[j][0]:\n",
    "      cand_start = A[i][0]\n",
    "      temp_end = A[i][1]\n",
    "      i += 1\n",
    "    else:\n",
    "      cand_start = B[j][0]\n",
    "      temp_end = B[j][1]\n",
    "      j += 1\n",
    "\n",
    "    if cand_start > p_end:\n",
    "      out.append([start,p_end])\n",
    "      start = cand_start\n",
    "      p_end = temp_end\n",
    "    else:\n",
    "      p_end = max(p_end, temp_end)\n",
    "\n",
    "  out.append([start, p_end])\n",
    "  print(out[1:])\n"
   ]
  },
  {
   "cell_type": "code",
   "execution_count": 182,
   "metadata": {
    "colab": {
     "base_uri": "https://localhost:8080/"
    },
    "id": "tuUi400v5aqO",
    "outputId": "d43bba67-937f-42cf-9f80-8ac3a10a1644"
   },
   "outputs": [
    {
     "name": "stdout",
     "output_type": "stream",
     "text": [
      "C:\\Users\\hnr59\\Documents\\Mission2_07_17\n"
     ]
    },
    {
     "data": {
      "text/html": [
       "<div>\n",
       "<style scoped>\n",
       "    .dataframe tbody tr th:only-of-type {\n",
       "        vertical-align: middle;\n",
       "    }\n",
       "\n",
       "    .dataframe tbody tr th {\n",
       "        vertical-align: top;\n",
       "    }\n",
       "\n",
       "    .dataframe thead th {\n",
       "        text-align: right;\n",
       "    }\n",
       "</style>\n",
       "<table border=\"1\" class=\"dataframe\">\n",
       "  <thead>\n",
       "    <tr style=\"text-align: right;\">\n",
       "      <th></th>\n",
       "      <th>V1-HAMD08</th>\n",
       "      <th>V1-HAMD09</th>\n",
       "      <th>V1-all</th>\n",
       "    </tr>\n",
       "  </thead>\n",
       "  <tbody>\n",
       "    <tr>\n",
       "      <th>0</th>\n",
       "      <td>0</td>\n",
       "      <td>0</td>\n",
       "      <td>7</td>\n",
       "    </tr>\n",
       "    <tr>\n",
       "      <th>1</th>\n",
       "      <td>1</td>\n",
       "      <td>0</td>\n",
       "      <td>14</td>\n",
       "    </tr>\n",
       "    <tr>\n",
       "      <th>2</th>\n",
       "      <td>1</td>\n",
       "      <td>1</td>\n",
       "      <td>22</td>\n",
       "    </tr>\n",
       "    <tr>\n",
       "      <th>3</th>\n",
       "      <td>0</td>\n",
       "      <td>0</td>\n",
       "      <td>6</td>\n",
       "    </tr>\n",
       "    <tr>\n",
       "      <th>4</th>\n",
       "      <td>0</td>\n",
       "      <td>0</td>\n",
       "      <td>8</td>\n",
       "    </tr>\n",
       "    <tr>\n",
       "      <th>...</th>\n",
       "      <td>...</td>\n",
       "      <td>...</td>\n",
       "      <td>...</td>\n",
       "    </tr>\n",
       "    <tr>\n",
       "      <th>1463</th>\n",
       "      <td>1</td>\n",
       "      <td>1</td>\n",
       "      <td>27</td>\n",
       "    </tr>\n",
       "    <tr>\n",
       "      <th>1464</th>\n",
       "      <td>1</td>\n",
       "      <td>1</td>\n",
       "      <td>26</td>\n",
       "    </tr>\n",
       "    <tr>\n",
       "      <th>1465</th>\n",
       "      <td>0</td>\n",
       "      <td>1</td>\n",
       "      <td>13</td>\n",
       "    </tr>\n",
       "    <tr>\n",
       "      <th>1466</th>\n",
       "      <td>2</td>\n",
       "      <td>1</td>\n",
       "      <td>20</td>\n",
       "    </tr>\n",
       "    <tr>\n",
       "      <th>1467</th>\n",
       "      <td>2</td>\n",
       "      <td>2</td>\n",
       "      <td>28</td>\n",
       "    </tr>\n",
       "  </tbody>\n",
       "</table>\n",
       "<p>1468 rows × 3 columns</p>\n",
       "</div>"
      ],
      "text/plain": [
       "      V1-HAMD08  V1-HAMD09  V1-all\n",
       "0             0          0       7\n",
       "1             1          0      14\n",
       "2             1          1      22\n",
       "3             0          0       6\n",
       "4             0          0       8\n",
       "...         ...        ...     ...\n",
       "1463          1          1      27\n",
       "1464          1          1      26\n",
       "1465          0          1      13\n",
       "1466          2          1      20\n",
       "1467          2          2      28\n",
       "\n",
       "[1468 rows x 3 columns]"
      ]
     },
     "execution_count": 182,
     "metadata": {},
     "output_type": "execute_result"
    }
   ],
   "source": [
    "import os\n",
    "import pandas as pd\n",
    "import numpy as np\n",
    "pd.set_option('display.max_columns', None)\n",
    "\n",
    "print(os.getcwd())\n",
    "\n",
    "df_v1 = pd.read_csv('hdrs.csv')\n",
    "\n",
    "# Creating a set for just the first visits and appending the sum of all the patients visits\n",
    "v1_set = [col for col in df_v1 if col.startswith('V1')]\n",
    "df_89 = df_v1.loc[:, v1_set]\n",
    "df = df_89.loc[:, [col for col in df_89 if col.startswith('V1-HAMD08') | col.startswith('V1-HAMD09')]]\n",
    "df['V1-all'] = df_89.sum(axis=1)\n",
    "\n",
    "df"
   ]
  },
  {
   "cell_type": "code",
   "execution_count": 183,
   "metadata": {
    "colab": {
     "base_uri": "https://localhost:8080/",
     "height": 424
    },
    "id": "c1NLvOMN3oIk",
    "outputId": "62eb7112-579e-4d31-e79b-fae6e859ca73"
   },
   "outputs": [
    {
     "name": "stdout",
     "output_type": "stream",
     "text": [
      "      V1-HAMD08  V1-HAMD09  V1-all     level\n",
      "73            2          3      22  moderate\n",
      "408           2          3      24  moderate\n",
      "492           2          3      29    severe\n",
      "960           2          3      22  moderate\n",
      "1006          2          3      18  moderate\n",
      "1181          2          3      22  moderate\n",
      "1215          2          3      24  moderate\n",
      "     V1-HAMD08  V1-HAMD09  V1-all   level\n",
      "327          2          4      30  severe\n",
      "392          2          4      33  severe\n",
      "393          2          4      32  severe\n",
      "     V1-HAMD08  V1-HAMD09  V1-all   level\n",
      "935          3          3      26  severe\n"
     ]
    }
   ],
   "source": [
    "\n",
    "# create a list of our conditions\n",
    "conditions = [\n",
    "    (df['V1-all'] <= 17),\n",
    "    (df['V1-all'] > 17) & (df['V1-all'] <= 24),\n",
    "    (df['V1-all'] > 24)\n",
    "    ]\n",
    "\n",
    "#for i in range(0,len(df)):\n",
    "  #if (df['V1-HAMD08'][i] ==2 & df['V1-HAMD09'][i] <=3):\n",
    "    #df.drop(i)\n",
    "    #print(i)\n",
    "\n",
    "# create a list of the values we want to assign for each condition\n",
    "values = ['mild', 'moderate', 'severe']\n",
    "\n",
    "# create a new column and use np.select to assign values to it using our lists as arguments\n",
    "df['level'] = np.select(conditions, values)\n",
    "df_23 = df.loc[((df['V1-HAMD08'] ==2)& (df['V1-HAMD09'] ==3))]\n",
    "print(df_23)\n",
    "df_24 = df.loc[((df['V1-HAMD08'] ==2)& (df['V1-HAMD09'] ==4))]\n",
    "print(df_24)\n",
    "df_33 = df.loc[((df['V1-HAMD08'] ==3)& (df['V1-HAMD09'] ==3))]\n",
    "print(df_33)\n",
    "df = df.drop(df_23.index)\n",
    "df = df.drop(df_24.index)\n",
    "df = df.drop(df_33.index)\n"
   ]
  },
  {
   "cell_type": "markdown",
   "metadata": {
    "id": "4IVs-1CeAx57"
   },
   "source": [
    "## Chi-square"
   ]
  },
  {
   "cell_type": "code",
   "execution_count": 184,
   "metadata": {
    "id": "sDKX9NiI1yV7"
   },
   "outputs": [],
   "source": [
    "from scipy.stats import chi2_contingency\n",
    "\n",
    "def calculate_chi2_contingency(df):\n",
    "  cross_table = pd.crosstab(index=df['V1-HAMD08'], columns=df['V1-HAMD09'])\n",
    "  print(cross_table)\n",
    "  res = chi2_contingency(cross_table)\n",
    "  print(f\"p value:  {res.pvalue}\")"
   ]
  },
  {
   "cell_type": "code",
   "execution_count": 185,
   "metadata": {
    "colab": {
     "base_uri": "https://localhost:8080/"
    },
    "id": "Wlajd7Ee60uU",
    "outputId": "5737ba53-b1b3-4fe2-e470-8c846aa3416d"
   },
   "outputs": [
    {
     "name": "stdout",
     "output_type": "stream",
     "text": [
      "V1-HAMD09    0    1    2   3  4\n",
      "V1-HAMD08                      \n",
      "0          194  194   83  11  1\n",
      "1          270  305  134  10  5\n",
      "2           96   86   52   0  0\n",
      "3            8    4    4   0  0\n",
      "p value:  0.2388481596112691\n"
     ]
    }
   ],
   "source": [
    "calculate_chi2_contingency(df)"
   ]
  },
  {
   "cell_type": "code",
   "execution_count": 186,
   "metadata": {
    "colab": {
     "base_uri": "https://localhost:8080/"
    },
    "id": "_aibIC5A62sQ",
    "outputId": "015afc33-f002-48c1-cc86-b9e1b79e4df0"
   },
   "outputs": [
    {
     "name": "stdout",
     "output_type": "stream",
     "text": [
      "V1-HAMD09    0    1   2  3  4\n",
      "V1-HAMD08                    \n",
      "0          148  100  21  1  1\n",
      "1          129  119  21  1  0\n",
      "2           15   11   2  0  0\n",
      "p value:  0.8378724813380201\n"
     ]
    }
   ],
   "source": [
    "calculate_chi2_contingency(df[df['level']=='mild'])"
   ]
  },
  {
   "cell_type": "code",
   "execution_count": 187,
   "metadata": {
    "colab": {
     "base_uri": "https://localhost:8080/"
    },
    "id": "mmNYGZZ37Agf",
    "outputId": "51e6b858-9c1c-41fc-b20a-ebff32ebe7b1"
   },
   "outputs": [
    {
     "name": "stdout",
     "output_type": "stream",
     "text": [
      "V1-HAMD09    0    1   2   3\n",
      "V1-HAMD08                  \n",
      "0           43   82  49  10\n",
      "1          127  160  89   6\n",
      "2           58   58  37   0\n",
      "3            7    3   3   0\n",
      "p value:  0.004675672275018173\n"
     ]
    }
   ],
   "source": [
    "calculate_chi2_contingency(df[df['level']=='moderate'])"
   ]
  },
  {
   "cell_type": "code",
   "execution_count": 188,
   "metadata": {
    "colab": {
     "base_uri": "https://localhost:8080/"
    },
    "id": "JHGgKn4l7DnY",
    "outputId": "4a042a24-3fef-4d88-e221-9418ca91cc94"
   },
   "outputs": [
    {
     "name": "stdout",
     "output_type": "stream",
     "text": [
      "V1-HAMD09   0   1   2  3  4\n",
      "V1-HAMD08                  \n",
      "0           3  12  13  0  0\n",
      "1          14  26  24  3  5\n",
      "2          23  17  13  0  0\n",
      "3           1   1   1  0  0\n",
      "p value:  0.032624819945455824\n"
     ]
    }
   ],
   "source": [
    "calculate_chi2_contingency(df[df['level']=='severe'])"
   ]
  },
  {
   "cell_type": "markdown",
   "metadata": {
    "id": "mDSDSQjVAm2G"
   },
   "source": [
    "## Persion correlation"
   ]
  },
  {
   "cell_type": "code",
   "execution_count": 189,
   "metadata": {
    "colab": {
     "base_uri": "https://localhost:8080/",
     "height": 112
    },
    "id": "zLUuhKEq7HJf",
    "outputId": "113159ec-ec08-4064-99ae-1349321b9723"
   },
   "outputs": [
    {
     "data": {
      "text/html": [
       "<div>\n",
       "<style scoped>\n",
       "    .dataframe tbody tr th:only-of-type {\n",
       "        vertical-align: middle;\n",
       "    }\n",
       "\n",
       "    .dataframe tbody tr th {\n",
       "        vertical-align: top;\n",
       "    }\n",
       "\n",
       "    .dataframe thead th {\n",
       "        text-align: right;\n",
       "    }\n",
       "</style>\n",
       "<table border=\"1\" class=\"dataframe\">\n",
       "  <thead>\n",
       "    <tr style=\"text-align: right;\">\n",
       "      <th></th>\n",
       "      <th>V1-HAMD08</th>\n",
       "      <th>V1-HAMD09</th>\n",
       "    </tr>\n",
       "  </thead>\n",
       "  <tbody>\n",
       "    <tr>\n",
       "      <th>V1-HAMD08</th>\n",
       "      <td>1.000000</td>\n",
       "      <td>-0.001191</td>\n",
       "    </tr>\n",
       "    <tr>\n",
       "      <th>V1-HAMD09</th>\n",
       "      <td>-0.001191</td>\n",
       "      <td>1.000000</td>\n",
       "    </tr>\n",
       "  </tbody>\n",
       "</table>\n",
       "</div>"
      ],
      "text/plain": [
       "           V1-HAMD08  V1-HAMD09\n",
       "V1-HAMD08   1.000000  -0.001191\n",
       "V1-HAMD09  -0.001191   1.000000"
      ]
     },
     "execution_count": 189,
     "metadata": {},
     "output_type": "execute_result"
    }
   ],
   "source": [
    "df[['V1-HAMD08','V1-HAMD09']].corr()"
   ]
  },
  {
   "cell_type": "code",
   "execution_count": 190,
   "metadata": {
    "colab": {
     "base_uri": "https://localhost:8080/",
     "height": 112
    },
    "id": "wV_nCOc27uvz",
    "outputId": "6b2054db-3612-4295-edb1-ec6703a688c7"
   },
   "outputs": [
    {
     "data": {
      "text/html": [
       "<div>\n",
       "<style scoped>\n",
       "    .dataframe tbody tr th:only-of-type {\n",
       "        vertical-align: middle;\n",
       "    }\n",
       "\n",
       "    .dataframe tbody tr th {\n",
       "        vertical-align: top;\n",
       "    }\n",
       "\n",
       "    .dataframe thead th {\n",
       "        text-align: right;\n",
       "    }\n",
       "</style>\n",
       "<table border=\"1\" class=\"dataframe\">\n",
       "  <thead>\n",
       "    <tr style=\"text-align: right;\">\n",
       "      <th></th>\n",
       "      <th>V1-HAMD08</th>\n",
       "      <th>V1-HAMD09</th>\n",
       "    </tr>\n",
       "  </thead>\n",
       "  <tbody>\n",
       "    <tr>\n",
       "      <th>V1-HAMD08</th>\n",
       "      <td>1.000000</td>\n",
       "      <td>0.027458</td>\n",
       "    </tr>\n",
       "    <tr>\n",
       "      <th>V1-HAMD09</th>\n",
       "      <td>0.027458</td>\n",
       "      <td>1.000000</td>\n",
       "    </tr>\n",
       "  </tbody>\n",
       "</table>\n",
       "</div>"
      ],
      "text/plain": [
       "           V1-HAMD08  V1-HAMD09\n",
       "V1-HAMD08   1.000000   0.027458\n",
       "V1-HAMD09   0.027458   1.000000"
      ]
     },
     "execution_count": 190,
     "metadata": {},
     "output_type": "execute_result"
    }
   ],
   "source": [
    "df[df['level']=='mild'][['V1-HAMD08','V1-HAMD09']].corr()"
   ]
  },
  {
   "cell_type": "code",
   "execution_count": 191,
   "metadata": {
    "colab": {
     "base_uri": "https://localhost:8080/",
     "height": 112
    },
    "id": "Uph4LG4P8Ise",
    "outputId": "04b0f231-c700-439d-a2cf-b2ddbf43f0d2"
   },
   "outputs": [
    {
     "data": {
      "text/html": [
       "<div>\n",
       "<style scoped>\n",
       "    .dataframe tbody tr th:only-of-type {\n",
       "        vertical-align: middle;\n",
       "    }\n",
       "\n",
       "    .dataframe tbody tr th {\n",
       "        vertical-align: top;\n",
       "    }\n",
       "\n",
       "    .dataframe thead th {\n",
       "        text-align: right;\n",
       "    }\n",
       "</style>\n",
       "<table border=\"1\" class=\"dataframe\">\n",
       "  <thead>\n",
       "    <tr style=\"text-align: right;\">\n",
       "      <th></th>\n",
       "      <th>V1-HAMD08</th>\n",
       "      <th>V1-HAMD09</th>\n",
       "    </tr>\n",
       "  </thead>\n",
       "  <tbody>\n",
       "    <tr>\n",
       "      <th>V1-HAMD08</th>\n",
       "      <td>1.000000</td>\n",
       "      <td>-0.128199</td>\n",
       "    </tr>\n",
       "    <tr>\n",
       "      <th>V1-HAMD09</th>\n",
       "      <td>-0.128199</td>\n",
       "      <td>1.000000</td>\n",
       "    </tr>\n",
       "  </tbody>\n",
       "</table>\n",
       "</div>"
      ],
      "text/plain": [
       "           V1-HAMD08  V1-HAMD09\n",
       "V1-HAMD08   1.000000  -0.128199\n",
       "V1-HAMD09  -0.128199   1.000000"
      ]
     },
     "execution_count": 191,
     "metadata": {},
     "output_type": "execute_result"
    }
   ],
   "source": [
    "df[df['level']=='moderate'][['V1-HAMD08','V1-HAMD09']].corr()"
   ]
  },
  {
   "cell_type": "code",
   "execution_count": 192,
   "metadata": {
    "colab": {
     "base_uri": "https://localhost:8080/",
     "height": 112
    },
    "id": "blpKggRn8MPg",
    "outputId": "358f3fbb-1e64-43cd-e4a8-46e05b7b94be"
   },
   "outputs": [
    {
     "data": {
      "text/html": [
       "<div>\n",
       "<style scoped>\n",
       "    .dataframe tbody tr th:only-of-type {\n",
       "        vertical-align: middle;\n",
       "    }\n",
       "\n",
       "    .dataframe tbody tr th {\n",
       "        vertical-align: top;\n",
       "    }\n",
       "\n",
       "    .dataframe thead th {\n",
       "        text-align: right;\n",
       "    }\n",
       "</style>\n",
       "<table border=\"1\" class=\"dataframe\">\n",
       "  <thead>\n",
       "    <tr style=\"text-align: right;\">\n",
       "      <th></th>\n",
       "      <th>V1-HAMD08</th>\n",
       "      <th>V1-HAMD09</th>\n",
       "    </tr>\n",
       "  </thead>\n",
       "  <tbody>\n",
       "    <tr>\n",
       "      <th>V1-HAMD08</th>\n",
       "      <td>1.000000</td>\n",
       "      <td>-0.234887</td>\n",
       "    </tr>\n",
       "    <tr>\n",
       "      <th>V1-HAMD09</th>\n",
       "      <td>-0.234887</td>\n",
       "      <td>1.000000</td>\n",
       "    </tr>\n",
       "  </tbody>\n",
       "</table>\n",
       "</div>"
      ],
      "text/plain": [
       "           V1-HAMD08  V1-HAMD09\n",
       "V1-HAMD08   1.000000  -0.234887\n",
       "V1-HAMD09  -0.234887   1.000000"
      ]
     },
     "execution_count": 192,
     "metadata": {},
     "output_type": "execute_result"
    }
   ],
   "source": [
    "df[df['level']=='severe'][['V1-HAMD08','V1-HAMD09']].corr()"
   ]
  },
  {
   "cell_type": "markdown",
   "metadata": {
    "id": "rfbKri5FAWdT"
   },
   "source": [
    "## Spearman's rank correlation coefficient\n",
    "https://docs.scipy.org/doc/scipy/reference/generated/scipy.stats.spearmanr.html\n",
    "\n",
    "https://en.wikipedia.org/wiki/Spearman%27s_rank_correlation_coefficient"
   ]
  },
  {
   "cell_type": "code",
   "execution_count": 193,
   "metadata": {
    "colab": {
     "base_uri": "https://localhost:8080/"
    },
    "id": "A_Cw1o4Y_l-2",
    "outputId": "d01873d2-2c84-4073-95f3-2dab9a50f487"
   },
   "outputs": [
    {
     "data": {
      "text/plain": [
       "SignificanceResult(statistic=0.007199497812029542, pvalue=0.7836409704972805)"
      ]
     },
     "execution_count": 193,
     "metadata": {},
     "output_type": "execute_result"
    }
   ],
   "source": [
    "from scipy import stats\n",
    "\n",
    "res = stats.spearmanr(df[['V1-HAMD08','V1-HAMD09']])\n",
    "res"
   ]
  },
  {
   "cell_type": "code",
   "execution_count": 194,
   "metadata": {
    "colab": {
     "base_uri": "https://localhost:8080/"
    },
    "id": "cGhurp7Z_--f",
    "outputId": "fcb86630-4aa4-4953-a63b-bc1af4a6df1d"
   },
   "outputs": [
    {
     "data": {
      "text/plain": [
       "SignificanceResult(statistic=0.04709250419607791, pvalue=0.2620821320567572)"
      ]
     },
     "execution_count": 194,
     "metadata": {},
     "output_type": "execute_result"
    }
   ],
   "source": [
    "res = stats.spearmanr(df[df['level']=='mild'][['V1-HAMD08','V1-HAMD09']])\n",
    "res"
   ]
  },
  {
   "cell_type": "code",
   "execution_count": 195,
   "metadata": {
    "colab": {
     "base_uri": "https://localhost:8080/"
    },
    "id": "MZmqrhgtAF_m",
    "outputId": "749f3c15-c883-439e-f7db-69ff4d0500a6"
   },
   "outputs": [
    {
     "data": {
      "text/plain": [
       "SignificanceResult(statistic=-0.11968334036340954, pvalue=0.0011777007261296673)"
      ]
     },
     "execution_count": 195,
     "metadata": {},
     "output_type": "execute_result"
    }
   ],
   "source": [
    "res = stats.spearmanr(df[df['level']=='moderate'][['V1-HAMD08','V1-HAMD09']])\n",
    "res"
   ]
  },
  {
   "cell_type": "code",
   "execution_count": 196,
   "metadata": {
    "colab": {
     "base_uri": "https://localhost:8080/"
    },
    "id": "45q-0vIeAGWS",
    "outputId": "3220d41d-5901-44d4-fb64-d0ed54ac19ba"
   },
   "outputs": [
    {
     "data": {
      "text/plain": [
       "SignificanceResult(statistic=-0.2625287679154087, pvalue=0.0009300237063123249)"
      ]
     },
     "execution_count": 196,
     "metadata": {},
     "output_type": "execute_result"
    }
   ],
   "source": [
    "res = stats.spearmanr(df[df['level']=='severe'][['V1-HAMD08','V1-HAMD09']])\n",
    "res"
   ]
  },
  {
   "cell_type": "markdown",
   "metadata": {},
   "source": [
    "# Mission 2"
   ]
  },
  {
   "cell_type": "code",
   "execution_count": 197,
   "metadata": {},
   "outputs": [],
   "source": [
    "import pandas as pd\n",
    "import numpy as np\n",
    "import plotly.express as px\n",
    "from plotly.subplots import make_subplots\n",
    "import plotly.graph_objects as go"
   ]
  },
  {
   "cell_type": "code",
   "execution_count": 198,
   "metadata": {},
   "outputs": [
    {
     "data": {
      "text/html": [
       "<div>\n",
       "<style scoped>\n",
       "    .dataframe tbody tr th:only-of-type {\n",
       "        vertical-align: middle;\n",
       "    }\n",
       "\n",
       "    .dataframe tbody tr th {\n",
       "        vertical-align: top;\n",
       "    }\n",
       "\n",
       "    .dataframe thead th {\n",
       "        text-align: right;\n",
       "    }\n",
       "</style>\n",
       "<table border=\"1\" class=\"dataframe\">\n",
       "  <thead>\n",
       "    <tr style=\"text-align: right;\">\n",
       "      <th></th>\n",
       "      <th>V1-HAMD08</th>\n",
       "      <th>V1-HAMD09</th>\n",
       "      <th>V1-all</th>\n",
       "      <th>level</th>\n",
       "      <th>DRUG</th>\n",
       "      <th>Remission</th>\n",
       "      <th>Difference</th>\n",
       "      <th>Response</th>\n",
       "    </tr>\n",
       "  </thead>\n",
       "  <tbody>\n",
       "    <tr>\n",
       "      <th>0</th>\n",
       "      <td>0</td>\n",
       "      <td>0</td>\n",
       "      <td>7</td>\n",
       "      <td>mild</td>\n",
       "      <td>Duloxetine</td>\n",
       "      <td>Full Remission</td>\n",
       "      <td>Improvement</td>\n",
       "      <td>Full Response</td>\n",
       "    </tr>\n",
       "    <tr>\n",
       "      <th>1</th>\n",
       "      <td>1</td>\n",
       "      <td>0</td>\n",
       "      <td>14</td>\n",
       "      <td>mild</td>\n",
       "      <td>Duloxetine</td>\n",
       "      <td>Partial Remission</td>\n",
       "      <td>Worst</td>\n",
       "      <td>No Response</td>\n",
       "    </tr>\n",
       "    <tr>\n",
       "      <th>2</th>\n",
       "      <td>1</td>\n",
       "      <td>1</td>\n",
       "      <td>22</td>\n",
       "      <td>moderate</td>\n",
       "      <td>Duloxetine</td>\n",
       "      <td>Full Remission</td>\n",
       "      <td>Improvement</td>\n",
       "      <td>Full Response</td>\n",
       "    </tr>\n",
       "    <tr>\n",
       "      <th>3</th>\n",
       "      <td>0</td>\n",
       "      <td>0</td>\n",
       "      <td>6</td>\n",
       "      <td>mild</td>\n",
       "      <td>Duloxetine</td>\n",
       "      <td>Remission</td>\n",
       "      <td>Worst</td>\n",
       "      <td>No Response</td>\n",
       "    </tr>\n",
       "    <tr>\n",
       "      <th>4</th>\n",
       "      <td>0</td>\n",
       "      <td>0</td>\n",
       "      <td>8</td>\n",
       "      <td>mild</td>\n",
       "      <td>Duloxetine</td>\n",
       "      <td>Remission</td>\n",
       "      <td>Worst</td>\n",
       "      <td>No Response</td>\n",
       "    </tr>\n",
       "    <tr>\n",
       "      <th>...</th>\n",
       "      <td>...</td>\n",
       "      <td>...</td>\n",
       "      <td>...</td>\n",
       "      <td>...</td>\n",
       "      <td>...</td>\n",
       "      <td>...</td>\n",
       "      <td>...</td>\n",
       "      <td>...</td>\n",
       "    </tr>\n",
       "    <tr>\n",
       "      <th>1463</th>\n",
       "      <td>1</td>\n",
       "      <td>1</td>\n",
       "      <td>27</td>\n",
       "      <td>severe</td>\n",
       "      <td>Fluoxetine</td>\n",
       "      <td>Remission</td>\n",
       "      <td>Big Improvement</td>\n",
       "      <td>Full Response</td>\n",
       "    </tr>\n",
       "    <tr>\n",
       "      <th>1464</th>\n",
       "      <td>1</td>\n",
       "      <td>1</td>\n",
       "      <td>26</td>\n",
       "      <td>severe</td>\n",
       "      <td>Fluoxetine</td>\n",
       "      <td>Full Remission</td>\n",
       "      <td>Big Improvement</td>\n",
       "      <td>Full Response</td>\n",
       "    </tr>\n",
       "    <tr>\n",
       "      <th>1465</th>\n",
       "      <td>0</td>\n",
       "      <td>1</td>\n",
       "      <td>13</td>\n",
       "      <td>mild</td>\n",
       "      <td>Fluoxetine</td>\n",
       "      <td>Remission</td>\n",
       "      <td>Worst</td>\n",
       "      <td>No Response</td>\n",
       "    </tr>\n",
       "    <tr>\n",
       "      <th>1466</th>\n",
       "      <td>2</td>\n",
       "      <td>1</td>\n",
       "      <td>20</td>\n",
       "      <td>moderate</td>\n",
       "      <td>Fluoxetine</td>\n",
       "      <td>Remission</td>\n",
       "      <td>Improvement</td>\n",
       "      <td>Partial Response</td>\n",
       "    </tr>\n",
       "    <tr>\n",
       "      <th>1467</th>\n",
       "      <td>2</td>\n",
       "      <td>2</td>\n",
       "      <td>28</td>\n",
       "      <td>severe</td>\n",
       "      <td>Fluoxetine</td>\n",
       "      <td>Full Remission</td>\n",
       "      <td>Big Improvement</td>\n",
       "      <td>Full Response</td>\n",
       "    </tr>\n",
       "  </tbody>\n",
       "</table>\n",
       "<p>1457 rows × 8 columns</p>\n",
       "</div>"
      ],
      "text/plain": [
       "      V1-HAMD08  V1-HAMD09  V1-all     level        DRUG          Remission  \\\n",
       "0             0          0       7      mild  Duloxetine     Full Remission   \n",
       "1             1          0      14      mild  Duloxetine  Partial Remission   \n",
       "2             1          1      22  moderate  Duloxetine     Full Remission   \n",
       "3             0          0       6      mild  Duloxetine          Remission   \n",
       "4             0          0       8      mild  Duloxetine          Remission   \n",
       "...         ...        ...     ...       ...         ...                ...   \n",
       "1463          1          1      27    severe  Fluoxetine          Remission   \n",
       "1464          1          1      26    severe  Fluoxetine     Full Remission   \n",
       "1465          0          1      13      mild  Fluoxetine          Remission   \n",
       "1466          2          1      20  moderate  Fluoxetine          Remission   \n",
       "1467          2          2      28    severe  Fluoxetine     Full Remission   \n",
       "\n",
       "           Difference          Response  \n",
       "0         Improvement     Full Response  \n",
       "1               Worst       No Response  \n",
       "2         Improvement     Full Response  \n",
       "3               Worst       No Response  \n",
       "4               Worst       No Response  \n",
       "...               ...               ...  \n",
       "1463  Big Improvement     Full Response  \n",
       "1464  Big Improvement     Full Response  \n",
       "1465            Worst       No Response  \n",
       "1466      Improvement  Partial Response  \n",
       "1467  Big Improvement     Full Response  \n",
       "\n",
       "[1457 rows x 8 columns]"
      ]
     },
     "execution_count": 198,
     "metadata": {},
     "output_type": "execute_result"
    }
   ],
   "source": [
    "hdrs = pd.read_csv('hdrs_RDR.csv')\n",
    "\n",
    "df2 = df\n",
    "df2['DRUG'] = df_v1.loc[:, [col for col in df_v1 if col.startswith('DRUG')]]\n",
    "df2['Remission'] = hdrs.loc[:, [col for col in hdrs if col.startswith('Remission')]]\n",
    "df2['Difference'] = hdrs.loc[:, [col for col in hdrs if col.startswith('Difference')]]\n",
    "df2['Response'] = hdrs.loc[:, [col for col in hdrs if col.startswith('Response')]]\n",
    "\n",
    "remission_labels = [\"Full Remission\", \"Remission\", \"Partial Remission\", \"No/Mild Remission\"]\n",
    "difference_labels = [\"Worst\", \"No Change\", \"Improvement\", \"Big Improvement\"]\n",
    "response_labels = [\"No Response\", \"Partial Response\", \"Full Response\"]\n",
    "\n",
    "df2"
   ]
  },
  {
   "cell_type": "markdown",
   "metadata": {},
   "source": [
    "# Agitation Only for each drug"
   ]
  },
  {
   "cell_type": "code",
   "execution_count": 199,
   "metadata": {},
   "outputs": [
    {
     "data": {
      "application/vnd.plotly.v1+json": {
       "config": {
        "plotlyServerURL": "https://plot.ly"
       },
       "data": [
        {
         "name": "Remission",
         "type": "histogram",
         "x": [
          "Remission",
          "Full Remission",
          "Full Remission",
          "Remission",
          "Remission",
          "Remission",
          "Full Remission",
          "Remission",
          "Remission",
          "Remission",
          "Partial Remission",
          "Remission",
          "Partial Remission",
          "Remission",
          "Full Remission",
          "Remission",
          "Full Remission",
          "Full Remission",
          "Partial Remission",
          "Full Remission",
          "Remission",
          "Remission",
          "Remission",
          "Full Remission",
          "Partial Remission",
          "Full Remission",
          "Remission",
          "Remission",
          "No/Mild Remission",
          "Remission",
          "Remission",
          "Remission",
          "Remission",
          "Remission",
          "Remission",
          "Remission",
          "Remission",
          "Remission",
          "Full Remission",
          "Full Remission",
          "Full Remission",
          "Remission",
          "No/Mild Remission",
          "Remission",
          "Remission",
          "Full Remission",
          "Partial Remission",
          "Remission",
          "Remission",
          "No/Mild Remission",
          "Remission",
          "Full Remission",
          "Remission",
          "Remission",
          "Full Remission",
          "Full Remission",
          "Full Remission",
          "Remission",
          "Remission",
          "Remission",
          "Full Remission",
          "Full Remission",
          "Remission",
          "Remission",
          "Remission",
          "Partial Remission",
          "Full Remission",
          "Full Remission",
          "Remission",
          "Remission",
          "Full Remission",
          "Full Remission",
          "Full Remission",
          "Full Remission",
          "Partial Remission",
          "Remission",
          "Remission",
          "Full Remission",
          "Full Remission",
          "Full Remission",
          "Full Remission",
          "Remission",
          "Full Remission",
          "Full Remission",
          "Full Remission",
          "Full Remission",
          "No/Mild Remission",
          "Remission",
          "Remission",
          "Full Remission",
          "Remission",
          "Remission",
          "Full Remission",
          "Remission",
          "Full Remission",
          "Full Remission",
          "Remission",
          "Remission",
          "Full Remission",
          "Full Remission",
          "Full Remission",
          "Full Remission",
          "Partial Remission",
          "Full Remission",
          "Remission",
          "Full Remission",
          "Remission",
          "Full Remission",
          "Remission",
          "Full Remission",
          "Partial Remission",
          "Full Remission",
          "Remission",
          "Remission",
          "Full Remission",
          "Full Remission",
          "Remission",
          "Full Remission",
          "Full Remission",
          "Remission",
          "Full Remission",
          "Full Remission",
          "Remission",
          "Remission",
          "Remission",
          "Full Remission",
          "Full Remission",
          "Remission",
          "Remission",
          "Full Remission",
          "Full Remission",
          "Full Remission",
          "Remission",
          "Full Remission",
          "Remission",
          "Remission",
          "Remission",
          "Remission",
          "Remission",
          "Full Remission",
          "Full Remission",
          "Full Remission",
          "Full Remission",
          "Remission",
          "Remission",
          "Remission",
          "Remission",
          "Full Remission",
          "Full Remission",
          "Full Remission",
          "Full Remission",
          "Full Remission",
          "Full Remission",
          "Full Remission",
          "Partial Remission",
          "Remission",
          "Remission",
          "Full Remission",
          "Remission",
          "Full Remission",
          "Full Remission",
          "Full Remission",
          "Full Remission",
          "Remission",
          "No/Mild Remission",
          "Full Remission",
          "Full Remission",
          "Remission",
          "Full Remission",
          "Remission",
          "Remission",
          "Partial Remission",
          "Remission",
          "Remission",
          "Full Remission",
          "Full Remission",
          "Full Remission",
          "Remission",
          "Full Remission",
          "Full Remission",
          "Remission",
          "Full Remission",
          "Full Remission",
          "Remission",
          "Remission",
          "Full Remission",
          "Full Remission",
          "Full Remission",
          "Full Remission",
          "Full Remission",
          "Remission"
         ],
         "xaxis": "x",
         "yaxis": "y"
        },
        {
         "name": "Difference",
         "type": "histogram",
         "x": [
          "Worst",
          "Improvement",
          "Improvement",
          "Improvement",
          "Improvement",
          "Improvement",
          "Improvement",
          "Improvement",
          "Improvement",
          "Worst",
          "Improvement",
          "Improvement",
          "Improvement",
          "Improvement",
          "Improvement",
          "Worst",
          "Improvement",
          "Big Improvement",
          "Worst",
          "Improvement",
          "Improvement",
          "Improvement",
          "Improvement",
          "Improvement",
          "Worst",
          "Improvement",
          "Improvement",
          "Improvement",
          "Worst",
          "Improvement",
          "Improvement",
          "Improvement",
          "Improvement",
          "Improvement",
          "Improvement",
          "Worst",
          "Improvement",
          "Improvement",
          "Worst",
          "Improvement",
          "Improvement",
          "Worst",
          "Worst",
          "Improvement",
          "Improvement",
          "Improvement",
          "Worst",
          "Worst",
          "Big Improvement",
          "Worst",
          "Improvement",
          "Big Improvement",
          "Improvement",
          "Big Improvement",
          "Big Improvement",
          "Improvement",
          "Improvement",
          "Improvement",
          "Improvement",
          "Improvement",
          "Big Improvement",
          "Improvement",
          "Improvement",
          "Big Improvement",
          "Improvement",
          "Improvement",
          "Improvement",
          "Improvement",
          "Improvement",
          "Improvement",
          "Big Improvement",
          "Big Improvement",
          "Improvement",
          "Improvement",
          "Improvement",
          "Improvement",
          "Improvement",
          "Big Improvement",
          "Big Improvement",
          "Big Improvement",
          "Big Improvement",
          "Big Improvement",
          "Improvement",
          "Big Improvement",
          "Big Improvement",
          "Big Improvement",
          "Improvement",
          "Improvement",
          "No Change",
          "Big Improvement",
          "Big Improvement",
          "Improvement",
          "Big Improvement",
          "Improvement",
          "Improvement",
          "Big Improvement",
          "Big Improvement",
          "Improvement",
          "Big Improvement",
          "Big Improvement",
          "Improvement",
          "Improvement",
          "Improvement",
          "Big Improvement",
          "Big Improvement",
          "Big Improvement",
          "Improvement",
          "Improvement",
          "Worst",
          "Improvement",
          "Improvement",
          "Improvement",
          "Improvement",
          "Improvement",
          "Improvement",
          "Improvement",
          "No Change",
          "Improvement",
          "Improvement",
          "Improvement",
          "Improvement",
          "Improvement",
          "No Change",
          "Worst",
          "Improvement",
          "Big Improvement",
          "Improvement",
          "No Change",
          "Improvement",
          "Improvement",
          "Improvement",
          "Big Improvement",
          "Improvement",
          "Improvement",
          "Improvement",
          "Improvement",
          "Improvement",
          "Improvement",
          "Improvement",
          "Improvement",
          "Improvement",
          "Improvement",
          "Improvement",
          "Improvement",
          "Improvement",
          "Improvement",
          "Improvement",
          "Improvement",
          "Big Improvement",
          "Improvement",
          "Improvement",
          "Improvement",
          "Improvement",
          "Improvement",
          "Improvement",
          "Improvement",
          "Improvement",
          "Improvement",
          "Improvement",
          "Improvement",
          "Improvement",
          "Improvement",
          "Improvement",
          "Improvement",
          "Worst",
          "Improvement",
          "Improvement",
          "Improvement",
          "Big Improvement",
          "Improvement",
          "Improvement",
          "Improvement",
          "Improvement",
          "Improvement",
          "Improvement",
          "Big Improvement",
          "Big Improvement",
          "Improvement",
          "Improvement",
          "Improvement",
          "Improvement",
          "Improvement",
          "Improvement",
          "Improvement",
          "Improvement",
          "Improvement",
          "Improvement",
          "Improvement",
          "Improvement",
          "Improvement",
          "Improvement"
         ],
         "xaxis": "x2",
         "yaxis": "y2"
        },
        {
         "name": "Response",
         "type": "histogram",
         "x": [
          "No Response",
          "Partial Response",
          "Full Response",
          "Partial Response",
          "Full Response",
          "Partial Response",
          "Full Response",
          "Partial Response",
          "Partial Response",
          "No Response",
          "Partial Response",
          "Partial Response",
          "Partial Response",
          "Full Response",
          "Full Response",
          "No Response",
          "Full Response",
          "Full Response",
          "No Response",
          "Full Response",
          "Partial Response",
          "Partial Response",
          "Partial Response",
          "Full Response",
          "No Response",
          "Full Response",
          "Partial Response",
          "Partial Response",
          "No Response",
          "Partial Response",
          "Partial Response",
          "Partial Response",
          "Partial Response",
          "Partial Response",
          "Partial Response",
          "No Response",
          "Partial Response",
          "Partial Response",
          "No Response",
          "Full Response",
          "Partial Response",
          "No Response",
          "No Response",
          "Full Response",
          "Partial Response",
          "Full Response",
          "No Response",
          "No Response",
          "Full Response",
          "No Response",
          "Partial Response",
          "Full Response",
          "Partial Response",
          "Full Response",
          "Full Response",
          "Full Response",
          "Full Response",
          "Full Response",
          "Full Response",
          "Partial Response",
          "Full Response",
          "Full Response",
          "Full Response",
          "Full Response",
          "Partial Response",
          "Partial Response",
          "Full Response",
          "Full Response",
          "Full Response",
          "Partial Response",
          "Full Response",
          "Full Response",
          "Full Response",
          "Full Response",
          "Partial Response",
          "Full Response",
          "Partial Response",
          "Full Response",
          "Full Response",
          "Full Response",
          "Full Response",
          "Full Response",
          "Full Response",
          "Full Response",
          "Full Response",
          "Full Response",
          "Partial Response",
          "Full Response",
          "No Response",
          "Full Response",
          "Full Response",
          "Partial Response",
          "Full Response",
          "Partial Response",
          "Full Response",
          "Full Response",
          "Full Response",
          "Partial Response",
          "Full Response",
          "Full Response",
          "Full Response",
          "Full Response",
          "Partial Response",
          "Full Response",
          "Full Response",
          "Full Response",
          "Partial Response",
          "Full Response",
          "No Response",
          "Partial Response",
          "Partial Response",
          "Full Response",
          "Full Response",
          "Partial Response",
          "Full Response",
          "Full Response",
          "No Response",
          "Full Response",
          "Full Response",
          "Partial Response",
          "Full Response",
          "Full Response",
          "No Response",
          "No Response",
          "Partial Response",
          "Full Response",
          "Partial Response",
          "No Response",
          "Full Response",
          "Full Response",
          "Partial Response",
          "Full Response",
          "Full Response",
          "Full Response",
          "Partial Response",
          "Partial Response",
          "Partial Response",
          "Full Response",
          "Full Response",
          "Full Response",
          "Full Response",
          "Full Response",
          "Full Response",
          "Partial Response",
          "Partial Response",
          "Full Response",
          "Partial Response",
          "Full Response",
          "Full Response",
          "Full Response",
          "Full Response",
          "Full Response",
          "Full Response",
          "Partial Response",
          "Partial Response",
          "Full Response",
          "Partial Response",
          "Full Response",
          "Full Response",
          "Full Response",
          "Full Response",
          "Full Response",
          "Full Response",
          "Partial Response",
          "No Response",
          "Full Response",
          "Full Response",
          "Partial Response",
          "Full Response",
          "Full Response",
          "Partial Response",
          "Partial Response",
          "Partial Response",
          "Partial Response",
          "Full Response",
          "Full Response",
          "Full Response",
          "Partial Response",
          "Full Response",
          "Full Response",
          "Partial Response",
          "Full Response",
          "Full Response",
          "Partial Response",
          "Partial Response",
          "Full Response",
          "Full Response",
          "Full Response",
          "Full Response",
          "Full Response",
          "Full Response"
         ],
         "xaxis": "x3",
         "yaxis": "y3"
        }
       ],
       "layout": {
        "font": {
         "size": 17
        },
        "height": 900,
        "showlegend": true,
        "template": {
         "data": {
          "bar": [
           {
            "error_x": {
             "color": "#2a3f5f"
            },
            "error_y": {
             "color": "#2a3f5f"
            },
            "marker": {
             "line": {
              "color": "#E5ECF6",
              "width": 0.5
             },
             "pattern": {
              "fillmode": "overlay",
              "size": 10,
              "solidity": 0.2
             }
            },
            "type": "bar"
           }
          ],
          "barpolar": [
           {
            "marker": {
             "line": {
              "color": "#E5ECF6",
              "width": 0.5
             },
             "pattern": {
              "fillmode": "overlay",
              "size": 10,
              "solidity": 0.2
             }
            },
            "type": "barpolar"
           }
          ],
          "carpet": [
           {
            "aaxis": {
             "endlinecolor": "#2a3f5f",
             "gridcolor": "white",
             "linecolor": "white",
             "minorgridcolor": "white",
             "startlinecolor": "#2a3f5f"
            },
            "baxis": {
             "endlinecolor": "#2a3f5f",
             "gridcolor": "white",
             "linecolor": "white",
             "minorgridcolor": "white",
             "startlinecolor": "#2a3f5f"
            },
            "type": "carpet"
           }
          ],
          "choropleth": [
           {
            "colorbar": {
             "outlinewidth": 0,
             "ticks": ""
            },
            "type": "choropleth"
           }
          ],
          "contour": [
           {
            "colorbar": {
             "outlinewidth": 0,
             "ticks": ""
            },
            "colorscale": [
             [
              0,
              "#0d0887"
             ],
             [
              0.1111111111111111,
              "#46039f"
             ],
             [
              0.2222222222222222,
              "#7201a8"
             ],
             [
              0.3333333333333333,
              "#9c179e"
             ],
             [
              0.4444444444444444,
              "#bd3786"
             ],
             [
              0.5555555555555556,
              "#d8576b"
             ],
             [
              0.6666666666666666,
              "#ed7953"
             ],
             [
              0.7777777777777778,
              "#fb9f3a"
             ],
             [
              0.8888888888888888,
              "#fdca26"
             ],
             [
              1,
              "#f0f921"
             ]
            ],
            "type": "contour"
           }
          ],
          "contourcarpet": [
           {
            "colorbar": {
             "outlinewidth": 0,
             "ticks": ""
            },
            "type": "contourcarpet"
           }
          ],
          "heatmap": [
           {
            "colorbar": {
             "outlinewidth": 0,
             "ticks": ""
            },
            "colorscale": [
             [
              0,
              "#0d0887"
             ],
             [
              0.1111111111111111,
              "#46039f"
             ],
             [
              0.2222222222222222,
              "#7201a8"
             ],
             [
              0.3333333333333333,
              "#9c179e"
             ],
             [
              0.4444444444444444,
              "#bd3786"
             ],
             [
              0.5555555555555556,
              "#d8576b"
             ],
             [
              0.6666666666666666,
              "#ed7953"
             ],
             [
              0.7777777777777778,
              "#fb9f3a"
             ],
             [
              0.8888888888888888,
              "#fdca26"
             ],
             [
              1,
              "#f0f921"
             ]
            ],
            "type": "heatmap"
           }
          ],
          "heatmapgl": [
           {
            "colorbar": {
             "outlinewidth": 0,
             "ticks": ""
            },
            "colorscale": [
             [
              0,
              "#0d0887"
             ],
             [
              0.1111111111111111,
              "#46039f"
             ],
             [
              0.2222222222222222,
              "#7201a8"
             ],
             [
              0.3333333333333333,
              "#9c179e"
             ],
             [
              0.4444444444444444,
              "#bd3786"
             ],
             [
              0.5555555555555556,
              "#d8576b"
             ],
             [
              0.6666666666666666,
              "#ed7953"
             ],
             [
              0.7777777777777778,
              "#fb9f3a"
             ],
             [
              0.8888888888888888,
              "#fdca26"
             ],
             [
              1,
              "#f0f921"
             ]
            ],
            "type": "heatmapgl"
           }
          ],
          "histogram": [
           {
            "marker": {
             "pattern": {
              "fillmode": "overlay",
              "size": 10,
              "solidity": 0.2
             }
            },
            "type": "histogram"
           }
          ],
          "histogram2d": [
           {
            "colorbar": {
             "outlinewidth": 0,
             "ticks": ""
            },
            "colorscale": [
             [
              0,
              "#0d0887"
             ],
             [
              0.1111111111111111,
              "#46039f"
             ],
             [
              0.2222222222222222,
              "#7201a8"
             ],
             [
              0.3333333333333333,
              "#9c179e"
             ],
             [
              0.4444444444444444,
              "#bd3786"
             ],
             [
              0.5555555555555556,
              "#d8576b"
             ],
             [
              0.6666666666666666,
              "#ed7953"
             ],
             [
              0.7777777777777778,
              "#fb9f3a"
             ],
             [
              0.8888888888888888,
              "#fdca26"
             ],
             [
              1,
              "#f0f921"
             ]
            ],
            "type": "histogram2d"
           }
          ],
          "histogram2dcontour": [
           {
            "colorbar": {
             "outlinewidth": 0,
             "ticks": ""
            },
            "colorscale": [
             [
              0,
              "#0d0887"
             ],
             [
              0.1111111111111111,
              "#46039f"
             ],
             [
              0.2222222222222222,
              "#7201a8"
             ],
             [
              0.3333333333333333,
              "#9c179e"
             ],
             [
              0.4444444444444444,
              "#bd3786"
             ],
             [
              0.5555555555555556,
              "#d8576b"
             ],
             [
              0.6666666666666666,
              "#ed7953"
             ],
             [
              0.7777777777777778,
              "#fb9f3a"
             ],
             [
              0.8888888888888888,
              "#fdca26"
             ],
             [
              1,
              "#f0f921"
             ]
            ],
            "type": "histogram2dcontour"
           }
          ],
          "mesh3d": [
           {
            "colorbar": {
             "outlinewidth": 0,
             "ticks": ""
            },
            "type": "mesh3d"
           }
          ],
          "parcoords": [
           {
            "line": {
             "colorbar": {
              "outlinewidth": 0,
              "ticks": ""
             }
            },
            "type": "parcoords"
           }
          ],
          "pie": [
           {
            "automargin": true,
            "type": "pie"
           }
          ],
          "scatter": [
           {
            "fillpattern": {
             "fillmode": "overlay",
             "size": 10,
             "solidity": 0.2
            },
            "type": "scatter"
           }
          ],
          "scatter3d": [
           {
            "line": {
             "colorbar": {
              "outlinewidth": 0,
              "ticks": ""
             }
            },
            "marker": {
             "colorbar": {
              "outlinewidth": 0,
              "ticks": ""
             }
            },
            "type": "scatter3d"
           }
          ],
          "scattercarpet": [
           {
            "marker": {
             "colorbar": {
              "outlinewidth": 0,
              "ticks": ""
             }
            },
            "type": "scattercarpet"
           }
          ],
          "scattergeo": [
           {
            "marker": {
             "colorbar": {
              "outlinewidth": 0,
              "ticks": ""
             }
            },
            "type": "scattergeo"
           }
          ],
          "scattergl": [
           {
            "marker": {
             "colorbar": {
              "outlinewidth": 0,
              "ticks": ""
             }
            },
            "type": "scattergl"
           }
          ],
          "scattermapbox": [
           {
            "marker": {
             "colorbar": {
              "outlinewidth": 0,
              "ticks": ""
             }
            },
            "type": "scattermapbox"
           }
          ],
          "scatterpolar": [
           {
            "marker": {
             "colorbar": {
              "outlinewidth": 0,
              "ticks": ""
             }
            },
            "type": "scatterpolar"
           }
          ],
          "scatterpolargl": [
           {
            "marker": {
             "colorbar": {
              "outlinewidth": 0,
              "ticks": ""
             }
            },
            "type": "scatterpolargl"
           }
          ],
          "scatterternary": [
           {
            "marker": {
             "colorbar": {
              "outlinewidth": 0,
              "ticks": ""
             }
            },
            "type": "scatterternary"
           }
          ],
          "surface": [
           {
            "colorbar": {
             "outlinewidth": 0,
             "ticks": ""
            },
            "colorscale": [
             [
              0,
              "#0d0887"
             ],
             [
              0.1111111111111111,
              "#46039f"
             ],
             [
              0.2222222222222222,
              "#7201a8"
             ],
             [
              0.3333333333333333,
              "#9c179e"
             ],
             [
              0.4444444444444444,
              "#bd3786"
             ],
             [
              0.5555555555555556,
              "#d8576b"
             ],
             [
              0.6666666666666666,
              "#ed7953"
             ],
             [
              0.7777777777777778,
              "#fb9f3a"
             ],
             [
              0.8888888888888888,
              "#fdca26"
             ],
             [
              1,
              "#f0f921"
             ]
            ],
            "type": "surface"
           }
          ],
          "table": [
           {
            "cells": {
             "fill": {
              "color": "#EBF0F8"
             },
             "line": {
              "color": "white"
             }
            },
            "header": {
             "fill": {
              "color": "#C8D4E3"
             },
             "line": {
              "color": "white"
             }
            },
            "type": "table"
           }
          ]
         },
         "layout": {
          "annotationdefaults": {
           "arrowcolor": "#2a3f5f",
           "arrowhead": 0,
           "arrowwidth": 1
          },
          "autotypenumbers": "strict",
          "coloraxis": {
           "colorbar": {
            "outlinewidth": 0,
            "ticks": ""
           }
          },
          "colorscale": {
           "diverging": [
            [
             0,
             "#8e0152"
            ],
            [
             0.1,
             "#c51b7d"
            ],
            [
             0.2,
             "#de77ae"
            ],
            [
             0.3,
             "#f1b6da"
            ],
            [
             0.4,
             "#fde0ef"
            ],
            [
             0.5,
             "#f7f7f7"
            ],
            [
             0.6,
             "#e6f5d0"
            ],
            [
             0.7,
             "#b8e186"
            ],
            [
             0.8,
             "#7fbc41"
            ],
            [
             0.9,
             "#4d9221"
            ],
            [
             1,
             "#276419"
            ]
           ],
           "sequential": [
            [
             0,
             "#0d0887"
            ],
            [
             0.1111111111111111,
             "#46039f"
            ],
            [
             0.2222222222222222,
             "#7201a8"
            ],
            [
             0.3333333333333333,
             "#9c179e"
            ],
            [
             0.4444444444444444,
             "#bd3786"
            ],
            [
             0.5555555555555556,
             "#d8576b"
            ],
            [
             0.6666666666666666,
             "#ed7953"
            ],
            [
             0.7777777777777778,
             "#fb9f3a"
            ],
            [
             0.8888888888888888,
             "#fdca26"
            ],
            [
             1,
             "#f0f921"
            ]
           ],
           "sequentialminus": [
            [
             0,
             "#0d0887"
            ],
            [
             0.1111111111111111,
             "#46039f"
            ],
            [
             0.2222222222222222,
             "#7201a8"
            ],
            [
             0.3333333333333333,
             "#9c179e"
            ],
            [
             0.4444444444444444,
             "#bd3786"
            ],
            [
             0.5555555555555556,
             "#d8576b"
            ],
            [
             0.6666666666666666,
             "#ed7953"
            ],
            [
             0.7777777777777778,
             "#fb9f3a"
            ],
            [
             0.8888888888888888,
             "#fdca26"
            ],
            [
             1,
             "#f0f921"
            ]
           ]
          },
          "colorway": [
           "#636efa",
           "#EF553B",
           "#00cc96",
           "#ab63fa",
           "#FFA15A",
           "#19d3f3",
           "#FF6692",
           "#B6E880",
           "#FF97FF",
           "#FECB52"
          ],
          "font": {
           "color": "#2a3f5f"
          },
          "geo": {
           "bgcolor": "white",
           "lakecolor": "white",
           "landcolor": "#E5ECF6",
           "showlakes": true,
           "showland": true,
           "subunitcolor": "white"
          },
          "hoverlabel": {
           "align": "left"
          },
          "hovermode": "closest",
          "mapbox": {
           "style": "light"
          },
          "paper_bgcolor": "white",
          "plot_bgcolor": "#E5ECF6",
          "polar": {
           "angularaxis": {
            "gridcolor": "white",
            "linecolor": "white",
            "ticks": ""
           },
           "bgcolor": "#E5ECF6",
           "radialaxis": {
            "gridcolor": "white",
            "linecolor": "white",
            "ticks": ""
           }
          },
          "scene": {
           "xaxis": {
            "backgroundcolor": "#E5ECF6",
            "gridcolor": "white",
            "gridwidth": 2,
            "linecolor": "white",
            "showbackground": true,
            "ticks": "",
            "zerolinecolor": "white"
           },
           "yaxis": {
            "backgroundcolor": "#E5ECF6",
            "gridcolor": "white",
            "gridwidth": 2,
            "linecolor": "white",
            "showbackground": true,
            "ticks": "",
            "zerolinecolor": "white"
           },
           "zaxis": {
            "backgroundcolor": "#E5ECF6",
            "gridcolor": "white",
            "gridwidth": 2,
            "linecolor": "white",
            "showbackground": true,
            "ticks": "",
            "zerolinecolor": "white"
           }
          },
          "shapedefaults": {
           "line": {
            "color": "#2a3f5f"
           }
          },
          "ternary": {
           "aaxis": {
            "gridcolor": "white",
            "linecolor": "white",
            "ticks": ""
           },
           "baxis": {
            "gridcolor": "white",
            "linecolor": "white",
            "ticks": ""
           },
           "bgcolor": "#E5ECF6",
           "caxis": {
            "gridcolor": "white",
            "linecolor": "white",
            "ticks": ""
           }
          },
          "title": {
           "x": 0.05
          },
          "xaxis": {
           "automargin": true,
           "gridcolor": "white",
           "linecolor": "white",
           "ticks": "",
           "title": {
            "standoff": 15
           },
           "zerolinecolor": "white",
           "zerolinewidth": 2
          },
          "yaxis": {
           "automargin": true,
           "gridcolor": "white",
           "linecolor": "white",
           "ticks": "",
           "title": {
            "standoff": 15
           },
           "zerolinecolor": "white",
           "zerolinewidth": 2
          }
         }
        },
        "title": {
         "font": {
          "size": 20
         },
         "text": "Figure 1. Agitation Only with Patients taking Duloxetine",
         "x": 0.5,
         "xanchor": "center"
        },
        "width": 1600,
        "xaxis": {
         "anchor": "y",
         "categoryarray": [
          "Full Remission",
          "Remission",
          "Partial Remission",
          "No/Mild Remission"
         ],
         "categoryorder": "array",
         "domain": [
          0,
          0.32
         ],
         "tickangle": -45
        },
        "xaxis2": {
         "anchor": "y2",
         "categoryarray": [
          "Worst",
          "No Change",
          "Improvement",
          "Big Improvement"
         ],
         "categoryorder": "array",
         "domain": [
          0.34,
          0.66
         ],
         "tickangle": -45,
         "title": {
          "text": "Drug Efficiency Labels"
         }
        },
        "xaxis3": {
         "anchor": "y3",
         "categoryarray": [
          "No Response",
          "Partial Response",
          "Full Response"
         ],
         "categoryorder": "array",
         "domain": [
          0.68,
          1
         ],
         "tickangle": -45
        },
        "yaxis": {
         "anchor": "x",
         "domain": [
          0,
          1
         ],
         "title": {
          "text": "Count"
         }
        },
        "yaxis2": {
         "anchor": "x2",
         "domain": [
          0,
          1
         ],
         "matches": "y",
         "showticklabels": false
        },
        "yaxis3": {
         "anchor": "x3",
         "domain": [
          0,
          1
         ],
         "matches": "y",
         "showticklabels": false
        }
       }
      },
      "text/html": [
       "<div>                            <div id=\"93ef82a4-4ccd-4933-af18-8bbec20664fe\" class=\"plotly-graph-div\" style=\"height:900px; width:1600px;\"></div>            <script type=\"text/javascript\">                require([\"plotly\"], function(Plotly) {                    window.PLOTLYENV=window.PLOTLYENV || {};                                    if (document.getElementById(\"93ef82a4-4ccd-4933-af18-8bbec20664fe\")) {                    Plotly.newPlot(                        \"93ef82a4-4ccd-4933-af18-8bbec20664fe\",                        [{\"name\":\"Remission\",\"x\":[\"Remission\",\"Full Remission\",\"Full Remission\",\"Remission\",\"Remission\",\"Remission\",\"Full Remission\",\"Remission\",\"Remission\",\"Remission\",\"Partial Remission\",\"Remission\",\"Partial Remission\",\"Remission\",\"Full Remission\",\"Remission\",\"Full Remission\",\"Full Remission\",\"Partial Remission\",\"Full Remission\",\"Remission\",\"Remission\",\"Remission\",\"Full Remission\",\"Partial Remission\",\"Full Remission\",\"Remission\",\"Remission\",\"No/Mild Remission\",\"Remission\",\"Remission\",\"Remission\",\"Remission\",\"Remission\",\"Remission\",\"Remission\",\"Remission\",\"Remission\",\"Full Remission\",\"Full Remission\",\"Full Remission\",\"Remission\",\"No/Mild Remission\",\"Remission\",\"Remission\",\"Full Remission\",\"Partial Remission\",\"Remission\",\"Remission\",\"No/Mild Remission\",\"Remission\",\"Full Remission\",\"Remission\",\"Remission\",\"Full Remission\",\"Full Remission\",\"Full Remission\",\"Remission\",\"Remission\",\"Remission\",\"Full Remission\",\"Full Remission\",\"Remission\",\"Remission\",\"Remission\",\"Partial Remission\",\"Full Remission\",\"Full Remission\",\"Remission\",\"Remission\",\"Full Remission\",\"Full Remission\",\"Full Remission\",\"Full Remission\",\"Partial Remission\",\"Remission\",\"Remission\",\"Full Remission\",\"Full Remission\",\"Full Remission\",\"Full Remission\",\"Remission\",\"Full Remission\",\"Full Remission\",\"Full Remission\",\"Full Remission\",\"No/Mild Remission\",\"Remission\",\"Remission\",\"Full Remission\",\"Remission\",\"Remission\",\"Full Remission\",\"Remission\",\"Full Remission\",\"Full Remission\",\"Remission\",\"Remission\",\"Full Remission\",\"Full Remission\",\"Full Remission\",\"Full Remission\",\"Partial Remission\",\"Full Remission\",\"Remission\",\"Full Remission\",\"Remission\",\"Full Remission\",\"Remission\",\"Full Remission\",\"Partial Remission\",\"Full Remission\",\"Remission\",\"Remission\",\"Full Remission\",\"Full Remission\",\"Remission\",\"Full Remission\",\"Full Remission\",\"Remission\",\"Full Remission\",\"Full Remission\",\"Remission\",\"Remission\",\"Remission\",\"Full Remission\",\"Full Remission\",\"Remission\",\"Remission\",\"Full Remission\",\"Full Remission\",\"Full Remission\",\"Remission\",\"Full Remission\",\"Remission\",\"Remission\",\"Remission\",\"Remission\",\"Remission\",\"Full Remission\",\"Full Remission\",\"Full Remission\",\"Full Remission\",\"Remission\",\"Remission\",\"Remission\",\"Remission\",\"Full Remission\",\"Full Remission\",\"Full Remission\",\"Full Remission\",\"Full Remission\",\"Full Remission\",\"Full Remission\",\"Partial Remission\",\"Remission\",\"Remission\",\"Full Remission\",\"Remission\",\"Full Remission\",\"Full Remission\",\"Full Remission\",\"Full Remission\",\"Remission\",\"No/Mild Remission\",\"Full Remission\",\"Full Remission\",\"Remission\",\"Full Remission\",\"Remission\",\"Remission\",\"Partial Remission\",\"Remission\",\"Remission\",\"Full Remission\",\"Full Remission\",\"Full Remission\",\"Remission\",\"Full Remission\",\"Full Remission\",\"Remission\",\"Full Remission\",\"Full Remission\",\"Remission\",\"Remission\",\"Full Remission\",\"Full Remission\",\"Full Remission\",\"Full Remission\",\"Full Remission\",\"Remission\"],\"type\":\"histogram\",\"xaxis\":\"x\",\"yaxis\":\"y\"},{\"name\":\"Difference\",\"x\":[\"Worst\",\"Improvement\",\"Improvement\",\"Improvement\",\"Improvement\",\"Improvement\",\"Improvement\",\"Improvement\",\"Improvement\",\"Worst\",\"Improvement\",\"Improvement\",\"Improvement\",\"Improvement\",\"Improvement\",\"Worst\",\"Improvement\",\"Big Improvement\",\"Worst\",\"Improvement\",\"Improvement\",\"Improvement\",\"Improvement\",\"Improvement\",\"Worst\",\"Improvement\",\"Improvement\",\"Improvement\",\"Worst\",\"Improvement\",\"Improvement\",\"Improvement\",\"Improvement\",\"Improvement\",\"Improvement\",\"Worst\",\"Improvement\",\"Improvement\",\"Worst\",\"Improvement\",\"Improvement\",\"Worst\",\"Worst\",\"Improvement\",\"Improvement\",\"Improvement\",\"Worst\",\"Worst\",\"Big Improvement\",\"Worst\",\"Improvement\",\"Big Improvement\",\"Improvement\",\"Big Improvement\",\"Big Improvement\",\"Improvement\",\"Improvement\",\"Improvement\",\"Improvement\",\"Improvement\",\"Big Improvement\",\"Improvement\",\"Improvement\",\"Big Improvement\",\"Improvement\",\"Improvement\",\"Improvement\",\"Improvement\",\"Improvement\",\"Improvement\",\"Big Improvement\",\"Big Improvement\",\"Improvement\",\"Improvement\",\"Improvement\",\"Improvement\",\"Improvement\",\"Big Improvement\",\"Big Improvement\",\"Big Improvement\",\"Big Improvement\",\"Big Improvement\",\"Improvement\",\"Big Improvement\",\"Big Improvement\",\"Big Improvement\",\"Improvement\",\"Improvement\",\"No Change\",\"Big Improvement\",\"Big Improvement\",\"Improvement\",\"Big Improvement\",\"Improvement\",\"Improvement\",\"Big Improvement\",\"Big Improvement\",\"Improvement\",\"Big Improvement\",\"Big Improvement\",\"Improvement\",\"Improvement\",\"Improvement\",\"Big Improvement\",\"Big Improvement\",\"Big Improvement\",\"Improvement\",\"Improvement\",\"Worst\",\"Improvement\",\"Improvement\",\"Improvement\",\"Improvement\",\"Improvement\",\"Improvement\",\"Improvement\",\"No Change\",\"Improvement\",\"Improvement\",\"Improvement\",\"Improvement\",\"Improvement\",\"No Change\",\"Worst\",\"Improvement\",\"Big Improvement\",\"Improvement\",\"No Change\",\"Improvement\",\"Improvement\",\"Improvement\",\"Big Improvement\",\"Improvement\",\"Improvement\",\"Improvement\",\"Improvement\",\"Improvement\",\"Improvement\",\"Improvement\",\"Improvement\",\"Improvement\",\"Improvement\",\"Improvement\",\"Improvement\",\"Improvement\",\"Improvement\",\"Improvement\",\"Improvement\",\"Big Improvement\",\"Improvement\",\"Improvement\",\"Improvement\",\"Improvement\",\"Improvement\",\"Improvement\",\"Improvement\",\"Improvement\",\"Improvement\",\"Improvement\",\"Improvement\",\"Improvement\",\"Improvement\",\"Improvement\",\"Improvement\",\"Worst\",\"Improvement\",\"Improvement\",\"Improvement\",\"Big Improvement\",\"Improvement\",\"Improvement\",\"Improvement\",\"Improvement\",\"Improvement\",\"Improvement\",\"Big Improvement\",\"Big Improvement\",\"Improvement\",\"Improvement\",\"Improvement\",\"Improvement\",\"Improvement\",\"Improvement\",\"Improvement\",\"Improvement\",\"Improvement\",\"Improvement\",\"Improvement\",\"Improvement\",\"Improvement\",\"Improvement\"],\"type\":\"histogram\",\"xaxis\":\"x2\",\"yaxis\":\"y2\"},{\"name\":\"Response\",\"x\":[\"No Response\",\"Partial Response\",\"Full Response\",\"Partial Response\",\"Full Response\",\"Partial Response\",\"Full Response\",\"Partial Response\",\"Partial Response\",\"No Response\",\"Partial Response\",\"Partial Response\",\"Partial Response\",\"Full Response\",\"Full Response\",\"No Response\",\"Full Response\",\"Full Response\",\"No Response\",\"Full Response\",\"Partial Response\",\"Partial Response\",\"Partial Response\",\"Full Response\",\"No Response\",\"Full Response\",\"Partial Response\",\"Partial Response\",\"No Response\",\"Partial Response\",\"Partial Response\",\"Partial Response\",\"Partial Response\",\"Partial Response\",\"Partial Response\",\"No Response\",\"Partial Response\",\"Partial Response\",\"No Response\",\"Full Response\",\"Partial Response\",\"No Response\",\"No Response\",\"Full Response\",\"Partial Response\",\"Full Response\",\"No Response\",\"No Response\",\"Full Response\",\"No Response\",\"Partial Response\",\"Full Response\",\"Partial Response\",\"Full Response\",\"Full Response\",\"Full Response\",\"Full Response\",\"Full Response\",\"Full Response\",\"Partial Response\",\"Full Response\",\"Full Response\",\"Full Response\",\"Full Response\",\"Partial Response\",\"Partial Response\",\"Full Response\",\"Full Response\",\"Full Response\",\"Partial Response\",\"Full Response\",\"Full Response\",\"Full Response\",\"Full Response\",\"Partial Response\",\"Full Response\",\"Partial Response\",\"Full Response\",\"Full Response\",\"Full Response\",\"Full Response\",\"Full Response\",\"Full Response\",\"Full Response\",\"Full Response\",\"Full Response\",\"Partial Response\",\"Full Response\",\"No Response\",\"Full Response\",\"Full Response\",\"Partial Response\",\"Full Response\",\"Partial Response\",\"Full Response\",\"Full Response\",\"Full Response\",\"Partial Response\",\"Full Response\",\"Full Response\",\"Full Response\",\"Full Response\",\"Partial Response\",\"Full Response\",\"Full Response\",\"Full Response\",\"Partial Response\",\"Full Response\",\"No Response\",\"Partial Response\",\"Partial Response\",\"Full Response\",\"Full Response\",\"Partial Response\",\"Full Response\",\"Full Response\",\"No Response\",\"Full Response\",\"Full Response\",\"Partial Response\",\"Full Response\",\"Full Response\",\"No Response\",\"No Response\",\"Partial Response\",\"Full Response\",\"Partial Response\",\"No Response\",\"Full Response\",\"Full Response\",\"Partial Response\",\"Full Response\",\"Full Response\",\"Full Response\",\"Partial Response\",\"Partial Response\",\"Partial Response\",\"Full Response\",\"Full Response\",\"Full Response\",\"Full Response\",\"Full Response\",\"Full Response\",\"Partial Response\",\"Partial Response\",\"Full Response\",\"Partial Response\",\"Full Response\",\"Full Response\",\"Full Response\",\"Full Response\",\"Full Response\",\"Full Response\",\"Partial Response\",\"Partial Response\",\"Full Response\",\"Partial Response\",\"Full Response\",\"Full Response\",\"Full Response\",\"Full Response\",\"Full Response\",\"Full Response\",\"Partial Response\",\"No Response\",\"Full Response\",\"Full Response\",\"Partial Response\",\"Full Response\",\"Full Response\",\"Partial Response\",\"Partial Response\",\"Partial Response\",\"Partial Response\",\"Full Response\",\"Full Response\",\"Full Response\",\"Partial Response\",\"Full Response\",\"Full Response\",\"Partial Response\",\"Full Response\",\"Full Response\",\"Partial Response\",\"Partial Response\",\"Full Response\",\"Full Response\",\"Full Response\",\"Full Response\",\"Full Response\",\"Full Response\"],\"type\":\"histogram\",\"xaxis\":\"x3\",\"yaxis\":\"y3\"}],                        {\"template\":{\"data\":{\"histogram2dcontour\":[{\"type\":\"histogram2dcontour\",\"colorbar\":{\"outlinewidth\":0,\"ticks\":\"\"},\"colorscale\":[[0.0,\"#0d0887\"],[0.1111111111111111,\"#46039f\"],[0.2222222222222222,\"#7201a8\"],[0.3333333333333333,\"#9c179e\"],[0.4444444444444444,\"#bd3786\"],[0.5555555555555556,\"#d8576b\"],[0.6666666666666666,\"#ed7953\"],[0.7777777777777778,\"#fb9f3a\"],[0.8888888888888888,\"#fdca26\"],[1.0,\"#f0f921\"]]}],\"choropleth\":[{\"type\":\"choropleth\",\"colorbar\":{\"outlinewidth\":0,\"ticks\":\"\"}}],\"histogram2d\":[{\"type\":\"histogram2d\",\"colorbar\":{\"outlinewidth\":0,\"ticks\":\"\"},\"colorscale\":[[0.0,\"#0d0887\"],[0.1111111111111111,\"#46039f\"],[0.2222222222222222,\"#7201a8\"],[0.3333333333333333,\"#9c179e\"],[0.4444444444444444,\"#bd3786\"],[0.5555555555555556,\"#d8576b\"],[0.6666666666666666,\"#ed7953\"],[0.7777777777777778,\"#fb9f3a\"],[0.8888888888888888,\"#fdca26\"],[1.0,\"#f0f921\"]]}],\"heatmap\":[{\"type\":\"heatmap\",\"colorbar\":{\"outlinewidth\":0,\"ticks\":\"\"},\"colorscale\":[[0.0,\"#0d0887\"],[0.1111111111111111,\"#46039f\"],[0.2222222222222222,\"#7201a8\"],[0.3333333333333333,\"#9c179e\"],[0.4444444444444444,\"#bd3786\"],[0.5555555555555556,\"#d8576b\"],[0.6666666666666666,\"#ed7953\"],[0.7777777777777778,\"#fb9f3a\"],[0.8888888888888888,\"#fdca26\"],[1.0,\"#f0f921\"]]}],\"heatmapgl\":[{\"type\":\"heatmapgl\",\"colorbar\":{\"outlinewidth\":0,\"ticks\":\"\"},\"colorscale\":[[0.0,\"#0d0887\"],[0.1111111111111111,\"#46039f\"],[0.2222222222222222,\"#7201a8\"],[0.3333333333333333,\"#9c179e\"],[0.4444444444444444,\"#bd3786\"],[0.5555555555555556,\"#d8576b\"],[0.6666666666666666,\"#ed7953\"],[0.7777777777777778,\"#fb9f3a\"],[0.8888888888888888,\"#fdca26\"],[1.0,\"#f0f921\"]]}],\"contourcarpet\":[{\"type\":\"contourcarpet\",\"colorbar\":{\"outlinewidth\":0,\"ticks\":\"\"}}],\"contour\":[{\"type\":\"contour\",\"colorbar\":{\"outlinewidth\":0,\"ticks\":\"\"},\"colorscale\":[[0.0,\"#0d0887\"],[0.1111111111111111,\"#46039f\"],[0.2222222222222222,\"#7201a8\"],[0.3333333333333333,\"#9c179e\"],[0.4444444444444444,\"#bd3786\"],[0.5555555555555556,\"#d8576b\"],[0.6666666666666666,\"#ed7953\"],[0.7777777777777778,\"#fb9f3a\"],[0.8888888888888888,\"#fdca26\"],[1.0,\"#f0f921\"]]}],\"surface\":[{\"type\":\"surface\",\"colorbar\":{\"outlinewidth\":0,\"ticks\":\"\"},\"colorscale\":[[0.0,\"#0d0887\"],[0.1111111111111111,\"#46039f\"],[0.2222222222222222,\"#7201a8\"],[0.3333333333333333,\"#9c179e\"],[0.4444444444444444,\"#bd3786\"],[0.5555555555555556,\"#d8576b\"],[0.6666666666666666,\"#ed7953\"],[0.7777777777777778,\"#fb9f3a\"],[0.8888888888888888,\"#fdca26\"],[1.0,\"#f0f921\"]]}],\"mesh3d\":[{\"type\":\"mesh3d\",\"colorbar\":{\"outlinewidth\":0,\"ticks\":\"\"}}],\"scatter\":[{\"fillpattern\":{\"fillmode\":\"overlay\",\"size\":10,\"solidity\":0.2},\"type\":\"scatter\"}],\"parcoords\":[{\"type\":\"parcoords\",\"line\":{\"colorbar\":{\"outlinewidth\":0,\"ticks\":\"\"}}}],\"scatterpolargl\":[{\"type\":\"scatterpolargl\",\"marker\":{\"colorbar\":{\"outlinewidth\":0,\"ticks\":\"\"}}}],\"bar\":[{\"error_x\":{\"color\":\"#2a3f5f\"},\"error_y\":{\"color\":\"#2a3f5f\"},\"marker\":{\"line\":{\"color\":\"#E5ECF6\",\"width\":0.5},\"pattern\":{\"fillmode\":\"overlay\",\"size\":10,\"solidity\":0.2}},\"type\":\"bar\"}],\"scattergeo\":[{\"type\":\"scattergeo\",\"marker\":{\"colorbar\":{\"outlinewidth\":0,\"ticks\":\"\"}}}],\"scatterpolar\":[{\"type\":\"scatterpolar\",\"marker\":{\"colorbar\":{\"outlinewidth\":0,\"ticks\":\"\"}}}],\"histogram\":[{\"marker\":{\"pattern\":{\"fillmode\":\"overlay\",\"size\":10,\"solidity\":0.2}},\"type\":\"histogram\"}],\"scattergl\":[{\"type\":\"scattergl\",\"marker\":{\"colorbar\":{\"outlinewidth\":0,\"ticks\":\"\"}}}],\"scatter3d\":[{\"type\":\"scatter3d\",\"line\":{\"colorbar\":{\"outlinewidth\":0,\"ticks\":\"\"}},\"marker\":{\"colorbar\":{\"outlinewidth\":0,\"ticks\":\"\"}}}],\"scattermapbox\":[{\"type\":\"scattermapbox\",\"marker\":{\"colorbar\":{\"outlinewidth\":0,\"ticks\":\"\"}}}],\"scatterternary\":[{\"type\":\"scatterternary\",\"marker\":{\"colorbar\":{\"outlinewidth\":0,\"ticks\":\"\"}}}],\"scattercarpet\":[{\"type\":\"scattercarpet\",\"marker\":{\"colorbar\":{\"outlinewidth\":0,\"ticks\":\"\"}}}],\"carpet\":[{\"aaxis\":{\"endlinecolor\":\"#2a3f5f\",\"gridcolor\":\"white\",\"linecolor\":\"white\",\"minorgridcolor\":\"white\",\"startlinecolor\":\"#2a3f5f\"},\"baxis\":{\"endlinecolor\":\"#2a3f5f\",\"gridcolor\":\"white\",\"linecolor\":\"white\",\"minorgridcolor\":\"white\",\"startlinecolor\":\"#2a3f5f\"},\"type\":\"carpet\"}],\"table\":[{\"cells\":{\"fill\":{\"color\":\"#EBF0F8\"},\"line\":{\"color\":\"white\"}},\"header\":{\"fill\":{\"color\":\"#C8D4E3\"},\"line\":{\"color\":\"white\"}},\"type\":\"table\"}],\"barpolar\":[{\"marker\":{\"line\":{\"color\":\"#E5ECF6\",\"width\":0.5},\"pattern\":{\"fillmode\":\"overlay\",\"size\":10,\"solidity\":0.2}},\"type\":\"barpolar\"}],\"pie\":[{\"automargin\":true,\"type\":\"pie\"}]},\"layout\":{\"autotypenumbers\":\"strict\",\"colorway\":[\"#636efa\",\"#EF553B\",\"#00cc96\",\"#ab63fa\",\"#FFA15A\",\"#19d3f3\",\"#FF6692\",\"#B6E880\",\"#FF97FF\",\"#FECB52\"],\"font\":{\"color\":\"#2a3f5f\"},\"hovermode\":\"closest\",\"hoverlabel\":{\"align\":\"left\"},\"paper_bgcolor\":\"white\",\"plot_bgcolor\":\"#E5ECF6\",\"polar\":{\"bgcolor\":\"#E5ECF6\",\"angularaxis\":{\"gridcolor\":\"white\",\"linecolor\":\"white\",\"ticks\":\"\"},\"radialaxis\":{\"gridcolor\":\"white\",\"linecolor\":\"white\",\"ticks\":\"\"}},\"ternary\":{\"bgcolor\":\"#E5ECF6\",\"aaxis\":{\"gridcolor\":\"white\",\"linecolor\":\"white\",\"ticks\":\"\"},\"baxis\":{\"gridcolor\":\"white\",\"linecolor\":\"white\",\"ticks\":\"\"},\"caxis\":{\"gridcolor\":\"white\",\"linecolor\":\"white\",\"ticks\":\"\"}},\"coloraxis\":{\"colorbar\":{\"outlinewidth\":0,\"ticks\":\"\"}},\"colorscale\":{\"sequential\":[[0.0,\"#0d0887\"],[0.1111111111111111,\"#46039f\"],[0.2222222222222222,\"#7201a8\"],[0.3333333333333333,\"#9c179e\"],[0.4444444444444444,\"#bd3786\"],[0.5555555555555556,\"#d8576b\"],[0.6666666666666666,\"#ed7953\"],[0.7777777777777778,\"#fb9f3a\"],[0.8888888888888888,\"#fdca26\"],[1.0,\"#f0f921\"]],\"sequentialminus\":[[0.0,\"#0d0887\"],[0.1111111111111111,\"#46039f\"],[0.2222222222222222,\"#7201a8\"],[0.3333333333333333,\"#9c179e\"],[0.4444444444444444,\"#bd3786\"],[0.5555555555555556,\"#d8576b\"],[0.6666666666666666,\"#ed7953\"],[0.7777777777777778,\"#fb9f3a\"],[0.8888888888888888,\"#fdca26\"],[1.0,\"#f0f921\"]],\"diverging\":[[0,\"#8e0152\"],[0.1,\"#c51b7d\"],[0.2,\"#de77ae\"],[0.3,\"#f1b6da\"],[0.4,\"#fde0ef\"],[0.5,\"#f7f7f7\"],[0.6,\"#e6f5d0\"],[0.7,\"#b8e186\"],[0.8,\"#7fbc41\"],[0.9,\"#4d9221\"],[1,\"#276419\"]]},\"xaxis\":{\"gridcolor\":\"white\",\"linecolor\":\"white\",\"ticks\":\"\",\"title\":{\"standoff\":15},\"zerolinecolor\":\"white\",\"automargin\":true,\"zerolinewidth\":2},\"yaxis\":{\"gridcolor\":\"white\",\"linecolor\":\"white\",\"ticks\":\"\",\"title\":{\"standoff\":15},\"zerolinecolor\":\"white\",\"automargin\":true,\"zerolinewidth\":2},\"scene\":{\"xaxis\":{\"backgroundcolor\":\"#E5ECF6\",\"gridcolor\":\"white\",\"linecolor\":\"white\",\"showbackground\":true,\"ticks\":\"\",\"zerolinecolor\":\"white\",\"gridwidth\":2},\"yaxis\":{\"backgroundcolor\":\"#E5ECF6\",\"gridcolor\":\"white\",\"linecolor\":\"white\",\"showbackground\":true,\"ticks\":\"\",\"zerolinecolor\":\"white\",\"gridwidth\":2},\"zaxis\":{\"backgroundcolor\":\"#E5ECF6\",\"gridcolor\":\"white\",\"linecolor\":\"white\",\"showbackground\":true,\"ticks\":\"\",\"zerolinecolor\":\"white\",\"gridwidth\":2}},\"shapedefaults\":{\"line\":{\"color\":\"#2a3f5f\"}},\"annotationdefaults\":{\"arrowcolor\":\"#2a3f5f\",\"arrowhead\":0,\"arrowwidth\":1},\"geo\":{\"bgcolor\":\"white\",\"landcolor\":\"#E5ECF6\",\"subunitcolor\":\"white\",\"showland\":true,\"showlakes\":true,\"lakecolor\":\"white\"},\"title\":{\"x\":0.05},\"mapbox\":{\"style\":\"light\"}}},\"xaxis\":{\"anchor\":\"y\",\"domain\":[0.0,0.32],\"categoryorder\":\"array\",\"categoryarray\":[\"Full Remission\",\"Remission\",\"Partial Remission\",\"No/Mild Remission\"],\"tickangle\":-45},\"yaxis\":{\"anchor\":\"x\",\"domain\":[0.0,1.0],\"title\":{\"text\":\"Count\"}},\"xaxis2\":{\"anchor\":\"y2\",\"domain\":[0.34,0.66],\"categoryorder\":\"array\",\"categoryarray\":[\"Worst\",\"No Change\",\"Improvement\",\"Big Improvement\"],\"title\":{\"text\":\"Drug Efficiency Labels\"},\"tickangle\":-45},\"yaxis2\":{\"anchor\":\"x2\",\"domain\":[0.0,1.0],\"matches\":\"y\",\"showticklabels\":false},\"xaxis3\":{\"anchor\":\"y3\",\"domain\":[0.68,1.0],\"categoryorder\":\"array\",\"categoryarray\":[\"No Response\",\"Partial Response\",\"Full Response\"],\"tickangle\":-45},\"yaxis3\":{\"anchor\":\"x3\",\"domain\":[0.0,1.0],\"matches\":\"y\",\"showticklabels\":false},\"font\":{\"size\":17},\"title\":{\"font\":{\"size\":20},\"text\":\"Figure 1. Agitation Only with Patients taking Duloxetine\",\"x\":0.5,\"xanchor\":\"center\"},\"showlegend\":true,\"width\":1600,\"height\":900},                        {\"responsive\": true}                    ).then(function(){\n",
       "                            \n",
       "var gd = document.getElementById('93ef82a4-4ccd-4933-af18-8bbec20664fe');\n",
       "var x = new MutationObserver(function (mutations, observer) {{\n",
       "        var display = window.getComputedStyle(gd).display;\n",
       "        if (!display || display === 'none') {{\n",
       "            console.log([gd, 'removed!']);\n",
       "            Plotly.purge(gd);\n",
       "            observer.disconnect();\n",
       "        }}\n",
       "}});\n",
       "\n",
       "// Listen for the removal of the full notebook cells\n",
       "var notebookContainer = gd.closest('#notebook-container');\n",
       "if (notebookContainer) {{\n",
       "    x.observe(notebookContainer, {childList: true});\n",
       "}}\n",
       "\n",
       "// Listen for the clearing of the current output cell\n",
       "var outputEl = gd.closest('.output');\n",
       "if (outputEl) {{\n",
       "    x.observe(outputEl, {childList: true});\n",
       "}}\n",
       "\n",
       "                        })                };                });            </script>        </div>"
      ]
     },
     "metadata": {},
     "output_type": "display_data"
    }
   ],
   "source": [
    "a_o = df2.loc[((df['V1-HAMD08'] == 0) & (df['V1-HAMD09'] > 0))]\n",
    "a_od = a_o[a_o['DRUG'] == 'Duloxetine']\n",
    "\n",
    "aod1 = go.Histogram(x = a_od['Remission'], name = 'Remission')\n",
    "aod2 = go.Histogram(x = a_od['Difference'], name = 'Difference')\n",
    "aod3 = go.Histogram(x = a_od['Response'], name = 'Response')\n",
    "\n",
    "fig1 = make_subplots(rows = 1, cols = 3, shared_yaxes = True, horizontal_spacing = 0.02)\n",
    "fig1.add_trace(aod1, row = 1, col = 1)\n",
    "fig1.add_trace(aod2, row = 1, col = 2)\n",
    "fig1.add_trace(aod3, row = 1, col = 3)\n",
    "\n",
    "fig1.update_xaxes(categoryorder = 'array', categoryarray = remission_labels, row = 1, col = 1)\n",
    "fig1.update_xaxes(categoryorder = 'array', categoryarray = difference_labels, row = 1, col = 2)\n",
    "fig1.update_xaxes(categoryorder = 'array', categoryarray = response_labels, row = 1, col = 3)\n",
    "\n",
    "fig1.update_layout(\n",
    "    font = {\n",
    "        \"size\": 17\n",
    "    },\n",
    "    \n",
    "    title = {\n",
    "        \"text\": \"Figure 1. Agitation Only with Patients taking Duloxetine\",\n",
    "        \"x\": 0.5,\n",
    "        \"xanchor\" : \"center\",\n",
    "        \"font\" : {\n",
    "            \"size\": 20\n",
    "        }\n",
    "    },\n",
    "    #xaxis =dict(tickmode = 'linear',\n",
    "    #tick0 = 0,\n",
    "    #dtick = 1),\n",
    "    xaxis1 = {\n",
    "        \"tickangle\": -45,\n",
    "    },\n",
    "    xaxis2 = {\n",
    "        \"title\" : 'Drug Efficiency Labels',\n",
    "        \"tickangle\": -45,\n",
    "    },\n",
    "    xaxis3 = {\n",
    "        \"tickangle\": -45,\n",
    "    },\n",
    "#     xaxis_title = 'Drug Efficiency Labels',\n",
    "    yaxis_title = 'Count',\n",
    "    showlegend = True,\n",
    "    width = 1600,\n",
    "    height = 900)\n",
    "\n",
    "fig1.show()\n",
    "\n",
    "#len(a_od.loc[a_od['Remission'] == 'Full Remission']\n",
    "# len(a_od[a_od['Remission'] == 'Partial Remission']),\n",
    "#                         len(a_od[a_od['Remission'] == 'No/Mild Remission'])\n",
    "\n",
    "# aod1 = go.Histogram(x = [['Remission','Remission','Remission','Remission','Remission'],\n",
    "#            ['Full Remission', 'No/Mild Remission', 'Partial Remission','Remission']],\n",
    "#                     y= [8, 9, 6, 9], name = 'Remission')"
   ]
  },
  {
   "cell_type": "code",
   "execution_count": 200,
   "metadata": {},
   "outputs": [
    {
     "data": {
      "text/plain": [
       "[5, 11, 86, 89, 16, 4, 138, 33, 20, 63, 108]"
      ]
     },
     "execution_count": 200,
     "metadata": {},
     "output_type": "execute_result"
    }
   ],
   "source": [
    "# Duloxetine Remission\n",
    "\n",
    "mild_ad = len(a_od[a_od['Remission'] == 'No/Mild Remission'])\n",
    "part_ad = len(a_od[a_od['Remission'] == 'Partial Remission'])\n",
    "remi_ad = len(a_od[a_od['Remission'] == 'Remission'])\n",
    "full_ad = len(a_od[a_od['Remission'] == 'Full Remission'])\n",
    "\n",
    "# Duloxetine Difference\n",
    "wor_ad = len(a_od[a_od['Difference'] == 'Worst'])\n",
    "nc_ad = len(a_od[a_od['Difference'] == 'No Change'])\n",
    "i_ad = len(a_od[a_od['Difference'] == 'Improvement'])\n",
    "bi_ad = len(a_od[a_od['Difference'] == 'Big Improvement'])\n",
    "\n",
    "# Duloxetine Response\n",
    "nr_ad = len(a_od[a_od['Response'] == 'No Response'])\n",
    "pr_ad = len(a_od[a_od['Response'] == 'Partial Response'])\n",
    "fr_ad = len(a_od[a_od['Response'] == 'Full Response'])\n",
    "\n",
    "ad = [mild_ad, part_ad, remi_ad, full_ad,\n",
    "        wor_ad, nc_ad, i_ad, bi_ad,\n",
    "        nr_ad, pr_ad, fr_ad]\n",
    "\n",
    "ad"
   ]
  },
  {
   "cell_type": "code",
   "execution_count": 201,
   "metadata": {},
   "outputs": [
    {
     "data": {
      "application/vnd.plotly.v1+json": {
       "config": {
        "plotlyServerURL": "https://plot.ly"
       },
       "data": [
        {
         "name": "Remission",
         "type": "histogram",
         "x": [
          "Remission",
          "Partial Remission",
          "Partial Remission",
          "Full Remission",
          "Remission",
          "Remission",
          "Remission",
          "Remission",
          "Remission",
          "Partial Remission",
          "Remission",
          "Remission",
          "Partial Remission",
          "Remission",
          "Remission",
          "Remission",
          "Remission",
          "Remission",
          "Remission",
          "Remission",
          "Remission",
          "Remission",
          "Remission"
         ],
         "xaxis": "x",
         "yaxis": "y"
        },
        {
         "name": "Difference",
         "type": "histogram",
         "x": [
          "Improvement",
          "No Change",
          "Improvement",
          "Big Improvement",
          "Improvement",
          "Improvement",
          "Improvement",
          "Improvement",
          "Improvement",
          "Improvement",
          "Improvement",
          "Improvement",
          "Improvement",
          "Improvement",
          "Improvement",
          "Improvement",
          "Improvement",
          "Improvement",
          "Improvement",
          "Improvement",
          "Improvement",
          "Improvement",
          "Improvement"
         ],
         "xaxis": "x2",
         "yaxis": "y2"
        },
        {
         "name": "Response",
         "type": "histogram",
         "x": [
          "Partial Response",
          "No Response",
          "Partial Response",
          "Full Response",
          "Full Response",
          "Partial Response",
          "Full Response",
          "Full Response",
          "Partial Response",
          "Partial Response",
          "Partial Response",
          "Full Response",
          "Partial Response",
          "Full Response",
          "Partial Response",
          "Partial Response",
          "Full Response",
          "Partial Response",
          "Partial Response",
          "Full Response",
          "Partial Response",
          "Partial Response",
          "Partial Response"
         ],
         "xaxis": "x3",
         "yaxis": "y3"
        }
       ],
       "layout": {
        "font": {
         "size": 15
        },
        "height": 900,
        "showlegend": true,
        "template": {
         "data": {
          "bar": [
           {
            "error_x": {
             "color": "#2a3f5f"
            },
            "error_y": {
             "color": "#2a3f5f"
            },
            "marker": {
             "line": {
              "color": "#E5ECF6",
              "width": 0.5
             },
             "pattern": {
              "fillmode": "overlay",
              "size": 10,
              "solidity": 0.2
             }
            },
            "type": "bar"
           }
          ],
          "barpolar": [
           {
            "marker": {
             "line": {
              "color": "#E5ECF6",
              "width": 0.5
             },
             "pattern": {
              "fillmode": "overlay",
              "size": 10,
              "solidity": 0.2
             }
            },
            "type": "barpolar"
           }
          ],
          "carpet": [
           {
            "aaxis": {
             "endlinecolor": "#2a3f5f",
             "gridcolor": "white",
             "linecolor": "white",
             "minorgridcolor": "white",
             "startlinecolor": "#2a3f5f"
            },
            "baxis": {
             "endlinecolor": "#2a3f5f",
             "gridcolor": "white",
             "linecolor": "white",
             "minorgridcolor": "white",
             "startlinecolor": "#2a3f5f"
            },
            "type": "carpet"
           }
          ],
          "choropleth": [
           {
            "colorbar": {
             "outlinewidth": 0,
             "ticks": ""
            },
            "type": "choropleth"
           }
          ],
          "contour": [
           {
            "colorbar": {
             "outlinewidth": 0,
             "ticks": ""
            },
            "colorscale": [
             [
              0,
              "#0d0887"
             ],
             [
              0.1111111111111111,
              "#46039f"
             ],
             [
              0.2222222222222222,
              "#7201a8"
             ],
             [
              0.3333333333333333,
              "#9c179e"
             ],
             [
              0.4444444444444444,
              "#bd3786"
             ],
             [
              0.5555555555555556,
              "#d8576b"
             ],
             [
              0.6666666666666666,
              "#ed7953"
             ],
             [
              0.7777777777777778,
              "#fb9f3a"
             ],
             [
              0.8888888888888888,
              "#fdca26"
             ],
             [
              1,
              "#f0f921"
             ]
            ],
            "type": "contour"
           }
          ],
          "contourcarpet": [
           {
            "colorbar": {
             "outlinewidth": 0,
             "ticks": ""
            },
            "type": "contourcarpet"
           }
          ],
          "heatmap": [
           {
            "colorbar": {
             "outlinewidth": 0,
             "ticks": ""
            },
            "colorscale": [
             [
              0,
              "#0d0887"
             ],
             [
              0.1111111111111111,
              "#46039f"
             ],
             [
              0.2222222222222222,
              "#7201a8"
             ],
             [
              0.3333333333333333,
              "#9c179e"
             ],
             [
              0.4444444444444444,
              "#bd3786"
             ],
             [
              0.5555555555555556,
              "#d8576b"
             ],
             [
              0.6666666666666666,
              "#ed7953"
             ],
             [
              0.7777777777777778,
              "#fb9f3a"
             ],
             [
              0.8888888888888888,
              "#fdca26"
             ],
             [
              1,
              "#f0f921"
             ]
            ],
            "type": "heatmap"
           }
          ],
          "heatmapgl": [
           {
            "colorbar": {
             "outlinewidth": 0,
             "ticks": ""
            },
            "colorscale": [
             [
              0,
              "#0d0887"
             ],
             [
              0.1111111111111111,
              "#46039f"
             ],
             [
              0.2222222222222222,
              "#7201a8"
             ],
             [
              0.3333333333333333,
              "#9c179e"
             ],
             [
              0.4444444444444444,
              "#bd3786"
             ],
             [
              0.5555555555555556,
              "#d8576b"
             ],
             [
              0.6666666666666666,
              "#ed7953"
             ],
             [
              0.7777777777777778,
              "#fb9f3a"
             ],
             [
              0.8888888888888888,
              "#fdca26"
             ],
             [
              1,
              "#f0f921"
             ]
            ],
            "type": "heatmapgl"
           }
          ],
          "histogram": [
           {
            "marker": {
             "pattern": {
              "fillmode": "overlay",
              "size": 10,
              "solidity": 0.2
             }
            },
            "type": "histogram"
           }
          ],
          "histogram2d": [
           {
            "colorbar": {
             "outlinewidth": 0,
             "ticks": ""
            },
            "colorscale": [
             [
              0,
              "#0d0887"
             ],
             [
              0.1111111111111111,
              "#46039f"
             ],
             [
              0.2222222222222222,
              "#7201a8"
             ],
             [
              0.3333333333333333,
              "#9c179e"
             ],
             [
              0.4444444444444444,
              "#bd3786"
             ],
             [
              0.5555555555555556,
              "#d8576b"
             ],
             [
              0.6666666666666666,
              "#ed7953"
             ],
             [
              0.7777777777777778,
              "#fb9f3a"
             ],
             [
              0.8888888888888888,
              "#fdca26"
             ],
             [
              1,
              "#f0f921"
             ]
            ],
            "type": "histogram2d"
           }
          ],
          "histogram2dcontour": [
           {
            "colorbar": {
             "outlinewidth": 0,
             "ticks": ""
            },
            "colorscale": [
             [
              0,
              "#0d0887"
             ],
             [
              0.1111111111111111,
              "#46039f"
             ],
             [
              0.2222222222222222,
              "#7201a8"
             ],
             [
              0.3333333333333333,
              "#9c179e"
             ],
             [
              0.4444444444444444,
              "#bd3786"
             ],
             [
              0.5555555555555556,
              "#d8576b"
             ],
             [
              0.6666666666666666,
              "#ed7953"
             ],
             [
              0.7777777777777778,
              "#fb9f3a"
             ],
             [
              0.8888888888888888,
              "#fdca26"
             ],
             [
              1,
              "#f0f921"
             ]
            ],
            "type": "histogram2dcontour"
           }
          ],
          "mesh3d": [
           {
            "colorbar": {
             "outlinewidth": 0,
             "ticks": ""
            },
            "type": "mesh3d"
           }
          ],
          "parcoords": [
           {
            "line": {
             "colorbar": {
              "outlinewidth": 0,
              "ticks": ""
             }
            },
            "type": "parcoords"
           }
          ],
          "pie": [
           {
            "automargin": true,
            "type": "pie"
           }
          ],
          "scatter": [
           {
            "fillpattern": {
             "fillmode": "overlay",
             "size": 10,
             "solidity": 0.2
            },
            "type": "scatter"
           }
          ],
          "scatter3d": [
           {
            "line": {
             "colorbar": {
              "outlinewidth": 0,
              "ticks": ""
             }
            },
            "marker": {
             "colorbar": {
              "outlinewidth": 0,
              "ticks": ""
             }
            },
            "type": "scatter3d"
           }
          ],
          "scattercarpet": [
           {
            "marker": {
             "colorbar": {
              "outlinewidth": 0,
              "ticks": ""
             }
            },
            "type": "scattercarpet"
           }
          ],
          "scattergeo": [
           {
            "marker": {
             "colorbar": {
              "outlinewidth": 0,
              "ticks": ""
             }
            },
            "type": "scattergeo"
           }
          ],
          "scattergl": [
           {
            "marker": {
             "colorbar": {
              "outlinewidth": 0,
              "ticks": ""
             }
            },
            "type": "scattergl"
           }
          ],
          "scattermapbox": [
           {
            "marker": {
             "colorbar": {
              "outlinewidth": 0,
              "ticks": ""
             }
            },
            "type": "scattermapbox"
           }
          ],
          "scatterpolar": [
           {
            "marker": {
             "colorbar": {
              "outlinewidth": 0,
              "ticks": ""
             }
            },
            "type": "scatterpolar"
           }
          ],
          "scatterpolargl": [
           {
            "marker": {
             "colorbar": {
              "outlinewidth": 0,
              "ticks": ""
             }
            },
            "type": "scatterpolargl"
           }
          ],
          "scatterternary": [
           {
            "marker": {
             "colorbar": {
              "outlinewidth": 0,
              "ticks": ""
             }
            },
            "type": "scatterternary"
           }
          ],
          "surface": [
           {
            "colorbar": {
             "outlinewidth": 0,
             "ticks": ""
            },
            "colorscale": [
             [
              0,
              "#0d0887"
             ],
             [
              0.1111111111111111,
              "#46039f"
             ],
             [
              0.2222222222222222,
              "#7201a8"
             ],
             [
              0.3333333333333333,
              "#9c179e"
             ],
             [
              0.4444444444444444,
              "#bd3786"
             ],
             [
              0.5555555555555556,
              "#d8576b"
             ],
             [
              0.6666666666666666,
              "#ed7953"
             ],
             [
              0.7777777777777778,
              "#fb9f3a"
             ],
             [
              0.8888888888888888,
              "#fdca26"
             ],
             [
              1,
              "#f0f921"
             ]
            ],
            "type": "surface"
           }
          ],
          "table": [
           {
            "cells": {
             "fill": {
              "color": "#EBF0F8"
             },
             "line": {
              "color": "white"
             }
            },
            "header": {
             "fill": {
              "color": "#C8D4E3"
             },
             "line": {
              "color": "white"
             }
            },
            "type": "table"
           }
          ]
         },
         "layout": {
          "annotationdefaults": {
           "arrowcolor": "#2a3f5f",
           "arrowhead": 0,
           "arrowwidth": 1
          },
          "autotypenumbers": "strict",
          "coloraxis": {
           "colorbar": {
            "outlinewidth": 0,
            "ticks": ""
           }
          },
          "colorscale": {
           "diverging": [
            [
             0,
             "#8e0152"
            ],
            [
             0.1,
             "#c51b7d"
            ],
            [
             0.2,
             "#de77ae"
            ],
            [
             0.3,
             "#f1b6da"
            ],
            [
             0.4,
             "#fde0ef"
            ],
            [
             0.5,
             "#f7f7f7"
            ],
            [
             0.6,
             "#e6f5d0"
            ],
            [
             0.7,
             "#b8e186"
            ],
            [
             0.8,
             "#7fbc41"
            ],
            [
             0.9,
             "#4d9221"
            ],
            [
             1,
             "#276419"
            ]
           ],
           "sequential": [
            [
             0,
             "#0d0887"
            ],
            [
             0.1111111111111111,
             "#46039f"
            ],
            [
             0.2222222222222222,
             "#7201a8"
            ],
            [
             0.3333333333333333,
             "#9c179e"
            ],
            [
             0.4444444444444444,
             "#bd3786"
            ],
            [
             0.5555555555555556,
             "#d8576b"
            ],
            [
             0.6666666666666666,
             "#ed7953"
            ],
            [
             0.7777777777777778,
             "#fb9f3a"
            ],
            [
             0.8888888888888888,
             "#fdca26"
            ],
            [
             1,
             "#f0f921"
            ]
           ],
           "sequentialminus": [
            [
             0,
             "#0d0887"
            ],
            [
             0.1111111111111111,
             "#46039f"
            ],
            [
             0.2222222222222222,
             "#7201a8"
            ],
            [
             0.3333333333333333,
             "#9c179e"
            ],
            [
             0.4444444444444444,
             "#bd3786"
            ],
            [
             0.5555555555555556,
             "#d8576b"
            ],
            [
             0.6666666666666666,
             "#ed7953"
            ],
            [
             0.7777777777777778,
             "#fb9f3a"
            ],
            [
             0.8888888888888888,
             "#fdca26"
            ],
            [
             1,
             "#f0f921"
            ]
           ]
          },
          "colorway": [
           "#636efa",
           "#EF553B",
           "#00cc96",
           "#ab63fa",
           "#FFA15A",
           "#19d3f3",
           "#FF6692",
           "#B6E880",
           "#FF97FF",
           "#FECB52"
          ],
          "font": {
           "color": "#2a3f5f"
          },
          "geo": {
           "bgcolor": "white",
           "lakecolor": "white",
           "landcolor": "#E5ECF6",
           "showlakes": true,
           "showland": true,
           "subunitcolor": "white"
          },
          "hoverlabel": {
           "align": "left"
          },
          "hovermode": "closest",
          "mapbox": {
           "style": "light"
          },
          "paper_bgcolor": "white",
          "plot_bgcolor": "#E5ECF6",
          "polar": {
           "angularaxis": {
            "gridcolor": "white",
            "linecolor": "white",
            "ticks": ""
           },
           "bgcolor": "#E5ECF6",
           "radialaxis": {
            "gridcolor": "white",
            "linecolor": "white",
            "ticks": ""
           }
          },
          "scene": {
           "xaxis": {
            "backgroundcolor": "#E5ECF6",
            "gridcolor": "white",
            "gridwidth": 2,
            "linecolor": "white",
            "showbackground": true,
            "ticks": "",
            "zerolinecolor": "white"
           },
           "yaxis": {
            "backgroundcolor": "#E5ECF6",
            "gridcolor": "white",
            "gridwidth": 2,
            "linecolor": "white",
            "showbackground": true,
            "ticks": "",
            "zerolinecolor": "white"
           },
           "zaxis": {
            "backgroundcolor": "#E5ECF6",
            "gridcolor": "white",
            "gridwidth": 2,
            "linecolor": "white",
            "showbackground": true,
            "ticks": "",
            "zerolinecolor": "white"
           }
          },
          "shapedefaults": {
           "line": {
            "color": "#2a3f5f"
           }
          },
          "ternary": {
           "aaxis": {
            "gridcolor": "white",
            "linecolor": "white",
            "ticks": ""
           },
           "baxis": {
            "gridcolor": "white",
            "linecolor": "white",
            "ticks": ""
           },
           "bgcolor": "#E5ECF6",
           "caxis": {
            "gridcolor": "white",
            "linecolor": "white",
            "ticks": ""
           }
          },
          "title": {
           "x": 0.05
          },
          "xaxis": {
           "automargin": true,
           "gridcolor": "white",
           "linecolor": "white",
           "ticks": "",
           "title": {
            "standoff": 15
           },
           "zerolinecolor": "white",
           "zerolinewidth": 2
          },
          "yaxis": {
           "automargin": true,
           "gridcolor": "white",
           "linecolor": "white",
           "ticks": "",
           "title": {
            "standoff": 15
           },
           "zerolinecolor": "white",
           "zerolinewidth": 2
          }
         }
        },
        "title": {
         "font": {
          "size": 20
         },
         "text": "Figure 2. Agitation Only with Patients taking Venlafaxine",
         "x": 0.5,
         "xanchor": "center"
        },
        "width": 1600,
        "xaxis": {
         "anchor": "y",
         "categoryarray": [
          "Full Remission",
          "Remission",
          "Partial Remission",
          "No/Mild Remission"
         ],
         "categoryorder": "array",
         "domain": [
          0,
          0.32
         ],
         "tickangle": -45
        },
        "xaxis2": {
         "anchor": "y2",
         "categoryarray": [
          "Worst",
          "No Change",
          "Improvement",
          "Big Improvement"
         ],
         "categoryorder": "array",
         "domain": [
          0.34,
          0.66
         ],
         "tickangle": -45,
         "title": {
          "text": "Drug Efficiency Labels"
         }
        },
        "xaxis3": {
         "anchor": "y3",
         "categoryarray": [
          "No Response",
          "Partial Response",
          "Full Response"
         ],
         "categoryorder": "array",
         "domain": [
          0.68,
          1
         ],
         "tickangle": -45
        },
        "yaxis": {
         "anchor": "x",
         "domain": [
          0,
          1
         ],
         "title": {
          "text": "Count"
         }
        },
        "yaxis2": {
         "anchor": "x2",
         "domain": [
          0,
          1
         ],
         "matches": "y",
         "showticklabels": false
        },
        "yaxis3": {
         "anchor": "x3",
         "domain": [
          0,
          1
         ],
         "matches": "y",
         "showticklabels": false
        }
       }
      },
      "text/html": [
       "<div>                            <div id=\"5dd4c74c-5e2c-4942-80e0-425a8b9cfe51\" class=\"plotly-graph-div\" style=\"height:900px; width:1600px;\"></div>            <script type=\"text/javascript\">                require([\"plotly\"], function(Plotly) {                    window.PLOTLYENV=window.PLOTLYENV || {};                                    if (document.getElementById(\"5dd4c74c-5e2c-4942-80e0-425a8b9cfe51\")) {                    Plotly.newPlot(                        \"5dd4c74c-5e2c-4942-80e0-425a8b9cfe51\",                        [{\"name\":\"Remission\",\"x\":[\"Remission\",\"Partial Remission\",\"Partial Remission\",\"Full Remission\",\"Remission\",\"Remission\",\"Remission\",\"Remission\",\"Remission\",\"Partial Remission\",\"Remission\",\"Remission\",\"Partial Remission\",\"Remission\",\"Remission\",\"Remission\",\"Remission\",\"Remission\",\"Remission\",\"Remission\",\"Remission\",\"Remission\",\"Remission\"],\"type\":\"histogram\",\"xaxis\":\"x\",\"yaxis\":\"y\"},{\"name\":\"Difference\",\"x\":[\"Improvement\",\"No Change\",\"Improvement\",\"Big Improvement\",\"Improvement\",\"Improvement\",\"Improvement\",\"Improvement\",\"Improvement\",\"Improvement\",\"Improvement\",\"Improvement\",\"Improvement\",\"Improvement\",\"Improvement\",\"Improvement\",\"Improvement\",\"Improvement\",\"Improvement\",\"Improvement\",\"Improvement\",\"Improvement\",\"Improvement\"],\"type\":\"histogram\",\"xaxis\":\"x2\",\"yaxis\":\"y2\"},{\"name\":\"Response\",\"x\":[\"Partial Response\",\"No Response\",\"Partial Response\",\"Full Response\",\"Full Response\",\"Partial Response\",\"Full Response\",\"Full Response\",\"Partial Response\",\"Partial Response\",\"Partial Response\",\"Full Response\",\"Partial Response\",\"Full Response\",\"Partial Response\",\"Partial Response\",\"Full Response\",\"Partial Response\",\"Partial Response\",\"Full Response\",\"Partial Response\",\"Partial Response\",\"Partial Response\"],\"type\":\"histogram\",\"xaxis\":\"x3\",\"yaxis\":\"y3\"}],                        {\"template\":{\"data\":{\"histogram2dcontour\":[{\"type\":\"histogram2dcontour\",\"colorbar\":{\"outlinewidth\":0,\"ticks\":\"\"},\"colorscale\":[[0.0,\"#0d0887\"],[0.1111111111111111,\"#46039f\"],[0.2222222222222222,\"#7201a8\"],[0.3333333333333333,\"#9c179e\"],[0.4444444444444444,\"#bd3786\"],[0.5555555555555556,\"#d8576b\"],[0.6666666666666666,\"#ed7953\"],[0.7777777777777778,\"#fb9f3a\"],[0.8888888888888888,\"#fdca26\"],[1.0,\"#f0f921\"]]}],\"choropleth\":[{\"type\":\"choropleth\",\"colorbar\":{\"outlinewidth\":0,\"ticks\":\"\"}}],\"histogram2d\":[{\"type\":\"histogram2d\",\"colorbar\":{\"outlinewidth\":0,\"ticks\":\"\"},\"colorscale\":[[0.0,\"#0d0887\"],[0.1111111111111111,\"#46039f\"],[0.2222222222222222,\"#7201a8\"],[0.3333333333333333,\"#9c179e\"],[0.4444444444444444,\"#bd3786\"],[0.5555555555555556,\"#d8576b\"],[0.6666666666666666,\"#ed7953\"],[0.7777777777777778,\"#fb9f3a\"],[0.8888888888888888,\"#fdca26\"],[1.0,\"#f0f921\"]]}],\"heatmap\":[{\"type\":\"heatmap\",\"colorbar\":{\"outlinewidth\":0,\"ticks\":\"\"},\"colorscale\":[[0.0,\"#0d0887\"],[0.1111111111111111,\"#46039f\"],[0.2222222222222222,\"#7201a8\"],[0.3333333333333333,\"#9c179e\"],[0.4444444444444444,\"#bd3786\"],[0.5555555555555556,\"#d8576b\"],[0.6666666666666666,\"#ed7953\"],[0.7777777777777778,\"#fb9f3a\"],[0.8888888888888888,\"#fdca26\"],[1.0,\"#f0f921\"]]}],\"heatmapgl\":[{\"type\":\"heatmapgl\",\"colorbar\":{\"outlinewidth\":0,\"ticks\":\"\"},\"colorscale\":[[0.0,\"#0d0887\"],[0.1111111111111111,\"#46039f\"],[0.2222222222222222,\"#7201a8\"],[0.3333333333333333,\"#9c179e\"],[0.4444444444444444,\"#bd3786\"],[0.5555555555555556,\"#d8576b\"],[0.6666666666666666,\"#ed7953\"],[0.7777777777777778,\"#fb9f3a\"],[0.8888888888888888,\"#fdca26\"],[1.0,\"#f0f921\"]]}],\"contourcarpet\":[{\"type\":\"contourcarpet\",\"colorbar\":{\"outlinewidth\":0,\"ticks\":\"\"}}],\"contour\":[{\"type\":\"contour\",\"colorbar\":{\"outlinewidth\":0,\"ticks\":\"\"},\"colorscale\":[[0.0,\"#0d0887\"],[0.1111111111111111,\"#46039f\"],[0.2222222222222222,\"#7201a8\"],[0.3333333333333333,\"#9c179e\"],[0.4444444444444444,\"#bd3786\"],[0.5555555555555556,\"#d8576b\"],[0.6666666666666666,\"#ed7953\"],[0.7777777777777778,\"#fb9f3a\"],[0.8888888888888888,\"#fdca26\"],[1.0,\"#f0f921\"]]}],\"surface\":[{\"type\":\"surface\",\"colorbar\":{\"outlinewidth\":0,\"ticks\":\"\"},\"colorscale\":[[0.0,\"#0d0887\"],[0.1111111111111111,\"#46039f\"],[0.2222222222222222,\"#7201a8\"],[0.3333333333333333,\"#9c179e\"],[0.4444444444444444,\"#bd3786\"],[0.5555555555555556,\"#d8576b\"],[0.6666666666666666,\"#ed7953\"],[0.7777777777777778,\"#fb9f3a\"],[0.8888888888888888,\"#fdca26\"],[1.0,\"#f0f921\"]]}],\"mesh3d\":[{\"type\":\"mesh3d\",\"colorbar\":{\"outlinewidth\":0,\"ticks\":\"\"}}],\"scatter\":[{\"fillpattern\":{\"fillmode\":\"overlay\",\"size\":10,\"solidity\":0.2},\"type\":\"scatter\"}],\"parcoords\":[{\"type\":\"parcoords\",\"line\":{\"colorbar\":{\"outlinewidth\":0,\"ticks\":\"\"}}}],\"scatterpolargl\":[{\"type\":\"scatterpolargl\",\"marker\":{\"colorbar\":{\"outlinewidth\":0,\"ticks\":\"\"}}}],\"bar\":[{\"error_x\":{\"color\":\"#2a3f5f\"},\"error_y\":{\"color\":\"#2a3f5f\"},\"marker\":{\"line\":{\"color\":\"#E5ECF6\",\"width\":0.5},\"pattern\":{\"fillmode\":\"overlay\",\"size\":10,\"solidity\":0.2}},\"type\":\"bar\"}],\"scattergeo\":[{\"type\":\"scattergeo\",\"marker\":{\"colorbar\":{\"outlinewidth\":0,\"ticks\":\"\"}}}],\"scatterpolar\":[{\"type\":\"scatterpolar\",\"marker\":{\"colorbar\":{\"outlinewidth\":0,\"ticks\":\"\"}}}],\"histogram\":[{\"marker\":{\"pattern\":{\"fillmode\":\"overlay\",\"size\":10,\"solidity\":0.2}},\"type\":\"histogram\"}],\"scattergl\":[{\"type\":\"scattergl\",\"marker\":{\"colorbar\":{\"outlinewidth\":0,\"ticks\":\"\"}}}],\"scatter3d\":[{\"type\":\"scatter3d\",\"line\":{\"colorbar\":{\"outlinewidth\":0,\"ticks\":\"\"}},\"marker\":{\"colorbar\":{\"outlinewidth\":0,\"ticks\":\"\"}}}],\"scattermapbox\":[{\"type\":\"scattermapbox\",\"marker\":{\"colorbar\":{\"outlinewidth\":0,\"ticks\":\"\"}}}],\"scatterternary\":[{\"type\":\"scatterternary\",\"marker\":{\"colorbar\":{\"outlinewidth\":0,\"ticks\":\"\"}}}],\"scattercarpet\":[{\"type\":\"scattercarpet\",\"marker\":{\"colorbar\":{\"outlinewidth\":0,\"ticks\":\"\"}}}],\"carpet\":[{\"aaxis\":{\"endlinecolor\":\"#2a3f5f\",\"gridcolor\":\"white\",\"linecolor\":\"white\",\"minorgridcolor\":\"white\",\"startlinecolor\":\"#2a3f5f\"},\"baxis\":{\"endlinecolor\":\"#2a3f5f\",\"gridcolor\":\"white\",\"linecolor\":\"white\",\"minorgridcolor\":\"white\",\"startlinecolor\":\"#2a3f5f\"},\"type\":\"carpet\"}],\"table\":[{\"cells\":{\"fill\":{\"color\":\"#EBF0F8\"},\"line\":{\"color\":\"white\"}},\"header\":{\"fill\":{\"color\":\"#C8D4E3\"},\"line\":{\"color\":\"white\"}},\"type\":\"table\"}],\"barpolar\":[{\"marker\":{\"line\":{\"color\":\"#E5ECF6\",\"width\":0.5},\"pattern\":{\"fillmode\":\"overlay\",\"size\":10,\"solidity\":0.2}},\"type\":\"barpolar\"}],\"pie\":[{\"automargin\":true,\"type\":\"pie\"}]},\"layout\":{\"autotypenumbers\":\"strict\",\"colorway\":[\"#636efa\",\"#EF553B\",\"#00cc96\",\"#ab63fa\",\"#FFA15A\",\"#19d3f3\",\"#FF6692\",\"#B6E880\",\"#FF97FF\",\"#FECB52\"],\"font\":{\"color\":\"#2a3f5f\"},\"hovermode\":\"closest\",\"hoverlabel\":{\"align\":\"left\"},\"paper_bgcolor\":\"white\",\"plot_bgcolor\":\"#E5ECF6\",\"polar\":{\"bgcolor\":\"#E5ECF6\",\"angularaxis\":{\"gridcolor\":\"white\",\"linecolor\":\"white\",\"ticks\":\"\"},\"radialaxis\":{\"gridcolor\":\"white\",\"linecolor\":\"white\",\"ticks\":\"\"}},\"ternary\":{\"bgcolor\":\"#E5ECF6\",\"aaxis\":{\"gridcolor\":\"white\",\"linecolor\":\"white\",\"ticks\":\"\"},\"baxis\":{\"gridcolor\":\"white\",\"linecolor\":\"white\",\"ticks\":\"\"},\"caxis\":{\"gridcolor\":\"white\",\"linecolor\":\"white\",\"ticks\":\"\"}},\"coloraxis\":{\"colorbar\":{\"outlinewidth\":0,\"ticks\":\"\"}},\"colorscale\":{\"sequential\":[[0.0,\"#0d0887\"],[0.1111111111111111,\"#46039f\"],[0.2222222222222222,\"#7201a8\"],[0.3333333333333333,\"#9c179e\"],[0.4444444444444444,\"#bd3786\"],[0.5555555555555556,\"#d8576b\"],[0.6666666666666666,\"#ed7953\"],[0.7777777777777778,\"#fb9f3a\"],[0.8888888888888888,\"#fdca26\"],[1.0,\"#f0f921\"]],\"sequentialminus\":[[0.0,\"#0d0887\"],[0.1111111111111111,\"#46039f\"],[0.2222222222222222,\"#7201a8\"],[0.3333333333333333,\"#9c179e\"],[0.4444444444444444,\"#bd3786\"],[0.5555555555555556,\"#d8576b\"],[0.6666666666666666,\"#ed7953\"],[0.7777777777777778,\"#fb9f3a\"],[0.8888888888888888,\"#fdca26\"],[1.0,\"#f0f921\"]],\"diverging\":[[0,\"#8e0152\"],[0.1,\"#c51b7d\"],[0.2,\"#de77ae\"],[0.3,\"#f1b6da\"],[0.4,\"#fde0ef\"],[0.5,\"#f7f7f7\"],[0.6,\"#e6f5d0\"],[0.7,\"#b8e186\"],[0.8,\"#7fbc41\"],[0.9,\"#4d9221\"],[1,\"#276419\"]]},\"xaxis\":{\"gridcolor\":\"white\",\"linecolor\":\"white\",\"ticks\":\"\",\"title\":{\"standoff\":15},\"zerolinecolor\":\"white\",\"automargin\":true,\"zerolinewidth\":2},\"yaxis\":{\"gridcolor\":\"white\",\"linecolor\":\"white\",\"ticks\":\"\",\"title\":{\"standoff\":15},\"zerolinecolor\":\"white\",\"automargin\":true,\"zerolinewidth\":2},\"scene\":{\"xaxis\":{\"backgroundcolor\":\"#E5ECF6\",\"gridcolor\":\"white\",\"linecolor\":\"white\",\"showbackground\":true,\"ticks\":\"\",\"zerolinecolor\":\"white\",\"gridwidth\":2},\"yaxis\":{\"backgroundcolor\":\"#E5ECF6\",\"gridcolor\":\"white\",\"linecolor\":\"white\",\"showbackground\":true,\"ticks\":\"\",\"zerolinecolor\":\"white\",\"gridwidth\":2},\"zaxis\":{\"backgroundcolor\":\"#E5ECF6\",\"gridcolor\":\"white\",\"linecolor\":\"white\",\"showbackground\":true,\"ticks\":\"\",\"zerolinecolor\":\"white\",\"gridwidth\":2}},\"shapedefaults\":{\"line\":{\"color\":\"#2a3f5f\"}},\"annotationdefaults\":{\"arrowcolor\":\"#2a3f5f\",\"arrowhead\":0,\"arrowwidth\":1},\"geo\":{\"bgcolor\":\"white\",\"landcolor\":\"#E5ECF6\",\"subunitcolor\":\"white\",\"showland\":true,\"showlakes\":true,\"lakecolor\":\"white\"},\"title\":{\"x\":0.05},\"mapbox\":{\"style\":\"light\"}}},\"xaxis\":{\"anchor\":\"y\",\"domain\":[0.0,0.32],\"categoryorder\":\"array\",\"categoryarray\":[\"Full Remission\",\"Remission\",\"Partial Remission\",\"No/Mild Remission\"],\"tickangle\":-45},\"yaxis\":{\"anchor\":\"x\",\"domain\":[0.0,1.0],\"title\":{\"text\":\"Count\"}},\"xaxis2\":{\"anchor\":\"y2\",\"domain\":[0.34,0.66],\"categoryorder\":\"array\",\"categoryarray\":[\"Worst\",\"No Change\",\"Improvement\",\"Big Improvement\"],\"title\":{\"text\":\"Drug Efficiency Labels\"},\"tickangle\":-45},\"yaxis2\":{\"anchor\":\"x2\",\"domain\":[0.0,1.0],\"matches\":\"y\",\"showticklabels\":false},\"xaxis3\":{\"anchor\":\"y3\",\"domain\":[0.68,1.0],\"categoryorder\":\"array\",\"categoryarray\":[\"No Response\",\"Partial Response\",\"Full Response\"],\"tickangle\":-45},\"yaxis3\":{\"anchor\":\"x3\",\"domain\":[0.0,1.0],\"matches\":\"y\",\"showticklabels\":false},\"font\":{\"size\":15},\"title\":{\"font\":{\"size\":20},\"text\":\"Figure 2. Agitation Only with Patients taking Venlafaxine\",\"x\":0.5,\"xanchor\":\"center\"},\"showlegend\":true,\"width\":1600,\"height\":900},                        {\"responsive\": true}                    ).then(function(){\n",
       "                            \n",
       "var gd = document.getElementById('5dd4c74c-5e2c-4942-80e0-425a8b9cfe51');\n",
       "var x = new MutationObserver(function (mutations, observer) {{\n",
       "        var display = window.getComputedStyle(gd).display;\n",
       "        if (!display || display === 'none') {{\n",
       "            console.log([gd, 'removed!']);\n",
       "            Plotly.purge(gd);\n",
       "            observer.disconnect();\n",
       "        }}\n",
       "}});\n",
       "\n",
       "// Listen for the removal of the full notebook cells\n",
       "var notebookContainer = gd.closest('#notebook-container');\n",
       "if (notebookContainer) {{\n",
       "    x.observe(notebookContainer, {childList: true});\n",
       "}}\n",
       "\n",
       "// Listen for the clearing of the current output cell\n",
       "var outputEl = gd.closest('.output');\n",
       "if (outputEl) {{\n",
       "    x.observe(outputEl, {childList: true});\n",
       "}}\n",
       "\n",
       "                        })                };                });            </script>        </div>"
      ]
     },
     "metadata": {},
     "output_type": "display_data"
    }
   ],
   "source": [
    "a_ov = a_o[a_o['DRUG'] == 'Venlafaxine']\n",
    "aov1 = go.Histogram(x = a_ov['Remission'], name = 'Remission')\n",
    "aov2 = go.Histogram(x = a_ov['Difference'], name = 'Difference')\n",
    "aov3 = go.Histogram(x = a_ov['Response'], name = 'Response')\n",
    "\n",
    "fig2 = make_subplots(rows = 1, cols = 3, shared_yaxes = True, horizontal_spacing = 0.02)\n",
    "fig2.add_trace(aov1, row = 1, col = 1)\n",
    "fig2.add_trace(aov2, row = 1, col = 2)\n",
    "fig2.add_trace(aov3, row = 1, col = 3)\n",
    "\n",
    "fig2.update_xaxes(categoryorder = 'array', categoryarray = remission_labels, row = 1, col = 1)\n",
    "fig2.update_xaxes(categoryorder = 'array', categoryarray = difference_labels, row = 1, col = 2)\n",
    "fig2.update_xaxes(categoryorder = 'array', categoryarray = response_labels, row = 1, col = 3)\n",
    "\n",
    "fig2.update_layout(\n",
    "    font = {\n",
    "        \"size\": 15\n",
    "    },\n",
    "    \n",
    "    title = {\n",
    "        \"text\": 'Figure 2. Agitation Only with Patients taking Venlafaxine',\n",
    "        \"x\": 0.5,\n",
    "        \"xanchor\" : \"center\",\n",
    "        \"font\" : {\n",
    "            \"size\": 20\n",
    "        }\n",
    "    },\n",
    "    #xaxis =dict(tickmode = 'linear',\n",
    "    #tick0 = 0,\n",
    "    #dtick = 1),\n",
    "    xaxis1 = {\n",
    "        \"tickangle\": -45,\n",
    "    },\n",
    "    xaxis2 = {\n",
    "        \"title\" : 'Drug Efficiency Labels',\n",
    "        \"tickangle\": -45,\n",
    "    },\n",
    "    xaxis3 = {\n",
    "        \"tickangle\": -45,\n",
    "    },\n",
    "#     xaxis_title = 'Drug Efficiency Labels',\n",
    "    yaxis_title = 'Count',\n",
    "    showlegend = True,\n",
    "    width = 1600,\n",
    "    height = 900)\n",
    "\n",
    "\n",
    "fig2.show()"
   ]
  },
  {
   "cell_type": "code",
   "execution_count": 202,
   "metadata": {},
   "outputs": [
    {
     "data": {
      "text/plain": [
       "[0, 4, 18, 1, 0, 1, 21, 1, 1, 14, 8]"
      ]
     },
     "execution_count": 202,
     "metadata": {},
     "output_type": "execute_result"
    }
   ],
   "source": [
    "# Venlafaxine Remission\n",
    "\n",
    "mild_av = len(a_ov[a_ov['Remission'] == 'No/Mild Remission'])\n",
    "part_av = len(a_ov[a_ov['Remission'] == 'Partial Remission'])\n",
    "remi_av = len(a_ov[a_ov['Remission'] == 'Remission'])\n",
    "full_av = len(a_ov[a_ov['Remission'] == 'Full Remission'])\n",
    "\n",
    "#Venlafaxine Difference\n",
    "wor_av = len(a_ov[a_ov['Difference'] == 'Worst'])\n",
    "nc_av = len(a_ov[a_ov['Difference'] == 'No Change'])\n",
    "i_av = len(a_ov[a_ov['Difference'] == 'Improvement'])\n",
    "bi_av = len(a_ov[a_ov['Difference'] == 'Big Improvement'])\n",
    "\n",
    "# Venlafaxine Response\n",
    "nr_av = len(a_ov[a_ov['Response'] == 'No Response'])\n",
    "pr_av = len(a_ov[a_ov['Response'] == 'Partial Response'])\n",
    "fr_av = len(a_ov[a_ov['Response'] == 'Full Response'])\n",
    "\n",
    "av = [mild_av, part_av, remi_av, full_av,\n",
    "        wor_av, nc_av, i_av, bi_av,\n",
    "        nr_av, pr_av, fr_av]\n",
    "\n",
    "av"
   ]
  },
  {
   "cell_type": "code",
   "execution_count": 203,
   "metadata": {},
   "outputs": [
    {
     "data": {
      "application/vnd.plotly.v1+json": {
       "config": {
        "plotlyServerURL": "https://plot.ly"
       },
       "data": [
        {
         "name": "Remission",
         "type": "histogram",
         "x": [
          "Full Remission",
          "Full Remission",
          "Full Remission",
          "Full Remission",
          "Partial Remission",
          "Full Remission",
          "Full Remission",
          "Remission",
          "Full Remission",
          "Full Remission",
          "Remission",
          "Remission",
          "Full Remission",
          "Remission",
          "Full Remission",
          "Remission",
          "Full Remission",
          "Remission",
          "Remission",
          "Full Remission",
          "Remission",
          "Partial Remission",
          "Remission",
          "Full Remission",
          "Full Remission",
          "Full Remission",
          "Remission",
          "Full Remission",
          "Remission",
          "Full Remission",
          "Remission",
          "Full Remission",
          "Full Remission",
          "Full Remission",
          "Full Remission",
          "Remission",
          "No/Mild Remission",
          "Full Remission",
          "Remission",
          "Full Remission",
          "Remission",
          "Full Remission",
          "Full Remission",
          "Remission",
          "Remission",
          "Remission",
          "Remission",
          "Full Remission",
          "Full Remission",
          "Remission",
          "Full Remission",
          "Full Remission",
          "Remission",
          "Remission",
          "Remission",
          "Full Remission",
          "Full Remission",
          "Full Remission",
          "Full Remission",
          "Remission",
          "Remission"
         ],
         "xaxis": "x",
         "yaxis": "y"
        },
        {
         "name": "Difference",
         "type": "histogram",
         "x": [
          "Improvement",
          "Improvement",
          "Improvement",
          "Improvement",
          "Worst",
          "Improvement",
          "Improvement",
          "Improvement",
          "Improvement",
          "Big Improvement",
          "Improvement",
          "Worst",
          "No Change",
          "Improvement",
          "Improvement",
          "Worst",
          "Improvement",
          "Improvement",
          "Improvement",
          "Improvement",
          "Improvement",
          "Improvement",
          "Improvement",
          "Improvement",
          "Improvement",
          "Improvement",
          "Improvement",
          "Big Improvement",
          "Worst",
          "Big Improvement",
          "Improvement",
          "Improvement",
          "Improvement",
          "Improvement",
          "Improvement",
          "Improvement",
          "Worst",
          "Improvement",
          "Improvement",
          "Improvement",
          "Improvement",
          "Improvement",
          "Improvement",
          "Improvement",
          "Improvement",
          "Improvement",
          "Big Improvement",
          "Improvement",
          "Improvement",
          "Improvement",
          "Improvement",
          "Improvement",
          "Improvement",
          "Improvement",
          "Improvement",
          "Improvement",
          "Improvement",
          "Big Improvement",
          "Big Improvement",
          "Improvement",
          "Improvement"
         ],
         "xaxis": "x2",
         "yaxis": "y2"
        },
        {
         "name": "Response",
         "type": "histogram",
         "x": [
          "Full Response",
          "Full Response",
          "Full Response",
          "Full Response",
          "No Response",
          "Partial Response",
          "Full Response",
          "Partial Response",
          "Partial Response",
          "Full Response",
          "Full Response",
          "No Response",
          "No Response",
          "Partial Response",
          "Full Response",
          "No Response",
          "Partial Response",
          "Partial Response",
          "Partial Response",
          "Full Response",
          "Full Response",
          "Partial Response",
          "Partial Response",
          "Partial Response",
          "Full Response",
          "Partial Response",
          "Partial Response",
          "Full Response",
          "No Response",
          "Full Response",
          "Full Response",
          "Full Response",
          "Partial Response",
          "Partial Response",
          "Partial Response",
          "Full Response",
          "No Response",
          "Full Response",
          "Full Response",
          "Full Response",
          "Partial Response",
          "Full Response",
          "Full Response",
          "Partial Response",
          "Partial Response",
          "Partial Response",
          "Full Response",
          "Full Response",
          "Full Response",
          "Partial Response",
          "Full Response",
          "Partial Response",
          "Partial Response",
          "Partial Response",
          "Partial Response",
          "Full Response",
          "Full Response",
          "Full Response",
          "Full Response",
          "Partial Response",
          "Full Response"
         ],
         "xaxis": "x3",
         "yaxis": "y3"
        }
       ],
       "layout": {
        "font": {
         "size": 15
        },
        "height": 900,
        "showlegend": true,
        "template": {
         "data": {
          "bar": [
           {
            "error_x": {
             "color": "#2a3f5f"
            },
            "error_y": {
             "color": "#2a3f5f"
            },
            "marker": {
             "line": {
              "color": "#E5ECF6",
              "width": 0.5
             },
             "pattern": {
              "fillmode": "overlay",
              "size": 10,
              "solidity": 0.2
             }
            },
            "type": "bar"
           }
          ],
          "barpolar": [
           {
            "marker": {
             "line": {
              "color": "#E5ECF6",
              "width": 0.5
             },
             "pattern": {
              "fillmode": "overlay",
              "size": 10,
              "solidity": 0.2
             }
            },
            "type": "barpolar"
           }
          ],
          "carpet": [
           {
            "aaxis": {
             "endlinecolor": "#2a3f5f",
             "gridcolor": "white",
             "linecolor": "white",
             "minorgridcolor": "white",
             "startlinecolor": "#2a3f5f"
            },
            "baxis": {
             "endlinecolor": "#2a3f5f",
             "gridcolor": "white",
             "linecolor": "white",
             "minorgridcolor": "white",
             "startlinecolor": "#2a3f5f"
            },
            "type": "carpet"
           }
          ],
          "choropleth": [
           {
            "colorbar": {
             "outlinewidth": 0,
             "ticks": ""
            },
            "type": "choropleth"
           }
          ],
          "contour": [
           {
            "colorbar": {
             "outlinewidth": 0,
             "ticks": ""
            },
            "colorscale": [
             [
              0,
              "#0d0887"
             ],
             [
              0.1111111111111111,
              "#46039f"
             ],
             [
              0.2222222222222222,
              "#7201a8"
             ],
             [
              0.3333333333333333,
              "#9c179e"
             ],
             [
              0.4444444444444444,
              "#bd3786"
             ],
             [
              0.5555555555555556,
              "#d8576b"
             ],
             [
              0.6666666666666666,
              "#ed7953"
             ],
             [
              0.7777777777777778,
              "#fb9f3a"
             ],
             [
              0.8888888888888888,
              "#fdca26"
             ],
             [
              1,
              "#f0f921"
             ]
            ],
            "type": "contour"
           }
          ],
          "contourcarpet": [
           {
            "colorbar": {
             "outlinewidth": 0,
             "ticks": ""
            },
            "type": "contourcarpet"
           }
          ],
          "heatmap": [
           {
            "colorbar": {
             "outlinewidth": 0,
             "ticks": ""
            },
            "colorscale": [
             [
              0,
              "#0d0887"
             ],
             [
              0.1111111111111111,
              "#46039f"
             ],
             [
              0.2222222222222222,
              "#7201a8"
             ],
             [
              0.3333333333333333,
              "#9c179e"
             ],
             [
              0.4444444444444444,
              "#bd3786"
             ],
             [
              0.5555555555555556,
              "#d8576b"
             ],
             [
              0.6666666666666666,
              "#ed7953"
             ],
             [
              0.7777777777777778,
              "#fb9f3a"
             ],
             [
              0.8888888888888888,
              "#fdca26"
             ],
             [
              1,
              "#f0f921"
             ]
            ],
            "type": "heatmap"
           }
          ],
          "heatmapgl": [
           {
            "colorbar": {
             "outlinewidth": 0,
             "ticks": ""
            },
            "colorscale": [
             [
              0,
              "#0d0887"
             ],
             [
              0.1111111111111111,
              "#46039f"
             ],
             [
              0.2222222222222222,
              "#7201a8"
             ],
             [
              0.3333333333333333,
              "#9c179e"
             ],
             [
              0.4444444444444444,
              "#bd3786"
             ],
             [
              0.5555555555555556,
              "#d8576b"
             ],
             [
              0.6666666666666666,
              "#ed7953"
             ],
             [
              0.7777777777777778,
              "#fb9f3a"
             ],
             [
              0.8888888888888888,
              "#fdca26"
             ],
             [
              1,
              "#f0f921"
             ]
            ],
            "type": "heatmapgl"
           }
          ],
          "histogram": [
           {
            "marker": {
             "pattern": {
              "fillmode": "overlay",
              "size": 10,
              "solidity": 0.2
             }
            },
            "type": "histogram"
           }
          ],
          "histogram2d": [
           {
            "colorbar": {
             "outlinewidth": 0,
             "ticks": ""
            },
            "colorscale": [
             [
              0,
              "#0d0887"
             ],
             [
              0.1111111111111111,
              "#46039f"
             ],
             [
              0.2222222222222222,
              "#7201a8"
             ],
             [
              0.3333333333333333,
              "#9c179e"
             ],
             [
              0.4444444444444444,
              "#bd3786"
             ],
             [
              0.5555555555555556,
              "#d8576b"
             ],
             [
              0.6666666666666666,
              "#ed7953"
             ],
             [
              0.7777777777777778,
              "#fb9f3a"
             ],
             [
              0.8888888888888888,
              "#fdca26"
             ],
             [
              1,
              "#f0f921"
             ]
            ],
            "type": "histogram2d"
           }
          ],
          "histogram2dcontour": [
           {
            "colorbar": {
             "outlinewidth": 0,
             "ticks": ""
            },
            "colorscale": [
             [
              0,
              "#0d0887"
             ],
             [
              0.1111111111111111,
              "#46039f"
             ],
             [
              0.2222222222222222,
              "#7201a8"
             ],
             [
              0.3333333333333333,
              "#9c179e"
             ],
             [
              0.4444444444444444,
              "#bd3786"
             ],
             [
              0.5555555555555556,
              "#d8576b"
             ],
             [
              0.6666666666666666,
              "#ed7953"
             ],
             [
              0.7777777777777778,
              "#fb9f3a"
             ],
             [
              0.8888888888888888,
              "#fdca26"
             ],
             [
              1,
              "#f0f921"
             ]
            ],
            "type": "histogram2dcontour"
           }
          ],
          "mesh3d": [
           {
            "colorbar": {
             "outlinewidth": 0,
             "ticks": ""
            },
            "type": "mesh3d"
           }
          ],
          "parcoords": [
           {
            "line": {
             "colorbar": {
              "outlinewidth": 0,
              "ticks": ""
             }
            },
            "type": "parcoords"
           }
          ],
          "pie": [
           {
            "automargin": true,
            "type": "pie"
           }
          ],
          "scatter": [
           {
            "fillpattern": {
             "fillmode": "overlay",
             "size": 10,
             "solidity": 0.2
            },
            "type": "scatter"
           }
          ],
          "scatter3d": [
           {
            "line": {
             "colorbar": {
              "outlinewidth": 0,
              "ticks": ""
             }
            },
            "marker": {
             "colorbar": {
              "outlinewidth": 0,
              "ticks": ""
             }
            },
            "type": "scatter3d"
           }
          ],
          "scattercarpet": [
           {
            "marker": {
             "colorbar": {
              "outlinewidth": 0,
              "ticks": ""
             }
            },
            "type": "scattercarpet"
           }
          ],
          "scattergeo": [
           {
            "marker": {
             "colorbar": {
              "outlinewidth": 0,
              "ticks": ""
             }
            },
            "type": "scattergeo"
           }
          ],
          "scattergl": [
           {
            "marker": {
             "colorbar": {
              "outlinewidth": 0,
              "ticks": ""
             }
            },
            "type": "scattergl"
           }
          ],
          "scattermapbox": [
           {
            "marker": {
             "colorbar": {
              "outlinewidth": 0,
              "ticks": ""
             }
            },
            "type": "scattermapbox"
           }
          ],
          "scatterpolar": [
           {
            "marker": {
             "colorbar": {
              "outlinewidth": 0,
              "ticks": ""
             }
            },
            "type": "scatterpolar"
           }
          ],
          "scatterpolargl": [
           {
            "marker": {
             "colorbar": {
              "outlinewidth": 0,
              "ticks": ""
             }
            },
            "type": "scatterpolargl"
           }
          ],
          "scatterternary": [
           {
            "marker": {
             "colorbar": {
              "outlinewidth": 0,
              "ticks": ""
             }
            },
            "type": "scatterternary"
           }
          ],
          "surface": [
           {
            "colorbar": {
             "outlinewidth": 0,
             "ticks": ""
            },
            "colorscale": [
             [
              0,
              "#0d0887"
             ],
             [
              0.1111111111111111,
              "#46039f"
             ],
             [
              0.2222222222222222,
              "#7201a8"
             ],
             [
              0.3333333333333333,
              "#9c179e"
             ],
             [
              0.4444444444444444,
              "#bd3786"
             ],
             [
              0.5555555555555556,
              "#d8576b"
             ],
             [
              0.6666666666666666,
              "#ed7953"
             ],
             [
              0.7777777777777778,
              "#fb9f3a"
             ],
             [
              0.8888888888888888,
              "#fdca26"
             ],
             [
              1,
              "#f0f921"
             ]
            ],
            "type": "surface"
           }
          ],
          "table": [
           {
            "cells": {
             "fill": {
              "color": "#EBF0F8"
             },
             "line": {
              "color": "white"
             }
            },
            "header": {
             "fill": {
              "color": "#C8D4E3"
             },
             "line": {
              "color": "white"
             }
            },
            "type": "table"
           }
          ]
         },
         "layout": {
          "annotationdefaults": {
           "arrowcolor": "#2a3f5f",
           "arrowhead": 0,
           "arrowwidth": 1
          },
          "autotypenumbers": "strict",
          "coloraxis": {
           "colorbar": {
            "outlinewidth": 0,
            "ticks": ""
           }
          },
          "colorscale": {
           "diverging": [
            [
             0,
             "#8e0152"
            ],
            [
             0.1,
             "#c51b7d"
            ],
            [
             0.2,
             "#de77ae"
            ],
            [
             0.3,
             "#f1b6da"
            ],
            [
             0.4,
             "#fde0ef"
            ],
            [
             0.5,
             "#f7f7f7"
            ],
            [
             0.6,
             "#e6f5d0"
            ],
            [
             0.7,
             "#b8e186"
            ],
            [
             0.8,
             "#7fbc41"
            ],
            [
             0.9,
             "#4d9221"
            ],
            [
             1,
             "#276419"
            ]
           ],
           "sequential": [
            [
             0,
             "#0d0887"
            ],
            [
             0.1111111111111111,
             "#46039f"
            ],
            [
             0.2222222222222222,
             "#7201a8"
            ],
            [
             0.3333333333333333,
             "#9c179e"
            ],
            [
             0.4444444444444444,
             "#bd3786"
            ],
            [
             0.5555555555555556,
             "#d8576b"
            ],
            [
             0.6666666666666666,
             "#ed7953"
            ],
            [
             0.7777777777777778,
             "#fb9f3a"
            ],
            [
             0.8888888888888888,
             "#fdca26"
            ],
            [
             1,
             "#f0f921"
            ]
           ],
           "sequentialminus": [
            [
             0,
             "#0d0887"
            ],
            [
             0.1111111111111111,
             "#46039f"
            ],
            [
             0.2222222222222222,
             "#7201a8"
            ],
            [
             0.3333333333333333,
             "#9c179e"
            ],
            [
             0.4444444444444444,
             "#bd3786"
            ],
            [
             0.5555555555555556,
             "#d8576b"
            ],
            [
             0.6666666666666666,
             "#ed7953"
            ],
            [
             0.7777777777777778,
             "#fb9f3a"
            ],
            [
             0.8888888888888888,
             "#fdca26"
            ],
            [
             1,
             "#f0f921"
            ]
           ]
          },
          "colorway": [
           "#636efa",
           "#EF553B",
           "#00cc96",
           "#ab63fa",
           "#FFA15A",
           "#19d3f3",
           "#FF6692",
           "#B6E880",
           "#FF97FF",
           "#FECB52"
          ],
          "font": {
           "color": "#2a3f5f"
          },
          "geo": {
           "bgcolor": "white",
           "lakecolor": "white",
           "landcolor": "#E5ECF6",
           "showlakes": true,
           "showland": true,
           "subunitcolor": "white"
          },
          "hoverlabel": {
           "align": "left"
          },
          "hovermode": "closest",
          "mapbox": {
           "style": "light"
          },
          "paper_bgcolor": "white",
          "plot_bgcolor": "#E5ECF6",
          "polar": {
           "angularaxis": {
            "gridcolor": "white",
            "linecolor": "white",
            "ticks": ""
           },
           "bgcolor": "#E5ECF6",
           "radialaxis": {
            "gridcolor": "white",
            "linecolor": "white",
            "ticks": ""
           }
          },
          "scene": {
           "xaxis": {
            "backgroundcolor": "#E5ECF6",
            "gridcolor": "white",
            "gridwidth": 2,
            "linecolor": "white",
            "showbackground": true,
            "ticks": "",
            "zerolinecolor": "white"
           },
           "yaxis": {
            "backgroundcolor": "#E5ECF6",
            "gridcolor": "white",
            "gridwidth": 2,
            "linecolor": "white",
            "showbackground": true,
            "ticks": "",
            "zerolinecolor": "white"
           },
           "zaxis": {
            "backgroundcolor": "#E5ECF6",
            "gridcolor": "white",
            "gridwidth": 2,
            "linecolor": "white",
            "showbackground": true,
            "ticks": "",
            "zerolinecolor": "white"
           }
          },
          "shapedefaults": {
           "line": {
            "color": "#2a3f5f"
           }
          },
          "ternary": {
           "aaxis": {
            "gridcolor": "white",
            "linecolor": "white",
            "ticks": ""
           },
           "baxis": {
            "gridcolor": "white",
            "linecolor": "white",
            "ticks": ""
           },
           "bgcolor": "#E5ECF6",
           "caxis": {
            "gridcolor": "white",
            "linecolor": "white",
            "ticks": ""
           }
          },
          "title": {
           "x": 0.05
          },
          "xaxis": {
           "automargin": true,
           "gridcolor": "white",
           "linecolor": "white",
           "ticks": "",
           "title": {
            "standoff": 15
           },
           "zerolinecolor": "white",
           "zerolinewidth": 2
          },
          "yaxis": {
           "automargin": true,
           "gridcolor": "white",
           "linecolor": "white",
           "ticks": "",
           "title": {
            "standoff": 15
           },
           "zerolinecolor": "white",
           "zerolinewidth": 2
          }
         }
        },
        "title": {
         "font": {
          "size": 20
         },
         "text": "Figure 3. Agitation Only with Patients taking Paroxetine",
         "x": 0.5,
         "xanchor": "center"
        },
        "width": 1600,
        "xaxis": {
         "anchor": "y",
         "categoryarray": [
          "Full Remission",
          "Remission",
          "Partial Remission",
          "No/Mild Remission"
         ],
         "categoryorder": "array",
         "domain": [
          0,
          0.32
         ],
         "tickangle": -45
        },
        "xaxis2": {
         "anchor": "y2",
         "categoryarray": [
          "Worst",
          "No Change",
          "Improvement",
          "Big Improvement"
         ],
         "categoryorder": "array",
         "domain": [
          0.34,
          0.66
         ],
         "tickangle": -45,
         "title": {
          "text": "Drug Efficiency Labels"
         }
        },
        "xaxis3": {
         "anchor": "y3",
         "categoryarray": [
          "No Response",
          "Partial Response",
          "Full Response"
         ],
         "categoryorder": "array",
         "domain": [
          0.68,
          1
         ],
         "tickangle": -45
        },
        "yaxis": {
         "anchor": "x",
         "domain": [
          0,
          1
         ],
         "title": {
          "text": "Count"
         }
        },
        "yaxis2": {
         "anchor": "x2",
         "domain": [
          0,
          1
         ],
         "matches": "y",
         "showticklabels": false
        },
        "yaxis3": {
         "anchor": "x3",
         "domain": [
          0,
          1
         ],
         "matches": "y",
         "showticklabels": false
        }
       }
      },
      "text/html": [
       "<div>                            <div id=\"dc4987da-7d8c-4191-9dfe-15deeec0d7bf\" class=\"plotly-graph-div\" style=\"height:900px; width:1600px;\"></div>            <script type=\"text/javascript\">                require([\"plotly\"], function(Plotly) {                    window.PLOTLYENV=window.PLOTLYENV || {};                                    if (document.getElementById(\"dc4987da-7d8c-4191-9dfe-15deeec0d7bf\")) {                    Plotly.newPlot(                        \"dc4987da-7d8c-4191-9dfe-15deeec0d7bf\",                        [{\"name\":\"Remission\",\"x\":[\"Full Remission\",\"Full Remission\",\"Full Remission\",\"Full Remission\",\"Partial Remission\",\"Full Remission\",\"Full Remission\",\"Remission\",\"Full Remission\",\"Full Remission\",\"Remission\",\"Remission\",\"Full Remission\",\"Remission\",\"Full Remission\",\"Remission\",\"Full Remission\",\"Remission\",\"Remission\",\"Full Remission\",\"Remission\",\"Partial Remission\",\"Remission\",\"Full Remission\",\"Full Remission\",\"Full Remission\",\"Remission\",\"Full Remission\",\"Remission\",\"Full Remission\",\"Remission\",\"Full Remission\",\"Full Remission\",\"Full Remission\",\"Full Remission\",\"Remission\",\"No/Mild Remission\",\"Full Remission\",\"Remission\",\"Full Remission\",\"Remission\",\"Full Remission\",\"Full Remission\",\"Remission\",\"Remission\",\"Remission\",\"Remission\",\"Full Remission\",\"Full Remission\",\"Remission\",\"Full Remission\",\"Full Remission\",\"Remission\",\"Remission\",\"Remission\",\"Full Remission\",\"Full Remission\",\"Full Remission\",\"Full Remission\",\"Remission\",\"Remission\"],\"type\":\"histogram\",\"xaxis\":\"x\",\"yaxis\":\"y\"},{\"name\":\"Difference\",\"x\":[\"Improvement\",\"Improvement\",\"Improvement\",\"Improvement\",\"Worst\",\"Improvement\",\"Improvement\",\"Improvement\",\"Improvement\",\"Big Improvement\",\"Improvement\",\"Worst\",\"No Change\",\"Improvement\",\"Improvement\",\"Worst\",\"Improvement\",\"Improvement\",\"Improvement\",\"Improvement\",\"Improvement\",\"Improvement\",\"Improvement\",\"Improvement\",\"Improvement\",\"Improvement\",\"Improvement\",\"Big Improvement\",\"Worst\",\"Big Improvement\",\"Improvement\",\"Improvement\",\"Improvement\",\"Improvement\",\"Improvement\",\"Improvement\",\"Worst\",\"Improvement\",\"Improvement\",\"Improvement\",\"Improvement\",\"Improvement\",\"Improvement\",\"Improvement\",\"Improvement\",\"Improvement\",\"Big Improvement\",\"Improvement\",\"Improvement\",\"Improvement\",\"Improvement\",\"Improvement\",\"Improvement\",\"Improvement\",\"Improvement\",\"Improvement\",\"Improvement\",\"Big Improvement\",\"Big Improvement\",\"Improvement\",\"Improvement\"],\"type\":\"histogram\",\"xaxis\":\"x2\",\"yaxis\":\"y2\"},{\"name\":\"Response\",\"x\":[\"Full Response\",\"Full Response\",\"Full Response\",\"Full Response\",\"No Response\",\"Partial Response\",\"Full Response\",\"Partial Response\",\"Partial Response\",\"Full Response\",\"Full Response\",\"No Response\",\"No Response\",\"Partial Response\",\"Full Response\",\"No Response\",\"Partial Response\",\"Partial Response\",\"Partial Response\",\"Full Response\",\"Full Response\",\"Partial Response\",\"Partial Response\",\"Partial Response\",\"Full Response\",\"Partial Response\",\"Partial Response\",\"Full Response\",\"No Response\",\"Full Response\",\"Full Response\",\"Full Response\",\"Partial Response\",\"Partial Response\",\"Partial Response\",\"Full Response\",\"No Response\",\"Full Response\",\"Full Response\",\"Full Response\",\"Partial Response\",\"Full Response\",\"Full Response\",\"Partial Response\",\"Partial Response\",\"Partial Response\",\"Full Response\",\"Full Response\",\"Full Response\",\"Partial Response\",\"Full Response\",\"Partial Response\",\"Partial Response\",\"Partial Response\",\"Partial Response\",\"Full Response\",\"Full Response\",\"Full Response\",\"Full Response\",\"Partial Response\",\"Full Response\"],\"type\":\"histogram\",\"xaxis\":\"x3\",\"yaxis\":\"y3\"}],                        {\"template\":{\"data\":{\"histogram2dcontour\":[{\"type\":\"histogram2dcontour\",\"colorbar\":{\"outlinewidth\":0,\"ticks\":\"\"},\"colorscale\":[[0.0,\"#0d0887\"],[0.1111111111111111,\"#46039f\"],[0.2222222222222222,\"#7201a8\"],[0.3333333333333333,\"#9c179e\"],[0.4444444444444444,\"#bd3786\"],[0.5555555555555556,\"#d8576b\"],[0.6666666666666666,\"#ed7953\"],[0.7777777777777778,\"#fb9f3a\"],[0.8888888888888888,\"#fdca26\"],[1.0,\"#f0f921\"]]}],\"choropleth\":[{\"type\":\"choropleth\",\"colorbar\":{\"outlinewidth\":0,\"ticks\":\"\"}}],\"histogram2d\":[{\"type\":\"histogram2d\",\"colorbar\":{\"outlinewidth\":0,\"ticks\":\"\"},\"colorscale\":[[0.0,\"#0d0887\"],[0.1111111111111111,\"#46039f\"],[0.2222222222222222,\"#7201a8\"],[0.3333333333333333,\"#9c179e\"],[0.4444444444444444,\"#bd3786\"],[0.5555555555555556,\"#d8576b\"],[0.6666666666666666,\"#ed7953\"],[0.7777777777777778,\"#fb9f3a\"],[0.8888888888888888,\"#fdca26\"],[1.0,\"#f0f921\"]]}],\"heatmap\":[{\"type\":\"heatmap\",\"colorbar\":{\"outlinewidth\":0,\"ticks\":\"\"},\"colorscale\":[[0.0,\"#0d0887\"],[0.1111111111111111,\"#46039f\"],[0.2222222222222222,\"#7201a8\"],[0.3333333333333333,\"#9c179e\"],[0.4444444444444444,\"#bd3786\"],[0.5555555555555556,\"#d8576b\"],[0.6666666666666666,\"#ed7953\"],[0.7777777777777778,\"#fb9f3a\"],[0.8888888888888888,\"#fdca26\"],[1.0,\"#f0f921\"]]}],\"heatmapgl\":[{\"type\":\"heatmapgl\",\"colorbar\":{\"outlinewidth\":0,\"ticks\":\"\"},\"colorscale\":[[0.0,\"#0d0887\"],[0.1111111111111111,\"#46039f\"],[0.2222222222222222,\"#7201a8\"],[0.3333333333333333,\"#9c179e\"],[0.4444444444444444,\"#bd3786\"],[0.5555555555555556,\"#d8576b\"],[0.6666666666666666,\"#ed7953\"],[0.7777777777777778,\"#fb9f3a\"],[0.8888888888888888,\"#fdca26\"],[1.0,\"#f0f921\"]]}],\"contourcarpet\":[{\"type\":\"contourcarpet\",\"colorbar\":{\"outlinewidth\":0,\"ticks\":\"\"}}],\"contour\":[{\"type\":\"contour\",\"colorbar\":{\"outlinewidth\":0,\"ticks\":\"\"},\"colorscale\":[[0.0,\"#0d0887\"],[0.1111111111111111,\"#46039f\"],[0.2222222222222222,\"#7201a8\"],[0.3333333333333333,\"#9c179e\"],[0.4444444444444444,\"#bd3786\"],[0.5555555555555556,\"#d8576b\"],[0.6666666666666666,\"#ed7953\"],[0.7777777777777778,\"#fb9f3a\"],[0.8888888888888888,\"#fdca26\"],[1.0,\"#f0f921\"]]}],\"surface\":[{\"type\":\"surface\",\"colorbar\":{\"outlinewidth\":0,\"ticks\":\"\"},\"colorscale\":[[0.0,\"#0d0887\"],[0.1111111111111111,\"#46039f\"],[0.2222222222222222,\"#7201a8\"],[0.3333333333333333,\"#9c179e\"],[0.4444444444444444,\"#bd3786\"],[0.5555555555555556,\"#d8576b\"],[0.6666666666666666,\"#ed7953\"],[0.7777777777777778,\"#fb9f3a\"],[0.8888888888888888,\"#fdca26\"],[1.0,\"#f0f921\"]]}],\"mesh3d\":[{\"type\":\"mesh3d\",\"colorbar\":{\"outlinewidth\":0,\"ticks\":\"\"}}],\"scatter\":[{\"fillpattern\":{\"fillmode\":\"overlay\",\"size\":10,\"solidity\":0.2},\"type\":\"scatter\"}],\"parcoords\":[{\"type\":\"parcoords\",\"line\":{\"colorbar\":{\"outlinewidth\":0,\"ticks\":\"\"}}}],\"scatterpolargl\":[{\"type\":\"scatterpolargl\",\"marker\":{\"colorbar\":{\"outlinewidth\":0,\"ticks\":\"\"}}}],\"bar\":[{\"error_x\":{\"color\":\"#2a3f5f\"},\"error_y\":{\"color\":\"#2a3f5f\"},\"marker\":{\"line\":{\"color\":\"#E5ECF6\",\"width\":0.5},\"pattern\":{\"fillmode\":\"overlay\",\"size\":10,\"solidity\":0.2}},\"type\":\"bar\"}],\"scattergeo\":[{\"type\":\"scattergeo\",\"marker\":{\"colorbar\":{\"outlinewidth\":0,\"ticks\":\"\"}}}],\"scatterpolar\":[{\"type\":\"scatterpolar\",\"marker\":{\"colorbar\":{\"outlinewidth\":0,\"ticks\":\"\"}}}],\"histogram\":[{\"marker\":{\"pattern\":{\"fillmode\":\"overlay\",\"size\":10,\"solidity\":0.2}},\"type\":\"histogram\"}],\"scattergl\":[{\"type\":\"scattergl\",\"marker\":{\"colorbar\":{\"outlinewidth\":0,\"ticks\":\"\"}}}],\"scatter3d\":[{\"type\":\"scatter3d\",\"line\":{\"colorbar\":{\"outlinewidth\":0,\"ticks\":\"\"}},\"marker\":{\"colorbar\":{\"outlinewidth\":0,\"ticks\":\"\"}}}],\"scattermapbox\":[{\"type\":\"scattermapbox\",\"marker\":{\"colorbar\":{\"outlinewidth\":0,\"ticks\":\"\"}}}],\"scatterternary\":[{\"type\":\"scatterternary\",\"marker\":{\"colorbar\":{\"outlinewidth\":0,\"ticks\":\"\"}}}],\"scattercarpet\":[{\"type\":\"scattercarpet\",\"marker\":{\"colorbar\":{\"outlinewidth\":0,\"ticks\":\"\"}}}],\"carpet\":[{\"aaxis\":{\"endlinecolor\":\"#2a3f5f\",\"gridcolor\":\"white\",\"linecolor\":\"white\",\"minorgridcolor\":\"white\",\"startlinecolor\":\"#2a3f5f\"},\"baxis\":{\"endlinecolor\":\"#2a3f5f\",\"gridcolor\":\"white\",\"linecolor\":\"white\",\"minorgridcolor\":\"white\",\"startlinecolor\":\"#2a3f5f\"},\"type\":\"carpet\"}],\"table\":[{\"cells\":{\"fill\":{\"color\":\"#EBF0F8\"},\"line\":{\"color\":\"white\"}},\"header\":{\"fill\":{\"color\":\"#C8D4E3\"},\"line\":{\"color\":\"white\"}},\"type\":\"table\"}],\"barpolar\":[{\"marker\":{\"line\":{\"color\":\"#E5ECF6\",\"width\":0.5},\"pattern\":{\"fillmode\":\"overlay\",\"size\":10,\"solidity\":0.2}},\"type\":\"barpolar\"}],\"pie\":[{\"automargin\":true,\"type\":\"pie\"}]},\"layout\":{\"autotypenumbers\":\"strict\",\"colorway\":[\"#636efa\",\"#EF553B\",\"#00cc96\",\"#ab63fa\",\"#FFA15A\",\"#19d3f3\",\"#FF6692\",\"#B6E880\",\"#FF97FF\",\"#FECB52\"],\"font\":{\"color\":\"#2a3f5f\"},\"hovermode\":\"closest\",\"hoverlabel\":{\"align\":\"left\"},\"paper_bgcolor\":\"white\",\"plot_bgcolor\":\"#E5ECF6\",\"polar\":{\"bgcolor\":\"#E5ECF6\",\"angularaxis\":{\"gridcolor\":\"white\",\"linecolor\":\"white\",\"ticks\":\"\"},\"radialaxis\":{\"gridcolor\":\"white\",\"linecolor\":\"white\",\"ticks\":\"\"}},\"ternary\":{\"bgcolor\":\"#E5ECF6\",\"aaxis\":{\"gridcolor\":\"white\",\"linecolor\":\"white\",\"ticks\":\"\"},\"baxis\":{\"gridcolor\":\"white\",\"linecolor\":\"white\",\"ticks\":\"\"},\"caxis\":{\"gridcolor\":\"white\",\"linecolor\":\"white\",\"ticks\":\"\"}},\"coloraxis\":{\"colorbar\":{\"outlinewidth\":0,\"ticks\":\"\"}},\"colorscale\":{\"sequential\":[[0.0,\"#0d0887\"],[0.1111111111111111,\"#46039f\"],[0.2222222222222222,\"#7201a8\"],[0.3333333333333333,\"#9c179e\"],[0.4444444444444444,\"#bd3786\"],[0.5555555555555556,\"#d8576b\"],[0.6666666666666666,\"#ed7953\"],[0.7777777777777778,\"#fb9f3a\"],[0.8888888888888888,\"#fdca26\"],[1.0,\"#f0f921\"]],\"sequentialminus\":[[0.0,\"#0d0887\"],[0.1111111111111111,\"#46039f\"],[0.2222222222222222,\"#7201a8\"],[0.3333333333333333,\"#9c179e\"],[0.4444444444444444,\"#bd3786\"],[0.5555555555555556,\"#d8576b\"],[0.6666666666666666,\"#ed7953\"],[0.7777777777777778,\"#fb9f3a\"],[0.8888888888888888,\"#fdca26\"],[1.0,\"#f0f921\"]],\"diverging\":[[0,\"#8e0152\"],[0.1,\"#c51b7d\"],[0.2,\"#de77ae\"],[0.3,\"#f1b6da\"],[0.4,\"#fde0ef\"],[0.5,\"#f7f7f7\"],[0.6,\"#e6f5d0\"],[0.7,\"#b8e186\"],[0.8,\"#7fbc41\"],[0.9,\"#4d9221\"],[1,\"#276419\"]]},\"xaxis\":{\"gridcolor\":\"white\",\"linecolor\":\"white\",\"ticks\":\"\",\"title\":{\"standoff\":15},\"zerolinecolor\":\"white\",\"automargin\":true,\"zerolinewidth\":2},\"yaxis\":{\"gridcolor\":\"white\",\"linecolor\":\"white\",\"ticks\":\"\",\"title\":{\"standoff\":15},\"zerolinecolor\":\"white\",\"automargin\":true,\"zerolinewidth\":2},\"scene\":{\"xaxis\":{\"backgroundcolor\":\"#E5ECF6\",\"gridcolor\":\"white\",\"linecolor\":\"white\",\"showbackground\":true,\"ticks\":\"\",\"zerolinecolor\":\"white\",\"gridwidth\":2},\"yaxis\":{\"backgroundcolor\":\"#E5ECF6\",\"gridcolor\":\"white\",\"linecolor\":\"white\",\"showbackground\":true,\"ticks\":\"\",\"zerolinecolor\":\"white\",\"gridwidth\":2},\"zaxis\":{\"backgroundcolor\":\"#E5ECF6\",\"gridcolor\":\"white\",\"linecolor\":\"white\",\"showbackground\":true,\"ticks\":\"\",\"zerolinecolor\":\"white\",\"gridwidth\":2}},\"shapedefaults\":{\"line\":{\"color\":\"#2a3f5f\"}},\"annotationdefaults\":{\"arrowcolor\":\"#2a3f5f\",\"arrowhead\":0,\"arrowwidth\":1},\"geo\":{\"bgcolor\":\"white\",\"landcolor\":\"#E5ECF6\",\"subunitcolor\":\"white\",\"showland\":true,\"showlakes\":true,\"lakecolor\":\"white\"},\"title\":{\"x\":0.05},\"mapbox\":{\"style\":\"light\"}}},\"xaxis\":{\"anchor\":\"y\",\"domain\":[0.0,0.32],\"categoryorder\":\"array\",\"categoryarray\":[\"Full Remission\",\"Remission\",\"Partial Remission\",\"No/Mild Remission\"],\"tickangle\":-45},\"yaxis\":{\"anchor\":\"x\",\"domain\":[0.0,1.0],\"title\":{\"text\":\"Count\"}},\"xaxis2\":{\"anchor\":\"y2\",\"domain\":[0.34,0.66],\"categoryorder\":\"array\",\"categoryarray\":[\"Worst\",\"No Change\",\"Improvement\",\"Big Improvement\"],\"title\":{\"text\":\"Drug Efficiency Labels\"},\"tickangle\":-45},\"yaxis2\":{\"anchor\":\"x2\",\"domain\":[0.0,1.0],\"matches\":\"y\",\"showticklabels\":false},\"xaxis3\":{\"anchor\":\"y3\",\"domain\":[0.68,1.0],\"categoryorder\":\"array\",\"categoryarray\":[\"No Response\",\"Partial Response\",\"Full Response\"],\"tickangle\":-45},\"yaxis3\":{\"anchor\":\"x3\",\"domain\":[0.0,1.0],\"matches\":\"y\",\"showticklabels\":false},\"font\":{\"size\":15},\"title\":{\"font\":{\"size\":20},\"text\":\"Figure 3. Agitation Only with Patients taking Paroxetine\",\"x\":0.5,\"xanchor\":\"center\"},\"showlegend\":true,\"width\":1600,\"height\":900},                        {\"responsive\": true}                    ).then(function(){\n",
       "                            \n",
       "var gd = document.getElementById('dc4987da-7d8c-4191-9dfe-15deeec0d7bf');\n",
       "var x = new MutationObserver(function (mutations, observer) {{\n",
       "        var display = window.getComputedStyle(gd).display;\n",
       "        if (!display || display === 'none') {{\n",
       "            console.log([gd, 'removed!']);\n",
       "            Plotly.purge(gd);\n",
       "            observer.disconnect();\n",
       "        }}\n",
       "}});\n",
       "\n",
       "// Listen for the removal of the full notebook cells\n",
       "var notebookContainer = gd.closest('#notebook-container');\n",
       "if (notebookContainer) {{\n",
       "    x.observe(notebookContainer, {childList: true});\n",
       "}}\n",
       "\n",
       "// Listen for the clearing of the current output cell\n",
       "var outputEl = gd.closest('.output');\n",
       "if (outputEl) {{\n",
       "    x.observe(outputEl, {childList: true});\n",
       "}}\n",
       "\n",
       "                        })                };                });            </script>        </div>"
      ]
     },
     "metadata": {},
     "output_type": "display_data"
    }
   ],
   "source": [
    "a_op = a_o[a_o['DRUG'] == 'Paroxetine']\n",
    "aop1 = go.Histogram(x = a_op['Remission'], name = 'Remission')\n",
    "aop2 = go.Histogram(x = a_op['Difference'], name = 'Difference')\n",
    "aop3 = go.Histogram(x = a_op['Response'], name = 'Response')\n",
    "\n",
    "fig3 = make_subplots(rows = 1, cols = 3, shared_yaxes = True, horizontal_spacing = 0.02)\n",
    "fig3.add_trace(aop1, row = 1, col = 1)\n",
    "fig3.add_trace(aop2, row = 1, col = 2)\n",
    "fig3.add_trace(aop3, row = 1, col = 3)\n",
    "\n",
    "fig3.update_xaxes(categoryorder = 'array', categoryarray = remission_labels, row = 1, col = 1)\n",
    "fig3.update_xaxes(categoryorder = 'array', categoryarray = difference_labels, row = 1, col = 2)\n",
    "fig3.update_xaxes(categoryorder = 'array', categoryarray = response_labels, row = 1, col = 3)\n",
    "\n",
    "fig3.update_layout(\n",
    "    font = {\n",
    "        \"size\": 15\n",
    "    },\n",
    "    \n",
    "    title = {\n",
    "        \"text\": 'Figure 3. Agitation Only with Patients taking Paroxetine',\n",
    "        \"x\": 0.5,\n",
    "        \"xanchor\" : \"center\",\n",
    "        \"font\" : {\n",
    "            \"size\": 20\n",
    "        }\n",
    "    },\n",
    "    #xaxis =dict(tickmode = 'linear',\n",
    "    #tick0 = 0,\n",
    "    #dtick = 1),\n",
    "    xaxis1 = {\n",
    "        \"tickangle\": -45,\n",
    "    },\n",
    "    xaxis2 = {\n",
    "        \"title\" : 'Drug Efficiency Labels',\n",
    "        \"tickangle\": -45,\n",
    "    },\n",
    "    xaxis3 = {\n",
    "        \"tickangle\": -45,\n",
    "    },\n",
    "#     xaxis_title = 'Drug Efficiency Labels',\n",
    "    yaxis_title = 'Count',\n",
    "    showlegend = True,\n",
    "    width = 1600,\n",
    "    height = 900)\n",
    "\n",
    "fig3.show()"
   ]
  },
  {
   "cell_type": "code",
   "execution_count": 204,
   "metadata": {},
   "outputs": [
    {
     "data": {
      "text/plain": [
       "[1, 2, 25, 33, 5, 1, 49, 6, 6, 25, 30]"
      ]
     },
     "execution_count": 204,
     "metadata": {},
     "output_type": "execute_result"
    }
   ],
   "source": [
    "# Paroxetine Remission\n",
    "mild_ap = len(a_op[a_op['Remission'] == 'No/Mild Remission'])\n",
    "part_ap = len(a_op[a_op['Remission'] == 'Partial Remission'])\n",
    "remi_ap = len(a_op[a_op['Remission'] == 'Remission'])\n",
    "full_ap = len(a_op[a_op['Remission'] == 'Full Remission'])\n",
    "\n",
    "#Paroxetine Difference\n",
    "wor_ap = len(a_op[a_op['Difference'] == 'Worst'])\n",
    "nc_ap = len(a_op[a_op['Difference'] == 'No Change'])\n",
    "i_ap = len(a_op[a_op['Difference'] == 'Improvement'])\n",
    "bi_ap = len(a_op[a_op['Difference'] == 'Big Improvement'])\n",
    "\n",
    "#Paroxetine Response\n",
    "nr_ap = len(a_op[a_op['Response'] == 'No Response'])\n",
    "pr_ap = len(a_op[a_op['Response'] == 'Partial Response'])\n",
    "fr_ap = len(a_op[a_op['Response'] == 'Full Response'])\n",
    "\n",
    "ap = [mild_ap, part_ap, remi_ap, full_ap,\n",
    "        wor_ap, nc_ap, i_ap, bi_ap,\n",
    "        nr_ap, pr_ap, fr_ap]\n",
    "\n",
    "ap"
   ]
  },
  {
   "cell_type": "code",
   "execution_count": 205,
   "metadata": {},
   "outputs": [
    {
     "data": {
      "application/vnd.plotly.v1+json": {
       "config": {
        "plotlyServerURL": "https://plot.ly"
       },
       "data": [
        {
         "name": "Remission",
         "type": "histogram",
         "x": [
          "Remission",
          "Remission",
          "Remission",
          "Full Remission",
          "Full Remission",
          "Remission",
          "Remission",
          "Partial Remission",
          "Partial Remission",
          "Full Remission",
          "Remission",
          "Full Remission",
          "Partial Remission",
          "Remission"
         ],
         "xaxis": "x",
         "yaxis": "y"
        },
        {
         "name": "Difference",
         "type": "histogram",
         "x": [
          "Improvement",
          "Improvement",
          "Worst",
          "Improvement",
          "Improvement",
          "Improvement",
          "Improvement",
          "Worst",
          "Worst",
          "Improvement",
          "Improvement",
          "Improvement",
          "Worst",
          "Worst"
         ],
         "xaxis": "x2",
         "yaxis": "y2"
        },
        {
         "name": "Response",
         "type": "histogram",
         "x": [
          "Partial Response",
          "Partial Response",
          "No Response",
          "Full Response",
          "Full Response",
          "Partial Response",
          "Partial Response",
          "No Response",
          "No Response",
          "Full Response",
          "Partial Response",
          "Full Response",
          "No Response",
          "No Response"
         ],
         "xaxis": "x3",
         "yaxis": "y3"
        }
       ],
       "layout": {
        "font": {
         "size": 15
        },
        "height": 900,
        "showlegend": true,
        "template": {
         "data": {
          "bar": [
           {
            "error_x": {
             "color": "#2a3f5f"
            },
            "error_y": {
             "color": "#2a3f5f"
            },
            "marker": {
             "line": {
              "color": "#E5ECF6",
              "width": 0.5
             },
             "pattern": {
              "fillmode": "overlay",
              "size": 10,
              "solidity": 0.2
             }
            },
            "type": "bar"
           }
          ],
          "barpolar": [
           {
            "marker": {
             "line": {
              "color": "#E5ECF6",
              "width": 0.5
             },
             "pattern": {
              "fillmode": "overlay",
              "size": 10,
              "solidity": 0.2
             }
            },
            "type": "barpolar"
           }
          ],
          "carpet": [
           {
            "aaxis": {
             "endlinecolor": "#2a3f5f",
             "gridcolor": "white",
             "linecolor": "white",
             "minorgridcolor": "white",
             "startlinecolor": "#2a3f5f"
            },
            "baxis": {
             "endlinecolor": "#2a3f5f",
             "gridcolor": "white",
             "linecolor": "white",
             "minorgridcolor": "white",
             "startlinecolor": "#2a3f5f"
            },
            "type": "carpet"
           }
          ],
          "choropleth": [
           {
            "colorbar": {
             "outlinewidth": 0,
             "ticks": ""
            },
            "type": "choropleth"
           }
          ],
          "contour": [
           {
            "colorbar": {
             "outlinewidth": 0,
             "ticks": ""
            },
            "colorscale": [
             [
              0,
              "#0d0887"
             ],
             [
              0.1111111111111111,
              "#46039f"
             ],
             [
              0.2222222222222222,
              "#7201a8"
             ],
             [
              0.3333333333333333,
              "#9c179e"
             ],
             [
              0.4444444444444444,
              "#bd3786"
             ],
             [
              0.5555555555555556,
              "#d8576b"
             ],
             [
              0.6666666666666666,
              "#ed7953"
             ],
             [
              0.7777777777777778,
              "#fb9f3a"
             ],
             [
              0.8888888888888888,
              "#fdca26"
             ],
             [
              1,
              "#f0f921"
             ]
            ],
            "type": "contour"
           }
          ],
          "contourcarpet": [
           {
            "colorbar": {
             "outlinewidth": 0,
             "ticks": ""
            },
            "type": "contourcarpet"
           }
          ],
          "heatmap": [
           {
            "colorbar": {
             "outlinewidth": 0,
             "ticks": ""
            },
            "colorscale": [
             [
              0,
              "#0d0887"
             ],
             [
              0.1111111111111111,
              "#46039f"
             ],
             [
              0.2222222222222222,
              "#7201a8"
             ],
             [
              0.3333333333333333,
              "#9c179e"
             ],
             [
              0.4444444444444444,
              "#bd3786"
             ],
             [
              0.5555555555555556,
              "#d8576b"
             ],
             [
              0.6666666666666666,
              "#ed7953"
             ],
             [
              0.7777777777777778,
              "#fb9f3a"
             ],
             [
              0.8888888888888888,
              "#fdca26"
             ],
             [
              1,
              "#f0f921"
             ]
            ],
            "type": "heatmap"
           }
          ],
          "heatmapgl": [
           {
            "colorbar": {
             "outlinewidth": 0,
             "ticks": ""
            },
            "colorscale": [
             [
              0,
              "#0d0887"
             ],
             [
              0.1111111111111111,
              "#46039f"
             ],
             [
              0.2222222222222222,
              "#7201a8"
             ],
             [
              0.3333333333333333,
              "#9c179e"
             ],
             [
              0.4444444444444444,
              "#bd3786"
             ],
             [
              0.5555555555555556,
              "#d8576b"
             ],
             [
              0.6666666666666666,
              "#ed7953"
             ],
             [
              0.7777777777777778,
              "#fb9f3a"
             ],
             [
              0.8888888888888888,
              "#fdca26"
             ],
             [
              1,
              "#f0f921"
             ]
            ],
            "type": "heatmapgl"
           }
          ],
          "histogram": [
           {
            "marker": {
             "pattern": {
              "fillmode": "overlay",
              "size": 10,
              "solidity": 0.2
             }
            },
            "type": "histogram"
           }
          ],
          "histogram2d": [
           {
            "colorbar": {
             "outlinewidth": 0,
             "ticks": ""
            },
            "colorscale": [
             [
              0,
              "#0d0887"
             ],
             [
              0.1111111111111111,
              "#46039f"
             ],
             [
              0.2222222222222222,
              "#7201a8"
             ],
             [
              0.3333333333333333,
              "#9c179e"
             ],
             [
              0.4444444444444444,
              "#bd3786"
             ],
             [
              0.5555555555555556,
              "#d8576b"
             ],
             [
              0.6666666666666666,
              "#ed7953"
             ],
             [
              0.7777777777777778,
              "#fb9f3a"
             ],
             [
              0.8888888888888888,
              "#fdca26"
             ],
             [
              1,
              "#f0f921"
             ]
            ],
            "type": "histogram2d"
           }
          ],
          "histogram2dcontour": [
           {
            "colorbar": {
             "outlinewidth": 0,
             "ticks": ""
            },
            "colorscale": [
             [
              0,
              "#0d0887"
             ],
             [
              0.1111111111111111,
              "#46039f"
             ],
             [
              0.2222222222222222,
              "#7201a8"
             ],
             [
              0.3333333333333333,
              "#9c179e"
             ],
             [
              0.4444444444444444,
              "#bd3786"
             ],
             [
              0.5555555555555556,
              "#d8576b"
             ],
             [
              0.6666666666666666,
              "#ed7953"
             ],
             [
              0.7777777777777778,
              "#fb9f3a"
             ],
             [
              0.8888888888888888,
              "#fdca26"
             ],
             [
              1,
              "#f0f921"
             ]
            ],
            "type": "histogram2dcontour"
           }
          ],
          "mesh3d": [
           {
            "colorbar": {
             "outlinewidth": 0,
             "ticks": ""
            },
            "type": "mesh3d"
           }
          ],
          "parcoords": [
           {
            "line": {
             "colorbar": {
              "outlinewidth": 0,
              "ticks": ""
             }
            },
            "type": "parcoords"
           }
          ],
          "pie": [
           {
            "automargin": true,
            "type": "pie"
           }
          ],
          "scatter": [
           {
            "fillpattern": {
             "fillmode": "overlay",
             "size": 10,
             "solidity": 0.2
            },
            "type": "scatter"
           }
          ],
          "scatter3d": [
           {
            "line": {
             "colorbar": {
              "outlinewidth": 0,
              "ticks": ""
             }
            },
            "marker": {
             "colorbar": {
              "outlinewidth": 0,
              "ticks": ""
             }
            },
            "type": "scatter3d"
           }
          ],
          "scattercarpet": [
           {
            "marker": {
             "colorbar": {
              "outlinewidth": 0,
              "ticks": ""
             }
            },
            "type": "scattercarpet"
           }
          ],
          "scattergeo": [
           {
            "marker": {
             "colorbar": {
              "outlinewidth": 0,
              "ticks": ""
             }
            },
            "type": "scattergeo"
           }
          ],
          "scattergl": [
           {
            "marker": {
             "colorbar": {
              "outlinewidth": 0,
              "ticks": ""
             }
            },
            "type": "scattergl"
           }
          ],
          "scattermapbox": [
           {
            "marker": {
             "colorbar": {
              "outlinewidth": 0,
              "ticks": ""
             }
            },
            "type": "scattermapbox"
           }
          ],
          "scatterpolar": [
           {
            "marker": {
             "colorbar": {
              "outlinewidth": 0,
              "ticks": ""
             }
            },
            "type": "scatterpolar"
           }
          ],
          "scatterpolargl": [
           {
            "marker": {
             "colorbar": {
              "outlinewidth": 0,
              "ticks": ""
             }
            },
            "type": "scatterpolargl"
           }
          ],
          "scatterternary": [
           {
            "marker": {
             "colorbar": {
              "outlinewidth": 0,
              "ticks": ""
             }
            },
            "type": "scatterternary"
           }
          ],
          "surface": [
           {
            "colorbar": {
             "outlinewidth": 0,
             "ticks": ""
            },
            "colorscale": [
             [
              0,
              "#0d0887"
             ],
             [
              0.1111111111111111,
              "#46039f"
             ],
             [
              0.2222222222222222,
              "#7201a8"
             ],
             [
              0.3333333333333333,
              "#9c179e"
             ],
             [
              0.4444444444444444,
              "#bd3786"
             ],
             [
              0.5555555555555556,
              "#d8576b"
             ],
             [
              0.6666666666666666,
              "#ed7953"
             ],
             [
              0.7777777777777778,
              "#fb9f3a"
             ],
             [
              0.8888888888888888,
              "#fdca26"
             ],
             [
              1,
              "#f0f921"
             ]
            ],
            "type": "surface"
           }
          ],
          "table": [
           {
            "cells": {
             "fill": {
              "color": "#EBF0F8"
             },
             "line": {
              "color": "white"
             }
            },
            "header": {
             "fill": {
              "color": "#C8D4E3"
             },
             "line": {
              "color": "white"
             }
            },
            "type": "table"
           }
          ]
         },
         "layout": {
          "annotationdefaults": {
           "arrowcolor": "#2a3f5f",
           "arrowhead": 0,
           "arrowwidth": 1
          },
          "autotypenumbers": "strict",
          "coloraxis": {
           "colorbar": {
            "outlinewidth": 0,
            "ticks": ""
           }
          },
          "colorscale": {
           "diverging": [
            [
             0,
             "#8e0152"
            ],
            [
             0.1,
             "#c51b7d"
            ],
            [
             0.2,
             "#de77ae"
            ],
            [
             0.3,
             "#f1b6da"
            ],
            [
             0.4,
             "#fde0ef"
            ],
            [
             0.5,
             "#f7f7f7"
            ],
            [
             0.6,
             "#e6f5d0"
            ],
            [
             0.7,
             "#b8e186"
            ],
            [
             0.8,
             "#7fbc41"
            ],
            [
             0.9,
             "#4d9221"
            ],
            [
             1,
             "#276419"
            ]
           ],
           "sequential": [
            [
             0,
             "#0d0887"
            ],
            [
             0.1111111111111111,
             "#46039f"
            ],
            [
             0.2222222222222222,
             "#7201a8"
            ],
            [
             0.3333333333333333,
             "#9c179e"
            ],
            [
             0.4444444444444444,
             "#bd3786"
            ],
            [
             0.5555555555555556,
             "#d8576b"
            ],
            [
             0.6666666666666666,
             "#ed7953"
            ],
            [
             0.7777777777777778,
             "#fb9f3a"
            ],
            [
             0.8888888888888888,
             "#fdca26"
            ],
            [
             1,
             "#f0f921"
            ]
           ],
           "sequentialminus": [
            [
             0,
             "#0d0887"
            ],
            [
             0.1111111111111111,
             "#46039f"
            ],
            [
             0.2222222222222222,
             "#7201a8"
            ],
            [
             0.3333333333333333,
             "#9c179e"
            ],
            [
             0.4444444444444444,
             "#bd3786"
            ],
            [
             0.5555555555555556,
             "#d8576b"
            ],
            [
             0.6666666666666666,
             "#ed7953"
            ],
            [
             0.7777777777777778,
             "#fb9f3a"
            ],
            [
             0.8888888888888888,
             "#fdca26"
            ],
            [
             1,
             "#f0f921"
            ]
           ]
          },
          "colorway": [
           "#636efa",
           "#EF553B",
           "#00cc96",
           "#ab63fa",
           "#FFA15A",
           "#19d3f3",
           "#FF6692",
           "#B6E880",
           "#FF97FF",
           "#FECB52"
          ],
          "font": {
           "color": "#2a3f5f"
          },
          "geo": {
           "bgcolor": "white",
           "lakecolor": "white",
           "landcolor": "#E5ECF6",
           "showlakes": true,
           "showland": true,
           "subunitcolor": "white"
          },
          "hoverlabel": {
           "align": "left"
          },
          "hovermode": "closest",
          "mapbox": {
           "style": "light"
          },
          "paper_bgcolor": "white",
          "plot_bgcolor": "#E5ECF6",
          "polar": {
           "angularaxis": {
            "gridcolor": "white",
            "linecolor": "white",
            "ticks": ""
           },
           "bgcolor": "#E5ECF6",
           "radialaxis": {
            "gridcolor": "white",
            "linecolor": "white",
            "ticks": ""
           }
          },
          "scene": {
           "xaxis": {
            "backgroundcolor": "#E5ECF6",
            "gridcolor": "white",
            "gridwidth": 2,
            "linecolor": "white",
            "showbackground": true,
            "ticks": "",
            "zerolinecolor": "white"
           },
           "yaxis": {
            "backgroundcolor": "#E5ECF6",
            "gridcolor": "white",
            "gridwidth": 2,
            "linecolor": "white",
            "showbackground": true,
            "ticks": "",
            "zerolinecolor": "white"
           },
           "zaxis": {
            "backgroundcolor": "#E5ECF6",
            "gridcolor": "white",
            "gridwidth": 2,
            "linecolor": "white",
            "showbackground": true,
            "ticks": "",
            "zerolinecolor": "white"
           }
          },
          "shapedefaults": {
           "line": {
            "color": "#2a3f5f"
           }
          },
          "ternary": {
           "aaxis": {
            "gridcolor": "white",
            "linecolor": "white",
            "ticks": ""
           },
           "baxis": {
            "gridcolor": "white",
            "linecolor": "white",
            "ticks": ""
           },
           "bgcolor": "#E5ECF6",
           "caxis": {
            "gridcolor": "white",
            "linecolor": "white",
            "ticks": ""
           }
          },
          "title": {
           "x": 0.05
          },
          "xaxis": {
           "automargin": true,
           "gridcolor": "white",
           "linecolor": "white",
           "ticks": "",
           "title": {
            "standoff": 15
           },
           "zerolinecolor": "white",
           "zerolinewidth": 2
          },
          "yaxis": {
           "automargin": true,
           "gridcolor": "white",
           "linecolor": "white",
           "ticks": "",
           "title": {
            "standoff": 15
           },
           "zerolinecolor": "white",
           "zerolinewidth": 2
          }
         }
        },
        "title": {
         "font": {
          "size": 20
         },
         "text": "Figure 4. Agitation Only with Patients taking Fluoxetine",
         "x": 0.5,
         "xanchor": "center"
        },
        "width": 1600,
        "xaxis": {
         "anchor": "y",
         "categoryarray": [
          "Full Remission",
          "Remission",
          "Partial Remission",
          "No/Mild Remission"
         ],
         "categoryorder": "array",
         "domain": [
          0,
          0.32
         ],
         "tickangle": -45
        },
        "xaxis2": {
         "anchor": "y2",
         "categoryarray": [
          "Worst",
          "No Change",
          "Improvement",
          "Big Improvement"
         ],
         "categoryorder": "array",
         "domain": [
          0.34,
          0.66
         ],
         "tickangle": -45,
         "title": {
          "text": "Drug Efficiency Labels"
         }
        },
        "xaxis3": {
         "anchor": "y3",
         "categoryarray": [
          "No Response",
          "Partial Response",
          "Full Response"
         ],
         "categoryorder": "array",
         "domain": [
          0.68,
          1
         ],
         "tickangle": -45
        },
        "yaxis": {
         "anchor": "x",
         "domain": [
          0,
          1
         ],
         "title": {
          "text": "Count"
         }
        },
        "yaxis2": {
         "anchor": "x2",
         "domain": [
          0,
          1
         ],
         "matches": "y",
         "showticklabels": false
        },
        "yaxis3": {
         "anchor": "x3",
         "domain": [
          0,
          1
         ],
         "matches": "y",
         "showticklabels": false
        }
       }
      },
      "text/html": [
       "<div>                            <div id=\"cddc21c2-6219-4d17-aee3-5e945a1a413d\" class=\"plotly-graph-div\" style=\"height:900px; width:1600px;\"></div>            <script type=\"text/javascript\">                require([\"plotly\"], function(Plotly) {                    window.PLOTLYENV=window.PLOTLYENV || {};                                    if (document.getElementById(\"cddc21c2-6219-4d17-aee3-5e945a1a413d\")) {                    Plotly.newPlot(                        \"cddc21c2-6219-4d17-aee3-5e945a1a413d\",                        [{\"name\":\"Remission\",\"x\":[\"Remission\",\"Remission\",\"Remission\",\"Full Remission\",\"Full Remission\",\"Remission\",\"Remission\",\"Partial Remission\",\"Partial Remission\",\"Full Remission\",\"Remission\",\"Full Remission\",\"Partial Remission\",\"Remission\"],\"type\":\"histogram\",\"xaxis\":\"x\",\"yaxis\":\"y\"},{\"name\":\"Difference\",\"x\":[\"Improvement\",\"Improvement\",\"Worst\",\"Improvement\",\"Improvement\",\"Improvement\",\"Improvement\",\"Worst\",\"Worst\",\"Improvement\",\"Improvement\",\"Improvement\",\"Worst\",\"Worst\"],\"type\":\"histogram\",\"xaxis\":\"x2\",\"yaxis\":\"y2\"},{\"name\":\"Response\",\"x\":[\"Partial Response\",\"Partial Response\",\"No Response\",\"Full Response\",\"Full Response\",\"Partial Response\",\"Partial Response\",\"No Response\",\"No Response\",\"Full Response\",\"Partial Response\",\"Full Response\",\"No Response\",\"No Response\"],\"type\":\"histogram\",\"xaxis\":\"x3\",\"yaxis\":\"y3\"}],                        {\"template\":{\"data\":{\"histogram2dcontour\":[{\"type\":\"histogram2dcontour\",\"colorbar\":{\"outlinewidth\":0,\"ticks\":\"\"},\"colorscale\":[[0.0,\"#0d0887\"],[0.1111111111111111,\"#46039f\"],[0.2222222222222222,\"#7201a8\"],[0.3333333333333333,\"#9c179e\"],[0.4444444444444444,\"#bd3786\"],[0.5555555555555556,\"#d8576b\"],[0.6666666666666666,\"#ed7953\"],[0.7777777777777778,\"#fb9f3a\"],[0.8888888888888888,\"#fdca26\"],[1.0,\"#f0f921\"]]}],\"choropleth\":[{\"type\":\"choropleth\",\"colorbar\":{\"outlinewidth\":0,\"ticks\":\"\"}}],\"histogram2d\":[{\"type\":\"histogram2d\",\"colorbar\":{\"outlinewidth\":0,\"ticks\":\"\"},\"colorscale\":[[0.0,\"#0d0887\"],[0.1111111111111111,\"#46039f\"],[0.2222222222222222,\"#7201a8\"],[0.3333333333333333,\"#9c179e\"],[0.4444444444444444,\"#bd3786\"],[0.5555555555555556,\"#d8576b\"],[0.6666666666666666,\"#ed7953\"],[0.7777777777777778,\"#fb9f3a\"],[0.8888888888888888,\"#fdca26\"],[1.0,\"#f0f921\"]]}],\"heatmap\":[{\"type\":\"heatmap\",\"colorbar\":{\"outlinewidth\":0,\"ticks\":\"\"},\"colorscale\":[[0.0,\"#0d0887\"],[0.1111111111111111,\"#46039f\"],[0.2222222222222222,\"#7201a8\"],[0.3333333333333333,\"#9c179e\"],[0.4444444444444444,\"#bd3786\"],[0.5555555555555556,\"#d8576b\"],[0.6666666666666666,\"#ed7953\"],[0.7777777777777778,\"#fb9f3a\"],[0.8888888888888888,\"#fdca26\"],[1.0,\"#f0f921\"]]}],\"heatmapgl\":[{\"type\":\"heatmapgl\",\"colorbar\":{\"outlinewidth\":0,\"ticks\":\"\"},\"colorscale\":[[0.0,\"#0d0887\"],[0.1111111111111111,\"#46039f\"],[0.2222222222222222,\"#7201a8\"],[0.3333333333333333,\"#9c179e\"],[0.4444444444444444,\"#bd3786\"],[0.5555555555555556,\"#d8576b\"],[0.6666666666666666,\"#ed7953\"],[0.7777777777777778,\"#fb9f3a\"],[0.8888888888888888,\"#fdca26\"],[1.0,\"#f0f921\"]]}],\"contourcarpet\":[{\"type\":\"contourcarpet\",\"colorbar\":{\"outlinewidth\":0,\"ticks\":\"\"}}],\"contour\":[{\"type\":\"contour\",\"colorbar\":{\"outlinewidth\":0,\"ticks\":\"\"},\"colorscale\":[[0.0,\"#0d0887\"],[0.1111111111111111,\"#46039f\"],[0.2222222222222222,\"#7201a8\"],[0.3333333333333333,\"#9c179e\"],[0.4444444444444444,\"#bd3786\"],[0.5555555555555556,\"#d8576b\"],[0.6666666666666666,\"#ed7953\"],[0.7777777777777778,\"#fb9f3a\"],[0.8888888888888888,\"#fdca26\"],[1.0,\"#f0f921\"]]}],\"surface\":[{\"type\":\"surface\",\"colorbar\":{\"outlinewidth\":0,\"ticks\":\"\"},\"colorscale\":[[0.0,\"#0d0887\"],[0.1111111111111111,\"#46039f\"],[0.2222222222222222,\"#7201a8\"],[0.3333333333333333,\"#9c179e\"],[0.4444444444444444,\"#bd3786\"],[0.5555555555555556,\"#d8576b\"],[0.6666666666666666,\"#ed7953\"],[0.7777777777777778,\"#fb9f3a\"],[0.8888888888888888,\"#fdca26\"],[1.0,\"#f0f921\"]]}],\"mesh3d\":[{\"type\":\"mesh3d\",\"colorbar\":{\"outlinewidth\":0,\"ticks\":\"\"}}],\"scatter\":[{\"fillpattern\":{\"fillmode\":\"overlay\",\"size\":10,\"solidity\":0.2},\"type\":\"scatter\"}],\"parcoords\":[{\"type\":\"parcoords\",\"line\":{\"colorbar\":{\"outlinewidth\":0,\"ticks\":\"\"}}}],\"scatterpolargl\":[{\"type\":\"scatterpolargl\",\"marker\":{\"colorbar\":{\"outlinewidth\":0,\"ticks\":\"\"}}}],\"bar\":[{\"error_x\":{\"color\":\"#2a3f5f\"},\"error_y\":{\"color\":\"#2a3f5f\"},\"marker\":{\"line\":{\"color\":\"#E5ECF6\",\"width\":0.5},\"pattern\":{\"fillmode\":\"overlay\",\"size\":10,\"solidity\":0.2}},\"type\":\"bar\"}],\"scattergeo\":[{\"type\":\"scattergeo\",\"marker\":{\"colorbar\":{\"outlinewidth\":0,\"ticks\":\"\"}}}],\"scatterpolar\":[{\"type\":\"scatterpolar\",\"marker\":{\"colorbar\":{\"outlinewidth\":0,\"ticks\":\"\"}}}],\"histogram\":[{\"marker\":{\"pattern\":{\"fillmode\":\"overlay\",\"size\":10,\"solidity\":0.2}},\"type\":\"histogram\"}],\"scattergl\":[{\"type\":\"scattergl\",\"marker\":{\"colorbar\":{\"outlinewidth\":0,\"ticks\":\"\"}}}],\"scatter3d\":[{\"type\":\"scatter3d\",\"line\":{\"colorbar\":{\"outlinewidth\":0,\"ticks\":\"\"}},\"marker\":{\"colorbar\":{\"outlinewidth\":0,\"ticks\":\"\"}}}],\"scattermapbox\":[{\"type\":\"scattermapbox\",\"marker\":{\"colorbar\":{\"outlinewidth\":0,\"ticks\":\"\"}}}],\"scatterternary\":[{\"type\":\"scatterternary\",\"marker\":{\"colorbar\":{\"outlinewidth\":0,\"ticks\":\"\"}}}],\"scattercarpet\":[{\"type\":\"scattercarpet\",\"marker\":{\"colorbar\":{\"outlinewidth\":0,\"ticks\":\"\"}}}],\"carpet\":[{\"aaxis\":{\"endlinecolor\":\"#2a3f5f\",\"gridcolor\":\"white\",\"linecolor\":\"white\",\"minorgridcolor\":\"white\",\"startlinecolor\":\"#2a3f5f\"},\"baxis\":{\"endlinecolor\":\"#2a3f5f\",\"gridcolor\":\"white\",\"linecolor\":\"white\",\"minorgridcolor\":\"white\",\"startlinecolor\":\"#2a3f5f\"},\"type\":\"carpet\"}],\"table\":[{\"cells\":{\"fill\":{\"color\":\"#EBF0F8\"},\"line\":{\"color\":\"white\"}},\"header\":{\"fill\":{\"color\":\"#C8D4E3\"},\"line\":{\"color\":\"white\"}},\"type\":\"table\"}],\"barpolar\":[{\"marker\":{\"line\":{\"color\":\"#E5ECF6\",\"width\":0.5},\"pattern\":{\"fillmode\":\"overlay\",\"size\":10,\"solidity\":0.2}},\"type\":\"barpolar\"}],\"pie\":[{\"automargin\":true,\"type\":\"pie\"}]},\"layout\":{\"autotypenumbers\":\"strict\",\"colorway\":[\"#636efa\",\"#EF553B\",\"#00cc96\",\"#ab63fa\",\"#FFA15A\",\"#19d3f3\",\"#FF6692\",\"#B6E880\",\"#FF97FF\",\"#FECB52\"],\"font\":{\"color\":\"#2a3f5f\"},\"hovermode\":\"closest\",\"hoverlabel\":{\"align\":\"left\"},\"paper_bgcolor\":\"white\",\"plot_bgcolor\":\"#E5ECF6\",\"polar\":{\"bgcolor\":\"#E5ECF6\",\"angularaxis\":{\"gridcolor\":\"white\",\"linecolor\":\"white\",\"ticks\":\"\"},\"radialaxis\":{\"gridcolor\":\"white\",\"linecolor\":\"white\",\"ticks\":\"\"}},\"ternary\":{\"bgcolor\":\"#E5ECF6\",\"aaxis\":{\"gridcolor\":\"white\",\"linecolor\":\"white\",\"ticks\":\"\"},\"baxis\":{\"gridcolor\":\"white\",\"linecolor\":\"white\",\"ticks\":\"\"},\"caxis\":{\"gridcolor\":\"white\",\"linecolor\":\"white\",\"ticks\":\"\"}},\"coloraxis\":{\"colorbar\":{\"outlinewidth\":0,\"ticks\":\"\"}},\"colorscale\":{\"sequential\":[[0.0,\"#0d0887\"],[0.1111111111111111,\"#46039f\"],[0.2222222222222222,\"#7201a8\"],[0.3333333333333333,\"#9c179e\"],[0.4444444444444444,\"#bd3786\"],[0.5555555555555556,\"#d8576b\"],[0.6666666666666666,\"#ed7953\"],[0.7777777777777778,\"#fb9f3a\"],[0.8888888888888888,\"#fdca26\"],[1.0,\"#f0f921\"]],\"sequentialminus\":[[0.0,\"#0d0887\"],[0.1111111111111111,\"#46039f\"],[0.2222222222222222,\"#7201a8\"],[0.3333333333333333,\"#9c179e\"],[0.4444444444444444,\"#bd3786\"],[0.5555555555555556,\"#d8576b\"],[0.6666666666666666,\"#ed7953\"],[0.7777777777777778,\"#fb9f3a\"],[0.8888888888888888,\"#fdca26\"],[1.0,\"#f0f921\"]],\"diverging\":[[0,\"#8e0152\"],[0.1,\"#c51b7d\"],[0.2,\"#de77ae\"],[0.3,\"#f1b6da\"],[0.4,\"#fde0ef\"],[0.5,\"#f7f7f7\"],[0.6,\"#e6f5d0\"],[0.7,\"#b8e186\"],[0.8,\"#7fbc41\"],[0.9,\"#4d9221\"],[1,\"#276419\"]]},\"xaxis\":{\"gridcolor\":\"white\",\"linecolor\":\"white\",\"ticks\":\"\",\"title\":{\"standoff\":15},\"zerolinecolor\":\"white\",\"automargin\":true,\"zerolinewidth\":2},\"yaxis\":{\"gridcolor\":\"white\",\"linecolor\":\"white\",\"ticks\":\"\",\"title\":{\"standoff\":15},\"zerolinecolor\":\"white\",\"automargin\":true,\"zerolinewidth\":2},\"scene\":{\"xaxis\":{\"backgroundcolor\":\"#E5ECF6\",\"gridcolor\":\"white\",\"linecolor\":\"white\",\"showbackground\":true,\"ticks\":\"\",\"zerolinecolor\":\"white\",\"gridwidth\":2},\"yaxis\":{\"backgroundcolor\":\"#E5ECF6\",\"gridcolor\":\"white\",\"linecolor\":\"white\",\"showbackground\":true,\"ticks\":\"\",\"zerolinecolor\":\"white\",\"gridwidth\":2},\"zaxis\":{\"backgroundcolor\":\"#E5ECF6\",\"gridcolor\":\"white\",\"linecolor\":\"white\",\"showbackground\":true,\"ticks\":\"\",\"zerolinecolor\":\"white\",\"gridwidth\":2}},\"shapedefaults\":{\"line\":{\"color\":\"#2a3f5f\"}},\"annotationdefaults\":{\"arrowcolor\":\"#2a3f5f\",\"arrowhead\":0,\"arrowwidth\":1},\"geo\":{\"bgcolor\":\"white\",\"landcolor\":\"#E5ECF6\",\"subunitcolor\":\"white\",\"showland\":true,\"showlakes\":true,\"lakecolor\":\"white\"},\"title\":{\"x\":0.05},\"mapbox\":{\"style\":\"light\"}}},\"xaxis\":{\"anchor\":\"y\",\"domain\":[0.0,0.32],\"categoryorder\":\"array\",\"categoryarray\":[\"Full Remission\",\"Remission\",\"Partial Remission\",\"No/Mild Remission\"],\"tickangle\":-45},\"yaxis\":{\"anchor\":\"x\",\"domain\":[0.0,1.0],\"title\":{\"text\":\"Count\"}},\"xaxis2\":{\"anchor\":\"y2\",\"domain\":[0.34,0.66],\"categoryorder\":\"array\",\"categoryarray\":[\"Worst\",\"No Change\",\"Improvement\",\"Big Improvement\"],\"title\":{\"text\":\"Drug Efficiency Labels\"},\"tickangle\":-45},\"yaxis2\":{\"anchor\":\"x2\",\"domain\":[0.0,1.0],\"matches\":\"y\",\"showticklabels\":false},\"xaxis3\":{\"anchor\":\"y3\",\"domain\":[0.68,1.0],\"categoryorder\":\"array\",\"categoryarray\":[\"No Response\",\"Partial Response\",\"Full Response\"],\"tickangle\":-45},\"yaxis3\":{\"anchor\":\"x3\",\"domain\":[0.0,1.0],\"matches\":\"y\",\"showticklabels\":false},\"font\":{\"size\":15},\"title\":{\"font\":{\"size\":20},\"text\":\"Figure 4. Agitation Only with Patients taking Fluoxetine\",\"x\":0.5,\"xanchor\":\"center\"},\"showlegend\":true,\"width\":1600,\"height\":900},                        {\"responsive\": true}                    ).then(function(){\n",
       "                            \n",
       "var gd = document.getElementById('cddc21c2-6219-4d17-aee3-5e945a1a413d');\n",
       "var x = new MutationObserver(function (mutations, observer) {{\n",
       "        var display = window.getComputedStyle(gd).display;\n",
       "        if (!display || display === 'none') {{\n",
       "            console.log([gd, 'removed!']);\n",
       "            Plotly.purge(gd);\n",
       "            observer.disconnect();\n",
       "        }}\n",
       "}});\n",
       "\n",
       "// Listen for the removal of the full notebook cells\n",
       "var notebookContainer = gd.closest('#notebook-container');\n",
       "if (notebookContainer) {{\n",
       "    x.observe(notebookContainer, {childList: true});\n",
       "}}\n",
       "\n",
       "// Listen for the clearing of the current output cell\n",
       "var outputEl = gd.closest('.output');\n",
       "if (outputEl) {{\n",
       "    x.observe(outputEl, {childList: true});\n",
       "}}\n",
       "\n",
       "                        })                };                });            </script>        </div>"
      ]
     },
     "metadata": {},
     "output_type": "display_data"
    }
   ],
   "source": [
    "a_of = a_o[a_o['DRUG'] == 'Fluoxetine']\n",
    "aof1 = go.Histogram(x = a_of['Remission'], name = 'Remission')\n",
    "aof2 = go.Histogram(x = a_of['Difference'], name = 'Difference')\n",
    "aof3 = go.Histogram(x = a_of['Response'], name = 'Response')\n",
    "\n",
    "fig4 = make_subplots(rows = 1, cols = 3, shared_yaxes = True, horizontal_spacing = 0.02)\n",
    "fig4.add_trace(aof1, row = 1, col = 1)\n",
    "fig4.add_trace(aof2, row = 1, col = 2)\n",
    "fig4.add_trace(aof3, row = 1, col = 3)\n",
    "\n",
    "fig4.update_xaxes(categoryorder = 'array', categoryarray = remission_labels, row = 1, col = 1)\n",
    "fig4.update_xaxes(categoryorder = 'array', categoryarray = difference_labels, row = 1, col = 2)\n",
    "fig4.update_xaxes(categoryorder = 'array', categoryarray = response_labels, row = 1, col = 3)\n",
    "\n",
    "fig4.update_layout(\n",
    "    font = {\n",
    "        \"size\": 15\n",
    "    },\n",
    "    \n",
    "    title = {\n",
    "        \"text\": 'Figure 4. Agitation Only with Patients taking Fluoxetine',\n",
    "        \"x\": 0.5,\n",
    "        \"xanchor\" : \"center\",\n",
    "        \"font\" : {\n",
    "            \"size\": 20\n",
    "        }\n",
    "    },\n",
    "    #xaxis =dict(tickmode = 'linear',\n",
    "    #tick0 = 0,\n",
    "    #dtick = 1),\n",
    "    xaxis1 = {\n",
    "        \"tickangle\": -45,\n",
    "    },\n",
    "    xaxis2 = {\n",
    "        \"title\" : 'Drug Efficiency Labels',\n",
    "        \"tickangle\": -45,\n",
    "    },\n",
    "    xaxis3 = {\n",
    "        \"tickangle\": -45,\n",
    "    },\n",
    "#     xaxis_title = 'Drug Efficiency Labels',\n",
    "    yaxis_title = 'Count',\n",
    "    showlegend = True,\n",
    "    width = 1600,\n",
    "    height = 900)\n",
    "\n",
    "fig4.show()"
   ]
  },
  {
   "cell_type": "code",
   "execution_count": 206,
   "metadata": {},
   "outputs": [
    {
     "data": {
      "text/plain": [
       "[0, 3, 7, 4, 5, 0, 9, 0, 5, 5, 4]"
      ]
     },
     "execution_count": 206,
     "metadata": {},
     "output_type": "execute_result"
    }
   ],
   "source": [
    "# Fluoxetine Remission\n",
    "\n",
    "mild_af = len(a_of[a_of['Remission'] == 'No/Mild Remission'])\n",
    "part_af = len(a_of[a_of['Remission'] == 'Partial Remission'])\n",
    "remi_af = len(a_of[a_of['Remission'] == 'Remission'])\n",
    "full_af = len(a_of[a_of['Remission'] == 'Full Remission'])\n",
    "                             \n",
    "# Fluoxetine Difference\n",
    "wor_af = len(a_of[a_of['Difference'] == 'Worst'])\n",
    "nc_af = len(a_of[a_of['Difference'] == 'No Change'])\n",
    "i_af = len(a_of[a_of['Difference'] == 'Improvement'])\n",
    "bi_af = len(a_of[a_of['Difference'] == 'Big Improvement'])\n",
    "                             \n",
    "#Fluoxetine Response\n",
    "nr_af = len(a_of[a_of['Response'] == 'No Response'])\n",
    "pr_af = len(a_of[a_of['Response'] == 'Partial Response'])\n",
    "fr_af = len(a_of[a_of['Response'] == 'Full Response'])\n",
    "                             \n",
    "af = [mild_af, part_af, remi_af, full_af,\n",
    "        wor_af, nc_af, i_af, bi_af,\n",
    "        nr_af, pr_af, fr_af]\n",
    "\n",
    "af"
   ]
  },
  {
   "cell_type": "markdown",
   "metadata": {},
   "source": [
    "# Retardation Only for each drug"
   ]
  },
  {
   "cell_type": "code",
   "execution_count": 207,
   "metadata": {},
   "outputs": [
    {
     "data": {
      "application/vnd.plotly.v1+json": {
       "config": {
        "plotlyServerURL": "https://plot.ly"
       },
       "data": [
        {
         "name": "Remission",
         "type": "histogram",
         "x": [
          "Partial Remission",
          "Remission",
          "Full Remission",
          "Remission",
          "Remission",
          "Full Remission",
          "Full Remission",
          "Remission",
          "Full Remission",
          "Full Remission",
          "Full Remission",
          "Full Remission",
          "Remission",
          "Full Remission",
          "Remission",
          "Remission",
          "Full Remission",
          "Full Remission",
          "Remission",
          "Remission",
          "Remission",
          "Remission",
          "Remission",
          "Partial Remission",
          "Remission",
          "Remission",
          "Partial Remission",
          "Full Remission",
          "Remission",
          "Remission",
          "Remission",
          "Partial Remission",
          "Full Remission",
          "Remission",
          "Full Remission",
          "Remission",
          "Partial Remission",
          "Full Remission",
          "Remission",
          "Full Remission",
          "No/Mild Remission",
          "Full Remission",
          "Remission",
          "Remission",
          "Remission",
          "Remission",
          "No/Mild Remission",
          "Remission",
          "Remission",
          "Remission",
          "Full Remission",
          "Remission",
          "Remission",
          "Remission",
          "Full Remission",
          "Remission",
          "Remission",
          "Remission",
          "Remission",
          "Remission",
          "Full Remission",
          "Remission",
          "No/Mild Remission",
          "Remission",
          "Full Remission",
          "Remission",
          "Remission",
          "Remission",
          "Full Remission",
          "Remission",
          "Remission",
          "Remission",
          "Remission",
          "Partial Remission",
          "No/Mild Remission",
          "Remission",
          "Remission",
          "Full Remission",
          "Partial Remission",
          "Partial Remission",
          "Remission",
          "Partial Remission",
          "Remission",
          "Full Remission",
          "Remission",
          "Remission",
          "Full Remission",
          "Remission",
          "Remission",
          "Full Remission",
          "Remission",
          "Partial Remission",
          "Full Remission",
          "Remission",
          "Full Remission",
          "Full Remission",
          "Full Remission",
          "Full Remission",
          "Full Remission",
          "Remission",
          "Remission",
          "Full Remission",
          "Remission",
          "Full Remission",
          "Remission",
          "Full Remission",
          "Full Remission",
          "Full Remission",
          "Remission",
          "Full Remission",
          "Full Remission",
          "Remission",
          "Full Remission",
          "Full Remission",
          "Remission",
          "Full Remission",
          "Full Remission",
          "Full Remission",
          "Full Remission",
          "Remission",
          "Full Remission",
          "Full Remission",
          "Full Remission",
          "Remission",
          "Full Remission",
          "Full Remission",
          "Full Remission",
          "Remission",
          "Remission",
          "Remission",
          "Remission",
          "Remission",
          "Remission",
          "Full Remission",
          "Remission",
          "Full Remission",
          "Full Remission",
          "Remission",
          "Remission",
          "Full Remission",
          "Full Remission",
          "Full Remission",
          "Remission",
          "Remission",
          "Remission",
          "Remission",
          "Remission",
          "Full Remission",
          "Full Remission",
          "Full Remission",
          "Full Remission",
          "Full Remission",
          "Full Remission",
          "Full Remission",
          "Full Remission",
          "Full Remission",
          "Full Remission",
          "Full Remission",
          "Remission",
          "Partial Remission",
          "Remission",
          "Full Remission",
          "Remission",
          "Partial Remission",
          "Full Remission",
          "Full Remission",
          "Remission",
          "Remission",
          "Full Remission",
          "Remission",
          "Remission",
          "Remission",
          "Full Remission",
          "Partial Remission",
          "Remission",
          "Full Remission",
          "Remission",
          "Remission",
          "Remission",
          "Remission",
          "Remission",
          "Remission",
          "Full Remission",
          "Remission",
          "Remission",
          "Full Remission",
          "Full Remission",
          "Full Remission",
          "Full Remission",
          "Full Remission",
          "Full Remission",
          "Full Remission",
          "Full Remission",
          "Full Remission",
          "Full Remission",
          "Full Remission",
          "Full Remission",
          "Full Remission",
          "Full Remission",
          "Remission",
          "Remission",
          "Remission",
          "Full Remission",
          "Full Remission",
          "Full Remission",
          "Full Remission",
          "Remission",
          "Full Remission",
          "Remission",
          "Full Remission",
          "Remission",
          "Full Remission",
          "Remission",
          "Remission",
          "Remission",
          "Remission",
          "Full Remission",
          "Full Remission",
          "Remission",
          "Full Remission",
          "Full Remission",
          "Full Remission",
          "Remission",
          "Remission",
          "Remission",
          "Full Remission",
          "Full Remission",
          "Full Remission",
          "Remission",
          "Full Remission",
          "Full Remission",
          "Full Remission",
          "Remission",
          "Full Remission",
          "Remission",
          "Full Remission",
          "Full Remission",
          "Full Remission",
          "Remission",
          "Full Remission",
          "Partial Remission",
          "Remission"
         ],
         "xaxis": "x",
         "yaxis": "y"
        },
        {
         "name": "Difference",
         "type": "histogram",
         "x": [
          "Worst",
          "Improvement",
          "Improvement",
          "Improvement",
          "No Change",
          "Improvement",
          "Improvement",
          "Improvement",
          "Improvement",
          "Improvement",
          "No Change",
          "Improvement",
          "Improvement",
          "Improvement",
          "Worst",
          "Worst",
          "Improvement",
          "Big Improvement",
          "Improvement",
          "Improvement",
          "Improvement",
          "Improvement",
          "No Change",
          "Improvement",
          "Improvement",
          "Improvement",
          "Worst",
          "Improvement",
          "Improvement",
          "Improvement",
          "Improvement",
          "Improvement",
          "Improvement",
          "Improvement",
          "Improvement",
          "Improvement",
          "Improvement",
          "Improvement",
          "Improvement",
          "Big Improvement",
          "Improvement",
          "Big Improvement",
          "Improvement",
          "Improvement",
          "Improvement",
          "Improvement",
          "Worst",
          "Big Improvement",
          "Improvement",
          "Improvement",
          "Big Improvement",
          "Improvement",
          "Improvement",
          "Improvement",
          "Big Improvement",
          "Improvement",
          "Improvement",
          "Improvement",
          "Improvement",
          "Improvement",
          "Improvement",
          "Improvement",
          "Improvement",
          "Big Improvement",
          "Big Improvement",
          "Improvement",
          "Improvement",
          "Improvement",
          "Big Improvement",
          "Improvement",
          "Improvement",
          "Improvement",
          "Improvement",
          "Improvement",
          "Worst",
          "Big Improvement",
          "Improvement",
          "Big Improvement",
          "Improvement",
          "Improvement",
          "Improvement",
          "Improvement",
          "Improvement",
          "Big Improvement",
          "Improvement",
          "Big Improvement",
          "Big Improvement",
          "Improvement",
          "Improvement",
          "Big Improvement",
          "Improvement",
          "Improvement",
          "Improvement",
          "Improvement",
          "Improvement",
          "Big Improvement",
          "Improvement",
          "Improvement",
          "Improvement",
          "Improvement",
          "Worst",
          "Improvement",
          "Worst",
          "Big Improvement",
          "Improvement",
          "Improvement",
          "Improvement",
          "Improvement",
          "Improvement",
          "Improvement",
          "Improvement",
          "Improvement",
          "Improvement",
          "Big Improvement",
          "Improvement",
          "Improvement",
          "Improvement",
          "Improvement",
          "Improvement",
          "Improvement",
          "Improvement",
          "Improvement",
          "Worst",
          "Improvement",
          "Improvement",
          "Improvement",
          "Big Improvement",
          "Improvement",
          "Improvement",
          "Improvement",
          "Improvement",
          "Improvement",
          "Improvement",
          "Improvement",
          "Improvement",
          "Improvement",
          "Big Improvement",
          "Improvement",
          "Improvement",
          "Big Improvement",
          "Improvement",
          "Improvement",
          "Improvement",
          "Improvement",
          "Improvement",
          "Improvement",
          "Improvement",
          "Big Improvement",
          "Improvement",
          "Big Improvement",
          "Improvement",
          "Big Improvement",
          "Big Improvement",
          "Big Improvement",
          "Improvement",
          "Improvement",
          "Improvement",
          "Improvement",
          "Improvement",
          "Improvement",
          "Improvement",
          "Improvement",
          "Improvement",
          "Improvement",
          "Improvement",
          "Improvement",
          "Improvement",
          "Improvement",
          "Improvement",
          "Improvement",
          "Improvement",
          "Improvement",
          "Improvement",
          "Worst",
          "Improvement",
          "Improvement",
          "Improvement",
          "Improvement",
          "Improvement",
          "Improvement",
          "Improvement",
          "Improvement",
          "Big Improvement",
          "Improvement",
          "Improvement",
          "Big Improvement",
          "Big Improvement",
          "Big Improvement",
          "Big Improvement",
          "Big Improvement",
          "Improvement",
          "Improvement",
          "Improvement",
          "Improvement",
          "Big Improvement",
          "Improvement",
          "Improvement",
          "Improvement",
          "Improvement",
          "Improvement",
          "Improvement",
          "Improvement",
          "Big Improvement",
          "Improvement",
          "Improvement",
          "Improvement",
          "Worst",
          "Improvement",
          "Improvement",
          "Improvement",
          "Improvement",
          "Improvement",
          "Improvement",
          "Improvement",
          "Big Improvement",
          "Improvement",
          "Big Improvement",
          "Big Improvement",
          "Improvement",
          "Improvement",
          "Big Improvement",
          "Big Improvement",
          "Improvement",
          "Improvement",
          "Improvement",
          "Improvement",
          "Improvement",
          "Improvement",
          "Improvement",
          "Improvement",
          "Improvement",
          "Big Improvement",
          "Improvement",
          "Improvement",
          "Improvement",
          "Worst",
          "Big Improvement",
          "Improvement",
          "Improvement",
          "Improvement",
          "Improvement",
          "Big Improvement"
         ],
         "xaxis": "x2",
         "yaxis": "y2"
        },
        {
         "name": "Response",
         "type": "histogram",
         "x": [
          "No Response",
          "Full Response",
          "Full Response",
          "Partial Response",
          "No Response",
          "Full Response",
          "Partial Response",
          "Partial Response",
          "Full Response",
          "Partial Response",
          "No Response",
          "Partial Response",
          "Partial Response",
          "Partial Response",
          "No Response",
          "No Response",
          "Full Response",
          "Full Response",
          "Partial Response",
          "Partial Response",
          "Partial Response",
          "Partial Response",
          "No Response",
          "Partial Response",
          "Partial Response",
          "Partial Response",
          "No Response",
          "Partial Response",
          "Full Response",
          "Full Response",
          "Partial Response",
          "Partial Response",
          "Full Response",
          "Partial Response",
          "Full Response",
          "Partial Response",
          "Partial Response",
          "Full Response",
          "Partial Response",
          "Full Response",
          "Partial Response",
          "Full Response",
          "Partial Response",
          "Full Response",
          "Full Response",
          "Partial Response",
          "No Response",
          "Full Response",
          "Full Response",
          "Partial Response",
          "Full Response",
          "Partial Response",
          "Partial Response",
          "Partial Response",
          "Full Response",
          "Partial Response",
          "Full Response",
          "Partial Response",
          "Partial Response",
          "Partial Response",
          "Full Response",
          "Partial Response",
          "Partial Response",
          "Full Response",
          "Full Response",
          "Full Response",
          "Partial Response",
          "Full Response",
          "Full Response",
          "Full Response",
          "Partial Response",
          "Full Response",
          "Partial Response",
          "Partial Response",
          "No Response",
          "Full Response",
          "Full Response",
          "Full Response",
          "Partial Response",
          "Partial Response",
          "Partial Response",
          "Partial Response",
          "Full Response",
          "Full Response",
          "Full Response",
          "Full Response",
          "Full Response",
          "Partial Response",
          "Partial Response",
          "Full Response",
          "Partial Response",
          "Partial Response",
          "Full Response",
          "Full Response",
          "Full Response",
          "Full Response",
          "Partial Response",
          "Partial Response",
          "Full Response",
          "Partial Response",
          "No Response",
          "Partial Response",
          "No Response",
          "Full Response",
          "Partial Response",
          "Partial Response",
          "Full Response",
          "Full Response",
          "Partial Response",
          "Partial Response",
          "Full Response",
          "Partial Response",
          "Full Response",
          "Full Response",
          "Partial Response",
          "Full Response",
          "Full Response",
          "Partial Response",
          "Full Response",
          "Full Response",
          "Full Response",
          "Full Response",
          "No Response",
          "Partial Response",
          "Full Response",
          "Full Response",
          "Full Response",
          "Partial Response",
          "Partial Response",
          "Partial Response",
          "Partial Response",
          "Full Response",
          "Partial Response",
          "Full Response",
          "Full Response",
          "Full Response",
          "Full Response",
          "Full Response",
          "Partial Response",
          "Full Response",
          "Full Response",
          "Full Response",
          "Partial Response",
          "Full Response",
          "Full Response",
          "Partial Response",
          "Full Response",
          "Full Response",
          "Full Response",
          "Full Response",
          "Full Response",
          "Full Response",
          "Full Response",
          "Full Response",
          "Partial Response",
          "Full Response",
          "Partial Response",
          "Full Response",
          "Partial Response",
          "Partial Response",
          "Partial Response",
          "Full Response",
          "Full Response",
          "Partial Response",
          "Full Response",
          "Full Response",
          "Full Response",
          "Partial Response",
          "Partial Response",
          "Partial Response",
          "Partial Response",
          "Partial Response",
          "Full Response",
          "No Response",
          "Partial Response",
          "Full Response",
          "Full Response",
          "Full Response",
          "Partial Response",
          "Partial Response",
          "Partial Response",
          "Partial Response",
          "Full Response",
          "Partial Response",
          "Partial Response",
          "Full Response",
          "Full Response",
          "Full Response",
          "Full Response",
          "Full Response",
          "Full Response",
          "Full Response",
          "Full Response",
          "Full Response",
          "Full Response",
          "Full Response",
          "Full Response",
          "Full Response",
          "Full Response",
          "Full Response",
          "Partial Response",
          "Full Response",
          "Full Response",
          "Full Response",
          "Full Response",
          "Full Response",
          "No Response",
          "Full Response",
          "Partial Response",
          "Full Response",
          "Partial Response",
          "Full Response",
          "Partial Response",
          "Full Response",
          "Full Response",
          "Partial Response",
          "Full Response",
          "Full Response",
          "Full Response",
          "Full Response",
          "Full Response",
          "Full Response",
          "Partial Response",
          "Partial Response",
          "Full Response",
          "Full Response",
          "Full Response",
          "Full Response",
          "Partial Response",
          "Full Response",
          "Full Response",
          "Full Response",
          "Full Response",
          "Full Response",
          "Partial Response",
          "No Response",
          "Full Response",
          "Full Response",
          "Partial Response",
          "Full Response",
          "Partial Response",
          "Full Response"
         ],
         "xaxis": "x3",
         "yaxis": "y3"
        }
       ],
       "layout": {
        "font": {
         "size": 15
        },
        "height": 900,
        "showlegend": true,
        "template": {
         "data": {
          "bar": [
           {
            "error_x": {
             "color": "#2a3f5f"
            },
            "error_y": {
             "color": "#2a3f5f"
            },
            "marker": {
             "line": {
              "color": "#E5ECF6",
              "width": 0.5
             },
             "pattern": {
              "fillmode": "overlay",
              "size": 10,
              "solidity": 0.2
             }
            },
            "type": "bar"
           }
          ],
          "barpolar": [
           {
            "marker": {
             "line": {
              "color": "#E5ECF6",
              "width": 0.5
             },
             "pattern": {
              "fillmode": "overlay",
              "size": 10,
              "solidity": 0.2
             }
            },
            "type": "barpolar"
           }
          ],
          "carpet": [
           {
            "aaxis": {
             "endlinecolor": "#2a3f5f",
             "gridcolor": "white",
             "linecolor": "white",
             "minorgridcolor": "white",
             "startlinecolor": "#2a3f5f"
            },
            "baxis": {
             "endlinecolor": "#2a3f5f",
             "gridcolor": "white",
             "linecolor": "white",
             "minorgridcolor": "white",
             "startlinecolor": "#2a3f5f"
            },
            "type": "carpet"
           }
          ],
          "choropleth": [
           {
            "colorbar": {
             "outlinewidth": 0,
             "ticks": ""
            },
            "type": "choropleth"
           }
          ],
          "contour": [
           {
            "colorbar": {
             "outlinewidth": 0,
             "ticks": ""
            },
            "colorscale": [
             [
              0,
              "#0d0887"
             ],
             [
              0.1111111111111111,
              "#46039f"
             ],
             [
              0.2222222222222222,
              "#7201a8"
             ],
             [
              0.3333333333333333,
              "#9c179e"
             ],
             [
              0.4444444444444444,
              "#bd3786"
             ],
             [
              0.5555555555555556,
              "#d8576b"
             ],
             [
              0.6666666666666666,
              "#ed7953"
             ],
             [
              0.7777777777777778,
              "#fb9f3a"
             ],
             [
              0.8888888888888888,
              "#fdca26"
             ],
             [
              1,
              "#f0f921"
             ]
            ],
            "type": "contour"
           }
          ],
          "contourcarpet": [
           {
            "colorbar": {
             "outlinewidth": 0,
             "ticks": ""
            },
            "type": "contourcarpet"
           }
          ],
          "heatmap": [
           {
            "colorbar": {
             "outlinewidth": 0,
             "ticks": ""
            },
            "colorscale": [
             [
              0,
              "#0d0887"
             ],
             [
              0.1111111111111111,
              "#46039f"
             ],
             [
              0.2222222222222222,
              "#7201a8"
             ],
             [
              0.3333333333333333,
              "#9c179e"
             ],
             [
              0.4444444444444444,
              "#bd3786"
             ],
             [
              0.5555555555555556,
              "#d8576b"
             ],
             [
              0.6666666666666666,
              "#ed7953"
             ],
             [
              0.7777777777777778,
              "#fb9f3a"
             ],
             [
              0.8888888888888888,
              "#fdca26"
             ],
             [
              1,
              "#f0f921"
             ]
            ],
            "type": "heatmap"
           }
          ],
          "heatmapgl": [
           {
            "colorbar": {
             "outlinewidth": 0,
             "ticks": ""
            },
            "colorscale": [
             [
              0,
              "#0d0887"
             ],
             [
              0.1111111111111111,
              "#46039f"
             ],
             [
              0.2222222222222222,
              "#7201a8"
             ],
             [
              0.3333333333333333,
              "#9c179e"
             ],
             [
              0.4444444444444444,
              "#bd3786"
             ],
             [
              0.5555555555555556,
              "#d8576b"
             ],
             [
              0.6666666666666666,
              "#ed7953"
             ],
             [
              0.7777777777777778,
              "#fb9f3a"
             ],
             [
              0.8888888888888888,
              "#fdca26"
             ],
             [
              1,
              "#f0f921"
             ]
            ],
            "type": "heatmapgl"
           }
          ],
          "histogram": [
           {
            "marker": {
             "pattern": {
              "fillmode": "overlay",
              "size": 10,
              "solidity": 0.2
             }
            },
            "type": "histogram"
           }
          ],
          "histogram2d": [
           {
            "colorbar": {
             "outlinewidth": 0,
             "ticks": ""
            },
            "colorscale": [
             [
              0,
              "#0d0887"
             ],
             [
              0.1111111111111111,
              "#46039f"
             ],
             [
              0.2222222222222222,
              "#7201a8"
             ],
             [
              0.3333333333333333,
              "#9c179e"
             ],
             [
              0.4444444444444444,
              "#bd3786"
             ],
             [
              0.5555555555555556,
              "#d8576b"
             ],
             [
              0.6666666666666666,
              "#ed7953"
             ],
             [
              0.7777777777777778,
              "#fb9f3a"
             ],
             [
              0.8888888888888888,
              "#fdca26"
             ],
             [
              1,
              "#f0f921"
             ]
            ],
            "type": "histogram2d"
           }
          ],
          "histogram2dcontour": [
           {
            "colorbar": {
             "outlinewidth": 0,
             "ticks": ""
            },
            "colorscale": [
             [
              0,
              "#0d0887"
             ],
             [
              0.1111111111111111,
              "#46039f"
             ],
             [
              0.2222222222222222,
              "#7201a8"
             ],
             [
              0.3333333333333333,
              "#9c179e"
             ],
             [
              0.4444444444444444,
              "#bd3786"
             ],
             [
              0.5555555555555556,
              "#d8576b"
             ],
             [
              0.6666666666666666,
              "#ed7953"
             ],
             [
              0.7777777777777778,
              "#fb9f3a"
             ],
             [
              0.8888888888888888,
              "#fdca26"
             ],
             [
              1,
              "#f0f921"
             ]
            ],
            "type": "histogram2dcontour"
           }
          ],
          "mesh3d": [
           {
            "colorbar": {
             "outlinewidth": 0,
             "ticks": ""
            },
            "type": "mesh3d"
           }
          ],
          "parcoords": [
           {
            "line": {
             "colorbar": {
              "outlinewidth": 0,
              "ticks": ""
             }
            },
            "type": "parcoords"
           }
          ],
          "pie": [
           {
            "automargin": true,
            "type": "pie"
           }
          ],
          "scatter": [
           {
            "fillpattern": {
             "fillmode": "overlay",
             "size": 10,
             "solidity": 0.2
            },
            "type": "scatter"
           }
          ],
          "scatter3d": [
           {
            "line": {
             "colorbar": {
              "outlinewidth": 0,
              "ticks": ""
             }
            },
            "marker": {
             "colorbar": {
              "outlinewidth": 0,
              "ticks": ""
             }
            },
            "type": "scatter3d"
           }
          ],
          "scattercarpet": [
           {
            "marker": {
             "colorbar": {
              "outlinewidth": 0,
              "ticks": ""
             }
            },
            "type": "scattercarpet"
           }
          ],
          "scattergeo": [
           {
            "marker": {
             "colorbar": {
              "outlinewidth": 0,
              "ticks": ""
             }
            },
            "type": "scattergeo"
           }
          ],
          "scattergl": [
           {
            "marker": {
             "colorbar": {
              "outlinewidth": 0,
              "ticks": ""
             }
            },
            "type": "scattergl"
           }
          ],
          "scattermapbox": [
           {
            "marker": {
             "colorbar": {
              "outlinewidth": 0,
              "ticks": ""
             }
            },
            "type": "scattermapbox"
           }
          ],
          "scatterpolar": [
           {
            "marker": {
             "colorbar": {
              "outlinewidth": 0,
              "ticks": ""
             }
            },
            "type": "scatterpolar"
           }
          ],
          "scatterpolargl": [
           {
            "marker": {
             "colorbar": {
              "outlinewidth": 0,
              "ticks": ""
             }
            },
            "type": "scatterpolargl"
           }
          ],
          "scatterternary": [
           {
            "marker": {
             "colorbar": {
              "outlinewidth": 0,
              "ticks": ""
             }
            },
            "type": "scatterternary"
           }
          ],
          "surface": [
           {
            "colorbar": {
             "outlinewidth": 0,
             "ticks": ""
            },
            "colorscale": [
             [
              0,
              "#0d0887"
             ],
             [
              0.1111111111111111,
              "#46039f"
             ],
             [
              0.2222222222222222,
              "#7201a8"
             ],
             [
              0.3333333333333333,
              "#9c179e"
             ],
             [
              0.4444444444444444,
              "#bd3786"
             ],
             [
              0.5555555555555556,
              "#d8576b"
             ],
             [
              0.6666666666666666,
              "#ed7953"
             ],
             [
              0.7777777777777778,
              "#fb9f3a"
             ],
             [
              0.8888888888888888,
              "#fdca26"
             ],
             [
              1,
              "#f0f921"
             ]
            ],
            "type": "surface"
           }
          ],
          "table": [
           {
            "cells": {
             "fill": {
              "color": "#EBF0F8"
             },
             "line": {
              "color": "white"
             }
            },
            "header": {
             "fill": {
              "color": "#C8D4E3"
             },
             "line": {
              "color": "white"
             }
            },
            "type": "table"
           }
          ]
         },
         "layout": {
          "annotationdefaults": {
           "arrowcolor": "#2a3f5f",
           "arrowhead": 0,
           "arrowwidth": 1
          },
          "autotypenumbers": "strict",
          "coloraxis": {
           "colorbar": {
            "outlinewidth": 0,
            "ticks": ""
           }
          },
          "colorscale": {
           "diverging": [
            [
             0,
             "#8e0152"
            ],
            [
             0.1,
             "#c51b7d"
            ],
            [
             0.2,
             "#de77ae"
            ],
            [
             0.3,
             "#f1b6da"
            ],
            [
             0.4,
             "#fde0ef"
            ],
            [
             0.5,
             "#f7f7f7"
            ],
            [
             0.6,
             "#e6f5d0"
            ],
            [
             0.7,
             "#b8e186"
            ],
            [
             0.8,
             "#7fbc41"
            ],
            [
             0.9,
             "#4d9221"
            ],
            [
             1,
             "#276419"
            ]
           ],
           "sequential": [
            [
             0,
             "#0d0887"
            ],
            [
             0.1111111111111111,
             "#46039f"
            ],
            [
             0.2222222222222222,
             "#7201a8"
            ],
            [
             0.3333333333333333,
             "#9c179e"
            ],
            [
             0.4444444444444444,
             "#bd3786"
            ],
            [
             0.5555555555555556,
             "#d8576b"
            ],
            [
             0.6666666666666666,
             "#ed7953"
            ],
            [
             0.7777777777777778,
             "#fb9f3a"
            ],
            [
             0.8888888888888888,
             "#fdca26"
            ],
            [
             1,
             "#f0f921"
            ]
           ],
           "sequentialminus": [
            [
             0,
             "#0d0887"
            ],
            [
             0.1111111111111111,
             "#46039f"
            ],
            [
             0.2222222222222222,
             "#7201a8"
            ],
            [
             0.3333333333333333,
             "#9c179e"
            ],
            [
             0.4444444444444444,
             "#bd3786"
            ],
            [
             0.5555555555555556,
             "#d8576b"
            ],
            [
             0.6666666666666666,
             "#ed7953"
            ],
            [
             0.7777777777777778,
             "#fb9f3a"
            ],
            [
             0.8888888888888888,
             "#fdca26"
            ],
            [
             1,
             "#f0f921"
            ]
           ]
          },
          "colorway": [
           "#636efa",
           "#EF553B",
           "#00cc96",
           "#ab63fa",
           "#FFA15A",
           "#19d3f3",
           "#FF6692",
           "#B6E880",
           "#FF97FF",
           "#FECB52"
          ],
          "font": {
           "color": "#2a3f5f"
          },
          "geo": {
           "bgcolor": "white",
           "lakecolor": "white",
           "landcolor": "#E5ECF6",
           "showlakes": true,
           "showland": true,
           "subunitcolor": "white"
          },
          "hoverlabel": {
           "align": "left"
          },
          "hovermode": "closest",
          "mapbox": {
           "style": "light"
          },
          "paper_bgcolor": "white",
          "plot_bgcolor": "#E5ECF6",
          "polar": {
           "angularaxis": {
            "gridcolor": "white",
            "linecolor": "white",
            "ticks": ""
           },
           "bgcolor": "#E5ECF6",
           "radialaxis": {
            "gridcolor": "white",
            "linecolor": "white",
            "ticks": ""
           }
          },
          "scene": {
           "xaxis": {
            "backgroundcolor": "#E5ECF6",
            "gridcolor": "white",
            "gridwidth": 2,
            "linecolor": "white",
            "showbackground": true,
            "ticks": "",
            "zerolinecolor": "white"
           },
           "yaxis": {
            "backgroundcolor": "#E5ECF6",
            "gridcolor": "white",
            "gridwidth": 2,
            "linecolor": "white",
            "showbackground": true,
            "ticks": "",
            "zerolinecolor": "white"
           },
           "zaxis": {
            "backgroundcolor": "#E5ECF6",
            "gridcolor": "white",
            "gridwidth": 2,
            "linecolor": "white",
            "showbackground": true,
            "ticks": "",
            "zerolinecolor": "white"
           }
          },
          "shapedefaults": {
           "line": {
            "color": "#2a3f5f"
           }
          },
          "ternary": {
           "aaxis": {
            "gridcolor": "white",
            "linecolor": "white",
            "ticks": ""
           },
           "baxis": {
            "gridcolor": "white",
            "linecolor": "white",
            "ticks": ""
           },
           "bgcolor": "#E5ECF6",
           "caxis": {
            "gridcolor": "white",
            "linecolor": "white",
            "ticks": ""
           }
          },
          "title": {
           "x": 0.05
          },
          "xaxis": {
           "automargin": true,
           "gridcolor": "white",
           "linecolor": "white",
           "ticks": "",
           "title": {
            "standoff": 15
           },
           "zerolinecolor": "white",
           "zerolinewidth": 2
          },
          "yaxis": {
           "automargin": true,
           "gridcolor": "white",
           "linecolor": "white",
           "ticks": "",
           "title": {
            "standoff": 15
           },
           "zerolinecolor": "white",
           "zerolinewidth": 2
          }
         }
        },
        "title": {
         "font": {
          "size": 20
         },
         "text": "Figure 5. Retardation Only with Patients taking Duloxetine",
         "x": 0.5,
         "xanchor": "center"
        },
        "width": 1600,
        "xaxis": {
         "anchor": "y",
         "categoryarray": [
          "Full Remission",
          "Remission",
          "Partial Remission",
          "No/Mild Remission"
         ],
         "categoryorder": "array",
         "domain": [
          0,
          0.32
         ],
         "tickangle": -45
        },
        "xaxis2": {
         "anchor": "y2",
         "categoryarray": [
          "Worst",
          "No Change",
          "Improvement",
          "Big Improvement"
         ],
         "categoryorder": "array",
         "domain": [
          0.34,
          0.66
         ],
         "tickangle": -45,
         "title": {
          "text": "Drug Efficiency Labels"
         }
        },
        "xaxis3": {
         "anchor": "y3",
         "categoryarray": [
          "No Response",
          "Partial Response",
          "Full Response"
         ],
         "categoryorder": "array",
         "domain": [
          0.68,
          1
         ],
         "tickangle": -45
        },
        "yaxis": {
         "anchor": "x",
         "domain": [
          0,
          1
         ],
         "title": {
          "text": "Count"
         }
        },
        "yaxis2": {
         "anchor": "x2",
         "domain": [
          0,
          1
         ],
         "matches": "y",
         "showticklabels": false
        },
        "yaxis3": {
         "anchor": "x3",
         "domain": [
          0,
          1
         ],
         "matches": "y",
         "showticklabels": false
        }
       }
      },
      "text/html": [
       "<div>                            <div id=\"072d65e2-4082-42e9-98dc-3b7ed50ed621\" class=\"plotly-graph-div\" style=\"height:900px; width:1600px;\"></div>            <script type=\"text/javascript\">                require([\"plotly\"], function(Plotly) {                    window.PLOTLYENV=window.PLOTLYENV || {};                                    if (document.getElementById(\"072d65e2-4082-42e9-98dc-3b7ed50ed621\")) {                    Plotly.newPlot(                        \"072d65e2-4082-42e9-98dc-3b7ed50ed621\",                        [{\"name\":\"Remission\",\"x\":[\"Partial Remission\",\"Remission\",\"Full Remission\",\"Remission\",\"Remission\",\"Full Remission\",\"Full Remission\",\"Remission\",\"Full Remission\",\"Full Remission\",\"Full Remission\",\"Full Remission\",\"Remission\",\"Full Remission\",\"Remission\",\"Remission\",\"Full Remission\",\"Full Remission\",\"Remission\",\"Remission\",\"Remission\",\"Remission\",\"Remission\",\"Partial Remission\",\"Remission\",\"Remission\",\"Partial Remission\",\"Full Remission\",\"Remission\",\"Remission\",\"Remission\",\"Partial Remission\",\"Full Remission\",\"Remission\",\"Full Remission\",\"Remission\",\"Partial Remission\",\"Full Remission\",\"Remission\",\"Full Remission\",\"No/Mild Remission\",\"Full Remission\",\"Remission\",\"Remission\",\"Remission\",\"Remission\",\"No/Mild Remission\",\"Remission\",\"Remission\",\"Remission\",\"Full Remission\",\"Remission\",\"Remission\",\"Remission\",\"Full Remission\",\"Remission\",\"Remission\",\"Remission\",\"Remission\",\"Remission\",\"Full Remission\",\"Remission\",\"No/Mild Remission\",\"Remission\",\"Full Remission\",\"Remission\",\"Remission\",\"Remission\",\"Full Remission\",\"Remission\",\"Remission\",\"Remission\",\"Remission\",\"Partial Remission\",\"No/Mild Remission\",\"Remission\",\"Remission\",\"Full Remission\",\"Partial Remission\",\"Partial Remission\",\"Remission\",\"Partial Remission\",\"Remission\",\"Full Remission\",\"Remission\",\"Remission\",\"Full Remission\",\"Remission\",\"Remission\",\"Full Remission\",\"Remission\",\"Partial Remission\",\"Full Remission\",\"Remission\",\"Full Remission\",\"Full Remission\",\"Full Remission\",\"Full Remission\",\"Full Remission\",\"Remission\",\"Remission\",\"Full Remission\",\"Remission\",\"Full Remission\",\"Remission\",\"Full Remission\",\"Full Remission\",\"Full Remission\",\"Remission\",\"Full Remission\",\"Full Remission\",\"Remission\",\"Full Remission\",\"Full Remission\",\"Remission\",\"Full Remission\",\"Full Remission\",\"Full Remission\",\"Full Remission\",\"Remission\",\"Full Remission\",\"Full Remission\",\"Full Remission\",\"Remission\",\"Full Remission\",\"Full Remission\",\"Full Remission\",\"Remission\",\"Remission\",\"Remission\",\"Remission\",\"Remission\",\"Remission\",\"Full Remission\",\"Remission\",\"Full Remission\",\"Full Remission\",\"Remission\",\"Remission\",\"Full Remission\",\"Full Remission\",\"Full Remission\",\"Remission\",\"Remission\",\"Remission\",\"Remission\",\"Remission\",\"Full Remission\",\"Full Remission\",\"Full Remission\",\"Full Remission\",\"Full Remission\",\"Full Remission\",\"Full Remission\",\"Full Remission\",\"Full Remission\",\"Full Remission\",\"Full Remission\",\"Remission\",\"Partial Remission\",\"Remission\",\"Full Remission\",\"Remission\",\"Partial Remission\",\"Full Remission\",\"Full Remission\",\"Remission\",\"Remission\",\"Full Remission\",\"Remission\",\"Remission\",\"Remission\",\"Full Remission\",\"Partial Remission\",\"Remission\",\"Full Remission\",\"Remission\",\"Remission\",\"Remission\",\"Remission\",\"Remission\",\"Remission\",\"Full Remission\",\"Remission\",\"Remission\",\"Full Remission\",\"Full Remission\",\"Full Remission\",\"Full Remission\",\"Full Remission\",\"Full Remission\",\"Full Remission\",\"Full Remission\",\"Full Remission\",\"Full Remission\",\"Full Remission\",\"Full Remission\",\"Full Remission\",\"Full Remission\",\"Remission\",\"Remission\",\"Remission\",\"Full Remission\",\"Full Remission\",\"Full Remission\",\"Full Remission\",\"Remission\",\"Full Remission\",\"Remission\",\"Full Remission\",\"Remission\",\"Full Remission\",\"Remission\",\"Remission\",\"Remission\",\"Remission\",\"Full Remission\",\"Full Remission\",\"Remission\",\"Full Remission\",\"Full Remission\",\"Full Remission\",\"Remission\",\"Remission\",\"Remission\",\"Full Remission\",\"Full Remission\",\"Full Remission\",\"Remission\",\"Full Remission\",\"Full Remission\",\"Full Remission\",\"Remission\",\"Full Remission\",\"Remission\",\"Full Remission\",\"Full Remission\",\"Full Remission\",\"Remission\",\"Full Remission\",\"Partial Remission\",\"Remission\"],\"type\":\"histogram\",\"xaxis\":\"x\",\"yaxis\":\"y\"},{\"name\":\"Difference\",\"x\":[\"Worst\",\"Improvement\",\"Improvement\",\"Improvement\",\"No Change\",\"Improvement\",\"Improvement\",\"Improvement\",\"Improvement\",\"Improvement\",\"No Change\",\"Improvement\",\"Improvement\",\"Improvement\",\"Worst\",\"Worst\",\"Improvement\",\"Big Improvement\",\"Improvement\",\"Improvement\",\"Improvement\",\"Improvement\",\"No Change\",\"Improvement\",\"Improvement\",\"Improvement\",\"Worst\",\"Improvement\",\"Improvement\",\"Improvement\",\"Improvement\",\"Improvement\",\"Improvement\",\"Improvement\",\"Improvement\",\"Improvement\",\"Improvement\",\"Improvement\",\"Improvement\",\"Big Improvement\",\"Improvement\",\"Big Improvement\",\"Improvement\",\"Improvement\",\"Improvement\",\"Improvement\",\"Worst\",\"Big Improvement\",\"Improvement\",\"Improvement\",\"Big Improvement\",\"Improvement\",\"Improvement\",\"Improvement\",\"Big Improvement\",\"Improvement\",\"Improvement\",\"Improvement\",\"Improvement\",\"Improvement\",\"Improvement\",\"Improvement\",\"Improvement\",\"Big Improvement\",\"Big Improvement\",\"Improvement\",\"Improvement\",\"Improvement\",\"Big Improvement\",\"Improvement\",\"Improvement\",\"Improvement\",\"Improvement\",\"Improvement\",\"Worst\",\"Big Improvement\",\"Improvement\",\"Big Improvement\",\"Improvement\",\"Improvement\",\"Improvement\",\"Improvement\",\"Improvement\",\"Big Improvement\",\"Improvement\",\"Big Improvement\",\"Big Improvement\",\"Improvement\",\"Improvement\",\"Big Improvement\",\"Improvement\",\"Improvement\",\"Improvement\",\"Improvement\",\"Improvement\",\"Big Improvement\",\"Improvement\",\"Improvement\",\"Improvement\",\"Improvement\",\"Worst\",\"Improvement\",\"Worst\",\"Big Improvement\",\"Improvement\",\"Improvement\",\"Improvement\",\"Improvement\",\"Improvement\",\"Improvement\",\"Improvement\",\"Improvement\",\"Improvement\",\"Big Improvement\",\"Improvement\",\"Improvement\",\"Improvement\",\"Improvement\",\"Improvement\",\"Improvement\",\"Improvement\",\"Improvement\",\"Worst\",\"Improvement\",\"Improvement\",\"Improvement\",\"Big Improvement\",\"Improvement\",\"Improvement\",\"Improvement\",\"Improvement\",\"Improvement\",\"Improvement\",\"Improvement\",\"Improvement\",\"Improvement\",\"Big Improvement\",\"Improvement\",\"Improvement\",\"Big Improvement\",\"Improvement\",\"Improvement\",\"Improvement\",\"Improvement\",\"Improvement\",\"Improvement\",\"Improvement\",\"Big Improvement\",\"Improvement\",\"Big Improvement\",\"Improvement\",\"Big Improvement\",\"Big Improvement\",\"Big Improvement\",\"Improvement\",\"Improvement\",\"Improvement\",\"Improvement\",\"Improvement\",\"Improvement\",\"Improvement\",\"Improvement\",\"Improvement\",\"Improvement\",\"Improvement\",\"Improvement\",\"Improvement\",\"Improvement\",\"Improvement\",\"Improvement\",\"Improvement\",\"Improvement\",\"Improvement\",\"Worst\",\"Improvement\",\"Improvement\",\"Improvement\",\"Improvement\",\"Improvement\",\"Improvement\",\"Improvement\",\"Improvement\",\"Big Improvement\",\"Improvement\",\"Improvement\",\"Big Improvement\",\"Big Improvement\",\"Big Improvement\",\"Big Improvement\",\"Big Improvement\",\"Improvement\",\"Improvement\",\"Improvement\",\"Improvement\",\"Big Improvement\",\"Improvement\",\"Improvement\",\"Improvement\",\"Improvement\",\"Improvement\",\"Improvement\",\"Improvement\",\"Big Improvement\",\"Improvement\",\"Improvement\",\"Improvement\",\"Worst\",\"Improvement\",\"Improvement\",\"Improvement\",\"Improvement\",\"Improvement\",\"Improvement\",\"Improvement\",\"Big Improvement\",\"Improvement\",\"Big Improvement\",\"Big Improvement\",\"Improvement\",\"Improvement\",\"Big Improvement\",\"Big Improvement\",\"Improvement\",\"Improvement\",\"Improvement\",\"Improvement\",\"Improvement\",\"Improvement\",\"Improvement\",\"Improvement\",\"Improvement\",\"Big Improvement\",\"Improvement\",\"Improvement\",\"Improvement\",\"Worst\",\"Big Improvement\",\"Improvement\",\"Improvement\",\"Improvement\",\"Improvement\",\"Big Improvement\"],\"type\":\"histogram\",\"xaxis\":\"x2\",\"yaxis\":\"y2\"},{\"name\":\"Response\",\"x\":[\"No Response\",\"Full Response\",\"Full Response\",\"Partial Response\",\"No Response\",\"Full Response\",\"Partial Response\",\"Partial Response\",\"Full Response\",\"Partial Response\",\"No Response\",\"Partial Response\",\"Partial Response\",\"Partial Response\",\"No Response\",\"No Response\",\"Full Response\",\"Full Response\",\"Partial Response\",\"Partial Response\",\"Partial Response\",\"Partial Response\",\"No Response\",\"Partial Response\",\"Partial Response\",\"Partial Response\",\"No Response\",\"Partial Response\",\"Full Response\",\"Full Response\",\"Partial Response\",\"Partial Response\",\"Full Response\",\"Partial Response\",\"Full Response\",\"Partial Response\",\"Partial Response\",\"Full Response\",\"Partial Response\",\"Full Response\",\"Partial Response\",\"Full Response\",\"Partial Response\",\"Full Response\",\"Full Response\",\"Partial Response\",\"No Response\",\"Full Response\",\"Full Response\",\"Partial Response\",\"Full Response\",\"Partial Response\",\"Partial Response\",\"Partial Response\",\"Full Response\",\"Partial Response\",\"Full Response\",\"Partial Response\",\"Partial Response\",\"Partial Response\",\"Full Response\",\"Partial Response\",\"Partial Response\",\"Full Response\",\"Full Response\",\"Full Response\",\"Partial Response\",\"Full Response\",\"Full Response\",\"Full Response\",\"Partial Response\",\"Full Response\",\"Partial Response\",\"Partial Response\",\"No Response\",\"Full Response\",\"Full Response\",\"Full Response\",\"Partial Response\",\"Partial Response\",\"Partial Response\",\"Partial Response\",\"Full Response\",\"Full Response\",\"Full Response\",\"Full Response\",\"Full Response\",\"Partial Response\",\"Partial Response\",\"Full Response\",\"Partial Response\",\"Partial Response\",\"Full Response\",\"Full Response\",\"Full Response\",\"Full Response\",\"Partial Response\",\"Partial Response\",\"Full Response\",\"Partial Response\",\"No Response\",\"Partial Response\",\"No Response\",\"Full Response\",\"Partial Response\",\"Partial Response\",\"Full Response\",\"Full Response\",\"Partial Response\",\"Partial Response\",\"Full Response\",\"Partial Response\",\"Full Response\",\"Full Response\",\"Partial Response\",\"Full Response\",\"Full Response\",\"Partial Response\",\"Full Response\",\"Full Response\",\"Full Response\",\"Full Response\",\"No Response\",\"Partial Response\",\"Full Response\",\"Full Response\",\"Full Response\",\"Partial Response\",\"Partial Response\",\"Partial Response\",\"Partial Response\",\"Full Response\",\"Partial Response\",\"Full Response\",\"Full Response\",\"Full Response\",\"Full Response\",\"Full Response\",\"Partial Response\",\"Full Response\",\"Full Response\",\"Full Response\",\"Partial Response\",\"Full Response\",\"Full Response\",\"Partial Response\",\"Full Response\",\"Full Response\",\"Full Response\",\"Full Response\",\"Full Response\",\"Full Response\",\"Full Response\",\"Full Response\",\"Partial Response\",\"Full Response\",\"Partial Response\",\"Full Response\",\"Partial Response\",\"Partial Response\",\"Partial Response\",\"Full Response\",\"Full Response\",\"Partial Response\",\"Full Response\",\"Full Response\",\"Full Response\",\"Partial Response\",\"Partial Response\",\"Partial Response\",\"Partial Response\",\"Partial Response\",\"Full Response\",\"No Response\",\"Partial Response\",\"Full Response\",\"Full Response\",\"Full Response\",\"Partial Response\",\"Partial Response\",\"Partial Response\",\"Partial Response\",\"Full Response\",\"Partial Response\",\"Partial Response\",\"Full Response\",\"Full Response\",\"Full Response\",\"Full Response\",\"Full Response\",\"Full Response\",\"Full Response\",\"Full Response\",\"Full Response\",\"Full Response\",\"Full Response\",\"Full Response\",\"Full Response\",\"Full Response\",\"Full Response\",\"Partial Response\",\"Full Response\",\"Full Response\",\"Full Response\",\"Full Response\",\"Full Response\",\"No Response\",\"Full Response\",\"Partial Response\",\"Full Response\",\"Partial Response\",\"Full Response\",\"Partial Response\",\"Full Response\",\"Full Response\",\"Partial Response\",\"Full Response\",\"Full Response\",\"Full Response\",\"Full Response\",\"Full Response\",\"Full Response\",\"Partial Response\",\"Partial Response\",\"Full Response\",\"Full Response\",\"Full Response\",\"Full Response\",\"Partial Response\",\"Full Response\",\"Full Response\",\"Full Response\",\"Full Response\",\"Full Response\",\"Partial Response\",\"No Response\",\"Full Response\",\"Full Response\",\"Partial Response\",\"Full Response\",\"Partial Response\",\"Full Response\"],\"type\":\"histogram\",\"xaxis\":\"x3\",\"yaxis\":\"y3\"}],                        {\"template\":{\"data\":{\"histogram2dcontour\":[{\"type\":\"histogram2dcontour\",\"colorbar\":{\"outlinewidth\":0,\"ticks\":\"\"},\"colorscale\":[[0.0,\"#0d0887\"],[0.1111111111111111,\"#46039f\"],[0.2222222222222222,\"#7201a8\"],[0.3333333333333333,\"#9c179e\"],[0.4444444444444444,\"#bd3786\"],[0.5555555555555556,\"#d8576b\"],[0.6666666666666666,\"#ed7953\"],[0.7777777777777778,\"#fb9f3a\"],[0.8888888888888888,\"#fdca26\"],[1.0,\"#f0f921\"]]}],\"choropleth\":[{\"type\":\"choropleth\",\"colorbar\":{\"outlinewidth\":0,\"ticks\":\"\"}}],\"histogram2d\":[{\"type\":\"histogram2d\",\"colorbar\":{\"outlinewidth\":0,\"ticks\":\"\"},\"colorscale\":[[0.0,\"#0d0887\"],[0.1111111111111111,\"#46039f\"],[0.2222222222222222,\"#7201a8\"],[0.3333333333333333,\"#9c179e\"],[0.4444444444444444,\"#bd3786\"],[0.5555555555555556,\"#d8576b\"],[0.6666666666666666,\"#ed7953\"],[0.7777777777777778,\"#fb9f3a\"],[0.8888888888888888,\"#fdca26\"],[1.0,\"#f0f921\"]]}],\"heatmap\":[{\"type\":\"heatmap\",\"colorbar\":{\"outlinewidth\":0,\"ticks\":\"\"},\"colorscale\":[[0.0,\"#0d0887\"],[0.1111111111111111,\"#46039f\"],[0.2222222222222222,\"#7201a8\"],[0.3333333333333333,\"#9c179e\"],[0.4444444444444444,\"#bd3786\"],[0.5555555555555556,\"#d8576b\"],[0.6666666666666666,\"#ed7953\"],[0.7777777777777778,\"#fb9f3a\"],[0.8888888888888888,\"#fdca26\"],[1.0,\"#f0f921\"]]}],\"heatmapgl\":[{\"type\":\"heatmapgl\",\"colorbar\":{\"outlinewidth\":0,\"ticks\":\"\"},\"colorscale\":[[0.0,\"#0d0887\"],[0.1111111111111111,\"#46039f\"],[0.2222222222222222,\"#7201a8\"],[0.3333333333333333,\"#9c179e\"],[0.4444444444444444,\"#bd3786\"],[0.5555555555555556,\"#d8576b\"],[0.6666666666666666,\"#ed7953\"],[0.7777777777777778,\"#fb9f3a\"],[0.8888888888888888,\"#fdca26\"],[1.0,\"#f0f921\"]]}],\"contourcarpet\":[{\"type\":\"contourcarpet\",\"colorbar\":{\"outlinewidth\":0,\"ticks\":\"\"}}],\"contour\":[{\"type\":\"contour\",\"colorbar\":{\"outlinewidth\":0,\"ticks\":\"\"},\"colorscale\":[[0.0,\"#0d0887\"],[0.1111111111111111,\"#46039f\"],[0.2222222222222222,\"#7201a8\"],[0.3333333333333333,\"#9c179e\"],[0.4444444444444444,\"#bd3786\"],[0.5555555555555556,\"#d8576b\"],[0.6666666666666666,\"#ed7953\"],[0.7777777777777778,\"#fb9f3a\"],[0.8888888888888888,\"#fdca26\"],[1.0,\"#f0f921\"]]}],\"surface\":[{\"type\":\"surface\",\"colorbar\":{\"outlinewidth\":0,\"ticks\":\"\"},\"colorscale\":[[0.0,\"#0d0887\"],[0.1111111111111111,\"#46039f\"],[0.2222222222222222,\"#7201a8\"],[0.3333333333333333,\"#9c179e\"],[0.4444444444444444,\"#bd3786\"],[0.5555555555555556,\"#d8576b\"],[0.6666666666666666,\"#ed7953\"],[0.7777777777777778,\"#fb9f3a\"],[0.8888888888888888,\"#fdca26\"],[1.0,\"#f0f921\"]]}],\"mesh3d\":[{\"type\":\"mesh3d\",\"colorbar\":{\"outlinewidth\":0,\"ticks\":\"\"}}],\"scatter\":[{\"fillpattern\":{\"fillmode\":\"overlay\",\"size\":10,\"solidity\":0.2},\"type\":\"scatter\"}],\"parcoords\":[{\"type\":\"parcoords\",\"line\":{\"colorbar\":{\"outlinewidth\":0,\"ticks\":\"\"}}}],\"scatterpolargl\":[{\"type\":\"scatterpolargl\",\"marker\":{\"colorbar\":{\"outlinewidth\":0,\"ticks\":\"\"}}}],\"bar\":[{\"error_x\":{\"color\":\"#2a3f5f\"},\"error_y\":{\"color\":\"#2a3f5f\"},\"marker\":{\"line\":{\"color\":\"#E5ECF6\",\"width\":0.5},\"pattern\":{\"fillmode\":\"overlay\",\"size\":10,\"solidity\":0.2}},\"type\":\"bar\"}],\"scattergeo\":[{\"type\":\"scattergeo\",\"marker\":{\"colorbar\":{\"outlinewidth\":0,\"ticks\":\"\"}}}],\"scatterpolar\":[{\"type\":\"scatterpolar\",\"marker\":{\"colorbar\":{\"outlinewidth\":0,\"ticks\":\"\"}}}],\"histogram\":[{\"marker\":{\"pattern\":{\"fillmode\":\"overlay\",\"size\":10,\"solidity\":0.2}},\"type\":\"histogram\"}],\"scattergl\":[{\"type\":\"scattergl\",\"marker\":{\"colorbar\":{\"outlinewidth\":0,\"ticks\":\"\"}}}],\"scatter3d\":[{\"type\":\"scatter3d\",\"line\":{\"colorbar\":{\"outlinewidth\":0,\"ticks\":\"\"}},\"marker\":{\"colorbar\":{\"outlinewidth\":0,\"ticks\":\"\"}}}],\"scattermapbox\":[{\"type\":\"scattermapbox\",\"marker\":{\"colorbar\":{\"outlinewidth\":0,\"ticks\":\"\"}}}],\"scatterternary\":[{\"type\":\"scatterternary\",\"marker\":{\"colorbar\":{\"outlinewidth\":0,\"ticks\":\"\"}}}],\"scattercarpet\":[{\"type\":\"scattercarpet\",\"marker\":{\"colorbar\":{\"outlinewidth\":0,\"ticks\":\"\"}}}],\"carpet\":[{\"aaxis\":{\"endlinecolor\":\"#2a3f5f\",\"gridcolor\":\"white\",\"linecolor\":\"white\",\"minorgridcolor\":\"white\",\"startlinecolor\":\"#2a3f5f\"},\"baxis\":{\"endlinecolor\":\"#2a3f5f\",\"gridcolor\":\"white\",\"linecolor\":\"white\",\"minorgridcolor\":\"white\",\"startlinecolor\":\"#2a3f5f\"},\"type\":\"carpet\"}],\"table\":[{\"cells\":{\"fill\":{\"color\":\"#EBF0F8\"},\"line\":{\"color\":\"white\"}},\"header\":{\"fill\":{\"color\":\"#C8D4E3\"},\"line\":{\"color\":\"white\"}},\"type\":\"table\"}],\"barpolar\":[{\"marker\":{\"line\":{\"color\":\"#E5ECF6\",\"width\":0.5},\"pattern\":{\"fillmode\":\"overlay\",\"size\":10,\"solidity\":0.2}},\"type\":\"barpolar\"}],\"pie\":[{\"automargin\":true,\"type\":\"pie\"}]},\"layout\":{\"autotypenumbers\":\"strict\",\"colorway\":[\"#636efa\",\"#EF553B\",\"#00cc96\",\"#ab63fa\",\"#FFA15A\",\"#19d3f3\",\"#FF6692\",\"#B6E880\",\"#FF97FF\",\"#FECB52\"],\"font\":{\"color\":\"#2a3f5f\"},\"hovermode\":\"closest\",\"hoverlabel\":{\"align\":\"left\"},\"paper_bgcolor\":\"white\",\"plot_bgcolor\":\"#E5ECF6\",\"polar\":{\"bgcolor\":\"#E5ECF6\",\"angularaxis\":{\"gridcolor\":\"white\",\"linecolor\":\"white\",\"ticks\":\"\"},\"radialaxis\":{\"gridcolor\":\"white\",\"linecolor\":\"white\",\"ticks\":\"\"}},\"ternary\":{\"bgcolor\":\"#E5ECF6\",\"aaxis\":{\"gridcolor\":\"white\",\"linecolor\":\"white\",\"ticks\":\"\"},\"baxis\":{\"gridcolor\":\"white\",\"linecolor\":\"white\",\"ticks\":\"\"},\"caxis\":{\"gridcolor\":\"white\",\"linecolor\":\"white\",\"ticks\":\"\"}},\"coloraxis\":{\"colorbar\":{\"outlinewidth\":0,\"ticks\":\"\"}},\"colorscale\":{\"sequential\":[[0.0,\"#0d0887\"],[0.1111111111111111,\"#46039f\"],[0.2222222222222222,\"#7201a8\"],[0.3333333333333333,\"#9c179e\"],[0.4444444444444444,\"#bd3786\"],[0.5555555555555556,\"#d8576b\"],[0.6666666666666666,\"#ed7953\"],[0.7777777777777778,\"#fb9f3a\"],[0.8888888888888888,\"#fdca26\"],[1.0,\"#f0f921\"]],\"sequentialminus\":[[0.0,\"#0d0887\"],[0.1111111111111111,\"#46039f\"],[0.2222222222222222,\"#7201a8\"],[0.3333333333333333,\"#9c179e\"],[0.4444444444444444,\"#bd3786\"],[0.5555555555555556,\"#d8576b\"],[0.6666666666666666,\"#ed7953\"],[0.7777777777777778,\"#fb9f3a\"],[0.8888888888888888,\"#fdca26\"],[1.0,\"#f0f921\"]],\"diverging\":[[0,\"#8e0152\"],[0.1,\"#c51b7d\"],[0.2,\"#de77ae\"],[0.3,\"#f1b6da\"],[0.4,\"#fde0ef\"],[0.5,\"#f7f7f7\"],[0.6,\"#e6f5d0\"],[0.7,\"#b8e186\"],[0.8,\"#7fbc41\"],[0.9,\"#4d9221\"],[1,\"#276419\"]]},\"xaxis\":{\"gridcolor\":\"white\",\"linecolor\":\"white\",\"ticks\":\"\",\"title\":{\"standoff\":15},\"zerolinecolor\":\"white\",\"automargin\":true,\"zerolinewidth\":2},\"yaxis\":{\"gridcolor\":\"white\",\"linecolor\":\"white\",\"ticks\":\"\",\"title\":{\"standoff\":15},\"zerolinecolor\":\"white\",\"automargin\":true,\"zerolinewidth\":2},\"scene\":{\"xaxis\":{\"backgroundcolor\":\"#E5ECF6\",\"gridcolor\":\"white\",\"linecolor\":\"white\",\"showbackground\":true,\"ticks\":\"\",\"zerolinecolor\":\"white\",\"gridwidth\":2},\"yaxis\":{\"backgroundcolor\":\"#E5ECF6\",\"gridcolor\":\"white\",\"linecolor\":\"white\",\"showbackground\":true,\"ticks\":\"\",\"zerolinecolor\":\"white\",\"gridwidth\":2},\"zaxis\":{\"backgroundcolor\":\"#E5ECF6\",\"gridcolor\":\"white\",\"linecolor\":\"white\",\"showbackground\":true,\"ticks\":\"\",\"zerolinecolor\":\"white\",\"gridwidth\":2}},\"shapedefaults\":{\"line\":{\"color\":\"#2a3f5f\"}},\"annotationdefaults\":{\"arrowcolor\":\"#2a3f5f\",\"arrowhead\":0,\"arrowwidth\":1},\"geo\":{\"bgcolor\":\"white\",\"landcolor\":\"#E5ECF6\",\"subunitcolor\":\"white\",\"showland\":true,\"showlakes\":true,\"lakecolor\":\"white\"},\"title\":{\"x\":0.05},\"mapbox\":{\"style\":\"light\"}}},\"xaxis\":{\"anchor\":\"y\",\"domain\":[0.0,0.32],\"categoryorder\":\"array\",\"categoryarray\":[\"Full Remission\",\"Remission\",\"Partial Remission\",\"No/Mild Remission\"],\"tickangle\":-45},\"yaxis\":{\"anchor\":\"x\",\"domain\":[0.0,1.0],\"title\":{\"text\":\"Count\"}},\"xaxis2\":{\"anchor\":\"y2\",\"domain\":[0.34,0.66],\"categoryorder\":\"array\",\"categoryarray\":[\"Worst\",\"No Change\",\"Improvement\",\"Big Improvement\"],\"title\":{\"text\":\"Drug Efficiency Labels\"},\"tickangle\":-45},\"yaxis2\":{\"anchor\":\"x2\",\"domain\":[0.0,1.0],\"matches\":\"y\",\"showticklabels\":false},\"xaxis3\":{\"anchor\":\"y3\",\"domain\":[0.68,1.0],\"categoryorder\":\"array\",\"categoryarray\":[\"No Response\",\"Partial Response\",\"Full Response\"],\"tickangle\":-45},\"yaxis3\":{\"anchor\":\"x3\",\"domain\":[0.0,1.0],\"matches\":\"y\",\"showticklabels\":false},\"font\":{\"size\":15},\"title\":{\"font\":{\"size\":20},\"text\":\"Figure 5. Retardation Only with Patients taking Duloxetine\",\"x\":0.5,\"xanchor\":\"center\"},\"showlegend\":true,\"width\":1600,\"height\":900},                        {\"responsive\": true}                    ).then(function(){\n",
       "                            \n",
       "var gd = document.getElementById('072d65e2-4082-42e9-98dc-3b7ed50ed621');\n",
       "var x = new MutationObserver(function (mutations, observer) {{\n",
       "        var display = window.getComputedStyle(gd).display;\n",
       "        if (!display || display === 'none') {{\n",
       "            console.log([gd, 'removed!']);\n",
       "            Plotly.purge(gd);\n",
       "            observer.disconnect();\n",
       "        }}\n",
       "}});\n",
       "\n",
       "// Listen for the removal of the full notebook cells\n",
       "var notebookContainer = gd.closest('#notebook-container');\n",
       "if (notebookContainer) {{\n",
       "    x.observe(notebookContainer, {childList: true});\n",
       "}}\n",
       "\n",
       "// Listen for the clearing of the current output cell\n",
       "var outputEl = gd.closest('.output');\n",
       "if (outputEl) {{\n",
       "    x.observe(outputEl, {childList: true});\n",
       "}}\n",
       "\n",
       "                        })                };                });            </script>        </div>"
      ]
     },
     "metadata": {},
     "output_type": "display_data"
    },
    {
     "data": {
      "text/html": [
       "<div>\n",
       "<style scoped>\n",
       "    .dataframe tbody tr th:only-of-type {\n",
       "        vertical-align: middle;\n",
       "    }\n",
       "\n",
       "    .dataframe tbody tr th {\n",
       "        vertical-align: top;\n",
       "    }\n",
       "\n",
       "    .dataframe thead th {\n",
       "        text-align: right;\n",
       "    }\n",
       "</style>\n",
       "<table border=\"1\" class=\"dataframe\">\n",
       "  <thead>\n",
       "    <tr style=\"text-align: right;\">\n",
       "      <th></th>\n",
       "      <th>V1-HAMD08</th>\n",
       "      <th>V1-HAMD09</th>\n",
       "      <th>V1-all</th>\n",
       "      <th>level</th>\n",
       "      <th>DRUG</th>\n",
       "      <th>Remission</th>\n",
       "      <th>Difference</th>\n",
       "      <th>Response</th>\n",
       "    </tr>\n",
       "  </thead>\n",
       "  <tbody>\n",
       "    <tr>\n",
       "      <th>1</th>\n",
       "      <td>1</td>\n",
       "      <td>0</td>\n",
       "      <td>14</td>\n",
       "      <td>mild</td>\n",
       "      <td>Duloxetine</td>\n",
       "      <td>Partial Remission</td>\n",
       "      <td>Worst</td>\n",
       "      <td>No Response</td>\n",
       "    </tr>\n",
       "    <tr>\n",
       "      <th>18</th>\n",
       "      <td>2</td>\n",
       "      <td>0</td>\n",
       "      <td>24</td>\n",
       "      <td>moderate</td>\n",
       "      <td>Duloxetine</td>\n",
       "      <td>Remission</td>\n",
       "      <td>Improvement</td>\n",
       "      <td>Full Response</td>\n",
       "    </tr>\n",
       "    <tr>\n",
       "      <th>22</th>\n",
       "      <td>1</td>\n",
       "      <td>0</td>\n",
       "      <td>13</td>\n",
       "      <td>mild</td>\n",
       "      <td>Duloxetine</td>\n",
       "      <td>Full Remission</td>\n",
       "      <td>Improvement</td>\n",
       "      <td>Full Response</td>\n",
       "    </tr>\n",
       "    <tr>\n",
       "      <th>25</th>\n",
       "      <td>1</td>\n",
       "      <td>0</td>\n",
       "      <td>20</td>\n",
       "      <td>moderate</td>\n",
       "      <td>Duloxetine</td>\n",
       "      <td>Remission</td>\n",
       "      <td>Improvement</td>\n",
       "      <td>Partial Response</td>\n",
       "    </tr>\n",
       "    <tr>\n",
       "      <th>27</th>\n",
       "      <td>1</td>\n",
       "      <td>0</td>\n",
       "      <td>12</td>\n",
       "      <td>mild</td>\n",
       "      <td>Duloxetine</td>\n",
       "      <td>Remission</td>\n",
       "      <td>No Change</td>\n",
       "      <td>No Response</td>\n",
       "    </tr>\n",
       "    <tr>\n",
       "      <th>...</th>\n",
       "      <td>...</td>\n",
       "      <td>...</td>\n",
       "      <td>...</td>\n",
       "      <td>...</td>\n",
       "      <td>...</td>\n",
       "      <td>...</td>\n",
       "      <td>...</td>\n",
       "      <td>...</td>\n",
       "    </tr>\n",
       "    <tr>\n",
       "      <th>1446</th>\n",
       "      <td>1</td>\n",
       "      <td>0</td>\n",
       "      <td>23</td>\n",
       "      <td>moderate</td>\n",
       "      <td>Fluoxetine</td>\n",
       "      <td>Partial Remission</td>\n",
       "      <td>No Change</td>\n",
       "      <td>No Response</td>\n",
       "    </tr>\n",
       "    <tr>\n",
       "      <th>1452</th>\n",
       "      <td>2</td>\n",
       "      <td>0</td>\n",
       "      <td>20</td>\n",
       "      <td>moderate</td>\n",
       "      <td>Fluoxetine</td>\n",
       "      <td>Remission</td>\n",
       "      <td>Improvement</td>\n",
       "      <td>Partial Response</td>\n",
       "    </tr>\n",
       "    <tr>\n",
       "      <th>1458</th>\n",
       "      <td>1</td>\n",
       "      <td>0</td>\n",
       "      <td>19</td>\n",
       "      <td>moderate</td>\n",
       "      <td>Fluoxetine</td>\n",
       "      <td>Remission</td>\n",
       "      <td>Improvement</td>\n",
       "      <td>Full Response</td>\n",
       "    </tr>\n",
       "    <tr>\n",
       "      <th>1461</th>\n",
       "      <td>1</td>\n",
       "      <td>0</td>\n",
       "      <td>21</td>\n",
       "      <td>moderate</td>\n",
       "      <td>Fluoxetine</td>\n",
       "      <td>Full Remission</td>\n",
       "      <td>Big Improvement</td>\n",
       "      <td>Full Response</td>\n",
       "    </tr>\n",
       "    <tr>\n",
       "      <th>1462</th>\n",
       "      <td>1</td>\n",
       "      <td>0</td>\n",
       "      <td>23</td>\n",
       "      <td>moderate</td>\n",
       "      <td>Fluoxetine</td>\n",
       "      <td>Remission</td>\n",
       "      <td>Improvement</td>\n",
       "      <td>Partial Response</td>\n",
       "    </tr>\n",
       "  </tbody>\n",
       "</table>\n",
       "<p>374 rows × 8 columns</p>\n",
       "</div>"
      ],
      "text/plain": [
       "      V1-HAMD08  V1-HAMD09  V1-all     level        DRUG          Remission  \\\n",
       "1             1          0      14      mild  Duloxetine  Partial Remission   \n",
       "18            2          0      24  moderate  Duloxetine          Remission   \n",
       "22            1          0      13      mild  Duloxetine     Full Remission   \n",
       "25            1          0      20  moderate  Duloxetine          Remission   \n",
       "27            1          0      12      mild  Duloxetine          Remission   \n",
       "...         ...        ...     ...       ...         ...                ...   \n",
       "1446          1          0      23  moderate  Fluoxetine  Partial Remission   \n",
       "1452          2          0      20  moderate  Fluoxetine          Remission   \n",
       "1458          1          0      19  moderate  Fluoxetine          Remission   \n",
       "1461          1          0      21  moderate  Fluoxetine     Full Remission   \n",
       "1462          1          0      23  moderate  Fluoxetine          Remission   \n",
       "\n",
       "           Difference          Response  \n",
       "1               Worst       No Response  \n",
       "18        Improvement     Full Response  \n",
       "22        Improvement     Full Response  \n",
       "25        Improvement  Partial Response  \n",
       "27          No Change       No Response  \n",
       "...               ...               ...  \n",
       "1446        No Change       No Response  \n",
       "1452      Improvement  Partial Response  \n",
       "1458      Improvement     Full Response  \n",
       "1461  Big Improvement     Full Response  \n",
       "1462      Improvement  Partial Response  \n",
       "\n",
       "[374 rows x 8 columns]"
      ]
     },
     "execution_count": 207,
     "metadata": {},
     "output_type": "execute_result"
    }
   ],
   "source": [
    "r_o = df2.loc[((df['V1-HAMD08'] > 0) & (df['V1-HAMD09'] == 0))]\n",
    "r_od = r_o[r_o['DRUG'] == 'Duloxetine']\n",
    "\n",
    "rod1 = go.Histogram(x = r_od['Remission'], name = 'Remission')\n",
    "rod2 = go.Histogram(x = r_od['Difference'], name = 'Difference')\n",
    "rod3 = go.Histogram(x = r_od['Response'], name = 'Response')\n",
    "\n",
    "fig5 = make_subplots(rows = 1, cols = 3, shared_yaxes = True, horizontal_spacing = 0.02)\n",
    "fig5.add_trace(rod1, row = 1, col = 1)\n",
    "fig5.add_trace(rod2, row = 1, col = 2)\n",
    "fig5.add_trace(rod3, row = 1, col = 3)\n",
    "\n",
    "fig5.update_xaxes(categoryorder = 'array', categoryarray = remission_labels, row = 1, col = 1)\n",
    "fig5.update_xaxes(categoryorder = 'array', categoryarray = difference_labels, row = 1, col = 2)\n",
    "fig5.update_xaxes(categoryorder = 'array', categoryarray = response_labels, row = 1, col = 3)\n",
    "\n",
    "fig5.update_layout(\n",
    "    font = {\n",
    "        \"size\": 15\n",
    "    },\n",
    "    \n",
    "    title = {\n",
    "        \"text\": 'Figure 5. Retardation Only with Patients taking Duloxetine',\n",
    "        \"x\": 0.5,\n",
    "        \"xanchor\" : \"center\",\n",
    "        \"font\" : {\n",
    "            \"size\": 20\n",
    "        }\n",
    "    },\n",
    "    #xaxis =dict(tickmode = 'linear',\n",
    "    #tick0 = 0,\n",
    "    #dtick = 1),\n",
    "    xaxis1 = {\n",
    "        \"tickangle\": -45,\n",
    "    },\n",
    "    xaxis2 = {\n",
    "        \"title\" : 'Drug Efficiency Labels',\n",
    "        \"tickangle\": -45,\n",
    "    },\n",
    "    xaxis3 = {\n",
    "        \"tickangle\": -45,\n",
    "    },\n",
    "#     xaxis_title = 'Drug Efficiency Labels',\n",
    "    yaxis_title = 'Count',\n",
    "    showlegend = True,\n",
    "    width = 1600,\n",
    "    height = 900)\n",
    "\n",
    "fig5.show()\n",
    "\n",
    "r_o"
   ]
  },
  {
   "cell_type": "code",
   "execution_count": 208,
   "metadata": {},
   "outputs": [
    {
     "data": {
      "text/plain": [
       "[4, 14, 113, 111, 12, 3, 185, 42, 15, 95, 132]"
      ]
     },
     "execution_count": 208,
     "metadata": {},
     "output_type": "execute_result"
    }
   ],
   "source": [
    "# Duloxetine Remission\n",
    "\n",
    "mild_rd = len(r_od[r_od['Remission'] == 'No/Mild Remission'])\n",
    "part_rd = len(r_od[r_od['Remission'] == 'Partial Remission'])\n",
    "remi_rd = len(r_od[r_od['Remission'] == 'Remission'])\n",
    "full_rd = len(r_od[r_od['Remission'] == 'Full Remission'])\n",
    "\n",
    "#Duloxetine Difference\n",
    "wor_rd = len(r_od[r_od['Difference'] == 'Worst'])\n",
    "nc_rd = len(r_od[r_od['Difference'] == 'No Change'])\n",
    "i_rd = len(r_od[r_od['Difference'] == 'Improvement'])\n",
    "bi_rd = len(r_od[r_od['Difference'] == 'Big Improvement'])\n",
    "\n",
    "# Duloxetine Response\n",
    "nr_rd = len(r_od[r_od['Response'] == 'No Response'])\n",
    "pr_rd = len(r_od[r_od['Response'] == 'Partial Response'])\n",
    "fr_rd = len(r_od[r_od['Response'] == 'Full Response'])\n",
    "\n",
    "rd = [mild_rd, part_rd, remi_rd, full_rd,\n",
    "        wor_rd, nc_rd, i_rd, bi_rd,\n",
    "        nr_rd, pr_rd, fr_rd]\n",
    "\n",
    "rd"
   ]
  },
  {
   "cell_type": "code",
   "execution_count": 209,
   "metadata": {},
   "outputs": [
    {
     "data": {
      "application/vnd.plotly.v1+json": {
       "config": {
        "plotlyServerURL": "https://plot.ly"
       },
       "data": [
        {
         "name": "Remission",
         "type": "histogram",
         "x": [
          "Full Remission",
          "Partial Remission",
          "Remission",
          "Remission",
          "Remission",
          "Full Remission",
          "Remission",
          "Full Remission",
          "Full Remission",
          "Partial Remission",
          "Full Remission",
          "Full Remission",
          "Remission",
          "Full Remission",
          "Full Remission",
          "Full Remission",
          "Full Remission",
          "Full Remission",
          "Remission",
          "Full Remission",
          "Full Remission",
          "Full Remission",
          "Remission",
          "Remission",
          "Partial Remission",
          "Remission",
          "Remission",
          "Remission",
          "Remission",
          "Full Remission",
          "Remission",
          "Remission",
          "Partial Remission",
          "Remission"
         ],
         "xaxis": "x",
         "yaxis": "y"
        },
        {
         "name": "Difference",
         "type": "histogram",
         "x": [
          "Improvement",
          "Improvement",
          "Improvement",
          "Improvement",
          "Improvement",
          "Improvement",
          "Improvement",
          "Big Improvement",
          "Big Improvement",
          "Improvement",
          "Big Improvement",
          "Big Improvement",
          "Improvement",
          "Big Improvement",
          "Big Improvement",
          "Improvement",
          "Big Improvement",
          "Big Improvement",
          "Improvement",
          "Big Improvement",
          "Improvement",
          "Improvement",
          "Improvement",
          "Improvement",
          "Improvement",
          "Improvement",
          "Improvement",
          "Improvement",
          "Improvement",
          "Big Improvement",
          "Improvement",
          "Improvement",
          "Improvement",
          "Improvement"
         ],
         "xaxis": "x2",
         "yaxis": "y2"
        },
        {
         "name": "Response",
         "type": "histogram",
         "x": [
          "Full Response",
          "Partial Response",
          "Partial Response",
          "Partial Response",
          "Partial Response",
          "Full Response",
          "Partial Response",
          "Full Response",
          "Full Response",
          "Partial Response",
          "Full Response",
          "Full Response",
          "Partial Response",
          "Full Response",
          "Full Response",
          "Full Response",
          "Full Response",
          "Full Response",
          "Partial Response",
          "Full Response",
          "Full Response",
          "Full Response",
          "Partial Response",
          "Partial Response",
          "Partial Response",
          "Partial Response",
          "Full Response",
          "Partial Response",
          "Partial Response",
          "Full Response",
          "Partial Response",
          "Full Response",
          "Partial Response",
          "Partial Response"
         ],
         "xaxis": "x3",
         "yaxis": "y3"
        }
       ],
       "layout": {
        "font": {
         "size": 15
        },
        "height": 900,
        "showlegend": true,
        "template": {
         "data": {
          "bar": [
           {
            "error_x": {
             "color": "#2a3f5f"
            },
            "error_y": {
             "color": "#2a3f5f"
            },
            "marker": {
             "line": {
              "color": "#E5ECF6",
              "width": 0.5
             },
             "pattern": {
              "fillmode": "overlay",
              "size": 10,
              "solidity": 0.2
             }
            },
            "type": "bar"
           }
          ],
          "barpolar": [
           {
            "marker": {
             "line": {
              "color": "#E5ECF6",
              "width": 0.5
             },
             "pattern": {
              "fillmode": "overlay",
              "size": 10,
              "solidity": 0.2
             }
            },
            "type": "barpolar"
           }
          ],
          "carpet": [
           {
            "aaxis": {
             "endlinecolor": "#2a3f5f",
             "gridcolor": "white",
             "linecolor": "white",
             "minorgridcolor": "white",
             "startlinecolor": "#2a3f5f"
            },
            "baxis": {
             "endlinecolor": "#2a3f5f",
             "gridcolor": "white",
             "linecolor": "white",
             "minorgridcolor": "white",
             "startlinecolor": "#2a3f5f"
            },
            "type": "carpet"
           }
          ],
          "choropleth": [
           {
            "colorbar": {
             "outlinewidth": 0,
             "ticks": ""
            },
            "type": "choropleth"
           }
          ],
          "contour": [
           {
            "colorbar": {
             "outlinewidth": 0,
             "ticks": ""
            },
            "colorscale": [
             [
              0,
              "#0d0887"
             ],
             [
              0.1111111111111111,
              "#46039f"
             ],
             [
              0.2222222222222222,
              "#7201a8"
             ],
             [
              0.3333333333333333,
              "#9c179e"
             ],
             [
              0.4444444444444444,
              "#bd3786"
             ],
             [
              0.5555555555555556,
              "#d8576b"
             ],
             [
              0.6666666666666666,
              "#ed7953"
             ],
             [
              0.7777777777777778,
              "#fb9f3a"
             ],
             [
              0.8888888888888888,
              "#fdca26"
             ],
             [
              1,
              "#f0f921"
             ]
            ],
            "type": "contour"
           }
          ],
          "contourcarpet": [
           {
            "colorbar": {
             "outlinewidth": 0,
             "ticks": ""
            },
            "type": "contourcarpet"
           }
          ],
          "heatmap": [
           {
            "colorbar": {
             "outlinewidth": 0,
             "ticks": ""
            },
            "colorscale": [
             [
              0,
              "#0d0887"
             ],
             [
              0.1111111111111111,
              "#46039f"
             ],
             [
              0.2222222222222222,
              "#7201a8"
             ],
             [
              0.3333333333333333,
              "#9c179e"
             ],
             [
              0.4444444444444444,
              "#bd3786"
             ],
             [
              0.5555555555555556,
              "#d8576b"
             ],
             [
              0.6666666666666666,
              "#ed7953"
             ],
             [
              0.7777777777777778,
              "#fb9f3a"
             ],
             [
              0.8888888888888888,
              "#fdca26"
             ],
             [
              1,
              "#f0f921"
             ]
            ],
            "type": "heatmap"
           }
          ],
          "heatmapgl": [
           {
            "colorbar": {
             "outlinewidth": 0,
             "ticks": ""
            },
            "colorscale": [
             [
              0,
              "#0d0887"
             ],
             [
              0.1111111111111111,
              "#46039f"
             ],
             [
              0.2222222222222222,
              "#7201a8"
             ],
             [
              0.3333333333333333,
              "#9c179e"
             ],
             [
              0.4444444444444444,
              "#bd3786"
             ],
             [
              0.5555555555555556,
              "#d8576b"
             ],
             [
              0.6666666666666666,
              "#ed7953"
             ],
             [
              0.7777777777777778,
              "#fb9f3a"
             ],
             [
              0.8888888888888888,
              "#fdca26"
             ],
             [
              1,
              "#f0f921"
             ]
            ],
            "type": "heatmapgl"
           }
          ],
          "histogram": [
           {
            "marker": {
             "pattern": {
              "fillmode": "overlay",
              "size": 10,
              "solidity": 0.2
             }
            },
            "type": "histogram"
           }
          ],
          "histogram2d": [
           {
            "colorbar": {
             "outlinewidth": 0,
             "ticks": ""
            },
            "colorscale": [
             [
              0,
              "#0d0887"
             ],
             [
              0.1111111111111111,
              "#46039f"
             ],
             [
              0.2222222222222222,
              "#7201a8"
             ],
             [
              0.3333333333333333,
              "#9c179e"
             ],
             [
              0.4444444444444444,
              "#bd3786"
             ],
             [
              0.5555555555555556,
              "#d8576b"
             ],
             [
              0.6666666666666666,
              "#ed7953"
             ],
             [
              0.7777777777777778,
              "#fb9f3a"
             ],
             [
              0.8888888888888888,
              "#fdca26"
             ],
             [
              1,
              "#f0f921"
             ]
            ],
            "type": "histogram2d"
           }
          ],
          "histogram2dcontour": [
           {
            "colorbar": {
             "outlinewidth": 0,
             "ticks": ""
            },
            "colorscale": [
             [
              0,
              "#0d0887"
             ],
             [
              0.1111111111111111,
              "#46039f"
             ],
             [
              0.2222222222222222,
              "#7201a8"
             ],
             [
              0.3333333333333333,
              "#9c179e"
             ],
             [
              0.4444444444444444,
              "#bd3786"
             ],
             [
              0.5555555555555556,
              "#d8576b"
             ],
             [
              0.6666666666666666,
              "#ed7953"
             ],
             [
              0.7777777777777778,
              "#fb9f3a"
             ],
             [
              0.8888888888888888,
              "#fdca26"
             ],
             [
              1,
              "#f0f921"
             ]
            ],
            "type": "histogram2dcontour"
           }
          ],
          "mesh3d": [
           {
            "colorbar": {
             "outlinewidth": 0,
             "ticks": ""
            },
            "type": "mesh3d"
           }
          ],
          "parcoords": [
           {
            "line": {
             "colorbar": {
              "outlinewidth": 0,
              "ticks": ""
             }
            },
            "type": "parcoords"
           }
          ],
          "pie": [
           {
            "automargin": true,
            "type": "pie"
           }
          ],
          "scatter": [
           {
            "fillpattern": {
             "fillmode": "overlay",
             "size": 10,
             "solidity": 0.2
            },
            "type": "scatter"
           }
          ],
          "scatter3d": [
           {
            "line": {
             "colorbar": {
              "outlinewidth": 0,
              "ticks": ""
             }
            },
            "marker": {
             "colorbar": {
              "outlinewidth": 0,
              "ticks": ""
             }
            },
            "type": "scatter3d"
           }
          ],
          "scattercarpet": [
           {
            "marker": {
             "colorbar": {
              "outlinewidth": 0,
              "ticks": ""
             }
            },
            "type": "scattercarpet"
           }
          ],
          "scattergeo": [
           {
            "marker": {
             "colorbar": {
              "outlinewidth": 0,
              "ticks": ""
             }
            },
            "type": "scattergeo"
           }
          ],
          "scattergl": [
           {
            "marker": {
             "colorbar": {
              "outlinewidth": 0,
              "ticks": ""
             }
            },
            "type": "scattergl"
           }
          ],
          "scattermapbox": [
           {
            "marker": {
             "colorbar": {
              "outlinewidth": 0,
              "ticks": ""
             }
            },
            "type": "scattermapbox"
           }
          ],
          "scatterpolar": [
           {
            "marker": {
             "colorbar": {
              "outlinewidth": 0,
              "ticks": ""
             }
            },
            "type": "scatterpolar"
           }
          ],
          "scatterpolargl": [
           {
            "marker": {
             "colorbar": {
              "outlinewidth": 0,
              "ticks": ""
             }
            },
            "type": "scatterpolargl"
           }
          ],
          "scatterternary": [
           {
            "marker": {
             "colorbar": {
              "outlinewidth": 0,
              "ticks": ""
             }
            },
            "type": "scatterternary"
           }
          ],
          "surface": [
           {
            "colorbar": {
             "outlinewidth": 0,
             "ticks": ""
            },
            "colorscale": [
             [
              0,
              "#0d0887"
             ],
             [
              0.1111111111111111,
              "#46039f"
             ],
             [
              0.2222222222222222,
              "#7201a8"
             ],
             [
              0.3333333333333333,
              "#9c179e"
             ],
             [
              0.4444444444444444,
              "#bd3786"
             ],
             [
              0.5555555555555556,
              "#d8576b"
             ],
             [
              0.6666666666666666,
              "#ed7953"
             ],
             [
              0.7777777777777778,
              "#fb9f3a"
             ],
             [
              0.8888888888888888,
              "#fdca26"
             ],
             [
              1,
              "#f0f921"
             ]
            ],
            "type": "surface"
           }
          ],
          "table": [
           {
            "cells": {
             "fill": {
              "color": "#EBF0F8"
             },
             "line": {
              "color": "white"
             }
            },
            "header": {
             "fill": {
              "color": "#C8D4E3"
             },
             "line": {
              "color": "white"
             }
            },
            "type": "table"
           }
          ]
         },
         "layout": {
          "annotationdefaults": {
           "arrowcolor": "#2a3f5f",
           "arrowhead": 0,
           "arrowwidth": 1
          },
          "autotypenumbers": "strict",
          "coloraxis": {
           "colorbar": {
            "outlinewidth": 0,
            "ticks": ""
           }
          },
          "colorscale": {
           "diverging": [
            [
             0,
             "#8e0152"
            ],
            [
             0.1,
             "#c51b7d"
            ],
            [
             0.2,
             "#de77ae"
            ],
            [
             0.3,
             "#f1b6da"
            ],
            [
             0.4,
             "#fde0ef"
            ],
            [
             0.5,
             "#f7f7f7"
            ],
            [
             0.6,
             "#e6f5d0"
            ],
            [
             0.7,
             "#b8e186"
            ],
            [
             0.8,
             "#7fbc41"
            ],
            [
             0.9,
             "#4d9221"
            ],
            [
             1,
             "#276419"
            ]
           ],
           "sequential": [
            [
             0,
             "#0d0887"
            ],
            [
             0.1111111111111111,
             "#46039f"
            ],
            [
             0.2222222222222222,
             "#7201a8"
            ],
            [
             0.3333333333333333,
             "#9c179e"
            ],
            [
             0.4444444444444444,
             "#bd3786"
            ],
            [
             0.5555555555555556,
             "#d8576b"
            ],
            [
             0.6666666666666666,
             "#ed7953"
            ],
            [
             0.7777777777777778,
             "#fb9f3a"
            ],
            [
             0.8888888888888888,
             "#fdca26"
            ],
            [
             1,
             "#f0f921"
            ]
           ],
           "sequentialminus": [
            [
             0,
             "#0d0887"
            ],
            [
             0.1111111111111111,
             "#46039f"
            ],
            [
             0.2222222222222222,
             "#7201a8"
            ],
            [
             0.3333333333333333,
             "#9c179e"
            ],
            [
             0.4444444444444444,
             "#bd3786"
            ],
            [
             0.5555555555555556,
             "#d8576b"
            ],
            [
             0.6666666666666666,
             "#ed7953"
            ],
            [
             0.7777777777777778,
             "#fb9f3a"
            ],
            [
             0.8888888888888888,
             "#fdca26"
            ],
            [
             1,
             "#f0f921"
            ]
           ]
          },
          "colorway": [
           "#636efa",
           "#EF553B",
           "#00cc96",
           "#ab63fa",
           "#FFA15A",
           "#19d3f3",
           "#FF6692",
           "#B6E880",
           "#FF97FF",
           "#FECB52"
          ],
          "font": {
           "color": "#2a3f5f"
          },
          "geo": {
           "bgcolor": "white",
           "lakecolor": "white",
           "landcolor": "#E5ECF6",
           "showlakes": true,
           "showland": true,
           "subunitcolor": "white"
          },
          "hoverlabel": {
           "align": "left"
          },
          "hovermode": "closest",
          "mapbox": {
           "style": "light"
          },
          "paper_bgcolor": "white",
          "plot_bgcolor": "#E5ECF6",
          "polar": {
           "angularaxis": {
            "gridcolor": "white",
            "linecolor": "white",
            "ticks": ""
           },
           "bgcolor": "#E5ECF6",
           "radialaxis": {
            "gridcolor": "white",
            "linecolor": "white",
            "ticks": ""
           }
          },
          "scene": {
           "xaxis": {
            "backgroundcolor": "#E5ECF6",
            "gridcolor": "white",
            "gridwidth": 2,
            "linecolor": "white",
            "showbackground": true,
            "ticks": "",
            "zerolinecolor": "white"
           },
           "yaxis": {
            "backgroundcolor": "#E5ECF6",
            "gridcolor": "white",
            "gridwidth": 2,
            "linecolor": "white",
            "showbackground": true,
            "ticks": "",
            "zerolinecolor": "white"
           },
           "zaxis": {
            "backgroundcolor": "#E5ECF6",
            "gridcolor": "white",
            "gridwidth": 2,
            "linecolor": "white",
            "showbackground": true,
            "ticks": "",
            "zerolinecolor": "white"
           }
          },
          "shapedefaults": {
           "line": {
            "color": "#2a3f5f"
           }
          },
          "ternary": {
           "aaxis": {
            "gridcolor": "white",
            "linecolor": "white",
            "ticks": ""
           },
           "baxis": {
            "gridcolor": "white",
            "linecolor": "white",
            "ticks": ""
           },
           "bgcolor": "#E5ECF6",
           "caxis": {
            "gridcolor": "white",
            "linecolor": "white",
            "ticks": ""
           }
          },
          "title": {
           "x": 0.05
          },
          "xaxis": {
           "automargin": true,
           "gridcolor": "white",
           "linecolor": "white",
           "ticks": "",
           "title": {
            "standoff": 15
           },
           "zerolinecolor": "white",
           "zerolinewidth": 2
          },
          "yaxis": {
           "automargin": true,
           "gridcolor": "white",
           "linecolor": "white",
           "ticks": "",
           "title": {
            "standoff": 15
           },
           "zerolinecolor": "white",
           "zerolinewidth": 2
          }
         }
        },
        "title": {
         "font": {
          "size": 20
         },
         "text": "Figure 6. Retardation Only with Patients taking Venlafaxine",
         "x": 0.5,
         "xanchor": "center"
        },
        "width": 1600,
        "xaxis": {
         "anchor": "y",
         "categoryarray": [
          "Full Remission",
          "Remission",
          "Partial Remission",
          "No/Mild Remission"
         ],
         "categoryorder": "array",
         "domain": [
          0,
          0.32
         ],
         "tickangle": -45
        },
        "xaxis2": {
         "anchor": "y2",
         "categoryarray": [
          "Worst",
          "No Change",
          "Improvement",
          "Big Improvement"
         ],
         "categoryorder": "array",
         "domain": [
          0.34,
          0.66
         ],
         "tickangle": -45,
         "title": {
          "text": "Drug Efficiency Labels"
         }
        },
        "xaxis3": {
         "anchor": "y3",
         "categoryarray": [
          "No Response",
          "Partial Response",
          "Full Response"
         ],
         "categoryorder": "array",
         "domain": [
          0.68,
          1
         ],
         "tickangle": -45
        },
        "yaxis": {
         "anchor": "x",
         "domain": [
          0,
          1
         ],
         "title": {
          "text": "Count"
         }
        },
        "yaxis2": {
         "anchor": "x2",
         "domain": [
          0,
          1
         ],
         "matches": "y",
         "showticklabels": false
        },
        "yaxis3": {
         "anchor": "x3",
         "domain": [
          0,
          1
         ],
         "matches": "y",
         "showticklabels": false
        }
       }
      },
      "text/html": [
       "<div>                            <div id=\"ccd1ff43-dd93-4e63-aef0-dc217eba1146\" class=\"plotly-graph-div\" style=\"height:900px; width:1600px;\"></div>            <script type=\"text/javascript\">                require([\"plotly\"], function(Plotly) {                    window.PLOTLYENV=window.PLOTLYENV || {};                                    if (document.getElementById(\"ccd1ff43-dd93-4e63-aef0-dc217eba1146\")) {                    Plotly.newPlot(                        \"ccd1ff43-dd93-4e63-aef0-dc217eba1146\",                        [{\"name\":\"Remission\",\"x\":[\"Full Remission\",\"Partial Remission\",\"Remission\",\"Remission\",\"Remission\",\"Full Remission\",\"Remission\",\"Full Remission\",\"Full Remission\",\"Partial Remission\",\"Full Remission\",\"Full Remission\",\"Remission\",\"Full Remission\",\"Full Remission\",\"Full Remission\",\"Full Remission\",\"Full Remission\",\"Remission\",\"Full Remission\",\"Full Remission\",\"Full Remission\",\"Remission\",\"Remission\",\"Partial Remission\",\"Remission\",\"Remission\",\"Remission\",\"Remission\",\"Full Remission\",\"Remission\",\"Remission\",\"Partial Remission\",\"Remission\"],\"type\":\"histogram\",\"xaxis\":\"x\",\"yaxis\":\"y\"},{\"name\":\"Difference\",\"x\":[\"Improvement\",\"Improvement\",\"Improvement\",\"Improvement\",\"Improvement\",\"Improvement\",\"Improvement\",\"Big Improvement\",\"Big Improvement\",\"Improvement\",\"Big Improvement\",\"Big Improvement\",\"Improvement\",\"Big Improvement\",\"Big Improvement\",\"Improvement\",\"Big Improvement\",\"Big Improvement\",\"Improvement\",\"Big Improvement\",\"Improvement\",\"Improvement\",\"Improvement\",\"Improvement\",\"Improvement\",\"Improvement\",\"Improvement\",\"Improvement\",\"Improvement\",\"Big Improvement\",\"Improvement\",\"Improvement\",\"Improvement\",\"Improvement\"],\"type\":\"histogram\",\"xaxis\":\"x2\",\"yaxis\":\"y2\"},{\"name\":\"Response\",\"x\":[\"Full Response\",\"Partial Response\",\"Partial Response\",\"Partial Response\",\"Partial Response\",\"Full Response\",\"Partial Response\",\"Full Response\",\"Full Response\",\"Partial Response\",\"Full Response\",\"Full Response\",\"Partial Response\",\"Full Response\",\"Full Response\",\"Full Response\",\"Full Response\",\"Full Response\",\"Partial Response\",\"Full Response\",\"Full Response\",\"Full Response\",\"Partial Response\",\"Partial Response\",\"Partial Response\",\"Partial Response\",\"Full Response\",\"Partial Response\",\"Partial Response\",\"Full Response\",\"Partial Response\",\"Full Response\",\"Partial Response\",\"Partial Response\"],\"type\":\"histogram\",\"xaxis\":\"x3\",\"yaxis\":\"y3\"}],                        {\"template\":{\"data\":{\"histogram2dcontour\":[{\"type\":\"histogram2dcontour\",\"colorbar\":{\"outlinewidth\":0,\"ticks\":\"\"},\"colorscale\":[[0.0,\"#0d0887\"],[0.1111111111111111,\"#46039f\"],[0.2222222222222222,\"#7201a8\"],[0.3333333333333333,\"#9c179e\"],[0.4444444444444444,\"#bd3786\"],[0.5555555555555556,\"#d8576b\"],[0.6666666666666666,\"#ed7953\"],[0.7777777777777778,\"#fb9f3a\"],[0.8888888888888888,\"#fdca26\"],[1.0,\"#f0f921\"]]}],\"choropleth\":[{\"type\":\"choropleth\",\"colorbar\":{\"outlinewidth\":0,\"ticks\":\"\"}}],\"histogram2d\":[{\"type\":\"histogram2d\",\"colorbar\":{\"outlinewidth\":0,\"ticks\":\"\"},\"colorscale\":[[0.0,\"#0d0887\"],[0.1111111111111111,\"#46039f\"],[0.2222222222222222,\"#7201a8\"],[0.3333333333333333,\"#9c179e\"],[0.4444444444444444,\"#bd3786\"],[0.5555555555555556,\"#d8576b\"],[0.6666666666666666,\"#ed7953\"],[0.7777777777777778,\"#fb9f3a\"],[0.8888888888888888,\"#fdca26\"],[1.0,\"#f0f921\"]]}],\"heatmap\":[{\"type\":\"heatmap\",\"colorbar\":{\"outlinewidth\":0,\"ticks\":\"\"},\"colorscale\":[[0.0,\"#0d0887\"],[0.1111111111111111,\"#46039f\"],[0.2222222222222222,\"#7201a8\"],[0.3333333333333333,\"#9c179e\"],[0.4444444444444444,\"#bd3786\"],[0.5555555555555556,\"#d8576b\"],[0.6666666666666666,\"#ed7953\"],[0.7777777777777778,\"#fb9f3a\"],[0.8888888888888888,\"#fdca26\"],[1.0,\"#f0f921\"]]}],\"heatmapgl\":[{\"type\":\"heatmapgl\",\"colorbar\":{\"outlinewidth\":0,\"ticks\":\"\"},\"colorscale\":[[0.0,\"#0d0887\"],[0.1111111111111111,\"#46039f\"],[0.2222222222222222,\"#7201a8\"],[0.3333333333333333,\"#9c179e\"],[0.4444444444444444,\"#bd3786\"],[0.5555555555555556,\"#d8576b\"],[0.6666666666666666,\"#ed7953\"],[0.7777777777777778,\"#fb9f3a\"],[0.8888888888888888,\"#fdca26\"],[1.0,\"#f0f921\"]]}],\"contourcarpet\":[{\"type\":\"contourcarpet\",\"colorbar\":{\"outlinewidth\":0,\"ticks\":\"\"}}],\"contour\":[{\"type\":\"contour\",\"colorbar\":{\"outlinewidth\":0,\"ticks\":\"\"},\"colorscale\":[[0.0,\"#0d0887\"],[0.1111111111111111,\"#46039f\"],[0.2222222222222222,\"#7201a8\"],[0.3333333333333333,\"#9c179e\"],[0.4444444444444444,\"#bd3786\"],[0.5555555555555556,\"#d8576b\"],[0.6666666666666666,\"#ed7953\"],[0.7777777777777778,\"#fb9f3a\"],[0.8888888888888888,\"#fdca26\"],[1.0,\"#f0f921\"]]}],\"surface\":[{\"type\":\"surface\",\"colorbar\":{\"outlinewidth\":0,\"ticks\":\"\"},\"colorscale\":[[0.0,\"#0d0887\"],[0.1111111111111111,\"#46039f\"],[0.2222222222222222,\"#7201a8\"],[0.3333333333333333,\"#9c179e\"],[0.4444444444444444,\"#bd3786\"],[0.5555555555555556,\"#d8576b\"],[0.6666666666666666,\"#ed7953\"],[0.7777777777777778,\"#fb9f3a\"],[0.8888888888888888,\"#fdca26\"],[1.0,\"#f0f921\"]]}],\"mesh3d\":[{\"type\":\"mesh3d\",\"colorbar\":{\"outlinewidth\":0,\"ticks\":\"\"}}],\"scatter\":[{\"fillpattern\":{\"fillmode\":\"overlay\",\"size\":10,\"solidity\":0.2},\"type\":\"scatter\"}],\"parcoords\":[{\"type\":\"parcoords\",\"line\":{\"colorbar\":{\"outlinewidth\":0,\"ticks\":\"\"}}}],\"scatterpolargl\":[{\"type\":\"scatterpolargl\",\"marker\":{\"colorbar\":{\"outlinewidth\":0,\"ticks\":\"\"}}}],\"bar\":[{\"error_x\":{\"color\":\"#2a3f5f\"},\"error_y\":{\"color\":\"#2a3f5f\"},\"marker\":{\"line\":{\"color\":\"#E5ECF6\",\"width\":0.5},\"pattern\":{\"fillmode\":\"overlay\",\"size\":10,\"solidity\":0.2}},\"type\":\"bar\"}],\"scattergeo\":[{\"type\":\"scattergeo\",\"marker\":{\"colorbar\":{\"outlinewidth\":0,\"ticks\":\"\"}}}],\"scatterpolar\":[{\"type\":\"scatterpolar\",\"marker\":{\"colorbar\":{\"outlinewidth\":0,\"ticks\":\"\"}}}],\"histogram\":[{\"marker\":{\"pattern\":{\"fillmode\":\"overlay\",\"size\":10,\"solidity\":0.2}},\"type\":\"histogram\"}],\"scattergl\":[{\"type\":\"scattergl\",\"marker\":{\"colorbar\":{\"outlinewidth\":0,\"ticks\":\"\"}}}],\"scatter3d\":[{\"type\":\"scatter3d\",\"line\":{\"colorbar\":{\"outlinewidth\":0,\"ticks\":\"\"}},\"marker\":{\"colorbar\":{\"outlinewidth\":0,\"ticks\":\"\"}}}],\"scattermapbox\":[{\"type\":\"scattermapbox\",\"marker\":{\"colorbar\":{\"outlinewidth\":0,\"ticks\":\"\"}}}],\"scatterternary\":[{\"type\":\"scatterternary\",\"marker\":{\"colorbar\":{\"outlinewidth\":0,\"ticks\":\"\"}}}],\"scattercarpet\":[{\"type\":\"scattercarpet\",\"marker\":{\"colorbar\":{\"outlinewidth\":0,\"ticks\":\"\"}}}],\"carpet\":[{\"aaxis\":{\"endlinecolor\":\"#2a3f5f\",\"gridcolor\":\"white\",\"linecolor\":\"white\",\"minorgridcolor\":\"white\",\"startlinecolor\":\"#2a3f5f\"},\"baxis\":{\"endlinecolor\":\"#2a3f5f\",\"gridcolor\":\"white\",\"linecolor\":\"white\",\"minorgridcolor\":\"white\",\"startlinecolor\":\"#2a3f5f\"},\"type\":\"carpet\"}],\"table\":[{\"cells\":{\"fill\":{\"color\":\"#EBF0F8\"},\"line\":{\"color\":\"white\"}},\"header\":{\"fill\":{\"color\":\"#C8D4E3\"},\"line\":{\"color\":\"white\"}},\"type\":\"table\"}],\"barpolar\":[{\"marker\":{\"line\":{\"color\":\"#E5ECF6\",\"width\":0.5},\"pattern\":{\"fillmode\":\"overlay\",\"size\":10,\"solidity\":0.2}},\"type\":\"barpolar\"}],\"pie\":[{\"automargin\":true,\"type\":\"pie\"}]},\"layout\":{\"autotypenumbers\":\"strict\",\"colorway\":[\"#636efa\",\"#EF553B\",\"#00cc96\",\"#ab63fa\",\"#FFA15A\",\"#19d3f3\",\"#FF6692\",\"#B6E880\",\"#FF97FF\",\"#FECB52\"],\"font\":{\"color\":\"#2a3f5f\"},\"hovermode\":\"closest\",\"hoverlabel\":{\"align\":\"left\"},\"paper_bgcolor\":\"white\",\"plot_bgcolor\":\"#E5ECF6\",\"polar\":{\"bgcolor\":\"#E5ECF6\",\"angularaxis\":{\"gridcolor\":\"white\",\"linecolor\":\"white\",\"ticks\":\"\"},\"radialaxis\":{\"gridcolor\":\"white\",\"linecolor\":\"white\",\"ticks\":\"\"}},\"ternary\":{\"bgcolor\":\"#E5ECF6\",\"aaxis\":{\"gridcolor\":\"white\",\"linecolor\":\"white\",\"ticks\":\"\"},\"baxis\":{\"gridcolor\":\"white\",\"linecolor\":\"white\",\"ticks\":\"\"},\"caxis\":{\"gridcolor\":\"white\",\"linecolor\":\"white\",\"ticks\":\"\"}},\"coloraxis\":{\"colorbar\":{\"outlinewidth\":0,\"ticks\":\"\"}},\"colorscale\":{\"sequential\":[[0.0,\"#0d0887\"],[0.1111111111111111,\"#46039f\"],[0.2222222222222222,\"#7201a8\"],[0.3333333333333333,\"#9c179e\"],[0.4444444444444444,\"#bd3786\"],[0.5555555555555556,\"#d8576b\"],[0.6666666666666666,\"#ed7953\"],[0.7777777777777778,\"#fb9f3a\"],[0.8888888888888888,\"#fdca26\"],[1.0,\"#f0f921\"]],\"sequentialminus\":[[0.0,\"#0d0887\"],[0.1111111111111111,\"#46039f\"],[0.2222222222222222,\"#7201a8\"],[0.3333333333333333,\"#9c179e\"],[0.4444444444444444,\"#bd3786\"],[0.5555555555555556,\"#d8576b\"],[0.6666666666666666,\"#ed7953\"],[0.7777777777777778,\"#fb9f3a\"],[0.8888888888888888,\"#fdca26\"],[1.0,\"#f0f921\"]],\"diverging\":[[0,\"#8e0152\"],[0.1,\"#c51b7d\"],[0.2,\"#de77ae\"],[0.3,\"#f1b6da\"],[0.4,\"#fde0ef\"],[0.5,\"#f7f7f7\"],[0.6,\"#e6f5d0\"],[0.7,\"#b8e186\"],[0.8,\"#7fbc41\"],[0.9,\"#4d9221\"],[1,\"#276419\"]]},\"xaxis\":{\"gridcolor\":\"white\",\"linecolor\":\"white\",\"ticks\":\"\",\"title\":{\"standoff\":15},\"zerolinecolor\":\"white\",\"automargin\":true,\"zerolinewidth\":2},\"yaxis\":{\"gridcolor\":\"white\",\"linecolor\":\"white\",\"ticks\":\"\",\"title\":{\"standoff\":15},\"zerolinecolor\":\"white\",\"automargin\":true,\"zerolinewidth\":2},\"scene\":{\"xaxis\":{\"backgroundcolor\":\"#E5ECF6\",\"gridcolor\":\"white\",\"linecolor\":\"white\",\"showbackground\":true,\"ticks\":\"\",\"zerolinecolor\":\"white\",\"gridwidth\":2},\"yaxis\":{\"backgroundcolor\":\"#E5ECF6\",\"gridcolor\":\"white\",\"linecolor\":\"white\",\"showbackground\":true,\"ticks\":\"\",\"zerolinecolor\":\"white\",\"gridwidth\":2},\"zaxis\":{\"backgroundcolor\":\"#E5ECF6\",\"gridcolor\":\"white\",\"linecolor\":\"white\",\"showbackground\":true,\"ticks\":\"\",\"zerolinecolor\":\"white\",\"gridwidth\":2}},\"shapedefaults\":{\"line\":{\"color\":\"#2a3f5f\"}},\"annotationdefaults\":{\"arrowcolor\":\"#2a3f5f\",\"arrowhead\":0,\"arrowwidth\":1},\"geo\":{\"bgcolor\":\"white\",\"landcolor\":\"#E5ECF6\",\"subunitcolor\":\"white\",\"showland\":true,\"showlakes\":true,\"lakecolor\":\"white\"},\"title\":{\"x\":0.05},\"mapbox\":{\"style\":\"light\"}}},\"xaxis\":{\"anchor\":\"y\",\"domain\":[0.0,0.32],\"categoryorder\":\"array\",\"categoryarray\":[\"Full Remission\",\"Remission\",\"Partial Remission\",\"No/Mild Remission\"],\"tickangle\":-45},\"yaxis\":{\"anchor\":\"x\",\"domain\":[0.0,1.0],\"title\":{\"text\":\"Count\"}},\"xaxis2\":{\"anchor\":\"y2\",\"domain\":[0.34,0.66],\"categoryorder\":\"array\",\"categoryarray\":[\"Worst\",\"No Change\",\"Improvement\",\"Big Improvement\"],\"title\":{\"text\":\"Drug Efficiency Labels\"},\"tickangle\":-45},\"yaxis2\":{\"anchor\":\"x2\",\"domain\":[0.0,1.0],\"matches\":\"y\",\"showticklabels\":false},\"xaxis3\":{\"anchor\":\"y3\",\"domain\":[0.68,1.0],\"categoryorder\":\"array\",\"categoryarray\":[\"No Response\",\"Partial Response\",\"Full Response\"],\"tickangle\":-45},\"yaxis3\":{\"anchor\":\"x3\",\"domain\":[0.0,1.0],\"matches\":\"y\",\"showticklabels\":false},\"font\":{\"size\":15},\"title\":{\"font\":{\"size\":20},\"text\":\"Figure 6. Retardation Only with Patients taking Venlafaxine\",\"x\":0.5,\"xanchor\":\"center\"},\"showlegend\":true,\"width\":1600,\"height\":900},                        {\"responsive\": true}                    ).then(function(){\n",
       "                            \n",
       "var gd = document.getElementById('ccd1ff43-dd93-4e63-aef0-dc217eba1146');\n",
       "var x = new MutationObserver(function (mutations, observer) {{\n",
       "        var display = window.getComputedStyle(gd).display;\n",
       "        if (!display || display === 'none') {{\n",
       "            console.log([gd, 'removed!']);\n",
       "            Plotly.purge(gd);\n",
       "            observer.disconnect();\n",
       "        }}\n",
       "}});\n",
       "\n",
       "// Listen for the removal of the full notebook cells\n",
       "var notebookContainer = gd.closest('#notebook-container');\n",
       "if (notebookContainer) {{\n",
       "    x.observe(notebookContainer, {childList: true});\n",
       "}}\n",
       "\n",
       "// Listen for the clearing of the current output cell\n",
       "var outputEl = gd.closest('.output');\n",
       "if (outputEl) {{\n",
       "    x.observe(outputEl, {childList: true});\n",
       "}}\n",
       "\n",
       "                        })                };                });            </script>        </div>"
      ]
     },
     "metadata": {},
     "output_type": "display_data"
    },
    {
     "data": {
      "text/html": [
       "<div>\n",
       "<style scoped>\n",
       "    .dataframe tbody tr th:only-of-type {\n",
       "        vertical-align: middle;\n",
       "    }\n",
       "\n",
       "    .dataframe tbody tr th {\n",
       "        vertical-align: top;\n",
       "    }\n",
       "\n",
       "    .dataframe thead th {\n",
       "        text-align: right;\n",
       "    }\n",
       "</style>\n",
       "<table border=\"1\" class=\"dataframe\">\n",
       "  <thead>\n",
       "    <tr style=\"text-align: right;\">\n",
       "      <th></th>\n",
       "      <th>V1-HAMD08</th>\n",
       "      <th>V1-HAMD09</th>\n",
       "      <th>V1-all</th>\n",
       "      <th>level</th>\n",
       "      <th>DRUG</th>\n",
       "      <th>Remission</th>\n",
       "      <th>Difference</th>\n",
       "      <th>Response</th>\n",
       "    </tr>\n",
       "  </thead>\n",
       "  <tbody>\n",
       "    <tr>\n",
       "      <th>165</th>\n",
       "      <td>1</td>\n",
       "      <td>0</td>\n",
       "      <td>20</td>\n",
       "      <td>moderate</td>\n",
       "      <td>Venlafaxine</td>\n",
       "      <td>Full Remission</td>\n",
       "      <td>Improvement</td>\n",
       "      <td>Full Response</td>\n",
       "    </tr>\n",
       "    <tr>\n",
       "      <th>171</th>\n",
       "      <td>1</td>\n",
       "      <td>0</td>\n",
       "      <td>27</td>\n",
       "      <td>severe</td>\n",
       "      <td>Venlafaxine</td>\n",
       "      <td>Partial Remission</td>\n",
       "      <td>Improvement</td>\n",
       "      <td>Partial Response</td>\n",
       "    </tr>\n",
       "    <tr>\n",
       "      <th>184</th>\n",
       "      <td>1</td>\n",
       "      <td>0</td>\n",
       "      <td>22</td>\n",
       "      <td>moderate</td>\n",
       "      <td>Venlafaxine</td>\n",
       "      <td>Remission</td>\n",
       "      <td>Improvement</td>\n",
       "      <td>Partial Response</td>\n",
       "    </tr>\n",
       "    <tr>\n",
       "      <th>186</th>\n",
       "      <td>2</td>\n",
       "      <td>0</td>\n",
       "      <td>26</td>\n",
       "      <td>severe</td>\n",
       "      <td>Venlafaxine</td>\n",
       "      <td>Remission</td>\n",
       "      <td>Improvement</td>\n",
       "      <td>Partial Response</td>\n",
       "    </tr>\n",
       "    <tr>\n",
       "      <th>199</th>\n",
       "      <td>1</td>\n",
       "      <td>0</td>\n",
       "      <td>19</td>\n",
       "      <td>moderate</td>\n",
       "      <td>Venlafaxine</td>\n",
       "      <td>Remission</td>\n",
       "      <td>Improvement</td>\n",
       "      <td>Partial Response</td>\n",
       "    </tr>\n",
       "    <tr>\n",
       "      <th>201</th>\n",
       "      <td>1</td>\n",
       "      <td>0</td>\n",
       "      <td>20</td>\n",
       "      <td>moderate</td>\n",
       "      <td>Venlafaxine</td>\n",
       "      <td>Full Remission</td>\n",
       "      <td>Improvement</td>\n",
       "      <td>Full Response</td>\n",
       "    </tr>\n",
       "    <tr>\n",
       "      <th>204</th>\n",
       "      <td>1</td>\n",
       "      <td>0</td>\n",
       "      <td>25</td>\n",
       "      <td>severe</td>\n",
       "      <td>Venlafaxine</td>\n",
       "      <td>Remission</td>\n",
       "      <td>Improvement</td>\n",
       "      <td>Partial Response</td>\n",
       "    </tr>\n",
       "    <tr>\n",
       "      <th>206</th>\n",
       "      <td>2</td>\n",
       "      <td>0</td>\n",
       "      <td>26</td>\n",
       "      <td>severe</td>\n",
       "      <td>Venlafaxine</td>\n",
       "      <td>Full Remission</td>\n",
       "      <td>Big Improvement</td>\n",
       "      <td>Full Response</td>\n",
       "    </tr>\n",
       "    <tr>\n",
       "      <th>208</th>\n",
       "      <td>1</td>\n",
       "      <td>0</td>\n",
       "      <td>18</td>\n",
       "      <td>moderate</td>\n",
       "      <td>Venlafaxine</td>\n",
       "      <td>Full Remission</td>\n",
       "      <td>Big Improvement</td>\n",
       "      <td>Full Response</td>\n",
       "    </tr>\n",
       "    <tr>\n",
       "      <th>224</th>\n",
       "      <td>1</td>\n",
       "      <td>0</td>\n",
       "      <td>20</td>\n",
       "      <td>moderate</td>\n",
       "      <td>Venlafaxine</td>\n",
       "      <td>Partial Remission</td>\n",
       "      <td>Improvement</td>\n",
       "      <td>Partial Response</td>\n",
       "    </tr>\n",
       "    <tr>\n",
       "      <th>230</th>\n",
       "      <td>2</td>\n",
       "      <td>0</td>\n",
       "      <td>26</td>\n",
       "      <td>severe</td>\n",
       "      <td>Venlafaxine</td>\n",
       "      <td>Full Remission</td>\n",
       "      <td>Big Improvement</td>\n",
       "      <td>Full Response</td>\n",
       "    </tr>\n",
       "    <tr>\n",
       "      <th>242</th>\n",
       "      <td>1</td>\n",
       "      <td>0</td>\n",
       "      <td>24</td>\n",
       "      <td>moderate</td>\n",
       "      <td>Venlafaxine</td>\n",
       "      <td>Full Remission</td>\n",
       "      <td>Big Improvement</td>\n",
       "      <td>Full Response</td>\n",
       "    </tr>\n",
       "    <tr>\n",
       "      <th>252</th>\n",
       "      <td>1</td>\n",
       "      <td>0</td>\n",
       "      <td>20</td>\n",
       "      <td>moderate</td>\n",
       "      <td>Venlafaxine</td>\n",
       "      <td>Remission</td>\n",
       "      <td>Improvement</td>\n",
       "      <td>Partial Response</td>\n",
       "    </tr>\n",
       "    <tr>\n",
       "      <th>269</th>\n",
       "      <td>1</td>\n",
       "      <td>0</td>\n",
       "      <td>22</td>\n",
       "      <td>moderate</td>\n",
       "      <td>Venlafaxine</td>\n",
       "      <td>Full Remission</td>\n",
       "      <td>Big Improvement</td>\n",
       "      <td>Full Response</td>\n",
       "    </tr>\n",
       "    <tr>\n",
       "      <th>271</th>\n",
       "      <td>1</td>\n",
       "      <td>0</td>\n",
       "      <td>21</td>\n",
       "      <td>moderate</td>\n",
       "      <td>Venlafaxine</td>\n",
       "      <td>Full Remission</td>\n",
       "      <td>Big Improvement</td>\n",
       "      <td>Full Response</td>\n",
       "    </tr>\n",
       "    <tr>\n",
       "      <th>272</th>\n",
       "      <td>1</td>\n",
       "      <td>0</td>\n",
       "      <td>20</td>\n",
       "      <td>moderate</td>\n",
       "      <td>Venlafaxine</td>\n",
       "      <td>Full Remission</td>\n",
       "      <td>Improvement</td>\n",
       "      <td>Full Response</td>\n",
       "    </tr>\n",
       "    <tr>\n",
       "      <th>275</th>\n",
       "      <td>2</td>\n",
       "      <td>0</td>\n",
       "      <td>22</td>\n",
       "      <td>moderate</td>\n",
       "      <td>Venlafaxine</td>\n",
       "      <td>Full Remission</td>\n",
       "      <td>Big Improvement</td>\n",
       "      <td>Full Response</td>\n",
       "    </tr>\n",
       "    <tr>\n",
       "      <th>277</th>\n",
       "      <td>1</td>\n",
       "      <td>0</td>\n",
       "      <td>22</td>\n",
       "      <td>moderate</td>\n",
       "      <td>Venlafaxine</td>\n",
       "      <td>Full Remission</td>\n",
       "      <td>Big Improvement</td>\n",
       "      <td>Full Response</td>\n",
       "    </tr>\n",
       "    <tr>\n",
       "      <th>278</th>\n",
       "      <td>2</td>\n",
       "      <td>0</td>\n",
       "      <td>28</td>\n",
       "      <td>severe</td>\n",
       "      <td>Venlafaxine</td>\n",
       "      <td>Remission</td>\n",
       "      <td>Improvement</td>\n",
       "      <td>Partial Response</td>\n",
       "    </tr>\n",
       "    <tr>\n",
       "      <th>279</th>\n",
       "      <td>1</td>\n",
       "      <td>0</td>\n",
       "      <td>22</td>\n",
       "      <td>moderate</td>\n",
       "      <td>Venlafaxine</td>\n",
       "      <td>Full Remission</td>\n",
       "      <td>Big Improvement</td>\n",
       "      <td>Full Response</td>\n",
       "    </tr>\n",
       "    <tr>\n",
       "      <th>281</th>\n",
       "      <td>1</td>\n",
       "      <td>0</td>\n",
       "      <td>18</td>\n",
       "      <td>moderate</td>\n",
       "      <td>Venlafaxine</td>\n",
       "      <td>Full Remission</td>\n",
       "      <td>Improvement</td>\n",
       "      <td>Full Response</td>\n",
       "    </tr>\n",
       "    <tr>\n",
       "      <th>287</th>\n",
       "      <td>2</td>\n",
       "      <td>0</td>\n",
       "      <td>22</td>\n",
       "      <td>moderate</td>\n",
       "      <td>Venlafaxine</td>\n",
       "      <td>Full Remission</td>\n",
       "      <td>Improvement</td>\n",
       "      <td>Full Response</td>\n",
       "    </tr>\n",
       "    <tr>\n",
       "      <th>307</th>\n",
       "      <td>2</td>\n",
       "      <td>0</td>\n",
       "      <td>26</td>\n",
       "      <td>severe</td>\n",
       "      <td>Venlafaxine</td>\n",
       "      <td>Remission</td>\n",
       "      <td>Improvement</td>\n",
       "      <td>Partial Response</td>\n",
       "    </tr>\n",
       "    <tr>\n",
       "      <th>311</th>\n",
       "      <td>2</td>\n",
       "      <td>0</td>\n",
       "      <td>27</td>\n",
       "      <td>severe</td>\n",
       "      <td>Venlafaxine</td>\n",
       "      <td>Remission</td>\n",
       "      <td>Improvement</td>\n",
       "      <td>Partial Response</td>\n",
       "    </tr>\n",
       "    <tr>\n",
       "      <th>312</th>\n",
       "      <td>2</td>\n",
       "      <td>0</td>\n",
       "      <td>24</td>\n",
       "      <td>moderate</td>\n",
       "      <td>Venlafaxine</td>\n",
       "      <td>Partial Remission</td>\n",
       "      <td>Improvement</td>\n",
       "      <td>Partial Response</td>\n",
       "    </tr>\n",
       "    <tr>\n",
       "      <th>325</th>\n",
       "      <td>1</td>\n",
       "      <td>0</td>\n",
       "      <td>22</td>\n",
       "      <td>moderate</td>\n",
       "      <td>Venlafaxine</td>\n",
       "      <td>Remission</td>\n",
       "      <td>Improvement</td>\n",
       "      <td>Partial Response</td>\n",
       "    </tr>\n",
       "    <tr>\n",
       "      <th>328</th>\n",
       "      <td>1</td>\n",
       "      <td>0</td>\n",
       "      <td>22</td>\n",
       "      <td>moderate</td>\n",
       "      <td>Venlafaxine</td>\n",
       "      <td>Remission</td>\n",
       "      <td>Improvement</td>\n",
       "      <td>Full Response</td>\n",
       "    </tr>\n",
       "    <tr>\n",
       "      <th>349</th>\n",
       "      <td>2</td>\n",
       "      <td>0</td>\n",
       "      <td>22</td>\n",
       "      <td>moderate</td>\n",
       "      <td>Venlafaxine</td>\n",
       "      <td>Remission</td>\n",
       "      <td>Improvement</td>\n",
       "      <td>Partial Response</td>\n",
       "    </tr>\n",
       "    <tr>\n",
       "      <th>354</th>\n",
       "      <td>1</td>\n",
       "      <td>0</td>\n",
       "      <td>19</td>\n",
       "      <td>moderate</td>\n",
       "      <td>Venlafaxine</td>\n",
       "      <td>Remission</td>\n",
       "      <td>Improvement</td>\n",
       "      <td>Partial Response</td>\n",
       "    </tr>\n",
       "    <tr>\n",
       "      <th>372</th>\n",
       "      <td>1</td>\n",
       "      <td>0</td>\n",
       "      <td>23</td>\n",
       "      <td>moderate</td>\n",
       "      <td>Venlafaxine</td>\n",
       "      <td>Full Remission</td>\n",
       "      <td>Big Improvement</td>\n",
       "      <td>Full Response</td>\n",
       "    </tr>\n",
       "    <tr>\n",
       "      <th>379</th>\n",
       "      <td>2</td>\n",
       "      <td>0</td>\n",
       "      <td>19</td>\n",
       "      <td>moderate</td>\n",
       "      <td>Venlafaxine</td>\n",
       "      <td>Remission</td>\n",
       "      <td>Improvement</td>\n",
       "      <td>Partial Response</td>\n",
       "    </tr>\n",
       "    <tr>\n",
       "      <th>380</th>\n",
       "      <td>1</td>\n",
       "      <td>0</td>\n",
       "      <td>23</td>\n",
       "      <td>moderate</td>\n",
       "      <td>Venlafaxine</td>\n",
       "      <td>Remission</td>\n",
       "      <td>Improvement</td>\n",
       "      <td>Full Response</td>\n",
       "    </tr>\n",
       "    <tr>\n",
       "      <th>399</th>\n",
       "      <td>1</td>\n",
       "      <td>0</td>\n",
       "      <td>22</td>\n",
       "      <td>moderate</td>\n",
       "      <td>Venlafaxine</td>\n",
       "      <td>Partial Remission</td>\n",
       "      <td>Improvement</td>\n",
       "      <td>Partial Response</td>\n",
       "    </tr>\n",
       "    <tr>\n",
       "      <th>423</th>\n",
       "      <td>2</td>\n",
       "      <td>0</td>\n",
       "      <td>25</td>\n",
       "      <td>severe</td>\n",
       "      <td>Venlafaxine</td>\n",
       "      <td>Remission</td>\n",
       "      <td>Improvement</td>\n",
       "      <td>Partial Response</td>\n",
       "    </tr>\n",
       "  </tbody>\n",
       "</table>\n",
       "</div>"
      ],
      "text/plain": [
       "     V1-HAMD08  V1-HAMD09  V1-all     level         DRUG          Remission  \\\n",
       "165          1          0      20  moderate  Venlafaxine     Full Remission   \n",
       "171          1          0      27    severe  Venlafaxine  Partial Remission   \n",
       "184          1          0      22  moderate  Venlafaxine          Remission   \n",
       "186          2          0      26    severe  Venlafaxine          Remission   \n",
       "199          1          0      19  moderate  Venlafaxine          Remission   \n",
       "201          1          0      20  moderate  Venlafaxine     Full Remission   \n",
       "204          1          0      25    severe  Venlafaxine          Remission   \n",
       "206          2          0      26    severe  Venlafaxine     Full Remission   \n",
       "208          1          0      18  moderate  Venlafaxine     Full Remission   \n",
       "224          1          0      20  moderate  Venlafaxine  Partial Remission   \n",
       "230          2          0      26    severe  Venlafaxine     Full Remission   \n",
       "242          1          0      24  moderate  Venlafaxine     Full Remission   \n",
       "252          1          0      20  moderate  Venlafaxine          Remission   \n",
       "269          1          0      22  moderate  Venlafaxine     Full Remission   \n",
       "271          1          0      21  moderate  Venlafaxine     Full Remission   \n",
       "272          1          0      20  moderate  Venlafaxine     Full Remission   \n",
       "275          2          0      22  moderate  Venlafaxine     Full Remission   \n",
       "277          1          0      22  moderate  Venlafaxine     Full Remission   \n",
       "278          2          0      28    severe  Venlafaxine          Remission   \n",
       "279          1          0      22  moderate  Venlafaxine     Full Remission   \n",
       "281          1          0      18  moderate  Venlafaxine     Full Remission   \n",
       "287          2          0      22  moderate  Venlafaxine     Full Remission   \n",
       "307          2          0      26    severe  Venlafaxine          Remission   \n",
       "311          2          0      27    severe  Venlafaxine          Remission   \n",
       "312          2          0      24  moderate  Venlafaxine  Partial Remission   \n",
       "325          1          0      22  moderate  Venlafaxine          Remission   \n",
       "328          1          0      22  moderate  Venlafaxine          Remission   \n",
       "349          2          0      22  moderate  Venlafaxine          Remission   \n",
       "354          1          0      19  moderate  Venlafaxine          Remission   \n",
       "372          1          0      23  moderate  Venlafaxine     Full Remission   \n",
       "379          2          0      19  moderate  Venlafaxine          Remission   \n",
       "380          1          0      23  moderate  Venlafaxine          Remission   \n",
       "399          1          0      22  moderate  Venlafaxine  Partial Remission   \n",
       "423          2          0      25    severe  Venlafaxine          Remission   \n",
       "\n",
       "          Difference          Response  \n",
       "165      Improvement     Full Response  \n",
       "171      Improvement  Partial Response  \n",
       "184      Improvement  Partial Response  \n",
       "186      Improvement  Partial Response  \n",
       "199      Improvement  Partial Response  \n",
       "201      Improvement     Full Response  \n",
       "204      Improvement  Partial Response  \n",
       "206  Big Improvement     Full Response  \n",
       "208  Big Improvement     Full Response  \n",
       "224      Improvement  Partial Response  \n",
       "230  Big Improvement     Full Response  \n",
       "242  Big Improvement     Full Response  \n",
       "252      Improvement  Partial Response  \n",
       "269  Big Improvement     Full Response  \n",
       "271  Big Improvement     Full Response  \n",
       "272      Improvement     Full Response  \n",
       "275  Big Improvement     Full Response  \n",
       "277  Big Improvement     Full Response  \n",
       "278      Improvement  Partial Response  \n",
       "279  Big Improvement     Full Response  \n",
       "281      Improvement     Full Response  \n",
       "287      Improvement     Full Response  \n",
       "307      Improvement  Partial Response  \n",
       "311      Improvement  Partial Response  \n",
       "312      Improvement  Partial Response  \n",
       "325      Improvement  Partial Response  \n",
       "328      Improvement     Full Response  \n",
       "349      Improvement  Partial Response  \n",
       "354      Improvement  Partial Response  \n",
       "372  Big Improvement     Full Response  \n",
       "379      Improvement  Partial Response  \n",
       "380      Improvement     Full Response  \n",
       "399      Improvement  Partial Response  \n",
       "423      Improvement  Partial Response  "
      ]
     },
     "execution_count": 209,
     "metadata": {},
     "output_type": "execute_result"
    }
   ],
   "source": [
    "r_ov = r_o[r_o['DRUG'] == 'Venlafaxine']\n",
    "\n",
    "rov1 = go.Histogram(x = r_ov['Remission'], name = 'Remission')\n",
    "rov2 = go.Histogram(x = r_ov['Difference'], name = 'Difference')\n",
    "rov3 = go.Histogram(x = r_ov['Response'], name = 'Response')\n",
    "\n",
    "fig6 = make_subplots(rows = 1, cols = 3, shared_yaxes = True, horizontal_spacing = 0.02)\n",
    "fig6.add_trace(rov1, row = 1, col = 1)\n",
    "fig6.add_trace(rov2, row = 1, col = 2)\n",
    "fig6.add_trace(rov3, row = 1, col = 3)\n",
    "\n",
    "fig6.update_xaxes(categoryorder = 'array', categoryarray = remission_labels, row = 1, col = 1)\n",
    "fig6.update_xaxes(categoryorder = 'array', categoryarray = difference_labels, row = 1, col = 2)\n",
    "fig6.update_xaxes(categoryorder = 'array', categoryarray = response_labels, row = 1, col = 3)\n",
    "\n",
    "fig6.update_layout(\n",
    "    font = {\n",
    "        \"size\": 15\n",
    "    },\n",
    "    \n",
    "    title = {\n",
    "        \"text\": 'Figure 6. Retardation Only with Patients taking Venlafaxine',\n",
    "        \"x\": 0.5,\n",
    "        \"xanchor\" : \"center\",\n",
    "        \"font\" : {\n",
    "            \"size\": 20\n",
    "        }\n",
    "    },\n",
    "    #xaxis =dict(tickmode = 'linear',\n",
    "    #tick0 = 0,\n",
    "    #dtick = 1),\n",
    "    xaxis1 = {\n",
    "        \"tickangle\": -45,\n",
    "    },\n",
    "    xaxis2 = {\n",
    "        \"title\" : 'Drug Efficiency Labels',\n",
    "        \"tickangle\": -45,\n",
    "    },\n",
    "    xaxis3 = {\n",
    "        \"tickangle\": -45,\n",
    "    },\n",
    "#     xaxis_title = 'Drug Efficiency Labels',\n",
    "    yaxis_title = 'Count',\n",
    "    showlegend = True,\n",
    "    width = 1600,\n",
    "    height = 900)\n",
    "\n",
    "fig6.show()\n",
    "\n",
    "r_ov"
   ]
  },
  {
   "cell_type": "code",
   "execution_count": 210,
   "metadata": {},
   "outputs": [
    {
     "data": {
      "text/plain": [
       "[0, 4, 15, 15, 0, 0, 24, 10, 0, 17, 17]"
      ]
     },
     "execution_count": 210,
     "metadata": {},
     "output_type": "execute_result"
    }
   ],
   "source": [
    "# Venlafaxine Remission\n",
    "mild_rv = len(r_ov[r_ov['Remission'] == 'No/Mild Remission'])\n",
    "part_rv = len(r_ov[r_ov['Remission'] == 'Partial Remission'])\n",
    "remi_rv = len(r_ov[r_ov['Remission'] == 'Remission'])\n",
    "full_rv = len(r_ov[r_ov['Remission'] == 'Full Remission'])\n",
    "\n",
    "# Venlafaxine Difference\n",
    "wor_rv = len(r_ov[r_ov['Difference'] == 'Worst'])\n",
    "nc_rv = len(r_ov[r_ov['Difference'] == 'No Change'])\n",
    "i_rv = len(r_ov[r_ov['Difference'] == 'Improvement'])\n",
    "bi_rv = len(r_ov[r_ov['Difference'] == 'Big Improvement'])\n",
    "\n",
    "# Venlafaxine Response\n",
    "nr_rv = len(r_ov[r_ov['Response'] == 'No Response'])\n",
    "pr_rv = len(r_ov[r_ov['Response'] == 'Partial Response'])\n",
    "fr_rv = len(r_ov[r_ov['Response'] == 'Full Response'])\n",
    "\n",
    "rv = [mild_rv, part_rv, remi_rv, full_rv,\n",
    "        wor_rv, nc_rv, i_rv, bi_rv,\n",
    "        nr_rv, pr_rv, fr_rv]\n",
    "\n",
    "rv"
   ]
  },
  {
   "cell_type": "code",
   "execution_count": 211,
   "metadata": {},
   "outputs": [
    {
     "data": {
      "application/vnd.plotly.v1+json": {
       "config": {
        "plotlyServerURL": "https://plot.ly"
       },
       "data": [
        {
         "name": "Remission",
         "type": "histogram",
         "x": [
          "Full Remission",
          "Full Remission",
          "Full Remission",
          "Full Remission",
          "Full Remission",
          "Full Remission",
          "Remission",
          "Full Remission",
          "Full Remission",
          "Full Remission",
          "Full Remission",
          "Remission",
          "Full Remission",
          "Full Remission",
          "Remission",
          "Remission",
          "Full Remission",
          "Full Remission",
          "Full Remission",
          "Full Remission",
          "Full Remission",
          "Full Remission",
          "Full Remission",
          "Full Remission",
          "Full Remission",
          "Full Remission",
          "Remission",
          "Full Remission",
          "Remission",
          "Full Remission",
          "Remission",
          "Full Remission",
          "Remission",
          "Full Remission",
          "Full Remission",
          "Full Remission",
          "Full Remission",
          "Full Remission",
          "Remission",
          "Full Remission",
          "Full Remission",
          "Full Remission",
          "Remission",
          "Remission",
          "Remission",
          "Remission",
          "Full Remission",
          "Full Remission",
          "Full Remission",
          "Full Remission",
          "Full Remission",
          "Full Remission",
          "Full Remission",
          "Full Remission",
          "Remission",
          "Remission",
          "Full Remission",
          "Remission",
          "Remission",
          "Remission",
          "Full Remission",
          "Full Remission",
          "Remission",
          "Full Remission",
          "No/Mild Remission",
          "Full Remission",
          "Full Remission",
          "Full Remission",
          "Full Remission",
          "Full Remission",
          "Full Remission",
          "Full Remission",
          "Full Remission",
          "Full Remission",
          "Full Remission",
          "Remission",
          "Full Remission",
          "Full Remission",
          "Full Remission",
          "Full Remission",
          "Remission",
          "Remission",
          "Full Remission",
          "Remission",
          "Full Remission",
          "Partial Remission",
          "Full Remission",
          "Full Remission",
          "Remission"
         ],
         "xaxis": "x",
         "yaxis": "y"
        },
        {
         "name": "Difference",
         "type": "histogram",
         "x": [
          "Improvement",
          "Improvement",
          "Improvement",
          "Improvement",
          "Big Improvement",
          "Improvement",
          "Improvement",
          "Improvement",
          "Improvement",
          "Improvement",
          "Improvement",
          "Improvement",
          "Improvement",
          "Improvement",
          "Improvement",
          "Improvement",
          "Improvement",
          "Improvement",
          "Improvement",
          "Improvement",
          "Improvement",
          "Improvement",
          "Improvement",
          "Improvement",
          "Improvement",
          "Improvement",
          "Improvement",
          "No Change",
          "Improvement",
          "Improvement",
          "Improvement",
          "Improvement",
          "Improvement",
          "Improvement",
          "Improvement",
          "Improvement",
          "Big Improvement",
          "Improvement",
          "Improvement",
          "Improvement",
          "Improvement",
          "Improvement",
          "Improvement",
          "Improvement",
          "Improvement",
          "Improvement",
          "Improvement",
          "Improvement",
          "Improvement",
          "Improvement",
          "Big Improvement",
          "Big Improvement",
          "Big Improvement",
          "Improvement",
          "Improvement",
          "Improvement",
          "Improvement",
          "Improvement",
          "Improvement",
          "Improvement",
          "Big Improvement",
          "Improvement",
          "Improvement",
          "Improvement",
          "Worst",
          "Improvement",
          "Improvement",
          "Improvement",
          "Improvement",
          "Improvement",
          "Improvement",
          "Improvement",
          "Big Improvement",
          "Improvement",
          "Improvement",
          "Improvement",
          "Improvement",
          "Improvement",
          "Big Improvement",
          "Big Improvement",
          "Improvement",
          "Improvement",
          "Improvement",
          "Improvement",
          "Improvement",
          "Improvement",
          "Improvement",
          "Improvement",
          "Improvement"
         ],
         "xaxis": "x2",
         "yaxis": "y2"
        },
        {
         "name": "Response",
         "type": "histogram",
         "x": [
          "Full Response",
          "Partial Response",
          "Full Response",
          "Partial Response",
          "Full Response",
          "Full Response",
          "Partial Response",
          "Full Response",
          "Full Response",
          "Partial Response",
          "Partial Response",
          "Partial Response",
          "Full Response",
          "Full Response",
          "Partial Response",
          "Partial Response",
          "Partial Response",
          "Full Response",
          "Full Response",
          "Full Response",
          "Full Response",
          "Full Response",
          "Partial Response",
          "Full Response",
          "Full Response",
          "Full Response",
          "Partial Response",
          "No Response",
          "Partial Response",
          "Full Response",
          "Partial Response",
          "Full Response",
          "Partial Response",
          "Partial Response",
          "Full Response",
          "Full Response",
          "Full Response",
          "Partial Response",
          "Partial Response",
          "Full Response",
          "Full Response",
          "Full Response",
          "Partial Response",
          "Full Response",
          "Partial Response",
          "Full Response",
          "Full Response",
          "Full Response",
          "Full Response",
          "Full Response",
          "Full Response",
          "Full Response",
          "Full Response",
          "Full Response",
          "Partial Response",
          "Partial Response",
          "Full Response",
          "Partial Response",
          "Partial Response",
          "Full Response",
          "Full Response",
          "Full Response",
          "Partial Response",
          "Full Response",
          "No Response",
          "Full Response",
          "Full Response",
          "Full Response",
          "Full Response",
          "Full Response",
          "Full Response",
          "Full Response",
          "Full Response",
          "Full Response",
          "Full Response",
          "Partial Response",
          "Full Response",
          "Full Response",
          "Full Response",
          "Full Response",
          "Partial Response",
          "Full Response",
          "Full Response",
          "Partial Response",
          "Full Response",
          "Partial Response",
          "Full Response",
          "Full Response",
          "Full Response"
         ],
         "xaxis": "x3",
         "yaxis": "y3"
        }
       ],
       "layout": {
        "font": {
         "size": 15
        },
        "height": 900,
        "showlegend": true,
        "template": {
         "data": {
          "bar": [
           {
            "error_x": {
             "color": "#2a3f5f"
            },
            "error_y": {
             "color": "#2a3f5f"
            },
            "marker": {
             "line": {
              "color": "#E5ECF6",
              "width": 0.5
             },
             "pattern": {
              "fillmode": "overlay",
              "size": 10,
              "solidity": 0.2
             }
            },
            "type": "bar"
           }
          ],
          "barpolar": [
           {
            "marker": {
             "line": {
              "color": "#E5ECF6",
              "width": 0.5
             },
             "pattern": {
              "fillmode": "overlay",
              "size": 10,
              "solidity": 0.2
             }
            },
            "type": "barpolar"
           }
          ],
          "carpet": [
           {
            "aaxis": {
             "endlinecolor": "#2a3f5f",
             "gridcolor": "white",
             "linecolor": "white",
             "minorgridcolor": "white",
             "startlinecolor": "#2a3f5f"
            },
            "baxis": {
             "endlinecolor": "#2a3f5f",
             "gridcolor": "white",
             "linecolor": "white",
             "minorgridcolor": "white",
             "startlinecolor": "#2a3f5f"
            },
            "type": "carpet"
           }
          ],
          "choropleth": [
           {
            "colorbar": {
             "outlinewidth": 0,
             "ticks": ""
            },
            "type": "choropleth"
           }
          ],
          "contour": [
           {
            "colorbar": {
             "outlinewidth": 0,
             "ticks": ""
            },
            "colorscale": [
             [
              0,
              "#0d0887"
             ],
             [
              0.1111111111111111,
              "#46039f"
             ],
             [
              0.2222222222222222,
              "#7201a8"
             ],
             [
              0.3333333333333333,
              "#9c179e"
             ],
             [
              0.4444444444444444,
              "#bd3786"
             ],
             [
              0.5555555555555556,
              "#d8576b"
             ],
             [
              0.6666666666666666,
              "#ed7953"
             ],
             [
              0.7777777777777778,
              "#fb9f3a"
             ],
             [
              0.8888888888888888,
              "#fdca26"
             ],
             [
              1,
              "#f0f921"
             ]
            ],
            "type": "contour"
           }
          ],
          "contourcarpet": [
           {
            "colorbar": {
             "outlinewidth": 0,
             "ticks": ""
            },
            "type": "contourcarpet"
           }
          ],
          "heatmap": [
           {
            "colorbar": {
             "outlinewidth": 0,
             "ticks": ""
            },
            "colorscale": [
             [
              0,
              "#0d0887"
             ],
             [
              0.1111111111111111,
              "#46039f"
             ],
             [
              0.2222222222222222,
              "#7201a8"
             ],
             [
              0.3333333333333333,
              "#9c179e"
             ],
             [
              0.4444444444444444,
              "#bd3786"
             ],
             [
              0.5555555555555556,
              "#d8576b"
             ],
             [
              0.6666666666666666,
              "#ed7953"
             ],
             [
              0.7777777777777778,
              "#fb9f3a"
             ],
             [
              0.8888888888888888,
              "#fdca26"
             ],
             [
              1,
              "#f0f921"
             ]
            ],
            "type": "heatmap"
           }
          ],
          "heatmapgl": [
           {
            "colorbar": {
             "outlinewidth": 0,
             "ticks": ""
            },
            "colorscale": [
             [
              0,
              "#0d0887"
             ],
             [
              0.1111111111111111,
              "#46039f"
             ],
             [
              0.2222222222222222,
              "#7201a8"
             ],
             [
              0.3333333333333333,
              "#9c179e"
             ],
             [
              0.4444444444444444,
              "#bd3786"
             ],
             [
              0.5555555555555556,
              "#d8576b"
             ],
             [
              0.6666666666666666,
              "#ed7953"
             ],
             [
              0.7777777777777778,
              "#fb9f3a"
             ],
             [
              0.8888888888888888,
              "#fdca26"
             ],
             [
              1,
              "#f0f921"
             ]
            ],
            "type": "heatmapgl"
           }
          ],
          "histogram": [
           {
            "marker": {
             "pattern": {
              "fillmode": "overlay",
              "size": 10,
              "solidity": 0.2
             }
            },
            "type": "histogram"
           }
          ],
          "histogram2d": [
           {
            "colorbar": {
             "outlinewidth": 0,
             "ticks": ""
            },
            "colorscale": [
             [
              0,
              "#0d0887"
             ],
             [
              0.1111111111111111,
              "#46039f"
             ],
             [
              0.2222222222222222,
              "#7201a8"
             ],
             [
              0.3333333333333333,
              "#9c179e"
             ],
             [
              0.4444444444444444,
              "#bd3786"
             ],
             [
              0.5555555555555556,
              "#d8576b"
             ],
             [
              0.6666666666666666,
              "#ed7953"
             ],
             [
              0.7777777777777778,
              "#fb9f3a"
             ],
             [
              0.8888888888888888,
              "#fdca26"
             ],
             [
              1,
              "#f0f921"
             ]
            ],
            "type": "histogram2d"
           }
          ],
          "histogram2dcontour": [
           {
            "colorbar": {
             "outlinewidth": 0,
             "ticks": ""
            },
            "colorscale": [
             [
              0,
              "#0d0887"
             ],
             [
              0.1111111111111111,
              "#46039f"
             ],
             [
              0.2222222222222222,
              "#7201a8"
             ],
             [
              0.3333333333333333,
              "#9c179e"
             ],
             [
              0.4444444444444444,
              "#bd3786"
             ],
             [
              0.5555555555555556,
              "#d8576b"
             ],
             [
              0.6666666666666666,
              "#ed7953"
             ],
             [
              0.7777777777777778,
              "#fb9f3a"
             ],
             [
              0.8888888888888888,
              "#fdca26"
             ],
             [
              1,
              "#f0f921"
             ]
            ],
            "type": "histogram2dcontour"
           }
          ],
          "mesh3d": [
           {
            "colorbar": {
             "outlinewidth": 0,
             "ticks": ""
            },
            "type": "mesh3d"
           }
          ],
          "parcoords": [
           {
            "line": {
             "colorbar": {
              "outlinewidth": 0,
              "ticks": ""
             }
            },
            "type": "parcoords"
           }
          ],
          "pie": [
           {
            "automargin": true,
            "type": "pie"
           }
          ],
          "scatter": [
           {
            "fillpattern": {
             "fillmode": "overlay",
             "size": 10,
             "solidity": 0.2
            },
            "type": "scatter"
           }
          ],
          "scatter3d": [
           {
            "line": {
             "colorbar": {
              "outlinewidth": 0,
              "ticks": ""
             }
            },
            "marker": {
             "colorbar": {
              "outlinewidth": 0,
              "ticks": ""
             }
            },
            "type": "scatter3d"
           }
          ],
          "scattercarpet": [
           {
            "marker": {
             "colorbar": {
              "outlinewidth": 0,
              "ticks": ""
             }
            },
            "type": "scattercarpet"
           }
          ],
          "scattergeo": [
           {
            "marker": {
             "colorbar": {
              "outlinewidth": 0,
              "ticks": ""
             }
            },
            "type": "scattergeo"
           }
          ],
          "scattergl": [
           {
            "marker": {
             "colorbar": {
              "outlinewidth": 0,
              "ticks": ""
             }
            },
            "type": "scattergl"
           }
          ],
          "scattermapbox": [
           {
            "marker": {
             "colorbar": {
              "outlinewidth": 0,
              "ticks": ""
             }
            },
            "type": "scattermapbox"
           }
          ],
          "scatterpolar": [
           {
            "marker": {
             "colorbar": {
              "outlinewidth": 0,
              "ticks": ""
             }
            },
            "type": "scatterpolar"
           }
          ],
          "scatterpolargl": [
           {
            "marker": {
             "colorbar": {
              "outlinewidth": 0,
              "ticks": ""
             }
            },
            "type": "scatterpolargl"
           }
          ],
          "scatterternary": [
           {
            "marker": {
             "colorbar": {
              "outlinewidth": 0,
              "ticks": ""
             }
            },
            "type": "scatterternary"
           }
          ],
          "surface": [
           {
            "colorbar": {
             "outlinewidth": 0,
             "ticks": ""
            },
            "colorscale": [
             [
              0,
              "#0d0887"
             ],
             [
              0.1111111111111111,
              "#46039f"
             ],
             [
              0.2222222222222222,
              "#7201a8"
             ],
             [
              0.3333333333333333,
              "#9c179e"
             ],
             [
              0.4444444444444444,
              "#bd3786"
             ],
             [
              0.5555555555555556,
              "#d8576b"
             ],
             [
              0.6666666666666666,
              "#ed7953"
             ],
             [
              0.7777777777777778,
              "#fb9f3a"
             ],
             [
              0.8888888888888888,
              "#fdca26"
             ],
             [
              1,
              "#f0f921"
             ]
            ],
            "type": "surface"
           }
          ],
          "table": [
           {
            "cells": {
             "fill": {
              "color": "#EBF0F8"
             },
             "line": {
              "color": "white"
             }
            },
            "header": {
             "fill": {
              "color": "#C8D4E3"
             },
             "line": {
              "color": "white"
             }
            },
            "type": "table"
           }
          ]
         },
         "layout": {
          "annotationdefaults": {
           "arrowcolor": "#2a3f5f",
           "arrowhead": 0,
           "arrowwidth": 1
          },
          "autotypenumbers": "strict",
          "coloraxis": {
           "colorbar": {
            "outlinewidth": 0,
            "ticks": ""
           }
          },
          "colorscale": {
           "diverging": [
            [
             0,
             "#8e0152"
            ],
            [
             0.1,
             "#c51b7d"
            ],
            [
             0.2,
             "#de77ae"
            ],
            [
             0.3,
             "#f1b6da"
            ],
            [
             0.4,
             "#fde0ef"
            ],
            [
             0.5,
             "#f7f7f7"
            ],
            [
             0.6,
             "#e6f5d0"
            ],
            [
             0.7,
             "#b8e186"
            ],
            [
             0.8,
             "#7fbc41"
            ],
            [
             0.9,
             "#4d9221"
            ],
            [
             1,
             "#276419"
            ]
           ],
           "sequential": [
            [
             0,
             "#0d0887"
            ],
            [
             0.1111111111111111,
             "#46039f"
            ],
            [
             0.2222222222222222,
             "#7201a8"
            ],
            [
             0.3333333333333333,
             "#9c179e"
            ],
            [
             0.4444444444444444,
             "#bd3786"
            ],
            [
             0.5555555555555556,
             "#d8576b"
            ],
            [
             0.6666666666666666,
             "#ed7953"
            ],
            [
             0.7777777777777778,
             "#fb9f3a"
            ],
            [
             0.8888888888888888,
             "#fdca26"
            ],
            [
             1,
             "#f0f921"
            ]
           ],
           "sequentialminus": [
            [
             0,
             "#0d0887"
            ],
            [
             0.1111111111111111,
             "#46039f"
            ],
            [
             0.2222222222222222,
             "#7201a8"
            ],
            [
             0.3333333333333333,
             "#9c179e"
            ],
            [
             0.4444444444444444,
             "#bd3786"
            ],
            [
             0.5555555555555556,
             "#d8576b"
            ],
            [
             0.6666666666666666,
             "#ed7953"
            ],
            [
             0.7777777777777778,
             "#fb9f3a"
            ],
            [
             0.8888888888888888,
             "#fdca26"
            ],
            [
             1,
             "#f0f921"
            ]
           ]
          },
          "colorway": [
           "#636efa",
           "#EF553B",
           "#00cc96",
           "#ab63fa",
           "#FFA15A",
           "#19d3f3",
           "#FF6692",
           "#B6E880",
           "#FF97FF",
           "#FECB52"
          ],
          "font": {
           "color": "#2a3f5f"
          },
          "geo": {
           "bgcolor": "white",
           "lakecolor": "white",
           "landcolor": "#E5ECF6",
           "showlakes": true,
           "showland": true,
           "subunitcolor": "white"
          },
          "hoverlabel": {
           "align": "left"
          },
          "hovermode": "closest",
          "mapbox": {
           "style": "light"
          },
          "paper_bgcolor": "white",
          "plot_bgcolor": "#E5ECF6",
          "polar": {
           "angularaxis": {
            "gridcolor": "white",
            "linecolor": "white",
            "ticks": ""
           },
           "bgcolor": "#E5ECF6",
           "radialaxis": {
            "gridcolor": "white",
            "linecolor": "white",
            "ticks": ""
           }
          },
          "scene": {
           "xaxis": {
            "backgroundcolor": "#E5ECF6",
            "gridcolor": "white",
            "gridwidth": 2,
            "linecolor": "white",
            "showbackground": true,
            "ticks": "",
            "zerolinecolor": "white"
           },
           "yaxis": {
            "backgroundcolor": "#E5ECF6",
            "gridcolor": "white",
            "gridwidth": 2,
            "linecolor": "white",
            "showbackground": true,
            "ticks": "",
            "zerolinecolor": "white"
           },
           "zaxis": {
            "backgroundcolor": "#E5ECF6",
            "gridcolor": "white",
            "gridwidth": 2,
            "linecolor": "white",
            "showbackground": true,
            "ticks": "",
            "zerolinecolor": "white"
           }
          },
          "shapedefaults": {
           "line": {
            "color": "#2a3f5f"
           }
          },
          "ternary": {
           "aaxis": {
            "gridcolor": "white",
            "linecolor": "white",
            "ticks": ""
           },
           "baxis": {
            "gridcolor": "white",
            "linecolor": "white",
            "ticks": ""
           },
           "bgcolor": "#E5ECF6",
           "caxis": {
            "gridcolor": "white",
            "linecolor": "white",
            "ticks": ""
           }
          },
          "title": {
           "x": 0.05
          },
          "xaxis": {
           "automargin": true,
           "gridcolor": "white",
           "linecolor": "white",
           "ticks": "",
           "title": {
            "standoff": 15
           },
           "zerolinecolor": "white",
           "zerolinewidth": 2
          },
          "yaxis": {
           "automargin": true,
           "gridcolor": "white",
           "linecolor": "white",
           "ticks": "",
           "title": {
            "standoff": 15
           },
           "zerolinecolor": "white",
           "zerolinewidth": 2
          }
         }
        },
        "title": {
         "font": {
          "size": 20
         },
         "text": "Figure 7. Retardation Only with Patients taking Paroxetine",
         "x": 0.5,
         "xanchor": "center"
        },
        "width": 1600,
        "xaxis": {
         "anchor": "y",
         "categoryarray": [
          "Full Remission",
          "Remission",
          "Partial Remission",
          "No/Mild Remission"
         ],
         "categoryorder": "array",
         "domain": [
          0,
          0.32
         ],
         "tickangle": -45
        },
        "xaxis2": {
         "anchor": "y2",
         "categoryarray": [
          "Worst",
          "No Change",
          "Improvement",
          "Big Improvement"
         ],
         "categoryorder": "array",
         "domain": [
          0.34,
          0.66
         ],
         "tickangle": -45,
         "title": {
          "text": "Drug Efficiency Labels"
         }
        },
        "xaxis3": {
         "anchor": "y3",
         "categoryarray": [
          "No Response",
          "Partial Response",
          "Full Response"
         ],
         "categoryorder": "array",
         "domain": [
          0.68,
          1
         ],
         "tickangle": -45
        },
        "yaxis": {
         "anchor": "x",
         "domain": [
          0,
          1
         ],
         "title": {
          "text": "Count"
         }
        },
        "yaxis2": {
         "anchor": "x2",
         "domain": [
          0,
          1
         ],
         "matches": "y",
         "showticklabels": false
        },
        "yaxis3": {
         "anchor": "x3",
         "domain": [
          0,
          1
         ],
         "matches": "y",
         "showticklabels": false
        }
       }
      },
      "text/html": [
       "<div>                            <div id=\"e2dddf5b-cbcd-4029-9c5d-98b1b0de1c6a\" class=\"plotly-graph-div\" style=\"height:900px; width:1600px;\"></div>            <script type=\"text/javascript\">                require([\"plotly\"], function(Plotly) {                    window.PLOTLYENV=window.PLOTLYENV || {};                                    if (document.getElementById(\"e2dddf5b-cbcd-4029-9c5d-98b1b0de1c6a\")) {                    Plotly.newPlot(                        \"e2dddf5b-cbcd-4029-9c5d-98b1b0de1c6a\",                        [{\"name\":\"Remission\",\"x\":[\"Full Remission\",\"Full Remission\",\"Full Remission\",\"Full Remission\",\"Full Remission\",\"Full Remission\",\"Remission\",\"Full Remission\",\"Full Remission\",\"Full Remission\",\"Full Remission\",\"Remission\",\"Full Remission\",\"Full Remission\",\"Remission\",\"Remission\",\"Full Remission\",\"Full Remission\",\"Full Remission\",\"Full Remission\",\"Full Remission\",\"Full Remission\",\"Full Remission\",\"Full Remission\",\"Full Remission\",\"Full Remission\",\"Remission\",\"Full Remission\",\"Remission\",\"Full Remission\",\"Remission\",\"Full Remission\",\"Remission\",\"Full Remission\",\"Full Remission\",\"Full Remission\",\"Full Remission\",\"Full Remission\",\"Remission\",\"Full Remission\",\"Full Remission\",\"Full Remission\",\"Remission\",\"Remission\",\"Remission\",\"Remission\",\"Full Remission\",\"Full Remission\",\"Full Remission\",\"Full Remission\",\"Full Remission\",\"Full Remission\",\"Full Remission\",\"Full Remission\",\"Remission\",\"Remission\",\"Full Remission\",\"Remission\",\"Remission\",\"Remission\",\"Full Remission\",\"Full Remission\",\"Remission\",\"Full Remission\",\"No/Mild Remission\",\"Full Remission\",\"Full Remission\",\"Full Remission\",\"Full Remission\",\"Full Remission\",\"Full Remission\",\"Full Remission\",\"Full Remission\",\"Full Remission\",\"Full Remission\",\"Remission\",\"Full Remission\",\"Full Remission\",\"Full Remission\",\"Full Remission\",\"Remission\",\"Remission\",\"Full Remission\",\"Remission\",\"Full Remission\",\"Partial Remission\",\"Full Remission\",\"Full Remission\",\"Remission\"],\"type\":\"histogram\",\"xaxis\":\"x\",\"yaxis\":\"y\"},{\"name\":\"Difference\",\"x\":[\"Improvement\",\"Improvement\",\"Improvement\",\"Improvement\",\"Big Improvement\",\"Improvement\",\"Improvement\",\"Improvement\",\"Improvement\",\"Improvement\",\"Improvement\",\"Improvement\",\"Improvement\",\"Improvement\",\"Improvement\",\"Improvement\",\"Improvement\",\"Improvement\",\"Improvement\",\"Improvement\",\"Improvement\",\"Improvement\",\"Improvement\",\"Improvement\",\"Improvement\",\"Improvement\",\"Improvement\",\"No Change\",\"Improvement\",\"Improvement\",\"Improvement\",\"Improvement\",\"Improvement\",\"Improvement\",\"Improvement\",\"Improvement\",\"Big Improvement\",\"Improvement\",\"Improvement\",\"Improvement\",\"Improvement\",\"Improvement\",\"Improvement\",\"Improvement\",\"Improvement\",\"Improvement\",\"Improvement\",\"Improvement\",\"Improvement\",\"Improvement\",\"Big Improvement\",\"Big Improvement\",\"Big Improvement\",\"Improvement\",\"Improvement\",\"Improvement\",\"Improvement\",\"Improvement\",\"Improvement\",\"Improvement\",\"Big Improvement\",\"Improvement\",\"Improvement\",\"Improvement\",\"Worst\",\"Improvement\",\"Improvement\",\"Improvement\",\"Improvement\",\"Improvement\",\"Improvement\",\"Improvement\",\"Big Improvement\",\"Improvement\",\"Improvement\",\"Improvement\",\"Improvement\",\"Improvement\",\"Big Improvement\",\"Big Improvement\",\"Improvement\",\"Improvement\",\"Improvement\",\"Improvement\",\"Improvement\",\"Improvement\",\"Improvement\",\"Improvement\",\"Improvement\"],\"type\":\"histogram\",\"xaxis\":\"x2\",\"yaxis\":\"y2\"},{\"name\":\"Response\",\"x\":[\"Full Response\",\"Partial Response\",\"Full Response\",\"Partial Response\",\"Full Response\",\"Full Response\",\"Partial Response\",\"Full Response\",\"Full Response\",\"Partial Response\",\"Partial Response\",\"Partial Response\",\"Full Response\",\"Full Response\",\"Partial Response\",\"Partial Response\",\"Partial Response\",\"Full Response\",\"Full Response\",\"Full Response\",\"Full Response\",\"Full Response\",\"Partial Response\",\"Full Response\",\"Full Response\",\"Full Response\",\"Partial Response\",\"No Response\",\"Partial Response\",\"Full Response\",\"Partial Response\",\"Full Response\",\"Partial Response\",\"Partial Response\",\"Full Response\",\"Full Response\",\"Full Response\",\"Partial Response\",\"Partial Response\",\"Full Response\",\"Full Response\",\"Full Response\",\"Partial Response\",\"Full Response\",\"Partial Response\",\"Full Response\",\"Full Response\",\"Full Response\",\"Full Response\",\"Full Response\",\"Full Response\",\"Full Response\",\"Full Response\",\"Full Response\",\"Partial Response\",\"Partial Response\",\"Full Response\",\"Partial Response\",\"Partial Response\",\"Full Response\",\"Full Response\",\"Full Response\",\"Partial Response\",\"Full Response\",\"No Response\",\"Full Response\",\"Full Response\",\"Full Response\",\"Full Response\",\"Full Response\",\"Full Response\",\"Full Response\",\"Full Response\",\"Full Response\",\"Full Response\",\"Partial Response\",\"Full Response\",\"Full Response\",\"Full Response\",\"Full Response\",\"Partial Response\",\"Full Response\",\"Full Response\",\"Partial Response\",\"Full Response\",\"Partial Response\",\"Full Response\",\"Full Response\",\"Full Response\"],\"type\":\"histogram\",\"xaxis\":\"x3\",\"yaxis\":\"y3\"}],                        {\"template\":{\"data\":{\"histogram2dcontour\":[{\"type\":\"histogram2dcontour\",\"colorbar\":{\"outlinewidth\":0,\"ticks\":\"\"},\"colorscale\":[[0.0,\"#0d0887\"],[0.1111111111111111,\"#46039f\"],[0.2222222222222222,\"#7201a8\"],[0.3333333333333333,\"#9c179e\"],[0.4444444444444444,\"#bd3786\"],[0.5555555555555556,\"#d8576b\"],[0.6666666666666666,\"#ed7953\"],[0.7777777777777778,\"#fb9f3a\"],[0.8888888888888888,\"#fdca26\"],[1.0,\"#f0f921\"]]}],\"choropleth\":[{\"type\":\"choropleth\",\"colorbar\":{\"outlinewidth\":0,\"ticks\":\"\"}}],\"histogram2d\":[{\"type\":\"histogram2d\",\"colorbar\":{\"outlinewidth\":0,\"ticks\":\"\"},\"colorscale\":[[0.0,\"#0d0887\"],[0.1111111111111111,\"#46039f\"],[0.2222222222222222,\"#7201a8\"],[0.3333333333333333,\"#9c179e\"],[0.4444444444444444,\"#bd3786\"],[0.5555555555555556,\"#d8576b\"],[0.6666666666666666,\"#ed7953\"],[0.7777777777777778,\"#fb9f3a\"],[0.8888888888888888,\"#fdca26\"],[1.0,\"#f0f921\"]]}],\"heatmap\":[{\"type\":\"heatmap\",\"colorbar\":{\"outlinewidth\":0,\"ticks\":\"\"},\"colorscale\":[[0.0,\"#0d0887\"],[0.1111111111111111,\"#46039f\"],[0.2222222222222222,\"#7201a8\"],[0.3333333333333333,\"#9c179e\"],[0.4444444444444444,\"#bd3786\"],[0.5555555555555556,\"#d8576b\"],[0.6666666666666666,\"#ed7953\"],[0.7777777777777778,\"#fb9f3a\"],[0.8888888888888888,\"#fdca26\"],[1.0,\"#f0f921\"]]}],\"heatmapgl\":[{\"type\":\"heatmapgl\",\"colorbar\":{\"outlinewidth\":0,\"ticks\":\"\"},\"colorscale\":[[0.0,\"#0d0887\"],[0.1111111111111111,\"#46039f\"],[0.2222222222222222,\"#7201a8\"],[0.3333333333333333,\"#9c179e\"],[0.4444444444444444,\"#bd3786\"],[0.5555555555555556,\"#d8576b\"],[0.6666666666666666,\"#ed7953\"],[0.7777777777777778,\"#fb9f3a\"],[0.8888888888888888,\"#fdca26\"],[1.0,\"#f0f921\"]]}],\"contourcarpet\":[{\"type\":\"contourcarpet\",\"colorbar\":{\"outlinewidth\":0,\"ticks\":\"\"}}],\"contour\":[{\"type\":\"contour\",\"colorbar\":{\"outlinewidth\":0,\"ticks\":\"\"},\"colorscale\":[[0.0,\"#0d0887\"],[0.1111111111111111,\"#46039f\"],[0.2222222222222222,\"#7201a8\"],[0.3333333333333333,\"#9c179e\"],[0.4444444444444444,\"#bd3786\"],[0.5555555555555556,\"#d8576b\"],[0.6666666666666666,\"#ed7953\"],[0.7777777777777778,\"#fb9f3a\"],[0.8888888888888888,\"#fdca26\"],[1.0,\"#f0f921\"]]}],\"surface\":[{\"type\":\"surface\",\"colorbar\":{\"outlinewidth\":0,\"ticks\":\"\"},\"colorscale\":[[0.0,\"#0d0887\"],[0.1111111111111111,\"#46039f\"],[0.2222222222222222,\"#7201a8\"],[0.3333333333333333,\"#9c179e\"],[0.4444444444444444,\"#bd3786\"],[0.5555555555555556,\"#d8576b\"],[0.6666666666666666,\"#ed7953\"],[0.7777777777777778,\"#fb9f3a\"],[0.8888888888888888,\"#fdca26\"],[1.0,\"#f0f921\"]]}],\"mesh3d\":[{\"type\":\"mesh3d\",\"colorbar\":{\"outlinewidth\":0,\"ticks\":\"\"}}],\"scatter\":[{\"fillpattern\":{\"fillmode\":\"overlay\",\"size\":10,\"solidity\":0.2},\"type\":\"scatter\"}],\"parcoords\":[{\"type\":\"parcoords\",\"line\":{\"colorbar\":{\"outlinewidth\":0,\"ticks\":\"\"}}}],\"scatterpolargl\":[{\"type\":\"scatterpolargl\",\"marker\":{\"colorbar\":{\"outlinewidth\":0,\"ticks\":\"\"}}}],\"bar\":[{\"error_x\":{\"color\":\"#2a3f5f\"},\"error_y\":{\"color\":\"#2a3f5f\"},\"marker\":{\"line\":{\"color\":\"#E5ECF6\",\"width\":0.5},\"pattern\":{\"fillmode\":\"overlay\",\"size\":10,\"solidity\":0.2}},\"type\":\"bar\"}],\"scattergeo\":[{\"type\":\"scattergeo\",\"marker\":{\"colorbar\":{\"outlinewidth\":0,\"ticks\":\"\"}}}],\"scatterpolar\":[{\"type\":\"scatterpolar\",\"marker\":{\"colorbar\":{\"outlinewidth\":0,\"ticks\":\"\"}}}],\"histogram\":[{\"marker\":{\"pattern\":{\"fillmode\":\"overlay\",\"size\":10,\"solidity\":0.2}},\"type\":\"histogram\"}],\"scattergl\":[{\"type\":\"scattergl\",\"marker\":{\"colorbar\":{\"outlinewidth\":0,\"ticks\":\"\"}}}],\"scatter3d\":[{\"type\":\"scatter3d\",\"line\":{\"colorbar\":{\"outlinewidth\":0,\"ticks\":\"\"}},\"marker\":{\"colorbar\":{\"outlinewidth\":0,\"ticks\":\"\"}}}],\"scattermapbox\":[{\"type\":\"scattermapbox\",\"marker\":{\"colorbar\":{\"outlinewidth\":0,\"ticks\":\"\"}}}],\"scatterternary\":[{\"type\":\"scatterternary\",\"marker\":{\"colorbar\":{\"outlinewidth\":0,\"ticks\":\"\"}}}],\"scattercarpet\":[{\"type\":\"scattercarpet\",\"marker\":{\"colorbar\":{\"outlinewidth\":0,\"ticks\":\"\"}}}],\"carpet\":[{\"aaxis\":{\"endlinecolor\":\"#2a3f5f\",\"gridcolor\":\"white\",\"linecolor\":\"white\",\"minorgridcolor\":\"white\",\"startlinecolor\":\"#2a3f5f\"},\"baxis\":{\"endlinecolor\":\"#2a3f5f\",\"gridcolor\":\"white\",\"linecolor\":\"white\",\"minorgridcolor\":\"white\",\"startlinecolor\":\"#2a3f5f\"},\"type\":\"carpet\"}],\"table\":[{\"cells\":{\"fill\":{\"color\":\"#EBF0F8\"},\"line\":{\"color\":\"white\"}},\"header\":{\"fill\":{\"color\":\"#C8D4E3\"},\"line\":{\"color\":\"white\"}},\"type\":\"table\"}],\"barpolar\":[{\"marker\":{\"line\":{\"color\":\"#E5ECF6\",\"width\":0.5},\"pattern\":{\"fillmode\":\"overlay\",\"size\":10,\"solidity\":0.2}},\"type\":\"barpolar\"}],\"pie\":[{\"automargin\":true,\"type\":\"pie\"}]},\"layout\":{\"autotypenumbers\":\"strict\",\"colorway\":[\"#636efa\",\"#EF553B\",\"#00cc96\",\"#ab63fa\",\"#FFA15A\",\"#19d3f3\",\"#FF6692\",\"#B6E880\",\"#FF97FF\",\"#FECB52\"],\"font\":{\"color\":\"#2a3f5f\"},\"hovermode\":\"closest\",\"hoverlabel\":{\"align\":\"left\"},\"paper_bgcolor\":\"white\",\"plot_bgcolor\":\"#E5ECF6\",\"polar\":{\"bgcolor\":\"#E5ECF6\",\"angularaxis\":{\"gridcolor\":\"white\",\"linecolor\":\"white\",\"ticks\":\"\"},\"radialaxis\":{\"gridcolor\":\"white\",\"linecolor\":\"white\",\"ticks\":\"\"}},\"ternary\":{\"bgcolor\":\"#E5ECF6\",\"aaxis\":{\"gridcolor\":\"white\",\"linecolor\":\"white\",\"ticks\":\"\"},\"baxis\":{\"gridcolor\":\"white\",\"linecolor\":\"white\",\"ticks\":\"\"},\"caxis\":{\"gridcolor\":\"white\",\"linecolor\":\"white\",\"ticks\":\"\"}},\"coloraxis\":{\"colorbar\":{\"outlinewidth\":0,\"ticks\":\"\"}},\"colorscale\":{\"sequential\":[[0.0,\"#0d0887\"],[0.1111111111111111,\"#46039f\"],[0.2222222222222222,\"#7201a8\"],[0.3333333333333333,\"#9c179e\"],[0.4444444444444444,\"#bd3786\"],[0.5555555555555556,\"#d8576b\"],[0.6666666666666666,\"#ed7953\"],[0.7777777777777778,\"#fb9f3a\"],[0.8888888888888888,\"#fdca26\"],[1.0,\"#f0f921\"]],\"sequentialminus\":[[0.0,\"#0d0887\"],[0.1111111111111111,\"#46039f\"],[0.2222222222222222,\"#7201a8\"],[0.3333333333333333,\"#9c179e\"],[0.4444444444444444,\"#bd3786\"],[0.5555555555555556,\"#d8576b\"],[0.6666666666666666,\"#ed7953\"],[0.7777777777777778,\"#fb9f3a\"],[0.8888888888888888,\"#fdca26\"],[1.0,\"#f0f921\"]],\"diverging\":[[0,\"#8e0152\"],[0.1,\"#c51b7d\"],[0.2,\"#de77ae\"],[0.3,\"#f1b6da\"],[0.4,\"#fde0ef\"],[0.5,\"#f7f7f7\"],[0.6,\"#e6f5d0\"],[0.7,\"#b8e186\"],[0.8,\"#7fbc41\"],[0.9,\"#4d9221\"],[1,\"#276419\"]]},\"xaxis\":{\"gridcolor\":\"white\",\"linecolor\":\"white\",\"ticks\":\"\",\"title\":{\"standoff\":15},\"zerolinecolor\":\"white\",\"automargin\":true,\"zerolinewidth\":2},\"yaxis\":{\"gridcolor\":\"white\",\"linecolor\":\"white\",\"ticks\":\"\",\"title\":{\"standoff\":15},\"zerolinecolor\":\"white\",\"automargin\":true,\"zerolinewidth\":2},\"scene\":{\"xaxis\":{\"backgroundcolor\":\"#E5ECF6\",\"gridcolor\":\"white\",\"linecolor\":\"white\",\"showbackground\":true,\"ticks\":\"\",\"zerolinecolor\":\"white\",\"gridwidth\":2},\"yaxis\":{\"backgroundcolor\":\"#E5ECF6\",\"gridcolor\":\"white\",\"linecolor\":\"white\",\"showbackground\":true,\"ticks\":\"\",\"zerolinecolor\":\"white\",\"gridwidth\":2},\"zaxis\":{\"backgroundcolor\":\"#E5ECF6\",\"gridcolor\":\"white\",\"linecolor\":\"white\",\"showbackground\":true,\"ticks\":\"\",\"zerolinecolor\":\"white\",\"gridwidth\":2}},\"shapedefaults\":{\"line\":{\"color\":\"#2a3f5f\"}},\"annotationdefaults\":{\"arrowcolor\":\"#2a3f5f\",\"arrowhead\":0,\"arrowwidth\":1},\"geo\":{\"bgcolor\":\"white\",\"landcolor\":\"#E5ECF6\",\"subunitcolor\":\"white\",\"showland\":true,\"showlakes\":true,\"lakecolor\":\"white\"},\"title\":{\"x\":0.05},\"mapbox\":{\"style\":\"light\"}}},\"xaxis\":{\"anchor\":\"y\",\"domain\":[0.0,0.32],\"categoryorder\":\"array\",\"categoryarray\":[\"Full Remission\",\"Remission\",\"Partial Remission\",\"No/Mild Remission\"],\"tickangle\":-45},\"yaxis\":{\"anchor\":\"x\",\"domain\":[0.0,1.0],\"title\":{\"text\":\"Count\"}},\"xaxis2\":{\"anchor\":\"y2\",\"domain\":[0.34,0.66],\"categoryorder\":\"array\",\"categoryarray\":[\"Worst\",\"No Change\",\"Improvement\",\"Big Improvement\"],\"title\":{\"text\":\"Drug Efficiency Labels\"},\"tickangle\":-45},\"yaxis2\":{\"anchor\":\"x2\",\"domain\":[0.0,1.0],\"matches\":\"y\",\"showticklabels\":false},\"xaxis3\":{\"anchor\":\"y3\",\"domain\":[0.68,1.0],\"categoryorder\":\"array\",\"categoryarray\":[\"No Response\",\"Partial Response\",\"Full Response\"],\"tickangle\":-45},\"yaxis3\":{\"anchor\":\"x3\",\"domain\":[0.0,1.0],\"matches\":\"y\",\"showticklabels\":false},\"font\":{\"size\":15},\"title\":{\"font\":{\"size\":20},\"text\":\"Figure 7. Retardation Only with Patients taking Paroxetine\",\"x\":0.5,\"xanchor\":\"center\"},\"showlegend\":true,\"width\":1600,\"height\":900},                        {\"responsive\": true}                    ).then(function(){\n",
       "                            \n",
       "var gd = document.getElementById('e2dddf5b-cbcd-4029-9c5d-98b1b0de1c6a');\n",
       "var x = new MutationObserver(function (mutations, observer) {{\n",
       "        var display = window.getComputedStyle(gd).display;\n",
       "        if (!display || display === 'none') {{\n",
       "            console.log([gd, 'removed!']);\n",
       "            Plotly.purge(gd);\n",
       "            observer.disconnect();\n",
       "        }}\n",
       "}});\n",
       "\n",
       "// Listen for the removal of the full notebook cells\n",
       "var notebookContainer = gd.closest('#notebook-container');\n",
       "if (notebookContainer) {{\n",
       "    x.observe(notebookContainer, {childList: true});\n",
       "}}\n",
       "\n",
       "// Listen for the clearing of the current output cell\n",
       "var outputEl = gd.closest('.output');\n",
       "if (outputEl) {{\n",
       "    x.observe(outputEl, {childList: true});\n",
       "}}\n",
       "\n",
       "                        })                };                });            </script>        </div>"
      ]
     },
     "metadata": {},
     "output_type": "display_data"
    },
    {
     "data": {
      "text/html": [
       "<div>\n",
       "<style scoped>\n",
       "    .dataframe tbody tr th:only-of-type {\n",
       "        vertical-align: middle;\n",
       "    }\n",
       "\n",
       "    .dataframe tbody tr th {\n",
       "        vertical-align: top;\n",
       "    }\n",
       "\n",
       "    .dataframe thead th {\n",
       "        text-align: right;\n",
       "    }\n",
       "</style>\n",
       "<table border=\"1\" class=\"dataframe\">\n",
       "  <thead>\n",
       "    <tr style=\"text-align: right;\">\n",
       "      <th></th>\n",
       "      <th>V1-HAMD08</th>\n",
       "      <th>V1-HAMD09</th>\n",
       "      <th>V1-all</th>\n",
       "      <th>level</th>\n",
       "      <th>DRUG</th>\n",
       "      <th>Remission</th>\n",
       "      <th>Difference</th>\n",
       "      <th>Response</th>\n",
       "    </tr>\n",
       "  </thead>\n",
       "  <tbody>\n",
       "    <tr>\n",
       "      <th>556</th>\n",
       "      <td>1</td>\n",
       "      <td>0</td>\n",
       "      <td>13</td>\n",
       "      <td>mild</td>\n",
       "      <td>Paroxetine</td>\n",
       "      <td>Full Remission</td>\n",
       "      <td>Improvement</td>\n",
       "      <td>Full Response</td>\n",
       "    </tr>\n",
       "    <tr>\n",
       "      <th>568</th>\n",
       "      <td>1</td>\n",
       "      <td>0</td>\n",
       "      <td>11</td>\n",
       "      <td>mild</td>\n",
       "      <td>Paroxetine</td>\n",
       "      <td>Full Remission</td>\n",
       "      <td>Improvement</td>\n",
       "      <td>Partial Response</td>\n",
       "    </tr>\n",
       "    <tr>\n",
       "      <th>588</th>\n",
       "      <td>1</td>\n",
       "      <td>0</td>\n",
       "      <td>12</td>\n",
       "      <td>mild</td>\n",
       "      <td>Paroxetine</td>\n",
       "      <td>Full Remission</td>\n",
       "      <td>Improvement</td>\n",
       "      <td>Full Response</td>\n",
       "    </tr>\n",
       "    <tr>\n",
       "      <th>607</th>\n",
       "      <td>1</td>\n",
       "      <td>0</td>\n",
       "      <td>12</td>\n",
       "      <td>mild</td>\n",
       "      <td>Paroxetine</td>\n",
       "      <td>Full Remission</td>\n",
       "      <td>Improvement</td>\n",
       "      <td>Partial Response</td>\n",
       "    </tr>\n",
       "    <tr>\n",
       "      <th>634</th>\n",
       "      <td>1</td>\n",
       "      <td>0</td>\n",
       "      <td>22</td>\n",
       "      <td>moderate</td>\n",
       "      <td>Paroxetine</td>\n",
       "      <td>Full Remission</td>\n",
       "      <td>Big Improvement</td>\n",
       "      <td>Full Response</td>\n",
       "    </tr>\n",
       "    <tr>\n",
       "      <th>...</th>\n",
       "      <td>...</td>\n",
       "      <td>...</td>\n",
       "      <td>...</td>\n",
       "      <td>...</td>\n",
       "      <td>...</td>\n",
       "      <td>...</td>\n",
       "      <td>...</td>\n",
       "      <td>...</td>\n",
       "    </tr>\n",
       "    <tr>\n",
       "      <th>1369</th>\n",
       "      <td>1</td>\n",
       "      <td>0</td>\n",
       "      <td>7</td>\n",
       "      <td>mild</td>\n",
       "      <td>Paroxetine</td>\n",
       "      <td>Full Remission</td>\n",
       "      <td>Improvement</td>\n",
       "      <td>Full Response</td>\n",
       "    </tr>\n",
       "    <tr>\n",
       "      <th>1374</th>\n",
       "      <td>2</td>\n",
       "      <td>0</td>\n",
       "      <td>23</td>\n",
       "      <td>moderate</td>\n",
       "      <td>Paroxetine</td>\n",
       "      <td>Partial Remission</td>\n",
       "      <td>Improvement</td>\n",
       "      <td>Partial Response</td>\n",
       "    </tr>\n",
       "    <tr>\n",
       "      <th>1389</th>\n",
       "      <td>1</td>\n",
       "      <td>0</td>\n",
       "      <td>13</td>\n",
       "      <td>mild</td>\n",
       "      <td>Paroxetine</td>\n",
       "      <td>Full Remission</td>\n",
       "      <td>Improvement</td>\n",
       "      <td>Full Response</td>\n",
       "    </tr>\n",
       "    <tr>\n",
       "      <th>1398</th>\n",
       "      <td>1</td>\n",
       "      <td>0</td>\n",
       "      <td>17</td>\n",
       "      <td>mild</td>\n",
       "      <td>Paroxetine</td>\n",
       "      <td>Full Remission</td>\n",
       "      <td>Improvement</td>\n",
       "      <td>Full Response</td>\n",
       "    </tr>\n",
       "    <tr>\n",
       "      <th>1410</th>\n",
       "      <td>2</td>\n",
       "      <td>0</td>\n",
       "      <td>22</td>\n",
       "      <td>moderate</td>\n",
       "      <td>Paroxetine</td>\n",
       "      <td>Remission</td>\n",
       "      <td>Improvement</td>\n",
       "      <td>Full Response</td>\n",
       "    </tr>\n",
       "  </tbody>\n",
       "</table>\n",
       "<p>89 rows × 8 columns</p>\n",
       "</div>"
      ],
      "text/plain": [
       "      V1-HAMD08  V1-HAMD09  V1-all     level        DRUG          Remission  \\\n",
       "556           1          0      13      mild  Paroxetine     Full Remission   \n",
       "568           1          0      11      mild  Paroxetine     Full Remission   \n",
       "588           1          0      12      mild  Paroxetine     Full Remission   \n",
       "607           1          0      12      mild  Paroxetine     Full Remission   \n",
       "634           1          0      22  moderate  Paroxetine     Full Remission   \n",
       "...         ...        ...     ...       ...         ...                ...   \n",
       "1369          1          0       7      mild  Paroxetine     Full Remission   \n",
       "1374          2          0      23  moderate  Paroxetine  Partial Remission   \n",
       "1389          1          0      13      mild  Paroxetine     Full Remission   \n",
       "1398          1          0      17      mild  Paroxetine     Full Remission   \n",
       "1410          2          0      22  moderate  Paroxetine          Remission   \n",
       "\n",
       "           Difference          Response  \n",
       "556       Improvement     Full Response  \n",
       "568       Improvement  Partial Response  \n",
       "588       Improvement     Full Response  \n",
       "607       Improvement  Partial Response  \n",
       "634   Big Improvement     Full Response  \n",
       "...               ...               ...  \n",
       "1369      Improvement     Full Response  \n",
       "1374      Improvement  Partial Response  \n",
       "1389      Improvement     Full Response  \n",
       "1398      Improvement     Full Response  \n",
       "1410      Improvement     Full Response  \n",
       "\n",
       "[89 rows x 8 columns]"
      ]
     },
     "execution_count": 211,
     "metadata": {},
     "output_type": "execute_result"
    }
   ],
   "source": [
    "r_op = r_o[r_o['DRUG'] == 'Paroxetine']\n",
    "rop1 = go.Histogram(x = r_op['Remission'], name = 'Remission')\n",
    "rop2 = go.Histogram(x = r_op['Difference'], name = 'Difference')\n",
    "rop3 = go.Histogram(x = r_op['Response'], name = 'Response')\n",
    "\n",
    "fig7 = make_subplots(rows = 1, cols = 3, shared_yaxes = True, horizontal_spacing = 0.02)\n",
    "fig7.add_trace(rop1, row = 1, col = 1)\n",
    "fig7.add_trace(rop2, row = 1, col = 2)\n",
    "fig7.add_trace(rop3, row = 1, col = 3)\n",
    "\n",
    "fig7.update_xaxes(categoryorder = 'array', categoryarray = remission_labels, row = 1, col = 1)\n",
    "fig7.update_xaxes(categoryorder = 'array', categoryarray = difference_labels, row = 1, col = 2)\n",
    "fig7.update_xaxes(categoryorder = 'array', categoryarray = response_labels, row = 1, col = 3)\n",
    "\n",
    "fig7.update_layout(\n",
    "    font = {\n",
    "        \"size\": 15\n",
    "    },\n",
    "    \n",
    "    title = {\n",
    "        \"text\": 'Figure 7. Retardation Only with Patients taking Paroxetine',\n",
    "        \"x\": 0.5,\n",
    "        \"xanchor\" : \"center\",\n",
    "        \"font\" : {\n",
    "            \"size\": 20\n",
    "        }\n",
    "    },\n",
    "    #xaxis =dict(tickmode = 'linear',\n",
    "    #tick0 = 0,\n",
    "    #dtick = 1),\n",
    "    xaxis1 = {\n",
    "        \"tickangle\": -45,\n",
    "    },\n",
    "    xaxis2 = {\n",
    "        \"title\" : 'Drug Efficiency Labels',\n",
    "        \"tickangle\": -45,\n",
    "    },\n",
    "    xaxis3 = {\n",
    "        \"tickangle\": -45,\n",
    "    },\n",
    "#     xaxis_title = 'Drug Efficiency Labels',\n",
    "    yaxis_title = 'Count',\n",
    "    showlegend = True,\n",
    "    width = 1600,\n",
    "    height = 900)\n",
    "\n",
    "fig7.show()\n",
    "\n",
    "\n",
    "r_op"
   ]
  },
  {
   "cell_type": "code",
   "execution_count": 212,
   "metadata": {},
   "outputs": [
    {
     "data": {
      "text/plain": [
       "[1, 1, 24, 63, 1, 1, 78, 9, 2, 28, 59]"
      ]
     },
     "execution_count": 212,
     "metadata": {},
     "output_type": "execute_result"
    }
   ],
   "source": [
    "# Paroxetine Remission\n",
    "\n",
    "mild_rp = len(r_op[r_op['Remission'] == 'No/Mild Remission'])\n",
    "part_rp = len(r_op[r_op['Remission'] == 'Partial Remission'])\n",
    "remi_rp = len(r_op[r_op['Remission'] == 'Remission'])\n",
    "full_rp = len(r_op[r_op['Remission'] == 'Full Remission'])\n",
    "\n",
    "# Paroxetine Difference\n",
    "wor_rp = len(r_op[r_op['Difference'] == 'Worst'])\n",
    "nc_rp = len(r_op[r_op['Difference'] == 'No Change'])\n",
    "i_rp = len(r_op[r_op['Difference'] == 'Improvement'])\n",
    "bi_rp = len(r_op[r_op['Difference'] == 'Big Improvement'])\n",
    "\n",
    "# Paroxetine Response\n",
    "nr_rp = len(r_op[r_op['Response'] == 'No Response'])\n",
    "pr_rp = len(r_op[r_op['Response'] == 'Partial Response'])\n",
    "fr_rp = len(r_op[r_op['Response'] == 'Full Response'])\n",
    "\n",
    "rp = [mild_rp, part_rp, remi_rp, full_rp,\n",
    "        wor_rp, nc_rp, i_rp, bi_rp,\n",
    "        nr_rp, pr_rp, fr_rp]\n",
    "\n",
    "rp"
   ]
  },
  {
   "cell_type": "code",
   "execution_count": 213,
   "metadata": {},
   "outputs": [
    {
     "data": {
      "application/vnd.plotly.v1+json": {
       "config": {
        "plotlyServerURL": "https://plot.ly"
       },
       "data": [
        {
         "name": "Remission",
         "type": "histogram",
         "x": [
          "Remission",
          "Full Remission",
          "Full Remission",
          "Partial Remission",
          "Partial Remission",
          "Remission",
          "Remission",
          "Full Remission",
          "Remission"
         ],
         "xaxis": "x",
         "yaxis": "y"
        },
        {
         "name": "Difference",
         "type": "histogram",
         "x": [
          "Improvement",
          "Improvement",
          "Improvement",
          "Improvement",
          "No Change",
          "Improvement",
          "Improvement",
          "Big Improvement",
          "Improvement"
         ],
         "xaxis": "x2",
         "yaxis": "y2"
        },
        {
         "name": "Response",
         "type": "histogram",
         "x": [
          "Partial Response",
          "Full Response",
          "Full Response",
          "Partial Response",
          "No Response",
          "Partial Response",
          "Full Response",
          "Full Response",
          "Partial Response"
         ],
         "xaxis": "x3",
         "yaxis": "y3"
        }
       ],
       "layout": {
        "font": {
         "size": 15
        },
        "height": 900,
        "showlegend": true,
        "template": {
         "data": {
          "bar": [
           {
            "error_x": {
             "color": "#2a3f5f"
            },
            "error_y": {
             "color": "#2a3f5f"
            },
            "marker": {
             "line": {
              "color": "#E5ECF6",
              "width": 0.5
             },
             "pattern": {
              "fillmode": "overlay",
              "size": 10,
              "solidity": 0.2
             }
            },
            "type": "bar"
           }
          ],
          "barpolar": [
           {
            "marker": {
             "line": {
              "color": "#E5ECF6",
              "width": 0.5
             },
             "pattern": {
              "fillmode": "overlay",
              "size": 10,
              "solidity": 0.2
             }
            },
            "type": "barpolar"
           }
          ],
          "carpet": [
           {
            "aaxis": {
             "endlinecolor": "#2a3f5f",
             "gridcolor": "white",
             "linecolor": "white",
             "minorgridcolor": "white",
             "startlinecolor": "#2a3f5f"
            },
            "baxis": {
             "endlinecolor": "#2a3f5f",
             "gridcolor": "white",
             "linecolor": "white",
             "minorgridcolor": "white",
             "startlinecolor": "#2a3f5f"
            },
            "type": "carpet"
           }
          ],
          "choropleth": [
           {
            "colorbar": {
             "outlinewidth": 0,
             "ticks": ""
            },
            "type": "choropleth"
           }
          ],
          "contour": [
           {
            "colorbar": {
             "outlinewidth": 0,
             "ticks": ""
            },
            "colorscale": [
             [
              0,
              "#0d0887"
             ],
             [
              0.1111111111111111,
              "#46039f"
             ],
             [
              0.2222222222222222,
              "#7201a8"
             ],
             [
              0.3333333333333333,
              "#9c179e"
             ],
             [
              0.4444444444444444,
              "#bd3786"
             ],
             [
              0.5555555555555556,
              "#d8576b"
             ],
             [
              0.6666666666666666,
              "#ed7953"
             ],
             [
              0.7777777777777778,
              "#fb9f3a"
             ],
             [
              0.8888888888888888,
              "#fdca26"
             ],
             [
              1,
              "#f0f921"
             ]
            ],
            "type": "contour"
           }
          ],
          "contourcarpet": [
           {
            "colorbar": {
             "outlinewidth": 0,
             "ticks": ""
            },
            "type": "contourcarpet"
           }
          ],
          "heatmap": [
           {
            "colorbar": {
             "outlinewidth": 0,
             "ticks": ""
            },
            "colorscale": [
             [
              0,
              "#0d0887"
             ],
             [
              0.1111111111111111,
              "#46039f"
             ],
             [
              0.2222222222222222,
              "#7201a8"
             ],
             [
              0.3333333333333333,
              "#9c179e"
             ],
             [
              0.4444444444444444,
              "#bd3786"
             ],
             [
              0.5555555555555556,
              "#d8576b"
             ],
             [
              0.6666666666666666,
              "#ed7953"
             ],
             [
              0.7777777777777778,
              "#fb9f3a"
             ],
             [
              0.8888888888888888,
              "#fdca26"
             ],
             [
              1,
              "#f0f921"
             ]
            ],
            "type": "heatmap"
           }
          ],
          "heatmapgl": [
           {
            "colorbar": {
             "outlinewidth": 0,
             "ticks": ""
            },
            "colorscale": [
             [
              0,
              "#0d0887"
             ],
             [
              0.1111111111111111,
              "#46039f"
             ],
             [
              0.2222222222222222,
              "#7201a8"
             ],
             [
              0.3333333333333333,
              "#9c179e"
             ],
             [
              0.4444444444444444,
              "#bd3786"
             ],
             [
              0.5555555555555556,
              "#d8576b"
             ],
             [
              0.6666666666666666,
              "#ed7953"
             ],
             [
              0.7777777777777778,
              "#fb9f3a"
             ],
             [
              0.8888888888888888,
              "#fdca26"
             ],
             [
              1,
              "#f0f921"
             ]
            ],
            "type": "heatmapgl"
           }
          ],
          "histogram": [
           {
            "marker": {
             "pattern": {
              "fillmode": "overlay",
              "size": 10,
              "solidity": 0.2
             }
            },
            "type": "histogram"
           }
          ],
          "histogram2d": [
           {
            "colorbar": {
             "outlinewidth": 0,
             "ticks": ""
            },
            "colorscale": [
             [
              0,
              "#0d0887"
             ],
             [
              0.1111111111111111,
              "#46039f"
             ],
             [
              0.2222222222222222,
              "#7201a8"
             ],
             [
              0.3333333333333333,
              "#9c179e"
             ],
             [
              0.4444444444444444,
              "#bd3786"
             ],
             [
              0.5555555555555556,
              "#d8576b"
             ],
             [
              0.6666666666666666,
              "#ed7953"
             ],
             [
              0.7777777777777778,
              "#fb9f3a"
             ],
             [
              0.8888888888888888,
              "#fdca26"
             ],
             [
              1,
              "#f0f921"
             ]
            ],
            "type": "histogram2d"
           }
          ],
          "histogram2dcontour": [
           {
            "colorbar": {
             "outlinewidth": 0,
             "ticks": ""
            },
            "colorscale": [
             [
              0,
              "#0d0887"
             ],
             [
              0.1111111111111111,
              "#46039f"
             ],
             [
              0.2222222222222222,
              "#7201a8"
             ],
             [
              0.3333333333333333,
              "#9c179e"
             ],
             [
              0.4444444444444444,
              "#bd3786"
             ],
             [
              0.5555555555555556,
              "#d8576b"
             ],
             [
              0.6666666666666666,
              "#ed7953"
             ],
             [
              0.7777777777777778,
              "#fb9f3a"
             ],
             [
              0.8888888888888888,
              "#fdca26"
             ],
             [
              1,
              "#f0f921"
             ]
            ],
            "type": "histogram2dcontour"
           }
          ],
          "mesh3d": [
           {
            "colorbar": {
             "outlinewidth": 0,
             "ticks": ""
            },
            "type": "mesh3d"
           }
          ],
          "parcoords": [
           {
            "line": {
             "colorbar": {
              "outlinewidth": 0,
              "ticks": ""
             }
            },
            "type": "parcoords"
           }
          ],
          "pie": [
           {
            "automargin": true,
            "type": "pie"
           }
          ],
          "scatter": [
           {
            "fillpattern": {
             "fillmode": "overlay",
             "size": 10,
             "solidity": 0.2
            },
            "type": "scatter"
           }
          ],
          "scatter3d": [
           {
            "line": {
             "colorbar": {
              "outlinewidth": 0,
              "ticks": ""
             }
            },
            "marker": {
             "colorbar": {
              "outlinewidth": 0,
              "ticks": ""
             }
            },
            "type": "scatter3d"
           }
          ],
          "scattercarpet": [
           {
            "marker": {
             "colorbar": {
              "outlinewidth": 0,
              "ticks": ""
             }
            },
            "type": "scattercarpet"
           }
          ],
          "scattergeo": [
           {
            "marker": {
             "colorbar": {
              "outlinewidth": 0,
              "ticks": ""
             }
            },
            "type": "scattergeo"
           }
          ],
          "scattergl": [
           {
            "marker": {
             "colorbar": {
              "outlinewidth": 0,
              "ticks": ""
             }
            },
            "type": "scattergl"
           }
          ],
          "scattermapbox": [
           {
            "marker": {
             "colorbar": {
              "outlinewidth": 0,
              "ticks": ""
             }
            },
            "type": "scattermapbox"
           }
          ],
          "scatterpolar": [
           {
            "marker": {
             "colorbar": {
              "outlinewidth": 0,
              "ticks": ""
             }
            },
            "type": "scatterpolar"
           }
          ],
          "scatterpolargl": [
           {
            "marker": {
             "colorbar": {
              "outlinewidth": 0,
              "ticks": ""
             }
            },
            "type": "scatterpolargl"
           }
          ],
          "scatterternary": [
           {
            "marker": {
             "colorbar": {
              "outlinewidth": 0,
              "ticks": ""
             }
            },
            "type": "scatterternary"
           }
          ],
          "surface": [
           {
            "colorbar": {
             "outlinewidth": 0,
             "ticks": ""
            },
            "colorscale": [
             [
              0,
              "#0d0887"
             ],
             [
              0.1111111111111111,
              "#46039f"
             ],
             [
              0.2222222222222222,
              "#7201a8"
             ],
             [
              0.3333333333333333,
              "#9c179e"
             ],
             [
              0.4444444444444444,
              "#bd3786"
             ],
             [
              0.5555555555555556,
              "#d8576b"
             ],
             [
              0.6666666666666666,
              "#ed7953"
             ],
             [
              0.7777777777777778,
              "#fb9f3a"
             ],
             [
              0.8888888888888888,
              "#fdca26"
             ],
             [
              1,
              "#f0f921"
             ]
            ],
            "type": "surface"
           }
          ],
          "table": [
           {
            "cells": {
             "fill": {
              "color": "#EBF0F8"
             },
             "line": {
              "color": "white"
             }
            },
            "header": {
             "fill": {
              "color": "#C8D4E3"
             },
             "line": {
              "color": "white"
             }
            },
            "type": "table"
           }
          ]
         },
         "layout": {
          "annotationdefaults": {
           "arrowcolor": "#2a3f5f",
           "arrowhead": 0,
           "arrowwidth": 1
          },
          "autotypenumbers": "strict",
          "coloraxis": {
           "colorbar": {
            "outlinewidth": 0,
            "ticks": ""
           }
          },
          "colorscale": {
           "diverging": [
            [
             0,
             "#8e0152"
            ],
            [
             0.1,
             "#c51b7d"
            ],
            [
             0.2,
             "#de77ae"
            ],
            [
             0.3,
             "#f1b6da"
            ],
            [
             0.4,
             "#fde0ef"
            ],
            [
             0.5,
             "#f7f7f7"
            ],
            [
             0.6,
             "#e6f5d0"
            ],
            [
             0.7,
             "#b8e186"
            ],
            [
             0.8,
             "#7fbc41"
            ],
            [
             0.9,
             "#4d9221"
            ],
            [
             1,
             "#276419"
            ]
           ],
           "sequential": [
            [
             0,
             "#0d0887"
            ],
            [
             0.1111111111111111,
             "#46039f"
            ],
            [
             0.2222222222222222,
             "#7201a8"
            ],
            [
             0.3333333333333333,
             "#9c179e"
            ],
            [
             0.4444444444444444,
             "#bd3786"
            ],
            [
             0.5555555555555556,
             "#d8576b"
            ],
            [
             0.6666666666666666,
             "#ed7953"
            ],
            [
             0.7777777777777778,
             "#fb9f3a"
            ],
            [
             0.8888888888888888,
             "#fdca26"
            ],
            [
             1,
             "#f0f921"
            ]
           ],
           "sequentialminus": [
            [
             0,
             "#0d0887"
            ],
            [
             0.1111111111111111,
             "#46039f"
            ],
            [
             0.2222222222222222,
             "#7201a8"
            ],
            [
             0.3333333333333333,
             "#9c179e"
            ],
            [
             0.4444444444444444,
             "#bd3786"
            ],
            [
             0.5555555555555556,
             "#d8576b"
            ],
            [
             0.6666666666666666,
             "#ed7953"
            ],
            [
             0.7777777777777778,
             "#fb9f3a"
            ],
            [
             0.8888888888888888,
             "#fdca26"
            ],
            [
             1,
             "#f0f921"
            ]
           ]
          },
          "colorway": [
           "#636efa",
           "#EF553B",
           "#00cc96",
           "#ab63fa",
           "#FFA15A",
           "#19d3f3",
           "#FF6692",
           "#B6E880",
           "#FF97FF",
           "#FECB52"
          ],
          "font": {
           "color": "#2a3f5f"
          },
          "geo": {
           "bgcolor": "white",
           "lakecolor": "white",
           "landcolor": "#E5ECF6",
           "showlakes": true,
           "showland": true,
           "subunitcolor": "white"
          },
          "hoverlabel": {
           "align": "left"
          },
          "hovermode": "closest",
          "mapbox": {
           "style": "light"
          },
          "paper_bgcolor": "white",
          "plot_bgcolor": "#E5ECF6",
          "polar": {
           "angularaxis": {
            "gridcolor": "white",
            "linecolor": "white",
            "ticks": ""
           },
           "bgcolor": "#E5ECF6",
           "radialaxis": {
            "gridcolor": "white",
            "linecolor": "white",
            "ticks": ""
           }
          },
          "scene": {
           "xaxis": {
            "backgroundcolor": "#E5ECF6",
            "gridcolor": "white",
            "gridwidth": 2,
            "linecolor": "white",
            "showbackground": true,
            "ticks": "",
            "zerolinecolor": "white"
           },
           "yaxis": {
            "backgroundcolor": "#E5ECF6",
            "gridcolor": "white",
            "gridwidth": 2,
            "linecolor": "white",
            "showbackground": true,
            "ticks": "",
            "zerolinecolor": "white"
           },
           "zaxis": {
            "backgroundcolor": "#E5ECF6",
            "gridcolor": "white",
            "gridwidth": 2,
            "linecolor": "white",
            "showbackground": true,
            "ticks": "",
            "zerolinecolor": "white"
           }
          },
          "shapedefaults": {
           "line": {
            "color": "#2a3f5f"
           }
          },
          "ternary": {
           "aaxis": {
            "gridcolor": "white",
            "linecolor": "white",
            "ticks": ""
           },
           "baxis": {
            "gridcolor": "white",
            "linecolor": "white",
            "ticks": ""
           },
           "bgcolor": "#E5ECF6",
           "caxis": {
            "gridcolor": "white",
            "linecolor": "white",
            "ticks": ""
           }
          },
          "title": {
           "x": 0.05
          },
          "xaxis": {
           "automargin": true,
           "gridcolor": "white",
           "linecolor": "white",
           "ticks": "",
           "title": {
            "standoff": 15
           },
           "zerolinecolor": "white",
           "zerolinewidth": 2
          },
          "yaxis": {
           "automargin": true,
           "gridcolor": "white",
           "linecolor": "white",
           "ticks": "",
           "title": {
            "standoff": 15
           },
           "zerolinecolor": "white",
           "zerolinewidth": 2
          }
         }
        },
        "title": {
         "font": {
          "size": 20
         },
         "text": "Figure 8. Retardation Only with Patients taking Fluoxetine",
         "x": 0.5,
         "xanchor": "center"
        },
        "width": 1600,
        "xaxis": {
         "anchor": "y",
         "categoryarray": [
          "Full Remission",
          "Remission",
          "Partial Remission",
          "No/Mild Remission"
         ],
         "categoryorder": "array",
         "domain": [
          0,
          0.32
         ],
         "tickangle": -45
        },
        "xaxis2": {
         "anchor": "y2",
         "categoryarray": [
          "Worst",
          "No Change",
          "Improvement",
          "Big Improvement"
         ],
         "categoryorder": "array",
         "domain": [
          0.34,
          0.66
         ],
         "tickangle": -45,
         "title": {
          "text": "Drug Efficiency Labels"
         }
        },
        "xaxis3": {
         "anchor": "y3",
         "categoryarray": [
          "No Response",
          "Partial Response",
          "Full Response"
         ],
         "categoryorder": "array",
         "domain": [
          0.68,
          1
         ],
         "tickangle": -45
        },
        "yaxis": {
         "anchor": "x",
         "domain": [
          0,
          1
         ],
         "title": {
          "text": "Count"
         }
        },
        "yaxis2": {
         "anchor": "x2",
         "domain": [
          0,
          1
         ],
         "matches": "y",
         "showticklabels": false
        },
        "yaxis3": {
         "anchor": "x3",
         "domain": [
          0,
          1
         ],
         "matches": "y",
         "showticklabels": false
        }
       }
      },
      "text/html": [
       "<div>                            <div id=\"85a66578-ccdc-4a33-b95a-b675425c0a68\" class=\"plotly-graph-div\" style=\"height:900px; width:1600px;\"></div>            <script type=\"text/javascript\">                require([\"plotly\"], function(Plotly) {                    window.PLOTLYENV=window.PLOTLYENV || {};                                    if (document.getElementById(\"85a66578-ccdc-4a33-b95a-b675425c0a68\")) {                    Plotly.newPlot(                        \"85a66578-ccdc-4a33-b95a-b675425c0a68\",                        [{\"name\":\"Remission\",\"x\":[\"Remission\",\"Full Remission\",\"Full Remission\",\"Partial Remission\",\"Partial Remission\",\"Remission\",\"Remission\",\"Full Remission\",\"Remission\"],\"type\":\"histogram\",\"xaxis\":\"x\",\"yaxis\":\"y\"},{\"name\":\"Difference\",\"x\":[\"Improvement\",\"Improvement\",\"Improvement\",\"Improvement\",\"No Change\",\"Improvement\",\"Improvement\",\"Big Improvement\",\"Improvement\"],\"type\":\"histogram\",\"xaxis\":\"x2\",\"yaxis\":\"y2\"},{\"name\":\"Response\",\"x\":[\"Partial Response\",\"Full Response\",\"Full Response\",\"Partial Response\",\"No Response\",\"Partial Response\",\"Full Response\",\"Full Response\",\"Partial Response\"],\"type\":\"histogram\",\"xaxis\":\"x3\",\"yaxis\":\"y3\"}],                        {\"template\":{\"data\":{\"histogram2dcontour\":[{\"type\":\"histogram2dcontour\",\"colorbar\":{\"outlinewidth\":0,\"ticks\":\"\"},\"colorscale\":[[0.0,\"#0d0887\"],[0.1111111111111111,\"#46039f\"],[0.2222222222222222,\"#7201a8\"],[0.3333333333333333,\"#9c179e\"],[0.4444444444444444,\"#bd3786\"],[0.5555555555555556,\"#d8576b\"],[0.6666666666666666,\"#ed7953\"],[0.7777777777777778,\"#fb9f3a\"],[0.8888888888888888,\"#fdca26\"],[1.0,\"#f0f921\"]]}],\"choropleth\":[{\"type\":\"choropleth\",\"colorbar\":{\"outlinewidth\":0,\"ticks\":\"\"}}],\"histogram2d\":[{\"type\":\"histogram2d\",\"colorbar\":{\"outlinewidth\":0,\"ticks\":\"\"},\"colorscale\":[[0.0,\"#0d0887\"],[0.1111111111111111,\"#46039f\"],[0.2222222222222222,\"#7201a8\"],[0.3333333333333333,\"#9c179e\"],[0.4444444444444444,\"#bd3786\"],[0.5555555555555556,\"#d8576b\"],[0.6666666666666666,\"#ed7953\"],[0.7777777777777778,\"#fb9f3a\"],[0.8888888888888888,\"#fdca26\"],[1.0,\"#f0f921\"]]}],\"heatmap\":[{\"type\":\"heatmap\",\"colorbar\":{\"outlinewidth\":0,\"ticks\":\"\"},\"colorscale\":[[0.0,\"#0d0887\"],[0.1111111111111111,\"#46039f\"],[0.2222222222222222,\"#7201a8\"],[0.3333333333333333,\"#9c179e\"],[0.4444444444444444,\"#bd3786\"],[0.5555555555555556,\"#d8576b\"],[0.6666666666666666,\"#ed7953\"],[0.7777777777777778,\"#fb9f3a\"],[0.8888888888888888,\"#fdca26\"],[1.0,\"#f0f921\"]]}],\"heatmapgl\":[{\"type\":\"heatmapgl\",\"colorbar\":{\"outlinewidth\":0,\"ticks\":\"\"},\"colorscale\":[[0.0,\"#0d0887\"],[0.1111111111111111,\"#46039f\"],[0.2222222222222222,\"#7201a8\"],[0.3333333333333333,\"#9c179e\"],[0.4444444444444444,\"#bd3786\"],[0.5555555555555556,\"#d8576b\"],[0.6666666666666666,\"#ed7953\"],[0.7777777777777778,\"#fb9f3a\"],[0.8888888888888888,\"#fdca26\"],[1.0,\"#f0f921\"]]}],\"contourcarpet\":[{\"type\":\"contourcarpet\",\"colorbar\":{\"outlinewidth\":0,\"ticks\":\"\"}}],\"contour\":[{\"type\":\"contour\",\"colorbar\":{\"outlinewidth\":0,\"ticks\":\"\"},\"colorscale\":[[0.0,\"#0d0887\"],[0.1111111111111111,\"#46039f\"],[0.2222222222222222,\"#7201a8\"],[0.3333333333333333,\"#9c179e\"],[0.4444444444444444,\"#bd3786\"],[0.5555555555555556,\"#d8576b\"],[0.6666666666666666,\"#ed7953\"],[0.7777777777777778,\"#fb9f3a\"],[0.8888888888888888,\"#fdca26\"],[1.0,\"#f0f921\"]]}],\"surface\":[{\"type\":\"surface\",\"colorbar\":{\"outlinewidth\":0,\"ticks\":\"\"},\"colorscale\":[[0.0,\"#0d0887\"],[0.1111111111111111,\"#46039f\"],[0.2222222222222222,\"#7201a8\"],[0.3333333333333333,\"#9c179e\"],[0.4444444444444444,\"#bd3786\"],[0.5555555555555556,\"#d8576b\"],[0.6666666666666666,\"#ed7953\"],[0.7777777777777778,\"#fb9f3a\"],[0.8888888888888888,\"#fdca26\"],[1.0,\"#f0f921\"]]}],\"mesh3d\":[{\"type\":\"mesh3d\",\"colorbar\":{\"outlinewidth\":0,\"ticks\":\"\"}}],\"scatter\":[{\"fillpattern\":{\"fillmode\":\"overlay\",\"size\":10,\"solidity\":0.2},\"type\":\"scatter\"}],\"parcoords\":[{\"type\":\"parcoords\",\"line\":{\"colorbar\":{\"outlinewidth\":0,\"ticks\":\"\"}}}],\"scatterpolargl\":[{\"type\":\"scatterpolargl\",\"marker\":{\"colorbar\":{\"outlinewidth\":0,\"ticks\":\"\"}}}],\"bar\":[{\"error_x\":{\"color\":\"#2a3f5f\"},\"error_y\":{\"color\":\"#2a3f5f\"},\"marker\":{\"line\":{\"color\":\"#E5ECF6\",\"width\":0.5},\"pattern\":{\"fillmode\":\"overlay\",\"size\":10,\"solidity\":0.2}},\"type\":\"bar\"}],\"scattergeo\":[{\"type\":\"scattergeo\",\"marker\":{\"colorbar\":{\"outlinewidth\":0,\"ticks\":\"\"}}}],\"scatterpolar\":[{\"type\":\"scatterpolar\",\"marker\":{\"colorbar\":{\"outlinewidth\":0,\"ticks\":\"\"}}}],\"histogram\":[{\"marker\":{\"pattern\":{\"fillmode\":\"overlay\",\"size\":10,\"solidity\":0.2}},\"type\":\"histogram\"}],\"scattergl\":[{\"type\":\"scattergl\",\"marker\":{\"colorbar\":{\"outlinewidth\":0,\"ticks\":\"\"}}}],\"scatter3d\":[{\"type\":\"scatter3d\",\"line\":{\"colorbar\":{\"outlinewidth\":0,\"ticks\":\"\"}},\"marker\":{\"colorbar\":{\"outlinewidth\":0,\"ticks\":\"\"}}}],\"scattermapbox\":[{\"type\":\"scattermapbox\",\"marker\":{\"colorbar\":{\"outlinewidth\":0,\"ticks\":\"\"}}}],\"scatterternary\":[{\"type\":\"scatterternary\",\"marker\":{\"colorbar\":{\"outlinewidth\":0,\"ticks\":\"\"}}}],\"scattercarpet\":[{\"type\":\"scattercarpet\",\"marker\":{\"colorbar\":{\"outlinewidth\":0,\"ticks\":\"\"}}}],\"carpet\":[{\"aaxis\":{\"endlinecolor\":\"#2a3f5f\",\"gridcolor\":\"white\",\"linecolor\":\"white\",\"minorgridcolor\":\"white\",\"startlinecolor\":\"#2a3f5f\"},\"baxis\":{\"endlinecolor\":\"#2a3f5f\",\"gridcolor\":\"white\",\"linecolor\":\"white\",\"minorgridcolor\":\"white\",\"startlinecolor\":\"#2a3f5f\"},\"type\":\"carpet\"}],\"table\":[{\"cells\":{\"fill\":{\"color\":\"#EBF0F8\"},\"line\":{\"color\":\"white\"}},\"header\":{\"fill\":{\"color\":\"#C8D4E3\"},\"line\":{\"color\":\"white\"}},\"type\":\"table\"}],\"barpolar\":[{\"marker\":{\"line\":{\"color\":\"#E5ECF6\",\"width\":0.5},\"pattern\":{\"fillmode\":\"overlay\",\"size\":10,\"solidity\":0.2}},\"type\":\"barpolar\"}],\"pie\":[{\"automargin\":true,\"type\":\"pie\"}]},\"layout\":{\"autotypenumbers\":\"strict\",\"colorway\":[\"#636efa\",\"#EF553B\",\"#00cc96\",\"#ab63fa\",\"#FFA15A\",\"#19d3f3\",\"#FF6692\",\"#B6E880\",\"#FF97FF\",\"#FECB52\"],\"font\":{\"color\":\"#2a3f5f\"},\"hovermode\":\"closest\",\"hoverlabel\":{\"align\":\"left\"},\"paper_bgcolor\":\"white\",\"plot_bgcolor\":\"#E5ECF6\",\"polar\":{\"bgcolor\":\"#E5ECF6\",\"angularaxis\":{\"gridcolor\":\"white\",\"linecolor\":\"white\",\"ticks\":\"\"},\"radialaxis\":{\"gridcolor\":\"white\",\"linecolor\":\"white\",\"ticks\":\"\"}},\"ternary\":{\"bgcolor\":\"#E5ECF6\",\"aaxis\":{\"gridcolor\":\"white\",\"linecolor\":\"white\",\"ticks\":\"\"},\"baxis\":{\"gridcolor\":\"white\",\"linecolor\":\"white\",\"ticks\":\"\"},\"caxis\":{\"gridcolor\":\"white\",\"linecolor\":\"white\",\"ticks\":\"\"}},\"coloraxis\":{\"colorbar\":{\"outlinewidth\":0,\"ticks\":\"\"}},\"colorscale\":{\"sequential\":[[0.0,\"#0d0887\"],[0.1111111111111111,\"#46039f\"],[0.2222222222222222,\"#7201a8\"],[0.3333333333333333,\"#9c179e\"],[0.4444444444444444,\"#bd3786\"],[0.5555555555555556,\"#d8576b\"],[0.6666666666666666,\"#ed7953\"],[0.7777777777777778,\"#fb9f3a\"],[0.8888888888888888,\"#fdca26\"],[1.0,\"#f0f921\"]],\"sequentialminus\":[[0.0,\"#0d0887\"],[0.1111111111111111,\"#46039f\"],[0.2222222222222222,\"#7201a8\"],[0.3333333333333333,\"#9c179e\"],[0.4444444444444444,\"#bd3786\"],[0.5555555555555556,\"#d8576b\"],[0.6666666666666666,\"#ed7953\"],[0.7777777777777778,\"#fb9f3a\"],[0.8888888888888888,\"#fdca26\"],[1.0,\"#f0f921\"]],\"diverging\":[[0,\"#8e0152\"],[0.1,\"#c51b7d\"],[0.2,\"#de77ae\"],[0.3,\"#f1b6da\"],[0.4,\"#fde0ef\"],[0.5,\"#f7f7f7\"],[0.6,\"#e6f5d0\"],[0.7,\"#b8e186\"],[0.8,\"#7fbc41\"],[0.9,\"#4d9221\"],[1,\"#276419\"]]},\"xaxis\":{\"gridcolor\":\"white\",\"linecolor\":\"white\",\"ticks\":\"\",\"title\":{\"standoff\":15},\"zerolinecolor\":\"white\",\"automargin\":true,\"zerolinewidth\":2},\"yaxis\":{\"gridcolor\":\"white\",\"linecolor\":\"white\",\"ticks\":\"\",\"title\":{\"standoff\":15},\"zerolinecolor\":\"white\",\"automargin\":true,\"zerolinewidth\":2},\"scene\":{\"xaxis\":{\"backgroundcolor\":\"#E5ECF6\",\"gridcolor\":\"white\",\"linecolor\":\"white\",\"showbackground\":true,\"ticks\":\"\",\"zerolinecolor\":\"white\",\"gridwidth\":2},\"yaxis\":{\"backgroundcolor\":\"#E5ECF6\",\"gridcolor\":\"white\",\"linecolor\":\"white\",\"showbackground\":true,\"ticks\":\"\",\"zerolinecolor\":\"white\",\"gridwidth\":2},\"zaxis\":{\"backgroundcolor\":\"#E5ECF6\",\"gridcolor\":\"white\",\"linecolor\":\"white\",\"showbackground\":true,\"ticks\":\"\",\"zerolinecolor\":\"white\",\"gridwidth\":2}},\"shapedefaults\":{\"line\":{\"color\":\"#2a3f5f\"}},\"annotationdefaults\":{\"arrowcolor\":\"#2a3f5f\",\"arrowhead\":0,\"arrowwidth\":1},\"geo\":{\"bgcolor\":\"white\",\"landcolor\":\"#E5ECF6\",\"subunitcolor\":\"white\",\"showland\":true,\"showlakes\":true,\"lakecolor\":\"white\"},\"title\":{\"x\":0.05},\"mapbox\":{\"style\":\"light\"}}},\"xaxis\":{\"anchor\":\"y\",\"domain\":[0.0,0.32],\"categoryorder\":\"array\",\"categoryarray\":[\"Full Remission\",\"Remission\",\"Partial Remission\",\"No/Mild Remission\"],\"tickangle\":-45},\"yaxis\":{\"anchor\":\"x\",\"domain\":[0.0,1.0],\"title\":{\"text\":\"Count\"}},\"xaxis2\":{\"anchor\":\"y2\",\"domain\":[0.34,0.66],\"categoryorder\":\"array\",\"categoryarray\":[\"Worst\",\"No Change\",\"Improvement\",\"Big Improvement\"],\"title\":{\"text\":\"Drug Efficiency Labels\"},\"tickangle\":-45},\"yaxis2\":{\"anchor\":\"x2\",\"domain\":[0.0,1.0],\"matches\":\"y\",\"showticklabels\":false},\"xaxis3\":{\"anchor\":\"y3\",\"domain\":[0.68,1.0],\"categoryorder\":\"array\",\"categoryarray\":[\"No Response\",\"Partial Response\",\"Full Response\"],\"tickangle\":-45},\"yaxis3\":{\"anchor\":\"x3\",\"domain\":[0.0,1.0],\"matches\":\"y\",\"showticklabels\":false},\"font\":{\"size\":15},\"title\":{\"font\":{\"size\":20},\"text\":\"Figure 8. Retardation Only with Patients taking Fluoxetine\",\"x\":0.5,\"xanchor\":\"center\"},\"showlegend\":true,\"width\":1600,\"height\":900},                        {\"responsive\": true}                    ).then(function(){\n",
       "                            \n",
       "var gd = document.getElementById('85a66578-ccdc-4a33-b95a-b675425c0a68');\n",
       "var x = new MutationObserver(function (mutations, observer) {{\n",
       "        var display = window.getComputedStyle(gd).display;\n",
       "        if (!display || display === 'none') {{\n",
       "            console.log([gd, 'removed!']);\n",
       "            Plotly.purge(gd);\n",
       "            observer.disconnect();\n",
       "        }}\n",
       "}});\n",
       "\n",
       "// Listen for the removal of the full notebook cells\n",
       "var notebookContainer = gd.closest('#notebook-container');\n",
       "if (notebookContainer) {{\n",
       "    x.observe(notebookContainer, {childList: true});\n",
       "}}\n",
       "\n",
       "// Listen for the clearing of the current output cell\n",
       "var outputEl = gd.closest('.output');\n",
       "if (outputEl) {{\n",
       "    x.observe(outputEl, {childList: true});\n",
       "}}\n",
       "\n",
       "                        })                };                });            </script>        </div>"
      ]
     },
     "metadata": {},
     "output_type": "display_data"
    },
    {
     "data": {
      "text/html": [
       "<div>\n",
       "<style scoped>\n",
       "    .dataframe tbody tr th:only-of-type {\n",
       "        vertical-align: middle;\n",
       "    }\n",
       "\n",
       "    .dataframe tbody tr th {\n",
       "        vertical-align: top;\n",
       "    }\n",
       "\n",
       "    .dataframe thead th {\n",
       "        text-align: right;\n",
       "    }\n",
       "</style>\n",
       "<table border=\"1\" class=\"dataframe\">\n",
       "  <thead>\n",
       "    <tr style=\"text-align: right;\">\n",
       "      <th></th>\n",
       "      <th>V1-HAMD08</th>\n",
       "      <th>V1-HAMD09</th>\n",
       "      <th>V1-all</th>\n",
       "      <th>level</th>\n",
       "      <th>DRUG</th>\n",
       "      <th>Remission</th>\n",
       "      <th>Difference</th>\n",
       "      <th>Response</th>\n",
       "    </tr>\n",
       "  </thead>\n",
       "  <tbody>\n",
       "    <tr>\n",
       "      <th>1434</th>\n",
       "      <td>1</td>\n",
       "      <td>0</td>\n",
       "      <td>19</td>\n",
       "      <td>moderate</td>\n",
       "      <td>Fluoxetine</td>\n",
       "      <td>Remission</td>\n",
       "      <td>Improvement</td>\n",
       "      <td>Partial Response</td>\n",
       "    </tr>\n",
       "    <tr>\n",
       "      <th>1435</th>\n",
       "      <td>1</td>\n",
       "      <td>0</td>\n",
       "      <td>17</td>\n",
       "      <td>mild</td>\n",
       "      <td>Fluoxetine</td>\n",
       "      <td>Full Remission</td>\n",
       "      <td>Improvement</td>\n",
       "      <td>Full Response</td>\n",
       "    </tr>\n",
       "    <tr>\n",
       "      <th>1436</th>\n",
       "      <td>1</td>\n",
       "      <td>0</td>\n",
       "      <td>13</td>\n",
       "      <td>mild</td>\n",
       "      <td>Fluoxetine</td>\n",
       "      <td>Full Remission</td>\n",
       "      <td>Improvement</td>\n",
       "      <td>Full Response</td>\n",
       "    </tr>\n",
       "    <tr>\n",
       "      <th>1445</th>\n",
       "      <td>1</td>\n",
       "      <td>0</td>\n",
       "      <td>21</td>\n",
       "      <td>moderate</td>\n",
       "      <td>Fluoxetine</td>\n",
       "      <td>Partial Remission</td>\n",
       "      <td>Improvement</td>\n",
       "      <td>Partial Response</td>\n",
       "    </tr>\n",
       "    <tr>\n",
       "      <th>1446</th>\n",
       "      <td>1</td>\n",
       "      <td>0</td>\n",
       "      <td>23</td>\n",
       "      <td>moderate</td>\n",
       "      <td>Fluoxetine</td>\n",
       "      <td>Partial Remission</td>\n",
       "      <td>No Change</td>\n",
       "      <td>No Response</td>\n",
       "    </tr>\n",
       "    <tr>\n",
       "      <th>1452</th>\n",
       "      <td>2</td>\n",
       "      <td>0</td>\n",
       "      <td>20</td>\n",
       "      <td>moderate</td>\n",
       "      <td>Fluoxetine</td>\n",
       "      <td>Remission</td>\n",
       "      <td>Improvement</td>\n",
       "      <td>Partial Response</td>\n",
       "    </tr>\n",
       "    <tr>\n",
       "      <th>1458</th>\n",
       "      <td>1</td>\n",
       "      <td>0</td>\n",
       "      <td>19</td>\n",
       "      <td>moderate</td>\n",
       "      <td>Fluoxetine</td>\n",
       "      <td>Remission</td>\n",
       "      <td>Improvement</td>\n",
       "      <td>Full Response</td>\n",
       "    </tr>\n",
       "    <tr>\n",
       "      <th>1461</th>\n",
       "      <td>1</td>\n",
       "      <td>0</td>\n",
       "      <td>21</td>\n",
       "      <td>moderate</td>\n",
       "      <td>Fluoxetine</td>\n",
       "      <td>Full Remission</td>\n",
       "      <td>Big Improvement</td>\n",
       "      <td>Full Response</td>\n",
       "    </tr>\n",
       "    <tr>\n",
       "      <th>1462</th>\n",
       "      <td>1</td>\n",
       "      <td>0</td>\n",
       "      <td>23</td>\n",
       "      <td>moderate</td>\n",
       "      <td>Fluoxetine</td>\n",
       "      <td>Remission</td>\n",
       "      <td>Improvement</td>\n",
       "      <td>Partial Response</td>\n",
       "    </tr>\n",
       "  </tbody>\n",
       "</table>\n",
       "</div>"
      ],
      "text/plain": [
       "      V1-HAMD08  V1-HAMD09  V1-all     level        DRUG          Remission  \\\n",
       "1434          1          0      19  moderate  Fluoxetine          Remission   \n",
       "1435          1          0      17      mild  Fluoxetine     Full Remission   \n",
       "1436          1          0      13      mild  Fluoxetine     Full Remission   \n",
       "1445          1          0      21  moderate  Fluoxetine  Partial Remission   \n",
       "1446          1          0      23  moderate  Fluoxetine  Partial Remission   \n",
       "1452          2          0      20  moderate  Fluoxetine          Remission   \n",
       "1458          1          0      19  moderate  Fluoxetine          Remission   \n",
       "1461          1          0      21  moderate  Fluoxetine     Full Remission   \n",
       "1462          1          0      23  moderate  Fluoxetine          Remission   \n",
       "\n",
       "           Difference          Response  \n",
       "1434      Improvement  Partial Response  \n",
       "1435      Improvement     Full Response  \n",
       "1436      Improvement     Full Response  \n",
       "1445      Improvement  Partial Response  \n",
       "1446        No Change       No Response  \n",
       "1452      Improvement  Partial Response  \n",
       "1458      Improvement     Full Response  \n",
       "1461  Big Improvement     Full Response  \n",
       "1462      Improvement  Partial Response  "
      ]
     },
     "execution_count": 213,
     "metadata": {},
     "output_type": "execute_result"
    }
   ],
   "source": [
    "r_of = r_o[r_o['DRUG'] == 'Fluoxetine']\n",
    "\n",
    "rof1 = go.Histogram(x = r_of['Remission'], name = 'Remission')\n",
    "rof2 = go.Histogram(x = r_of['Difference'], name = 'Difference')\n",
    "rof3 = go.Histogram(x = r_of['Response'], name = 'Response')\n",
    "\n",
    "fig8 = make_subplots(rows = 1, cols = 3, shared_yaxes = True, horizontal_spacing = 0.02)\n",
    "fig8.add_trace(rof1, row = 1, col = 1)\n",
    "fig8.add_trace(rof2, row = 1, col = 2)\n",
    "fig8.add_trace(rof3, row = 1, col = 3)\n",
    "\n",
    "fig8.update_xaxes(categoryorder = 'array', categoryarray = remission_labels, row = 1, col = 1)\n",
    "fig8.update_xaxes(categoryorder = 'array', categoryarray = difference_labels, row = 1, col = 2)\n",
    "fig8.update_xaxes(categoryorder = 'array', categoryarray = response_labels, row = 1, col = 3)\n",
    "\n",
    "fig8.update_layout(\n",
    "    font = {\n",
    "        \"size\": 15\n",
    "    },\n",
    "    \n",
    "    title = {\n",
    "        \"text\": 'Figure 8. Retardation Only with Patients taking Fluoxetine',\n",
    "        \"x\": 0.5,\n",
    "        \"xanchor\" : \"center\",\n",
    "        \"font\" : {\n",
    "            \"size\": 20\n",
    "        }\n",
    "    },\n",
    "    #xaxis =dict(tickmode = 'linear',\n",
    "    #tick0 = 0,\n",
    "    #dtick = 1),\n",
    "    xaxis1 = {\n",
    "        \"tickangle\": -45,\n",
    "    },\n",
    "    xaxis2 = {\n",
    "        \"title\" : 'Drug Efficiency Labels',\n",
    "        \"tickangle\": -45,\n",
    "    },\n",
    "    xaxis3 = {\n",
    "        \"tickangle\": -45,\n",
    "    },\n",
    "#     xaxis_title = 'Drug Efficiency Labels',\n",
    "    yaxis_title = 'Count',\n",
    "    showlegend = True,\n",
    "    width = 1600,\n",
    "    height = 900)\n",
    "\n",
    "fig8.show()\n",
    "\n",
    "r_of"
   ]
  },
  {
   "cell_type": "code",
   "execution_count": 214,
   "metadata": {},
   "outputs": [
    {
     "data": {
      "text/plain": [
       "[0, 2, 4, 3, 0, 1, 7, 1, 1, 4, 4]"
      ]
     },
     "execution_count": 214,
     "metadata": {},
     "output_type": "execute_result"
    }
   ],
   "source": [
    "# Fluoxetine Remission\n",
    "mild_rf = len(r_of[r_of['Remission'] == 'No/Mild Remission'])\n",
    "part_rf = len(r_of[r_of['Remission'] == 'Partial Remission'])\n",
    "remi_rf = len(r_of[r_of['Remission'] == 'Remission'])\n",
    "full_rf = len(r_of[r_of['Remission'] == 'Full Remission'])\n",
    "                            \n",
    "# Fluoxetine Difference\n",
    "wor_rf = len(r_of[r_of['Difference'] == 'Worst'])\n",
    "nc_rf = len(r_of[r_of['Difference'] == 'No Change'])\n",
    "i_rf = len(r_of[r_of['Difference'] == 'Improvement'])\n",
    "bi_rf = len(r_of[r_of['Difference'] == 'Big Improvement'])\n",
    "                            \n",
    "# Fluoxetine Response\n",
    "nr_rf = len(r_of[r_of['Response'] == 'No Response'])\n",
    "pr_rf = len(r_of[r_of['Response'] == 'Partial Response'])\n",
    "fr_rf = len(r_of[r_of['Response'] == 'Full Response'])\n",
    "\n",
    "rf = [mild_rf, part_rf, remi_rf, full_rf,\n",
    "        wor_rf, nc_rf, i_rf, bi_rf,\n",
    "        nr_rf, pr_rf, fr_rf]\n",
    "rf"
   ]
  },
  {
   "cell_type": "markdown",
   "metadata": {},
   "source": [
    "# Agitation and Retardation for each drug"
   ]
  },
  {
   "cell_type": "code",
   "execution_count": 215,
   "metadata": {},
   "outputs": [
    {
     "data": {
      "application/vnd.plotly.v1+json": {
       "config": {
        "plotlyServerURL": "https://plot.ly"
       },
       "data": [
        {
         "name": "Remission",
         "type": "histogram",
         "x": [
          "Full Remission",
          "Full Remission",
          "Remission",
          "Full Remission",
          "Full Remission",
          "Partial Remission",
          "No/Mild Remission",
          "Remission",
          "Remission",
          "Remission",
          "Remission",
          "Remission",
          "Remission",
          "Remission",
          "Remission",
          "Partial Remission",
          "Remission",
          "Partial Remission",
          "Remission",
          "Full Remission",
          "Full Remission",
          "Full Remission",
          "Remission",
          "Full Remission",
          "Remission",
          "Full Remission",
          "Full Remission",
          "Remission",
          "Remission",
          "Partial Remission",
          "Partial Remission",
          "Partial Remission",
          "Full Remission",
          "Remission",
          "Partial Remission",
          "Full Remission",
          "Remission",
          "Remission",
          "Remission",
          "No/Mild Remission",
          "Remission",
          "Partial Remission",
          "Remission",
          "Partial Remission",
          "Full Remission",
          "Partial Remission",
          "Full Remission",
          "Remission",
          "Full Remission",
          "Remission",
          "Full Remission",
          "Full Remission",
          "Full Remission",
          "Partial Remission",
          "Full Remission",
          "Full Remission",
          "Full Remission",
          "Partial Remission",
          "Full Remission",
          "Remission",
          "Partial Remission",
          "Full Remission",
          "Full Remission",
          "Full Remission",
          "No/Mild Remission",
          "Full Remission",
          "Partial Remission",
          "Remission",
          "Remission",
          "No/Mild Remission",
          "Full Remission",
          "Full Remission",
          "Full Remission",
          "Partial Remission",
          "Remission",
          "Full Remission",
          "Partial Remission",
          "Remission",
          "Full Remission",
          "Remission",
          "Full Remission",
          "Remission",
          "Remission",
          "Partial Remission",
          "Partial Remission",
          "Partial Remission",
          "Remission",
          "Full Remission",
          "Remission",
          "Full Remission",
          "Remission",
          "Full Remission",
          "Remission",
          "Remission",
          "Full Remission",
          "Full Remission",
          "Full Remission",
          "Full Remission",
          "Full Remission",
          "Remission",
          "Full Remission",
          "Remission",
          "Full Remission",
          "Full Remission",
          "Partial Remission",
          "Partial Remission",
          "Remission",
          "Remission",
          "Remission",
          "Remission",
          "Remission",
          "Partial Remission",
          "Partial Remission",
          "Full Remission",
          "Remission",
          "Remission",
          "Partial Remission",
          "Full Remission",
          "Remission",
          "Full Remission",
          "Remission",
          "Remission",
          "Full Remission",
          "Full Remission",
          "Remission",
          "Remission",
          "Remission",
          "Remission",
          "Full Remission",
          "Remission",
          "Remission",
          "Remission",
          "Partial Remission",
          "Remission",
          "Full Remission",
          "Remission",
          "Remission",
          "Remission",
          "Remission",
          "Partial Remission",
          "Full Remission",
          "Full Remission",
          "Remission",
          "Partial Remission",
          "Full Remission",
          "Full Remission",
          "Remission",
          "Partial Remission",
          "Full Remission",
          "Remission",
          "Remission",
          "Partial Remission",
          "Remission",
          "Remission",
          "Full Remission",
          "Remission",
          "Remission",
          "Remission",
          "Partial Remission",
          "Remission",
          "Full Remission",
          "Full Remission",
          "Full Remission",
          "Full Remission",
          "Full Remission",
          "Full Remission",
          "Full Remission",
          "Full Remission",
          "Remission",
          "Full Remission",
          "Remission",
          "Remission",
          "Full Remission",
          "Full Remission",
          "Full Remission",
          "Remission",
          "Full Remission",
          "Full Remission",
          "Full Remission",
          "Remission",
          "Full Remission",
          "Remission",
          "Full Remission",
          "Full Remission",
          "Partial Remission",
          "Full Remission",
          "Remission",
          "Full Remission",
          "Full Remission",
          "Full Remission",
          "Full Remission",
          "Remission",
          "Remission",
          "Full Remission",
          "Full Remission",
          "Partial Remission",
          "Remission",
          "Remission",
          "Remission",
          "Remission",
          "Remission",
          "Partial Remission",
          "Full Remission",
          "Remission",
          "Partial Remission",
          "Full Remission",
          "Full Remission",
          "Full Remission",
          "Remission",
          "Full Remission",
          "Full Remission",
          "Remission",
          "Full Remission",
          "Remission",
          "Partial Remission",
          "Full Remission",
          "Full Remission",
          "Full Remission",
          "Full Remission",
          "Remission",
          "Remission",
          "Remission",
          "Full Remission",
          "Partial Remission",
          "Remission",
          "Remission",
          "Remission",
          "Remission",
          "Remission",
          "Remission",
          "Full Remission",
          "Partial Remission",
          "Full Remission",
          "Remission",
          "Remission",
          "No/Mild Remission",
          "Remission",
          "Remission",
          "Full Remission",
          "Partial Remission",
          "Full Remission",
          "Full Remission",
          "Full Remission",
          "Full Remission",
          "Full Remission",
          "Full Remission",
          "Full Remission",
          "Full Remission",
          "Full Remission",
          "Full Remission",
          "Full Remission",
          "Full Remission",
          "Full Remission",
          "Remission",
          "Remission",
          "Remission",
          "Partial Remission",
          "Full Remission",
          "Full Remission",
          "Remission",
          "Full Remission",
          "Full Remission",
          "Full Remission",
          "Remission",
          "Full Remission",
          "Full Remission",
          "Full Remission",
          "Full Remission",
          "Full Remission",
          "Full Remission",
          "Full Remission",
          "Full Remission",
          "Full Remission",
          "Full Remission",
          "Remission",
          "Full Remission",
          "Remission",
          "Remission",
          "Remission",
          "Full Remission",
          "Remission",
          "Full Remission",
          "Full Remission",
          "Full Remission",
          "Full Remission",
          "Remission",
          "Remission",
          "Full Remission",
          "Remission",
          "Remission",
          "Remission",
          "Remission",
          "Full Remission",
          "Full Remission",
          "Remission",
          "Remission",
          "Partial Remission",
          "Remission",
          "Remission",
          "Remission",
          "Remission",
          "Remission",
          "Remission",
          "Remission",
          "Remission",
          "Remission",
          "Remission",
          "Remission",
          "Remission",
          "Remission",
          "Remission",
          "Partial Remission",
          "Full Remission",
          "Remission",
          "Full Remission",
          "Remission",
          "Remission",
          "Remission",
          "Remission",
          "Full Remission",
          "Remission",
          "Remission",
          "Remission",
          "Full Remission",
          "Remission",
          "Remission",
          "Full Remission",
          "Remission",
          "Remission",
          "Remission",
          "Remission",
          "Remission",
          "Remission",
          "Remission",
          "Full Remission",
          "Full Remission",
          "Remission",
          "Full Remission",
          "No/Mild Remission",
          "Full Remission",
          "Remission",
          "Full Remission",
          "Remission",
          "Partial Remission",
          "Remission",
          "Full Remission",
          "Remission",
          "Remission",
          "Remission",
          "Full Remission",
          "Remission",
          "Full Remission",
          "Remission",
          "Remission",
          "Remission",
          "Full Remission",
          "Full Remission",
          "Full Remission",
          "Full Remission",
          "Full Remission",
          "Remission",
          "Full Remission",
          "Full Remission",
          "Full Remission",
          "Full Remission",
          "Full Remission",
          "Remission"
         ],
         "xaxis": "x",
         "yaxis": "y"
        },
        {
         "name": "Difference",
         "type": "histogram",
         "x": [
          "Improvement",
          "Big Improvement",
          "Improvement",
          "Improvement",
          "Improvement",
          "Worst",
          "No Change",
          "Improvement",
          "Worst",
          "Improvement",
          "Improvement",
          "Improvement",
          "Improvement",
          "Improvement",
          "Worst",
          "Improvement",
          "Improvement",
          "Worst",
          "Big Improvement",
          "Improvement",
          "Improvement",
          "Improvement",
          "Improvement",
          "Big Improvement",
          "Improvement",
          "Improvement",
          "Improvement",
          "Improvement",
          "Improvement",
          "No Change",
          "Improvement",
          "No Change",
          "Big Improvement",
          "Big Improvement",
          "No Change",
          "Big Improvement",
          "Improvement",
          "Improvement",
          "Improvement",
          "Improvement",
          "Improvement",
          "Improvement",
          "Improvement",
          "Improvement",
          "Big Improvement",
          "Improvement",
          "Big Improvement",
          "Improvement",
          "Big Improvement",
          "Improvement",
          "Improvement",
          "Improvement",
          "Big Improvement",
          "Improvement",
          "Big Improvement",
          "Big Improvement",
          "Big Improvement",
          "Improvement",
          "Big Improvement",
          "Improvement",
          "Improvement",
          "Improvement",
          "Big Improvement",
          "Big Improvement",
          "Improvement",
          "Big Improvement",
          "No Change",
          "Improvement",
          "Improvement",
          "Improvement",
          "Big Improvement",
          "Big Improvement",
          "Big Improvement",
          "Improvement",
          "Improvement",
          "Big Improvement",
          "Improvement",
          "Improvement",
          "Big Improvement",
          "Improvement",
          "Big Improvement",
          "Improvement",
          "Big Improvement",
          "Improvement",
          "Improvement",
          "Improvement",
          "Improvement",
          "Big Improvement",
          "Improvement",
          "Big Improvement",
          "Big Improvement",
          "Big Improvement",
          "Improvement",
          "Improvement",
          "Big Improvement",
          "Improvement",
          "Big Improvement",
          "Improvement",
          "Big Improvement",
          "Improvement",
          "Big Improvement",
          "Big Improvement",
          "Improvement",
          "Big Improvement",
          "Improvement",
          "Improvement",
          "Improvement",
          "Improvement",
          "Big Improvement",
          "Big Improvement",
          "Improvement",
          "Improvement",
          "Improvement",
          "Big Improvement",
          "Improvement",
          "Improvement",
          "Improvement",
          "Improvement",
          "Big Improvement",
          "Big Improvement",
          "Improvement",
          "Improvement",
          "Improvement",
          "Big Improvement",
          "Improvement",
          "Improvement",
          "Improvement",
          "Improvement",
          "Big Improvement",
          "Improvement",
          "Improvement",
          "Improvement",
          "Improvement",
          "Improvement",
          "Improvement",
          "Improvement",
          "Improvement",
          "Improvement",
          "Improvement",
          "Improvement",
          "Big Improvement",
          "Big Improvement",
          "Improvement",
          "Improvement",
          "Big Improvement",
          "Big Improvement",
          "Improvement",
          "Improvement",
          "Big Improvement",
          "Improvement",
          "Big Improvement",
          "Improvement",
          "Improvement",
          "Improvement",
          "Big Improvement",
          "Improvement",
          "Improvement",
          "Improvement",
          "Improvement",
          "Improvement",
          "Improvement",
          "Improvement",
          "Big Improvement",
          "Big Improvement",
          "Improvement",
          "Improvement",
          "Improvement",
          "Big Improvement",
          "Improvement",
          "Improvement",
          "Improvement",
          "Improvement",
          "Improvement",
          "Improvement",
          "Improvement",
          "Improvement",
          "Improvement",
          "Improvement",
          "Improvement",
          "Worst",
          "Improvement",
          "Improvement",
          "Improvement",
          "Big Improvement",
          "Improvement",
          "Improvement",
          "Improvement",
          "Improvement",
          "Improvement",
          "Improvement",
          "Improvement",
          "Improvement",
          "Improvement",
          "Improvement",
          "Improvement",
          "Improvement",
          "Improvement",
          "Improvement",
          "Improvement",
          "Improvement",
          "Improvement",
          "Worst",
          "Improvement",
          "Improvement",
          "Worst",
          "Improvement",
          "Improvement",
          "Improvement",
          "No Change",
          "Improvement",
          "Improvement",
          "Improvement",
          "Improvement",
          "Improvement",
          "No Change",
          "Improvement",
          "Improvement",
          "Improvement",
          "Improvement",
          "Improvement",
          "Worst",
          "Improvement",
          "Big Improvement",
          "No Change",
          "Improvement",
          "Improvement",
          "Improvement",
          "Improvement",
          "Improvement",
          "Improvement",
          "Improvement",
          "Improvement",
          "Improvement",
          "Improvement",
          "Improvement",
          "Worst",
          "Improvement",
          "Improvement",
          "Improvement",
          "Worst",
          "Improvement",
          "Big Improvement",
          "Improvement",
          "Improvement",
          "Improvement",
          "Improvement",
          "Improvement",
          "Improvement",
          "Big Improvement",
          "Improvement",
          "Big Improvement",
          "Big Improvement",
          "Big Improvement",
          "Improvement",
          "Improvement",
          "Improvement",
          "Improvement",
          "Improvement",
          "Improvement",
          "Improvement",
          "Improvement",
          "Improvement",
          "Improvement",
          "Improvement",
          "Improvement",
          "Improvement",
          "Improvement",
          "Improvement",
          "Improvement",
          "Improvement",
          "Improvement",
          "Improvement",
          "Big Improvement",
          "Improvement",
          "Improvement",
          "Improvement",
          "Improvement",
          "Big Improvement",
          "Improvement",
          "Improvement",
          "Improvement",
          "Big Improvement",
          "Improvement",
          "Improvement",
          "Improvement",
          "Improvement",
          "Improvement",
          "Improvement",
          "Improvement",
          "Improvement",
          "Improvement",
          "Big Improvement",
          "Improvement",
          "Improvement",
          "Improvement",
          "Improvement",
          "Worst",
          "Improvement",
          "Improvement",
          "Improvement",
          "Improvement",
          "Improvement",
          "Improvement",
          "Improvement",
          "Improvement",
          "Improvement",
          "Improvement",
          "Improvement",
          "Improvement",
          "Improvement",
          "Improvement",
          "Improvement",
          "Big Improvement",
          "Big Improvement",
          "Improvement",
          "Improvement",
          "Improvement",
          "Improvement",
          "Improvement",
          "Big Improvement",
          "Improvement",
          "Improvement",
          "Improvement",
          "Improvement",
          "Improvement",
          "Improvement",
          "Improvement",
          "Improvement",
          "Improvement",
          "Improvement",
          "Improvement",
          "Improvement",
          "Improvement",
          "Improvement",
          "Improvement",
          "Improvement",
          "Big Improvement",
          "Big Improvement",
          "Worst",
          "Improvement",
          "Improvement",
          "Improvement",
          "Improvement",
          "Worst",
          "Improvement",
          "Big Improvement",
          "Improvement",
          "Improvement",
          "Improvement",
          "Big Improvement",
          "Improvement",
          "Big Improvement",
          "Improvement",
          "Improvement",
          "Improvement",
          "Improvement",
          "Improvement",
          "Big Improvement",
          "Big Improvement",
          "Big Improvement",
          "Improvement",
          "Improvement",
          "Big Improvement",
          "Big Improvement",
          "Big Improvement",
          "Improvement",
          "Improvement"
         ],
         "xaxis": "x2",
         "yaxis": "y2"
        },
        {
         "name": "Response",
         "type": "histogram",
         "x": [
          "Full Response",
          "Full Response",
          "Partial Response",
          "Full Response",
          "Full Response",
          "No Response",
          "No Response",
          "Partial Response",
          "No Response",
          "Partial Response",
          "Partial Response",
          "Full Response",
          "Full Response",
          "Partial Response",
          "No Response",
          "Partial Response",
          "Full Response",
          "No Response",
          "Full Response",
          "Full Response",
          "Full Response",
          "Full Response",
          "Partial Response",
          "Full Response",
          "Partial Response",
          "Partial Response",
          "Full Response",
          "Partial Response",
          "Partial Response",
          "No Response",
          "Partial Response",
          "No Response",
          "Full Response",
          "Full Response",
          "No Response",
          "Full Response",
          "Partial Response",
          "Partial Response",
          "Partial Response",
          "Partial Response",
          "Full Response",
          "Partial Response",
          "Partial Response",
          "Partial Response",
          "Full Response",
          "Partial Response",
          "Full Response",
          "Partial Response",
          "Full Response",
          "Full Response",
          "Full Response",
          "Full Response",
          "Full Response",
          "Partial Response",
          "Full Response",
          "Full Response",
          "Full Response",
          "Partial Response",
          "Full Response",
          "Partial Response",
          "Partial Response",
          "Full Response",
          "Full Response",
          "Full Response",
          "Partial Response",
          "Full Response",
          "No Response",
          "Partial Response",
          "Partial Response",
          "Partial Response",
          "Full Response",
          "Full Response",
          "Full Response",
          "Partial Response",
          "Partial Response",
          "Full Response",
          "Partial Response",
          "Full Response",
          "Full Response",
          "Partial Response",
          "Full Response",
          "Full Response",
          "Full Response",
          "Partial Response",
          "Partial Response",
          "Partial Response",
          "Partial Response",
          "Full Response",
          "Partial Response",
          "Full Response",
          "Partial Response",
          "Full Response",
          "Full Response",
          "Full Response",
          "Full Response",
          "Full Response",
          "Full Response",
          "Full Response",
          "Full Response",
          "Partial Response",
          "Full Response",
          "Full Response",
          "Full Response",
          "Full Response",
          "Partial Response",
          "Partial Response",
          "Partial Response",
          "Partial Response",
          "Full Response",
          "Full Response",
          "Partial Response",
          "Partial Response",
          "Partial Response",
          "Full Response",
          "Partial Response",
          "Partial Response",
          "Partial Response",
          "Full Response",
          "Full Response",
          "Full Response",
          "Full Response",
          "Partial Response",
          "Full Response",
          "Full Response",
          "Full Response",
          "Partial Response",
          "Full Response",
          "Full Response",
          "Full Response",
          "Full Response",
          "Partial Response",
          "Partial Response",
          "Partial Response",
          "Full Response",
          "Full Response",
          "Partial Response",
          "Partial Response",
          "Partial Response",
          "Partial Response",
          "Partial Response",
          "Full Response",
          "Full Response",
          "Partial Response",
          "Partial Response",
          "Full Response",
          "Full Response",
          "Partial Response",
          "Partial Response",
          "Full Response",
          "Full Response",
          "Full Response",
          "Partial Response",
          "Partial Response",
          "Partial Response",
          "Full Response",
          "Partial Response",
          "Partial Response",
          "Partial Response",
          "Partial Response",
          "Partial Response",
          "Full Response",
          "Full Response",
          "Full Response",
          "Full Response",
          "Full Response",
          "Full Response",
          "Partial Response",
          "Full Response",
          "Partial Response",
          "Full Response",
          "Full Response",
          "Partial Response",
          "Full Response",
          "Full Response",
          "Full Response",
          "Partial Response",
          "Full Response",
          "Full Response",
          "Full Response",
          "No Response",
          "Full Response",
          "Partial Response",
          "Full Response",
          "Full Response",
          "Partial Response",
          "Full Response",
          "Partial Response",
          "Full Response",
          "Full Response",
          "Full Response",
          "Full Response",
          "Partial Response",
          "Partial Response",
          "Full Response",
          "Partial Response",
          "Partial Response",
          "Partial Response",
          "Partial Response",
          "Partial Response",
          "Partial Response",
          "Partial Response",
          "No Response",
          "Partial Response",
          "Partial Response",
          "No Response",
          "Full Response",
          "Full Response",
          "Full Response",
          "No Response",
          "Full Response",
          "Full Response",
          "Full Response",
          "Full Response",
          "Full Response",
          "No Response",
          "Full Response",
          "Partial Response",
          "Full Response",
          "Full Response",
          "Partial Response",
          "No Response",
          "Full Response",
          "Full Response",
          "No Response",
          "Full Response",
          "Partial Response",
          "Full Response",
          "Partial Response",
          "Partial Response",
          "Full Response",
          "Full Response",
          "Partial Response",
          "Full Response",
          "Full Response",
          "Partial Response",
          "No Response",
          "Full Response",
          "Partial Response",
          "Full Response",
          "No Response",
          "Full Response",
          "Full Response",
          "Full Response",
          "Full Response",
          "Full Response",
          "Full Response",
          "Full Response",
          "Full Response",
          "Full Response",
          "Full Response",
          "Full Response",
          "Full Response",
          "Full Response",
          "Partial Response",
          "Partial Response",
          "Partial Response",
          "Partial Response",
          "Full Response",
          "Full Response",
          "Partial Response",
          "Full Response",
          "Full Response",
          "Full Response",
          "Partial Response",
          "Full Response",
          "Full Response",
          "Full Response",
          "Full Response",
          "Full Response",
          "Full Response",
          "Full Response",
          "Full Response",
          "Full Response",
          "Full Response",
          "Partial Response",
          "Full Response",
          "Full Response",
          "Full Response",
          "Partial Response",
          "Full Response",
          "Full Response",
          "Full Response",
          "Full Response",
          "Full Response",
          "Full Response",
          "Partial Response",
          "Partial Response",
          "Full Response",
          "Partial Response",
          "Partial Response",
          "Full Response",
          "Full Response",
          "Full Response",
          "Full Response",
          "Partial Response",
          "Partial Response",
          "No Response",
          "Partial Response",
          "Partial Response",
          "Partial Response",
          "Full Response",
          "Partial Response",
          "Partial Response",
          "Partial Response",
          "Partial Response",
          "Full Response",
          "Partial Response",
          "Partial Response",
          "Partial Response",
          "Partial Response",
          "Partial Response",
          "Partial Response",
          "Full Response",
          "Full Response",
          "Full Response",
          "Full Response",
          "Partial Response",
          "Partial Response",
          "Partial Response",
          "Full Response",
          "Partial Response",
          "Full Response",
          "Full Response",
          "Full Response",
          "Partial Response",
          "Full Response",
          "Full Response",
          "Partial Response",
          "Full Response",
          "Partial Response",
          "Partial Response",
          "Partial Response",
          "Partial Response",
          "Partial Response",
          "Full Response",
          "Full Response",
          "Full Response",
          "Full Response",
          "No Response",
          "Full Response",
          "Partial Response",
          "Full Response",
          "Partial Response",
          "No Response",
          "Full Response",
          "Full Response",
          "Partial Response",
          "Full Response",
          "Full Response",
          "Full Response",
          "Partial Response",
          "Full Response",
          "Partial Response",
          "Partial Response",
          "Full Response",
          "Full Response",
          "Full Response",
          "Full Response",
          "Full Response",
          "Full Response",
          "Full Response",
          "Full Response",
          "Full Response",
          "Full Response",
          "Full Response",
          "Full Response",
          "Full Response"
         ],
         "xaxis": "x3",
         "yaxis": "y3"
        }
       ],
       "layout": {
        "font": {
         "size": 15
        },
        "height": 900,
        "showlegend": true,
        "template": {
         "data": {
          "bar": [
           {
            "error_x": {
             "color": "#2a3f5f"
            },
            "error_y": {
             "color": "#2a3f5f"
            },
            "marker": {
             "line": {
              "color": "#E5ECF6",
              "width": 0.5
             },
             "pattern": {
              "fillmode": "overlay",
              "size": 10,
              "solidity": 0.2
             }
            },
            "type": "bar"
           }
          ],
          "barpolar": [
           {
            "marker": {
             "line": {
              "color": "#E5ECF6",
              "width": 0.5
             },
             "pattern": {
              "fillmode": "overlay",
              "size": 10,
              "solidity": 0.2
             }
            },
            "type": "barpolar"
           }
          ],
          "carpet": [
           {
            "aaxis": {
             "endlinecolor": "#2a3f5f",
             "gridcolor": "white",
             "linecolor": "white",
             "minorgridcolor": "white",
             "startlinecolor": "#2a3f5f"
            },
            "baxis": {
             "endlinecolor": "#2a3f5f",
             "gridcolor": "white",
             "linecolor": "white",
             "minorgridcolor": "white",
             "startlinecolor": "#2a3f5f"
            },
            "type": "carpet"
           }
          ],
          "choropleth": [
           {
            "colorbar": {
             "outlinewidth": 0,
             "ticks": ""
            },
            "type": "choropleth"
           }
          ],
          "contour": [
           {
            "colorbar": {
             "outlinewidth": 0,
             "ticks": ""
            },
            "colorscale": [
             [
              0,
              "#0d0887"
             ],
             [
              0.1111111111111111,
              "#46039f"
             ],
             [
              0.2222222222222222,
              "#7201a8"
             ],
             [
              0.3333333333333333,
              "#9c179e"
             ],
             [
              0.4444444444444444,
              "#bd3786"
             ],
             [
              0.5555555555555556,
              "#d8576b"
             ],
             [
              0.6666666666666666,
              "#ed7953"
             ],
             [
              0.7777777777777778,
              "#fb9f3a"
             ],
             [
              0.8888888888888888,
              "#fdca26"
             ],
             [
              1,
              "#f0f921"
             ]
            ],
            "type": "contour"
           }
          ],
          "contourcarpet": [
           {
            "colorbar": {
             "outlinewidth": 0,
             "ticks": ""
            },
            "type": "contourcarpet"
           }
          ],
          "heatmap": [
           {
            "colorbar": {
             "outlinewidth": 0,
             "ticks": ""
            },
            "colorscale": [
             [
              0,
              "#0d0887"
             ],
             [
              0.1111111111111111,
              "#46039f"
             ],
             [
              0.2222222222222222,
              "#7201a8"
             ],
             [
              0.3333333333333333,
              "#9c179e"
             ],
             [
              0.4444444444444444,
              "#bd3786"
             ],
             [
              0.5555555555555556,
              "#d8576b"
             ],
             [
              0.6666666666666666,
              "#ed7953"
             ],
             [
              0.7777777777777778,
              "#fb9f3a"
             ],
             [
              0.8888888888888888,
              "#fdca26"
             ],
             [
              1,
              "#f0f921"
             ]
            ],
            "type": "heatmap"
           }
          ],
          "heatmapgl": [
           {
            "colorbar": {
             "outlinewidth": 0,
             "ticks": ""
            },
            "colorscale": [
             [
              0,
              "#0d0887"
             ],
             [
              0.1111111111111111,
              "#46039f"
             ],
             [
              0.2222222222222222,
              "#7201a8"
             ],
             [
              0.3333333333333333,
              "#9c179e"
             ],
             [
              0.4444444444444444,
              "#bd3786"
             ],
             [
              0.5555555555555556,
              "#d8576b"
             ],
             [
              0.6666666666666666,
              "#ed7953"
             ],
             [
              0.7777777777777778,
              "#fb9f3a"
             ],
             [
              0.8888888888888888,
              "#fdca26"
             ],
             [
              1,
              "#f0f921"
             ]
            ],
            "type": "heatmapgl"
           }
          ],
          "histogram": [
           {
            "marker": {
             "pattern": {
              "fillmode": "overlay",
              "size": 10,
              "solidity": 0.2
             }
            },
            "type": "histogram"
           }
          ],
          "histogram2d": [
           {
            "colorbar": {
             "outlinewidth": 0,
             "ticks": ""
            },
            "colorscale": [
             [
              0,
              "#0d0887"
             ],
             [
              0.1111111111111111,
              "#46039f"
             ],
             [
              0.2222222222222222,
              "#7201a8"
             ],
             [
              0.3333333333333333,
              "#9c179e"
             ],
             [
              0.4444444444444444,
              "#bd3786"
             ],
             [
              0.5555555555555556,
              "#d8576b"
             ],
             [
              0.6666666666666666,
              "#ed7953"
             ],
             [
              0.7777777777777778,
              "#fb9f3a"
             ],
             [
              0.8888888888888888,
              "#fdca26"
             ],
             [
              1,
              "#f0f921"
             ]
            ],
            "type": "histogram2d"
           }
          ],
          "histogram2dcontour": [
           {
            "colorbar": {
             "outlinewidth": 0,
             "ticks": ""
            },
            "colorscale": [
             [
              0,
              "#0d0887"
             ],
             [
              0.1111111111111111,
              "#46039f"
             ],
             [
              0.2222222222222222,
              "#7201a8"
             ],
             [
              0.3333333333333333,
              "#9c179e"
             ],
             [
              0.4444444444444444,
              "#bd3786"
             ],
             [
              0.5555555555555556,
              "#d8576b"
             ],
             [
              0.6666666666666666,
              "#ed7953"
             ],
             [
              0.7777777777777778,
              "#fb9f3a"
             ],
             [
              0.8888888888888888,
              "#fdca26"
             ],
             [
              1,
              "#f0f921"
             ]
            ],
            "type": "histogram2dcontour"
           }
          ],
          "mesh3d": [
           {
            "colorbar": {
             "outlinewidth": 0,
             "ticks": ""
            },
            "type": "mesh3d"
           }
          ],
          "parcoords": [
           {
            "line": {
             "colorbar": {
              "outlinewidth": 0,
              "ticks": ""
             }
            },
            "type": "parcoords"
           }
          ],
          "pie": [
           {
            "automargin": true,
            "type": "pie"
           }
          ],
          "scatter": [
           {
            "fillpattern": {
             "fillmode": "overlay",
             "size": 10,
             "solidity": 0.2
            },
            "type": "scatter"
           }
          ],
          "scatter3d": [
           {
            "line": {
             "colorbar": {
              "outlinewidth": 0,
              "ticks": ""
             }
            },
            "marker": {
             "colorbar": {
              "outlinewidth": 0,
              "ticks": ""
             }
            },
            "type": "scatter3d"
           }
          ],
          "scattercarpet": [
           {
            "marker": {
             "colorbar": {
              "outlinewidth": 0,
              "ticks": ""
             }
            },
            "type": "scattercarpet"
           }
          ],
          "scattergeo": [
           {
            "marker": {
             "colorbar": {
              "outlinewidth": 0,
              "ticks": ""
             }
            },
            "type": "scattergeo"
           }
          ],
          "scattergl": [
           {
            "marker": {
             "colorbar": {
              "outlinewidth": 0,
              "ticks": ""
             }
            },
            "type": "scattergl"
           }
          ],
          "scattermapbox": [
           {
            "marker": {
             "colorbar": {
              "outlinewidth": 0,
              "ticks": ""
             }
            },
            "type": "scattermapbox"
           }
          ],
          "scatterpolar": [
           {
            "marker": {
             "colorbar": {
              "outlinewidth": 0,
              "ticks": ""
             }
            },
            "type": "scatterpolar"
           }
          ],
          "scatterpolargl": [
           {
            "marker": {
             "colorbar": {
              "outlinewidth": 0,
              "ticks": ""
             }
            },
            "type": "scatterpolargl"
           }
          ],
          "scatterternary": [
           {
            "marker": {
             "colorbar": {
              "outlinewidth": 0,
              "ticks": ""
             }
            },
            "type": "scatterternary"
           }
          ],
          "surface": [
           {
            "colorbar": {
             "outlinewidth": 0,
             "ticks": ""
            },
            "colorscale": [
             [
              0,
              "#0d0887"
             ],
             [
              0.1111111111111111,
              "#46039f"
             ],
             [
              0.2222222222222222,
              "#7201a8"
             ],
             [
              0.3333333333333333,
              "#9c179e"
             ],
             [
              0.4444444444444444,
              "#bd3786"
             ],
             [
              0.5555555555555556,
              "#d8576b"
             ],
             [
              0.6666666666666666,
              "#ed7953"
             ],
             [
              0.7777777777777778,
              "#fb9f3a"
             ],
             [
              0.8888888888888888,
              "#fdca26"
             ],
             [
              1,
              "#f0f921"
             ]
            ],
            "type": "surface"
           }
          ],
          "table": [
           {
            "cells": {
             "fill": {
              "color": "#EBF0F8"
             },
             "line": {
              "color": "white"
             }
            },
            "header": {
             "fill": {
              "color": "#C8D4E3"
             },
             "line": {
              "color": "white"
             }
            },
            "type": "table"
           }
          ]
         },
         "layout": {
          "annotationdefaults": {
           "arrowcolor": "#2a3f5f",
           "arrowhead": 0,
           "arrowwidth": 1
          },
          "autotypenumbers": "strict",
          "coloraxis": {
           "colorbar": {
            "outlinewidth": 0,
            "ticks": ""
           }
          },
          "colorscale": {
           "diverging": [
            [
             0,
             "#8e0152"
            ],
            [
             0.1,
             "#c51b7d"
            ],
            [
             0.2,
             "#de77ae"
            ],
            [
             0.3,
             "#f1b6da"
            ],
            [
             0.4,
             "#fde0ef"
            ],
            [
             0.5,
             "#f7f7f7"
            ],
            [
             0.6,
             "#e6f5d0"
            ],
            [
             0.7,
             "#b8e186"
            ],
            [
             0.8,
             "#7fbc41"
            ],
            [
             0.9,
             "#4d9221"
            ],
            [
             1,
             "#276419"
            ]
           ],
           "sequential": [
            [
             0,
             "#0d0887"
            ],
            [
             0.1111111111111111,
             "#46039f"
            ],
            [
             0.2222222222222222,
             "#7201a8"
            ],
            [
             0.3333333333333333,
             "#9c179e"
            ],
            [
             0.4444444444444444,
             "#bd3786"
            ],
            [
             0.5555555555555556,
             "#d8576b"
            ],
            [
             0.6666666666666666,
             "#ed7953"
            ],
            [
             0.7777777777777778,
             "#fb9f3a"
            ],
            [
             0.8888888888888888,
             "#fdca26"
            ],
            [
             1,
             "#f0f921"
            ]
           ],
           "sequentialminus": [
            [
             0,
             "#0d0887"
            ],
            [
             0.1111111111111111,
             "#46039f"
            ],
            [
             0.2222222222222222,
             "#7201a8"
            ],
            [
             0.3333333333333333,
             "#9c179e"
            ],
            [
             0.4444444444444444,
             "#bd3786"
            ],
            [
             0.5555555555555556,
             "#d8576b"
            ],
            [
             0.6666666666666666,
             "#ed7953"
            ],
            [
             0.7777777777777778,
             "#fb9f3a"
            ],
            [
             0.8888888888888888,
             "#fdca26"
            ],
            [
             1,
             "#f0f921"
            ]
           ]
          },
          "colorway": [
           "#636efa",
           "#EF553B",
           "#00cc96",
           "#ab63fa",
           "#FFA15A",
           "#19d3f3",
           "#FF6692",
           "#B6E880",
           "#FF97FF",
           "#FECB52"
          ],
          "font": {
           "color": "#2a3f5f"
          },
          "geo": {
           "bgcolor": "white",
           "lakecolor": "white",
           "landcolor": "#E5ECF6",
           "showlakes": true,
           "showland": true,
           "subunitcolor": "white"
          },
          "hoverlabel": {
           "align": "left"
          },
          "hovermode": "closest",
          "mapbox": {
           "style": "light"
          },
          "paper_bgcolor": "white",
          "plot_bgcolor": "#E5ECF6",
          "polar": {
           "angularaxis": {
            "gridcolor": "white",
            "linecolor": "white",
            "ticks": ""
           },
           "bgcolor": "#E5ECF6",
           "radialaxis": {
            "gridcolor": "white",
            "linecolor": "white",
            "ticks": ""
           }
          },
          "scene": {
           "xaxis": {
            "backgroundcolor": "#E5ECF6",
            "gridcolor": "white",
            "gridwidth": 2,
            "linecolor": "white",
            "showbackground": true,
            "ticks": "",
            "zerolinecolor": "white"
           },
           "yaxis": {
            "backgroundcolor": "#E5ECF6",
            "gridcolor": "white",
            "gridwidth": 2,
            "linecolor": "white",
            "showbackground": true,
            "ticks": "",
            "zerolinecolor": "white"
           },
           "zaxis": {
            "backgroundcolor": "#E5ECF6",
            "gridcolor": "white",
            "gridwidth": 2,
            "linecolor": "white",
            "showbackground": true,
            "ticks": "",
            "zerolinecolor": "white"
           }
          },
          "shapedefaults": {
           "line": {
            "color": "#2a3f5f"
           }
          },
          "ternary": {
           "aaxis": {
            "gridcolor": "white",
            "linecolor": "white",
            "ticks": ""
           },
           "baxis": {
            "gridcolor": "white",
            "linecolor": "white",
            "ticks": ""
           },
           "bgcolor": "#E5ECF6",
           "caxis": {
            "gridcolor": "white",
            "linecolor": "white",
            "ticks": ""
           }
          },
          "title": {
           "x": 0.05
          },
          "xaxis": {
           "automargin": true,
           "gridcolor": "white",
           "linecolor": "white",
           "ticks": "",
           "title": {
            "standoff": 15
           },
           "zerolinecolor": "white",
           "zerolinewidth": 2
          },
          "yaxis": {
           "automargin": true,
           "gridcolor": "white",
           "linecolor": "white",
           "ticks": "",
           "title": {
            "standoff": 15
           },
           "zerolinecolor": "white",
           "zerolinewidth": 2
          }
         }
        },
        "title": {
         "font": {
          "size": 20
         },
         "text": "Figure 9. Agitation and Retardation with Patients taking Duloxetine",
         "x": 0.5,
         "xanchor": "center"
        },
        "width": 1600,
        "xaxis": {
         "anchor": "y",
         "categoryarray": [
          "Full Remission",
          "Remission",
          "Partial Remission",
          "No/Mild Remission"
         ],
         "categoryorder": "array",
         "domain": [
          0,
          0.32
         ],
         "tickangle": -45
        },
        "xaxis2": {
         "anchor": "y2",
         "categoryarray": [
          "Worst",
          "No Change",
          "Improvement",
          "Big Improvement"
         ],
         "categoryorder": "array",
         "domain": [
          0.34,
          0.66
         ],
         "tickangle": -45,
         "title": {
          "text": "Drug Efficiency Labels"
         }
        },
        "xaxis3": {
         "anchor": "y3",
         "categoryarray": [
          "No Response",
          "Partial Response",
          "Full Response"
         ],
         "categoryorder": "array",
         "domain": [
          0.68,
          1
         ],
         "tickangle": -45
        },
        "yaxis": {
         "anchor": "x",
         "domain": [
          0,
          1
         ],
         "title": {
          "text": "Count"
         }
        },
        "yaxis2": {
         "anchor": "x2",
         "domain": [
          0,
          1
         ],
         "matches": "y",
         "showticklabels": false
        },
        "yaxis3": {
         "anchor": "x3",
         "domain": [
          0,
          1
         ],
         "matches": "y",
         "showticklabels": false
        }
       }
      },
      "text/html": [
       "<div>                            <div id=\"2bac018a-b1d3-4d08-8139-67cb64dc1bee\" class=\"plotly-graph-div\" style=\"height:900px; width:1600px;\"></div>            <script type=\"text/javascript\">                require([\"plotly\"], function(Plotly) {                    window.PLOTLYENV=window.PLOTLYENV || {};                                    if (document.getElementById(\"2bac018a-b1d3-4d08-8139-67cb64dc1bee\")) {                    Plotly.newPlot(                        \"2bac018a-b1d3-4d08-8139-67cb64dc1bee\",                        [{\"name\":\"Remission\",\"x\":[\"Full Remission\",\"Full Remission\",\"Remission\",\"Full Remission\",\"Full Remission\",\"Partial Remission\",\"No/Mild Remission\",\"Remission\",\"Remission\",\"Remission\",\"Remission\",\"Remission\",\"Remission\",\"Remission\",\"Remission\",\"Partial Remission\",\"Remission\",\"Partial Remission\",\"Remission\",\"Full Remission\",\"Full Remission\",\"Full Remission\",\"Remission\",\"Full Remission\",\"Remission\",\"Full Remission\",\"Full Remission\",\"Remission\",\"Remission\",\"Partial Remission\",\"Partial Remission\",\"Partial Remission\",\"Full Remission\",\"Remission\",\"Partial Remission\",\"Full Remission\",\"Remission\",\"Remission\",\"Remission\",\"No/Mild Remission\",\"Remission\",\"Partial Remission\",\"Remission\",\"Partial Remission\",\"Full Remission\",\"Partial Remission\",\"Full Remission\",\"Remission\",\"Full Remission\",\"Remission\",\"Full Remission\",\"Full Remission\",\"Full Remission\",\"Partial Remission\",\"Full Remission\",\"Full Remission\",\"Full Remission\",\"Partial Remission\",\"Full Remission\",\"Remission\",\"Partial Remission\",\"Full Remission\",\"Full Remission\",\"Full Remission\",\"No/Mild Remission\",\"Full Remission\",\"Partial Remission\",\"Remission\",\"Remission\",\"No/Mild Remission\",\"Full Remission\",\"Full Remission\",\"Full Remission\",\"Partial Remission\",\"Remission\",\"Full Remission\",\"Partial Remission\",\"Remission\",\"Full Remission\",\"Remission\",\"Full Remission\",\"Remission\",\"Remission\",\"Partial Remission\",\"Partial Remission\",\"Partial Remission\",\"Remission\",\"Full Remission\",\"Remission\",\"Full Remission\",\"Remission\",\"Full Remission\",\"Remission\",\"Remission\",\"Full Remission\",\"Full Remission\",\"Full Remission\",\"Full Remission\",\"Full Remission\",\"Remission\",\"Full Remission\",\"Remission\",\"Full Remission\",\"Full Remission\",\"Partial Remission\",\"Partial Remission\",\"Remission\",\"Remission\",\"Remission\",\"Remission\",\"Remission\",\"Partial Remission\",\"Partial Remission\",\"Full Remission\",\"Remission\",\"Remission\",\"Partial Remission\",\"Full Remission\",\"Remission\",\"Full Remission\",\"Remission\",\"Remission\",\"Full Remission\",\"Full Remission\",\"Remission\",\"Remission\",\"Remission\",\"Remission\",\"Full Remission\",\"Remission\",\"Remission\",\"Remission\",\"Partial Remission\",\"Remission\",\"Full Remission\",\"Remission\",\"Remission\",\"Remission\",\"Remission\",\"Partial Remission\",\"Full Remission\",\"Full Remission\",\"Remission\",\"Partial Remission\",\"Full Remission\",\"Full Remission\",\"Remission\",\"Partial Remission\",\"Full Remission\",\"Remission\",\"Remission\",\"Partial Remission\",\"Remission\",\"Remission\",\"Full Remission\",\"Remission\",\"Remission\",\"Remission\",\"Partial Remission\",\"Remission\",\"Full Remission\",\"Full Remission\",\"Full Remission\",\"Full Remission\",\"Full Remission\",\"Full Remission\",\"Full Remission\",\"Full Remission\",\"Remission\",\"Full Remission\",\"Remission\",\"Remission\",\"Full Remission\",\"Full Remission\",\"Full Remission\",\"Remission\",\"Full Remission\",\"Full Remission\",\"Full Remission\",\"Remission\",\"Full Remission\",\"Remission\",\"Full Remission\",\"Full Remission\",\"Partial Remission\",\"Full Remission\",\"Remission\",\"Full Remission\",\"Full Remission\",\"Full Remission\",\"Full Remission\",\"Remission\",\"Remission\",\"Full Remission\",\"Full Remission\",\"Partial Remission\",\"Remission\",\"Remission\",\"Remission\",\"Remission\",\"Remission\",\"Partial Remission\",\"Full Remission\",\"Remission\",\"Partial Remission\",\"Full Remission\",\"Full Remission\",\"Full Remission\",\"Remission\",\"Full Remission\",\"Full Remission\",\"Remission\",\"Full Remission\",\"Remission\",\"Partial Remission\",\"Full Remission\",\"Full Remission\",\"Full Remission\",\"Full Remission\",\"Remission\",\"Remission\",\"Remission\",\"Full Remission\",\"Partial Remission\",\"Remission\",\"Remission\",\"Remission\",\"Remission\",\"Remission\",\"Remission\",\"Full Remission\",\"Partial Remission\",\"Full Remission\",\"Remission\",\"Remission\",\"No/Mild Remission\",\"Remission\",\"Remission\",\"Full Remission\",\"Partial Remission\",\"Full Remission\",\"Full Remission\",\"Full Remission\",\"Full Remission\",\"Full Remission\",\"Full Remission\",\"Full Remission\",\"Full Remission\",\"Full Remission\",\"Full Remission\",\"Full Remission\",\"Full Remission\",\"Full Remission\",\"Remission\",\"Remission\",\"Remission\",\"Partial Remission\",\"Full Remission\",\"Full Remission\",\"Remission\",\"Full Remission\",\"Full Remission\",\"Full Remission\",\"Remission\",\"Full Remission\",\"Full Remission\",\"Full Remission\",\"Full Remission\",\"Full Remission\",\"Full Remission\",\"Full Remission\",\"Full Remission\",\"Full Remission\",\"Full Remission\",\"Remission\",\"Full Remission\",\"Remission\",\"Remission\",\"Remission\",\"Full Remission\",\"Remission\",\"Full Remission\",\"Full Remission\",\"Full Remission\",\"Full Remission\",\"Remission\",\"Remission\",\"Full Remission\",\"Remission\",\"Remission\",\"Remission\",\"Remission\",\"Full Remission\",\"Full Remission\",\"Remission\",\"Remission\",\"Partial Remission\",\"Remission\",\"Remission\",\"Remission\",\"Remission\",\"Remission\",\"Remission\",\"Remission\",\"Remission\",\"Remission\",\"Remission\",\"Remission\",\"Remission\",\"Remission\",\"Remission\",\"Partial Remission\",\"Full Remission\",\"Remission\",\"Full Remission\",\"Remission\",\"Remission\",\"Remission\",\"Remission\",\"Full Remission\",\"Remission\",\"Remission\",\"Remission\",\"Full Remission\",\"Remission\",\"Remission\",\"Full Remission\",\"Remission\",\"Remission\",\"Remission\",\"Remission\",\"Remission\",\"Remission\",\"Remission\",\"Full Remission\",\"Full Remission\",\"Remission\",\"Full Remission\",\"No/Mild Remission\",\"Full Remission\",\"Remission\",\"Full Remission\",\"Remission\",\"Partial Remission\",\"Remission\",\"Full Remission\",\"Remission\",\"Remission\",\"Remission\",\"Full Remission\",\"Remission\",\"Full Remission\",\"Remission\",\"Remission\",\"Remission\",\"Full Remission\",\"Full Remission\",\"Full Remission\",\"Full Remission\",\"Full Remission\",\"Remission\",\"Full Remission\",\"Full Remission\",\"Full Remission\",\"Full Remission\",\"Full Remission\",\"Remission\"],\"type\":\"histogram\",\"xaxis\":\"x\",\"yaxis\":\"y\"},{\"name\":\"Difference\",\"x\":[\"Improvement\",\"Big Improvement\",\"Improvement\",\"Improvement\",\"Improvement\",\"Worst\",\"No Change\",\"Improvement\",\"Worst\",\"Improvement\",\"Improvement\",\"Improvement\",\"Improvement\",\"Improvement\",\"Worst\",\"Improvement\",\"Improvement\",\"Worst\",\"Big Improvement\",\"Improvement\",\"Improvement\",\"Improvement\",\"Improvement\",\"Big Improvement\",\"Improvement\",\"Improvement\",\"Improvement\",\"Improvement\",\"Improvement\",\"No Change\",\"Improvement\",\"No Change\",\"Big Improvement\",\"Big Improvement\",\"No Change\",\"Big Improvement\",\"Improvement\",\"Improvement\",\"Improvement\",\"Improvement\",\"Improvement\",\"Improvement\",\"Improvement\",\"Improvement\",\"Big Improvement\",\"Improvement\",\"Big Improvement\",\"Improvement\",\"Big Improvement\",\"Improvement\",\"Improvement\",\"Improvement\",\"Big Improvement\",\"Improvement\",\"Big Improvement\",\"Big Improvement\",\"Big Improvement\",\"Improvement\",\"Big Improvement\",\"Improvement\",\"Improvement\",\"Improvement\",\"Big Improvement\",\"Big Improvement\",\"Improvement\",\"Big Improvement\",\"No Change\",\"Improvement\",\"Improvement\",\"Improvement\",\"Big Improvement\",\"Big Improvement\",\"Big Improvement\",\"Improvement\",\"Improvement\",\"Big Improvement\",\"Improvement\",\"Improvement\",\"Big Improvement\",\"Improvement\",\"Big Improvement\",\"Improvement\",\"Big Improvement\",\"Improvement\",\"Improvement\",\"Improvement\",\"Improvement\",\"Big Improvement\",\"Improvement\",\"Big Improvement\",\"Big Improvement\",\"Big Improvement\",\"Improvement\",\"Improvement\",\"Big Improvement\",\"Improvement\",\"Big Improvement\",\"Improvement\",\"Big Improvement\",\"Improvement\",\"Big Improvement\",\"Big Improvement\",\"Improvement\",\"Big Improvement\",\"Improvement\",\"Improvement\",\"Improvement\",\"Improvement\",\"Big Improvement\",\"Big Improvement\",\"Improvement\",\"Improvement\",\"Improvement\",\"Big Improvement\",\"Improvement\",\"Improvement\",\"Improvement\",\"Improvement\",\"Big Improvement\",\"Big Improvement\",\"Improvement\",\"Improvement\",\"Improvement\",\"Big Improvement\",\"Improvement\",\"Improvement\",\"Improvement\",\"Improvement\",\"Big Improvement\",\"Improvement\",\"Improvement\",\"Improvement\",\"Improvement\",\"Improvement\",\"Improvement\",\"Improvement\",\"Improvement\",\"Improvement\",\"Improvement\",\"Improvement\",\"Big Improvement\",\"Big Improvement\",\"Improvement\",\"Improvement\",\"Big Improvement\",\"Big Improvement\",\"Improvement\",\"Improvement\",\"Big Improvement\",\"Improvement\",\"Big Improvement\",\"Improvement\",\"Improvement\",\"Improvement\",\"Big Improvement\",\"Improvement\",\"Improvement\",\"Improvement\",\"Improvement\",\"Improvement\",\"Improvement\",\"Improvement\",\"Big Improvement\",\"Big Improvement\",\"Improvement\",\"Improvement\",\"Improvement\",\"Big Improvement\",\"Improvement\",\"Improvement\",\"Improvement\",\"Improvement\",\"Improvement\",\"Improvement\",\"Improvement\",\"Improvement\",\"Improvement\",\"Improvement\",\"Improvement\",\"Worst\",\"Improvement\",\"Improvement\",\"Improvement\",\"Big Improvement\",\"Improvement\",\"Improvement\",\"Improvement\",\"Improvement\",\"Improvement\",\"Improvement\",\"Improvement\",\"Improvement\",\"Improvement\",\"Improvement\",\"Improvement\",\"Improvement\",\"Improvement\",\"Improvement\",\"Improvement\",\"Improvement\",\"Improvement\",\"Worst\",\"Improvement\",\"Improvement\",\"Worst\",\"Improvement\",\"Improvement\",\"Improvement\",\"No Change\",\"Improvement\",\"Improvement\",\"Improvement\",\"Improvement\",\"Improvement\",\"No Change\",\"Improvement\",\"Improvement\",\"Improvement\",\"Improvement\",\"Improvement\",\"Worst\",\"Improvement\",\"Big Improvement\",\"No Change\",\"Improvement\",\"Improvement\",\"Improvement\",\"Improvement\",\"Improvement\",\"Improvement\",\"Improvement\",\"Improvement\",\"Improvement\",\"Improvement\",\"Improvement\",\"Worst\",\"Improvement\",\"Improvement\",\"Improvement\",\"Worst\",\"Improvement\",\"Big Improvement\",\"Improvement\",\"Improvement\",\"Improvement\",\"Improvement\",\"Improvement\",\"Improvement\",\"Big Improvement\",\"Improvement\",\"Big Improvement\",\"Big Improvement\",\"Big Improvement\",\"Improvement\",\"Improvement\",\"Improvement\",\"Improvement\",\"Improvement\",\"Improvement\",\"Improvement\",\"Improvement\",\"Improvement\",\"Improvement\",\"Improvement\",\"Improvement\",\"Improvement\",\"Improvement\",\"Improvement\",\"Improvement\",\"Improvement\",\"Improvement\",\"Improvement\",\"Big Improvement\",\"Improvement\",\"Improvement\",\"Improvement\",\"Improvement\",\"Big Improvement\",\"Improvement\",\"Improvement\",\"Improvement\",\"Big Improvement\",\"Improvement\",\"Improvement\",\"Improvement\",\"Improvement\",\"Improvement\",\"Improvement\",\"Improvement\",\"Improvement\",\"Improvement\",\"Big Improvement\",\"Improvement\",\"Improvement\",\"Improvement\",\"Improvement\",\"Worst\",\"Improvement\",\"Improvement\",\"Improvement\",\"Improvement\",\"Improvement\",\"Improvement\",\"Improvement\",\"Improvement\",\"Improvement\",\"Improvement\",\"Improvement\",\"Improvement\",\"Improvement\",\"Improvement\",\"Improvement\",\"Big Improvement\",\"Big Improvement\",\"Improvement\",\"Improvement\",\"Improvement\",\"Improvement\",\"Improvement\",\"Big Improvement\",\"Improvement\",\"Improvement\",\"Improvement\",\"Improvement\",\"Improvement\",\"Improvement\",\"Improvement\",\"Improvement\",\"Improvement\",\"Improvement\",\"Improvement\",\"Improvement\",\"Improvement\",\"Improvement\",\"Improvement\",\"Improvement\",\"Big Improvement\",\"Big Improvement\",\"Worst\",\"Improvement\",\"Improvement\",\"Improvement\",\"Improvement\",\"Worst\",\"Improvement\",\"Big Improvement\",\"Improvement\",\"Improvement\",\"Improvement\",\"Big Improvement\",\"Improvement\",\"Big Improvement\",\"Improvement\",\"Improvement\",\"Improvement\",\"Improvement\",\"Improvement\",\"Big Improvement\",\"Big Improvement\",\"Big Improvement\",\"Improvement\",\"Improvement\",\"Big Improvement\",\"Big Improvement\",\"Big Improvement\",\"Improvement\",\"Improvement\"],\"type\":\"histogram\",\"xaxis\":\"x2\",\"yaxis\":\"y2\"},{\"name\":\"Response\",\"x\":[\"Full Response\",\"Full Response\",\"Partial Response\",\"Full Response\",\"Full Response\",\"No Response\",\"No Response\",\"Partial Response\",\"No Response\",\"Partial Response\",\"Partial Response\",\"Full Response\",\"Full Response\",\"Partial Response\",\"No Response\",\"Partial Response\",\"Full Response\",\"No Response\",\"Full Response\",\"Full Response\",\"Full Response\",\"Full Response\",\"Partial Response\",\"Full Response\",\"Partial Response\",\"Partial Response\",\"Full Response\",\"Partial Response\",\"Partial Response\",\"No Response\",\"Partial Response\",\"No Response\",\"Full Response\",\"Full Response\",\"No Response\",\"Full Response\",\"Partial Response\",\"Partial Response\",\"Partial Response\",\"Partial Response\",\"Full Response\",\"Partial Response\",\"Partial Response\",\"Partial Response\",\"Full Response\",\"Partial Response\",\"Full Response\",\"Partial Response\",\"Full Response\",\"Full Response\",\"Full Response\",\"Full Response\",\"Full Response\",\"Partial Response\",\"Full Response\",\"Full Response\",\"Full Response\",\"Partial Response\",\"Full Response\",\"Partial Response\",\"Partial Response\",\"Full Response\",\"Full Response\",\"Full Response\",\"Partial Response\",\"Full Response\",\"No Response\",\"Partial Response\",\"Partial Response\",\"Partial Response\",\"Full Response\",\"Full Response\",\"Full Response\",\"Partial Response\",\"Partial Response\",\"Full Response\",\"Partial Response\",\"Full Response\",\"Full Response\",\"Partial Response\",\"Full Response\",\"Full Response\",\"Full Response\",\"Partial Response\",\"Partial Response\",\"Partial Response\",\"Partial Response\",\"Full Response\",\"Partial Response\",\"Full Response\",\"Partial Response\",\"Full Response\",\"Full Response\",\"Full Response\",\"Full Response\",\"Full Response\",\"Full Response\",\"Full Response\",\"Full Response\",\"Partial Response\",\"Full Response\",\"Full Response\",\"Full Response\",\"Full Response\",\"Partial Response\",\"Partial Response\",\"Partial Response\",\"Partial Response\",\"Full Response\",\"Full Response\",\"Partial Response\",\"Partial Response\",\"Partial Response\",\"Full Response\",\"Partial Response\",\"Partial Response\",\"Partial Response\",\"Full Response\",\"Full Response\",\"Full Response\",\"Full Response\",\"Partial Response\",\"Full Response\",\"Full Response\",\"Full Response\",\"Partial Response\",\"Full Response\",\"Full Response\",\"Full Response\",\"Full Response\",\"Partial Response\",\"Partial Response\",\"Partial Response\",\"Full Response\",\"Full Response\",\"Partial Response\",\"Partial Response\",\"Partial Response\",\"Partial Response\",\"Partial Response\",\"Full Response\",\"Full Response\",\"Partial Response\",\"Partial Response\",\"Full Response\",\"Full Response\",\"Partial Response\",\"Partial Response\",\"Full Response\",\"Full Response\",\"Full Response\",\"Partial Response\",\"Partial Response\",\"Partial Response\",\"Full Response\",\"Partial Response\",\"Partial Response\",\"Partial Response\",\"Partial Response\",\"Partial Response\",\"Full Response\",\"Full Response\",\"Full Response\",\"Full Response\",\"Full Response\",\"Full Response\",\"Partial Response\",\"Full Response\",\"Partial Response\",\"Full Response\",\"Full Response\",\"Partial Response\",\"Full Response\",\"Full Response\",\"Full Response\",\"Partial Response\",\"Full Response\",\"Full Response\",\"Full Response\",\"No Response\",\"Full Response\",\"Partial Response\",\"Full Response\",\"Full Response\",\"Partial Response\",\"Full Response\",\"Partial Response\",\"Full Response\",\"Full Response\",\"Full Response\",\"Full Response\",\"Partial Response\",\"Partial Response\",\"Full Response\",\"Partial Response\",\"Partial Response\",\"Partial Response\",\"Partial Response\",\"Partial Response\",\"Partial Response\",\"Partial Response\",\"No Response\",\"Partial Response\",\"Partial Response\",\"No Response\",\"Full Response\",\"Full Response\",\"Full Response\",\"No Response\",\"Full Response\",\"Full Response\",\"Full Response\",\"Full Response\",\"Full Response\",\"No Response\",\"Full Response\",\"Partial Response\",\"Full Response\",\"Full Response\",\"Partial Response\",\"No Response\",\"Full Response\",\"Full Response\",\"No Response\",\"Full Response\",\"Partial Response\",\"Full Response\",\"Partial Response\",\"Partial Response\",\"Full Response\",\"Full Response\",\"Partial Response\",\"Full Response\",\"Full Response\",\"Partial Response\",\"No Response\",\"Full Response\",\"Partial Response\",\"Full Response\",\"No Response\",\"Full Response\",\"Full Response\",\"Full Response\",\"Full Response\",\"Full Response\",\"Full Response\",\"Full Response\",\"Full Response\",\"Full Response\",\"Full Response\",\"Full Response\",\"Full Response\",\"Full Response\",\"Partial Response\",\"Partial Response\",\"Partial Response\",\"Partial Response\",\"Full Response\",\"Full Response\",\"Partial Response\",\"Full Response\",\"Full Response\",\"Full Response\",\"Partial Response\",\"Full Response\",\"Full Response\",\"Full Response\",\"Full Response\",\"Full Response\",\"Full Response\",\"Full Response\",\"Full Response\",\"Full Response\",\"Full Response\",\"Partial Response\",\"Full Response\",\"Full Response\",\"Full Response\",\"Partial Response\",\"Full Response\",\"Full Response\",\"Full Response\",\"Full Response\",\"Full Response\",\"Full Response\",\"Partial Response\",\"Partial Response\",\"Full Response\",\"Partial Response\",\"Partial Response\",\"Full Response\",\"Full Response\",\"Full Response\",\"Full Response\",\"Partial Response\",\"Partial Response\",\"No Response\",\"Partial Response\",\"Partial Response\",\"Partial Response\",\"Full Response\",\"Partial Response\",\"Partial Response\",\"Partial Response\",\"Partial Response\",\"Full Response\",\"Partial Response\",\"Partial Response\",\"Partial Response\",\"Partial Response\",\"Partial Response\",\"Partial Response\",\"Full Response\",\"Full Response\",\"Full Response\",\"Full Response\",\"Partial Response\",\"Partial Response\",\"Partial Response\",\"Full Response\",\"Partial Response\",\"Full Response\",\"Full Response\",\"Full Response\",\"Partial Response\",\"Full Response\",\"Full Response\",\"Partial Response\",\"Full Response\",\"Partial Response\",\"Partial Response\",\"Partial Response\",\"Partial Response\",\"Partial Response\",\"Full Response\",\"Full Response\",\"Full Response\",\"Full Response\",\"No Response\",\"Full Response\",\"Partial Response\",\"Full Response\",\"Partial Response\",\"No Response\",\"Full Response\",\"Full Response\",\"Partial Response\",\"Full Response\",\"Full Response\",\"Full Response\",\"Partial Response\",\"Full Response\",\"Partial Response\",\"Partial Response\",\"Full Response\",\"Full Response\",\"Full Response\",\"Full Response\",\"Full Response\",\"Full Response\",\"Full Response\",\"Full Response\",\"Full Response\",\"Full Response\",\"Full Response\",\"Full Response\",\"Full Response\"],\"type\":\"histogram\",\"xaxis\":\"x3\",\"yaxis\":\"y3\"}],                        {\"template\":{\"data\":{\"histogram2dcontour\":[{\"type\":\"histogram2dcontour\",\"colorbar\":{\"outlinewidth\":0,\"ticks\":\"\"},\"colorscale\":[[0.0,\"#0d0887\"],[0.1111111111111111,\"#46039f\"],[0.2222222222222222,\"#7201a8\"],[0.3333333333333333,\"#9c179e\"],[0.4444444444444444,\"#bd3786\"],[0.5555555555555556,\"#d8576b\"],[0.6666666666666666,\"#ed7953\"],[0.7777777777777778,\"#fb9f3a\"],[0.8888888888888888,\"#fdca26\"],[1.0,\"#f0f921\"]]}],\"choropleth\":[{\"type\":\"choropleth\",\"colorbar\":{\"outlinewidth\":0,\"ticks\":\"\"}}],\"histogram2d\":[{\"type\":\"histogram2d\",\"colorbar\":{\"outlinewidth\":0,\"ticks\":\"\"},\"colorscale\":[[0.0,\"#0d0887\"],[0.1111111111111111,\"#46039f\"],[0.2222222222222222,\"#7201a8\"],[0.3333333333333333,\"#9c179e\"],[0.4444444444444444,\"#bd3786\"],[0.5555555555555556,\"#d8576b\"],[0.6666666666666666,\"#ed7953\"],[0.7777777777777778,\"#fb9f3a\"],[0.8888888888888888,\"#fdca26\"],[1.0,\"#f0f921\"]]}],\"heatmap\":[{\"type\":\"heatmap\",\"colorbar\":{\"outlinewidth\":0,\"ticks\":\"\"},\"colorscale\":[[0.0,\"#0d0887\"],[0.1111111111111111,\"#46039f\"],[0.2222222222222222,\"#7201a8\"],[0.3333333333333333,\"#9c179e\"],[0.4444444444444444,\"#bd3786\"],[0.5555555555555556,\"#d8576b\"],[0.6666666666666666,\"#ed7953\"],[0.7777777777777778,\"#fb9f3a\"],[0.8888888888888888,\"#fdca26\"],[1.0,\"#f0f921\"]]}],\"heatmapgl\":[{\"type\":\"heatmapgl\",\"colorbar\":{\"outlinewidth\":0,\"ticks\":\"\"},\"colorscale\":[[0.0,\"#0d0887\"],[0.1111111111111111,\"#46039f\"],[0.2222222222222222,\"#7201a8\"],[0.3333333333333333,\"#9c179e\"],[0.4444444444444444,\"#bd3786\"],[0.5555555555555556,\"#d8576b\"],[0.6666666666666666,\"#ed7953\"],[0.7777777777777778,\"#fb9f3a\"],[0.8888888888888888,\"#fdca26\"],[1.0,\"#f0f921\"]]}],\"contourcarpet\":[{\"type\":\"contourcarpet\",\"colorbar\":{\"outlinewidth\":0,\"ticks\":\"\"}}],\"contour\":[{\"type\":\"contour\",\"colorbar\":{\"outlinewidth\":0,\"ticks\":\"\"},\"colorscale\":[[0.0,\"#0d0887\"],[0.1111111111111111,\"#46039f\"],[0.2222222222222222,\"#7201a8\"],[0.3333333333333333,\"#9c179e\"],[0.4444444444444444,\"#bd3786\"],[0.5555555555555556,\"#d8576b\"],[0.6666666666666666,\"#ed7953\"],[0.7777777777777778,\"#fb9f3a\"],[0.8888888888888888,\"#fdca26\"],[1.0,\"#f0f921\"]]}],\"surface\":[{\"type\":\"surface\",\"colorbar\":{\"outlinewidth\":0,\"ticks\":\"\"},\"colorscale\":[[0.0,\"#0d0887\"],[0.1111111111111111,\"#46039f\"],[0.2222222222222222,\"#7201a8\"],[0.3333333333333333,\"#9c179e\"],[0.4444444444444444,\"#bd3786\"],[0.5555555555555556,\"#d8576b\"],[0.6666666666666666,\"#ed7953\"],[0.7777777777777778,\"#fb9f3a\"],[0.8888888888888888,\"#fdca26\"],[1.0,\"#f0f921\"]]}],\"mesh3d\":[{\"type\":\"mesh3d\",\"colorbar\":{\"outlinewidth\":0,\"ticks\":\"\"}}],\"scatter\":[{\"fillpattern\":{\"fillmode\":\"overlay\",\"size\":10,\"solidity\":0.2},\"type\":\"scatter\"}],\"parcoords\":[{\"type\":\"parcoords\",\"line\":{\"colorbar\":{\"outlinewidth\":0,\"ticks\":\"\"}}}],\"scatterpolargl\":[{\"type\":\"scatterpolargl\",\"marker\":{\"colorbar\":{\"outlinewidth\":0,\"ticks\":\"\"}}}],\"bar\":[{\"error_x\":{\"color\":\"#2a3f5f\"},\"error_y\":{\"color\":\"#2a3f5f\"},\"marker\":{\"line\":{\"color\":\"#E5ECF6\",\"width\":0.5},\"pattern\":{\"fillmode\":\"overlay\",\"size\":10,\"solidity\":0.2}},\"type\":\"bar\"}],\"scattergeo\":[{\"type\":\"scattergeo\",\"marker\":{\"colorbar\":{\"outlinewidth\":0,\"ticks\":\"\"}}}],\"scatterpolar\":[{\"type\":\"scatterpolar\",\"marker\":{\"colorbar\":{\"outlinewidth\":0,\"ticks\":\"\"}}}],\"histogram\":[{\"marker\":{\"pattern\":{\"fillmode\":\"overlay\",\"size\":10,\"solidity\":0.2}},\"type\":\"histogram\"}],\"scattergl\":[{\"type\":\"scattergl\",\"marker\":{\"colorbar\":{\"outlinewidth\":0,\"ticks\":\"\"}}}],\"scatter3d\":[{\"type\":\"scatter3d\",\"line\":{\"colorbar\":{\"outlinewidth\":0,\"ticks\":\"\"}},\"marker\":{\"colorbar\":{\"outlinewidth\":0,\"ticks\":\"\"}}}],\"scattermapbox\":[{\"type\":\"scattermapbox\",\"marker\":{\"colorbar\":{\"outlinewidth\":0,\"ticks\":\"\"}}}],\"scatterternary\":[{\"type\":\"scatterternary\",\"marker\":{\"colorbar\":{\"outlinewidth\":0,\"ticks\":\"\"}}}],\"scattercarpet\":[{\"type\":\"scattercarpet\",\"marker\":{\"colorbar\":{\"outlinewidth\":0,\"ticks\":\"\"}}}],\"carpet\":[{\"aaxis\":{\"endlinecolor\":\"#2a3f5f\",\"gridcolor\":\"white\",\"linecolor\":\"white\",\"minorgridcolor\":\"white\",\"startlinecolor\":\"#2a3f5f\"},\"baxis\":{\"endlinecolor\":\"#2a3f5f\",\"gridcolor\":\"white\",\"linecolor\":\"white\",\"minorgridcolor\":\"white\",\"startlinecolor\":\"#2a3f5f\"},\"type\":\"carpet\"}],\"table\":[{\"cells\":{\"fill\":{\"color\":\"#EBF0F8\"},\"line\":{\"color\":\"white\"}},\"header\":{\"fill\":{\"color\":\"#C8D4E3\"},\"line\":{\"color\":\"white\"}},\"type\":\"table\"}],\"barpolar\":[{\"marker\":{\"line\":{\"color\":\"#E5ECF6\",\"width\":0.5},\"pattern\":{\"fillmode\":\"overlay\",\"size\":10,\"solidity\":0.2}},\"type\":\"barpolar\"}],\"pie\":[{\"automargin\":true,\"type\":\"pie\"}]},\"layout\":{\"autotypenumbers\":\"strict\",\"colorway\":[\"#636efa\",\"#EF553B\",\"#00cc96\",\"#ab63fa\",\"#FFA15A\",\"#19d3f3\",\"#FF6692\",\"#B6E880\",\"#FF97FF\",\"#FECB52\"],\"font\":{\"color\":\"#2a3f5f\"},\"hovermode\":\"closest\",\"hoverlabel\":{\"align\":\"left\"},\"paper_bgcolor\":\"white\",\"plot_bgcolor\":\"#E5ECF6\",\"polar\":{\"bgcolor\":\"#E5ECF6\",\"angularaxis\":{\"gridcolor\":\"white\",\"linecolor\":\"white\",\"ticks\":\"\"},\"radialaxis\":{\"gridcolor\":\"white\",\"linecolor\":\"white\",\"ticks\":\"\"}},\"ternary\":{\"bgcolor\":\"#E5ECF6\",\"aaxis\":{\"gridcolor\":\"white\",\"linecolor\":\"white\",\"ticks\":\"\"},\"baxis\":{\"gridcolor\":\"white\",\"linecolor\":\"white\",\"ticks\":\"\"},\"caxis\":{\"gridcolor\":\"white\",\"linecolor\":\"white\",\"ticks\":\"\"}},\"coloraxis\":{\"colorbar\":{\"outlinewidth\":0,\"ticks\":\"\"}},\"colorscale\":{\"sequential\":[[0.0,\"#0d0887\"],[0.1111111111111111,\"#46039f\"],[0.2222222222222222,\"#7201a8\"],[0.3333333333333333,\"#9c179e\"],[0.4444444444444444,\"#bd3786\"],[0.5555555555555556,\"#d8576b\"],[0.6666666666666666,\"#ed7953\"],[0.7777777777777778,\"#fb9f3a\"],[0.8888888888888888,\"#fdca26\"],[1.0,\"#f0f921\"]],\"sequentialminus\":[[0.0,\"#0d0887\"],[0.1111111111111111,\"#46039f\"],[0.2222222222222222,\"#7201a8\"],[0.3333333333333333,\"#9c179e\"],[0.4444444444444444,\"#bd3786\"],[0.5555555555555556,\"#d8576b\"],[0.6666666666666666,\"#ed7953\"],[0.7777777777777778,\"#fb9f3a\"],[0.8888888888888888,\"#fdca26\"],[1.0,\"#f0f921\"]],\"diverging\":[[0,\"#8e0152\"],[0.1,\"#c51b7d\"],[0.2,\"#de77ae\"],[0.3,\"#f1b6da\"],[0.4,\"#fde0ef\"],[0.5,\"#f7f7f7\"],[0.6,\"#e6f5d0\"],[0.7,\"#b8e186\"],[0.8,\"#7fbc41\"],[0.9,\"#4d9221\"],[1,\"#276419\"]]},\"xaxis\":{\"gridcolor\":\"white\",\"linecolor\":\"white\",\"ticks\":\"\",\"title\":{\"standoff\":15},\"zerolinecolor\":\"white\",\"automargin\":true,\"zerolinewidth\":2},\"yaxis\":{\"gridcolor\":\"white\",\"linecolor\":\"white\",\"ticks\":\"\",\"title\":{\"standoff\":15},\"zerolinecolor\":\"white\",\"automargin\":true,\"zerolinewidth\":2},\"scene\":{\"xaxis\":{\"backgroundcolor\":\"#E5ECF6\",\"gridcolor\":\"white\",\"linecolor\":\"white\",\"showbackground\":true,\"ticks\":\"\",\"zerolinecolor\":\"white\",\"gridwidth\":2},\"yaxis\":{\"backgroundcolor\":\"#E5ECF6\",\"gridcolor\":\"white\",\"linecolor\":\"white\",\"showbackground\":true,\"ticks\":\"\",\"zerolinecolor\":\"white\",\"gridwidth\":2},\"zaxis\":{\"backgroundcolor\":\"#E5ECF6\",\"gridcolor\":\"white\",\"linecolor\":\"white\",\"showbackground\":true,\"ticks\":\"\",\"zerolinecolor\":\"white\",\"gridwidth\":2}},\"shapedefaults\":{\"line\":{\"color\":\"#2a3f5f\"}},\"annotationdefaults\":{\"arrowcolor\":\"#2a3f5f\",\"arrowhead\":0,\"arrowwidth\":1},\"geo\":{\"bgcolor\":\"white\",\"landcolor\":\"#E5ECF6\",\"subunitcolor\":\"white\",\"showland\":true,\"showlakes\":true,\"lakecolor\":\"white\"},\"title\":{\"x\":0.05},\"mapbox\":{\"style\":\"light\"}}},\"xaxis\":{\"anchor\":\"y\",\"domain\":[0.0,0.32],\"categoryorder\":\"array\",\"categoryarray\":[\"Full Remission\",\"Remission\",\"Partial Remission\",\"No/Mild Remission\"],\"tickangle\":-45},\"yaxis\":{\"anchor\":\"x\",\"domain\":[0.0,1.0],\"title\":{\"text\":\"Count\"}},\"xaxis2\":{\"anchor\":\"y2\",\"domain\":[0.34,0.66],\"categoryorder\":\"array\",\"categoryarray\":[\"Worst\",\"No Change\",\"Improvement\",\"Big Improvement\"],\"title\":{\"text\":\"Drug Efficiency Labels\"},\"tickangle\":-45},\"yaxis2\":{\"anchor\":\"x2\",\"domain\":[0.0,1.0],\"matches\":\"y\",\"showticklabels\":false},\"xaxis3\":{\"anchor\":\"y3\",\"domain\":[0.68,1.0],\"categoryorder\":\"array\",\"categoryarray\":[\"No Response\",\"Partial Response\",\"Full Response\"],\"tickangle\":-45},\"yaxis3\":{\"anchor\":\"x3\",\"domain\":[0.0,1.0],\"matches\":\"y\",\"showticklabels\":false},\"font\":{\"size\":15},\"title\":{\"font\":{\"size\":20},\"text\":\"Figure 9. Agitation and Retardation with Patients taking Duloxetine\",\"x\":0.5,\"xanchor\":\"center\"},\"showlegend\":true,\"width\":1600,\"height\":900},                        {\"responsive\": true}                    ).then(function(){\n",
       "                            \n",
       "var gd = document.getElementById('2bac018a-b1d3-4d08-8139-67cb64dc1bee');\n",
       "var x = new MutationObserver(function (mutations, observer) {{\n",
       "        var display = window.getComputedStyle(gd).display;\n",
       "        if (!display || display === 'none') {{\n",
       "            console.log([gd, 'removed!']);\n",
       "            Plotly.purge(gd);\n",
       "            observer.disconnect();\n",
       "        }}\n",
       "}});\n",
       "\n",
       "// Listen for the removal of the full notebook cells\n",
       "var notebookContainer = gd.closest('#notebook-container');\n",
       "if (notebookContainer) {{\n",
       "    x.observe(notebookContainer, {childList: true});\n",
       "}}\n",
       "\n",
       "// Listen for the clearing of the current output cell\n",
       "var outputEl = gd.closest('.output');\n",
       "if (outputEl) {{\n",
       "    x.observe(outputEl, {childList: true});\n",
       "}}\n",
       "\n",
       "                        })                };                });            </script>        </div>"
      ]
     },
     "metadata": {},
     "output_type": "display_data"
    },
    {
     "data": {
      "text/html": [
       "<div>\n",
       "<style scoped>\n",
       "    .dataframe tbody tr th:only-of-type {\n",
       "        vertical-align: middle;\n",
       "    }\n",
       "\n",
       "    .dataframe tbody tr th {\n",
       "        vertical-align: top;\n",
       "    }\n",
       "\n",
       "    .dataframe thead th {\n",
       "        text-align: right;\n",
       "    }\n",
       "</style>\n",
       "<table border=\"1\" class=\"dataframe\">\n",
       "  <thead>\n",
       "    <tr style=\"text-align: right;\">\n",
       "      <th></th>\n",
       "      <th>V1-HAMD08</th>\n",
       "      <th>V1-HAMD09</th>\n",
       "      <th>V1-all</th>\n",
       "      <th>level</th>\n",
       "      <th>DRUG</th>\n",
       "      <th>Remission</th>\n",
       "      <th>Difference</th>\n",
       "      <th>Response</th>\n",
       "    </tr>\n",
       "  </thead>\n",
       "  <tbody>\n",
       "    <tr>\n",
       "      <th>2</th>\n",
       "      <td>1</td>\n",
       "      <td>1</td>\n",
       "      <td>22</td>\n",
       "      <td>moderate</td>\n",
       "      <td>Duloxetine</td>\n",
       "      <td>Full Remission</td>\n",
       "      <td>Improvement</td>\n",
       "      <td>Full Response</td>\n",
       "    </tr>\n",
       "    <tr>\n",
       "      <th>6</th>\n",
       "      <td>1</td>\n",
       "      <td>1</td>\n",
       "      <td>24</td>\n",
       "      <td>moderate</td>\n",
       "      <td>Duloxetine</td>\n",
       "      <td>Full Remission</td>\n",
       "      <td>Big Improvement</td>\n",
       "      <td>Full Response</td>\n",
       "    </tr>\n",
       "    <tr>\n",
       "      <th>8</th>\n",
       "      <td>2</td>\n",
       "      <td>1</td>\n",
       "      <td>16</td>\n",
       "      <td>mild</td>\n",
       "      <td>Duloxetine</td>\n",
       "      <td>Remission</td>\n",
       "      <td>Improvement</td>\n",
       "      <td>Partial Response</td>\n",
       "    </tr>\n",
       "    <tr>\n",
       "      <th>13</th>\n",
       "      <td>1</td>\n",
       "      <td>1</td>\n",
       "      <td>12</td>\n",
       "      <td>mild</td>\n",
       "      <td>Duloxetine</td>\n",
       "      <td>Full Remission</td>\n",
       "      <td>Improvement</td>\n",
       "      <td>Full Response</td>\n",
       "    </tr>\n",
       "    <tr>\n",
       "      <th>15</th>\n",
       "      <td>1</td>\n",
       "      <td>1</td>\n",
       "      <td>8</td>\n",
       "      <td>mild</td>\n",
       "      <td>Duloxetine</td>\n",
       "      <td>Full Remission</td>\n",
       "      <td>Improvement</td>\n",
       "      <td>Full Response</td>\n",
       "    </tr>\n",
       "    <tr>\n",
       "      <th>...</th>\n",
       "      <td>...</td>\n",
       "      <td>...</td>\n",
       "      <td>...</td>\n",
       "      <td>...</td>\n",
       "      <td>...</td>\n",
       "      <td>...</td>\n",
       "      <td>...</td>\n",
       "      <td>...</td>\n",
       "    </tr>\n",
       "    <tr>\n",
       "      <th>1460</th>\n",
       "      <td>1</td>\n",
       "      <td>2</td>\n",
       "      <td>17</td>\n",
       "      <td>mild</td>\n",
       "      <td>Fluoxetine</td>\n",
       "      <td>Remission</td>\n",
       "      <td>Improvement</td>\n",
       "      <td>Partial Response</td>\n",
       "    </tr>\n",
       "    <tr>\n",
       "      <th>1463</th>\n",
       "      <td>1</td>\n",
       "      <td>1</td>\n",
       "      <td>27</td>\n",
       "      <td>severe</td>\n",
       "      <td>Fluoxetine</td>\n",
       "      <td>Remission</td>\n",
       "      <td>Big Improvement</td>\n",
       "      <td>Full Response</td>\n",
       "    </tr>\n",
       "    <tr>\n",
       "      <th>1464</th>\n",
       "      <td>1</td>\n",
       "      <td>1</td>\n",
       "      <td>26</td>\n",
       "      <td>severe</td>\n",
       "      <td>Fluoxetine</td>\n",
       "      <td>Full Remission</td>\n",
       "      <td>Big Improvement</td>\n",
       "      <td>Full Response</td>\n",
       "    </tr>\n",
       "    <tr>\n",
       "      <th>1466</th>\n",
       "      <td>2</td>\n",
       "      <td>1</td>\n",
       "      <td>20</td>\n",
       "      <td>moderate</td>\n",
       "      <td>Fluoxetine</td>\n",
       "      <td>Remission</td>\n",
       "      <td>Improvement</td>\n",
       "      <td>Partial Response</td>\n",
       "    </tr>\n",
       "    <tr>\n",
       "      <th>1467</th>\n",
       "      <td>2</td>\n",
       "      <td>2</td>\n",
       "      <td>28</td>\n",
       "      <td>severe</td>\n",
       "      <td>Fluoxetine</td>\n",
       "      <td>Full Remission</td>\n",
       "      <td>Big Improvement</td>\n",
       "      <td>Full Response</td>\n",
       "    </tr>\n",
       "  </tbody>\n",
       "</table>\n",
       "<p>600 rows × 8 columns</p>\n",
       "</div>"
      ],
      "text/plain": [
       "      V1-HAMD08  V1-HAMD09  V1-all     level        DRUG       Remission  \\\n",
       "2             1          1      22  moderate  Duloxetine  Full Remission   \n",
       "6             1          1      24  moderate  Duloxetine  Full Remission   \n",
       "8             2          1      16      mild  Duloxetine       Remission   \n",
       "13            1          1      12      mild  Duloxetine  Full Remission   \n",
       "15            1          1       8      mild  Duloxetine  Full Remission   \n",
       "...         ...        ...     ...       ...         ...             ...   \n",
       "1460          1          2      17      mild  Fluoxetine       Remission   \n",
       "1463          1          1      27    severe  Fluoxetine       Remission   \n",
       "1464          1          1      26    severe  Fluoxetine  Full Remission   \n",
       "1466          2          1      20  moderate  Fluoxetine       Remission   \n",
       "1467          2          2      28    severe  Fluoxetine  Full Remission   \n",
       "\n",
       "           Difference          Response  \n",
       "2         Improvement     Full Response  \n",
       "6     Big Improvement     Full Response  \n",
       "8         Improvement  Partial Response  \n",
       "13        Improvement     Full Response  \n",
       "15        Improvement     Full Response  \n",
       "...               ...               ...  \n",
       "1460      Improvement  Partial Response  \n",
       "1463  Big Improvement     Full Response  \n",
       "1464  Big Improvement     Full Response  \n",
       "1466      Improvement  Partial Response  \n",
       "1467  Big Improvement     Full Response  \n",
       "\n",
       "[600 rows x 8 columns]"
      ]
     },
     "execution_count": 215,
     "metadata": {},
     "output_type": "execute_result"
    }
   ],
   "source": [
    "r_a = df2.loc[((df['V1-HAMD08'] > 0) & (df['V1-HAMD09'] > 0))]\n",
    "r_ad = r_a[r_a['DRUG'] == 'Duloxetine']\n",
    "\n",
    "rad1 = go.Histogram(x = r_ad['Remission'], name = 'Remission')\n",
    "rad2 = go.Histogram(x = r_ad['Difference'], name = 'Difference')\n",
    "rad3 = go.Histogram(x = r_ad['Response'], name = 'Response')\n",
    "\n",
    "fig9 = make_subplots(rows = 1, cols = 3, shared_yaxes = True, horizontal_spacing = 0.02)\n",
    "fig9.add_trace(rad1, row = 1, col = 1)\n",
    "fig9.add_trace(rad2, row = 1, col = 2)\n",
    "fig9.add_trace(rad3, row = 1, col = 3)\n",
    "\n",
    "fig9.update_xaxes(categoryorder = 'array', categoryarray = remission_labels, row = 1, col = 1)\n",
    "fig9.update_xaxes(categoryorder = 'array', categoryarray = difference_labels, row = 1, col = 2)\n",
    "fig9.update_xaxes(categoryorder = 'array', categoryarray = response_labels, row = 1, col = 3)\n",
    "\n",
    "fig9.update_layout(\n",
    "    font = {\n",
    "        \"size\": 15\n",
    "    },\n",
    "    \n",
    "    title = {\n",
    "        \"text\": 'Figure 9. Agitation and Retardation with Patients taking Duloxetine',\n",
    "        \"x\": 0.5,\n",
    "        \"xanchor\" : \"center\",\n",
    "        \"font\" : {\n",
    "            \"size\": 20\n",
    "        }\n",
    "    },\n",
    "    #xaxis =dict(tickmode = 'linear',\n",
    "    #tick0 = 0,\n",
    "    #dtick = 1),\n",
    "    xaxis1 = {\n",
    "        \"tickangle\": -45,\n",
    "    },\n",
    "    xaxis2 = {\n",
    "        \"title\" : 'Drug Efficiency Labels',\n",
    "        \"tickangle\": -45,\n",
    "    },\n",
    "    xaxis3 = {\n",
    "        \"tickangle\": -45,\n",
    "    },\n",
    "#     xaxis_title = 'Drug Efficiency Labels',\n",
    "    yaxis_title = 'Count',\n",
    "    showlegend = True,\n",
    "    width = 1600,\n",
    "    height = 900)\n",
    "\n",
    "fig9.show()\n",
    "\n",
    "r_a"
   ]
  },
  {
   "cell_type": "code",
   "execution_count": 216,
   "metadata": {},
   "outputs": [
    {
     "data": {
      "text/plain": [
       "[6, 42, 163, 156, 13, 8, 270, 76, 21, 142, 204]"
      ]
     },
     "execution_count": 216,
     "metadata": {},
     "output_type": "execute_result"
    }
   ],
   "source": [
    "# Duloxetine Remission\n",
    "mild_rad = len(r_ad[r_ad['Remission'] == 'No/Mild Remission'])\n",
    "part_rad= len(r_ad[r_ad['Remission'] == 'Partial Remission'])\n",
    "remi_rad= len(r_ad[r_ad['Remission'] == 'Remission'])\n",
    "full_rad= len(r_ad[r_ad['Remission'] == 'Full Remission'])\n",
    "\n",
    "# Duloxetine Difference\n",
    "wor_rad = len(r_ad[r_ad['Difference'] == 'Worst'])\n",
    "nc_rad= len(r_ad[r_ad['Difference'] == 'No Change'])\n",
    "i_rad= len(r_ad[r_ad['Difference'] == 'Improvement'])                            \n",
    "bi_rad= len(r_ad[r_ad['Difference'] == 'Big Improvement'])\n",
    "\n",
    "# Duloxetine Response\n",
    "nr_rad = len(r_ad[r_ad['Response'] == 'No Response'])\n",
    "pr_rad= len(r_ad[r_ad['Response'] == 'Partial Response'])\n",
    "fr_rad= len(r_ad[r_ad['Response'] == 'Full Response'])\n",
    "\n",
    "rad = [mild_rad, part_rad, remi_rad, full_rad,\n",
    "        wor_rad, nc_rad, i_rad, bi_rad,\n",
    "        nr_rad, pr_rad, fr_rad]\n",
    "\n",
    "rad"
   ]
  },
  {
   "cell_type": "code",
   "execution_count": 217,
   "metadata": {},
   "outputs": [
    {
     "data": {
      "application/vnd.plotly.v1+json": {
       "config": {
        "plotlyServerURL": "https://plot.ly"
       },
       "data": [
        {
         "name": "Remission",
         "type": "histogram",
         "x": [
          "Full Remission",
          "Partial Remission",
          "Full Remission",
          "Remission",
          "Remission",
          "Remission",
          "Remission",
          "Partial Remission",
          "Remission",
          "Full Remission",
          "Full Remission",
          "Full Remission",
          "Full Remission",
          "Remission",
          "No/Mild Remission",
          "Full Remission",
          "Partial Remission",
          "Remission",
          "Remission",
          "Full Remission",
          "Remission",
          "Remission",
          "Full Remission",
          "Remission",
          "Full Remission",
          "Remission",
          "Remission",
          "Remission",
          "Full Remission",
          "Partial Remission",
          "Remission",
          "No/Mild Remission",
          "Full Remission",
          "Full Remission",
          "Full Remission",
          "Remission",
          "Remission",
          "Remission",
          "Remission",
          "Full Remission",
          "Remission",
          "Remission",
          "Remission",
          "Remission",
          "Remission",
          "Full Remission",
          "Full Remission",
          "Full Remission",
          "Remission",
          "Full Remission",
          "Remission",
          "Remission",
          "Partial Remission",
          "Full Remission",
          "Full Remission",
          "Remission",
          "Remission",
          "Full Remission",
          "Full Remission",
          "Full Remission",
          "Remission",
          "Remission",
          "Remission",
          "Remission",
          "Remission",
          "Partial Remission",
          "Remission",
          "Remission",
          "Full Remission",
          "Full Remission",
          "Full Remission",
          "Full Remission"
         ],
         "xaxis": "x",
         "yaxis": "y"
        },
        {
         "name": "Difference",
         "type": "histogram",
         "x": [
          "Big Improvement",
          "Improvement",
          "Big Improvement",
          "Improvement",
          "Improvement",
          "Improvement",
          "Improvement",
          "Improvement",
          "Improvement",
          "Big Improvement",
          "Improvement",
          "Improvement",
          "Big Improvement",
          "Improvement",
          "Worst",
          "Improvement",
          "No Change",
          "Improvement",
          "Improvement",
          "Improvement",
          "Improvement",
          "Improvement",
          "Big Improvement",
          "Improvement",
          "Big Improvement",
          "Improvement",
          "Improvement",
          "Improvement",
          "Big Improvement",
          "Improvement",
          "Improvement",
          "Worst",
          "Improvement",
          "Big Improvement",
          "Improvement",
          "Improvement",
          "Improvement",
          "Improvement",
          "Improvement",
          "Big Improvement",
          "Improvement",
          "Improvement",
          "Improvement",
          "Improvement",
          "Improvement",
          "Improvement",
          "Improvement",
          "Big Improvement",
          "Improvement",
          "Big Improvement",
          "Improvement",
          "Improvement",
          "Improvement",
          "Big Improvement",
          "Big Improvement",
          "Improvement",
          "Improvement",
          "Big Improvement",
          "Big Improvement",
          "Big Improvement",
          "Improvement",
          "Improvement",
          "Improvement",
          "Improvement",
          "Improvement",
          "Improvement",
          "Improvement",
          "Improvement",
          "Big Improvement",
          "Big Improvement",
          "Big Improvement",
          "Big Improvement"
         ],
         "xaxis": "x2",
         "yaxis": "y2"
        },
        {
         "name": "Response",
         "type": "histogram",
         "x": [
          "Full Response",
          "Partial Response",
          "Full Response",
          "Full Response",
          "Partial Response",
          "Partial Response",
          "Partial Response",
          "Partial Response",
          "Full Response",
          "Full Response",
          "Full Response",
          "Full Response",
          "Full Response",
          "Partial Response",
          "No Response",
          "Full Response",
          "No Response",
          "Partial Response",
          "Partial Response",
          "Full Response",
          "Partial Response",
          "Full Response",
          "Full Response",
          "Partial Response",
          "Full Response",
          "Partial Response",
          "Full Response",
          "Full Response",
          "Full Response",
          "Partial Response",
          "Partial Response",
          "No Response",
          "Full Response",
          "Full Response",
          "Full Response",
          "Full Response",
          "Partial Response",
          "Partial Response",
          "Partial Response",
          "Full Response",
          "Full Response",
          "Partial Response",
          "Partial Response",
          "Partial Response",
          "Partial Response",
          "Full Response",
          "Full Response",
          "Full Response",
          "Full Response",
          "Full Response",
          "Partial Response",
          "Partial Response",
          "Partial Response",
          "Full Response",
          "Full Response",
          "Full Response",
          "Partial Response",
          "Full Response",
          "Full Response",
          "Full Response",
          "Partial Response",
          "Partial Response",
          "Full Response",
          "Full Response",
          "Full Response",
          "Partial Response",
          "Partial Response",
          "Partial Response",
          "Full Response",
          "Full Response",
          "Full Response",
          "Full Response"
         ],
         "xaxis": "x3",
         "yaxis": "y3"
        }
       ],
       "layout": {
        "font": {
         "size": 15
        },
        "height": 900,
        "showlegend": true,
        "template": {
         "data": {
          "bar": [
           {
            "error_x": {
             "color": "#2a3f5f"
            },
            "error_y": {
             "color": "#2a3f5f"
            },
            "marker": {
             "line": {
              "color": "#E5ECF6",
              "width": 0.5
             },
             "pattern": {
              "fillmode": "overlay",
              "size": 10,
              "solidity": 0.2
             }
            },
            "type": "bar"
           }
          ],
          "barpolar": [
           {
            "marker": {
             "line": {
              "color": "#E5ECF6",
              "width": 0.5
             },
             "pattern": {
              "fillmode": "overlay",
              "size": 10,
              "solidity": 0.2
             }
            },
            "type": "barpolar"
           }
          ],
          "carpet": [
           {
            "aaxis": {
             "endlinecolor": "#2a3f5f",
             "gridcolor": "white",
             "linecolor": "white",
             "minorgridcolor": "white",
             "startlinecolor": "#2a3f5f"
            },
            "baxis": {
             "endlinecolor": "#2a3f5f",
             "gridcolor": "white",
             "linecolor": "white",
             "minorgridcolor": "white",
             "startlinecolor": "#2a3f5f"
            },
            "type": "carpet"
           }
          ],
          "choropleth": [
           {
            "colorbar": {
             "outlinewidth": 0,
             "ticks": ""
            },
            "type": "choropleth"
           }
          ],
          "contour": [
           {
            "colorbar": {
             "outlinewidth": 0,
             "ticks": ""
            },
            "colorscale": [
             [
              0,
              "#0d0887"
             ],
             [
              0.1111111111111111,
              "#46039f"
             ],
             [
              0.2222222222222222,
              "#7201a8"
             ],
             [
              0.3333333333333333,
              "#9c179e"
             ],
             [
              0.4444444444444444,
              "#bd3786"
             ],
             [
              0.5555555555555556,
              "#d8576b"
             ],
             [
              0.6666666666666666,
              "#ed7953"
             ],
             [
              0.7777777777777778,
              "#fb9f3a"
             ],
             [
              0.8888888888888888,
              "#fdca26"
             ],
             [
              1,
              "#f0f921"
             ]
            ],
            "type": "contour"
           }
          ],
          "contourcarpet": [
           {
            "colorbar": {
             "outlinewidth": 0,
             "ticks": ""
            },
            "type": "contourcarpet"
           }
          ],
          "heatmap": [
           {
            "colorbar": {
             "outlinewidth": 0,
             "ticks": ""
            },
            "colorscale": [
             [
              0,
              "#0d0887"
             ],
             [
              0.1111111111111111,
              "#46039f"
             ],
             [
              0.2222222222222222,
              "#7201a8"
             ],
             [
              0.3333333333333333,
              "#9c179e"
             ],
             [
              0.4444444444444444,
              "#bd3786"
             ],
             [
              0.5555555555555556,
              "#d8576b"
             ],
             [
              0.6666666666666666,
              "#ed7953"
             ],
             [
              0.7777777777777778,
              "#fb9f3a"
             ],
             [
              0.8888888888888888,
              "#fdca26"
             ],
             [
              1,
              "#f0f921"
             ]
            ],
            "type": "heatmap"
           }
          ],
          "heatmapgl": [
           {
            "colorbar": {
             "outlinewidth": 0,
             "ticks": ""
            },
            "colorscale": [
             [
              0,
              "#0d0887"
             ],
             [
              0.1111111111111111,
              "#46039f"
             ],
             [
              0.2222222222222222,
              "#7201a8"
             ],
             [
              0.3333333333333333,
              "#9c179e"
             ],
             [
              0.4444444444444444,
              "#bd3786"
             ],
             [
              0.5555555555555556,
              "#d8576b"
             ],
             [
              0.6666666666666666,
              "#ed7953"
             ],
             [
              0.7777777777777778,
              "#fb9f3a"
             ],
             [
              0.8888888888888888,
              "#fdca26"
             ],
             [
              1,
              "#f0f921"
             ]
            ],
            "type": "heatmapgl"
           }
          ],
          "histogram": [
           {
            "marker": {
             "pattern": {
              "fillmode": "overlay",
              "size": 10,
              "solidity": 0.2
             }
            },
            "type": "histogram"
           }
          ],
          "histogram2d": [
           {
            "colorbar": {
             "outlinewidth": 0,
             "ticks": ""
            },
            "colorscale": [
             [
              0,
              "#0d0887"
             ],
             [
              0.1111111111111111,
              "#46039f"
             ],
             [
              0.2222222222222222,
              "#7201a8"
             ],
             [
              0.3333333333333333,
              "#9c179e"
             ],
             [
              0.4444444444444444,
              "#bd3786"
             ],
             [
              0.5555555555555556,
              "#d8576b"
             ],
             [
              0.6666666666666666,
              "#ed7953"
             ],
             [
              0.7777777777777778,
              "#fb9f3a"
             ],
             [
              0.8888888888888888,
              "#fdca26"
             ],
             [
              1,
              "#f0f921"
             ]
            ],
            "type": "histogram2d"
           }
          ],
          "histogram2dcontour": [
           {
            "colorbar": {
             "outlinewidth": 0,
             "ticks": ""
            },
            "colorscale": [
             [
              0,
              "#0d0887"
             ],
             [
              0.1111111111111111,
              "#46039f"
             ],
             [
              0.2222222222222222,
              "#7201a8"
             ],
             [
              0.3333333333333333,
              "#9c179e"
             ],
             [
              0.4444444444444444,
              "#bd3786"
             ],
             [
              0.5555555555555556,
              "#d8576b"
             ],
             [
              0.6666666666666666,
              "#ed7953"
             ],
             [
              0.7777777777777778,
              "#fb9f3a"
             ],
             [
              0.8888888888888888,
              "#fdca26"
             ],
             [
              1,
              "#f0f921"
             ]
            ],
            "type": "histogram2dcontour"
           }
          ],
          "mesh3d": [
           {
            "colorbar": {
             "outlinewidth": 0,
             "ticks": ""
            },
            "type": "mesh3d"
           }
          ],
          "parcoords": [
           {
            "line": {
             "colorbar": {
              "outlinewidth": 0,
              "ticks": ""
             }
            },
            "type": "parcoords"
           }
          ],
          "pie": [
           {
            "automargin": true,
            "type": "pie"
           }
          ],
          "scatter": [
           {
            "fillpattern": {
             "fillmode": "overlay",
             "size": 10,
             "solidity": 0.2
            },
            "type": "scatter"
           }
          ],
          "scatter3d": [
           {
            "line": {
             "colorbar": {
              "outlinewidth": 0,
              "ticks": ""
             }
            },
            "marker": {
             "colorbar": {
              "outlinewidth": 0,
              "ticks": ""
             }
            },
            "type": "scatter3d"
           }
          ],
          "scattercarpet": [
           {
            "marker": {
             "colorbar": {
              "outlinewidth": 0,
              "ticks": ""
             }
            },
            "type": "scattercarpet"
           }
          ],
          "scattergeo": [
           {
            "marker": {
             "colorbar": {
              "outlinewidth": 0,
              "ticks": ""
             }
            },
            "type": "scattergeo"
           }
          ],
          "scattergl": [
           {
            "marker": {
             "colorbar": {
              "outlinewidth": 0,
              "ticks": ""
             }
            },
            "type": "scattergl"
           }
          ],
          "scattermapbox": [
           {
            "marker": {
             "colorbar": {
              "outlinewidth": 0,
              "ticks": ""
             }
            },
            "type": "scattermapbox"
           }
          ],
          "scatterpolar": [
           {
            "marker": {
             "colorbar": {
              "outlinewidth": 0,
              "ticks": ""
             }
            },
            "type": "scatterpolar"
           }
          ],
          "scatterpolargl": [
           {
            "marker": {
             "colorbar": {
              "outlinewidth": 0,
              "ticks": ""
             }
            },
            "type": "scatterpolargl"
           }
          ],
          "scatterternary": [
           {
            "marker": {
             "colorbar": {
              "outlinewidth": 0,
              "ticks": ""
             }
            },
            "type": "scatterternary"
           }
          ],
          "surface": [
           {
            "colorbar": {
             "outlinewidth": 0,
             "ticks": ""
            },
            "colorscale": [
             [
              0,
              "#0d0887"
             ],
             [
              0.1111111111111111,
              "#46039f"
             ],
             [
              0.2222222222222222,
              "#7201a8"
             ],
             [
              0.3333333333333333,
              "#9c179e"
             ],
             [
              0.4444444444444444,
              "#bd3786"
             ],
             [
              0.5555555555555556,
              "#d8576b"
             ],
             [
              0.6666666666666666,
              "#ed7953"
             ],
             [
              0.7777777777777778,
              "#fb9f3a"
             ],
             [
              0.8888888888888888,
              "#fdca26"
             ],
             [
              1,
              "#f0f921"
             ]
            ],
            "type": "surface"
           }
          ],
          "table": [
           {
            "cells": {
             "fill": {
              "color": "#EBF0F8"
             },
             "line": {
              "color": "white"
             }
            },
            "header": {
             "fill": {
              "color": "#C8D4E3"
             },
             "line": {
              "color": "white"
             }
            },
            "type": "table"
           }
          ]
         },
         "layout": {
          "annotationdefaults": {
           "arrowcolor": "#2a3f5f",
           "arrowhead": 0,
           "arrowwidth": 1
          },
          "autotypenumbers": "strict",
          "coloraxis": {
           "colorbar": {
            "outlinewidth": 0,
            "ticks": ""
           }
          },
          "colorscale": {
           "diverging": [
            [
             0,
             "#8e0152"
            ],
            [
             0.1,
             "#c51b7d"
            ],
            [
             0.2,
             "#de77ae"
            ],
            [
             0.3,
             "#f1b6da"
            ],
            [
             0.4,
             "#fde0ef"
            ],
            [
             0.5,
             "#f7f7f7"
            ],
            [
             0.6,
             "#e6f5d0"
            ],
            [
             0.7,
             "#b8e186"
            ],
            [
             0.8,
             "#7fbc41"
            ],
            [
             0.9,
             "#4d9221"
            ],
            [
             1,
             "#276419"
            ]
           ],
           "sequential": [
            [
             0,
             "#0d0887"
            ],
            [
             0.1111111111111111,
             "#46039f"
            ],
            [
             0.2222222222222222,
             "#7201a8"
            ],
            [
             0.3333333333333333,
             "#9c179e"
            ],
            [
             0.4444444444444444,
             "#bd3786"
            ],
            [
             0.5555555555555556,
             "#d8576b"
            ],
            [
             0.6666666666666666,
             "#ed7953"
            ],
            [
             0.7777777777777778,
             "#fb9f3a"
            ],
            [
             0.8888888888888888,
             "#fdca26"
            ],
            [
             1,
             "#f0f921"
            ]
           ],
           "sequentialminus": [
            [
             0,
             "#0d0887"
            ],
            [
             0.1111111111111111,
             "#46039f"
            ],
            [
             0.2222222222222222,
             "#7201a8"
            ],
            [
             0.3333333333333333,
             "#9c179e"
            ],
            [
             0.4444444444444444,
             "#bd3786"
            ],
            [
             0.5555555555555556,
             "#d8576b"
            ],
            [
             0.6666666666666666,
             "#ed7953"
            ],
            [
             0.7777777777777778,
             "#fb9f3a"
            ],
            [
             0.8888888888888888,
             "#fdca26"
            ],
            [
             1,
             "#f0f921"
            ]
           ]
          },
          "colorway": [
           "#636efa",
           "#EF553B",
           "#00cc96",
           "#ab63fa",
           "#FFA15A",
           "#19d3f3",
           "#FF6692",
           "#B6E880",
           "#FF97FF",
           "#FECB52"
          ],
          "font": {
           "color": "#2a3f5f"
          },
          "geo": {
           "bgcolor": "white",
           "lakecolor": "white",
           "landcolor": "#E5ECF6",
           "showlakes": true,
           "showland": true,
           "subunitcolor": "white"
          },
          "hoverlabel": {
           "align": "left"
          },
          "hovermode": "closest",
          "mapbox": {
           "style": "light"
          },
          "paper_bgcolor": "white",
          "plot_bgcolor": "#E5ECF6",
          "polar": {
           "angularaxis": {
            "gridcolor": "white",
            "linecolor": "white",
            "ticks": ""
           },
           "bgcolor": "#E5ECF6",
           "radialaxis": {
            "gridcolor": "white",
            "linecolor": "white",
            "ticks": ""
           }
          },
          "scene": {
           "xaxis": {
            "backgroundcolor": "#E5ECF6",
            "gridcolor": "white",
            "gridwidth": 2,
            "linecolor": "white",
            "showbackground": true,
            "ticks": "",
            "zerolinecolor": "white"
           },
           "yaxis": {
            "backgroundcolor": "#E5ECF6",
            "gridcolor": "white",
            "gridwidth": 2,
            "linecolor": "white",
            "showbackground": true,
            "ticks": "",
            "zerolinecolor": "white"
           },
           "zaxis": {
            "backgroundcolor": "#E5ECF6",
            "gridcolor": "white",
            "gridwidth": 2,
            "linecolor": "white",
            "showbackground": true,
            "ticks": "",
            "zerolinecolor": "white"
           }
          },
          "shapedefaults": {
           "line": {
            "color": "#2a3f5f"
           }
          },
          "ternary": {
           "aaxis": {
            "gridcolor": "white",
            "linecolor": "white",
            "ticks": ""
           },
           "baxis": {
            "gridcolor": "white",
            "linecolor": "white",
            "ticks": ""
           },
           "bgcolor": "#E5ECF6",
           "caxis": {
            "gridcolor": "white",
            "linecolor": "white",
            "ticks": ""
           }
          },
          "title": {
           "x": 0.05
          },
          "xaxis": {
           "automargin": true,
           "gridcolor": "white",
           "linecolor": "white",
           "ticks": "",
           "title": {
            "standoff": 15
           },
           "zerolinecolor": "white",
           "zerolinewidth": 2
          },
          "yaxis": {
           "automargin": true,
           "gridcolor": "white",
           "linecolor": "white",
           "ticks": "",
           "title": {
            "standoff": 15
           },
           "zerolinecolor": "white",
           "zerolinewidth": 2
          }
         }
        },
        "title": {
         "font": {
          "size": 20
         },
         "text": "Figure 10. Agitation and Retardation with Patients taking Venlafaxine",
         "x": 0.5,
         "xanchor": "center"
        },
        "width": 1600,
        "xaxis": {
         "anchor": "y",
         "categoryarray": [
          "Full Remission",
          "Remission",
          "Partial Remission",
          "No/Mild Remission"
         ],
         "categoryorder": "array",
         "domain": [
          0,
          0.32
         ],
         "tickangle": -45
        },
        "xaxis2": {
         "anchor": "y2",
         "categoryarray": [
          "Worst",
          "No Change",
          "Improvement",
          "Big Improvement"
         ],
         "categoryorder": "array",
         "domain": [
          0.34,
          0.66
         ],
         "tickangle": -45,
         "title": {
          "text": "Drug Efficiency Labels"
         }
        },
        "xaxis3": {
         "anchor": "y3",
         "categoryarray": [
          "No Response",
          "Partial Response",
          "Full Response"
         ],
         "categoryorder": "array",
         "domain": [
          0.68,
          1
         ],
         "tickangle": -45
        },
        "yaxis": {
         "anchor": "x",
         "domain": [
          0,
          1
         ],
         "title": {
          "text": "Count"
         }
        },
        "yaxis2": {
         "anchor": "x2",
         "domain": [
          0,
          1
         ],
         "matches": "y",
         "showticklabels": false
        },
        "yaxis3": {
         "anchor": "x3",
         "domain": [
          0,
          1
         ],
         "matches": "y",
         "showticklabels": false
        }
       }
      },
      "text/html": [
       "<div>                            <div id=\"b5eb748c-e4ee-495b-9707-4bf51c6edfa3\" class=\"plotly-graph-div\" style=\"height:900px; width:1600px;\"></div>            <script type=\"text/javascript\">                require([\"plotly\"], function(Plotly) {                    window.PLOTLYENV=window.PLOTLYENV || {};                                    if (document.getElementById(\"b5eb748c-e4ee-495b-9707-4bf51c6edfa3\")) {                    Plotly.newPlot(                        \"b5eb748c-e4ee-495b-9707-4bf51c6edfa3\",                        [{\"name\":\"Remission\",\"x\":[\"Full Remission\",\"Partial Remission\",\"Full Remission\",\"Remission\",\"Remission\",\"Remission\",\"Remission\",\"Partial Remission\",\"Remission\",\"Full Remission\",\"Full Remission\",\"Full Remission\",\"Full Remission\",\"Remission\",\"No/Mild Remission\",\"Full Remission\",\"Partial Remission\",\"Remission\",\"Remission\",\"Full Remission\",\"Remission\",\"Remission\",\"Full Remission\",\"Remission\",\"Full Remission\",\"Remission\",\"Remission\",\"Remission\",\"Full Remission\",\"Partial Remission\",\"Remission\",\"No/Mild Remission\",\"Full Remission\",\"Full Remission\",\"Full Remission\",\"Remission\",\"Remission\",\"Remission\",\"Remission\",\"Full Remission\",\"Remission\",\"Remission\",\"Remission\",\"Remission\",\"Remission\",\"Full Remission\",\"Full Remission\",\"Full Remission\",\"Remission\",\"Full Remission\",\"Remission\",\"Remission\",\"Partial Remission\",\"Full Remission\",\"Full Remission\",\"Remission\",\"Remission\",\"Full Remission\",\"Full Remission\",\"Full Remission\",\"Remission\",\"Remission\",\"Remission\",\"Remission\",\"Remission\",\"Partial Remission\",\"Remission\",\"Remission\",\"Full Remission\",\"Full Remission\",\"Full Remission\",\"Full Remission\"],\"type\":\"histogram\",\"xaxis\":\"x\",\"yaxis\":\"y\"},{\"name\":\"Difference\",\"x\":[\"Big Improvement\",\"Improvement\",\"Big Improvement\",\"Improvement\",\"Improvement\",\"Improvement\",\"Improvement\",\"Improvement\",\"Improvement\",\"Big Improvement\",\"Improvement\",\"Improvement\",\"Big Improvement\",\"Improvement\",\"Worst\",\"Improvement\",\"No Change\",\"Improvement\",\"Improvement\",\"Improvement\",\"Improvement\",\"Improvement\",\"Big Improvement\",\"Improvement\",\"Big Improvement\",\"Improvement\",\"Improvement\",\"Improvement\",\"Big Improvement\",\"Improvement\",\"Improvement\",\"Worst\",\"Improvement\",\"Big Improvement\",\"Improvement\",\"Improvement\",\"Improvement\",\"Improvement\",\"Improvement\",\"Big Improvement\",\"Improvement\",\"Improvement\",\"Improvement\",\"Improvement\",\"Improvement\",\"Improvement\",\"Improvement\",\"Big Improvement\",\"Improvement\",\"Big Improvement\",\"Improvement\",\"Improvement\",\"Improvement\",\"Big Improvement\",\"Big Improvement\",\"Improvement\",\"Improvement\",\"Big Improvement\",\"Big Improvement\",\"Big Improvement\",\"Improvement\",\"Improvement\",\"Improvement\",\"Improvement\",\"Improvement\",\"Improvement\",\"Improvement\",\"Improvement\",\"Big Improvement\",\"Big Improvement\",\"Big Improvement\",\"Big Improvement\"],\"type\":\"histogram\",\"xaxis\":\"x2\",\"yaxis\":\"y2\"},{\"name\":\"Response\",\"x\":[\"Full Response\",\"Partial Response\",\"Full Response\",\"Full Response\",\"Partial Response\",\"Partial Response\",\"Partial Response\",\"Partial Response\",\"Full Response\",\"Full Response\",\"Full Response\",\"Full Response\",\"Full Response\",\"Partial Response\",\"No Response\",\"Full Response\",\"No Response\",\"Partial Response\",\"Partial Response\",\"Full Response\",\"Partial Response\",\"Full Response\",\"Full Response\",\"Partial Response\",\"Full Response\",\"Partial Response\",\"Full Response\",\"Full Response\",\"Full Response\",\"Partial Response\",\"Partial Response\",\"No Response\",\"Full Response\",\"Full Response\",\"Full Response\",\"Full Response\",\"Partial Response\",\"Partial Response\",\"Partial Response\",\"Full Response\",\"Full Response\",\"Partial Response\",\"Partial Response\",\"Partial Response\",\"Partial Response\",\"Full Response\",\"Full Response\",\"Full Response\",\"Full Response\",\"Full Response\",\"Partial Response\",\"Partial Response\",\"Partial Response\",\"Full Response\",\"Full Response\",\"Full Response\",\"Partial Response\",\"Full Response\",\"Full Response\",\"Full Response\",\"Partial Response\",\"Partial Response\",\"Full Response\",\"Full Response\",\"Full Response\",\"Partial Response\",\"Partial Response\",\"Partial Response\",\"Full Response\",\"Full Response\",\"Full Response\",\"Full Response\"],\"type\":\"histogram\",\"xaxis\":\"x3\",\"yaxis\":\"y3\"}],                        {\"template\":{\"data\":{\"histogram2dcontour\":[{\"type\":\"histogram2dcontour\",\"colorbar\":{\"outlinewidth\":0,\"ticks\":\"\"},\"colorscale\":[[0.0,\"#0d0887\"],[0.1111111111111111,\"#46039f\"],[0.2222222222222222,\"#7201a8\"],[0.3333333333333333,\"#9c179e\"],[0.4444444444444444,\"#bd3786\"],[0.5555555555555556,\"#d8576b\"],[0.6666666666666666,\"#ed7953\"],[0.7777777777777778,\"#fb9f3a\"],[0.8888888888888888,\"#fdca26\"],[1.0,\"#f0f921\"]]}],\"choropleth\":[{\"type\":\"choropleth\",\"colorbar\":{\"outlinewidth\":0,\"ticks\":\"\"}}],\"histogram2d\":[{\"type\":\"histogram2d\",\"colorbar\":{\"outlinewidth\":0,\"ticks\":\"\"},\"colorscale\":[[0.0,\"#0d0887\"],[0.1111111111111111,\"#46039f\"],[0.2222222222222222,\"#7201a8\"],[0.3333333333333333,\"#9c179e\"],[0.4444444444444444,\"#bd3786\"],[0.5555555555555556,\"#d8576b\"],[0.6666666666666666,\"#ed7953\"],[0.7777777777777778,\"#fb9f3a\"],[0.8888888888888888,\"#fdca26\"],[1.0,\"#f0f921\"]]}],\"heatmap\":[{\"type\":\"heatmap\",\"colorbar\":{\"outlinewidth\":0,\"ticks\":\"\"},\"colorscale\":[[0.0,\"#0d0887\"],[0.1111111111111111,\"#46039f\"],[0.2222222222222222,\"#7201a8\"],[0.3333333333333333,\"#9c179e\"],[0.4444444444444444,\"#bd3786\"],[0.5555555555555556,\"#d8576b\"],[0.6666666666666666,\"#ed7953\"],[0.7777777777777778,\"#fb9f3a\"],[0.8888888888888888,\"#fdca26\"],[1.0,\"#f0f921\"]]}],\"heatmapgl\":[{\"type\":\"heatmapgl\",\"colorbar\":{\"outlinewidth\":0,\"ticks\":\"\"},\"colorscale\":[[0.0,\"#0d0887\"],[0.1111111111111111,\"#46039f\"],[0.2222222222222222,\"#7201a8\"],[0.3333333333333333,\"#9c179e\"],[0.4444444444444444,\"#bd3786\"],[0.5555555555555556,\"#d8576b\"],[0.6666666666666666,\"#ed7953\"],[0.7777777777777778,\"#fb9f3a\"],[0.8888888888888888,\"#fdca26\"],[1.0,\"#f0f921\"]]}],\"contourcarpet\":[{\"type\":\"contourcarpet\",\"colorbar\":{\"outlinewidth\":0,\"ticks\":\"\"}}],\"contour\":[{\"type\":\"contour\",\"colorbar\":{\"outlinewidth\":0,\"ticks\":\"\"},\"colorscale\":[[0.0,\"#0d0887\"],[0.1111111111111111,\"#46039f\"],[0.2222222222222222,\"#7201a8\"],[0.3333333333333333,\"#9c179e\"],[0.4444444444444444,\"#bd3786\"],[0.5555555555555556,\"#d8576b\"],[0.6666666666666666,\"#ed7953\"],[0.7777777777777778,\"#fb9f3a\"],[0.8888888888888888,\"#fdca26\"],[1.0,\"#f0f921\"]]}],\"surface\":[{\"type\":\"surface\",\"colorbar\":{\"outlinewidth\":0,\"ticks\":\"\"},\"colorscale\":[[0.0,\"#0d0887\"],[0.1111111111111111,\"#46039f\"],[0.2222222222222222,\"#7201a8\"],[0.3333333333333333,\"#9c179e\"],[0.4444444444444444,\"#bd3786\"],[0.5555555555555556,\"#d8576b\"],[0.6666666666666666,\"#ed7953\"],[0.7777777777777778,\"#fb9f3a\"],[0.8888888888888888,\"#fdca26\"],[1.0,\"#f0f921\"]]}],\"mesh3d\":[{\"type\":\"mesh3d\",\"colorbar\":{\"outlinewidth\":0,\"ticks\":\"\"}}],\"scatter\":[{\"fillpattern\":{\"fillmode\":\"overlay\",\"size\":10,\"solidity\":0.2},\"type\":\"scatter\"}],\"parcoords\":[{\"type\":\"parcoords\",\"line\":{\"colorbar\":{\"outlinewidth\":0,\"ticks\":\"\"}}}],\"scatterpolargl\":[{\"type\":\"scatterpolargl\",\"marker\":{\"colorbar\":{\"outlinewidth\":0,\"ticks\":\"\"}}}],\"bar\":[{\"error_x\":{\"color\":\"#2a3f5f\"},\"error_y\":{\"color\":\"#2a3f5f\"},\"marker\":{\"line\":{\"color\":\"#E5ECF6\",\"width\":0.5},\"pattern\":{\"fillmode\":\"overlay\",\"size\":10,\"solidity\":0.2}},\"type\":\"bar\"}],\"scattergeo\":[{\"type\":\"scattergeo\",\"marker\":{\"colorbar\":{\"outlinewidth\":0,\"ticks\":\"\"}}}],\"scatterpolar\":[{\"type\":\"scatterpolar\",\"marker\":{\"colorbar\":{\"outlinewidth\":0,\"ticks\":\"\"}}}],\"histogram\":[{\"marker\":{\"pattern\":{\"fillmode\":\"overlay\",\"size\":10,\"solidity\":0.2}},\"type\":\"histogram\"}],\"scattergl\":[{\"type\":\"scattergl\",\"marker\":{\"colorbar\":{\"outlinewidth\":0,\"ticks\":\"\"}}}],\"scatter3d\":[{\"type\":\"scatter3d\",\"line\":{\"colorbar\":{\"outlinewidth\":0,\"ticks\":\"\"}},\"marker\":{\"colorbar\":{\"outlinewidth\":0,\"ticks\":\"\"}}}],\"scattermapbox\":[{\"type\":\"scattermapbox\",\"marker\":{\"colorbar\":{\"outlinewidth\":0,\"ticks\":\"\"}}}],\"scatterternary\":[{\"type\":\"scatterternary\",\"marker\":{\"colorbar\":{\"outlinewidth\":0,\"ticks\":\"\"}}}],\"scattercarpet\":[{\"type\":\"scattercarpet\",\"marker\":{\"colorbar\":{\"outlinewidth\":0,\"ticks\":\"\"}}}],\"carpet\":[{\"aaxis\":{\"endlinecolor\":\"#2a3f5f\",\"gridcolor\":\"white\",\"linecolor\":\"white\",\"minorgridcolor\":\"white\",\"startlinecolor\":\"#2a3f5f\"},\"baxis\":{\"endlinecolor\":\"#2a3f5f\",\"gridcolor\":\"white\",\"linecolor\":\"white\",\"minorgridcolor\":\"white\",\"startlinecolor\":\"#2a3f5f\"},\"type\":\"carpet\"}],\"table\":[{\"cells\":{\"fill\":{\"color\":\"#EBF0F8\"},\"line\":{\"color\":\"white\"}},\"header\":{\"fill\":{\"color\":\"#C8D4E3\"},\"line\":{\"color\":\"white\"}},\"type\":\"table\"}],\"barpolar\":[{\"marker\":{\"line\":{\"color\":\"#E5ECF6\",\"width\":0.5},\"pattern\":{\"fillmode\":\"overlay\",\"size\":10,\"solidity\":0.2}},\"type\":\"barpolar\"}],\"pie\":[{\"automargin\":true,\"type\":\"pie\"}]},\"layout\":{\"autotypenumbers\":\"strict\",\"colorway\":[\"#636efa\",\"#EF553B\",\"#00cc96\",\"#ab63fa\",\"#FFA15A\",\"#19d3f3\",\"#FF6692\",\"#B6E880\",\"#FF97FF\",\"#FECB52\"],\"font\":{\"color\":\"#2a3f5f\"},\"hovermode\":\"closest\",\"hoverlabel\":{\"align\":\"left\"},\"paper_bgcolor\":\"white\",\"plot_bgcolor\":\"#E5ECF6\",\"polar\":{\"bgcolor\":\"#E5ECF6\",\"angularaxis\":{\"gridcolor\":\"white\",\"linecolor\":\"white\",\"ticks\":\"\"},\"radialaxis\":{\"gridcolor\":\"white\",\"linecolor\":\"white\",\"ticks\":\"\"}},\"ternary\":{\"bgcolor\":\"#E5ECF6\",\"aaxis\":{\"gridcolor\":\"white\",\"linecolor\":\"white\",\"ticks\":\"\"},\"baxis\":{\"gridcolor\":\"white\",\"linecolor\":\"white\",\"ticks\":\"\"},\"caxis\":{\"gridcolor\":\"white\",\"linecolor\":\"white\",\"ticks\":\"\"}},\"coloraxis\":{\"colorbar\":{\"outlinewidth\":0,\"ticks\":\"\"}},\"colorscale\":{\"sequential\":[[0.0,\"#0d0887\"],[0.1111111111111111,\"#46039f\"],[0.2222222222222222,\"#7201a8\"],[0.3333333333333333,\"#9c179e\"],[0.4444444444444444,\"#bd3786\"],[0.5555555555555556,\"#d8576b\"],[0.6666666666666666,\"#ed7953\"],[0.7777777777777778,\"#fb9f3a\"],[0.8888888888888888,\"#fdca26\"],[1.0,\"#f0f921\"]],\"sequentialminus\":[[0.0,\"#0d0887\"],[0.1111111111111111,\"#46039f\"],[0.2222222222222222,\"#7201a8\"],[0.3333333333333333,\"#9c179e\"],[0.4444444444444444,\"#bd3786\"],[0.5555555555555556,\"#d8576b\"],[0.6666666666666666,\"#ed7953\"],[0.7777777777777778,\"#fb9f3a\"],[0.8888888888888888,\"#fdca26\"],[1.0,\"#f0f921\"]],\"diverging\":[[0,\"#8e0152\"],[0.1,\"#c51b7d\"],[0.2,\"#de77ae\"],[0.3,\"#f1b6da\"],[0.4,\"#fde0ef\"],[0.5,\"#f7f7f7\"],[0.6,\"#e6f5d0\"],[0.7,\"#b8e186\"],[0.8,\"#7fbc41\"],[0.9,\"#4d9221\"],[1,\"#276419\"]]},\"xaxis\":{\"gridcolor\":\"white\",\"linecolor\":\"white\",\"ticks\":\"\",\"title\":{\"standoff\":15},\"zerolinecolor\":\"white\",\"automargin\":true,\"zerolinewidth\":2},\"yaxis\":{\"gridcolor\":\"white\",\"linecolor\":\"white\",\"ticks\":\"\",\"title\":{\"standoff\":15},\"zerolinecolor\":\"white\",\"automargin\":true,\"zerolinewidth\":2},\"scene\":{\"xaxis\":{\"backgroundcolor\":\"#E5ECF6\",\"gridcolor\":\"white\",\"linecolor\":\"white\",\"showbackground\":true,\"ticks\":\"\",\"zerolinecolor\":\"white\",\"gridwidth\":2},\"yaxis\":{\"backgroundcolor\":\"#E5ECF6\",\"gridcolor\":\"white\",\"linecolor\":\"white\",\"showbackground\":true,\"ticks\":\"\",\"zerolinecolor\":\"white\",\"gridwidth\":2},\"zaxis\":{\"backgroundcolor\":\"#E5ECF6\",\"gridcolor\":\"white\",\"linecolor\":\"white\",\"showbackground\":true,\"ticks\":\"\",\"zerolinecolor\":\"white\",\"gridwidth\":2}},\"shapedefaults\":{\"line\":{\"color\":\"#2a3f5f\"}},\"annotationdefaults\":{\"arrowcolor\":\"#2a3f5f\",\"arrowhead\":0,\"arrowwidth\":1},\"geo\":{\"bgcolor\":\"white\",\"landcolor\":\"#E5ECF6\",\"subunitcolor\":\"white\",\"showland\":true,\"showlakes\":true,\"lakecolor\":\"white\"},\"title\":{\"x\":0.05},\"mapbox\":{\"style\":\"light\"}}},\"xaxis\":{\"anchor\":\"y\",\"domain\":[0.0,0.32],\"categoryorder\":\"array\",\"categoryarray\":[\"Full Remission\",\"Remission\",\"Partial Remission\",\"No/Mild Remission\"],\"tickangle\":-45},\"yaxis\":{\"anchor\":\"x\",\"domain\":[0.0,1.0],\"title\":{\"text\":\"Count\"}},\"xaxis2\":{\"anchor\":\"y2\",\"domain\":[0.34,0.66],\"categoryorder\":\"array\",\"categoryarray\":[\"Worst\",\"No Change\",\"Improvement\",\"Big Improvement\"],\"title\":{\"text\":\"Drug Efficiency Labels\"},\"tickangle\":-45},\"yaxis2\":{\"anchor\":\"x2\",\"domain\":[0.0,1.0],\"matches\":\"y\",\"showticklabels\":false},\"xaxis3\":{\"anchor\":\"y3\",\"domain\":[0.68,1.0],\"categoryorder\":\"array\",\"categoryarray\":[\"No Response\",\"Partial Response\",\"Full Response\"],\"tickangle\":-45},\"yaxis3\":{\"anchor\":\"x3\",\"domain\":[0.0,1.0],\"matches\":\"y\",\"showticklabels\":false},\"font\":{\"size\":15},\"title\":{\"font\":{\"size\":20},\"text\":\"Figure 10. Agitation and Retardation with Patients taking Venlafaxine\",\"x\":0.5,\"xanchor\":\"center\"},\"showlegend\":true,\"width\":1600,\"height\":900},                        {\"responsive\": true}                    ).then(function(){\n",
       "                            \n",
       "var gd = document.getElementById('b5eb748c-e4ee-495b-9707-4bf51c6edfa3');\n",
       "var x = new MutationObserver(function (mutations, observer) {{\n",
       "        var display = window.getComputedStyle(gd).display;\n",
       "        if (!display || display === 'none') {{\n",
       "            console.log([gd, 'removed!']);\n",
       "            Plotly.purge(gd);\n",
       "            observer.disconnect();\n",
       "        }}\n",
       "}});\n",
       "\n",
       "// Listen for the removal of the full notebook cells\n",
       "var notebookContainer = gd.closest('#notebook-container');\n",
       "if (notebookContainer) {{\n",
       "    x.observe(notebookContainer, {childList: true});\n",
       "}}\n",
       "\n",
       "// Listen for the clearing of the current output cell\n",
       "var outputEl = gd.closest('.output');\n",
       "if (outputEl) {{\n",
       "    x.observe(outputEl, {childList: true});\n",
       "}}\n",
       "\n",
       "                        })                };                });            </script>        </div>"
      ]
     },
     "metadata": {},
     "output_type": "display_data"
    },
    {
     "data": {
      "text/html": [
       "<div>\n",
       "<style scoped>\n",
       "    .dataframe tbody tr th:only-of-type {\n",
       "        vertical-align: middle;\n",
       "    }\n",
       "\n",
       "    .dataframe tbody tr th {\n",
       "        vertical-align: top;\n",
       "    }\n",
       "\n",
       "    .dataframe thead th {\n",
       "        text-align: right;\n",
       "    }\n",
       "</style>\n",
       "<table border=\"1\" class=\"dataframe\">\n",
       "  <thead>\n",
       "    <tr style=\"text-align: right;\">\n",
       "      <th></th>\n",
       "      <th>V1-HAMD08</th>\n",
       "      <th>V1-HAMD09</th>\n",
       "      <th>V1-all</th>\n",
       "      <th>level</th>\n",
       "      <th>DRUG</th>\n",
       "      <th>Remission</th>\n",
       "      <th>Difference</th>\n",
       "      <th>Response</th>\n",
       "    </tr>\n",
       "  </thead>\n",
       "  <tbody>\n",
       "    <tr>\n",
       "      <th>162</th>\n",
       "      <td>1</td>\n",
       "      <td>1</td>\n",
       "      <td>21</td>\n",
       "      <td>moderate</td>\n",
       "      <td>Venlafaxine</td>\n",
       "      <td>Full Remission</td>\n",
       "      <td>Big Improvement</td>\n",
       "      <td>Full Response</td>\n",
       "    </tr>\n",
       "    <tr>\n",
       "      <th>169</th>\n",
       "      <td>1</td>\n",
       "      <td>1</td>\n",
       "      <td>27</td>\n",
       "      <td>severe</td>\n",
       "      <td>Venlafaxine</td>\n",
       "      <td>Partial Remission</td>\n",
       "      <td>Improvement</td>\n",
       "      <td>Partial Response</td>\n",
       "    </tr>\n",
       "    <tr>\n",
       "      <th>172</th>\n",
       "      <td>1</td>\n",
       "      <td>2</td>\n",
       "      <td>24</td>\n",
       "      <td>moderate</td>\n",
       "      <td>Venlafaxine</td>\n",
       "      <td>Full Remission</td>\n",
       "      <td>Big Improvement</td>\n",
       "      <td>Full Response</td>\n",
       "    </tr>\n",
       "    <tr>\n",
       "      <th>174</th>\n",
       "      <td>1</td>\n",
       "      <td>1</td>\n",
       "      <td>25</td>\n",
       "      <td>severe</td>\n",
       "      <td>Venlafaxine</td>\n",
       "      <td>Remission</td>\n",
       "      <td>Improvement</td>\n",
       "      <td>Full Response</td>\n",
       "    </tr>\n",
       "    <tr>\n",
       "      <th>179</th>\n",
       "      <td>2</td>\n",
       "      <td>1</td>\n",
       "      <td>23</td>\n",
       "      <td>moderate</td>\n",
       "      <td>Venlafaxine</td>\n",
       "      <td>Remission</td>\n",
       "      <td>Improvement</td>\n",
       "      <td>Partial Response</td>\n",
       "    </tr>\n",
       "    <tr>\n",
       "      <th>...</th>\n",
       "      <td>...</td>\n",
       "      <td>...</td>\n",
       "      <td>...</td>\n",
       "      <td>...</td>\n",
       "      <td>...</td>\n",
       "      <td>...</td>\n",
       "      <td>...</td>\n",
       "      <td>...</td>\n",
       "    </tr>\n",
       "    <tr>\n",
       "      <th>403</th>\n",
       "      <td>2</td>\n",
       "      <td>2</td>\n",
       "      <td>28</td>\n",
       "      <td>severe</td>\n",
       "      <td>Venlafaxine</td>\n",
       "      <td>Remission</td>\n",
       "      <td>Improvement</td>\n",
       "      <td>Partial Response</td>\n",
       "    </tr>\n",
       "    <tr>\n",
       "      <th>405</th>\n",
       "      <td>1</td>\n",
       "      <td>2</td>\n",
       "      <td>23</td>\n",
       "      <td>moderate</td>\n",
       "      <td>Venlafaxine</td>\n",
       "      <td>Full Remission</td>\n",
       "      <td>Big Improvement</td>\n",
       "      <td>Full Response</td>\n",
       "    </tr>\n",
       "    <tr>\n",
       "      <th>406</th>\n",
       "      <td>1</td>\n",
       "      <td>1</td>\n",
       "      <td>21</td>\n",
       "      <td>moderate</td>\n",
       "      <td>Venlafaxine</td>\n",
       "      <td>Full Remission</td>\n",
       "      <td>Big Improvement</td>\n",
       "      <td>Full Response</td>\n",
       "    </tr>\n",
       "    <tr>\n",
       "      <th>416</th>\n",
       "      <td>1</td>\n",
       "      <td>1</td>\n",
       "      <td>20</td>\n",
       "      <td>moderate</td>\n",
       "      <td>Venlafaxine</td>\n",
       "      <td>Full Remission</td>\n",
       "      <td>Big Improvement</td>\n",
       "      <td>Full Response</td>\n",
       "    </tr>\n",
       "    <tr>\n",
       "      <th>420</th>\n",
       "      <td>1</td>\n",
       "      <td>1</td>\n",
       "      <td>25</td>\n",
       "      <td>severe</td>\n",
       "      <td>Venlafaxine</td>\n",
       "      <td>Full Remission</td>\n",
       "      <td>Big Improvement</td>\n",
       "      <td>Full Response</td>\n",
       "    </tr>\n",
       "  </tbody>\n",
       "</table>\n",
       "<p>72 rows × 8 columns</p>\n",
       "</div>"
      ],
      "text/plain": [
       "     V1-HAMD08  V1-HAMD09  V1-all     level         DRUG          Remission  \\\n",
       "162          1          1      21  moderate  Venlafaxine     Full Remission   \n",
       "169          1          1      27    severe  Venlafaxine  Partial Remission   \n",
       "172          1          2      24  moderate  Venlafaxine     Full Remission   \n",
       "174          1          1      25    severe  Venlafaxine          Remission   \n",
       "179          2          1      23  moderate  Venlafaxine          Remission   \n",
       "..         ...        ...     ...       ...          ...                ...   \n",
       "403          2          2      28    severe  Venlafaxine          Remission   \n",
       "405          1          2      23  moderate  Venlafaxine     Full Remission   \n",
       "406          1          1      21  moderate  Venlafaxine     Full Remission   \n",
       "416          1          1      20  moderate  Venlafaxine     Full Remission   \n",
       "420          1          1      25    severe  Venlafaxine     Full Remission   \n",
       "\n",
       "          Difference          Response  \n",
       "162  Big Improvement     Full Response  \n",
       "169      Improvement  Partial Response  \n",
       "172  Big Improvement     Full Response  \n",
       "174      Improvement     Full Response  \n",
       "179      Improvement  Partial Response  \n",
       "..               ...               ...  \n",
       "403      Improvement  Partial Response  \n",
       "405  Big Improvement     Full Response  \n",
       "406  Big Improvement     Full Response  \n",
       "416  Big Improvement     Full Response  \n",
       "420  Big Improvement     Full Response  \n",
       "\n",
       "[72 rows x 8 columns]"
      ]
     },
     "execution_count": 217,
     "metadata": {},
     "output_type": "execute_result"
    }
   ],
   "source": [
    "r_av = r_a[r_a['DRUG'] == 'Venlafaxine']\n",
    "\n",
    "rav1 = go.Histogram(x = r_av['Remission'], name = 'Remission')\n",
    "rav2 = go.Histogram(x = r_av['Difference'], name = 'Difference')\n",
    "rav3 = go.Histogram(x = r_av['Response'], name = 'Response')\n",
    "\n",
    "fig10 = make_subplots(rows = 1, cols = 3, shared_yaxes = True, horizontal_spacing = 0.02)\n",
    "fig10.add_trace(rav1, row = 1, col = 1)\n",
    "fig10.add_trace(rav2, row = 1, col = 2)\n",
    "fig10.add_trace(rav3, row = 1, col = 3)\n",
    "\n",
    "fig10.update_xaxes(categoryorder = 'array', categoryarray = remission_labels, row = 1, col = 1)\n",
    "fig10.update_xaxes(categoryorder = 'array', categoryarray = difference_labels, row = 1, col = 2)\n",
    "fig10.update_xaxes(categoryorder = 'array', categoryarray = response_labels, row = 1, col = 3)\n",
    "\n",
    "fig10.update_layout(\n",
    "    font = {\n",
    "        \"size\": 15\n",
    "    },\n",
    "    \n",
    "    title = {\n",
    "        \"text\": 'Figure 10. Agitation and Retardation with Patients taking Venlafaxine',\n",
    "        \"x\": 0.5,\n",
    "        \"xanchor\" : \"center\",\n",
    "        \"font\" : {\n",
    "            \"size\": 20\n",
    "        }\n",
    "    },\n",
    "    #xaxis =dict(tickmode = 'linear',\n",
    "    #tick0 = 0,\n",
    "    #dtick = 1),\n",
    "    xaxis1 = {\n",
    "        \"tickangle\": -45,\n",
    "    },\n",
    "    xaxis2 = {\n",
    "        \"title\" : 'Drug Efficiency Labels',\n",
    "        \"tickangle\": -45,\n",
    "    },\n",
    "    xaxis3 = {\n",
    "        \"tickangle\": -45,\n",
    "    },\n",
    "#     xaxis_title = 'Drug Efficiency Labels',\n",
    "    yaxis_title = 'Count',\n",
    "    showlegend = True,\n",
    "    width = 1600,\n",
    "    height = 900)\n",
    "\n",
    "fig10.show()\n",
    "\n",
    "r_av"
   ]
  },
  {
   "cell_type": "code",
   "execution_count": 218,
   "metadata": {},
   "outputs": [
    {
     "data": {
      "text/plain": [
       "[2, 6, 36, 28, 2, 1, 49, 20, 3, 29, 40]"
      ]
     },
     "execution_count": 218,
     "metadata": {},
     "output_type": "execute_result"
    }
   ],
   "source": [
    "# Venlafaxine Remission\n",
    "\n",
    "mild_rav = len(r_av[r_av['Remission'] == 'No/Mild Remission'])\n",
    "part_rav= len(r_av[r_av['Remission'] == 'Partial Remission'])\n",
    "remi_rav= len(r_av[r_av['Remission'] == 'Remission'])\n",
    "full_rav= len(r_av[r_av['Remission'] == 'Full Remission'])\n",
    "\n",
    "# Venlafaxine Difference\n",
    "wor_rav = len(r_av[r_av['Difference'] == 'Worst'])\n",
    "nc_rav= len(r_av[r_av['Difference'] == 'No Change'])\n",
    "i_rav= len(r_av[r_av['Difference'] == 'Improvement'])\n",
    "bi_rav= len(r_av[r_av['Difference'] == 'Big Improvement'])\n",
    "\n",
    "# Venlafaxine Response\n",
    "nr_rav = len(r_av[r_av['Response'] == 'No Response'])\n",
    "pr_rav= len(r_av[r_av['Response'] == 'Partial Response'])\n",
    "fr_rav= len(r_av[r_av['Response'] == 'Full Response'])\n",
    "\n",
    "rav = [mild_rav, part_rav, remi_rav, full_rav,\n",
    "        wor_rav, nc_rav, i_rav, bi_rav,\n",
    "        nr_rav, pr_rav, fr_rav]\n",
    "\n",
    "rav"
   ]
  },
  {
   "cell_type": "code",
   "execution_count": 219,
   "metadata": {},
   "outputs": [
    {
     "data": {
      "application/vnd.plotly.v1+json": {
       "config": {
        "plotlyServerURL": "https://plot.ly"
       },
       "data": [
        {
         "name": "Remission",
         "type": "histogram",
         "x": [
          "Remission",
          "Full Remission",
          "Remission",
          "Full Remission",
          "Full Remission",
          "Full Remission",
          "Partial Remission",
          "Remission",
          "Full Remission",
          "Partial Remission",
          "Full Remission",
          "Partial Remission",
          "Remission",
          "Full Remission",
          "Remission",
          "Remission",
          "Full Remission",
          "Remission",
          "Remission",
          "Remission",
          "Full Remission",
          "Full Remission",
          "No/Mild Remission",
          "Remission",
          "Full Remission",
          "Full Remission",
          "Remission",
          "Full Remission",
          "Full Remission",
          "Full Remission",
          "Full Remission",
          "Full Remission",
          "Remission",
          "Remission",
          "Remission",
          "Remission",
          "Remission",
          "Remission",
          "Full Remission",
          "Full Remission",
          "Full Remission",
          "Remission",
          "Remission",
          "Remission",
          "Full Remission",
          "Full Remission",
          "Full Remission",
          "Full Remission",
          "Remission",
          "Full Remission",
          "Full Remission",
          "Full Remission",
          "Remission",
          "Remission",
          "Full Remission",
          "Full Remission",
          "No/Mild Remission",
          "No/Mild Remission",
          "Full Remission",
          "Full Remission",
          "Partial Remission",
          "Full Remission",
          "Remission",
          "Remission",
          "Full Remission",
          "Full Remission",
          "Full Remission",
          "Full Remission",
          "Remission",
          "Remission",
          "Remission",
          "Full Remission",
          "Remission",
          "Remission",
          "Partial Remission",
          "Remission",
          "Remission",
          "Remission",
          "Full Remission",
          "Full Remission",
          "Full Remission",
          "Full Remission",
          "Partial Remission",
          "Remission",
          "Full Remission",
          "Full Remission",
          "Remission",
          "Full Remission",
          "Full Remission",
          "Full Remission",
          "Partial Remission",
          "Remission",
          "Full Remission",
          "Remission",
          "Full Remission",
          "Remission",
          "No/Mild Remission",
          "Remission",
          "Remission",
          "Partial Remission",
          "Remission",
          "Remission",
          "Remission",
          "Remission",
          "Remission",
          "Remission",
          "Remission",
          "Partial Remission",
          "Partial Remission",
          "Remission",
          "Remission",
          "Full Remission",
          "Remission",
          "Remission",
          "Remission",
          "Remission",
          "Remission",
          "Remission",
          "Full Remission",
          "Remission",
          "Remission",
          "Partial Remission",
          "Remission",
          "Full Remission",
          "Remission",
          "Remission",
          "Full Remission",
          "Full Remission",
          "Remission",
          "Remission",
          "Remission",
          "Full Remission",
          "Remission",
          "Partial Remission",
          "Full Remission",
          "Remission",
          "Full Remission",
          "Remission",
          "Full Remission",
          "Full Remission",
          "Full Remission",
          "Full Remission",
          "Full Remission",
          "Full Remission",
          "Remission"
         ],
         "xaxis": "x",
         "yaxis": "y"
        },
        {
         "name": "Difference",
         "type": "histogram",
         "x": [
          "Improvement",
          "Improvement",
          "Improvement",
          "Improvement",
          "Big Improvement",
          "Improvement",
          "Worst",
          "Improvement",
          "Improvement",
          "Worst",
          "Improvement",
          "No Change",
          "Improvement",
          "Improvement",
          "Improvement",
          "Improvement",
          "Improvement",
          "Improvement",
          "Big Improvement",
          "Improvement",
          "Improvement",
          "Improvement",
          "Worst",
          "Improvement",
          "Improvement",
          "Improvement",
          "No Change",
          "Improvement",
          "Big Improvement",
          "Improvement",
          "Improvement",
          "Big Improvement",
          "Improvement",
          "Improvement",
          "Improvement",
          "Worst",
          "Improvement",
          "Improvement",
          "Big Improvement",
          "Improvement",
          "Improvement",
          "Improvement",
          "Improvement",
          "Improvement",
          "Big Improvement",
          "Improvement",
          "Improvement",
          "Improvement",
          "Improvement",
          "Improvement",
          "Improvement",
          "Improvement",
          "Improvement",
          "Improvement",
          "Improvement",
          "Improvement",
          "Improvement",
          "No Change",
          "Improvement",
          "Improvement",
          "Worst",
          "Improvement",
          "Improvement",
          "Improvement",
          "Improvement",
          "Improvement",
          "Improvement",
          "Big Improvement",
          "Big Improvement",
          "Improvement",
          "Improvement",
          "Improvement",
          "Improvement",
          "Improvement",
          "Improvement",
          "Improvement",
          "Improvement",
          "Improvement",
          "Improvement",
          "Improvement",
          "Big Improvement",
          "Improvement",
          "Worst",
          "Improvement",
          "Improvement",
          "Big Improvement",
          "Improvement",
          "Improvement",
          "Improvement",
          "Improvement",
          "Improvement",
          "Improvement",
          "Big Improvement",
          "Improvement",
          "Improvement",
          "Improvement",
          "Improvement",
          "Improvement",
          "Improvement",
          "No Change",
          "Worst",
          "Improvement",
          "Improvement",
          "Improvement",
          "Improvement",
          "Improvement",
          "Improvement",
          "Worst",
          "No Change",
          "Improvement",
          "Improvement",
          "Improvement",
          "Big Improvement",
          "Improvement",
          "Improvement",
          "Improvement",
          "Improvement",
          "Improvement",
          "Improvement",
          "Improvement",
          "Improvement",
          "Improvement",
          "Improvement",
          "Big Improvement",
          "Improvement",
          "Improvement",
          "Improvement",
          "Improvement",
          "Improvement",
          "Improvement",
          "Improvement",
          "Big Improvement",
          "Improvement",
          "Worst",
          "Improvement",
          "Improvement",
          "Improvement",
          "Improvement",
          "Improvement",
          "Improvement",
          "Big Improvement",
          "Big Improvement",
          "Big Improvement",
          "Improvement",
          "Improvement"
         ],
         "xaxis": "x2",
         "yaxis": "y2"
        },
        {
         "name": "Response",
         "type": "histogram",
         "x": [
          "Partial Response",
          "Full Response",
          "Partial Response",
          "Full Response",
          "Full Response",
          "Full Response",
          "No Response",
          "Partial Response",
          "Full Response",
          "No Response",
          "Full Response",
          "No Response",
          "Partial Response",
          "Full Response",
          "Partial Response",
          "Partial Response",
          "Full Response",
          "Partial Response",
          "Full Response",
          "Partial Response",
          "Full Response",
          "Full Response",
          "No Response",
          "Partial Response",
          "Partial Response",
          "Full Response",
          "No Response",
          "Full Response",
          "Full Response",
          "Partial Response",
          "Partial Response",
          "Full Response",
          "Partial Response",
          "Full Response",
          "Partial Response",
          "No Response",
          "Partial Response",
          "Partial Response",
          "Full Response",
          "Full Response",
          "Full Response",
          "Partial Response",
          "Partial Response",
          "Full Response",
          "Full Response",
          "Full Response",
          "Full Response",
          "Full Response",
          "Partial Response",
          "Full Response",
          "Full Response",
          "Full Response",
          "Partial Response",
          "Partial Response",
          "Full Response",
          "Full Response",
          "Partial Response",
          "No Response",
          "Full Response",
          "Full Response",
          "No Response",
          "Full Response",
          "Partial Response",
          "Partial Response",
          "Full Response",
          "Full Response",
          "Full Response",
          "Full Response",
          "Full Response",
          "Partial Response",
          "Partial Response",
          "Full Response",
          "Full Response",
          "Full Response",
          "Partial Response",
          "Partial Response",
          "Full Response",
          "Partial Response",
          "Full Response",
          "Full Response",
          "Full Response",
          "Full Response",
          "No Response",
          "Partial Response",
          "Full Response",
          "Full Response",
          "Partial Response",
          "Full Response",
          "Full Response",
          "Full Response",
          "Partial Response",
          "Full Response",
          "Full Response",
          "Full Response",
          "Full Response",
          "Partial Response",
          "Partial Response",
          "Partial Response",
          "Partial Response",
          "No Response",
          "No Response",
          "Partial Response",
          "Partial Response",
          "Partial Response",
          "Partial Response",
          "Partial Response",
          "Partial Response",
          "No Response",
          "No Response",
          "Full Response",
          "Partial Response",
          "Full Response",
          "Full Response",
          "Partial Response",
          "Partial Response",
          "Partial Response",
          "Partial Response",
          "Partial Response",
          "Full Response",
          "Partial Response",
          "Partial Response",
          "Partial Response",
          "Full Response",
          "Full Response",
          "Partial Response",
          "Partial Response",
          "Full Response",
          "Full Response",
          "Partial Response",
          "Partial Response",
          "Partial Response",
          "Full Response",
          "Partial Response",
          "No Response",
          "Full Response",
          "Partial Response",
          "Full Response",
          "Partial Response",
          "Full Response",
          "Full Response",
          "Full Response",
          "Full Response",
          "Full Response",
          "Full Response",
          "Partial Response"
         ],
         "xaxis": "x3",
         "yaxis": "y3"
        }
       ],
       "layout": {
        "font": {
         "size": 15
        },
        "height": 900,
        "showlegend": true,
        "template": {
         "data": {
          "bar": [
           {
            "error_x": {
             "color": "#2a3f5f"
            },
            "error_y": {
             "color": "#2a3f5f"
            },
            "marker": {
             "line": {
              "color": "#E5ECF6",
              "width": 0.5
             },
             "pattern": {
              "fillmode": "overlay",
              "size": 10,
              "solidity": 0.2
             }
            },
            "type": "bar"
           }
          ],
          "barpolar": [
           {
            "marker": {
             "line": {
              "color": "#E5ECF6",
              "width": 0.5
             },
             "pattern": {
              "fillmode": "overlay",
              "size": 10,
              "solidity": 0.2
             }
            },
            "type": "barpolar"
           }
          ],
          "carpet": [
           {
            "aaxis": {
             "endlinecolor": "#2a3f5f",
             "gridcolor": "white",
             "linecolor": "white",
             "minorgridcolor": "white",
             "startlinecolor": "#2a3f5f"
            },
            "baxis": {
             "endlinecolor": "#2a3f5f",
             "gridcolor": "white",
             "linecolor": "white",
             "minorgridcolor": "white",
             "startlinecolor": "#2a3f5f"
            },
            "type": "carpet"
           }
          ],
          "choropleth": [
           {
            "colorbar": {
             "outlinewidth": 0,
             "ticks": ""
            },
            "type": "choropleth"
           }
          ],
          "contour": [
           {
            "colorbar": {
             "outlinewidth": 0,
             "ticks": ""
            },
            "colorscale": [
             [
              0,
              "#0d0887"
             ],
             [
              0.1111111111111111,
              "#46039f"
             ],
             [
              0.2222222222222222,
              "#7201a8"
             ],
             [
              0.3333333333333333,
              "#9c179e"
             ],
             [
              0.4444444444444444,
              "#bd3786"
             ],
             [
              0.5555555555555556,
              "#d8576b"
             ],
             [
              0.6666666666666666,
              "#ed7953"
             ],
             [
              0.7777777777777778,
              "#fb9f3a"
             ],
             [
              0.8888888888888888,
              "#fdca26"
             ],
             [
              1,
              "#f0f921"
             ]
            ],
            "type": "contour"
           }
          ],
          "contourcarpet": [
           {
            "colorbar": {
             "outlinewidth": 0,
             "ticks": ""
            },
            "type": "contourcarpet"
           }
          ],
          "heatmap": [
           {
            "colorbar": {
             "outlinewidth": 0,
             "ticks": ""
            },
            "colorscale": [
             [
              0,
              "#0d0887"
             ],
             [
              0.1111111111111111,
              "#46039f"
             ],
             [
              0.2222222222222222,
              "#7201a8"
             ],
             [
              0.3333333333333333,
              "#9c179e"
             ],
             [
              0.4444444444444444,
              "#bd3786"
             ],
             [
              0.5555555555555556,
              "#d8576b"
             ],
             [
              0.6666666666666666,
              "#ed7953"
             ],
             [
              0.7777777777777778,
              "#fb9f3a"
             ],
             [
              0.8888888888888888,
              "#fdca26"
             ],
             [
              1,
              "#f0f921"
             ]
            ],
            "type": "heatmap"
           }
          ],
          "heatmapgl": [
           {
            "colorbar": {
             "outlinewidth": 0,
             "ticks": ""
            },
            "colorscale": [
             [
              0,
              "#0d0887"
             ],
             [
              0.1111111111111111,
              "#46039f"
             ],
             [
              0.2222222222222222,
              "#7201a8"
             ],
             [
              0.3333333333333333,
              "#9c179e"
             ],
             [
              0.4444444444444444,
              "#bd3786"
             ],
             [
              0.5555555555555556,
              "#d8576b"
             ],
             [
              0.6666666666666666,
              "#ed7953"
             ],
             [
              0.7777777777777778,
              "#fb9f3a"
             ],
             [
              0.8888888888888888,
              "#fdca26"
             ],
             [
              1,
              "#f0f921"
             ]
            ],
            "type": "heatmapgl"
           }
          ],
          "histogram": [
           {
            "marker": {
             "pattern": {
              "fillmode": "overlay",
              "size": 10,
              "solidity": 0.2
             }
            },
            "type": "histogram"
           }
          ],
          "histogram2d": [
           {
            "colorbar": {
             "outlinewidth": 0,
             "ticks": ""
            },
            "colorscale": [
             [
              0,
              "#0d0887"
             ],
             [
              0.1111111111111111,
              "#46039f"
             ],
             [
              0.2222222222222222,
              "#7201a8"
             ],
             [
              0.3333333333333333,
              "#9c179e"
             ],
             [
              0.4444444444444444,
              "#bd3786"
             ],
             [
              0.5555555555555556,
              "#d8576b"
             ],
             [
              0.6666666666666666,
              "#ed7953"
             ],
             [
              0.7777777777777778,
              "#fb9f3a"
             ],
             [
              0.8888888888888888,
              "#fdca26"
             ],
             [
              1,
              "#f0f921"
             ]
            ],
            "type": "histogram2d"
           }
          ],
          "histogram2dcontour": [
           {
            "colorbar": {
             "outlinewidth": 0,
             "ticks": ""
            },
            "colorscale": [
             [
              0,
              "#0d0887"
             ],
             [
              0.1111111111111111,
              "#46039f"
             ],
             [
              0.2222222222222222,
              "#7201a8"
             ],
             [
              0.3333333333333333,
              "#9c179e"
             ],
             [
              0.4444444444444444,
              "#bd3786"
             ],
             [
              0.5555555555555556,
              "#d8576b"
             ],
             [
              0.6666666666666666,
              "#ed7953"
             ],
             [
              0.7777777777777778,
              "#fb9f3a"
             ],
             [
              0.8888888888888888,
              "#fdca26"
             ],
             [
              1,
              "#f0f921"
             ]
            ],
            "type": "histogram2dcontour"
           }
          ],
          "mesh3d": [
           {
            "colorbar": {
             "outlinewidth": 0,
             "ticks": ""
            },
            "type": "mesh3d"
           }
          ],
          "parcoords": [
           {
            "line": {
             "colorbar": {
              "outlinewidth": 0,
              "ticks": ""
             }
            },
            "type": "parcoords"
           }
          ],
          "pie": [
           {
            "automargin": true,
            "type": "pie"
           }
          ],
          "scatter": [
           {
            "fillpattern": {
             "fillmode": "overlay",
             "size": 10,
             "solidity": 0.2
            },
            "type": "scatter"
           }
          ],
          "scatter3d": [
           {
            "line": {
             "colorbar": {
              "outlinewidth": 0,
              "ticks": ""
             }
            },
            "marker": {
             "colorbar": {
              "outlinewidth": 0,
              "ticks": ""
             }
            },
            "type": "scatter3d"
           }
          ],
          "scattercarpet": [
           {
            "marker": {
             "colorbar": {
              "outlinewidth": 0,
              "ticks": ""
             }
            },
            "type": "scattercarpet"
           }
          ],
          "scattergeo": [
           {
            "marker": {
             "colorbar": {
              "outlinewidth": 0,
              "ticks": ""
             }
            },
            "type": "scattergeo"
           }
          ],
          "scattergl": [
           {
            "marker": {
             "colorbar": {
              "outlinewidth": 0,
              "ticks": ""
             }
            },
            "type": "scattergl"
           }
          ],
          "scattermapbox": [
           {
            "marker": {
             "colorbar": {
              "outlinewidth": 0,
              "ticks": ""
             }
            },
            "type": "scattermapbox"
           }
          ],
          "scatterpolar": [
           {
            "marker": {
             "colorbar": {
              "outlinewidth": 0,
              "ticks": ""
             }
            },
            "type": "scatterpolar"
           }
          ],
          "scatterpolargl": [
           {
            "marker": {
             "colorbar": {
              "outlinewidth": 0,
              "ticks": ""
             }
            },
            "type": "scatterpolargl"
           }
          ],
          "scatterternary": [
           {
            "marker": {
             "colorbar": {
              "outlinewidth": 0,
              "ticks": ""
             }
            },
            "type": "scatterternary"
           }
          ],
          "surface": [
           {
            "colorbar": {
             "outlinewidth": 0,
             "ticks": ""
            },
            "colorscale": [
             [
              0,
              "#0d0887"
             ],
             [
              0.1111111111111111,
              "#46039f"
             ],
             [
              0.2222222222222222,
              "#7201a8"
             ],
             [
              0.3333333333333333,
              "#9c179e"
             ],
             [
              0.4444444444444444,
              "#bd3786"
             ],
             [
              0.5555555555555556,
              "#d8576b"
             ],
             [
              0.6666666666666666,
              "#ed7953"
             ],
             [
              0.7777777777777778,
              "#fb9f3a"
             ],
             [
              0.8888888888888888,
              "#fdca26"
             ],
             [
              1,
              "#f0f921"
             ]
            ],
            "type": "surface"
           }
          ],
          "table": [
           {
            "cells": {
             "fill": {
              "color": "#EBF0F8"
             },
             "line": {
              "color": "white"
             }
            },
            "header": {
             "fill": {
              "color": "#C8D4E3"
             },
             "line": {
              "color": "white"
             }
            },
            "type": "table"
           }
          ]
         },
         "layout": {
          "annotationdefaults": {
           "arrowcolor": "#2a3f5f",
           "arrowhead": 0,
           "arrowwidth": 1
          },
          "autotypenumbers": "strict",
          "coloraxis": {
           "colorbar": {
            "outlinewidth": 0,
            "ticks": ""
           }
          },
          "colorscale": {
           "diverging": [
            [
             0,
             "#8e0152"
            ],
            [
             0.1,
             "#c51b7d"
            ],
            [
             0.2,
             "#de77ae"
            ],
            [
             0.3,
             "#f1b6da"
            ],
            [
             0.4,
             "#fde0ef"
            ],
            [
             0.5,
             "#f7f7f7"
            ],
            [
             0.6,
             "#e6f5d0"
            ],
            [
             0.7,
             "#b8e186"
            ],
            [
             0.8,
             "#7fbc41"
            ],
            [
             0.9,
             "#4d9221"
            ],
            [
             1,
             "#276419"
            ]
           ],
           "sequential": [
            [
             0,
             "#0d0887"
            ],
            [
             0.1111111111111111,
             "#46039f"
            ],
            [
             0.2222222222222222,
             "#7201a8"
            ],
            [
             0.3333333333333333,
             "#9c179e"
            ],
            [
             0.4444444444444444,
             "#bd3786"
            ],
            [
             0.5555555555555556,
             "#d8576b"
            ],
            [
             0.6666666666666666,
             "#ed7953"
            ],
            [
             0.7777777777777778,
             "#fb9f3a"
            ],
            [
             0.8888888888888888,
             "#fdca26"
            ],
            [
             1,
             "#f0f921"
            ]
           ],
           "sequentialminus": [
            [
             0,
             "#0d0887"
            ],
            [
             0.1111111111111111,
             "#46039f"
            ],
            [
             0.2222222222222222,
             "#7201a8"
            ],
            [
             0.3333333333333333,
             "#9c179e"
            ],
            [
             0.4444444444444444,
             "#bd3786"
            ],
            [
             0.5555555555555556,
             "#d8576b"
            ],
            [
             0.6666666666666666,
             "#ed7953"
            ],
            [
             0.7777777777777778,
             "#fb9f3a"
            ],
            [
             0.8888888888888888,
             "#fdca26"
            ],
            [
             1,
             "#f0f921"
            ]
           ]
          },
          "colorway": [
           "#636efa",
           "#EF553B",
           "#00cc96",
           "#ab63fa",
           "#FFA15A",
           "#19d3f3",
           "#FF6692",
           "#B6E880",
           "#FF97FF",
           "#FECB52"
          ],
          "font": {
           "color": "#2a3f5f"
          },
          "geo": {
           "bgcolor": "white",
           "lakecolor": "white",
           "landcolor": "#E5ECF6",
           "showlakes": true,
           "showland": true,
           "subunitcolor": "white"
          },
          "hoverlabel": {
           "align": "left"
          },
          "hovermode": "closest",
          "mapbox": {
           "style": "light"
          },
          "paper_bgcolor": "white",
          "plot_bgcolor": "#E5ECF6",
          "polar": {
           "angularaxis": {
            "gridcolor": "white",
            "linecolor": "white",
            "ticks": ""
           },
           "bgcolor": "#E5ECF6",
           "radialaxis": {
            "gridcolor": "white",
            "linecolor": "white",
            "ticks": ""
           }
          },
          "scene": {
           "xaxis": {
            "backgroundcolor": "#E5ECF6",
            "gridcolor": "white",
            "gridwidth": 2,
            "linecolor": "white",
            "showbackground": true,
            "ticks": "",
            "zerolinecolor": "white"
           },
           "yaxis": {
            "backgroundcolor": "#E5ECF6",
            "gridcolor": "white",
            "gridwidth": 2,
            "linecolor": "white",
            "showbackground": true,
            "ticks": "",
            "zerolinecolor": "white"
           },
           "zaxis": {
            "backgroundcolor": "#E5ECF6",
            "gridcolor": "white",
            "gridwidth": 2,
            "linecolor": "white",
            "showbackground": true,
            "ticks": "",
            "zerolinecolor": "white"
           }
          },
          "shapedefaults": {
           "line": {
            "color": "#2a3f5f"
           }
          },
          "ternary": {
           "aaxis": {
            "gridcolor": "white",
            "linecolor": "white",
            "ticks": ""
           },
           "baxis": {
            "gridcolor": "white",
            "linecolor": "white",
            "ticks": ""
           },
           "bgcolor": "#E5ECF6",
           "caxis": {
            "gridcolor": "white",
            "linecolor": "white",
            "ticks": ""
           }
          },
          "title": {
           "x": 0.05
          },
          "xaxis": {
           "automargin": true,
           "gridcolor": "white",
           "linecolor": "white",
           "ticks": "",
           "title": {
            "standoff": 15
           },
           "zerolinecolor": "white",
           "zerolinewidth": 2
          },
          "yaxis": {
           "automargin": true,
           "gridcolor": "white",
           "linecolor": "white",
           "ticks": "",
           "title": {
            "standoff": 15
           },
           "zerolinecolor": "white",
           "zerolinewidth": 2
          }
         }
        },
        "title": {
         "font": {
          "size": 20
         },
         "text": "Figure 11. Agitation and Retardation with Patients taking Paroxetine",
         "x": 0.5,
         "xanchor": "center"
        },
        "width": 1600,
        "xaxis": {
         "anchor": "y",
         "categoryarray": [
          "Full Remission",
          "Remission",
          "Partial Remission",
          "No/Mild Remission"
         ],
         "categoryorder": "array",
         "domain": [
          0,
          0.32
         ],
         "tickangle": -45
        },
        "xaxis2": {
         "anchor": "y2",
         "categoryarray": [
          "Worst",
          "No Change",
          "Improvement",
          "Big Improvement"
         ],
         "categoryorder": "array",
         "domain": [
          0.34,
          0.66
         ],
         "tickangle": -45,
         "title": {
          "text": "Drug Efficiency Labels"
         }
        },
        "xaxis3": {
         "anchor": "y3",
         "categoryarray": [
          "No Response",
          "Partial Response",
          "Full Response"
         ],
         "categoryorder": "array",
         "domain": [
          0.68,
          1
         ],
         "tickangle": -45
        },
        "yaxis": {
         "anchor": "x",
         "domain": [
          0,
          1
         ],
         "title": {
          "text": "Count"
         }
        },
        "yaxis2": {
         "anchor": "x2",
         "domain": [
          0,
          1
         ],
         "matches": "y",
         "showticklabels": false
        },
        "yaxis3": {
         "anchor": "x3",
         "domain": [
          0,
          1
         ],
         "matches": "y",
         "showticklabels": false
        }
       }
      },
      "text/html": [
       "<div>                            <div id=\"8b3379a3-6552-4066-ba6e-b3c7c1a39907\" class=\"plotly-graph-div\" style=\"height:900px; width:1600px;\"></div>            <script type=\"text/javascript\">                require([\"plotly\"], function(Plotly) {                    window.PLOTLYENV=window.PLOTLYENV || {};                                    if (document.getElementById(\"8b3379a3-6552-4066-ba6e-b3c7c1a39907\")) {                    Plotly.newPlot(                        \"8b3379a3-6552-4066-ba6e-b3c7c1a39907\",                        [{\"name\":\"Remission\",\"x\":[\"Remission\",\"Full Remission\",\"Remission\",\"Full Remission\",\"Full Remission\",\"Full Remission\",\"Partial Remission\",\"Remission\",\"Full Remission\",\"Partial Remission\",\"Full Remission\",\"Partial Remission\",\"Remission\",\"Full Remission\",\"Remission\",\"Remission\",\"Full Remission\",\"Remission\",\"Remission\",\"Remission\",\"Full Remission\",\"Full Remission\",\"No/Mild Remission\",\"Remission\",\"Full Remission\",\"Full Remission\",\"Remission\",\"Full Remission\",\"Full Remission\",\"Full Remission\",\"Full Remission\",\"Full Remission\",\"Remission\",\"Remission\",\"Remission\",\"Remission\",\"Remission\",\"Remission\",\"Full Remission\",\"Full Remission\",\"Full Remission\",\"Remission\",\"Remission\",\"Remission\",\"Full Remission\",\"Full Remission\",\"Full Remission\",\"Full Remission\",\"Remission\",\"Full Remission\",\"Full Remission\",\"Full Remission\",\"Remission\",\"Remission\",\"Full Remission\",\"Full Remission\",\"No/Mild Remission\",\"No/Mild Remission\",\"Full Remission\",\"Full Remission\",\"Partial Remission\",\"Full Remission\",\"Remission\",\"Remission\",\"Full Remission\",\"Full Remission\",\"Full Remission\",\"Full Remission\",\"Remission\",\"Remission\",\"Remission\",\"Full Remission\",\"Remission\",\"Remission\",\"Partial Remission\",\"Remission\",\"Remission\",\"Remission\",\"Full Remission\",\"Full Remission\",\"Full Remission\",\"Full Remission\",\"Partial Remission\",\"Remission\",\"Full Remission\",\"Full Remission\",\"Remission\",\"Full Remission\",\"Full Remission\",\"Full Remission\",\"Partial Remission\",\"Remission\",\"Full Remission\",\"Remission\",\"Full Remission\",\"Remission\",\"No/Mild Remission\",\"Remission\",\"Remission\",\"Partial Remission\",\"Remission\",\"Remission\",\"Remission\",\"Remission\",\"Remission\",\"Remission\",\"Remission\",\"Partial Remission\",\"Partial Remission\",\"Remission\",\"Remission\",\"Full Remission\",\"Remission\",\"Remission\",\"Remission\",\"Remission\",\"Remission\",\"Remission\",\"Full Remission\",\"Remission\",\"Remission\",\"Partial Remission\",\"Remission\",\"Full Remission\",\"Remission\",\"Remission\",\"Full Remission\",\"Full Remission\",\"Remission\",\"Remission\",\"Remission\",\"Full Remission\",\"Remission\",\"Partial Remission\",\"Full Remission\",\"Remission\",\"Full Remission\",\"Remission\",\"Full Remission\",\"Full Remission\",\"Full Remission\",\"Full Remission\",\"Full Remission\",\"Full Remission\",\"Remission\"],\"type\":\"histogram\",\"xaxis\":\"x\",\"yaxis\":\"y\"},{\"name\":\"Difference\",\"x\":[\"Improvement\",\"Improvement\",\"Improvement\",\"Improvement\",\"Big Improvement\",\"Improvement\",\"Worst\",\"Improvement\",\"Improvement\",\"Worst\",\"Improvement\",\"No Change\",\"Improvement\",\"Improvement\",\"Improvement\",\"Improvement\",\"Improvement\",\"Improvement\",\"Big Improvement\",\"Improvement\",\"Improvement\",\"Improvement\",\"Worst\",\"Improvement\",\"Improvement\",\"Improvement\",\"No Change\",\"Improvement\",\"Big Improvement\",\"Improvement\",\"Improvement\",\"Big Improvement\",\"Improvement\",\"Improvement\",\"Improvement\",\"Worst\",\"Improvement\",\"Improvement\",\"Big Improvement\",\"Improvement\",\"Improvement\",\"Improvement\",\"Improvement\",\"Improvement\",\"Big Improvement\",\"Improvement\",\"Improvement\",\"Improvement\",\"Improvement\",\"Improvement\",\"Improvement\",\"Improvement\",\"Improvement\",\"Improvement\",\"Improvement\",\"Improvement\",\"Improvement\",\"No Change\",\"Improvement\",\"Improvement\",\"Worst\",\"Improvement\",\"Improvement\",\"Improvement\",\"Improvement\",\"Improvement\",\"Improvement\",\"Big Improvement\",\"Big Improvement\",\"Improvement\",\"Improvement\",\"Improvement\",\"Improvement\",\"Improvement\",\"Improvement\",\"Improvement\",\"Improvement\",\"Improvement\",\"Improvement\",\"Improvement\",\"Big Improvement\",\"Improvement\",\"Worst\",\"Improvement\",\"Improvement\",\"Big Improvement\",\"Improvement\",\"Improvement\",\"Improvement\",\"Improvement\",\"Improvement\",\"Improvement\",\"Big Improvement\",\"Improvement\",\"Improvement\",\"Improvement\",\"Improvement\",\"Improvement\",\"Improvement\",\"No Change\",\"Worst\",\"Improvement\",\"Improvement\",\"Improvement\",\"Improvement\",\"Improvement\",\"Improvement\",\"Worst\",\"No Change\",\"Improvement\",\"Improvement\",\"Improvement\",\"Big Improvement\",\"Improvement\",\"Improvement\",\"Improvement\",\"Improvement\",\"Improvement\",\"Improvement\",\"Improvement\",\"Improvement\",\"Improvement\",\"Improvement\",\"Big Improvement\",\"Improvement\",\"Improvement\",\"Improvement\",\"Improvement\",\"Improvement\",\"Improvement\",\"Improvement\",\"Big Improvement\",\"Improvement\",\"Worst\",\"Improvement\",\"Improvement\",\"Improvement\",\"Improvement\",\"Improvement\",\"Improvement\",\"Big Improvement\",\"Big Improvement\",\"Big Improvement\",\"Improvement\",\"Improvement\"],\"type\":\"histogram\",\"xaxis\":\"x2\",\"yaxis\":\"y2\"},{\"name\":\"Response\",\"x\":[\"Partial Response\",\"Full Response\",\"Partial Response\",\"Full Response\",\"Full Response\",\"Full Response\",\"No Response\",\"Partial Response\",\"Full Response\",\"No Response\",\"Full Response\",\"No Response\",\"Partial Response\",\"Full Response\",\"Partial Response\",\"Partial Response\",\"Full Response\",\"Partial Response\",\"Full Response\",\"Partial Response\",\"Full Response\",\"Full Response\",\"No Response\",\"Partial Response\",\"Partial Response\",\"Full Response\",\"No Response\",\"Full Response\",\"Full Response\",\"Partial Response\",\"Partial Response\",\"Full Response\",\"Partial Response\",\"Full Response\",\"Partial Response\",\"No Response\",\"Partial Response\",\"Partial Response\",\"Full Response\",\"Full Response\",\"Full Response\",\"Partial Response\",\"Partial Response\",\"Full Response\",\"Full Response\",\"Full Response\",\"Full Response\",\"Full Response\",\"Partial Response\",\"Full Response\",\"Full Response\",\"Full Response\",\"Partial Response\",\"Partial Response\",\"Full Response\",\"Full Response\",\"Partial Response\",\"No Response\",\"Full Response\",\"Full Response\",\"No Response\",\"Full Response\",\"Partial Response\",\"Partial Response\",\"Full Response\",\"Full Response\",\"Full Response\",\"Full Response\",\"Full Response\",\"Partial Response\",\"Partial Response\",\"Full Response\",\"Full Response\",\"Full Response\",\"Partial Response\",\"Partial Response\",\"Full Response\",\"Partial Response\",\"Full Response\",\"Full Response\",\"Full Response\",\"Full Response\",\"No Response\",\"Partial Response\",\"Full Response\",\"Full Response\",\"Partial Response\",\"Full Response\",\"Full Response\",\"Full Response\",\"Partial Response\",\"Full Response\",\"Full Response\",\"Full Response\",\"Full Response\",\"Partial Response\",\"Partial Response\",\"Partial Response\",\"Partial Response\",\"No Response\",\"No Response\",\"Partial Response\",\"Partial Response\",\"Partial Response\",\"Partial Response\",\"Partial Response\",\"Partial Response\",\"No Response\",\"No Response\",\"Full Response\",\"Partial Response\",\"Full Response\",\"Full Response\",\"Partial Response\",\"Partial Response\",\"Partial Response\",\"Partial Response\",\"Partial Response\",\"Full Response\",\"Partial Response\",\"Partial Response\",\"Partial Response\",\"Full Response\",\"Full Response\",\"Partial Response\",\"Partial Response\",\"Full Response\",\"Full Response\",\"Partial Response\",\"Partial Response\",\"Partial Response\",\"Full Response\",\"Partial Response\",\"No Response\",\"Full Response\",\"Partial Response\",\"Full Response\",\"Partial Response\",\"Full Response\",\"Full Response\",\"Full Response\",\"Full Response\",\"Full Response\",\"Full Response\",\"Partial Response\"],\"type\":\"histogram\",\"xaxis\":\"x3\",\"yaxis\":\"y3\"}],                        {\"template\":{\"data\":{\"histogram2dcontour\":[{\"type\":\"histogram2dcontour\",\"colorbar\":{\"outlinewidth\":0,\"ticks\":\"\"},\"colorscale\":[[0.0,\"#0d0887\"],[0.1111111111111111,\"#46039f\"],[0.2222222222222222,\"#7201a8\"],[0.3333333333333333,\"#9c179e\"],[0.4444444444444444,\"#bd3786\"],[0.5555555555555556,\"#d8576b\"],[0.6666666666666666,\"#ed7953\"],[0.7777777777777778,\"#fb9f3a\"],[0.8888888888888888,\"#fdca26\"],[1.0,\"#f0f921\"]]}],\"choropleth\":[{\"type\":\"choropleth\",\"colorbar\":{\"outlinewidth\":0,\"ticks\":\"\"}}],\"histogram2d\":[{\"type\":\"histogram2d\",\"colorbar\":{\"outlinewidth\":0,\"ticks\":\"\"},\"colorscale\":[[0.0,\"#0d0887\"],[0.1111111111111111,\"#46039f\"],[0.2222222222222222,\"#7201a8\"],[0.3333333333333333,\"#9c179e\"],[0.4444444444444444,\"#bd3786\"],[0.5555555555555556,\"#d8576b\"],[0.6666666666666666,\"#ed7953\"],[0.7777777777777778,\"#fb9f3a\"],[0.8888888888888888,\"#fdca26\"],[1.0,\"#f0f921\"]]}],\"heatmap\":[{\"type\":\"heatmap\",\"colorbar\":{\"outlinewidth\":0,\"ticks\":\"\"},\"colorscale\":[[0.0,\"#0d0887\"],[0.1111111111111111,\"#46039f\"],[0.2222222222222222,\"#7201a8\"],[0.3333333333333333,\"#9c179e\"],[0.4444444444444444,\"#bd3786\"],[0.5555555555555556,\"#d8576b\"],[0.6666666666666666,\"#ed7953\"],[0.7777777777777778,\"#fb9f3a\"],[0.8888888888888888,\"#fdca26\"],[1.0,\"#f0f921\"]]}],\"heatmapgl\":[{\"type\":\"heatmapgl\",\"colorbar\":{\"outlinewidth\":0,\"ticks\":\"\"},\"colorscale\":[[0.0,\"#0d0887\"],[0.1111111111111111,\"#46039f\"],[0.2222222222222222,\"#7201a8\"],[0.3333333333333333,\"#9c179e\"],[0.4444444444444444,\"#bd3786\"],[0.5555555555555556,\"#d8576b\"],[0.6666666666666666,\"#ed7953\"],[0.7777777777777778,\"#fb9f3a\"],[0.8888888888888888,\"#fdca26\"],[1.0,\"#f0f921\"]]}],\"contourcarpet\":[{\"type\":\"contourcarpet\",\"colorbar\":{\"outlinewidth\":0,\"ticks\":\"\"}}],\"contour\":[{\"type\":\"contour\",\"colorbar\":{\"outlinewidth\":0,\"ticks\":\"\"},\"colorscale\":[[0.0,\"#0d0887\"],[0.1111111111111111,\"#46039f\"],[0.2222222222222222,\"#7201a8\"],[0.3333333333333333,\"#9c179e\"],[0.4444444444444444,\"#bd3786\"],[0.5555555555555556,\"#d8576b\"],[0.6666666666666666,\"#ed7953\"],[0.7777777777777778,\"#fb9f3a\"],[0.8888888888888888,\"#fdca26\"],[1.0,\"#f0f921\"]]}],\"surface\":[{\"type\":\"surface\",\"colorbar\":{\"outlinewidth\":0,\"ticks\":\"\"},\"colorscale\":[[0.0,\"#0d0887\"],[0.1111111111111111,\"#46039f\"],[0.2222222222222222,\"#7201a8\"],[0.3333333333333333,\"#9c179e\"],[0.4444444444444444,\"#bd3786\"],[0.5555555555555556,\"#d8576b\"],[0.6666666666666666,\"#ed7953\"],[0.7777777777777778,\"#fb9f3a\"],[0.8888888888888888,\"#fdca26\"],[1.0,\"#f0f921\"]]}],\"mesh3d\":[{\"type\":\"mesh3d\",\"colorbar\":{\"outlinewidth\":0,\"ticks\":\"\"}}],\"scatter\":[{\"fillpattern\":{\"fillmode\":\"overlay\",\"size\":10,\"solidity\":0.2},\"type\":\"scatter\"}],\"parcoords\":[{\"type\":\"parcoords\",\"line\":{\"colorbar\":{\"outlinewidth\":0,\"ticks\":\"\"}}}],\"scatterpolargl\":[{\"type\":\"scatterpolargl\",\"marker\":{\"colorbar\":{\"outlinewidth\":0,\"ticks\":\"\"}}}],\"bar\":[{\"error_x\":{\"color\":\"#2a3f5f\"},\"error_y\":{\"color\":\"#2a3f5f\"},\"marker\":{\"line\":{\"color\":\"#E5ECF6\",\"width\":0.5},\"pattern\":{\"fillmode\":\"overlay\",\"size\":10,\"solidity\":0.2}},\"type\":\"bar\"}],\"scattergeo\":[{\"type\":\"scattergeo\",\"marker\":{\"colorbar\":{\"outlinewidth\":0,\"ticks\":\"\"}}}],\"scatterpolar\":[{\"type\":\"scatterpolar\",\"marker\":{\"colorbar\":{\"outlinewidth\":0,\"ticks\":\"\"}}}],\"histogram\":[{\"marker\":{\"pattern\":{\"fillmode\":\"overlay\",\"size\":10,\"solidity\":0.2}},\"type\":\"histogram\"}],\"scattergl\":[{\"type\":\"scattergl\",\"marker\":{\"colorbar\":{\"outlinewidth\":0,\"ticks\":\"\"}}}],\"scatter3d\":[{\"type\":\"scatter3d\",\"line\":{\"colorbar\":{\"outlinewidth\":0,\"ticks\":\"\"}},\"marker\":{\"colorbar\":{\"outlinewidth\":0,\"ticks\":\"\"}}}],\"scattermapbox\":[{\"type\":\"scattermapbox\",\"marker\":{\"colorbar\":{\"outlinewidth\":0,\"ticks\":\"\"}}}],\"scatterternary\":[{\"type\":\"scatterternary\",\"marker\":{\"colorbar\":{\"outlinewidth\":0,\"ticks\":\"\"}}}],\"scattercarpet\":[{\"type\":\"scattercarpet\",\"marker\":{\"colorbar\":{\"outlinewidth\":0,\"ticks\":\"\"}}}],\"carpet\":[{\"aaxis\":{\"endlinecolor\":\"#2a3f5f\",\"gridcolor\":\"white\",\"linecolor\":\"white\",\"minorgridcolor\":\"white\",\"startlinecolor\":\"#2a3f5f\"},\"baxis\":{\"endlinecolor\":\"#2a3f5f\",\"gridcolor\":\"white\",\"linecolor\":\"white\",\"minorgridcolor\":\"white\",\"startlinecolor\":\"#2a3f5f\"},\"type\":\"carpet\"}],\"table\":[{\"cells\":{\"fill\":{\"color\":\"#EBF0F8\"},\"line\":{\"color\":\"white\"}},\"header\":{\"fill\":{\"color\":\"#C8D4E3\"},\"line\":{\"color\":\"white\"}},\"type\":\"table\"}],\"barpolar\":[{\"marker\":{\"line\":{\"color\":\"#E5ECF6\",\"width\":0.5},\"pattern\":{\"fillmode\":\"overlay\",\"size\":10,\"solidity\":0.2}},\"type\":\"barpolar\"}],\"pie\":[{\"automargin\":true,\"type\":\"pie\"}]},\"layout\":{\"autotypenumbers\":\"strict\",\"colorway\":[\"#636efa\",\"#EF553B\",\"#00cc96\",\"#ab63fa\",\"#FFA15A\",\"#19d3f3\",\"#FF6692\",\"#B6E880\",\"#FF97FF\",\"#FECB52\"],\"font\":{\"color\":\"#2a3f5f\"},\"hovermode\":\"closest\",\"hoverlabel\":{\"align\":\"left\"},\"paper_bgcolor\":\"white\",\"plot_bgcolor\":\"#E5ECF6\",\"polar\":{\"bgcolor\":\"#E5ECF6\",\"angularaxis\":{\"gridcolor\":\"white\",\"linecolor\":\"white\",\"ticks\":\"\"},\"radialaxis\":{\"gridcolor\":\"white\",\"linecolor\":\"white\",\"ticks\":\"\"}},\"ternary\":{\"bgcolor\":\"#E5ECF6\",\"aaxis\":{\"gridcolor\":\"white\",\"linecolor\":\"white\",\"ticks\":\"\"},\"baxis\":{\"gridcolor\":\"white\",\"linecolor\":\"white\",\"ticks\":\"\"},\"caxis\":{\"gridcolor\":\"white\",\"linecolor\":\"white\",\"ticks\":\"\"}},\"coloraxis\":{\"colorbar\":{\"outlinewidth\":0,\"ticks\":\"\"}},\"colorscale\":{\"sequential\":[[0.0,\"#0d0887\"],[0.1111111111111111,\"#46039f\"],[0.2222222222222222,\"#7201a8\"],[0.3333333333333333,\"#9c179e\"],[0.4444444444444444,\"#bd3786\"],[0.5555555555555556,\"#d8576b\"],[0.6666666666666666,\"#ed7953\"],[0.7777777777777778,\"#fb9f3a\"],[0.8888888888888888,\"#fdca26\"],[1.0,\"#f0f921\"]],\"sequentialminus\":[[0.0,\"#0d0887\"],[0.1111111111111111,\"#46039f\"],[0.2222222222222222,\"#7201a8\"],[0.3333333333333333,\"#9c179e\"],[0.4444444444444444,\"#bd3786\"],[0.5555555555555556,\"#d8576b\"],[0.6666666666666666,\"#ed7953\"],[0.7777777777777778,\"#fb9f3a\"],[0.8888888888888888,\"#fdca26\"],[1.0,\"#f0f921\"]],\"diverging\":[[0,\"#8e0152\"],[0.1,\"#c51b7d\"],[0.2,\"#de77ae\"],[0.3,\"#f1b6da\"],[0.4,\"#fde0ef\"],[0.5,\"#f7f7f7\"],[0.6,\"#e6f5d0\"],[0.7,\"#b8e186\"],[0.8,\"#7fbc41\"],[0.9,\"#4d9221\"],[1,\"#276419\"]]},\"xaxis\":{\"gridcolor\":\"white\",\"linecolor\":\"white\",\"ticks\":\"\",\"title\":{\"standoff\":15},\"zerolinecolor\":\"white\",\"automargin\":true,\"zerolinewidth\":2},\"yaxis\":{\"gridcolor\":\"white\",\"linecolor\":\"white\",\"ticks\":\"\",\"title\":{\"standoff\":15},\"zerolinecolor\":\"white\",\"automargin\":true,\"zerolinewidth\":2},\"scene\":{\"xaxis\":{\"backgroundcolor\":\"#E5ECF6\",\"gridcolor\":\"white\",\"linecolor\":\"white\",\"showbackground\":true,\"ticks\":\"\",\"zerolinecolor\":\"white\",\"gridwidth\":2},\"yaxis\":{\"backgroundcolor\":\"#E5ECF6\",\"gridcolor\":\"white\",\"linecolor\":\"white\",\"showbackground\":true,\"ticks\":\"\",\"zerolinecolor\":\"white\",\"gridwidth\":2},\"zaxis\":{\"backgroundcolor\":\"#E5ECF6\",\"gridcolor\":\"white\",\"linecolor\":\"white\",\"showbackground\":true,\"ticks\":\"\",\"zerolinecolor\":\"white\",\"gridwidth\":2}},\"shapedefaults\":{\"line\":{\"color\":\"#2a3f5f\"}},\"annotationdefaults\":{\"arrowcolor\":\"#2a3f5f\",\"arrowhead\":0,\"arrowwidth\":1},\"geo\":{\"bgcolor\":\"white\",\"landcolor\":\"#E5ECF6\",\"subunitcolor\":\"white\",\"showland\":true,\"showlakes\":true,\"lakecolor\":\"white\"},\"title\":{\"x\":0.05},\"mapbox\":{\"style\":\"light\"}}},\"xaxis\":{\"anchor\":\"y\",\"domain\":[0.0,0.32],\"categoryorder\":\"array\",\"categoryarray\":[\"Full Remission\",\"Remission\",\"Partial Remission\",\"No/Mild Remission\"],\"tickangle\":-45},\"yaxis\":{\"anchor\":\"x\",\"domain\":[0.0,1.0],\"title\":{\"text\":\"Count\"}},\"xaxis2\":{\"anchor\":\"y2\",\"domain\":[0.34,0.66],\"categoryorder\":\"array\",\"categoryarray\":[\"Worst\",\"No Change\",\"Improvement\",\"Big Improvement\"],\"title\":{\"text\":\"Drug Efficiency Labels\"},\"tickangle\":-45},\"yaxis2\":{\"anchor\":\"x2\",\"domain\":[0.0,1.0],\"matches\":\"y\",\"showticklabels\":false},\"xaxis3\":{\"anchor\":\"y3\",\"domain\":[0.68,1.0],\"categoryorder\":\"array\",\"categoryarray\":[\"No Response\",\"Partial Response\",\"Full Response\"],\"tickangle\":-45},\"yaxis3\":{\"anchor\":\"x3\",\"domain\":[0.0,1.0],\"matches\":\"y\",\"showticklabels\":false},\"font\":{\"size\":15},\"title\":{\"font\":{\"size\":20},\"text\":\"Figure 11. Agitation and Retardation with Patients taking Paroxetine\",\"x\":0.5,\"xanchor\":\"center\"},\"showlegend\":true,\"width\":1600,\"height\":900},                        {\"responsive\": true}                    ).then(function(){\n",
       "                            \n",
       "var gd = document.getElementById('8b3379a3-6552-4066-ba6e-b3c7c1a39907');\n",
       "var x = new MutationObserver(function (mutations, observer) {{\n",
       "        var display = window.getComputedStyle(gd).display;\n",
       "        if (!display || display === 'none') {{\n",
       "            console.log([gd, 'removed!']);\n",
       "            Plotly.purge(gd);\n",
       "            observer.disconnect();\n",
       "        }}\n",
       "}});\n",
       "\n",
       "// Listen for the removal of the full notebook cells\n",
       "var notebookContainer = gd.closest('#notebook-container');\n",
       "if (notebookContainer) {{\n",
       "    x.observe(notebookContainer, {childList: true});\n",
       "}}\n",
       "\n",
       "// Listen for the clearing of the current output cell\n",
       "var outputEl = gd.closest('.output');\n",
       "if (outputEl) {{\n",
       "    x.observe(outputEl, {childList: true});\n",
       "}}\n",
       "\n",
       "                        })                };                });            </script>        </div>"
      ]
     },
     "metadata": {},
     "output_type": "display_data"
    },
    {
     "data": {
      "text/html": [
       "<div>\n",
       "<style scoped>\n",
       "    .dataframe tbody tr th:only-of-type {\n",
       "        vertical-align: middle;\n",
       "    }\n",
       "\n",
       "    .dataframe tbody tr th {\n",
       "        vertical-align: top;\n",
       "    }\n",
       "\n",
       "    .dataframe thead th {\n",
       "        text-align: right;\n",
       "    }\n",
       "</style>\n",
       "<table border=\"1\" class=\"dataframe\">\n",
       "  <thead>\n",
       "    <tr style=\"text-align: right;\">\n",
       "      <th></th>\n",
       "      <th>V1-HAMD08</th>\n",
       "      <th>V1-HAMD09</th>\n",
       "      <th>V1-all</th>\n",
       "      <th>level</th>\n",
       "      <th>DRUG</th>\n",
       "      <th>Remission</th>\n",
       "      <th>Difference</th>\n",
       "      <th>Response</th>\n",
       "    </tr>\n",
       "  </thead>\n",
       "  <tbody>\n",
       "    <tr>\n",
       "      <th>557</th>\n",
       "      <td>1</td>\n",
       "      <td>1</td>\n",
       "      <td>17</td>\n",
       "      <td>mild</td>\n",
       "      <td>Paroxetine</td>\n",
       "      <td>Remission</td>\n",
       "      <td>Improvement</td>\n",
       "      <td>Partial Response</td>\n",
       "    </tr>\n",
       "    <tr>\n",
       "      <th>558</th>\n",
       "      <td>1</td>\n",
       "      <td>1</td>\n",
       "      <td>15</td>\n",
       "      <td>mild</td>\n",
       "      <td>Paroxetine</td>\n",
       "      <td>Full Remission</td>\n",
       "      <td>Improvement</td>\n",
       "      <td>Full Response</td>\n",
       "    </tr>\n",
       "    <tr>\n",
       "      <th>564</th>\n",
       "      <td>1</td>\n",
       "      <td>1</td>\n",
       "      <td>16</td>\n",
       "      <td>mild</td>\n",
       "      <td>Paroxetine</td>\n",
       "      <td>Remission</td>\n",
       "      <td>Improvement</td>\n",
       "      <td>Partial Response</td>\n",
       "    </tr>\n",
       "    <tr>\n",
       "      <th>570</th>\n",
       "      <td>1</td>\n",
       "      <td>1</td>\n",
       "      <td>11</td>\n",
       "      <td>mild</td>\n",
       "      <td>Paroxetine</td>\n",
       "      <td>Full Remission</td>\n",
       "      <td>Improvement</td>\n",
       "      <td>Full Response</td>\n",
       "    </tr>\n",
       "    <tr>\n",
       "      <th>585</th>\n",
       "      <td>1</td>\n",
       "      <td>1</td>\n",
       "      <td>20</td>\n",
       "      <td>moderate</td>\n",
       "      <td>Paroxetine</td>\n",
       "      <td>Full Remission</td>\n",
       "      <td>Big Improvement</td>\n",
       "      <td>Full Response</td>\n",
       "    </tr>\n",
       "    <tr>\n",
       "      <th>...</th>\n",
       "      <td>...</td>\n",
       "      <td>...</td>\n",
       "      <td>...</td>\n",
       "      <td>...</td>\n",
       "      <td>...</td>\n",
       "      <td>...</td>\n",
       "      <td>...</td>\n",
       "      <td>...</td>\n",
       "    </tr>\n",
       "    <tr>\n",
       "      <th>1396</th>\n",
       "      <td>1</td>\n",
       "      <td>1</td>\n",
       "      <td>21</td>\n",
       "      <td>moderate</td>\n",
       "      <td>Paroxetine</td>\n",
       "      <td>Full Remission</td>\n",
       "      <td>Big Improvement</td>\n",
       "      <td>Full Response</td>\n",
       "    </tr>\n",
       "    <tr>\n",
       "      <th>1400</th>\n",
       "      <td>1</td>\n",
       "      <td>1</td>\n",
       "      <td>22</td>\n",
       "      <td>moderate</td>\n",
       "      <td>Paroxetine</td>\n",
       "      <td>Full Remission</td>\n",
       "      <td>Big Improvement</td>\n",
       "      <td>Full Response</td>\n",
       "    </tr>\n",
       "    <tr>\n",
       "      <th>1404</th>\n",
       "      <td>2</td>\n",
       "      <td>1</td>\n",
       "      <td>20</td>\n",
       "      <td>moderate</td>\n",
       "      <td>Paroxetine</td>\n",
       "      <td>Full Remission</td>\n",
       "      <td>Big Improvement</td>\n",
       "      <td>Full Response</td>\n",
       "    </tr>\n",
       "    <tr>\n",
       "      <th>1414</th>\n",
       "      <td>1</td>\n",
       "      <td>1</td>\n",
       "      <td>19</td>\n",
       "      <td>moderate</td>\n",
       "      <td>Paroxetine</td>\n",
       "      <td>Full Remission</td>\n",
       "      <td>Improvement</td>\n",
       "      <td>Full Response</td>\n",
       "    </tr>\n",
       "    <tr>\n",
       "      <th>1420</th>\n",
       "      <td>1</td>\n",
       "      <td>2</td>\n",
       "      <td>18</td>\n",
       "      <td>moderate</td>\n",
       "      <td>Paroxetine</td>\n",
       "      <td>Remission</td>\n",
       "      <td>Improvement</td>\n",
       "      <td>Partial Response</td>\n",
       "    </tr>\n",
       "  </tbody>\n",
       "</table>\n",
       "<p>145 rows × 8 columns</p>\n",
       "</div>"
      ],
      "text/plain": [
       "      V1-HAMD08  V1-HAMD09  V1-all     level        DRUG       Remission  \\\n",
       "557           1          1      17      mild  Paroxetine       Remission   \n",
       "558           1          1      15      mild  Paroxetine  Full Remission   \n",
       "564           1          1      16      mild  Paroxetine       Remission   \n",
       "570           1          1      11      mild  Paroxetine  Full Remission   \n",
       "585           1          1      20  moderate  Paroxetine  Full Remission   \n",
       "...         ...        ...     ...       ...         ...             ...   \n",
       "1396          1          1      21  moderate  Paroxetine  Full Remission   \n",
       "1400          1          1      22  moderate  Paroxetine  Full Remission   \n",
       "1404          2          1      20  moderate  Paroxetine  Full Remission   \n",
       "1414          1          1      19  moderate  Paroxetine  Full Remission   \n",
       "1420          1          2      18  moderate  Paroxetine       Remission   \n",
       "\n",
       "           Difference          Response  \n",
       "557       Improvement  Partial Response  \n",
       "558       Improvement     Full Response  \n",
       "564       Improvement  Partial Response  \n",
       "570       Improvement     Full Response  \n",
       "585   Big Improvement     Full Response  \n",
       "...               ...               ...  \n",
       "1396  Big Improvement     Full Response  \n",
       "1400  Big Improvement     Full Response  \n",
       "1404  Big Improvement     Full Response  \n",
       "1414      Improvement     Full Response  \n",
       "1420      Improvement  Partial Response  \n",
       "\n",
       "[145 rows x 8 columns]"
      ]
     },
     "execution_count": 219,
     "metadata": {},
     "output_type": "execute_result"
    }
   ],
   "source": [
    "r_ap = r_a[r_a['DRUG'] == 'Paroxetine']\n",
    "\n",
    "rap1 = go.Histogram(x = r_ap['Remission'], name = 'Remission')\n",
    "rap2 = go.Histogram(x = r_ap['Difference'], name = 'Difference')\n",
    "rap3 = go.Histogram(x = r_ap['Response'], name = 'Response')\n",
    "\n",
    "fig11 = make_subplots(rows = 1, cols = 3, shared_yaxes = True, horizontal_spacing = 0.02)\n",
    "fig11.add_trace(rap1, row = 1, col = 1)\n",
    "fig11.add_trace(rap2, row = 1, col = 2)\n",
    "fig11.add_trace(rap3, row = 1, col = 3)\n",
    "\n",
    "fig11.update_xaxes(categoryorder = 'array', categoryarray = remission_labels, row = 1, col = 1)\n",
    "fig11.update_xaxes(categoryorder = 'array', categoryarray = difference_labels, row = 1, col = 2)\n",
    "fig11.update_xaxes(categoryorder = 'array', categoryarray = response_labels, row = 1, col = 3)\n",
    "\n",
    "fig11.update_layout(\n",
    "    font = {\n",
    "        \"size\": 15\n",
    "    },\n",
    "    \n",
    "    title = {\n",
    "        \"text\": 'Figure 11. Agitation and Retardation with Patients taking Paroxetine',\n",
    "        \"x\": 0.5,\n",
    "        \"xanchor\" : \"center\",\n",
    "        \"font\" : {\n",
    "            \"size\": 20\n",
    "        }\n",
    "    },\n",
    "    #xaxis =dict(tickmode = 'linear',\n",
    "    #tick0 = 0,\n",
    "    #dtick = 1),\n",
    "    xaxis1 = {\n",
    "        \"tickangle\": -45,\n",
    "    },\n",
    "    xaxis2 = {\n",
    "        \"title\" : 'Drug Efficiency Labels',\n",
    "        \"tickangle\": -45,\n",
    "    },\n",
    "    xaxis3 = {\n",
    "        \"tickangle\": -45,\n",
    "    },\n",
    "#     xaxis_title = 'Drug Efficiency Labels',\n",
    "    yaxis_title = 'Count',\n",
    "    showlegend = True,\n",
    "    width = 1600,\n",
    "    height = 900)\n",
    "\n",
    "fig11.show()\n",
    "\n",
    "r_ap"
   ]
  },
  {
   "cell_type": "code",
   "execution_count": 220,
   "metadata": {},
   "outputs": [
    {
     "data": {
      "text/plain": [
       "[4, 12, 67, 62, 9, 5, 114, 17, 14, 60, 71]"
      ]
     },
     "execution_count": 220,
     "metadata": {},
     "output_type": "execute_result"
    }
   ],
   "source": [
    "#Paroxetine Remission\n",
    "mild_rap = len(r_ap[r_ap['Remission'] == 'No/Mild Remission'])\n",
    "part_rap= len(r_ap[r_ap['Remission'] == 'Partial Remission'])\n",
    "remi_rap= len(r_ap[r_ap['Remission'] == 'Remission'])\n",
    "full_rap= len(r_ap[r_ap['Remission'] == 'Full Remission'])\n",
    "\n",
    "# Paroxetine Difference\n",
    "wor_rap = len(r_ap[r_ap['Difference'] == 'Worst'])\n",
    "nc_rap= len(r_ap[r_ap['Difference'] == 'No Change'])\n",
    "i_rap= len(r_ap[r_ap['Difference'] == 'Improvement'])\n",
    "bi_rap= len(r_ap[r_ap['Difference'] == 'Big Improvement'])\n",
    "\n",
    "# Paroxetine Response\n",
    "nr_rap = len(r_ap[r_ap['Response'] == 'No Response'])\n",
    "pr_rap= len(r_ap[r_ap['Response'] == 'Partial Response'])\n",
    "fr_rap= len(r_ap[r_ap['Response'] == 'Full Response'])\n",
    "\n",
    "rap = [mild_rap, part_rap, remi_rap, full_rap,\n",
    "        wor_rap, nc_rap, i_rap, bi_rap,\n",
    "        nr_rap, pr_rap, fr_rap]\n",
    "\n",
    "rap"
   ]
  },
  {
   "cell_type": "code",
   "execution_count": 221,
   "metadata": {},
   "outputs": [
    {
     "data": {
      "application/vnd.plotly.v1+json": {
       "config": {
        "plotlyServerURL": "https://plot.ly"
       },
       "data": [
        {
         "name": "Remission",
         "type": "histogram",
         "x": [
          "Remission",
          "Remission",
          "Remission",
          "Remission",
          "No/Mild Remission",
          "Remission",
          "Full Remission",
          "Full Remission",
          "Remission",
          "Full Remission",
          "Partial Remission",
          "Remission",
          "Remission",
          "Full Remission",
          "Remission",
          "Full Remission"
         ],
         "xaxis": "x",
         "yaxis": "y"
        },
        {
         "name": "Difference",
         "type": "histogram",
         "x": [
          "Improvement",
          "Improvement",
          "Improvement",
          "Improvement",
          "Worst",
          "Improvement",
          "Big Improvement",
          "Improvement",
          "Improvement",
          "Big Improvement",
          "Worst",
          "Improvement",
          "Big Improvement",
          "Big Improvement",
          "Improvement",
          "Big Improvement"
         ],
         "xaxis": "x2",
         "yaxis": "y2"
        },
        {
         "name": "Response",
         "type": "histogram",
         "x": [
          "Full Response",
          "Partial Response",
          "Partial Response",
          "Partial Response",
          "No Response",
          "Partial Response",
          "Full Response",
          "Full Response",
          "Partial Response",
          "Full Response",
          "No Response",
          "Partial Response",
          "Full Response",
          "Full Response",
          "Partial Response",
          "Full Response"
         ],
         "xaxis": "x3",
         "yaxis": "y3"
        }
       ],
       "layout": {
        "font": {
         "size": 15
        },
        "height": 900,
        "showlegend": true,
        "template": {
         "data": {
          "bar": [
           {
            "error_x": {
             "color": "#2a3f5f"
            },
            "error_y": {
             "color": "#2a3f5f"
            },
            "marker": {
             "line": {
              "color": "#E5ECF6",
              "width": 0.5
             },
             "pattern": {
              "fillmode": "overlay",
              "size": 10,
              "solidity": 0.2
             }
            },
            "type": "bar"
           }
          ],
          "barpolar": [
           {
            "marker": {
             "line": {
              "color": "#E5ECF6",
              "width": 0.5
             },
             "pattern": {
              "fillmode": "overlay",
              "size": 10,
              "solidity": 0.2
             }
            },
            "type": "barpolar"
           }
          ],
          "carpet": [
           {
            "aaxis": {
             "endlinecolor": "#2a3f5f",
             "gridcolor": "white",
             "linecolor": "white",
             "minorgridcolor": "white",
             "startlinecolor": "#2a3f5f"
            },
            "baxis": {
             "endlinecolor": "#2a3f5f",
             "gridcolor": "white",
             "linecolor": "white",
             "minorgridcolor": "white",
             "startlinecolor": "#2a3f5f"
            },
            "type": "carpet"
           }
          ],
          "choropleth": [
           {
            "colorbar": {
             "outlinewidth": 0,
             "ticks": ""
            },
            "type": "choropleth"
           }
          ],
          "contour": [
           {
            "colorbar": {
             "outlinewidth": 0,
             "ticks": ""
            },
            "colorscale": [
             [
              0,
              "#0d0887"
             ],
             [
              0.1111111111111111,
              "#46039f"
             ],
             [
              0.2222222222222222,
              "#7201a8"
             ],
             [
              0.3333333333333333,
              "#9c179e"
             ],
             [
              0.4444444444444444,
              "#bd3786"
             ],
             [
              0.5555555555555556,
              "#d8576b"
             ],
             [
              0.6666666666666666,
              "#ed7953"
             ],
             [
              0.7777777777777778,
              "#fb9f3a"
             ],
             [
              0.8888888888888888,
              "#fdca26"
             ],
             [
              1,
              "#f0f921"
             ]
            ],
            "type": "contour"
           }
          ],
          "contourcarpet": [
           {
            "colorbar": {
             "outlinewidth": 0,
             "ticks": ""
            },
            "type": "contourcarpet"
           }
          ],
          "heatmap": [
           {
            "colorbar": {
             "outlinewidth": 0,
             "ticks": ""
            },
            "colorscale": [
             [
              0,
              "#0d0887"
             ],
             [
              0.1111111111111111,
              "#46039f"
             ],
             [
              0.2222222222222222,
              "#7201a8"
             ],
             [
              0.3333333333333333,
              "#9c179e"
             ],
             [
              0.4444444444444444,
              "#bd3786"
             ],
             [
              0.5555555555555556,
              "#d8576b"
             ],
             [
              0.6666666666666666,
              "#ed7953"
             ],
             [
              0.7777777777777778,
              "#fb9f3a"
             ],
             [
              0.8888888888888888,
              "#fdca26"
             ],
             [
              1,
              "#f0f921"
             ]
            ],
            "type": "heatmap"
           }
          ],
          "heatmapgl": [
           {
            "colorbar": {
             "outlinewidth": 0,
             "ticks": ""
            },
            "colorscale": [
             [
              0,
              "#0d0887"
             ],
             [
              0.1111111111111111,
              "#46039f"
             ],
             [
              0.2222222222222222,
              "#7201a8"
             ],
             [
              0.3333333333333333,
              "#9c179e"
             ],
             [
              0.4444444444444444,
              "#bd3786"
             ],
             [
              0.5555555555555556,
              "#d8576b"
             ],
             [
              0.6666666666666666,
              "#ed7953"
             ],
             [
              0.7777777777777778,
              "#fb9f3a"
             ],
             [
              0.8888888888888888,
              "#fdca26"
             ],
             [
              1,
              "#f0f921"
             ]
            ],
            "type": "heatmapgl"
           }
          ],
          "histogram": [
           {
            "marker": {
             "pattern": {
              "fillmode": "overlay",
              "size": 10,
              "solidity": 0.2
             }
            },
            "type": "histogram"
           }
          ],
          "histogram2d": [
           {
            "colorbar": {
             "outlinewidth": 0,
             "ticks": ""
            },
            "colorscale": [
             [
              0,
              "#0d0887"
             ],
             [
              0.1111111111111111,
              "#46039f"
             ],
             [
              0.2222222222222222,
              "#7201a8"
             ],
             [
              0.3333333333333333,
              "#9c179e"
             ],
             [
              0.4444444444444444,
              "#bd3786"
             ],
             [
              0.5555555555555556,
              "#d8576b"
             ],
             [
              0.6666666666666666,
              "#ed7953"
             ],
             [
              0.7777777777777778,
              "#fb9f3a"
             ],
             [
              0.8888888888888888,
              "#fdca26"
             ],
             [
              1,
              "#f0f921"
             ]
            ],
            "type": "histogram2d"
           }
          ],
          "histogram2dcontour": [
           {
            "colorbar": {
             "outlinewidth": 0,
             "ticks": ""
            },
            "colorscale": [
             [
              0,
              "#0d0887"
             ],
             [
              0.1111111111111111,
              "#46039f"
             ],
             [
              0.2222222222222222,
              "#7201a8"
             ],
             [
              0.3333333333333333,
              "#9c179e"
             ],
             [
              0.4444444444444444,
              "#bd3786"
             ],
             [
              0.5555555555555556,
              "#d8576b"
             ],
             [
              0.6666666666666666,
              "#ed7953"
             ],
             [
              0.7777777777777778,
              "#fb9f3a"
             ],
             [
              0.8888888888888888,
              "#fdca26"
             ],
             [
              1,
              "#f0f921"
             ]
            ],
            "type": "histogram2dcontour"
           }
          ],
          "mesh3d": [
           {
            "colorbar": {
             "outlinewidth": 0,
             "ticks": ""
            },
            "type": "mesh3d"
           }
          ],
          "parcoords": [
           {
            "line": {
             "colorbar": {
              "outlinewidth": 0,
              "ticks": ""
             }
            },
            "type": "parcoords"
           }
          ],
          "pie": [
           {
            "automargin": true,
            "type": "pie"
           }
          ],
          "scatter": [
           {
            "fillpattern": {
             "fillmode": "overlay",
             "size": 10,
             "solidity": 0.2
            },
            "type": "scatter"
           }
          ],
          "scatter3d": [
           {
            "line": {
             "colorbar": {
              "outlinewidth": 0,
              "ticks": ""
             }
            },
            "marker": {
             "colorbar": {
              "outlinewidth": 0,
              "ticks": ""
             }
            },
            "type": "scatter3d"
           }
          ],
          "scattercarpet": [
           {
            "marker": {
             "colorbar": {
              "outlinewidth": 0,
              "ticks": ""
             }
            },
            "type": "scattercarpet"
           }
          ],
          "scattergeo": [
           {
            "marker": {
             "colorbar": {
              "outlinewidth": 0,
              "ticks": ""
             }
            },
            "type": "scattergeo"
           }
          ],
          "scattergl": [
           {
            "marker": {
             "colorbar": {
              "outlinewidth": 0,
              "ticks": ""
             }
            },
            "type": "scattergl"
           }
          ],
          "scattermapbox": [
           {
            "marker": {
             "colorbar": {
              "outlinewidth": 0,
              "ticks": ""
             }
            },
            "type": "scattermapbox"
           }
          ],
          "scatterpolar": [
           {
            "marker": {
             "colorbar": {
              "outlinewidth": 0,
              "ticks": ""
             }
            },
            "type": "scatterpolar"
           }
          ],
          "scatterpolargl": [
           {
            "marker": {
             "colorbar": {
              "outlinewidth": 0,
              "ticks": ""
             }
            },
            "type": "scatterpolargl"
           }
          ],
          "scatterternary": [
           {
            "marker": {
             "colorbar": {
              "outlinewidth": 0,
              "ticks": ""
             }
            },
            "type": "scatterternary"
           }
          ],
          "surface": [
           {
            "colorbar": {
             "outlinewidth": 0,
             "ticks": ""
            },
            "colorscale": [
             [
              0,
              "#0d0887"
             ],
             [
              0.1111111111111111,
              "#46039f"
             ],
             [
              0.2222222222222222,
              "#7201a8"
             ],
             [
              0.3333333333333333,
              "#9c179e"
             ],
             [
              0.4444444444444444,
              "#bd3786"
             ],
             [
              0.5555555555555556,
              "#d8576b"
             ],
             [
              0.6666666666666666,
              "#ed7953"
             ],
             [
              0.7777777777777778,
              "#fb9f3a"
             ],
             [
              0.8888888888888888,
              "#fdca26"
             ],
             [
              1,
              "#f0f921"
             ]
            ],
            "type": "surface"
           }
          ],
          "table": [
           {
            "cells": {
             "fill": {
              "color": "#EBF0F8"
             },
             "line": {
              "color": "white"
             }
            },
            "header": {
             "fill": {
              "color": "#C8D4E3"
             },
             "line": {
              "color": "white"
             }
            },
            "type": "table"
           }
          ]
         },
         "layout": {
          "annotationdefaults": {
           "arrowcolor": "#2a3f5f",
           "arrowhead": 0,
           "arrowwidth": 1
          },
          "autotypenumbers": "strict",
          "coloraxis": {
           "colorbar": {
            "outlinewidth": 0,
            "ticks": ""
           }
          },
          "colorscale": {
           "diverging": [
            [
             0,
             "#8e0152"
            ],
            [
             0.1,
             "#c51b7d"
            ],
            [
             0.2,
             "#de77ae"
            ],
            [
             0.3,
             "#f1b6da"
            ],
            [
             0.4,
             "#fde0ef"
            ],
            [
             0.5,
             "#f7f7f7"
            ],
            [
             0.6,
             "#e6f5d0"
            ],
            [
             0.7,
             "#b8e186"
            ],
            [
             0.8,
             "#7fbc41"
            ],
            [
             0.9,
             "#4d9221"
            ],
            [
             1,
             "#276419"
            ]
           ],
           "sequential": [
            [
             0,
             "#0d0887"
            ],
            [
             0.1111111111111111,
             "#46039f"
            ],
            [
             0.2222222222222222,
             "#7201a8"
            ],
            [
             0.3333333333333333,
             "#9c179e"
            ],
            [
             0.4444444444444444,
             "#bd3786"
            ],
            [
             0.5555555555555556,
             "#d8576b"
            ],
            [
             0.6666666666666666,
             "#ed7953"
            ],
            [
             0.7777777777777778,
             "#fb9f3a"
            ],
            [
             0.8888888888888888,
             "#fdca26"
            ],
            [
             1,
             "#f0f921"
            ]
           ],
           "sequentialminus": [
            [
             0,
             "#0d0887"
            ],
            [
             0.1111111111111111,
             "#46039f"
            ],
            [
             0.2222222222222222,
             "#7201a8"
            ],
            [
             0.3333333333333333,
             "#9c179e"
            ],
            [
             0.4444444444444444,
             "#bd3786"
            ],
            [
             0.5555555555555556,
             "#d8576b"
            ],
            [
             0.6666666666666666,
             "#ed7953"
            ],
            [
             0.7777777777777778,
             "#fb9f3a"
            ],
            [
             0.8888888888888888,
             "#fdca26"
            ],
            [
             1,
             "#f0f921"
            ]
           ]
          },
          "colorway": [
           "#636efa",
           "#EF553B",
           "#00cc96",
           "#ab63fa",
           "#FFA15A",
           "#19d3f3",
           "#FF6692",
           "#B6E880",
           "#FF97FF",
           "#FECB52"
          ],
          "font": {
           "color": "#2a3f5f"
          },
          "geo": {
           "bgcolor": "white",
           "lakecolor": "white",
           "landcolor": "#E5ECF6",
           "showlakes": true,
           "showland": true,
           "subunitcolor": "white"
          },
          "hoverlabel": {
           "align": "left"
          },
          "hovermode": "closest",
          "mapbox": {
           "style": "light"
          },
          "paper_bgcolor": "white",
          "plot_bgcolor": "#E5ECF6",
          "polar": {
           "angularaxis": {
            "gridcolor": "white",
            "linecolor": "white",
            "ticks": ""
           },
           "bgcolor": "#E5ECF6",
           "radialaxis": {
            "gridcolor": "white",
            "linecolor": "white",
            "ticks": ""
           }
          },
          "scene": {
           "xaxis": {
            "backgroundcolor": "#E5ECF6",
            "gridcolor": "white",
            "gridwidth": 2,
            "linecolor": "white",
            "showbackground": true,
            "ticks": "",
            "zerolinecolor": "white"
           },
           "yaxis": {
            "backgroundcolor": "#E5ECF6",
            "gridcolor": "white",
            "gridwidth": 2,
            "linecolor": "white",
            "showbackground": true,
            "ticks": "",
            "zerolinecolor": "white"
           },
           "zaxis": {
            "backgroundcolor": "#E5ECF6",
            "gridcolor": "white",
            "gridwidth": 2,
            "linecolor": "white",
            "showbackground": true,
            "ticks": "",
            "zerolinecolor": "white"
           }
          },
          "shapedefaults": {
           "line": {
            "color": "#2a3f5f"
           }
          },
          "ternary": {
           "aaxis": {
            "gridcolor": "white",
            "linecolor": "white",
            "ticks": ""
           },
           "baxis": {
            "gridcolor": "white",
            "linecolor": "white",
            "ticks": ""
           },
           "bgcolor": "#E5ECF6",
           "caxis": {
            "gridcolor": "white",
            "linecolor": "white",
            "ticks": ""
           }
          },
          "title": {
           "x": 0.05
          },
          "xaxis": {
           "automargin": true,
           "gridcolor": "white",
           "linecolor": "white",
           "ticks": "",
           "title": {
            "standoff": 15
           },
           "zerolinecolor": "white",
           "zerolinewidth": 2
          },
          "yaxis": {
           "automargin": true,
           "gridcolor": "white",
           "linecolor": "white",
           "ticks": "",
           "title": {
            "standoff": 15
           },
           "zerolinecolor": "white",
           "zerolinewidth": 2
          }
         }
        },
        "title": {
         "font": {
          "size": 20
         },
         "text": "Figure 12. Agitation and Retardation with Patients taking Fluoxetine",
         "x": 0.5,
         "xanchor": "center"
        },
        "width": 1600,
        "xaxis": {
         "anchor": "y",
         "categoryarray": [
          "Full Remission",
          "Remission",
          "Partial Remission",
          "No/Mild Remission"
         ],
         "categoryorder": "array",
         "domain": [
          0,
          0.32
         ],
         "tickangle": -45
        },
        "xaxis2": {
         "anchor": "y2",
         "categoryarray": [
          "Worst",
          "No Change",
          "Improvement",
          "Big Improvement"
         ],
         "categoryorder": "array",
         "domain": [
          0.34,
          0.66
         ],
         "tickangle": -45,
         "title": {
          "text": "Drug Efficiency Labels"
         }
        },
        "xaxis3": {
         "anchor": "y3",
         "categoryarray": [
          "No Response",
          "Partial Response",
          "Full Response"
         ],
         "categoryorder": "array",
         "domain": [
          0.68,
          1
         ],
         "tickangle": -45
        },
        "yaxis": {
         "anchor": "x",
         "domain": [
          0,
          1
         ],
         "title": {
          "text": "Count"
         }
        },
        "yaxis2": {
         "anchor": "x2",
         "domain": [
          0,
          1
         ],
         "matches": "y",
         "showticklabels": false
        },
        "yaxis3": {
         "anchor": "x3",
         "domain": [
          0,
          1
         ],
         "matches": "y",
         "showticklabels": false
        }
       }
      },
      "text/html": [
       "<div>                            <div id=\"de6af53b-769a-4b00-800d-0c4afc339728\" class=\"plotly-graph-div\" style=\"height:900px; width:1600px;\"></div>            <script type=\"text/javascript\">                require([\"plotly\"], function(Plotly) {                    window.PLOTLYENV=window.PLOTLYENV || {};                                    if (document.getElementById(\"de6af53b-769a-4b00-800d-0c4afc339728\")) {                    Plotly.newPlot(                        \"de6af53b-769a-4b00-800d-0c4afc339728\",                        [{\"name\":\"Remission\",\"x\":[\"Remission\",\"Remission\",\"Remission\",\"Remission\",\"No/Mild Remission\",\"Remission\",\"Full Remission\",\"Full Remission\",\"Remission\",\"Full Remission\",\"Partial Remission\",\"Remission\",\"Remission\",\"Full Remission\",\"Remission\",\"Full Remission\"],\"type\":\"histogram\",\"xaxis\":\"x\",\"yaxis\":\"y\"},{\"name\":\"Difference\",\"x\":[\"Improvement\",\"Improvement\",\"Improvement\",\"Improvement\",\"Worst\",\"Improvement\",\"Big Improvement\",\"Improvement\",\"Improvement\",\"Big Improvement\",\"Worst\",\"Improvement\",\"Big Improvement\",\"Big Improvement\",\"Improvement\",\"Big Improvement\"],\"type\":\"histogram\",\"xaxis\":\"x2\",\"yaxis\":\"y2\"},{\"name\":\"Response\",\"x\":[\"Full Response\",\"Partial Response\",\"Partial Response\",\"Partial Response\",\"No Response\",\"Partial Response\",\"Full Response\",\"Full Response\",\"Partial Response\",\"Full Response\",\"No Response\",\"Partial Response\",\"Full Response\",\"Full Response\",\"Partial Response\",\"Full Response\"],\"type\":\"histogram\",\"xaxis\":\"x3\",\"yaxis\":\"y3\"}],                        {\"template\":{\"data\":{\"histogram2dcontour\":[{\"type\":\"histogram2dcontour\",\"colorbar\":{\"outlinewidth\":0,\"ticks\":\"\"},\"colorscale\":[[0.0,\"#0d0887\"],[0.1111111111111111,\"#46039f\"],[0.2222222222222222,\"#7201a8\"],[0.3333333333333333,\"#9c179e\"],[0.4444444444444444,\"#bd3786\"],[0.5555555555555556,\"#d8576b\"],[0.6666666666666666,\"#ed7953\"],[0.7777777777777778,\"#fb9f3a\"],[0.8888888888888888,\"#fdca26\"],[1.0,\"#f0f921\"]]}],\"choropleth\":[{\"type\":\"choropleth\",\"colorbar\":{\"outlinewidth\":0,\"ticks\":\"\"}}],\"histogram2d\":[{\"type\":\"histogram2d\",\"colorbar\":{\"outlinewidth\":0,\"ticks\":\"\"},\"colorscale\":[[0.0,\"#0d0887\"],[0.1111111111111111,\"#46039f\"],[0.2222222222222222,\"#7201a8\"],[0.3333333333333333,\"#9c179e\"],[0.4444444444444444,\"#bd3786\"],[0.5555555555555556,\"#d8576b\"],[0.6666666666666666,\"#ed7953\"],[0.7777777777777778,\"#fb9f3a\"],[0.8888888888888888,\"#fdca26\"],[1.0,\"#f0f921\"]]}],\"heatmap\":[{\"type\":\"heatmap\",\"colorbar\":{\"outlinewidth\":0,\"ticks\":\"\"},\"colorscale\":[[0.0,\"#0d0887\"],[0.1111111111111111,\"#46039f\"],[0.2222222222222222,\"#7201a8\"],[0.3333333333333333,\"#9c179e\"],[0.4444444444444444,\"#bd3786\"],[0.5555555555555556,\"#d8576b\"],[0.6666666666666666,\"#ed7953\"],[0.7777777777777778,\"#fb9f3a\"],[0.8888888888888888,\"#fdca26\"],[1.0,\"#f0f921\"]]}],\"heatmapgl\":[{\"type\":\"heatmapgl\",\"colorbar\":{\"outlinewidth\":0,\"ticks\":\"\"},\"colorscale\":[[0.0,\"#0d0887\"],[0.1111111111111111,\"#46039f\"],[0.2222222222222222,\"#7201a8\"],[0.3333333333333333,\"#9c179e\"],[0.4444444444444444,\"#bd3786\"],[0.5555555555555556,\"#d8576b\"],[0.6666666666666666,\"#ed7953\"],[0.7777777777777778,\"#fb9f3a\"],[0.8888888888888888,\"#fdca26\"],[1.0,\"#f0f921\"]]}],\"contourcarpet\":[{\"type\":\"contourcarpet\",\"colorbar\":{\"outlinewidth\":0,\"ticks\":\"\"}}],\"contour\":[{\"type\":\"contour\",\"colorbar\":{\"outlinewidth\":0,\"ticks\":\"\"},\"colorscale\":[[0.0,\"#0d0887\"],[0.1111111111111111,\"#46039f\"],[0.2222222222222222,\"#7201a8\"],[0.3333333333333333,\"#9c179e\"],[0.4444444444444444,\"#bd3786\"],[0.5555555555555556,\"#d8576b\"],[0.6666666666666666,\"#ed7953\"],[0.7777777777777778,\"#fb9f3a\"],[0.8888888888888888,\"#fdca26\"],[1.0,\"#f0f921\"]]}],\"surface\":[{\"type\":\"surface\",\"colorbar\":{\"outlinewidth\":0,\"ticks\":\"\"},\"colorscale\":[[0.0,\"#0d0887\"],[0.1111111111111111,\"#46039f\"],[0.2222222222222222,\"#7201a8\"],[0.3333333333333333,\"#9c179e\"],[0.4444444444444444,\"#bd3786\"],[0.5555555555555556,\"#d8576b\"],[0.6666666666666666,\"#ed7953\"],[0.7777777777777778,\"#fb9f3a\"],[0.8888888888888888,\"#fdca26\"],[1.0,\"#f0f921\"]]}],\"mesh3d\":[{\"type\":\"mesh3d\",\"colorbar\":{\"outlinewidth\":0,\"ticks\":\"\"}}],\"scatter\":[{\"fillpattern\":{\"fillmode\":\"overlay\",\"size\":10,\"solidity\":0.2},\"type\":\"scatter\"}],\"parcoords\":[{\"type\":\"parcoords\",\"line\":{\"colorbar\":{\"outlinewidth\":0,\"ticks\":\"\"}}}],\"scatterpolargl\":[{\"type\":\"scatterpolargl\",\"marker\":{\"colorbar\":{\"outlinewidth\":0,\"ticks\":\"\"}}}],\"bar\":[{\"error_x\":{\"color\":\"#2a3f5f\"},\"error_y\":{\"color\":\"#2a3f5f\"},\"marker\":{\"line\":{\"color\":\"#E5ECF6\",\"width\":0.5},\"pattern\":{\"fillmode\":\"overlay\",\"size\":10,\"solidity\":0.2}},\"type\":\"bar\"}],\"scattergeo\":[{\"type\":\"scattergeo\",\"marker\":{\"colorbar\":{\"outlinewidth\":0,\"ticks\":\"\"}}}],\"scatterpolar\":[{\"type\":\"scatterpolar\",\"marker\":{\"colorbar\":{\"outlinewidth\":0,\"ticks\":\"\"}}}],\"histogram\":[{\"marker\":{\"pattern\":{\"fillmode\":\"overlay\",\"size\":10,\"solidity\":0.2}},\"type\":\"histogram\"}],\"scattergl\":[{\"type\":\"scattergl\",\"marker\":{\"colorbar\":{\"outlinewidth\":0,\"ticks\":\"\"}}}],\"scatter3d\":[{\"type\":\"scatter3d\",\"line\":{\"colorbar\":{\"outlinewidth\":0,\"ticks\":\"\"}},\"marker\":{\"colorbar\":{\"outlinewidth\":0,\"ticks\":\"\"}}}],\"scattermapbox\":[{\"type\":\"scattermapbox\",\"marker\":{\"colorbar\":{\"outlinewidth\":0,\"ticks\":\"\"}}}],\"scatterternary\":[{\"type\":\"scatterternary\",\"marker\":{\"colorbar\":{\"outlinewidth\":0,\"ticks\":\"\"}}}],\"scattercarpet\":[{\"type\":\"scattercarpet\",\"marker\":{\"colorbar\":{\"outlinewidth\":0,\"ticks\":\"\"}}}],\"carpet\":[{\"aaxis\":{\"endlinecolor\":\"#2a3f5f\",\"gridcolor\":\"white\",\"linecolor\":\"white\",\"minorgridcolor\":\"white\",\"startlinecolor\":\"#2a3f5f\"},\"baxis\":{\"endlinecolor\":\"#2a3f5f\",\"gridcolor\":\"white\",\"linecolor\":\"white\",\"minorgridcolor\":\"white\",\"startlinecolor\":\"#2a3f5f\"},\"type\":\"carpet\"}],\"table\":[{\"cells\":{\"fill\":{\"color\":\"#EBF0F8\"},\"line\":{\"color\":\"white\"}},\"header\":{\"fill\":{\"color\":\"#C8D4E3\"},\"line\":{\"color\":\"white\"}},\"type\":\"table\"}],\"barpolar\":[{\"marker\":{\"line\":{\"color\":\"#E5ECF6\",\"width\":0.5},\"pattern\":{\"fillmode\":\"overlay\",\"size\":10,\"solidity\":0.2}},\"type\":\"barpolar\"}],\"pie\":[{\"automargin\":true,\"type\":\"pie\"}]},\"layout\":{\"autotypenumbers\":\"strict\",\"colorway\":[\"#636efa\",\"#EF553B\",\"#00cc96\",\"#ab63fa\",\"#FFA15A\",\"#19d3f3\",\"#FF6692\",\"#B6E880\",\"#FF97FF\",\"#FECB52\"],\"font\":{\"color\":\"#2a3f5f\"},\"hovermode\":\"closest\",\"hoverlabel\":{\"align\":\"left\"},\"paper_bgcolor\":\"white\",\"plot_bgcolor\":\"#E5ECF6\",\"polar\":{\"bgcolor\":\"#E5ECF6\",\"angularaxis\":{\"gridcolor\":\"white\",\"linecolor\":\"white\",\"ticks\":\"\"},\"radialaxis\":{\"gridcolor\":\"white\",\"linecolor\":\"white\",\"ticks\":\"\"}},\"ternary\":{\"bgcolor\":\"#E5ECF6\",\"aaxis\":{\"gridcolor\":\"white\",\"linecolor\":\"white\",\"ticks\":\"\"},\"baxis\":{\"gridcolor\":\"white\",\"linecolor\":\"white\",\"ticks\":\"\"},\"caxis\":{\"gridcolor\":\"white\",\"linecolor\":\"white\",\"ticks\":\"\"}},\"coloraxis\":{\"colorbar\":{\"outlinewidth\":0,\"ticks\":\"\"}},\"colorscale\":{\"sequential\":[[0.0,\"#0d0887\"],[0.1111111111111111,\"#46039f\"],[0.2222222222222222,\"#7201a8\"],[0.3333333333333333,\"#9c179e\"],[0.4444444444444444,\"#bd3786\"],[0.5555555555555556,\"#d8576b\"],[0.6666666666666666,\"#ed7953\"],[0.7777777777777778,\"#fb9f3a\"],[0.8888888888888888,\"#fdca26\"],[1.0,\"#f0f921\"]],\"sequentialminus\":[[0.0,\"#0d0887\"],[0.1111111111111111,\"#46039f\"],[0.2222222222222222,\"#7201a8\"],[0.3333333333333333,\"#9c179e\"],[0.4444444444444444,\"#bd3786\"],[0.5555555555555556,\"#d8576b\"],[0.6666666666666666,\"#ed7953\"],[0.7777777777777778,\"#fb9f3a\"],[0.8888888888888888,\"#fdca26\"],[1.0,\"#f0f921\"]],\"diverging\":[[0,\"#8e0152\"],[0.1,\"#c51b7d\"],[0.2,\"#de77ae\"],[0.3,\"#f1b6da\"],[0.4,\"#fde0ef\"],[0.5,\"#f7f7f7\"],[0.6,\"#e6f5d0\"],[0.7,\"#b8e186\"],[0.8,\"#7fbc41\"],[0.9,\"#4d9221\"],[1,\"#276419\"]]},\"xaxis\":{\"gridcolor\":\"white\",\"linecolor\":\"white\",\"ticks\":\"\",\"title\":{\"standoff\":15},\"zerolinecolor\":\"white\",\"automargin\":true,\"zerolinewidth\":2},\"yaxis\":{\"gridcolor\":\"white\",\"linecolor\":\"white\",\"ticks\":\"\",\"title\":{\"standoff\":15},\"zerolinecolor\":\"white\",\"automargin\":true,\"zerolinewidth\":2},\"scene\":{\"xaxis\":{\"backgroundcolor\":\"#E5ECF6\",\"gridcolor\":\"white\",\"linecolor\":\"white\",\"showbackground\":true,\"ticks\":\"\",\"zerolinecolor\":\"white\",\"gridwidth\":2},\"yaxis\":{\"backgroundcolor\":\"#E5ECF6\",\"gridcolor\":\"white\",\"linecolor\":\"white\",\"showbackground\":true,\"ticks\":\"\",\"zerolinecolor\":\"white\",\"gridwidth\":2},\"zaxis\":{\"backgroundcolor\":\"#E5ECF6\",\"gridcolor\":\"white\",\"linecolor\":\"white\",\"showbackground\":true,\"ticks\":\"\",\"zerolinecolor\":\"white\",\"gridwidth\":2}},\"shapedefaults\":{\"line\":{\"color\":\"#2a3f5f\"}},\"annotationdefaults\":{\"arrowcolor\":\"#2a3f5f\",\"arrowhead\":0,\"arrowwidth\":1},\"geo\":{\"bgcolor\":\"white\",\"landcolor\":\"#E5ECF6\",\"subunitcolor\":\"white\",\"showland\":true,\"showlakes\":true,\"lakecolor\":\"white\"},\"title\":{\"x\":0.05},\"mapbox\":{\"style\":\"light\"}}},\"xaxis\":{\"anchor\":\"y\",\"domain\":[0.0,0.32],\"categoryorder\":\"array\",\"categoryarray\":[\"Full Remission\",\"Remission\",\"Partial Remission\",\"No/Mild Remission\"],\"tickangle\":-45},\"yaxis\":{\"anchor\":\"x\",\"domain\":[0.0,1.0],\"title\":{\"text\":\"Count\"}},\"xaxis2\":{\"anchor\":\"y2\",\"domain\":[0.34,0.66],\"categoryorder\":\"array\",\"categoryarray\":[\"Worst\",\"No Change\",\"Improvement\",\"Big Improvement\"],\"title\":{\"text\":\"Drug Efficiency Labels\"},\"tickangle\":-45},\"yaxis2\":{\"anchor\":\"x2\",\"domain\":[0.0,1.0],\"matches\":\"y\",\"showticklabels\":false},\"xaxis3\":{\"anchor\":\"y3\",\"domain\":[0.68,1.0],\"categoryorder\":\"array\",\"categoryarray\":[\"No Response\",\"Partial Response\",\"Full Response\"],\"tickangle\":-45},\"yaxis3\":{\"anchor\":\"x3\",\"domain\":[0.0,1.0],\"matches\":\"y\",\"showticklabels\":false},\"font\":{\"size\":15},\"title\":{\"font\":{\"size\":20},\"text\":\"Figure 12. Agitation and Retardation with Patients taking Fluoxetine\",\"x\":0.5,\"xanchor\":\"center\"},\"showlegend\":true,\"width\":1600,\"height\":900},                        {\"responsive\": true}                    ).then(function(){\n",
       "                            \n",
       "var gd = document.getElementById('de6af53b-769a-4b00-800d-0c4afc339728');\n",
       "var x = new MutationObserver(function (mutations, observer) {{\n",
       "        var display = window.getComputedStyle(gd).display;\n",
       "        if (!display || display === 'none') {{\n",
       "            console.log([gd, 'removed!']);\n",
       "            Plotly.purge(gd);\n",
       "            observer.disconnect();\n",
       "        }}\n",
       "}});\n",
       "\n",
       "// Listen for the removal of the full notebook cells\n",
       "var notebookContainer = gd.closest('#notebook-container');\n",
       "if (notebookContainer) {{\n",
       "    x.observe(notebookContainer, {childList: true});\n",
       "}}\n",
       "\n",
       "// Listen for the clearing of the current output cell\n",
       "var outputEl = gd.closest('.output');\n",
       "if (outputEl) {{\n",
       "    x.observe(outputEl, {childList: true});\n",
       "}}\n",
       "\n",
       "                        })                };                });            </script>        </div>"
      ]
     },
     "metadata": {},
     "output_type": "display_data"
    },
    {
     "data": {
      "text/html": [
       "<div>\n",
       "<style scoped>\n",
       "    .dataframe tbody tr th:only-of-type {\n",
       "        vertical-align: middle;\n",
       "    }\n",
       "\n",
       "    .dataframe tbody tr th {\n",
       "        vertical-align: top;\n",
       "    }\n",
       "\n",
       "    .dataframe thead th {\n",
       "        text-align: right;\n",
       "    }\n",
       "</style>\n",
       "<table border=\"1\" class=\"dataframe\">\n",
       "  <thead>\n",
       "    <tr style=\"text-align: right;\">\n",
       "      <th></th>\n",
       "      <th>V1-HAMD08</th>\n",
       "      <th>V1-HAMD09</th>\n",
       "      <th>V1-all</th>\n",
       "      <th>level</th>\n",
       "      <th>DRUG</th>\n",
       "      <th>Remission</th>\n",
       "      <th>Difference</th>\n",
       "      <th>Response</th>\n",
       "    </tr>\n",
       "  </thead>\n",
       "  <tbody>\n",
       "    <tr>\n",
       "      <th>1424</th>\n",
       "      <td>1</td>\n",
       "      <td>1</td>\n",
       "      <td>17</td>\n",
       "      <td>mild</td>\n",
       "      <td>Fluoxetine</td>\n",
       "      <td>Remission</td>\n",
       "      <td>Improvement</td>\n",
       "      <td>Full Response</td>\n",
       "    </tr>\n",
       "    <tr>\n",
       "      <th>1425</th>\n",
       "      <td>1</td>\n",
       "      <td>1</td>\n",
       "      <td>20</td>\n",
       "      <td>moderate</td>\n",
       "      <td>Fluoxetine</td>\n",
       "      <td>Remission</td>\n",
       "      <td>Improvement</td>\n",
       "      <td>Partial Response</td>\n",
       "    </tr>\n",
       "    <tr>\n",
       "      <th>1438</th>\n",
       "      <td>1</td>\n",
       "      <td>1</td>\n",
       "      <td>21</td>\n",
       "      <td>moderate</td>\n",
       "      <td>Fluoxetine</td>\n",
       "      <td>Remission</td>\n",
       "      <td>Improvement</td>\n",
       "      <td>Partial Response</td>\n",
       "    </tr>\n",
       "    <tr>\n",
       "      <th>1443</th>\n",
       "      <td>1</td>\n",
       "      <td>1</td>\n",
       "      <td>16</td>\n",
       "      <td>mild</td>\n",
       "      <td>Fluoxetine</td>\n",
       "      <td>Remission</td>\n",
       "      <td>Improvement</td>\n",
       "      <td>Partial Response</td>\n",
       "    </tr>\n",
       "    <tr>\n",
       "      <th>1444</th>\n",
       "      <td>1</td>\n",
       "      <td>1</td>\n",
       "      <td>23</td>\n",
       "      <td>moderate</td>\n",
       "      <td>Fluoxetine</td>\n",
       "      <td>No/Mild Remission</td>\n",
       "      <td>Worst</td>\n",
       "      <td>No Response</td>\n",
       "    </tr>\n",
       "    <tr>\n",
       "      <th>1447</th>\n",
       "      <td>1</td>\n",
       "      <td>1</td>\n",
       "      <td>17</td>\n",
       "      <td>mild</td>\n",
       "      <td>Fluoxetine</td>\n",
       "      <td>Remission</td>\n",
       "      <td>Improvement</td>\n",
       "      <td>Partial Response</td>\n",
       "    </tr>\n",
       "    <tr>\n",
       "      <th>1449</th>\n",
       "      <td>1</td>\n",
       "      <td>1</td>\n",
       "      <td>21</td>\n",
       "      <td>moderate</td>\n",
       "      <td>Fluoxetine</td>\n",
       "      <td>Full Remission</td>\n",
       "      <td>Big Improvement</td>\n",
       "      <td>Full Response</td>\n",
       "    </tr>\n",
       "    <tr>\n",
       "      <th>1450</th>\n",
       "      <td>1</td>\n",
       "      <td>1</td>\n",
       "      <td>17</td>\n",
       "      <td>mild</td>\n",
       "      <td>Fluoxetine</td>\n",
       "      <td>Full Remission</td>\n",
       "      <td>Improvement</td>\n",
       "      <td>Full Response</td>\n",
       "    </tr>\n",
       "    <tr>\n",
       "      <th>1453</th>\n",
       "      <td>1</td>\n",
       "      <td>2</td>\n",
       "      <td>24</td>\n",
       "      <td>moderate</td>\n",
       "      <td>Fluoxetine</td>\n",
       "      <td>Remission</td>\n",
       "      <td>Improvement</td>\n",
       "      <td>Partial Response</td>\n",
       "    </tr>\n",
       "    <tr>\n",
       "      <th>1456</th>\n",
       "      <td>2</td>\n",
       "      <td>1</td>\n",
       "      <td>24</td>\n",
       "      <td>moderate</td>\n",
       "      <td>Fluoxetine</td>\n",
       "      <td>Full Remission</td>\n",
       "      <td>Big Improvement</td>\n",
       "      <td>Full Response</td>\n",
       "    </tr>\n",
       "    <tr>\n",
       "      <th>1459</th>\n",
       "      <td>1</td>\n",
       "      <td>1</td>\n",
       "      <td>17</td>\n",
       "      <td>mild</td>\n",
       "      <td>Fluoxetine</td>\n",
       "      <td>Partial Remission</td>\n",
       "      <td>Worst</td>\n",
       "      <td>No Response</td>\n",
       "    </tr>\n",
       "    <tr>\n",
       "      <th>1460</th>\n",
       "      <td>1</td>\n",
       "      <td>2</td>\n",
       "      <td>17</td>\n",
       "      <td>mild</td>\n",
       "      <td>Fluoxetine</td>\n",
       "      <td>Remission</td>\n",
       "      <td>Improvement</td>\n",
       "      <td>Partial Response</td>\n",
       "    </tr>\n",
       "    <tr>\n",
       "      <th>1463</th>\n",
       "      <td>1</td>\n",
       "      <td>1</td>\n",
       "      <td>27</td>\n",
       "      <td>severe</td>\n",
       "      <td>Fluoxetine</td>\n",
       "      <td>Remission</td>\n",
       "      <td>Big Improvement</td>\n",
       "      <td>Full Response</td>\n",
       "    </tr>\n",
       "    <tr>\n",
       "      <th>1464</th>\n",
       "      <td>1</td>\n",
       "      <td>1</td>\n",
       "      <td>26</td>\n",
       "      <td>severe</td>\n",
       "      <td>Fluoxetine</td>\n",
       "      <td>Full Remission</td>\n",
       "      <td>Big Improvement</td>\n",
       "      <td>Full Response</td>\n",
       "    </tr>\n",
       "    <tr>\n",
       "      <th>1466</th>\n",
       "      <td>2</td>\n",
       "      <td>1</td>\n",
       "      <td>20</td>\n",
       "      <td>moderate</td>\n",
       "      <td>Fluoxetine</td>\n",
       "      <td>Remission</td>\n",
       "      <td>Improvement</td>\n",
       "      <td>Partial Response</td>\n",
       "    </tr>\n",
       "    <tr>\n",
       "      <th>1467</th>\n",
       "      <td>2</td>\n",
       "      <td>2</td>\n",
       "      <td>28</td>\n",
       "      <td>severe</td>\n",
       "      <td>Fluoxetine</td>\n",
       "      <td>Full Remission</td>\n",
       "      <td>Big Improvement</td>\n",
       "      <td>Full Response</td>\n",
       "    </tr>\n",
       "  </tbody>\n",
       "</table>\n",
       "</div>"
      ],
      "text/plain": [
       "      V1-HAMD08  V1-HAMD09  V1-all     level        DRUG          Remission  \\\n",
       "1424          1          1      17      mild  Fluoxetine          Remission   \n",
       "1425          1          1      20  moderate  Fluoxetine          Remission   \n",
       "1438          1          1      21  moderate  Fluoxetine          Remission   \n",
       "1443          1          1      16      mild  Fluoxetine          Remission   \n",
       "1444          1          1      23  moderate  Fluoxetine  No/Mild Remission   \n",
       "1447          1          1      17      mild  Fluoxetine          Remission   \n",
       "1449          1          1      21  moderate  Fluoxetine     Full Remission   \n",
       "1450          1          1      17      mild  Fluoxetine     Full Remission   \n",
       "1453          1          2      24  moderate  Fluoxetine          Remission   \n",
       "1456          2          1      24  moderate  Fluoxetine     Full Remission   \n",
       "1459          1          1      17      mild  Fluoxetine  Partial Remission   \n",
       "1460          1          2      17      mild  Fluoxetine          Remission   \n",
       "1463          1          1      27    severe  Fluoxetine          Remission   \n",
       "1464          1          1      26    severe  Fluoxetine     Full Remission   \n",
       "1466          2          1      20  moderate  Fluoxetine          Remission   \n",
       "1467          2          2      28    severe  Fluoxetine     Full Remission   \n",
       "\n",
       "           Difference          Response  \n",
       "1424      Improvement     Full Response  \n",
       "1425      Improvement  Partial Response  \n",
       "1438      Improvement  Partial Response  \n",
       "1443      Improvement  Partial Response  \n",
       "1444            Worst       No Response  \n",
       "1447      Improvement  Partial Response  \n",
       "1449  Big Improvement     Full Response  \n",
       "1450      Improvement     Full Response  \n",
       "1453      Improvement  Partial Response  \n",
       "1456  Big Improvement     Full Response  \n",
       "1459            Worst       No Response  \n",
       "1460      Improvement  Partial Response  \n",
       "1463  Big Improvement     Full Response  \n",
       "1464  Big Improvement     Full Response  \n",
       "1466      Improvement  Partial Response  \n",
       "1467  Big Improvement     Full Response  "
      ]
     },
     "execution_count": 221,
     "metadata": {},
     "output_type": "execute_result"
    }
   ],
   "source": [
    "r_af = r_a[r_a['DRUG'] == 'Fluoxetine']\n",
    "\n",
    "raf1 = go.Histogram(x = r_af['Remission'], name = 'Remission')\n",
    "raf2 = go.Histogram(x = r_af['Difference'], name = 'Difference')\n",
    "raf3 = go.Histogram(x = r_af['Response'], name = 'Response')\n",
    "\n",
    "fig12 = make_subplots(rows = 1, cols = 3, shared_yaxes = True, horizontal_spacing = 0.02)\n",
    "fig12.add_trace(raf1, row = 1, col = 1)\n",
    "fig12.add_trace(raf2, row = 1, col = 2)\n",
    "fig12.add_trace(raf3, row = 1, col = 3)\n",
    "\n",
    "fig12.update_xaxes(categoryorder = 'array', categoryarray = remission_labels, row = 1, col = 1)\n",
    "fig12.update_xaxes(categoryorder = 'array', categoryarray = difference_labels, row = 1, col = 2)\n",
    "fig12.update_xaxes(categoryorder = 'array', categoryarray = response_labels, row = 1, col = 3)\n",
    "\n",
    "fig12.update_layout(\n",
    "    font = {\n",
    "        \"size\": 15\n",
    "    },\n",
    "    \n",
    "    title = {\n",
    "        \"text\": 'Figure 12. Agitation and Retardation with Patients taking Fluoxetine',\n",
    "        \"x\": 0.5,\n",
    "        \"xanchor\" : \"center\",\n",
    "        \"font\" : {\n",
    "            \"size\": 20\n",
    "        }\n",
    "    },\n",
    "    #xaxis =dict(tickmode = 'linear',\n",
    "    #tick0 = 0,\n",
    "    #dtick = 1),\n",
    "    xaxis1 = {\n",
    "        \"tickangle\": -45,\n",
    "    },\n",
    "    xaxis2 = {\n",
    "        \"title\" : 'Drug Efficiency Labels',\n",
    "        \"tickangle\": -45,\n",
    "    },\n",
    "    xaxis3 = {\n",
    "        \"tickangle\": -45,\n",
    "    },\n",
    "#     xaxis_title = 'Drug Efficiency Labels',\n",
    "    yaxis_title = 'Count',\n",
    "    showlegend = True,\n",
    "    width = 1600,\n",
    "    height = 900)\n",
    "\n",
    "fig12.show()\n",
    "\n",
    "r_af"
   ]
  },
  {
   "cell_type": "code",
   "execution_count": 222,
   "metadata": {},
   "outputs": [
    {
     "data": {
      "text/plain": [
       "[1, 1, 9, 5, 2, 0, 9, 5, 2, 7, 7]"
      ]
     },
     "execution_count": 222,
     "metadata": {},
     "output_type": "execute_result"
    }
   ],
   "source": [
    "# Fluoxetine Remission\n",
    "\n",
    "mild_raf = len(r_af[r_af['Remission'] == 'No/Mild Remission'])\n",
    "part_raf= len(r_af[r_af['Remission'] == 'Partial Remission'])\n",
    "remi_raf= len(r_af[r_af['Remission'] == 'Remission'])\n",
    "full_raf= len(r_af[r_af['Remission'] == 'Full Remission'])\n",
    "                            \n",
    "# Fluoxetine Difference\n",
    "wor_raf = len(r_af[r_af['Difference'] == 'Worst'])\n",
    "nc_raf= len(r_af[r_af['Difference'] == 'No Change'])\n",
    "i_raf= len(r_af[r_af['Difference'] == 'Improvement'])\n",
    "bi_raf= len(r_af[r_af['Difference'] == 'Big Improvement'])\n",
    "                            \n",
    "#Fluoxetine Response\n",
    "nr_raf = len(r_af[r_af['Response'] == 'No Response'])\n",
    "pr_raf= len(r_af[r_af['Response'] == 'Partial Response'])\n",
    "fr_raf= len(r_af[r_af['Response'] == 'Full Response'])\n",
    "\n",
    "raf = [mild_raf, part_raf, remi_raf, full_raf,\n",
    "        wor_raf, nc_raf, i_raf, bi_raf,\n",
    "        nr_raf, pr_raf, fr_raf]\n",
    "\n",
    "raf"
   ]
  },
  {
   "cell_type": "markdown",
   "metadata": {},
   "source": [
    "# Neither Agitation nor Retardation for each drug"
   ]
  },
  {
   "cell_type": "code",
   "execution_count": 223,
   "metadata": {},
   "outputs": [
    {
     "data": {
      "application/vnd.plotly.v1+json": {
       "config": {
        "plotlyServerURL": "https://plot.ly"
       },
       "data": [
        {
         "name": "Remission",
         "type": "histogram",
         "x": [
          "Full Remission",
          "Remission",
          "Remission",
          "Full Remission",
          "Remission",
          "Full Remission",
          "Remission",
          "Full Remission",
          "Remission",
          "Remission",
          "Full Remission",
          "Remission",
          "Partial Remission",
          "Full Remission",
          "Partial Remission",
          "Full Remission",
          "Full Remission",
          "Full Remission",
          "Remission",
          "Full Remission",
          "Partial Remission",
          "Remission",
          "Full Remission",
          "Remission",
          "Remission",
          "Full Remission",
          "Remission",
          "Full Remission",
          "Full Remission",
          "Remission",
          "Remission",
          "Remission",
          "Partial Remission",
          "Remission",
          "Remission",
          "No/Mild Remission",
          "Remission",
          "Full Remission",
          "Full Remission",
          "Full Remission",
          "Remission",
          "Remission",
          "Remission",
          "No/Mild Remission",
          "Partial Remission",
          "Full Remission",
          "Full Remission",
          "Remission",
          "Full Remission",
          "Remission",
          "Remission",
          "Full Remission",
          "Full Remission",
          "Full Remission",
          "Full Remission",
          "Full Remission",
          "Full Remission",
          "Full Remission",
          "Full Remission",
          "Full Remission",
          "Remission",
          "Full Remission",
          "Full Remission",
          "Full Remission",
          "Full Remission",
          "Full Remission",
          "Full Remission",
          "Remission",
          "Full Remission",
          "Full Remission",
          "Full Remission",
          "Full Remission",
          "Full Remission",
          "Remission",
          "Full Remission",
          "Remission",
          "Remission",
          "Remission",
          "Full Remission",
          "Full Remission",
          "Full Remission",
          "Full Remission",
          "Full Remission",
          "Remission",
          "Full Remission",
          "Full Remission",
          "Full Remission",
          "Full Remission",
          "Full Remission",
          "Full Remission",
          "Full Remission",
          "Full Remission",
          "Full Remission",
          "Full Remission",
          "Remission",
          "Remission",
          "Full Remission",
          "Partial Remission",
          "Full Remission",
          "Full Remission",
          "Full Remission",
          "Full Remission",
          "Full Remission",
          "Full Remission",
          "Remission",
          "Full Remission",
          "Full Remission",
          "Remission",
          "Full Remission",
          "Full Remission",
          "Remission",
          "Remission",
          "Full Remission",
          "Remission",
          "Full Remission",
          "Full Remission",
          "Full Remission",
          "Remission",
          "Remission",
          "Full Remission",
          "Full Remission"
         ],
         "xaxis": "x",
         "yaxis": "y"
        },
        {
         "name": "Difference",
         "type": "histogram",
         "x": [
          "Improvement",
          "Worst",
          "Worst",
          "Improvement",
          "Improvement",
          "Improvement",
          "No Change",
          "Improvement",
          "Improvement",
          "No Change",
          "Big Improvement",
          "Worst",
          "Improvement",
          "Improvement",
          "Improvement",
          "Improvement",
          "Improvement",
          "Improvement",
          "Worst",
          "Improvement",
          "Improvement",
          "Improvement",
          "Improvement",
          "Improvement",
          "Improvement",
          "No Change",
          "Worst",
          "Improvement",
          "Improvement",
          "Improvement",
          "Worst",
          "Worst",
          "Worst",
          "Worst",
          "No Change",
          "Worst",
          "Worst",
          "Improvement",
          "Improvement",
          "Improvement",
          "Improvement",
          "Improvement",
          "Improvement",
          "Worst",
          "No Change",
          "Big Improvement",
          "Improvement",
          "Improvement",
          "Big Improvement",
          "Improvement",
          "Improvement",
          "Improvement",
          "Improvement",
          "Improvement",
          "Improvement",
          "Improvement",
          "Improvement",
          "Improvement",
          "Improvement",
          "Improvement",
          "Improvement",
          "Improvement",
          "Improvement",
          "Improvement",
          "Improvement",
          "Worst",
          "Improvement",
          "Worst",
          "Improvement",
          "Improvement",
          "Improvement",
          "Improvement",
          "Big Improvement",
          "Improvement",
          "No Change",
          "Improvement",
          "Worst",
          "No Change",
          "Improvement",
          "Improvement",
          "Improvement",
          "Improvement",
          "Improvement",
          "Worst",
          "Improvement",
          "Improvement",
          "Improvement",
          "Improvement",
          "No Change",
          "Improvement",
          "Improvement",
          "Improvement",
          "Improvement",
          "Big Improvement",
          "Worst",
          "Worst",
          "Improvement",
          "Worst",
          "Improvement",
          "Improvement",
          "Improvement",
          "Improvement",
          "Improvement",
          "Improvement",
          "Improvement",
          "Improvement",
          "Improvement",
          "Improvement",
          "Improvement",
          "Improvement",
          "Improvement",
          "Improvement",
          "Improvement",
          "Improvement",
          "Improvement",
          "Improvement",
          "Improvement",
          "Improvement",
          "Improvement",
          "Improvement",
          "Improvement"
         ],
         "xaxis": "x2",
         "yaxis": "y2"
        },
        {
         "name": "Response",
         "type": "histogram",
         "x": [
          "Full Response",
          "No Response",
          "No Response",
          "Full Response",
          "Partial Response",
          "Partial Response",
          "No Response",
          "Full Response",
          "Partial Response",
          "No Response",
          "Full Response",
          "No Response",
          "Partial Response",
          "Full Response",
          "Partial Response",
          "Partial Response",
          "Full Response",
          "Full Response",
          "No Response",
          "Full Response",
          "Partial Response",
          "Partial Response",
          "Full Response",
          "Partial Response",
          "Partial Response",
          "No Response",
          "No Response",
          "Full Response",
          "Full Response",
          "Partial Response",
          "No Response",
          "No Response",
          "No Response",
          "No Response",
          "No Response",
          "No Response",
          "No Response",
          "Full Response",
          "Partial Response",
          "Full Response",
          "Partial Response",
          "Full Response",
          "Full Response",
          "No Response",
          "No Response",
          "Full Response",
          "Full Response",
          "Partial Response",
          "Full Response",
          "Full Response",
          "Partial Response",
          "Full Response",
          "Full Response",
          "Partial Response",
          "Full Response",
          "Full Response",
          "Full Response",
          "Full Response",
          "Partial Response",
          "Full Response",
          "Partial Response",
          "Full Response",
          "Partial Response",
          "Full Response",
          "Full Response",
          "No Response",
          "Full Response",
          "No Response",
          "Full Response",
          "Full Response",
          "Full Response",
          "Full Response",
          "Full Response",
          "Partial Response",
          "No Response",
          "Partial Response",
          "No Response",
          "No Response",
          "Full Response",
          "Full Response",
          "Partial Response",
          "Full Response",
          "Full Response",
          "No Response",
          "Partial Response",
          "Full Response",
          "Full Response",
          "Full Response",
          "No Response",
          "Full Response",
          "Partial Response",
          "Partial Response",
          "Partial Response",
          "Full Response",
          "No Response",
          "No Response",
          "Full Response",
          "No Response",
          "Full Response",
          "Full Response",
          "Full Response",
          "Full Response",
          "Full Response",
          "Full Response",
          "Partial Response",
          "Full Response",
          "Full Response",
          "Partial Response",
          "Full Response",
          "Full Response",
          "Partial Response",
          "Partial Response",
          "Full Response",
          "Partial Response",
          "Full Response",
          "Full Response",
          "Full Response",
          "Partial Response",
          "Partial Response",
          "Partial Response",
          "Partial Response"
         ],
         "xaxis": "x3",
         "yaxis": "y3"
        }
       ],
       "layout": {
        "font": {
         "size": 15
        },
        "height": 900,
        "showlegend": true,
        "template": {
         "data": {
          "bar": [
           {
            "error_x": {
             "color": "#2a3f5f"
            },
            "error_y": {
             "color": "#2a3f5f"
            },
            "marker": {
             "line": {
              "color": "#E5ECF6",
              "width": 0.5
             },
             "pattern": {
              "fillmode": "overlay",
              "size": 10,
              "solidity": 0.2
             }
            },
            "type": "bar"
           }
          ],
          "barpolar": [
           {
            "marker": {
             "line": {
              "color": "#E5ECF6",
              "width": 0.5
             },
             "pattern": {
              "fillmode": "overlay",
              "size": 10,
              "solidity": 0.2
             }
            },
            "type": "barpolar"
           }
          ],
          "carpet": [
           {
            "aaxis": {
             "endlinecolor": "#2a3f5f",
             "gridcolor": "white",
             "linecolor": "white",
             "minorgridcolor": "white",
             "startlinecolor": "#2a3f5f"
            },
            "baxis": {
             "endlinecolor": "#2a3f5f",
             "gridcolor": "white",
             "linecolor": "white",
             "minorgridcolor": "white",
             "startlinecolor": "#2a3f5f"
            },
            "type": "carpet"
           }
          ],
          "choropleth": [
           {
            "colorbar": {
             "outlinewidth": 0,
             "ticks": ""
            },
            "type": "choropleth"
           }
          ],
          "contour": [
           {
            "colorbar": {
             "outlinewidth": 0,
             "ticks": ""
            },
            "colorscale": [
             [
              0,
              "#0d0887"
             ],
             [
              0.1111111111111111,
              "#46039f"
             ],
             [
              0.2222222222222222,
              "#7201a8"
             ],
             [
              0.3333333333333333,
              "#9c179e"
             ],
             [
              0.4444444444444444,
              "#bd3786"
             ],
             [
              0.5555555555555556,
              "#d8576b"
             ],
             [
              0.6666666666666666,
              "#ed7953"
             ],
             [
              0.7777777777777778,
              "#fb9f3a"
             ],
             [
              0.8888888888888888,
              "#fdca26"
             ],
             [
              1,
              "#f0f921"
             ]
            ],
            "type": "contour"
           }
          ],
          "contourcarpet": [
           {
            "colorbar": {
             "outlinewidth": 0,
             "ticks": ""
            },
            "type": "contourcarpet"
           }
          ],
          "heatmap": [
           {
            "colorbar": {
             "outlinewidth": 0,
             "ticks": ""
            },
            "colorscale": [
             [
              0,
              "#0d0887"
             ],
             [
              0.1111111111111111,
              "#46039f"
             ],
             [
              0.2222222222222222,
              "#7201a8"
             ],
             [
              0.3333333333333333,
              "#9c179e"
             ],
             [
              0.4444444444444444,
              "#bd3786"
             ],
             [
              0.5555555555555556,
              "#d8576b"
             ],
             [
              0.6666666666666666,
              "#ed7953"
             ],
             [
              0.7777777777777778,
              "#fb9f3a"
             ],
             [
              0.8888888888888888,
              "#fdca26"
             ],
             [
              1,
              "#f0f921"
             ]
            ],
            "type": "heatmap"
           }
          ],
          "heatmapgl": [
           {
            "colorbar": {
             "outlinewidth": 0,
             "ticks": ""
            },
            "colorscale": [
             [
              0,
              "#0d0887"
             ],
             [
              0.1111111111111111,
              "#46039f"
             ],
             [
              0.2222222222222222,
              "#7201a8"
             ],
             [
              0.3333333333333333,
              "#9c179e"
             ],
             [
              0.4444444444444444,
              "#bd3786"
             ],
             [
              0.5555555555555556,
              "#d8576b"
             ],
             [
              0.6666666666666666,
              "#ed7953"
             ],
             [
              0.7777777777777778,
              "#fb9f3a"
             ],
             [
              0.8888888888888888,
              "#fdca26"
             ],
             [
              1,
              "#f0f921"
             ]
            ],
            "type": "heatmapgl"
           }
          ],
          "histogram": [
           {
            "marker": {
             "pattern": {
              "fillmode": "overlay",
              "size": 10,
              "solidity": 0.2
             }
            },
            "type": "histogram"
           }
          ],
          "histogram2d": [
           {
            "colorbar": {
             "outlinewidth": 0,
             "ticks": ""
            },
            "colorscale": [
             [
              0,
              "#0d0887"
             ],
             [
              0.1111111111111111,
              "#46039f"
             ],
             [
              0.2222222222222222,
              "#7201a8"
             ],
             [
              0.3333333333333333,
              "#9c179e"
             ],
             [
              0.4444444444444444,
              "#bd3786"
             ],
             [
              0.5555555555555556,
              "#d8576b"
             ],
             [
              0.6666666666666666,
              "#ed7953"
             ],
             [
              0.7777777777777778,
              "#fb9f3a"
             ],
             [
              0.8888888888888888,
              "#fdca26"
             ],
             [
              1,
              "#f0f921"
             ]
            ],
            "type": "histogram2d"
           }
          ],
          "histogram2dcontour": [
           {
            "colorbar": {
             "outlinewidth": 0,
             "ticks": ""
            },
            "colorscale": [
             [
              0,
              "#0d0887"
             ],
             [
              0.1111111111111111,
              "#46039f"
             ],
             [
              0.2222222222222222,
              "#7201a8"
             ],
             [
              0.3333333333333333,
              "#9c179e"
             ],
             [
              0.4444444444444444,
              "#bd3786"
             ],
             [
              0.5555555555555556,
              "#d8576b"
             ],
             [
              0.6666666666666666,
              "#ed7953"
             ],
             [
              0.7777777777777778,
              "#fb9f3a"
             ],
             [
              0.8888888888888888,
              "#fdca26"
             ],
             [
              1,
              "#f0f921"
             ]
            ],
            "type": "histogram2dcontour"
           }
          ],
          "mesh3d": [
           {
            "colorbar": {
             "outlinewidth": 0,
             "ticks": ""
            },
            "type": "mesh3d"
           }
          ],
          "parcoords": [
           {
            "line": {
             "colorbar": {
              "outlinewidth": 0,
              "ticks": ""
             }
            },
            "type": "parcoords"
           }
          ],
          "pie": [
           {
            "automargin": true,
            "type": "pie"
           }
          ],
          "scatter": [
           {
            "fillpattern": {
             "fillmode": "overlay",
             "size": 10,
             "solidity": 0.2
            },
            "type": "scatter"
           }
          ],
          "scatter3d": [
           {
            "line": {
             "colorbar": {
              "outlinewidth": 0,
              "ticks": ""
             }
            },
            "marker": {
             "colorbar": {
              "outlinewidth": 0,
              "ticks": ""
             }
            },
            "type": "scatter3d"
           }
          ],
          "scattercarpet": [
           {
            "marker": {
             "colorbar": {
              "outlinewidth": 0,
              "ticks": ""
             }
            },
            "type": "scattercarpet"
           }
          ],
          "scattergeo": [
           {
            "marker": {
             "colorbar": {
              "outlinewidth": 0,
              "ticks": ""
             }
            },
            "type": "scattergeo"
           }
          ],
          "scattergl": [
           {
            "marker": {
             "colorbar": {
              "outlinewidth": 0,
              "ticks": ""
             }
            },
            "type": "scattergl"
           }
          ],
          "scattermapbox": [
           {
            "marker": {
             "colorbar": {
              "outlinewidth": 0,
              "ticks": ""
             }
            },
            "type": "scattermapbox"
           }
          ],
          "scatterpolar": [
           {
            "marker": {
             "colorbar": {
              "outlinewidth": 0,
              "ticks": ""
             }
            },
            "type": "scatterpolar"
           }
          ],
          "scatterpolargl": [
           {
            "marker": {
             "colorbar": {
              "outlinewidth": 0,
              "ticks": ""
             }
            },
            "type": "scatterpolargl"
           }
          ],
          "scatterternary": [
           {
            "marker": {
             "colorbar": {
              "outlinewidth": 0,
              "ticks": ""
             }
            },
            "type": "scatterternary"
           }
          ],
          "surface": [
           {
            "colorbar": {
             "outlinewidth": 0,
             "ticks": ""
            },
            "colorscale": [
             [
              0,
              "#0d0887"
             ],
             [
              0.1111111111111111,
              "#46039f"
             ],
             [
              0.2222222222222222,
              "#7201a8"
             ],
             [
              0.3333333333333333,
              "#9c179e"
             ],
             [
              0.4444444444444444,
              "#bd3786"
             ],
             [
              0.5555555555555556,
              "#d8576b"
             ],
             [
              0.6666666666666666,
              "#ed7953"
             ],
             [
              0.7777777777777778,
              "#fb9f3a"
             ],
             [
              0.8888888888888888,
              "#fdca26"
             ],
             [
              1,
              "#f0f921"
             ]
            ],
            "type": "surface"
           }
          ],
          "table": [
           {
            "cells": {
             "fill": {
              "color": "#EBF0F8"
             },
             "line": {
              "color": "white"
             }
            },
            "header": {
             "fill": {
              "color": "#C8D4E3"
             },
             "line": {
              "color": "white"
             }
            },
            "type": "table"
           }
          ]
         },
         "layout": {
          "annotationdefaults": {
           "arrowcolor": "#2a3f5f",
           "arrowhead": 0,
           "arrowwidth": 1
          },
          "autotypenumbers": "strict",
          "coloraxis": {
           "colorbar": {
            "outlinewidth": 0,
            "ticks": ""
           }
          },
          "colorscale": {
           "diverging": [
            [
             0,
             "#8e0152"
            ],
            [
             0.1,
             "#c51b7d"
            ],
            [
             0.2,
             "#de77ae"
            ],
            [
             0.3,
             "#f1b6da"
            ],
            [
             0.4,
             "#fde0ef"
            ],
            [
             0.5,
             "#f7f7f7"
            ],
            [
             0.6,
             "#e6f5d0"
            ],
            [
             0.7,
             "#b8e186"
            ],
            [
             0.8,
             "#7fbc41"
            ],
            [
             0.9,
             "#4d9221"
            ],
            [
             1,
             "#276419"
            ]
           ],
           "sequential": [
            [
             0,
             "#0d0887"
            ],
            [
             0.1111111111111111,
             "#46039f"
            ],
            [
             0.2222222222222222,
             "#7201a8"
            ],
            [
             0.3333333333333333,
             "#9c179e"
            ],
            [
             0.4444444444444444,
             "#bd3786"
            ],
            [
             0.5555555555555556,
             "#d8576b"
            ],
            [
             0.6666666666666666,
             "#ed7953"
            ],
            [
             0.7777777777777778,
             "#fb9f3a"
            ],
            [
             0.8888888888888888,
             "#fdca26"
            ],
            [
             1,
             "#f0f921"
            ]
           ],
           "sequentialminus": [
            [
             0,
             "#0d0887"
            ],
            [
             0.1111111111111111,
             "#46039f"
            ],
            [
             0.2222222222222222,
             "#7201a8"
            ],
            [
             0.3333333333333333,
             "#9c179e"
            ],
            [
             0.4444444444444444,
             "#bd3786"
            ],
            [
             0.5555555555555556,
             "#d8576b"
            ],
            [
             0.6666666666666666,
             "#ed7953"
            ],
            [
             0.7777777777777778,
             "#fb9f3a"
            ],
            [
             0.8888888888888888,
             "#fdca26"
            ],
            [
             1,
             "#f0f921"
            ]
           ]
          },
          "colorway": [
           "#636efa",
           "#EF553B",
           "#00cc96",
           "#ab63fa",
           "#FFA15A",
           "#19d3f3",
           "#FF6692",
           "#B6E880",
           "#FF97FF",
           "#FECB52"
          ],
          "font": {
           "color": "#2a3f5f"
          },
          "geo": {
           "bgcolor": "white",
           "lakecolor": "white",
           "landcolor": "#E5ECF6",
           "showlakes": true,
           "showland": true,
           "subunitcolor": "white"
          },
          "hoverlabel": {
           "align": "left"
          },
          "hovermode": "closest",
          "mapbox": {
           "style": "light"
          },
          "paper_bgcolor": "white",
          "plot_bgcolor": "#E5ECF6",
          "polar": {
           "angularaxis": {
            "gridcolor": "white",
            "linecolor": "white",
            "ticks": ""
           },
           "bgcolor": "#E5ECF6",
           "radialaxis": {
            "gridcolor": "white",
            "linecolor": "white",
            "ticks": ""
           }
          },
          "scene": {
           "xaxis": {
            "backgroundcolor": "#E5ECF6",
            "gridcolor": "white",
            "gridwidth": 2,
            "linecolor": "white",
            "showbackground": true,
            "ticks": "",
            "zerolinecolor": "white"
           },
           "yaxis": {
            "backgroundcolor": "#E5ECF6",
            "gridcolor": "white",
            "gridwidth": 2,
            "linecolor": "white",
            "showbackground": true,
            "ticks": "",
            "zerolinecolor": "white"
           },
           "zaxis": {
            "backgroundcolor": "#E5ECF6",
            "gridcolor": "white",
            "gridwidth": 2,
            "linecolor": "white",
            "showbackground": true,
            "ticks": "",
            "zerolinecolor": "white"
           }
          },
          "shapedefaults": {
           "line": {
            "color": "#2a3f5f"
           }
          },
          "ternary": {
           "aaxis": {
            "gridcolor": "white",
            "linecolor": "white",
            "ticks": ""
           },
           "baxis": {
            "gridcolor": "white",
            "linecolor": "white",
            "ticks": ""
           },
           "bgcolor": "#E5ECF6",
           "caxis": {
            "gridcolor": "white",
            "linecolor": "white",
            "ticks": ""
           }
          },
          "title": {
           "x": 0.05
          },
          "xaxis": {
           "automargin": true,
           "gridcolor": "white",
           "linecolor": "white",
           "ticks": "",
           "title": {
            "standoff": 15
           },
           "zerolinecolor": "white",
           "zerolinewidth": 2
          },
          "yaxis": {
           "automargin": true,
           "gridcolor": "white",
           "linecolor": "white",
           "ticks": "",
           "title": {
            "standoff": 15
           },
           "zerolinecolor": "white",
           "zerolinewidth": 2
          }
         }
        },
        "title": {
         "font": {
          "size": 20
         },
         "text": "Figure 13. Neither Agitation nor Retardation with Patients taking Duloxetine",
         "x": 0.5,
         "xanchor": "center"
        },
        "width": 1600,
        "xaxis": {
         "anchor": "y",
         "categoryarray": [
          "Full Remission",
          "Remission",
          "Partial Remission",
          "No/Mild Remission"
         ],
         "categoryorder": "array",
         "domain": [
          0,
          0.32
         ],
         "tickangle": -45
        },
        "xaxis2": {
         "anchor": "y2",
         "categoryarray": [
          "Worst",
          "No Change",
          "Improvement",
          "Big Improvement"
         ],
         "categoryorder": "array",
         "domain": [
          0.34,
          0.66
         ],
         "tickangle": -45,
         "title": {
          "text": "Drug Efficiency Labels"
         }
        },
        "xaxis3": {
         "anchor": "y3",
         "categoryarray": [
          "No Response",
          "Partial Response",
          "Full Response"
         ],
         "categoryorder": "array",
         "domain": [
          0.68,
          1
         ],
         "tickangle": -45
        },
        "yaxis": {
         "anchor": "x",
         "domain": [
          0,
          1
         ],
         "title": {
          "text": "Count"
         }
        },
        "yaxis2": {
         "anchor": "x2",
         "domain": [
          0,
          1
         ],
         "matches": "y",
         "showticklabels": false
        },
        "yaxis3": {
         "anchor": "x3",
         "domain": [
          0,
          1
         ],
         "matches": "y",
         "showticklabels": false
        }
       }
      },
      "text/html": [
       "<div>                            <div id=\"9741a2cb-65ae-4f5a-951e-fe28e53e13ed\" class=\"plotly-graph-div\" style=\"height:900px; width:1600px;\"></div>            <script type=\"text/javascript\">                require([\"plotly\"], function(Plotly) {                    window.PLOTLYENV=window.PLOTLYENV || {};                                    if (document.getElementById(\"9741a2cb-65ae-4f5a-951e-fe28e53e13ed\")) {                    Plotly.newPlot(                        \"9741a2cb-65ae-4f5a-951e-fe28e53e13ed\",                        [{\"name\":\"Remission\",\"x\":[\"Full Remission\",\"Remission\",\"Remission\",\"Full Remission\",\"Remission\",\"Full Remission\",\"Remission\",\"Full Remission\",\"Remission\",\"Remission\",\"Full Remission\",\"Remission\",\"Partial Remission\",\"Full Remission\",\"Partial Remission\",\"Full Remission\",\"Full Remission\",\"Full Remission\",\"Remission\",\"Full Remission\",\"Partial Remission\",\"Remission\",\"Full Remission\",\"Remission\",\"Remission\",\"Full Remission\",\"Remission\",\"Full Remission\",\"Full Remission\",\"Remission\",\"Remission\",\"Remission\",\"Partial Remission\",\"Remission\",\"Remission\",\"No/Mild Remission\",\"Remission\",\"Full Remission\",\"Full Remission\",\"Full Remission\",\"Remission\",\"Remission\",\"Remission\",\"No/Mild Remission\",\"Partial Remission\",\"Full Remission\",\"Full Remission\",\"Remission\",\"Full Remission\",\"Remission\",\"Remission\",\"Full Remission\",\"Full Remission\",\"Full Remission\",\"Full Remission\",\"Full Remission\",\"Full Remission\",\"Full Remission\",\"Full Remission\",\"Full Remission\",\"Remission\",\"Full Remission\",\"Full Remission\",\"Full Remission\",\"Full Remission\",\"Full Remission\",\"Full Remission\",\"Remission\",\"Full Remission\",\"Full Remission\",\"Full Remission\",\"Full Remission\",\"Full Remission\",\"Remission\",\"Full Remission\",\"Remission\",\"Remission\",\"Remission\",\"Full Remission\",\"Full Remission\",\"Full Remission\",\"Full Remission\",\"Full Remission\",\"Remission\",\"Full Remission\",\"Full Remission\",\"Full Remission\",\"Full Remission\",\"Full Remission\",\"Full Remission\",\"Full Remission\",\"Full Remission\",\"Full Remission\",\"Full Remission\",\"Remission\",\"Remission\",\"Full Remission\",\"Partial Remission\",\"Full Remission\",\"Full Remission\",\"Full Remission\",\"Full Remission\",\"Full Remission\",\"Full Remission\",\"Remission\",\"Full Remission\",\"Full Remission\",\"Remission\",\"Full Remission\",\"Full Remission\",\"Remission\",\"Remission\",\"Full Remission\",\"Remission\",\"Full Remission\",\"Full Remission\",\"Full Remission\",\"Remission\",\"Remission\",\"Full Remission\",\"Full Remission\"],\"type\":\"histogram\",\"xaxis\":\"x\",\"yaxis\":\"y\"},{\"name\":\"Difference\",\"x\":[\"Improvement\",\"Worst\",\"Worst\",\"Improvement\",\"Improvement\",\"Improvement\",\"No Change\",\"Improvement\",\"Improvement\",\"No Change\",\"Big Improvement\",\"Worst\",\"Improvement\",\"Improvement\",\"Improvement\",\"Improvement\",\"Improvement\",\"Improvement\",\"Worst\",\"Improvement\",\"Improvement\",\"Improvement\",\"Improvement\",\"Improvement\",\"Improvement\",\"No Change\",\"Worst\",\"Improvement\",\"Improvement\",\"Improvement\",\"Worst\",\"Worst\",\"Worst\",\"Worst\",\"No Change\",\"Worst\",\"Worst\",\"Improvement\",\"Improvement\",\"Improvement\",\"Improvement\",\"Improvement\",\"Improvement\",\"Worst\",\"No Change\",\"Big Improvement\",\"Improvement\",\"Improvement\",\"Big Improvement\",\"Improvement\",\"Improvement\",\"Improvement\",\"Improvement\",\"Improvement\",\"Improvement\",\"Improvement\",\"Improvement\",\"Improvement\",\"Improvement\",\"Improvement\",\"Improvement\",\"Improvement\",\"Improvement\",\"Improvement\",\"Improvement\",\"Worst\",\"Improvement\",\"Worst\",\"Improvement\",\"Improvement\",\"Improvement\",\"Improvement\",\"Big Improvement\",\"Improvement\",\"No Change\",\"Improvement\",\"Worst\",\"No Change\",\"Improvement\",\"Improvement\",\"Improvement\",\"Improvement\",\"Improvement\",\"Worst\",\"Improvement\",\"Improvement\",\"Improvement\",\"Improvement\",\"No Change\",\"Improvement\",\"Improvement\",\"Improvement\",\"Improvement\",\"Big Improvement\",\"Worst\",\"Worst\",\"Improvement\",\"Worst\",\"Improvement\",\"Improvement\",\"Improvement\",\"Improvement\",\"Improvement\",\"Improvement\",\"Improvement\",\"Improvement\",\"Improvement\",\"Improvement\",\"Improvement\",\"Improvement\",\"Improvement\",\"Improvement\",\"Improvement\",\"Improvement\",\"Improvement\",\"Improvement\",\"Improvement\",\"Improvement\",\"Improvement\",\"Improvement\",\"Improvement\"],\"type\":\"histogram\",\"xaxis\":\"x2\",\"yaxis\":\"y2\"},{\"name\":\"Response\",\"x\":[\"Full Response\",\"No Response\",\"No Response\",\"Full Response\",\"Partial Response\",\"Partial Response\",\"No Response\",\"Full Response\",\"Partial Response\",\"No Response\",\"Full Response\",\"No Response\",\"Partial Response\",\"Full Response\",\"Partial Response\",\"Partial Response\",\"Full Response\",\"Full Response\",\"No Response\",\"Full Response\",\"Partial Response\",\"Partial Response\",\"Full Response\",\"Partial Response\",\"Partial Response\",\"No Response\",\"No Response\",\"Full Response\",\"Full Response\",\"Partial Response\",\"No Response\",\"No Response\",\"No Response\",\"No Response\",\"No Response\",\"No Response\",\"No Response\",\"Full Response\",\"Partial Response\",\"Full Response\",\"Partial Response\",\"Full Response\",\"Full Response\",\"No Response\",\"No Response\",\"Full Response\",\"Full Response\",\"Partial Response\",\"Full Response\",\"Full Response\",\"Partial Response\",\"Full Response\",\"Full Response\",\"Partial Response\",\"Full Response\",\"Full Response\",\"Full Response\",\"Full Response\",\"Partial Response\",\"Full Response\",\"Partial Response\",\"Full Response\",\"Partial Response\",\"Full Response\",\"Full Response\",\"No Response\",\"Full Response\",\"No Response\",\"Full Response\",\"Full Response\",\"Full Response\",\"Full Response\",\"Full Response\",\"Partial Response\",\"No Response\",\"Partial Response\",\"No Response\",\"No Response\",\"Full Response\",\"Full Response\",\"Partial Response\",\"Full Response\",\"Full Response\",\"No Response\",\"Partial Response\",\"Full Response\",\"Full Response\",\"Full Response\",\"No Response\",\"Full Response\",\"Partial Response\",\"Partial Response\",\"Partial Response\",\"Full Response\",\"No Response\",\"No Response\",\"Full Response\",\"No Response\",\"Full Response\",\"Full Response\",\"Full Response\",\"Full Response\",\"Full Response\",\"Full Response\",\"Partial Response\",\"Full Response\",\"Full Response\",\"Partial Response\",\"Full Response\",\"Full Response\",\"Partial Response\",\"Partial Response\",\"Full Response\",\"Partial Response\",\"Full Response\",\"Full Response\",\"Full Response\",\"Partial Response\",\"Partial Response\",\"Partial Response\",\"Partial Response\"],\"type\":\"histogram\",\"xaxis\":\"x3\",\"yaxis\":\"y3\"}],                        {\"template\":{\"data\":{\"histogram2dcontour\":[{\"type\":\"histogram2dcontour\",\"colorbar\":{\"outlinewidth\":0,\"ticks\":\"\"},\"colorscale\":[[0.0,\"#0d0887\"],[0.1111111111111111,\"#46039f\"],[0.2222222222222222,\"#7201a8\"],[0.3333333333333333,\"#9c179e\"],[0.4444444444444444,\"#bd3786\"],[0.5555555555555556,\"#d8576b\"],[0.6666666666666666,\"#ed7953\"],[0.7777777777777778,\"#fb9f3a\"],[0.8888888888888888,\"#fdca26\"],[1.0,\"#f0f921\"]]}],\"choropleth\":[{\"type\":\"choropleth\",\"colorbar\":{\"outlinewidth\":0,\"ticks\":\"\"}}],\"histogram2d\":[{\"type\":\"histogram2d\",\"colorbar\":{\"outlinewidth\":0,\"ticks\":\"\"},\"colorscale\":[[0.0,\"#0d0887\"],[0.1111111111111111,\"#46039f\"],[0.2222222222222222,\"#7201a8\"],[0.3333333333333333,\"#9c179e\"],[0.4444444444444444,\"#bd3786\"],[0.5555555555555556,\"#d8576b\"],[0.6666666666666666,\"#ed7953\"],[0.7777777777777778,\"#fb9f3a\"],[0.8888888888888888,\"#fdca26\"],[1.0,\"#f0f921\"]]}],\"heatmap\":[{\"type\":\"heatmap\",\"colorbar\":{\"outlinewidth\":0,\"ticks\":\"\"},\"colorscale\":[[0.0,\"#0d0887\"],[0.1111111111111111,\"#46039f\"],[0.2222222222222222,\"#7201a8\"],[0.3333333333333333,\"#9c179e\"],[0.4444444444444444,\"#bd3786\"],[0.5555555555555556,\"#d8576b\"],[0.6666666666666666,\"#ed7953\"],[0.7777777777777778,\"#fb9f3a\"],[0.8888888888888888,\"#fdca26\"],[1.0,\"#f0f921\"]]}],\"heatmapgl\":[{\"type\":\"heatmapgl\",\"colorbar\":{\"outlinewidth\":0,\"ticks\":\"\"},\"colorscale\":[[0.0,\"#0d0887\"],[0.1111111111111111,\"#46039f\"],[0.2222222222222222,\"#7201a8\"],[0.3333333333333333,\"#9c179e\"],[0.4444444444444444,\"#bd3786\"],[0.5555555555555556,\"#d8576b\"],[0.6666666666666666,\"#ed7953\"],[0.7777777777777778,\"#fb9f3a\"],[0.8888888888888888,\"#fdca26\"],[1.0,\"#f0f921\"]]}],\"contourcarpet\":[{\"type\":\"contourcarpet\",\"colorbar\":{\"outlinewidth\":0,\"ticks\":\"\"}}],\"contour\":[{\"type\":\"contour\",\"colorbar\":{\"outlinewidth\":0,\"ticks\":\"\"},\"colorscale\":[[0.0,\"#0d0887\"],[0.1111111111111111,\"#46039f\"],[0.2222222222222222,\"#7201a8\"],[0.3333333333333333,\"#9c179e\"],[0.4444444444444444,\"#bd3786\"],[0.5555555555555556,\"#d8576b\"],[0.6666666666666666,\"#ed7953\"],[0.7777777777777778,\"#fb9f3a\"],[0.8888888888888888,\"#fdca26\"],[1.0,\"#f0f921\"]]}],\"surface\":[{\"type\":\"surface\",\"colorbar\":{\"outlinewidth\":0,\"ticks\":\"\"},\"colorscale\":[[0.0,\"#0d0887\"],[0.1111111111111111,\"#46039f\"],[0.2222222222222222,\"#7201a8\"],[0.3333333333333333,\"#9c179e\"],[0.4444444444444444,\"#bd3786\"],[0.5555555555555556,\"#d8576b\"],[0.6666666666666666,\"#ed7953\"],[0.7777777777777778,\"#fb9f3a\"],[0.8888888888888888,\"#fdca26\"],[1.0,\"#f0f921\"]]}],\"mesh3d\":[{\"type\":\"mesh3d\",\"colorbar\":{\"outlinewidth\":0,\"ticks\":\"\"}}],\"scatter\":[{\"fillpattern\":{\"fillmode\":\"overlay\",\"size\":10,\"solidity\":0.2},\"type\":\"scatter\"}],\"parcoords\":[{\"type\":\"parcoords\",\"line\":{\"colorbar\":{\"outlinewidth\":0,\"ticks\":\"\"}}}],\"scatterpolargl\":[{\"type\":\"scatterpolargl\",\"marker\":{\"colorbar\":{\"outlinewidth\":0,\"ticks\":\"\"}}}],\"bar\":[{\"error_x\":{\"color\":\"#2a3f5f\"},\"error_y\":{\"color\":\"#2a3f5f\"},\"marker\":{\"line\":{\"color\":\"#E5ECF6\",\"width\":0.5},\"pattern\":{\"fillmode\":\"overlay\",\"size\":10,\"solidity\":0.2}},\"type\":\"bar\"}],\"scattergeo\":[{\"type\":\"scattergeo\",\"marker\":{\"colorbar\":{\"outlinewidth\":0,\"ticks\":\"\"}}}],\"scatterpolar\":[{\"type\":\"scatterpolar\",\"marker\":{\"colorbar\":{\"outlinewidth\":0,\"ticks\":\"\"}}}],\"histogram\":[{\"marker\":{\"pattern\":{\"fillmode\":\"overlay\",\"size\":10,\"solidity\":0.2}},\"type\":\"histogram\"}],\"scattergl\":[{\"type\":\"scattergl\",\"marker\":{\"colorbar\":{\"outlinewidth\":0,\"ticks\":\"\"}}}],\"scatter3d\":[{\"type\":\"scatter3d\",\"line\":{\"colorbar\":{\"outlinewidth\":0,\"ticks\":\"\"}},\"marker\":{\"colorbar\":{\"outlinewidth\":0,\"ticks\":\"\"}}}],\"scattermapbox\":[{\"type\":\"scattermapbox\",\"marker\":{\"colorbar\":{\"outlinewidth\":0,\"ticks\":\"\"}}}],\"scatterternary\":[{\"type\":\"scatterternary\",\"marker\":{\"colorbar\":{\"outlinewidth\":0,\"ticks\":\"\"}}}],\"scattercarpet\":[{\"type\":\"scattercarpet\",\"marker\":{\"colorbar\":{\"outlinewidth\":0,\"ticks\":\"\"}}}],\"carpet\":[{\"aaxis\":{\"endlinecolor\":\"#2a3f5f\",\"gridcolor\":\"white\",\"linecolor\":\"white\",\"minorgridcolor\":\"white\",\"startlinecolor\":\"#2a3f5f\"},\"baxis\":{\"endlinecolor\":\"#2a3f5f\",\"gridcolor\":\"white\",\"linecolor\":\"white\",\"minorgridcolor\":\"white\",\"startlinecolor\":\"#2a3f5f\"},\"type\":\"carpet\"}],\"table\":[{\"cells\":{\"fill\":{\"color\":\"#EBF0F8\"},\"line\":{\"color\":\"white\"}},\"header\":{\"fill\":{\"color\":\"#C8D4E3\"},\"line\":{\"color\":\"white\"}},\"type\":\"table\"}],\"barpolar\":[{\"marker\":{\"line\":{\"color\":\"#E5ECF6\",\"width\":0.5},\"pattern\":{\"fillmode\":\"overlay\",\"size\":10,\"solidity\":0.2}},\"type\":\"barpolar\"}],\"pie\":[{\"automargin\":true,\"type\":\"pie\"}]},\"layout\":{\"autotypenumbers\":\"strict\",\"colorway\":[\"#636efa\",\"#EF553B\",\"#00cc96\",\"#ab63fa\",\"#FFA15A\",\"#19d3f3\",\"#FF6692\",\"#B6E880\",\"#FF97FF\",\"#FECB52\"],\"font\":{\"color\":\"#2a3f5f\"},\"hovermode\":\"closest\",\"hoverlabel\":{\"align\":\"left\"},\"paper_bgcolor\":\"white\",\"plot_bgcolor\":\"#E5ECF6\",\"polar\":{\"bgcolor\":\"#E5ECF6\",\"angularaxis\":{\"gridcolor\":\"white\",\"linecolor\":\"white\",\"ticks\":\"\"},\"radialaxis\":{\"gridcolor\":\"white\",\"linecolor\":\"white\",\"ticks\":\"\"}},\"ternary\":{\"bgcolor\":\"#E5ECF6\",\"aaxis\":{\"gridcolor\":\"white\",\"linecolor\":\"white\",\"ticks\":\"\"},\"baxis\":{\"gridcolor\":\"white\",\"linecolor\":\"white\",\"ticks\":\"\"},\"caxis\":{\"gridcolor\":\"white\",\"linecolor\":\"white\",\"ticks\":\"\"}},\"coloraxis\":{\"colorbar\":{\"outlinewidth\":0,\"ticks\":\"\"}},\"colorscale\":{\"sequential\":[[0.0,\"#0d0887\"],[0.1111111111111111,\"#46039f\"],[0.2222222222222222,\"#7201a8\"],[0.3333333333333333,\"#9c179e\"],[0.4444444444444444,\"#bd3786\"],[0.5555555555555556,\"#d8576b\"],[0.6666666666666666,\"#ed7953\"],[0.7777777777777778,\"#fb9f3a\"],[0.8888888888888888,\"#fdca26\"],[1.0,\"#f0f921\"]],\"sequentialminus\":[[0.0,\"#0d0887\"],[0.1111111111111111,\"#46039f\"],[0.2222222222222222,\"#7201a8\"],[0.3333333333333333,\"#9c179e\"],[0.4444444444444444,\"#bd3786\"],[0.5555555555555556,\"#d8576b\"],[0.6666666666666666,\"#ed7953\"],[0.7777777777777778,\"#fb9f3a\"],[0.8888888888888888,\"#fdca26\"],[1.0,\"#f0f921\"]],\"diverging\":[[0,\"#8e0152\"],[0.1,\"#c51b7d\"],[0.2,\"#de77ae\"],[0.3,\"#f1b6da\"],[0.4,\"#fde0ef\"],[0.5,\"#f7f7f7\"],[0.6,\"#e6f5d0\"],[0.7,\"#b8e186\"],[0.8,\"#7fbc41\"],[0.9,\"#4d9221\"],[1,\"#276419\"]]},\"xaxis\":{\"gridcolor\":\"white\",\"linecolor\":\"white\",\"ticks\":\"\",\"title\":{\"standoff\":15},\"zerolinecolor\":\"white\",\"automargin\":true,\"zerolinewidth\":2},\"yaxis\":{\"gridcolor\":\"white\",\"linecolor\":\"white\",\"ticks\":\"\",\"title\":{\"standoff\":15},\"zerolinecolor\":\"white\",\"automargin\":true,\"zerolinewidth\":2},\"scene\":{\"xaxis\":{\"backgroundcolor\":\"#E5ECF6\",\"gridcolor\":\"white\",\"linecolor\":\"white\",\"showbackground\":true,\"ticks\":\"\",\"zerolinecolor\":\"white\",\"gridwidth\":2},\"yaxis\":{\"backgroundcolor\":\"#E5ECF6\",\"gridcolor\":\"white\",\"linecolor\":\"white\",\"showbackground\":true,\"ticks\":\"\",\"zerolinecolor\":\"white\",\"gridwidth\":2},\"zaxis\":{\"backgroundcolor\":\"#E5ECF6\",\"gridcolor\":\"white\",\"linecolor\":\"white\",\"showbackground\":true,\"ticks\":\"\",\"zerolinecolor\":\"white\",\"gridwidth\":2}},\"shapedefaults\":{\"line\":{\"color\":\"#2a3f5f\"}},\"annotationdefaults\":{\"arrowcolor\":\"#2a3f5f\",\"arrowhead\":0,\"arrowwidth\":1},\"geo\":{\"bgcolor\":\"white\",\"landcolor\":\"#E5ECF6\",\"subunitcolor\":\"white\",\"showland\":true,\"showlakes\":true,\"lakecolor\":\"white\"},\"title\":{\"x\":0.05},\"mapbox\":{\"style\":\"light\"}}},\"xaxis\":{\"anchor\":\"y\",\"domain\":[0.0,0.32],\"categoryorder\":\"array\",\"categoryarray\":[\"Full Remission\",\"Remission\",\"Partial Remission\",\"No/Mild Remission\"],\"tickangle\":-45},\"yaxis\":{\"anchor\":\"x\",\"domain\":[0.0,1.0],\"title\":{\"text\":\"Count\"}},\"xaxis2\":{\"anchor\":\"y2\",\"domain\":[0.34,0.66],\"categoryorder\":\"array\",\"categoryarray\":[\"Worst\",\"No Change\",\"Improvement\",\"Big Improvement\"],\"title\":{\"text\":\"Drug Efficiency Labels\"},\"tickangle\":-45},\"yaxis2\":{\"anchor\":\"x2\",\"domain\":[0.0,1.0],\"matches\":\"y\",\"showticklabels\":false},\"xaxis3\":{\"anchor\":\"y3\",\"domain\":[0.68,1.0],\"categoryorder\":\"array\",\"categoryarray\":[\"No Response\",\"Partial Response\",\"Full Response\"],\"tickangle\":-45},\"yaxis3\":{\"anchor\":\"x3\",\"domain\":[0.0,1.0],\"matches\":\"y\",\"showticklabels\":false},\"font\":{\"size\":15},\"title\":{\"font\":{\"size\":20},\"text\":\"Figure 13. Neither Agitation nor Retardation with Patients taking Duloxetine\",\"x\":0.5,\"xanchor\":\"center\"},\"showlegend\":true,\"width\":1600,\"height\":900},                        {\"responsive\": true}                    ).then(function(){\n",
       "                            \n",
       "var gd = document.getElementById('9741a2cb-65ae-4f5a-951e-fe28e53e13ed');\n",
       "var x = new MutationObserver(function (mutations, observer) {{\n",
       "        var display = window.getComputedStyle(gd).display;\n",
       "        if (!display || display === 'none') {{\n",
       "            console.log([gd, 'removed!']);\n",
       "            Plotly.purge(gd);\n",
       "            observer.disconnect();\n",
       "        }}\n",
       "}});\n",
       "\n",
       "// Listen for the removal of the full notebook cells\n",
       "var notebookContainer = gd.closest('#notebook-container');\n",
       "if (notebookContainer) {{\n",
       "    x.observe(notebookContainer, {childList: true});\n",
       "}}\n",
       "\n",
       "// Listen for the clearing of the current output cell\n",
       "var outputEl = gd.closest('.output');\n",
       "if (outputEl) {{\n",
       "    x.observe(outputEl, {childList: true});\n",
       "}}\n",
       "\n",
       "                        })                };                });            </script>        </div>"
      ]
     },
     "metadata": {},
     "output_type": "display_data"
    },
    {
     "data": {
      "text/html": [
       "<div>\n",
       "<style scoped>\n",
       "    .dataframe tbody tr th:only-of-type {\n",
       "        vertical-align: middle;\n",
       "    }\n",
       "\n",
       "    .dataframe tbody tr th {\n",
       "        vertical-align: top;\n",
       "    }\n",
       "\n",
       "    .dataframe thead th {\n",
       "        text-align: right;\n",
       "    }\n",
       "</style>\n",
       "<table border=\"1\" class=\"dataframe\">\n",
       "  <thead>\n",
       "    <tr style=\"text-align: right;\">\n",
       "      <th></th>\n",
       "      <th>V1-HAMD08</th>\n",
       "      <th>V1-HAMD09</th>\n",
       "      <th>V1-all</th>\n",
       "      <th>level</th>\n",
       "      <th>DRUG</th>\n",
       "      <th>Remission</th>\n",
       "      <th>Difference</th>\n",
       "      <th>Response</th>\n",
       "    </tr>\n",
       "  </thead>\n",
       "  <tbody>\n",
       "    <tr>\n",
       "      <th>0</th>\n",
       "      <td>0</td>\n",
       "      <td>0</td>\n",
       "      <td>7</td>\n",
       "      <td>mild</td>\n",
       "      <td>Duloxetine</td>\n",
       "      <td>Full Remission</td>\n",
       "      <td>Improvement</td>\n",
       "      <td>Full Response</td>\n",
       "    </tr>\n",
       "    <tr>\n",
       "      <th>3</th>\n",
       "      <td>0</td>\n",
       "      <td>0</td>\n",
       "      <td>6</td>\n",
       "      <td>mild</td>\n",
       "      <td>Duloxetine</td>\n",
       "      <td>Remission</td>\n",
       "      <td>Worst</td>\n",
       "      <td>No Response</td>\n",
       "    </tr>\n",
       "    <tr>\n",
       "      <th>4</th>\n",
       "      <td>0</td>\n",
       "      <td>0</td>\n",
       "      <td>8</td>\n",
       "      <td>mild</td>\n",
       "      <td>Duloxetine</td>\n",
       "      <td>Remission</td>\n",
       "      <td>Worst</td>\n",
       "      <td>No Response</td>\n",
       "    </tr>\n",
       "    <tr>\n",
       "      <th>5</th>\n",
       "      <td>0</td>\n",
       "      <td>0</td>\n",
       "      <td>6</td>\n",
       "      <td>mild</td>\n",
       "      <td>Duloxetine</td>\n",
       "      <td>Full Remission</td>\n",
       "      <td>Improvement</td>\n",
       "      <td>Full Response</td>\n",
       "    </tr>\n",
       "    <tr>\n",
       "      <th>7</th>\n",
       "      <td>0</td>\n",
       "      <td>0</td>\n",
       "      <td>13</td>\n",
       "      <td>mild</td>\n",
       "      <td>Duloxetine</td>\n",
       "      <td>Remission</td>\n",
       "      <td>Improvement</td>\n",
       "      <td>Partial Response</td>\n",
       "    </tr>\n",
       "    <tr>\n",
       "      <th>...</th>\n",
       "      <td>...</td>\n",
       "      <td>...</td>\n",
       "      <td>...</td>\n",
       "      <td>...</td>\n",
       "      <td>...</td>\n",
       "      <td>...</td>\n",
       "      <td>...</td>\n",
       "      <td>...</td>\n",
       "    </tr>\n",
       "    <tr>\n",
       "      <th>1234</th>\n",
       "      <td>0</td>\n",
       "      <td>0</td>\n",
       "      <td>13</td>\n",
       "      <td>mild</td>\n",
       "      <td>Duloxetine</td>\n",
       "      <td>Full Remission</td>\n",
       "      <td>Improvement</td>\n",
       "      <td>Full Response</td>\n",
       "    </tr>\n",
       "    <tr>\n",
       "      <th>1255</th>\n",
       "      <td>0</td>\n",
       "      <td>0</td>\n",
       "      <td>12</td>\n",
       "      <td>mild</td>\n",
       "      <td>Duloxetine</td>\n",
       "      <td>Remission</td>\n",
       "      <td>Improvement</td>\n",
       "      <td>Partial Response</td>\n",
       "    </tr>\n",
       "    <tr>\n",
       "      <th>1371</th>\n",
       "      <td>0</td>\n",
       "      <td>0</td>\n",
       "      <td>13</td>\n",
       "      <td>mild</td>\n",
       "      <td>Duloxetine</td>\n",
       "      <td>Remission</td>\n",
       "      <td>Improvement</td>\n",
       "      <td>Partial Response</td>\n",
       "    </tr>\n",
       "    <tr>\n",
       "      <th>1378</th>\n",
       "      <td>0</td>\n",
       "      <td>0</td>\n",
       "      <td>8</td>\n",
       "      <td>mild</td>\n",
       "      <td>Duloxetine</td>\n",
       "      <td>Full Remission</td>\n",
       "      <td>Improvement</td>\n",
       "      <td>Partial Response</td>\n",
       "    </tr>\n",
       "    <tr>\n",
       "      <th>1405</th>\n",
       "      <td>0</td>\n",
       "      <td>0</td>\n",
       "      <td>10</td>\n",
       "      <td>mild</td>\n",
       "      <td>Duloxetine</td>\n",
       "      <td>Full Remission</td>\n",
       "      <td>Improvement</td>\n",
       "      <td>Partial Response</td>\n",
       "    </tr>\n",
       "  </tbody>\n",
       "</table>\n",
       "<p>121 rows × 8 columns</p>\n",
       "</div>"
      ],
      "text/plain": [
       "      V1-HAMD08  V1-HAMD09  V1-all level        DRUG       Remission  \\\n",
       "0             0          0       7  mild  Duloxetine  Full Remission   \n",
       "3             0          0       6  mild  Duloxetine       Remission   \n",
       "4             0          0       8  mild  Duloxetine       Remission   \n",
       "5             0          0       6  mild  Duloxetine  Full Remission   \n",
       "7             0          0      13  mild  Duloxetine       Remission   \n",
       "...         ...        ...     ...   ...         ...             ...   \n",
       "1234          0          0      13  mild  Duloxetine  Full Remission   \n",
       "1255          0          0      12  mild  Duloxetine       Remission   \n",
       "1371          0          0      13  mild  Duloxetine       Remission   \n",
       "1378          0          0       8  mild  Duloxetine  Full Remission   \n",
       "1405          0          0      10  mild  Duloxetine  Full Remission   \n",
       "\n",
       "       Difference          Response  \n",
       "0     Improvement     Full Response  \n",
       "3           Worst       No Response  \n",
       "4           Worst       No Response  \n",
       "5     Improvement     Full Response  \n",
       "7     Improvement  Partial Response  \n",
       "...           ...               ...  \n",
       "1234  Improvement     Full Response  \n",
       "1255  Improvement  Partial Response  \n",
       "1371  Improvement  Partial Response  \n",
       "1378  Improvement  Partial Response  \n",
       "1405  Improvement  Partial Response  \n",
       "\n",
       "[121 rows x 8 columns]"
      ]
     },
     "execution_count": 223,
     "metadata": {},
     "output_type": "execute_result"
    }
   ],
   "source": [
    "na_r = df2.loc[((df['V1-HAMD08'] == 0) & (df['V1-HAMD09'] == 0))]\n",
    "na_rd = na_r[na_r['DRUG'] == 'Duloxetine']\n",
    "\n",
    "nard1 = go.Histogram(x = na_rd['Remission'], name = 'Remission')\n",
    "nard2 = go.Histogram(x = na_rd['Difference'], name = 'Difference')\n",
    "nard3 = go.Histogram(x = na_rd['Response'], name = 'Response')\n",
    "\n",
    "fig13 = make_subplots(rows = 1, cols = 3, shared_yaxes = True, horizontal_spacing = 0.02)\n",
    "fig13.add_trace(nard1, row = 1, col = 1)\n",
    "fig13.add_trace(nard2, row = 1, col = 2)\n",
    "fig13.add_trace(nard3, row = 1, col = 3)\n",
    "\n",
    "fig13.update_xaxes(categoryorder = 'array', categoryarray = remission_labels, row = 1, col = 1)\n",
    "fig13.update_xaxes(categoryorder = 'array', categoryarray = difference_labels, row = 1, col = 2)\n",
    "fig13.update_xaxes(categoryorder = 'array', categoryarray = response_labels, row = 1, col = 3)\n",
    "\n",
    "fig13.update_layout(\n",
    "    font = {\n",
    "        \"size\": 15\n",
    "    },\n",
    "    \n",
    "    title = {\n",
    "        \"text\": 'Figure 13. Neither Agitation nor Retardation with Patients taking Duloxetine',\n",
    "        \"x\": 0.5,\n",
    "        \"xanchor\" : \"center\",\n",
    "        \"font\" : {\n",
    "            \"size\": 20\n",
    "        }\n",
    "    },\n",
    "    #xaxis =dict(tickmode = 'linear',\n",
    "    #tick0 = 0,\n",
    "    #dtick = 1),\n",
    "    xaxis1 = {\n",
    "        \"tickangle\": -45,\n",
    "    },\n",
    "    xaxis2 = {\n",
    "        \"title\" : 'Drug Efficiency Labels',\n",
    "        \"tickangle\": -45,\n",
    "    },\n",
    "    xaxis3 = {\n",
    "        \"tickangle\": -45,\n",
    "    },\n",
    "#     xaxis_title = 'Drug Efficiency Labels',\n",
    "    yaxis_title = 'Count',\n",
    "    showlegend = True,\n",
    "    width = 1600,\n",
    "    height = 900)\n",
    "\n",
    "fig13.show()\n",
    "\n",
    "na_rd"
   ]
  },
  {
   "cell_type": "code",
   "execution_count": 224,
   "metadata": {},
   "outputs": [
    {
     "data": {
      "text/plain": [
       "[2, 6, 40, 73, 19, 8, 89, 5, 27, 35, 59]"
      ]
     },
     "execution_count": 224,
     "metadata": {},
     "output_type": "execute_result"
    }
   ],
   "source": [
    "# Duloxetine Remission\n",
    "mild_nard = len(na_rd[na_rd['Remission'] == 'No/Mild Remission'])\n",
    "part_nard = len(na_rd[na_rd['Remission'] == 'Partial Remission'])\n",
    "remi_nard = len(na_rd[na_rd['Remission'] == 'Remission'])\n",
    "full_nard = len(na_rd[na_rd['Remission'] == 'Full Remission'])\n",
    "\n",
    "# Duloxetine Difference\n",
    "wor_nard = len(na_rd[na_rd['Difference'] == 'Worst'])\n",
    "nc_nard = len(na_rd[na_rd['Difference'] == 'No Change'])\n",
    "i_nard = len(na_rd[na_rd['Difference'] == 'Improvement'])\n",
    "bi_nard = len(na_rd[na_rd['Difference'] == 'Big Improvement'])\n",
    "\n",
    "# Duloxetine Response\n",
    "nr_nard = len(na_rd[na_rd['Response'] == 'No Response'])\n",
    "pr_nard = len(na_rd[na_rd['Response'] == 'Partial Response'])\n",
    "fr_nard = len(na_rd[na_rd['Response'] == 'Full Response'])\n",
    "\n",
    "nard = [mild_nard, part_nard, remi_nard, full_nard,\n",
    "        wor_nard, nc_nard, i_nard, bi_nard,\n",
    "        nr_nard, pr_nard, fr_nard]\n",
    "\n",
    "nard"
   ]
  },
  {
   "cell_type": "code",
   "execution_count": 225,
   "metadata": {},
   "outputs": [
    {
     "data": {
      "application/vnd.plotly.v1+json": {
       "config": {
        "plotlyServerURL": "https://plot.ly"
       },
       "data": [
        {
         "name": "Remission",
         "type": "histogram",
         "x": [
          "Partial Remission",
          "Remission",
          "Remission",
          "Full Remission",
          "Full Remission",
          "Remission",
          "Remission",
          "Full Remission",
          "Full Remission",
          "Remission"
         ],
         "xaxis": "x",
         "yaxis": "y"
        },
        {
         "name": "Difference",
         "type": "histogram",
         "x": [
          "Improvement",
          "Big Improvement",
          "Improvement",
          "Big Improvement",
          "Big Improvement",
          "Improvement",
          "Improvement",
          "Improvement",
          "Improvement",
          "Big Improvement"
         ],
         "xaxis": "x2",
         "yaxis": "y2"
        },
        {
         "name": "Response",
         "type": "histogram",
         "x": [
          "Partial Response",
          "Full Response",
          "Partial Response",
          "Full Response",
          "Full Response",
          "Partial Response",
          "Full Response",
          "Full Response",
          "Full Response",
          "Full Response"
         ],
         "xaxis": "x3",
         "yaxis": "y3"
        }
       ],
       "layout": {
        "font": {
         "size": 15
        },
        "height": 900,
        "showlegend": true,
        "template": {
         "data": {
          "bar": [
           {
            "error_x": {
             "color": "#2a3f5f"
            },
            "error_y": {
             "color": "#2a3f5f"
            },
            "marker": {
             "line": {
              "color": "#E5ECF6",
              "width": 0.5
             },
             "pattern": {
              "fillmode": "overlay",
              "size": 10,
              "solidity": 0.2
             }
            },
            "type": "bar"
           }
          ],
          "barpolar": [
           {
            "marker": {
             "line": {
              "color": "#E5ECF6",
              "width": 0.5
             },
             "pattern": {
              "fillmode": "overlay",
              "size": 10,
              "solidity": 0.2
             }
            },
            "type": "barpolar"
           }
          ],
          "carpet": [
           {
            "aaxis": {
             "endlinecolor": "#2a3f5f",
             "gridcolor": "white",
             "linecolor": "white",
             "minorgridcolor": "white",
             "startlinecolor": "#2a3f5f"
            },
            "baxis": {
             "endlinecolor": "#2a3f5f",
             "gridcolor": "white",
             "linecolor": "white",
             "minorgridcolor": "white",
             "startlinecolor": "#2a3f5f"
            },
            "type": "carpet"
           }
          ],
          "choropleth": [
           {
            "colorbar": {
             "outlinewidth": 0,
             "ticks": ""
            },
            "type": "choropleth"
           }
          ],
          "contour": [
           {
            "colorbar": {
             "outlinewidth": 0,
             "ticks": ""
            },
            "colorscale": [
             [
              0,
              "#0d0887"
             ],
             [
              0.1111111111111111,
              "#46039f"
             ],
             [
              0.2222222222222222,
              "#7201a8"
             ],
             [
              0.3333333333333333,
              "#9c179e"
             ],
             [
              0.4444444444444444,
              "#bd3786"
             ],
             [
              0.5555555555555556,
              "#d8576b"
             ],
             [
              0.6666666666666666,
              "#ed7953"
             ],
             [
              0.7777777777777778,
              "#fb9f3a"
             ],
             [
              0.8888888888888888,
              "#fdca26"
             ],
             [
              1,
              "#f0f921"
             ]
            ],
            "type": "contour"
           }
          ],
          "contourcarpet": [
           {
            "colorbar": {
             "outlinewidth": 0,
             "ticks": ""
            },
            "type": "contourcarpet"
           }
          ],
          "heatmap": [
           {
            "colorbar": {
             "outlinewidth": 0,
             "ticks": ""
            },
            "colorscale": [
             [
              0,
              "#0d0887"
             ],
             [
              0.1111111111111111,
              "#46039f"
             ],
             [
              0.2222222222222222,
              "#7201a8"
             ],
             [
              0.3333333333333333,
              "#9c179e"
             ],
             [
              0.4444444444444444,
              "#bd3786"
             ],
             [
              0.5555555555555556,
              "#d8576b"
             ],
             [
              0.6666666666666666,
              "#ed7953"
             ],
             [
              0.7777777777777778,
              "#fb9f3a"
             ],
             [
              0.8888888888888888,
              "#fdca26"
             ],
             [
              1,
              "#f0f921"
             ]
            ],
            "type": "heatmap"
           }
          ],
          "heatmapgl": [
           {
            "colorbar": {
             "outlinewidth": 0,
             "ticks": ""
            },
            "colorscale": [
             [
              0,
              "#0d0887"
             ],
             [
              0.1111111111111111,
              "#46039f"
             ],
             [
              0.2222222222222222,
              "#7201a8"
             ],
             [
              0.3333333333333333,
              "#9c179e"
             ],
             [
              0.4444444444444444,
              "#bd3786"
             ],
             [
              0.5555555555555556,
              "#d8576b"
             ],
             [
              0.6666666666666666,
              "#ed7953"
             ],
             [
              0.7777777777777778,
              "#fb9f3a"
             ],
             [
              0.8888888888888888,
              "#fdca26"
             ],
             [
              1,
              "#f0f921"
             ]
            ],
            "type": "heatmapgl"
           }
          ],
          "histogram": [
           {
            "marker": {
             "pattern": {
              "fillmode": "overlay",
              "size": 10,
              "solidity": 0.2
             }
            },
            "type": "histogram"
           }
          ],
          "histogram2d": [
           {
            "colorbar": {
             "outlinewidth": 0,
             "ticks": ""
            },
            "colorscale": [
             [
              0,
              "#0d0887"
             ],
             [
              0.1111111111111111,
              "#46039f"
             ],
             [
              0.2222222222222222,
              "#7201a8"
             ],
             [
              0.3333333333333333,
              "#9c179e"
             ],
             [
              0.4444444444444444,
              "#bd3786"
             ],
             [
              0.5555555555555556,
              "#d8576b"
             ],
             [
              0.6666666666666666,
              "#ed7953"
             ],
             [
              0.7777777777777778,
              "#fb9f3a"
             ],
             [
              0.8888888888888888,
              "#fdca26"
             ],
             [
              1,
              "#f0f921"
             ]
            ],
            "type": "histogram2d"
           }
          ],
          "histogram2dcontour": [
           {
            "colorbar": {
             "outlinewidth": 0,
             "ticks": ""
            },
            "colorscale": [
             [
              0,
              "#0d0887"
             ],
             [
              0.1111111111111111,
              "#46039f"
             ],
             [
              0.2222222222222222,
              "#7201a8"
             ],
             [
              0.3333333333333333,
              "#9c179e"
             ],
             [
              0.4444444444444444,
              "#bd3786"
             ],
             [
              0.5555555555555556,
              "#d8576b"
             ],
             [
              0.6666666666666666,
              "#ed7953"
             ],
             [
              0.7777777777777778,
              "#fb9f3a"
             ],
             [
              0.8888888888888888,
              "#fdca26"
             ],
             [
              1,
              "#f0f921"
             ]
            ],
            "type": "histogram2dcontour"
           }
          ],
          "mesh3d": [
           {
            "colorbar": {
             "outlinewidth": 0,
             "ticks": ""
            },
            "type": "mesh3d"
           }
          ],
          "parcoords": [
           {
            "line": {
             "colorbar": {
              "outlinewidth": 0,
              "ticks": ""
             }
            },
            "type": "parcoords"
           }
          ],
          "pie": [
           {
            "automargin": true,
            "type": "pie"
           }
          ],
          "scatter": [
           {
            "fillpattern": {
             "fillmode": "overlay",
             "size": 10,
             "solidity": 0.2
            },
            "type": "scatter"
           }
          ],
          "scatter3d": [
           {
            "line": {
             "colorbar": {
              "outlinewidth": 0,
              "ticks": ""
             }
            },
            "marker": {
             "colorbar": {
              "outlinewidth": 0,
              "ticks": ""
             }
            },
            "type": "scatter3d"
           }
          ],
          "scattercarpet": [
           {
            "marker": {
             "colorbar": {
              "outlinewidth": 0,
              "ticks": ""
             }
            },
            "type": "scattercarpet"
           }
          ],
          "scattergeo": [
           {
            "marker": {
             "colorbar": {
              "outlinewidth": 0,
              "ticks": ""
             }
            },
            "type": "scattergeo"
           }
          ],
          "scattergl": [
           {
            "marker": {
             "colorbar": {
              "outlinewidth": 0,
              "ticks": ""
             }
            },
            "type": "scattergl"
           }
          ],
          "scattermapbox": [
           {
            "marker": {
             "colorbar": {
              "outlinewidth": 0,
              "ticks": ""
             }
            },
            "type": "scattermapbox"
           }
          ],
          "scatterpolar": [
           {
            "marker": {
             "colorbar": {
              "outlinewidth": 0,
              "ticks": ""
             }
            },
            "type": "scatterpolar"
           }
          ],
          "scatterpolargl": [
           {
            "marker": {
             "colorbar": {
              "outlinewidth": 0,
              "ticks": ""
             }
            },
            "type": "scatterpolargl"
           }
          ],
          "scatterternary": [
           {
            "marker": {
             "colorbar": {
              "outlinewidth": 0,
              "ticks": ""
             }
            },
            "type": "scatterternary"
           }
          ],
          "surface": [
           {
            "colorbar": {
             "outlinewidth": 0,
             "ticks": ""
            },
            "colorscale": [
             [
              0,
              "#0d0887"
             ],
             [
              0.1111111111111111,
              "#46039f"
             ],
             [
              0.2222222222222222,
              "#7201a8"
             ],
             [
              0.3333333333333333,
              "#9c179e"
             ],
             [
              0.4444444444444444,
              "#bd3786"
             ],
             [
              0.5555555555555556,
              "#d8576b"
             ],
             [
              0.6666666666666666,
              "#ed7953"
             ],
             [
              0.7777777777777778,
              "#fb9f3a"
             ],
             [
              0.8888888888888888,
              "#fdca26"
             ],
             [
              1,
              "#f0f921"
             ]
            ],
            "type": "surface"
           }
          ],
          "table": [
           {
            "cells": {
             "fill": {
              "color": "#EBF0F8"
             },
             "line": {
              "color": "white"
             }
            },
            "header": {
             "fill": {
              "color": "#C8D4E3"
             },
             "line": {
              "color": "white"
             }
            },
            "type": "table"
           }
          ]
         },
         "layout": {
          "annotationdefaults": {
           "arrowcolor": "#2a3f5f",
           "arrowhead": 0,
           "arrowwidth": 1
          },
          "autotypenumbers": "strict",
          "coloraxis": {
           "colorbar": {
            "outlinewidth": 0,
            "ticks": ""
           }
          },
          "colorscale": {
           "diverging": [
            [
             0,
             "#8e0152"
            ],
            [
             0.1,
             "#c51b7d"
            ],
            [
             0.2,
             "#de77ae"
            ],
            [
             0.3,
             "#f1b6da"
            ],
            [
             0.4,
             "#fde0ef"
            ],
            [
             0.5,
             "#f7f7f7"
            ],
            [
             0.6,
             "#e6f5d0"
            ],
            [
             0.7,
             "#b8e186"
            ],
            [
             0.8,
             "#7fbc41"
            ],
            [
             0.9,
             "#4d9221"
            ],
            [
             1,
             "#276419"
            ]
           ],
           "sequential": [
            [
             0,
             "#0d0887"
            ],
            [
             0.1111111111111111,
             "#46039f"
            ],
            [
             0.2222222222222222,
             "#7201a8"
            ],
            [
             0.3333333333333333,
             "#9c179e"
            ],
            [
             0.4444444444444444,
             "#bd3786"
            ],
            [
             0.5555555555555556,
             "#d8576b"
            ],
            [
             0.6666666666666666,
             "#ed7953"
            ],
            [
             0.7777777777777778,
             "#fb9f3a"
            ],
            [
             0.8888888888888888,
             "#fdca26"
            ],
            [
             1,
             "#f0f921"
            ]
           ],
           "sequentialminus": [
            [
             0,
             "#0d0887"
            ],
            [
             0.1111111111111111,
             "#46039f"
            ],
            [
             0.2222222222222222,
             "#7201a8"
            ],
            [
             0.3333333333333333,
             "#9c179e"
            ],
            [
             0.4444444444444444,
             "#bd3786"
            ],
            [
             0.5555555555555556,
             "#d8576b"
            ],
            [
             0.6666666666666666,
             "#ed7953"
            ],
            [
             0.7777777777777778,
             "#fb9f3a"
            ],
            [
             0.8888888888888888,
             "#fdca26"
            ],
            [
             1,
             "#f0f921"
            ]
           ]
          },
          "colorway": [
           "#636efa",
           "#EF553B",
           "#00cc96",
           "#ab63fa",
           "#FFA15A",
           "#19d3f3",
           "#FF6692",
           "#B6E880",
           "#FF97FF",
           "#FECB52"
          ],
          "font": {
           "color": "#2a3f5f"
          },
          "geo": {
           "bgcolor": "white",
           "lakecolor": "white",
           "landcolor": "#E5ECF6",
           "showlakes": true,
           "showland": true,
           "subunitcolor": "white"
          },
          "hoverlabel": {
           "align": "left"
          },
          "hovermode": "closest",
          "mapbox": {
           "style": "light"
          },
          "paper_bgcolor": "white",
          "plot_bgcolor": "#E5ECF6",
          "polar": {
           "angularaxis": {
            "gridcolor": "white",
            "linecolor": "white",
            "ticks": ""
           },
           "bgcolor": "#E5ECF6",
           "radialaxis": {
            "gridcolor": "white",
            "linecolor": "white",
            "ticks": ""
           }
          },
          "scene": {
           "xaxis": {
            "backgroundcolor": "#E5ECF6",
            "gridcolor": "white",
            "gridwidth": 2,
            "linecolor": "white",
            "showbackground": true,
            "ticks": "",
            "zerolinecolor": "white"
           },
           "yaxis": {
            "backgroundcolor": "#E5ECF6",
            "gridcolor": "white",
            "gridwidth": 2,
            "linecolor": "white",
            "showbackground": true,
            "ticks": "",
            "zerolinecolor": "white"
           },
           "zaxis": {
            "backgroundcolor": "#E5ECF6",
            "gridcolor": "white",
            "gridwidth": 2,
            "linecolor": "white",
            "showbackground": true,
            "ticks": "",
            "zerolinecolor": "white"
           }
          },
          "shapedefaults": {
           "line": {
            "color": "#2a3f5f"
           }
          },
          "ternary": {
           "aaxis": {
            "gridcolor": "white",
            "linecolor": "white",
            "ticks": ""
           },
           "baxis": {
            "gridcolor": "white",
            "linecolor": "white",
            "ticks": ""
           },
           "bgcolor": "#E5ECF6",
           "caxis": {
            "gridcolor": "white",
            "linecolor": "white",
            "ticks": ""
           }
          },
          "title": {
           "x": 0.05
          },
          "xaxis": {
           "automargin": true,
           "gridcolor": "white",
           "linecolor": "white",
           "ticks": "",
           "title": {
            "standoff": 15
           },
           "zerolinecolor": "white",
           "zerolinewidth": 2
          },
          "yaxis": {
           "automargin": true,
           "gridcolor": "white",
           "linecolor": "white",
           "ticks": "",
           "title": {
            "standoff": 15
           },
           "zerolinecolor": "white",
           "zerolinewidth": 2
          }
         }
        },
        "title": {
         "font": {
          "size": 20
         },
         "text": "Figure 14. Neither Agitation nor Retardation with Patients taking Venlafaxine",
         "x": 0.5,
         "xanchor": "center"
        },
        "width": 1600,
        "xaxis": {
         "anchor": "y",
         "categoryarray": [
          "Full Remission",
          "Remission",
          "Partial Remission",
          "No/Mild Remission"
         ],
         "categoryorder": "array",
         "domain": [
          0,
          0.32
         ],
         "tickangle": -45
        },
        "xaxis2": {
         "anchor": "y2",
         "categoryarray": [
          "Worst",
          "No Change",
          "Improvement",
          "Big Improvement"
         ],
         "categoryorder": "array",
         "domain": [
          0.34,
          0.66
         ],
         "tickangle": -45,
         "title": {
          "text": "Drug Efficiency Labels"
         }
        },
        "xaxis3": {
         "anchor": "y3",
         "categoryarray": [
          "No Response",
          "Partial Response",
          "Full Response"
         ],
         "categoryorder": "array",
         "domain": [
          0.68,
          1
         ],
         "tickangle": -45
        },
        "yaxis": {
         "anchor": "x",
         "domain": [
          0,
          1
         ],
         "title": {
          "text": "Count"
         }
        },
        "yaxis2": {
         "anchor": "x2",
         "domain": [
          0,
          1
         ],
         "matches": "y",
         "showticklabels": false
        },
        "yaxis3": {
         "anchor": "x3",
         "domain": [
          0,
          1
         ],
         "matches": "y",
         "showticklabels": false
        }
       }
      },
      "text/html": [
       "<div>                            <div id=\"d6316bf3-fb03-4bde-925a-d8964ed13331\" class=\"plotly-graph-div\" style=\"height:900px; width:1600px;\"></div>            <script type=\"text/javascript\">                require([\"plotly\"], function(Plotly) {                    window.PLOTLYENV=window.PLOTLYENV || {};                                    if (document.getElementById(\"d6316bf3-fb03-4bde-925a-d8964ed13331\")) {                    Plotly.newPlot(                        \"d6316bf3-fb03-4bde-925a-d8964ed13331\",                        [{\"name\":\"Remission\",\"x\":[\"Partial Remission\",\"Remission\",\"Remission\",\"Full Remission\",\"Full Remission\",\"Remission\",\"Remission\",\"Full Remission\",\"Full Remission\",\"Remission\"],\"type\":\"histogram\",\"xaxis\":\"x\",\"yaxis\":\"y\"},{\"name\":\"Difference\",\"x\":[\"Improvement\",\"Big Improvement\",\"Improvement\",\"Big Improvement\",\"Big Improvement\",\"Improvement\",\"Improvement\",\"Improvement\",\"Improvement\",\"Big Improvement\"],\"type\":\"histogram\",\"xaxis\":\"x2\",\"yaxis\":\"y2\"},{\"name\":\"Response\",\"x\":[\"Partial Response\",\"Full Response\",\"Partial Response\",\"Full Response\",\"Full Response\",\"Partial Response\",\"Full Response\",\"Full Response\",\"Full Response\",\"Full Response\"],\"type\":\"histogram\",\"xaxis\":\"x3\",\"yaxis\":\"y3\"}],                        {\"template\":{\"data\":{\"histogram2dcontour\":[{\"type\":\"histogram2dcontour\",\"colorbar\":{\"outlinewidth\":0,\"ticks\":\"\"},\"colorscale\":[[0.0,\"#0d0887\"],[0.1111111111111111,\"#46039f\"],[0.2222222222222222,\"#7201a8\"],[0.3333333333333333,\"#9c179e\"],[0.4444444444444444,\"#bd3786\"],[0.5555555555555556,\"#d8576b\"],[0.6666666666666666,\"#ed7953\"],[0.7777777777777778,\"#fb9f3a\"],[0.8888888888888888,\"#fdca26\"],[1.0,\"#f0f921\"]]}],\"choropleth\":[{\"type\":\"choropleth\",\"colorbar\":{\"outlinewidth\":0,\"ticks\":\"\"}}],\"histogram2d\":[{\"type\":\"histogram2d\",\"colorbar\":{\"outlinewidth\":0,\"ticks\":\"\"},\"colorscale\":[[0.0,\"#0d0887\"],[0.1111111111111111,\"#46039f\"],[0.2222222222222222,\"#7201a8\"],[0.3333333333333333,\"#9c179e\"],[0.4444444444444444,\"#bd3786\"],[0.5555555555555556,\"#d8576b\"],[0.6666666666666666,\"#ed7953\"],[0.7777777777777778,\"#fb9f3a\"],[0.8888888888888888,\"#fdca26\"],[1.0,\"#f0f921\"]]}],\"heatmap\":[{\"type\":\"heatmap\",\"colorbar\":{\"outlinewidth\":0,\"ticks\":\"\"},\"colorscale\":[[0.0,\"#0d0887\"],[0.1111111111111111,\"#46039f\"],[0.2222222222222222,\"#7201a8\"],[0.3333333333333333,\"#9c179e\"],[0.4444444444444444,\"#bd3786\"],[0.5555555555555556,\"#d8576b\"],[0.6666666666666666,\"#ed7953\"],[0.7777777777777778,\"#fb9f3a\"],[0.8888888888888888,\"#fdca26\"],[1.0,\"#f0f921\"]]}],\"heatmapgl\":[{\"type\":\"heatmapgl\",\"colorbar\":{\"outlinewidth\":0,\"ticks\":\"\"},\"colorscale\":[[0.0,\"#0d0887\"],[0.1111111111111111,\"#46039f\"],[0.2222222222222222,\"#7201a8\"],[0.3333333333333333,\"#9c179e\"],[0.4444444444444444,\"#bd3786\"],[0.5555555555555556,\"#d8576b\"],[0.6666666666666666,\"#ed7953\"],[0.7777777777777778,\"#fb9f3a\"],[0.8888888888888888,\"#fdca26\"],[1.0,\"#f0f921\"]]}],\"contourcarpet\":[{\"type\":\"contourcarpet\",\"colorbar\":{\"outlinewidth\":0,\"ticks\":\"\"}}],\"contour\":[{\"type\":\"contour\",\"colorbar\":{\"outlinewidth\":0,\"ticks\":\"\"},\"colorscale\":[[0.0,\"#0d0887\"],[0.1111111111111111,\"#46039f\"],[0.2222222222222222,\"#7201a8\"],[0.3333333333333333,\"#9c179e\"],[0.4444444444444444,\"#bd3786\"],[0.5555555555555556,\"#d8576b\"],[0.6666666666666666,\"#ed7953\"],[0.7777777777777778,\"#fb9f3a\"],[0.8888888888888888,\"#fdca26\"],[1.0,\"#f0f921\"]]}],\"surface\":[{\"type\":\"surface\",\"colorbar\":{\"outlinewidth\":0,\"ticks\":\"\"},\"colorscale\":[[0.0,\"#0d0887\"],[0.1111111111111111,\"#46039f\"],[0.2222222222222222,\"#7201a8\"],[0.3333333333333333,\"#9c179e\"],[0.4444444444444444,\"#bd3786\"],[0.5555555555555556,\"#d8576b\"],[0.6666666666666666,\"#ed7953\"],[0.7777777777777778,\"#fb9f3a\"],[0.8888888888888888,\"#fdca26\"],[1.0,\"#f0f921\"]]}],\"mesh3d\":[{\"type\":\"mesh3d\",\"colorbar\":{\"outlinewidth\":0,\"ticks\":\"\"}}],\"scatter\":[{\"fillpattern\":{\"fillmode\":\"overlay\",\"size\":10,\"solidity\":0.2},\"type\":\"scatter\"}],\"parcoords\":[{\"type\":\"parcoords\",\"line\":{\"colorbar\":{\"outlinewidth\":0,\"ticks\":\"\"}}}],\"scatterpolargl\":[{\"type\":\"scatterpolargl\",\"marker\":{\"colorbar\":{\"outlinewidth\":0,\"ticks\":\"\"}}}],\"bar\":[{\"error_x\":{\"color\":\"#2a3f5f\"},\"error_y\":{\"color\":\"#2a3f5f\"},\"marker\":{\"line\":{\"color\":\"#E5ECF6\",\"width\":0.5},\"pattern\":{\"fillmode\":\"overlay\",\"size\":10,\"solidity\":0.2}},\"type\":\"bar\"}],\"scattergeo\":[{\"type\":\"scattergeo\",\"marker\":{\"colorbar\":{\"outlinewidth\":0,\"ticks\":\"\"}}}],\"scatterpolar\":[{\"type\":\"scatterpolar\",\"marker\":{\"colorbar\":{\"outlinewidth\":0,\"ticks\":\"\"}}}],\"histogram\":[{\"marker\":{\"pattern\":{\"fillmode\":\"overlay\",\"size\":10,\"solidity\":0.2}},\"type\":\"histogram\"}],\"scattergl\":[{\"type\":\"scattergl\",\"marker\":{\"colorbar\":{\"outlinewidth\":0,\"ticks\":\"\"}}}],\"scatter3d\":[{\"type\":\"scatter3d\",\"line\":{\"colorbar\":{\"outlinewidth\":0,\"ticks\":\"\"}},\"marker\":{\"colorbar\":{\"outlinewidth\":0,\"ticks\":\"\"}}}],\"scattermapbox\":[{\"type\":\"scattermapbox\",\"marker\":{\"colorbar\":{\"outlinewidth\":0,\"ticks\":\"\"}}}],\"scatterternary\":[{\"type\":\"scatterternary\",\"marker\":{\"colorbar\":{\"outlinewidth\":0,\"ticks\":\"\"}}}],\"scattercarpet\":[{\"type\":\"scattercarpet\",\"marker\":{\"colorbar\":{\"outlinewidth\":0,\"ticks\":\"\"}}}],\"carpet\":[{\"aaxis\":{\"endlinecolor\":\"#2a3f5f\",\"gridcolor\":\"white\",\"linecolor\":\"white\",\"minorgridcolor\":\"white\",\"startlinecolor\":\"#2a3f5f\"},\"baxis\":{\"endlinecolor\":\"#2a3f5f\",\"gridcolor\":\"white\",\"linecolor\":\"white\",\"minorgridcolor\":\"white\",\"startlinecolor\":\"#2a3f5f\"},\"type\":\"carpet\"}],\"table\":[{\"cells\":{\"fill\":{\"color\":\"#EBF0F8\"},\"line\":{\"color\":\"white\"}},\"header\":{\"fill\":{\"color\":\"#C8D4E3\"},\"line\":{\"color\":\"white\"}},\"type\":\"table\"}],\"barpolar\":[{\"marker\":{\"line\":{\"color\":\"#E5ECF6\",\"width\":0.5},\"pattern\":{\"fillmode\":\"overlay\",\"size\":10,\"solidity\":0.2}},\"type\":\"barpolar\"}],\"pie\":[{\"automargin\":true,\"type\":\"pie\"}]},\"layout\":{\"autotypenumbers\":\"strict\",\"colorway\":[\"#636efa\",\"#EF553B\",\"#00cc96\",\"#ab63fa\",\"#FFA15A\",\"#19d3f3\",\"#FF6692\",\"#B6E880\",\"#FF97FF\",\"#FECB52\"],\"font\":{\"color\":\"#2a3f5f\"},\"hovermode\":\"closest\",\"hoverlabel\":{\"align\":\"left\"},\"paper_bgcolor\":\"white\",\"plot_bgcolor\":\"#E5ECF6\",\"polar\":{\"bgcolor\":\"#E5ECF6\",\"angularaxis\":{\"gridcolor\":\"white\",\"linecolor\":\"white\",\"ticks\":\"\"},\"radialaxis\":{\"gridcolor\":\"white\",\"linecolor\":\"white\",\"ticks\":\"\"}},\"ternary\":{\"bgcolor\":\"#E5ECF6\",\"aaxis\":{\"gridcolor\":\"white\",\"linecolor\":\"white\",\"ticks\":\"\"},\"baxis\":{\"gridcolor\":\"white\",\"linecolor\":\"white\",\"ticks\":\"\"},\"caxis\":{\"gridcolor\":\"white\",\"linecolor\":\"white\",\"ticks\":\"\"}},\"coloraxis\":{\"colorbar\":{\"outlinewidth\":0,\"ticks\":\"\"}},\"colorscale\":{\"sequential\":[[0.0,\"#0d0887\"],[0.1111111111111111,\"#46039f\"],[0.2222222222222222,\"#7201a8\"],[0.3333333333333333,\"#9c179e\"],[0.4444444444444444,\"#bd3786\"],[0.5555555555555556,\"#d8576b\"],[0.6666666666666666,\"#ed7953\"],[0.7777777777777778,\"#fb9f3a\"],[0.8888888888888888,\"#fdca26\"],[1.0,\"#f0f921\"]],\"sequentialminus\":[[0.0,\"#0d0887\"],[0.1111111111111111,\"#46039f\"],[0.2222222222222222,\"#7201a8\"],[0.3333333333333333,\"#9c179e\"],[0.4444444444444444,\"#bd3786\"],[0.5555555555555556,\"#d8576b\"],[0.6666666666666666,\"#ed7953\"],[0.7777777777777778,\"#fb9f3a\"],[0.8888888888888888,\"#fdca26\"],[1.0,\"#f0f921\"]],\"diverging\":[[0,\"#8e0152\"],[0.1,\"#c51b7d\"],[0.2,\"#de77ae\"],[0.3,\"#f1b6da\"],[0.4,\"#fde0ef\"],[0.5,\"#f7f7f7\"],[0.6,\"#e6f5d0\"],[0.7,\"#b8e186\"],[0.8,\"#7fbc41\"],[0.9,\"#4d9221\"],[1,\"#276419\"]]},\"xaxis\":{\"gridcolor\":\"white\",\"linecolor\":\"white\",\"ticks\":\"\",\"title\":{\"standoff\":15},\"zerolinecolor\":\"white\",\"automargin\":true,\"zerolinewidth\":2},\"yaxis\":{\"gridcolor\":\"white\",\"linecolor\":\"white\",\"ticks\":\"\",\"title\":{\"standoff\":15},\"zerolinecolor\":\"white\",\"automargin\":true,\"zerolinewidth\":2},\"scene\":{\"xaxis\":{\"backgroundcolor\":\"#E5ECF6\",\"gridcolor\":\"white\",\"linecolor\":\"white\",\"showbackground\":true,\"ticks\":\"\",\"zerolinecolor\":\"white\",\"gridwidth\":2},\"yaxis\":{\"backgroundcolor\":\"#E5ECF6\",\"gridcolor\":\"white\",\"linecolor\":\"white\",\"showbackground\":true,\"ticks\":\"\",\"zerolinecolor\":\"white\",\"gridwidth\":2},\"zaxis\":{\"backgroundcolor\":\"#E5ECF6\",\"gridcolor\":\"white\",\"linecolor\":\"white\",\"showbackground\":true,\"ticks\":\"\",\"zerolinecolor\":\"white\",\"gridwidth\":2}},\"shapedefaults\":{\"line\":{\"color\":\"#2a3f5f\"}},\"annotationdefaults\":{\"arrowcolor\":\"#2a3f5f\",\"arrowhead\":0,\"arrowwidth\":1},\"geo\":{\"bgcolor\":\"white\",\"landcolor\":\"#E5ECF6\",\"subunitcolor\":\"white\",\"showland\":true,\"showlakes\":true,\"lakecolor\":\"white\"},\"title\":{\"x\":0.05},\"mapbox\":{\"style\":\"light\"}}},\"xaxis\":{\"anchor\":\"y\",\"domain\":[0.0,0.32],\"categoryorder\":\"array\",\"categoryarray\":[\"Full Remission\",\"Remission\",\"Partial Remission\",\"No/Mild Remission\"],\"tickangle\":-45},\"yaxis\":{\"anchor\":\"x\",\"domain\":[0.0,1.0],\"title\":{\"text\":\"Count\"}},\"xaxis2\":{\"anchor\":\"y2\",\"domain\":[0.34,0.66],\"categoryorder\":\"array\",\"categoryarray\":[\"Worst\",\"No Change\",\"Improvement\",\"Big Improvement\"],\"title\":{\"text\":\"Drug Efficiency Labels\"},\"tickangle\":-45},\"yaxis2\":{\"anchor\":\"x2\",\"domain\":[0.0,1.0],\"matches\":\"y\",\"showticklabels\":false},\"xaxis3\":{\"anchor\":\"y3\",\"domain\":[0.68,1.0],\"categoryorder\":\"array\",\"categoryarray\":[\"No Response\",\"Partial Response\",\"Full Response\"],\"tickangle\":-45},\"yaxis3\":{\"anchor\":\"x3\",\"domain\":[0.0,1.0],\"matches\":\"y\",\"showticklabels\":false},\"font\":{\"size\":15},\"title\":{\"font\":{\"size\":20},\"text\":\"Figure 14. Neither Agitation nor Retardation with Patients taking Venlafaxine\",\"x\":0.5,\"xanchor\":\"center\"},\"showlegend\":true,\"width\":1600,\"height\":900},                        {\"responsive\": true}                    ).then(function(){\n",
       "                            \n",
       "var gd = document.getElementById('d6316bf3-fb03-4bde-925a-d8964ed13331');\n",
       "var x = new MutationObserver(function (mutations, observer) {{\n",
       "        var display = window.getComputedStyle(gd).display;\n",
       "        if (!display || display === 'none') {{\n",
       "            console.log([gd, 'removed!']);\n",
       "            Plotly.purge(gd);\n",
       "            observer.disconnect();\n",
       "        }}\n",
       "}});\n",
       "\n",
       "// Listen for the removal of the full notebook cells\n",
       "var notebookContainer = gd.closest('#notebook-container');\n",
       "if (notebookContainer) {{\n",
       "    x.observe(notebookContainer, {childList: true});\n",
       "}}\n",
       "\n",
       "// Listen for the clearing of the current output cell\n",
       "var outputEl = gd.closest('.output');\n",
       "if (outputEl) {{\n",
       "    x.observe(outputEl, {childList: true});\n",
       "}}\n",
       "\n",
       "                        })                };                });            </script>        </div>"
      ]
     },
     "metadata": {},
     "output_type": "display_data"
    },
    {
     "data": {
      "text/html": [
       "<div>\n",
       "<style scoped>\n",
       "    .dataframe tbody tr th:only-of-type {\n",
       "        vertical-align: middle;\n",
       "    }\n",
       "\n",
       "    .dataframe tbody tr th {\n",
       "        vertical-align: top;\n",
       "    }\n",
       "\n",
       "    .dataframe thead th {\n",
       "        text-align: right;\n",
       "    }\n",
       "</style>\n",
       "<table border=\"1\" class=\"dataframe\">\n",
       "  <thead>\n",
       "    <tr style=\"text-align: right;\">\n",
       "      <th></th>\n",
       "      <th>V1-HAMD08</th>\n",
       "      <th>V1-HAMD09</th>\n",
       "      <th>V1-all</th>\n",
       "      <th>level</th>\n",
       "      <th>DRUG</th>\n",
       "      <th>Remission</th>\n",
       "      <th>Difference</th>\n",
       "      <th>Response</th>\n",
       "    </tr>\n",
       "  </thead>\n",
       "  <tbody>\n",
       "    <tr>\n",
       "      <th>180</th>\n",
       "      <td>0</td>\n",
       "      <td>0</td>\n",
       "      <td>27</td>\n",
       "      <td>severe</td>\n",
       "      <td>Venlafaxine</td>\n",
       "      <td>Partial Remission</td>\n",
       "      <td>Improvement</td>\n",
       "      <td>Partial Response</td>\n",
       "    </tr>\n",
       "    <tr>\n",
       "      <th>189</th>\n",
       "      <td>0</td>\n",
       "      <td>0</td>\n",
       "      <td>27</td>\n",
       "      <td>severe</td>\n",
       "      <td>Venlafaxine</td>\n",
       "      <td>Remission</td>\n",
       "      <td>Big Improvement</td>\n",
       "      <td>Full Response</td>\n",
       "    </tr>\n",
       "    <tr>\n",
       "      <th>191</th>\n",
       "      <td>0</td>\n",
       "      <td>0</td>\n",
       "      <td>21</td>\n",
       "      <td>moderate</td>\n",
       "      <td>Venlafaxine</td>\n",
       "      <td>Remission</td>\n",
       "      <td>Improvement</td>\n",
       "      <td>Partial Response</td>\n",
       "    </tr>\n",
       "    <tr>\n",
       "      <th>194</th>\n",
       "      <td>0</td>\n",
       "      <td>0</td>\n",
       "      <td>17</td>\n",
       "      <td>mild</td>\n",
       "      <td>Venlafaxine</td>\n",
       "      <td>Full Remission</td>\n",
       "      <td>Big Improvement</td>\n",
       "      <td>Full Response</td>\n",
       "    </tr>\n",
       "    <tr>\n",
       "      <th>197</th>\n",
       "      <td>0</td>\n",
       "      <td>0</td>\n",
       "      <td>20</td>\n",
       "      <td>moderate</td>\n",
       "      <td>Venlafaxine</td>\n",
       "      <td>Full Remission</td>\n",
       "      <td>Big Improvement</td>\n",
       "      <td>Full Response</td>\n",
       "    </tr>\n",
       "    <tr>\n",
       "      <th>205</th>\n",
       "      <td>0</td>\n",
       "      <td>0</td>\n",
       "      <td>20</td>\n",
       "      <td>moderate</td>\n",
       "      <td>Venlafaxine</td>\n",
       "      <td>Remission</td>\n",
       "      <td>Improvement</td>\n",
       "      <td>Partial Response</td>\n",
       "    </tr>\n",
       "    <tr>\n",
       "      <th>292</th>\n",
       "      <td>0</td>\n",
       "      <td>0</td>\n",
       "      <td>19</td>\n",
       "      <td>moderate</td>\n",
       "      <td>Venlafaxine</td>\n",
       "      <td>Remission</td>\n",
       "      <td>Improvement</td>\n",
       "      <td>Full Response</td>\n",
       "    </tr>\n",
       "    <tr>\n",
       "      <th>348</th>\n",
       "      <td>0</td>\n",
       "      <td>0</td>\n",
       "      <td>20</td>\n",
       "      <td>moderate</td>\n",
       "      <td>Venlafaxine</td>\n",
       "      <td>Full Remission</td>\n",
       "      <td>Improvement</td>\n",
       "      <td>Full Response</td>\n",
       "    </tr>\n",
       "    <tr>\n",
       "      <th>414</th>\n",
       "      <td>0</td>\n",
       "      <td>0</td>\n",
       "      <td>21</td>\n",
       "      <td>moderate</td>\n",
       "      <td>Venlafaxine</td>\n",
       "      <td>Full Remission</td>\n",
       "      <td>Improvement</td>\n",
       "      <td>Full Response</td>\n",
       "    </tr>\n",
       "    <tr>\n",
       "      <th>415</th>\n",
       "      <td>0</td>\n",
       "      <td>0</td>\n",
       "      <td>24</td>\n",
       "      <td>moderate</td>\n",
       "      <td>Venlafaxine</td>\n",
       "      <td>Remission</td>\n",
       "      <td>Big Improvement</td>\n",
       "      <td>Full Response</td>\n",
       "    </tr>\n",
       "  </tbody>\n",
       "</table>\n",
       "</div>"
      ],
      "text/plain": [
       "     V1-HAMD08  V1-HAMD09  V1-all     level         DRUG          Remission  \\\n",
       "180          0          0      27    severe  Venlafaxine  Partial Remission   \n",
       "189          0          0      27    severe  Venlafaxine          Remission   \n",
       "191          0          0      21  moderate  Venlafaxine          Remission   \n",
       "194          0          0      17      mild  Venlafaxine     Full Remission   \n",
       "197          0          0      20  moderate  Venlafaxine     Full Remission   \n",
       "205          0          0      20  moderate  Venlafaxine          Remission   \n",
       "292          0          0      19  moderate  Venlafaxine          Remission   \n",
       "348          0          0      20  moderate  Venlafaxine     Full Remission   \n",
       "414          0          0      21  moderate  Venlafaxine     Full Remission   \n",
       "415          0          0      24  moderate  Venlafaxine          Remission   \n",
       "\n",
       "          Difference          Response  \n",
       "180      Improvement  Partial Response  \n",
       "189  Big Improvement     Full Response  \n",
       "191      Improvement  Partial Response  \n",
       "194  Big Improvement     Full Response  \n",
       "197  Big Improvement     Full Response  \n",
       "205      Improvement  Partial Response  \n",
       "292      Improvement     Full Response  \n",
       "348      Improvement     Full Response  \n",
       "414      Improvement     Full Response  \n",
       "415  Big Improvement     Full Response  "
      ]
     },
     "execution_count": 225,
     "metadata": {},
     "output_type": "execute_result"
    }
   ],
   "source": [
    "na_rv = na_r[na_r['DRUG'] == 'Venlafaxine']\n",
    "\n",
    "narv1 = go.Histogram(x = na_rv['Remission'], name = 'Remission')\n",
    "narv2 = go.Histogram(x = na_rv['Difference'], name = 'Difference')\n",
    "narv3 = go.Histogram(x = na_rv['Response'], name = 'Response')\n",
    "\n",
    "fig14 = make_subplots(rows = 1, cols = 3, shared_yaxes = True, horizontal_spacing = 0.02)\n",
    "fig14.add_trace(narv1, row = 1, col = 1)\n",
    "fig14.add_trace(narv2, row = 1, col = 2)\n",
    "fig14.add_trace(narv3, row = 1, col = 3)\n",
    "\n",
    "fig14.update_xaxes(categoryorder = 'array', categoryarray = remission_labels, row = 1, col = 1)\n",
    "fig14.update_xaxes(categoryorder = 'array', categoryarray = difference_labels, row = 1, col = 2)\n",
    "fig14.update_xaxes(categoryorder = 'array', categoryarray = response_labels, row = 1, col = 3)\n",
    "\n",
    "fig14.update_layout(\n",
    "    font = {\n",
    "        \"size\": 15\n",
    "    },\n",
    "    \n",
    "    title = {\n",
    "        \"text\": 'Figure 14. Neither Agitation nor Retardation with Patients taking Venlafaxine',\n",
    "        \"x\": 0.5,\n",
    "        \"xanchor\" : \"center\",\n",
    "        \"font\" : {\n",
    "            \"size\": 20\n",
    "        }\n",
    "    },\n",
    "    #xaxis =dict(tickmode = 'linear',\n",
    "    #tick0 = 0,\n",
    "    #dtick = 1),\n",
    "    xaxis1 = {\n",
    "        \"tickangle\": -45,\n",
    "    },\n",
    "    xaxis2 = {\n",
    "        \"title\" : 'Drug Efficiency Labels',\n",
    "        \"tickangle\": -45,\n",
    "    },\n",
    "    xaxis3 = {\n",
    "        \"tickangle\": -45,\n",
    "    },\n",
    "#     xaxis_title = 'Drug Efficiency Labels',\n",
    "    yaxis_title = 'Count',\n",
    "    showlegend = True,\n",
    "    width = 1600,\n",
    "    height = 900)\n",
    "\n",
    "fig14.show()\n",
    "\n",
    "na_rv"
   ]
  },
  {
   "cell_type": "code",
   "execution_count": 226,
   "metadata": {},
   "outputs": [
    {
     "data": {
      "text/plain": [
       "[0, 1, 5, 4, 0, 0, 6, 4, 0, 3, 7]"
      ]
     },
     "execution_count": 226,
     "metadata": {},
     "output_type": "execute_result"
    }
   ],
   "source": [
    "# Venlafaxine Remission\n",
    "mild_narv = len(na_rv[na_rv['Remission'] == 'No/Mild Remission'])\n",
    "part_narv = len(na_rv[na_rv['Remission'] == 'Partial Remission'])\n",
    "remi_narv = len(na_rv[na_rv['Remission'] == 'Remission'])\n",
    "full_narv = len(na_rv[na_rv['Remission'] == 'Full Remission'])\n",
    "\n",
    "# Venlafaxine Difference\n",
    "wor_narv = len(na_rv[na_rv['Difference'] == 'Worst'])\n",
    "nc_narv = len(na_rv[na_rv['Difference'] == 'No Change'])\n",
    "i_narv = len(na_rv[na_rv['Difference'] == 'Improvement'])\n",
    "bi_narv = len(na_rv[na_rv['Difference'] == 'Big Improvement'])\n",
    "\n",
    "# Venlafaxine Response\n",
    "nr_narv = len(na_rv[na_rv['Response'] == 'No Response'])\n",
    "pr_narv = len(na_rv[na_rv['Response'] == 'Partial Response'])\n",
    "fr_narv = len(na_rv[na_rv['Response'] == 'Full Response'])\n",
    "\n",
    "narv = [mild_narv, part_narv, remi_narv, full_narv,\n",
    "        wor_narv, nc_narv, i_narv, bi_narv,\n",
    "        nr_narv, pr_narv, fr_narv]\n",
    "\n",
    "narv"
   ]
  },
  {
   "cell_type": "code",
   "execution_count": 227,
   "metadata": {},
   "outputs": [
    {
     "data": {
      "application/vnd.plotly.v1+json": {
       "config": {
        "plotlyServerURL": "https://plot.ly"
       },
       "data": [
        {
         "name": "Remission",
         "type": "histogram",
         "x": [
          "Full Remission",
          "Remission",
          "Remission",
          "Full Remission",
          "Full Remission",
          "Full Remission",
          "Full Remission",
          "Remission",
          "Full Remission",
          "Remission",
          "Full Remission",
          "Full Remission",
          "Full Remission",
          "Partial Remission",
          "Full Remission",
          "Full Remission",
          "Remission",
          "Full Remission",
          "Full Remission",
          "Remission",
          "Full Remission",
          "Full Remission",
          "Full Remission",
          "Full Remission",
          "Full Remission",
          "Full Remission",
          "Full Remission",
          "Remission",
          "Remission",
          "Full Remission",
          "Full Remission",
          "Full Remission",
          "Full Remission",
          "Remission",
          "Full Remission",
          "Full Remission",
          "No/Mild Remission",
          "Remission",
          "Full Remission",
          "Remission",
          "Remission",
          "Full Remission",
          "Remission",
          "Partial Remission",
          "Full Remission",
          "Full Remission",
          "Full Remission",
          "Full Remission",
          "Full Remission",
          "Remission",
          "Full Remission",
          "Remission",
          "Remission",
          "Full Remission",
          "Full Remission",
          "Full Remission",
          "Full Remission"
         ],
         "xaxis": "x",
         "yaxis": "y"
        },
        {
         "name": "Difference",
         "type": "histogram",
         "x": [
          "Improvement",
          "Worst",
          "Improvement",
          "Improvement",
          "Improvement",
          "Improvement",
          "Improvement",
          "Worst",
          "Improvement",
          "Improvement",
          "Improvement",
          "Worst",
          "Improvement",
          "Improvement",
          "No Change",
          "Improvement",
          "Improvement",
          "Improvement",
          "Improvement",
          "Worst",
          "Improvement",
          "Improvement",
          "Improvement",
          "Big Improvement",
          "Big Improvement",
          "Improvement",
          "Improvement",
          "Improvement",
          "Worst",
          "Improvement",
          "Improvement",
          "Improvement",
          "Improvement",
          "Improvement",
          "Improvement",
          "Improvement",
          "Worst",
          "Improvement",
          "Improvement",
          "Improvement",
          "Improvement",
          "Improvement",
          "Improvement",
          "Worst",
          "Improvement",
          "Improvement",
          "Improvement",
          "Improvement",
          "Improvement",
          "Improvement",
          "Improvement",
          "Worst",
          "Improvement",
          "Improvement",
          "Improvement",
          "Big Improvement",
          "Improvement"
         ],
         "xaxis": "x2",
         "yaxis": "y2"
        },
        {
         "name": "Response",
         "type": "histogram",
         "x": [
          "Full Response",
          "No Response",
          "Partial Response",
          "Full Response",
          "Full Response",
          "Partial Response",
          "Full Response",
          "No Response",
          "Partial Response",
          "Partial Response",
          "Full Response",
          "No Response",
          "Full Response",
          "Partial Response",
          "No Response",
          "Partial Response",
          "Partial Response",
          "Full Response",
          "Full Response",
          "No Response",
          "Partial Response",
          "Full Response",
          "Partial Response",
          "Full Response",
          "Full Response",
          "Full Response",
          "Full Response",
          "Partial Response",
          "No Response",
          "Partial Response",
          "Full Response",
          "Full Response",
          "Partial Response",
          "Partial Response",
          "Full Response",
          "Full Response",
          "No Response",
          "Partial Response",
          "Partial Response",
          "Partial Response",
          "Full Response",
          "Full Response",
          "Partial Response",
          "No Response",
          "Full Response",
          "Partial Response",
          "Full Response",
          "Full Response",
          "Partial Response",
          "Partial Response",
          "Full Response",
          "No Response",
          "Partial Response",
          "Full Response",
          "Full Response",
          "Full Response",
          "Full Response"
         ],
         "xaxis": "x3",
         "yaxis": "y3"
        }
       ],
       "layout": {
        "font": {
         "size": 15
        },
        "height": 900,
        "showlegend": true,
        "template": {
         "data": {
          "bar": [
           {
            "error_x": {
             "color": "#2a3f5f"
            },
            "error_y": {
             "color": "#2a3f5f"
            },
            "marker": {
             "line": {
              "color": "#E5ECF6",
              "width": 0.5
             },
             "pattern": {
              "fillmode": "overlay",
              "size": 10,
              "solidity": 0.2
             }
            },
            "type": "bar"
           }
          ],
          "barpolar": [
           {
            "marker": {
             "line": {
              "color": "#E5ECF6",
              "width": 0.5
             },
             "pattern": {
              "fillmode": "overlay",
              "size": 10,
              "solidity": 0.2
             }
            },
            "type": "barpolar"
           }
          ],
          "carpet": [
           {
            "aaxis": {
             "endlinecolor": "#2a3f5f",
             "gridcolor": "white",
             "linecolor": "white",
             "minorgridcolor": "white",
             "startlinecolor": "#2a3f5f"
            },
            "baxis": {
             "endlinecolor": "#2a3f5f",
             "gridcolor": "white",
             "linecolor": "white",
             "minorgridcolor": "white",
             "startlinecolor": "#2a3f5f"
            },
            "type": "carpet"
           }
          ],
          "choropleth": [
           {
            "colorbar": {
             "outlinewidth": 0,
             "ticks": ""
            },
            "type": "choropleth"
           }
          ],
          "contour": [
           {
            "colorbar": {
             "outlinewidth": 0,
             "ticks": ""
            },
            "colorscale": [
             [
              0,
              "#0d0887"
             ],
             [
              0.1111111111111111,
              "#46039f"
             ],
             [
              0.2222222222222222,
              "#7201a8"
             ],
             [
              0.3333333333333333,
              "#9c179e"
             ],
             [
              0.4444444444444444,
              "#bd3786"
             ],
             [
              0.5555555555555556,
              "#d8576b"
             ],
             [
              0.6666666666666666,
              "#ed7953"
             ],
             [
              0.7777777777777778,
              "#fb9f3a"
             ],
             [
              0.8888888888888888,
              "#fdca26"
             ],
             [
              1,
              "#f0f921"
             ]
            ],
            "type": "contour"
           }
          ],
          "contourcarpet": [
           {
            "colorbar": {
             "outlinewidth": 0,
             "ticks": ""
            },
            "type": "contourcarpet"
           }
          ],
          "heatmap": [
           {
            "colorbar": {
             "outlinewidth": 0,
             "ticks": ""
            },
            "colorscale": [
             [
              0,
              "#0d0887"
             ],
             [
              0.1111111111111111,
              "#46039f"
             ],
             [
              0.2222222222222222,
              "#7201a8"
             ],
             [
              0.3333333333333333,
              "#9c179e"
             ],
             [
              0.4444444444444444,
              "#bd3786"
             ],
             [
              0.5555555555555556,
              "#d8576b"
             ],
             [
              0.6666666666666666,
              "#ed7953"
             ],
             [
              0.7777777777777778,
              "#fb9f3a"
             ],
             [
              0.8888888888888888,
              "#fdca26"
             ],
             [
              1,
              "#f0f921"
             ]
            ],
            "type": "heatmap"
           }
          ],
          "heatmapgl": [
           {
            "colorbar": {
             "outlinewidth": 0,
             "ticks": ""
            },
            "colorscale": [
             [
              0,
              "#0d0887"
             ],
             [
              0.1111111111111111,
              "#46039f"
             ],
             [
              0.2222222222222222,
              "#7201a8"
             ],
             [
              0.3333333333333333,
              "#9c179e"
             ],
             [
              0.4444444444444444,
              "#bd3786"
             ],
             [
              0.5555555555555556,
              "#d8576b"
             ],
             [
              0.6666666666666666,
              "#ed7953"
             ],
             [
              0.7777777777777778,
              "#fb9f3a"
             ],
             [
              0.8888888888888888,
              "#fdca26"
             ],
             [
              1,
              "#f0f921"
             ]
            ],
            "type": "heatmapgl"
           }
          ],
          "histogram": [
           {
            "marker": {
             "pattern": {
              "fillmode": "overlay",
              "size": 10,
              "solidity": 0.2
             }
            },
            "type": "histogram"
           }
          ],
          "histogram2d": [
           {
            "colorbar": {
             "outlinewidth": 0,
             "ticks": ""
            },
            "colorscale": [
             [
              0,
              "#0d0887"
             ],
             [
              0.1111111111111111,
              "#46039f"
             ],
             [
              0.2222222222222222,
              "#7201a8"
             ],
             [
              0.3333333333333333,
              "#9c179e"
             ],
             [
              0.4444444444444444,
              "#bd3786"
             ],
             [
              0.5555555555555556,
              "#d8576b"
             ],
             [
              0.6666666666666666,
              "#ed7953"
             ],
             [
              0.7777777777777778,
              "#fb9f3a"
             ],
             [
              0.8888888888888888,
              "#fdca26"
             ],
             [
              1,
              "#f0f921"
             ]
            ],
            "type": "histogram2d"
           }
          ],
          "histogram2dcontour": [
           {
            "colorbar": {
             "outlinewidth": 0,
             "ticks": ""
            },
            "colorscale": [
             [
              0,
              "#0d0887"
             ],
             [
              0.1111111111111111,
              "#46039f"
             ],
             [
              0.2222222222222222,
              "#7201a8"
             ],
             [
              0.3333333333333333,
              "#9c179e"
             ],
             [
              0.4444444444444444,
              "#bd3786"
             ],
             [
              0.5555555555555556,
              "#d8576b"
             ],
             [
              0.6666666666666666,
              "#ed7953"
             ],
             [
              0.7777777777777778,
              "#fb9f3a"
             ],
             [
              0.8888888888888888,
              "#fdca26"
             ],
             [
              1,
              "#f0f921"
             ]
            ],
            "type": "histogram2dcontour"
           }
          ],
          "mesh3d": [
           {
            "colorbar": {
             "outlinewidth": 0,
             "ticks": ""
            },
            "type": "mesh3d"
           }
          ],
          "parcoords": [
           {
            "line": {
             "colorbar": {
              "outlinewidth": 0,
              "ticks": ""
             }
            },
            "type": "parcoords"
           }
          ],
          "pie": [
           {
            "automargin": true,
            "type": "pie"
           }
          ],
          "scatter": [
           {
            "fillpattern": {
             "fillmode": "overlay",
             "size": 10,
             "solidity": 0.2
            },
            "type": "scatter"
           }
          ],
          "scatter3d": [
           {
            "line": {
             "colorbar": {
              "outlinewidth": 0,
              "ticks": ""
             }
            },
            "marker": {
             "colorbar": {
              "outlinewidth": 0,
              "ticks": ""
             }
            },
            "type": "scatter3d"
           }
          ],
          "scattercarpet": [
           {
            "marker": {
             "colorbar": {
              "outlinewidth": 0,
              "ticks": ""
             }
            },
            "type": "scattercarpet"
           }
          ],
          "scattergeo": [
           {
            "marker": {
             "colorbar": {
              "outlinewidth": 0,
              "ticks": ""
             }
            },
            "type": "scattergeo"
           }
          ],
          "scattergl": [
           {
            "marker": {
             "colorbar": {
              "outlinewidth": 0,
              "ticks": ""
             }
            },
            "type": "scattergl"
           }
          ],
          "scattermapbox": [
           {
            "marker": {
             "colorbar": {
              "outlinewidth": 0,
              "ticks": ""
             }
            },
            "type": "scattermapbox"
           }
          ],
          "scatterpolar": [
           {
            "marker": {
             "colorbar": {
              "outlinewidth": 0,
              "ticks": ""
             }
            },
            "type": "scatterpolar"
           }
          ],
          "scatterpolargl": [
           {
            "marker": {
             "colorbar": {
              "outlinewidth": 0,
              "ticks": ""
             }
            },
            "type": "scatterpolargl"
           }
          ],
          "scatterternary": [
           {
            "marker": {
             "colorbar": {
              "outlinewidth": 0,
              "ticks": ""
             }
            },
            "type": "scatterternary"
           }
          ],
          "surface": [
           {
            "colorbar": {
             "outlinewidth": 0,
             "ticks": ""
            },
            "colorscale": [
             [
              0,
              "#0d0887"
             ],
             [
              0.1111111111111111,
              "#46039f"
             ],
             [
              0.2222222222222222,
              "#7201a8"
             ],
             [
              0.3333333333333333,
              "#9c179e"
             ],
             [
              0.4444444444444444,
              "#bd3786"
             ],
             [
              0.5555555555555556,
              "#d8576b"
             ],
             [
              0.6666666666666666,
              "#ed7953"
             ],
             [
              0.7777777777777778,
              "#fb9f3a"
             ],
             [
              0.8888888888888888,
              "#fdca26"
             ],
             [
              1,
              "#f0f921"
             ]
            ],
            "type": "surface"
           }
          ],
          "table": [
           {
            "cells": {
             "fill": {
              "color": "#EBF0F8"
             },
             "line": {
              "color": "white"
             }
            },
            "header": {
             "fill": {
              "color": "#C8D4E3"
             },
             "line": {
              "color": "white"
             }
            },
            "type": "table"
           }
          ]
         },
         "layout": {
          "annotationdefaults": {
           "arrowcolor": "#2a3f5f",
           "arrowhead": 0,
           "arrowwidth": 1
          },
          "autotypenumbers": "strict",
          "coloraxis": {
           "colorbar": {
            "outlinewidth": 0,
            "ticks": ""
           }
          },
          "colorscale": {
           "diverging": [
            [
             0,
             "#8e0152"
            ],
            [
             0.1,
             "#c51b7d"
            ],
            [
             0.2,
             "#de77ae"
            ],
            [
             0.3,
             "#f1b6da"
            ],
            [
             0.4,
             "#fde0ef"
            ],
            [
             0.5,
             "#f7f7f7"
            ],
            [
             0.6,
             "#e6f5d0"
            ],
            [
             0.7,
             "#b8e186"
            ],
            [
             0.8,
             "#7fbc41"
            ],
            [
             0.9,
             "#4d9221"
            ],
            [
             1,
             "#276419"
            ]
           ],
           "sequential": [
            [
             0,
             "#0d0887"
            ],
            [
             0.1111111111111111,
             "#46039f"
            ],
            [
             0.2222222222222222,
             "#7201a8"
            ],
            [
             0.3333333333333333,
             "#9c179e"
            ],
            [
             0.4444444444444444,
             "#bd3786"
            ],
            [
             0.5555555555555556,
             "#d8576b"
            ],
            [
             0.6666666666666666,
             "#ed7953"
            ],
            [
             0.7777777777777778,
             "#fb9f3a"
            ],
            [
             0.8888888888888888,
             "#fdca26"
            ],
            [
             1,
             "#f0f921"
            ]
           ],
           "sequentialminus": [
            [
             0,
             "#0d0887"
            ],
            [
             0.1111111111111111,
             "#46039f"
            ],
            [
             0.2222222222222222,
             "#7201a8"
            ],
            [
             0.3333333333333333,
             "#9c179e"
            ],
            [
             0.4444444444444444,
             "#bd3786"
            ],
            [
             0.5555555555555556,
             "#d8576b"
            ],
            [
             0.6666666666666666,
             "#ed7953"
            ],
            [
             0.7777777777777778,
             "#fb9f3a"
            ],
            [
             0.8888888888888888,
             "#fdca26"
            ],
            [
             1,
             "#f0f921"
            ]
           ]
          },
          "colorway": [
           "#636efa",
           "#EF553B",
           "#00cc96",
           "#ab63fa",
           "#FFA15A",
           "#19d3f3",
           "#FF6692",
           "#B6E880",
           "#FF97FF",
           "#FECB52"
          ],
          "font": {
           "color": "#2a3f5f"
          },
          "geo": {
           "bgcolor": "white",
           "lakecolor": "white",
           "landcolor": "#E5ECF6",
           "showlakes": true,
           "showland": true,
           "subunitcolor": "white"
          },
          "hoverlabel": {
           "align": "left"
          },
          "hovermode": "closest",
          "mapbox": {
           "style": "light"
          },
          "paper_bgcolor": "white",
          "plot_bgcolor": "#E5ECF6",
          "polar": {
           "angularaxis": {
            "gridcolor": "white",
            "linecolor": "white",
            "ticks": ""
           },
           "bgcolor": "#E5ECF6",
           "radialaxis": {
            "gridcolor": "white",
            "linecolor": "white",
            "ticks": ""
           }
          },
          "scene": {
           "xaxis": {
            "backgroundcolor": "#E5ECF6",
            "gridcolor": "white",
            "gridwidth": 2,
            "linecolor": "white",
            "showbackground": true,
            "ticks": "",
            "zerolinecolor": "white"
           },
           "yaxis": {
            "backgroundcolor": "#E5ECF6",
            "gridcolor": "white",
            "gridwidth": 2,
            "linecolor": "white",
            "showbackground": true,
            "ticks": "",
            "zerolinecolor": "white"
           },
           "zaxis": {
            "backgroundcolor": "#E5ECF6",
            "gridcolor": "white",
            "gridwidth": 2,
            "linecolor": "white",
            "showbackground": true,
            "ticks": "",
            "zerolinecolor": "white"
           }
          },
          "shapedefaults": {
           "line": {
            "color": "#2a3f5f"
           }
          },
          "ternary": {
           "aaxis": {
            "gridcolor": "white",
            "linecolor": "white",
            "ticks": ""
           },
           "baxis": {
            "gridcolor": "white",
            "linecolor": "white",
            "ticks": ""
           },
           "bgcolor": "#E5ECF6",
           "caxis": {
            "gridcolor": "white",
            "linecolor": "white",
            "ticks": ""
           }
          },
          "title": {
           "x": 0.05
          },
          "xaxis": {
           "automargin": true,
           "gridcolor": "white",
           "linecolor": "white",
           "ticks": "",
           "title": {
            "standoff": 15
           },
           "zerolinecolor": "white",
           "zerolinewidth": 2
          },
          "yaxis": {
           "automargin": true,
           "gridcolor": "white",
           "linecolor": "white",
           "ticks": "",
           "title": {
            "standoff": 15
           },
           "zerolinecolor": "white",
           "zerolinewidth": 2
          }
         }
        },
        "title": {
         "font": {
          "size": 20
         },
         "text": "Figure 15. Neither Agitation nor Retardation with Patients taking Paroxetine",
         "x": 0.5,
         "xanchor": "center"
        },
        "width": 1600,
        "xaxis": {
         "anchor": "y",
         "categoryarray": [
          "Full Remission",
          "Remission",
          "Partial Remission",
          "No/Mild Remission"
         ],
         "categoryorder": "array",
         "domain": [
          0,
          0.32
         ],
         "tickangle": -45
        },
        "xaxis2": {
         "anchor": "y2",
         "categoryarray": [
          "Worst",
          "No Change",
          "Improvement",
          "Big Improvement"
         ],
         "categoryorder": "array",
         "domain": [
          0.34,
          0.66
         ],
         "tickangle": -45,
         "title": {
          "text": "Drug Efficiency Labels"
         }
        },
        "xaxis3": {
         "anchor": "y3",
         "categoryarray": [
          "No Response",
          "Partial Response",
          "Full Response"
         ],
         "categoryorder": "array",
         "domain": [
          0.68,
          1
         ],
         "tickangle": -45
        },
        "yaxis": {
         "anchor": "x",
         "domain": [
          0,
          1
         ],
         "title": {
          "text": "Count"
         }
        },
        "yaxis2": {
         "anchor": "x2",
         "domain": [
          0,
          1
         ],
         "matches": "y",
         "showticklabels": false
        },
        "yaxis3": {
         "anchor": "x3",
         "domain": [
          0,
          1
         ],
         "matches": "y",
         "showticklabels": false
        }
       }
      },
      "text/html": [
       "<div>                            <div id=\"8bb29baf-fdef-4a19-9e1f-737cdeca376e\" class=\"plotly-graph-div\" style=\"height:900px; width:1600px;\"></div>            <script type=\"text/javascript\">                require([\"plotly\"], function(Plotly) {                    window.PLOTLYENV=window.PLOTLYENV || {};                                    if (document.getElementById(\"8bb29baf-fdef-4a19-9e1f-737cdeca376e\")) {                    Plotly.newPlot(                        \"8bb29baf-fdef-4a19-9e1f-737cdeca376e\",                        [{\"name\":\"Remission\",\"x\":[\"Full Remission\",\"Remission\",\"Remission\",\"Full Remission\",\"Full Remission\",\"Full Remission\",\"Full Remission\",\"Remission\",\"Full Remission\",\"Remission\",\"Full Remission\",\"Full Remission\",\"Full Remission\",\"Partial Remission\",\"Full Remission\",\"Full Remission\",\"Remission\",\"Full Remission\",\"Full Remission\",\"Remission\",\"Full Remission\",\"Full Remission\",\"Full Remission\",\"Full Remission\",\"Full Remission\",\"Full Remission\",\"Full Remission\",\"Remission\",\"Remission\",\"Full Remission\",\"Full Remission\",\"Full Remission\",\"Full Remission\",\"Remission\",\"Full Remission\",\"Full Remission\",\"No/Mild Remission\",\"Remission\",\"Full Remission\",\"Remission\",\"Remission\",\"Full Remission\",\"Remission\",\"Partial Remission\",\"Full Remission\",\"Full Remission\",\"Full Remission\",\"Full Remission\",\"Full Remission\",\"Remission\",\"Full Remission\",\"Remission\",\"Remission\",\"Full Remission\",\"Full Remission\",\"Full Remission\",\"Full Remission\"],\"type\":\"histogram\",\"xaxis\":\"x\",\"yaxis\":\"y\"},{\"name\":\"Difference\",\"x\":[\"Improvement\",\"Worst\",\"Improvement\",\"Improvement\",\"Improvement\",\"Improvement\",\"Improvement\",\"Worst\",\"Improvement\",\"Improvement\",\"Improvement\",\"Worst\",\"Improvement\",\"Improvement\",\"No Change\",\"Improvement\",\"Improvement\",\"Improvement\",\"Improvement\",\"Worst\",\"Improvement\",\"Improvement\",\"Improvement\",\"Big Improvement\",\"Big Improvement\",\"Improvement\",\"Improvement\",\"Improvement\",\"Worst\",\"Improvement\",\"Improvement\",\"Improvement\",\"Improvement\",\"Improvement\",\"Improvement\",\"Improvement\",\"Worst\",\"Improvement\",\"Improvement\",\"Improvement\",\"Improvement\",\"Improvement\",\"Improvement\",\"Worst\",\"Improvement\",\"Improvement\",\"Improvement\",\"Improvement\",\"Improvement\",\"Improvement\",\"Improvement\",\"Worst\",\"Improvement\",\"Improvement\",\"Improvement\",\"Big Improvement\",\"Improvement\"],\"type\":\"histogram\",\"xaxis\":\"x2\",\"yaxis\":\"y2\"},{\"name\":\"Response\",\"x\":[\"Full Response\",\"No Response\",\"Partial Response\",\"Full Response\",\"Full Response\",\"Partial Response\",\"Full Response\",\"No Response\",\"Partial Response\",\"Partial Response\",\"Full Response\",\"No Response\",\"Full Response\",\"Partial Response\",\"No Response\",\"Partial Response\",\"Partial Response\",\"Full Response\",\"Full Response\",\"No Response\",\"Partial Response\",\"Full Response\",\"Partial Response\",\"Full Response\",\"Full Response\",\"Full Response\",\"Full Response\",\"Partial Response\",\"No Response\",\"Partial Response\",\"Full Response\",\"Full Response\",\"Partial Response\",\"Partial Response\",\"Full Response\",\"Full Response\",\"No Response\",\"Partial Response\",\"Partial Response\",\"Partial Response\",\"Full Response\",\"Full Response\",\"Partial Response\",\"No Response\",\"Full Response\",\"Partial Response\",\"Full Response\",\"Full Response\",\"Partial Response\",\"Partial Response\",\"Full Response\",\"No Response\",\"Partial Response\",\"Full Response\",\"Full Response\",\"Full Response\",\"Full Response\"],\"type\":\"histogram\",\"xaxis\":\"x3\",\"yaxis\":\"y3\"}],                        {\"template\":{\"data\":{\"histogram2dcontour\":[{\"type\":\"histogram2dcontour\",\"colorbar\":{\"outlinewidth\":0,\"ticks\":\"\"},\"colorscale\":[[0.0,\"#0d0887\"],[0.1111111111111111,\"#46039f\"],[0.2222222222222222,\"#7201a8\"],[0.3333333333333333,\"#9c179e\"],[0.4444444444444444,\"#bd3786\"],[0.5555555555555556,\"#d8576b\"],[0.6666666666666666,\"#ed7953\"],[0.7777777777777778,\"#fb9f3a\"],[0.8888888888888888,\"#fdca26\"],[1.0,\"#f0f921\"]]}],\"choropleth\":[{\"type\":\"choropleth\",\"colorbar\":{\"outlinewidth\":0,\"ticks\":\"\"}}],\"histogram2d\":[{\"type\":\"histogram2d\",\"colorbar\":{\"outlinewidth\":0,\"ticks\":\"\"},\"colorscale\":[[0.0,\"#0d0887\"],[0.1111111111111111,\"#46039f\"],[0.2222222222222222,\"#7201a8\"],[0.3333333333333333,\"#9c179e\"],[0.4444444444444444,\"#bd3786\"],[0.5555555555555556,\"#d8576b\"],[0.6666666666666666,\"#ed7953\"],[0.7777777777777778,\"#fb9f3a\"],[0.8888888888888888,\"#fdca26\"],[1.0,\"#f0f921\"]]}],\"heatmap\":[{\"type\":\"heatmap\",\"colorbar\":{\"outlinewidth\":0,\"ticks\":\"\"},\"colorscale\":[[0.0,\"#0d0887\"],[0.1111111111111111,\"#46039f\"],[0.2222222222222222,\"#7201a8\"],[0.3333333333333333,\"#9c179e\"],[0.4444444444444444,\"#bd3786\"],[0.5555555555555556,\"#d8576b\"],[0.6666666666666666,\"#ed7953\"],[0.7777777777777778,\"#fb9f3a\"],[0.8888888888888888,\"#fdca26\"],[1.0,\"#f0f921\"]]}],\"heatmapgl\":[{\"type\":\"heatmapgl\",\"colorbar\":{\"outlinewidth\":0,\"ticks\":\"\"},\"colorscale\":[[0.0,\"#0d0887\"],[0.1111111111111111,\"#46039f\"],[0.2222222222222222,\"#7201a8\"],[0.3333333333333333,\"#9c179e\"],[0.4444444444444444,\"#bd3786\"],[0.5555555555555556,\"#d8576b\"],[0.6666666666666666,\"#ed7953\"],[0.7777777777777778,\"#fb9f3a\"],[0.8888888888888888,\"#fdca26\"],[1.0,\"#f0f921\"]]}],\"contourcarpet\":[{\"type\":\"contourcarpet\",\"colorbar\":{\"outlinewidth\":0,\"ticks\":\"\"}}],\"contour\":[{\"type\":\"contour\",\"colorbar\":{\"outlinewidth\":0,\"ticks\":\"\"},\"colorscale\":[[0.0,\"#0d0887\"],[0.1111111111111111,\"#46039f\"],[0.2222222222222222,\"#7201a8\"],[0.3333333333333333,\"#9c179e\"],[0.4444444444444444,\"#bd3786\"],[0.5555555555555556,\"#d8576b\"],[0.6666666666666666,\"#ed7953\"],[0.7777777777777778,\"#fb9f3a\"],[0.8888888888888888,\"#fdca26\"],[1.0,\"#f0f921\"]]}],\"surface\":[{\"type\":\"surface\",\"colorbar\":{\"outlinewidth\":0,\"ticks\":\"\"},\"colorscale\":[[0.0,\"#0d0887\"],[0.1111111111111111,\"#46039f\"],[0.2222222222222222,\"#7201a8\"],[0.3333333333333333,\"#9c179e\"],[0.4444444444444444,\"#bd3786\"],[0.5555555555555556,\"#d8576b\"],[0.6666666666666666,\"#ed7953\"],[0.7777777777777778,\"#fb9f3a\"],[0.8888888888888888,\"#fdca26\"],[1.0,\"#f0f921\"]]}],\"mesh3d\":[{\"type\":\"mesh3d\",\"colorbar\":{\"outlinewidth\":0,\"ticks\":\"\"}}],\"scatter\":[{\"fillpattern\":{\"fillmode\":\"overlay\",\"size\":10,\"solidity\":0.2},\"type\":\"scatter\"}],\"parcoords\":[{\"type\":\"parcoords\",\"line\":{\"colorbar\":{\"outlinewidth\":0,\"ticks\":\"\"}}}],\"scatterpolargl\":[{\"type\":\"scatterpolargl\",\"marker\":{\"colorbar\":{\"outlinewidth\":0,\"ticks\":\"\"}}}],\"bar\":[{\"error_x\":{\"color\":\"#2a3f5f\"},\"error_y\":{\"color\":\"#2a3f5f\"},\"marker\":{\"line\":{\"color\":\"#E5ECF6\",\"width\":0.5},\"pattern\":{\"fillmode\":\"overlay\",\"size\":10,\"solidity\":0.2}},\"type\":\"bar\"}],\"scattergeo\":[{\"type\":\"scattergeo\",\"marker\":{\"colorbar\":{\"outlinewidth\":0,\"ticks\":\"\"}}}],\"scatterpolar\":[{\"type\":\"scatterpolar\",\"marker\":{\"colorbar\":{\"outlinewidth\":0,\"ticks\":\"\"}}}],\"histogram\":[{\"marker\":{\"pattern\":{\"fillmode\":\"overlay\",\"size\":10,\"solidity\":0.2}},\"type\":\"histogram\"}],\"scattergl\":[{\"type\":\"scattergl\",\"marker\":{\"colorbar\":{\"outlinewidth\":0,\"ticks\":\"\"}}}],\"scatter3d\":[{\"type\":\"scatter3d\",\"line\":{\"colorbar\":{\"outlinewidth\":0,\"ticks\":\"\"}},\"marker\":{\"colorbar\":{\"outlinewidth\":0,\"ticks\":\"\"}}}],\"scattermapbox\":[{\"type\":\"scattermapbox\",\"marker\":{\"colorbar\":{\"outlinewidth\":0,\"ticks\":\"\"}}}],\"scatterternary\":[{\"type\":\"scatterternary\",\"marker\":{\"colorbar\":{\"outlinewidth\":0,\"ticks\":\"\"}}}],\"scattercarpet\":[{\"type\":\"scattercarpet\",\"marker\":{\"colorbar\":{\"outlinewidth\":0,\"ticks\":\"\"}}}],\"carpet\":[{\"aaxis\":{\"endlinecolor\":\"#2a3f5f\",\"gridcolor\":\"white\",\"linecolor\":\"white\",\"minorgridcolor\":\"white\",\"startlinecolor\":\"#2a3f5f\"},\"baxis\":{\"endlinecolor\":\"#2a3f5f\",\"gridcolor\":\"white\",\"linecolor\":\"white\",\"minorgridcolor\":\"white\",\"startlinecolor\":\"#2a3f5f\"},\"type\":\"carpet\"}],\"table\":[{\"cells\":{\"fill\":{\"color\":\"#EBF0F8\"},\"line\":{\"color\":\"white\"}},\"header\":{\"fill\":{\"color\":\"#C8D4E3\"},\"line\":{\"color\":\"white\"}},\"type\":\"table\"}],\"barpolar\":[{\"marker\":{\"line\":{\"color\":\"#E5ECF6\",\"width\":0.5},\"pattern\":{\"fillmode\":\"overlay\",\"size\":10,\"solidity\":0.2}},\"type\":\"barpolar\"}],\"pie\":[{\"automargin\":true,\"type\":\"pie\"}]},\"layout\":{\"autotypenumbers\":\"strict\",\"colorway\":[\"#636efa\",\"#EF553B\",\"#00cc96\",\"#ab63fa\",\"#FFA15A\",\"#19d3f3\",\"#FF6692\",\"#B6E880\",\"#FF97FF\",\"#FECB52\"],\"font\":{\"color\":\"#2a3f5f\"},\"hovermode\":\"closest\",\"hoverlabel\":{\"align\":\"left\"},\"paper_bgcolor\":\"white\",\"plot_bgcolor\":\"#E5ECF6\",\"polar\":{\"bgcolor\":\"#E5ECF6\",\"angularaxis\":{\"gridcolor\":\"white\",\"linecolor\":\"white\",\"ticks\":\"\"},\"radialaxis\":{\"gridcolor\":\"white\",\"linecolor\":\"white\",\"ticks\":\"\"}},\"ternary\":{\"bgcolor\":\"#E5ECF6\",\"aaxis\":{\"gridcolor\":\"white\",\"linecolor\":\"white\",\"ticks\":\"\"},\"baxis\":{\"gridcolor\":\"white\",\"linecolor\":\"white\",\"ticks\":\"\"},\"caxis\":{\"gridcolor\":\"white\",\"linecolor\":\"white\",\"ticks\":\"\"}},\"coloraxis\":{\"colorbar\":{\"outlinewidth\":0,\"ticks\":\"\"}},\"colorscale\":{\"sequential\":[[0.0,\"#0d0887\"],[0.1111111111111111,\"#46039f\"],[0.2222222222222222,\"#7201a8\"],[0.3333333333333333,\"#9c179e\"],[0.4444444444444444,\"#bd3786\"],[0.5555555555555556,\"#d8576b\"],[0.6666666666666666,\"#ed7953\"],[0.7777777777777778,\"#fb9f3a\"],[0.8888888888888888,\"#fdca26\"],[1.0,\"#f0f921\"]],\"sequentialminus\":[[0.0,\"#0d0887\"],[0.1111111111111111,\"#46039f\"],[0.2222222222222222,\"#7201a8\"],[0.3333333333333333,\"#9c179e\"],[0.4444444444444444,\"#bd3786\"],[0.5555555555555556,\"#d8576b\"],[0.6666666666666666,\"#ed7953\"],[0.7777777777777778,\"#fb9f3a\"],[0.8888888888888888,\"#fdca26\"],[1.0,\"#f0f921\"]],\"diverging\":[[0,\"#8e0152\"],[0.1,\"#c51b7d\"],[0.2,\"#de77ae\"],[0.3,\"#f1b6da\"],[0.4,\"#fde0ef\"],[0.5,\"#f7f7f7\"],[0.6,\"#e6f5d0\"],[0.7,\"#b8e186\"],[0.8,\"#7fbc41\"],[0.9,\"#4d9221\"],[1,\"#276419\"]]},\"xaxis\":{\"gridcolor\":\"white\",\"linecolor\":\"white\",\"ticks\":\"\",\"title\":{\"standoff\":15},\"zerolinecolor\":\"white\",\"automargin\":true,\"zerolinewidth\":2},\"yaxis\":{\"gridcolor\":\"white\",\"linecolor\":\"white\",\"ticks\":\"\",\"title\":{\"standoff\":15},\"zerolinecolor\":\"white\",\"automargin\":true,\"zerolinewidth\":2},\"scene\":{\"xaxis\":{\"backgroundcolor\":\"#E5ECF6\",\"gridcolor\":\"white\",\"linecolor\":\"white\",\"showbackground\":true,\"ticks\":\"\",\"zerolinecolor\":\"white\",\"gridwidth\":2},\"yaxis\":{\"backgroundcolor\":\"#E5ECF6\",\"gridcolor\":\"white\",\"linecolor\":\"white\",\"showbackground\":true,\"ticks\":\"\",\"zerolinecolor\":\"white\",\"gridwidth\":2},\"zaxis\":{\"backgroundcolor\":\"#E5ECF6\",\"gridcolor\":\"white\",\"linecolor\":\"white\",\"showbackground\":true,\"ticks\":\"\",\"zerolinecolor\":\"white\",\"gridwidth\":2}},\"shapedefaults\":{\"line\":{\"color\":\"#2a3f5f\"}},\"annotationdefaults\":{\"arrowcolor\":\"#2a3f5f\",\"arrowhead\":0,\"arrowwidth\":1},\"geo\":{\"bgcolor\":\"white\",\"landcolor\":\"#E5ECF6\",\"subunitcolor\":\"white\",\"showland\":true,\"showlakes\":true,\"lakecolor\":\"white\"},\"title\":{\"x\":0.05},\"mapbox\":{\"style\":\"light\"}}},\"xaxis\":{\"anchor\":\"y\",\"domain\":[0.0,0.32],\"categoryorder\":\"array\",\"categoryarray\":[\"Full Remission\",\"Remission\",\"Partial Remission\",\"No/Mild Remission\"],\"tickangle\":-45},\"yaxis\":{\"anchor\":\"x\",\"domain\":[0.0,1.0],\"title\":{\"text\":\"Count\"}},\"xaxis2\":{\"anchor\":\"y2\",\"domain\":[0.34,0.66],\"categoryorder\":\"array\",\"categoryarray\":[\"Worst\",\"No Change\",\"Improvement\",\"Big Improvement\"],\"title\":{\"text\":\"Drug Efficiency Labels\"},\"tickangle\":-45},\"yaxis2\":{\"anchor\":\"x2\",\"domain\":[0.0,1.0],\"matches\":\"y\",\"showticklabels\":false},\"xaxis3\":{\"anchor\":\"y3\",\"domain\":[0.68,1.0],\"categoryorder\":\"array\",\"categoryarray\":[\"No Response\",\"Partial Response\",\"Full Response\"],\"tickangle\":-45},\"yaxis3\":{\"anchor\":\"x3\",\"domain\":[0.0,1.0],\"matches\":\"y\",\"showticklabels\":false},\"font\":{\"size\":15},\"title\":{\"font\":{\"size\":20},\"text\":\"Figure 15. Neither Agitation nor Retardation with Patients taking Paroxetine\",\"x\":0.5,\"xanchor\":\"center\"},\"showlegend\":true,\"width\":1600,\"height\":900},                        {\"responsive\": true}                    ).then(function(){\n",
       "                            \n",
       "var gd = document.getElementById('8bb29baf-fdef-4a19-9e1f-737cdeca376e');\n",
       "var x = new MutationObserver(function (mutations, observer) {{\n",
       "        var display = window.getComputedStyle(gd).display;\n",
       "        if (!display || display === 'none') {{\n",
       "            console.log([gd, 'removed!']);\n",
       "            Plotly.purge(gd);\n",
       "            observer.disconnect();\n",
       "        }}\n",
       "}});\n",
       "\n",
       "// Listen for the removal of the full notebook cells\n",
       "var notebookContainer = gd.closest('#notebook-container');\n",
       "if (notebookContainer) {{\n",
       "    x.observe(notebookContainer, {childList: true});\n",
       "}}\n",
       "\n",
       "// Listen for the clearing of the current output cell\n",
       "var outputEl = gd.closest('.output');\n",
       "if (outputEl) {{\n",
       "    x.observe(outputEl, {childList: true});\n",
       "}}\n",
       "\n",
       "                        })                };                });            </script>        </div>"
      ]
     },
     "metadata": {},
     "output_type": "display_data"
    },
    {
     "data": {
      "text/html": [
       "<div>\n",
       "<style scoped>\n",
       "    .dataframe tbody tr th:only-of-type {\n",
       "        vertical-align: middle;\n",
       "    }\n",
       "\n",
       "    .dataframe tbody tr th {\n",
       "        vertical-align: top;\n",
       "    }\n",
       "\n",
       "    .dataframe thead th {\n",
       "        text-align: right;\n",
       "    }\n",
       "</style>\n",
       "<table border=\"1\" class=\"dataframe\">\n",
       "  <thead>\n",
       "    <tr style=\"text-align: right;\">\n",
       "      <th></th>\n",
       "      <th>V1-HAMD08</th>\n",
       "      <th>V1-HAMD09</th>\n",
       "      <th>V1-all</th>\n",
       "      <th>level</th>\n",
       "      <th>DRUG</th>\n",
       "      <th>Remission</th>\n",
       "      <th>Difference</th>\n",
       "      <th>Response</th>\n",
       "    </tr>\n",
       "  </thead>\n",
       "  <tbody>\n",
       "    <tr>\n",
       "      <th>555</th>\n",
       "      <td>0</td>\n",
       "      <td>0</td>\n",
       "      <td>6</td>\n",
       "      <td>mild</td>\n",
       "      <td>Paroxetine</td>\n",
       "      <td>Full Remission</td>\n",
       "      <td>Improvement</td>\n",
       "      <td>Full Response</td>\n",
       "    </tr>\n",
       "    <tr>\n",
       "      <th>565</th>\n",
       "      <td>0</td>\n",
       "      <td>0</td>\n",
       "      <td>9</td>\n",
       "      <td>mild</td>\n",
       "      <td>Paroxetine</td>\n",
       "      <td>Remission</td>\n",
       "      <td>Worst</td>\n",
       "      <td>No Response</td>\n",
       "    </tr>\n",
       "    <tr>\n",
       "      <th>575</th>\n",
       "      <td>0</td>\n",
       "      <td>0</td>\n",
       "      <td>17</td>\n",
       "      <td>mild</td>\n",
       "      <td>Paroxetine</td>\n",
       "      <td>Remission</td>\n",
       "      <td>Improvement</td>\n",
       "      <td>Partial Response</td>\n",
       "    </tr>\n",
       "    <tr>\n",
       "      <th>576</th>\n",
       "      <td>0</td>\n",
       "      <td>0</td>\n",
       "      <td>17</td>\n",
       "      <td>mild</td>\n",
       "      <td>Paroxetine</td>\n",
       "      <td>Full Remission</td>\n",
       "      <td>Improvement</td>\n",
       "      <td>Full Response</td>\n",
       "    </tr>\n",
       "    <tr>\n",
       "      <th>579</th>\n",
       "      <td>0</td>\n",
       "      <td>0</td>\n",
       "      <td>10</td>\n",
       "      <td>mild</td>\n",
       "      <td>Paroxetine</td>\n",
       "      <td>Full Remission</td>\n",
       "      <td>Improvement</td>\n",
       "      <td>Full Response</td>\n",
       "    </tr>\n",
       "    <tr>\n",
       "      <th>600</th>\n",
       "      <td>0</td>\n",
       "      <td>0</td>\n",
       "      <td>7</td>\n",
       "      <td>mild</td>\n",
       "      <td>Paroxetine</td>\n",
       "      <td>Full Remission</td>\n",
       "      <td>Improvement</td>\n",
       "      <td>Partial Response</td>\n",
       "    </tr>\n",
       "    <tr>\n",
       "      <th>602</th>\n",
       "      <td>0</td>\n",
       "      <td>0</td>\n",
       "      <td>10</td>\n",
       "      <td>mild</td>\n",
       "      <td>Paroxetine</td>\n",
       "      <td>Full Remission</td>\n",
       "      <td>Improvement</td>\n",
       "      <td>Full Response</td>\n",
       "    </tr>\n",
       "    <tr>\n",
       "      <th>612</th>\n",
       "      <td>0</td>\n",
       "      <td>0</td>\n",
       "      <td>7</td>\n",
       "      <td>mild</td>\n",
       "      <td>Paroxetine</td>\n",
       "      <td>Remission</td>\n",
       "      <td>Worst</td>\n",
       "      <td>No Response</td>\n",
       "    </tr>\n",
       "    <tr>\n",
       "      <th>616</th>\n",
       "      <td>0</td>\n",
       "      <td>0</td>\n",
       "      <td>7</td>\n",
       "      <td>mild</td>\n",
       "      <td>Paroxetine</td>\n",
       "      <td>Full Remission</td>\n",
       "      <td>Improvement</td>\n",
       "      <td>Partial Response</td>\n",
       "    </tr>\n",
       "    <tr>\n",
       "      <th>626</th>\n",
       "      <td>0</td>\n",
       "      <td>0</td>\n",
       "      <td>11</td>\n",
       "      <td>mild</td>\n",
       "      <td>Paroxetine</td>\n",
       "      <td>Remission</td>\n",
       "      <td>Improvement</td>\n",
       "      <td>Partial Response</td>\n",
       "    </tr>\n",
       "    <tr>\n",
       "      <th>628</th>\n",
       "      <td>0</td>\n",
       "      <td>0</td>\n",
       "      <td>9</td>\n",
       "      <td>mild</td>\n",
       "      <td>Paroxetine</td>\n",
       "      <td>Full Remission</td>\n",
       "      <td>Improvement</td>\n",
       "      <td>Full Response</td>\n",
       "    </tr>\n",
       "    <tr>\n",
       "      <th>631</th>\n",
       "      <td>0</td>\n",
       "      <td>0</td>\n",
       "      <td>5</td>\n",
       "      <td>mild</td>\n",
       "      <td>Paroxetine</td>\n",
       "      <td>Full Remission</td>\n",
       "      <td>Worst</td>\n",
       "      <td>No Response</td>\n",
       "    </tr>\n",
       "    <tr>\n",
       "      <th>636</th>\n",
       "      <td>0</td>\n",
       "      <td>0</td>\n",
       "      <td>8</td>\n",
       "      <td>mild</td>\n",
       "      <td>Paroxetine</td>\n",
       "      <td>Full Remission</td>\n",
       "      <td>Improvement</td>\n",
       "      <td>Full Response</td>\n",
       "    </tr>\n",
       "    <tr>\n",
       "      <th>637</th>\n",
       "      <td>0</td>\n",
       "      <td>0</td>\n",
       "      <td>24</td>\n",
       "      <td>moderate</td>\n",
       "      <td>Paroxetine</td>\n",
       "      <td>Partial Remission</td>\n",
       "      <td>Improvement</td>\n",
       "      <td>Partial Response</td>\n",
       "    </tr>\n",
       "    <tr>\n",
       "      <th>642</th>\n",
       "      <td>0</td>\n",
       "      <td>0</td>\n",
       "      <td>2</td>\n",
       "      <td>mild</td>\n",
       "      <td>Paroxetine</td>\n",
       "      <td>Full Remission</td>\n",
       "      <td>No Change</td>\n",
       "      <td>No Response</td>\n",
       "    </tr>\n",
       "    <tr>\n",
       "      <th>650</th>\n",
       "      <td>0</td>\n",
       "      <td>0</td>\n",
       "      <td>4</td>\n",
       "      <td>mild</td>\n",
       "      <td>Paroxetine</td>\n",
       "      <td>Full Remission</td>\n",
       "      <td>Improvement</td>\n",
       "      <td>Partial Response</td>\n",
       "    </tr>\n",
       "    <tr>\n",
       "      <th>660</th>\n",
       "      <td>0</td>\n",
       "      <td>0</td>\n",
       "      <td>17</td>\n",
       "      <td>mild</td>\n",
       "      <td>Paroxetine</td>\n",
       "      <td>Remission</td>\n",
       "      <td>Improvement</td>\n",
       "      <td>Partial Response</td>\n",
       "    </tr>\n",
       "    <tr>\n",
       "      <th>666</th>\n",
       "      <td>0</td>\n",
       "      <td>0</td>\n",
       "      <td>7</td>\n",
       "      <td>mild</td>\n",
       "      <td>Paroxetine</td>\n",
       "      <td>Full Remission</td>\n",
       "      <td>Improvement</td>\n",
       "      <td>Full Response</td>\n",
       "    </tr>\n",
       "    <tr>\n",
       "      <th>670</th>\n",
       "      <td>0</td>\n",
       "      <td>0</td>\n",
       "      <td>12</td>\n",
       "      <td>mild</td>\n",
       "      <td>Paroxetine</td>\n",
       "      <td>Full Remission</td>\n",
       "      <td>Improvement</td>\n",
       "      <td>Full Response</td>\n",
       "    </tr>\n",
       "    <tr>\n",
       "      <th>682</th>\n",
       "      <td>0</td>\n",
       "      <td>0</td>\n",
       "      <td>8</td>\n",
       "      <td>mild</td>\n",
       "      <td>Paroxetine</td>\n",
       "      <td>Remission</td>\n",
       "      <td>Worst</td>\n",
       "      <td>No Response</td>\n",
       "    </tr>\n",
       "    <tr>\n",
       "      <th>686</th>\n",
       "      <td>0</td>\n",
       "      <td>0</td>\n",
       "      <td>8</td>\n",
       "      <td>mild</td>\n",
       "      <td>Paroxetine</td>\n",
       "      <td>Full Remission</td>\n",
       "      <td>Improvement</td>\n",
       "      <td>Partial Response</td>\n",
       "    </tr>\n",
       "    <tr>\n",
       "      <th>688</th>\n",
       "      <td>0</td>\n",
       "      <td>0</td>\n",
       "      <td>3</td>\n",
       "      <td>mild</td>\n",
       "      <td>Paroxetine</td>\n",
       "      <td>Full Remission</td>\n",
       "      <td>Improvement</td>\n",
       "      <td>Full Response</td>\n",
       "    </tr>\n",
       "    <tr>\n",
       "      <th>693</th>\n",
       "      <td>0</td>\n",
       "      <td>0</td>\n",
       "      <td>5</td>\n",
       "      <td>mild</td>\n",
       "      <td>Paroxetine</td>\n",
       "      <td>Full Remission</td>\n",
       "      <td>Improvement</td>\n",
       "      <td>Partial Response</td>\n",
       "    </tr>\n",
       "    <tr>\n",
       "      <th>696</th>\n",
       "      <td>0</td>\n",
       "      <td>0</td>\n",
       "      <td>19</td>\n",
       "      <td>moderate</td>\n",
       "      <td>Paroxetine</td>\n",
       "      <td>Full Remission</td>\n",
       "      <td>Big Improvement</td>\n",
       "      <td>Full Response</td>\n",
       "    </tr>\n",
       "    <tr>\n",
       "      <th>700</th>\n",
       "      <td>0</td>\n",
       "      <td>0</td>\n",
       "      <td>20</td>\n",
       "      <td>moderate</td>\n",
       "      <td>Paroxetine</td>\n",
       "      <td>Full Remission</td>\n",
       "      <td>Big Improvement</td>\n",
       "      <td>Full Response</td>\n",
       "    </tr>\n",
       "    <tr>\n",
       "      <th>704</th>\n",
       "      <td>0</td>\n",
       "      <td>0</td>\n",
       "      <td>17</td>\n",
       "      <td>mild</td>\n",
       "      <td>Paroxetine</td>\n",
       "      <td>Full Remission</td>\n",
       "      <td>Improvement</td>\n",
       "      <td>Full Response</td>\n",
       "    </tr>\n",
       "    <tr>\n",
       "      <th>716</th>\n",
       "      <td>0</td>\n",
       "      <td>0</td>\n",
       "      <td>4</td>\n",
       "      <td>mild</td>\n",
       "      <td>Paroxetine</td>\n",
       "      <td>Full Remission</td>\n",
       "      <td>Improvement</td>\n",
       "      <td>Full Response</td>\n",
       "    </tr>\n",
       "    <tr>\n",
       "      <th>722</th>\n",
       "      <td>0</td>\n",
       "      <td>0</td>\n",
       "      <td>18</td>\n",
       "      <td>moderate</td>\n",
       "      <td>Paroxetine</td>\n",
       "      <td>Remission</td>\n",
       "      <td>Improvement</td>\n",
       "      <td>Partial Response</td>\n",
       "    </tr>\n",
       "    <tr>\n",
       "      <th>728</th>\n",
       "      <td>0</td>\n",
       "      <td>0</td>\n",
       "      <td>11</td>\n",
       "      <td>mild</td>\n",
       "      <td>Paroxetine</td>\n",
       "      <td>Remission</td>\n",
       "      <td>Worst</td>\n",
       "      <td>No Response</td>\n",
       "    </tr>\n",
       "    <tr>\n",
       "      <th>735</th>\n",
       "      <td>0</td>\n",
       "      <td>0</td>\n",
       "      <td>5</td>\n",
       "      <td>mild</td>\n",
       "      <td>Paroxetine</td>\n",
       "      <td>Full Remission</td>\n",
       "      <td>Improvement</td>\n",
       "      <td>Partial Response</td>\n",
       "    </tr>\n",
       "    <tr>\n",
       "      <th>759</th>\n",
       "      <td>0</td>\n",
       "      <td>0</td>\n",
       "      <td>7</td>\n",
       "      <td>mild</td>\n",
       "      <td>Paroxetine</td>\n",
       "      <td>Full Remission</td>\n",
       "      <td>Improvement</td>\n",
       "      <td>Full Response</td>\n",
       "    </tr>\n",
       "    <tr>\n",
       "      <th>771</th>\n",
       "      <td>0</td>\n",
       "      <td>0</td>\n",
       "      <td>13</td>\n",
       "      <td>mild</td>\n",
       "      <td>Paroxetine</td>\n",
       "      <td>Full Remission</td>\n",
       "      <td>Improvement</td>\n",
       "      <td>Full Response</td>\n",
       "    </tr>\n",
       "    <tr>\n",
       "      <th>778</th>\n",
       "      <td>0</td>\n",
       "      <td>0</td>\n",
       "      <td>12</td>\n",
       "      <td>mild</td>\n",
       "      <td>Paroxetine</td>\n",
       "      <td>Full Remission</td>\n",
       "      <td>Improvement</td>\n",
       "      <td>Partial Response</td>\n",
       "    </tr>\n",
       "    <tr>\n",
       "      <th>791</th>\n",
       "      <td>0</td>\n",
       "      <td>0</td>\n",
       "      <td>13</td>\n",
       "      <td>mild</td>\n",
       "      <td>Paroxetine</td>\n",
       "      <td>Remission</td>\n",
       "      <td>Improvement</td>\n",
       "      <td>Partial Response</td>\n",
       "    </tr>\n",
       "    <tr>\n",
       "      <th>805</th>\n",
       "      <td>0</td>\n",
       "      <td>0</td>\n",
       "      <td>11</td>\n",
       "      <td>mild</td>\n",
       "      <td>Paroxetine</td>\n",
       "      <td>Full Remission</td>\n",
       "      <td>Improvement</td>\n",
       "      <td>Full Response</td>\n",
       "    </tr>\n",
       "    <tr>\n",
       "      <th>806</th>\n",
       "      <td>0</td>\n",
       "      <td>0</td>\n",
       "      <td>13</td>\n",
       "      <td>mild</td>\n",
       "      <td>Paroxetine</td>\n",
       "      <td>Full Remission</td>\n",
       "      <td>Improvement</td>\n",
       "      <td>Full Response</td>\n",
       "    </tr>\n",
       "    <tr>\n",
       "      <th>808</th>\n",
       "      <td>0</td>\n",
       "      <td>0</td>\n",
       "      <td>25</td>\n",
       "      <td>severe</td>\n",
       "      <td>Paroxetine</td>\n",
       "      <td>No/Mild Remission</td>\n",
       "      <td>Worst</td>\n",
       "      <td>No Response</td>\n",
       "    </tr>\n",
       "    <tr>\n",
       "      <th>814</th>\n",
       "      <td>0</td>\n",
       "      <td>0</td>\n",
       "      <td>13</td>\n",
       "      <td>mild</td>\n",
       "      <td>Paroxetine</td>\n",
       "      <td>Remission</td>\n",
       "      <td>Improvement</td>\n",
       "      <td>Partial Response</td>\n",
       "    </tr>\n",
       "    <tr>\n",
       "      <th>820</th>\n",
       "      <td>0</td>\n",
       "      <td>0</td>\n",
       "      <td>10</td>\n",
       "      <td>mild</td>\n",
       "      <td>Paroxetine</td>\n",
       "      <td>Full Remission</td>\n",
       "      <td>Improvement</td>\n",
       "      <td>Partial Response</td>\n",
       "    </tr>\n",
       "    <tr>\n",
       "      <th>837</th>\n",
       "      <td>0</td>\n",
       "      <td>0</td>\n",
       "      <td>14</td>\n",
       "      <td>mild</td>\n",
       "      <td>Paroxetine</td>\n",
       "      <td>Remission</td>\n",
       "      <td>Improvement</td>\n",
       "      <td>Partial Response</td>\n",
       "    </tr>\n",
       "    <tr>\n",
       "      <th>843</th>\n",
       "      <td>0</td>\n",
       "      <td>0</td>\n",
       "      <td>23</td>\n",
       "      <td>moderate</td>\n",
       "      <td>Paroxetine</td>\n",
       "      <td>Remission</td>\n",
       "      <td>Improvement</td>\n",
       "      <td>Full Response</td>\n",
       "    </tr>\n",
       "    <tr>\n",
       "      <th>854</th>\n",
       "      <td>0</td>\n",
       "      <td>0</td>\n",
       "      <td>10</td>\n",
       "      <td>mild</td>\n",
       "      <td>Paroxetine</td>\n",
       "      <td>Full Remission</td>\n",
       "      <td>Improvement</td>\n",
       "      <td>Full Response</td>\n",
       "    </tr>\n",
       "    <tr>\n",
       "      <th>862</th>\n",
       "      <td>0</td>\n",
       "      <td>0</td>\n",
       "      <td>20</td>\n",
       "      <td>moderate</td>\n",
       "      <td>Paroxetine</td>\n",
       "      <td>Remission</td>\n",
       "      <td>Improvement</td>\n",
       "      <td>Partial Response</td>\n",
       "    </tr>\n",
       "    <tr>\n",
       "      <th>865</th>\n",
       "      <td>0</td>\n",
       "      <td>0</td>\n",
       "      <td>19</td>\n",
       "      <td>moderate</td>\n",
       "      <td>Paroxetine</td>\n",
       "      <td>Partial Remission</td>\n",
       "      <td>Worst</td>\n",
       "      <td>No Response</td>\n",
       "    </tr>\n",
       "    <tr>\n",
       "      <th>870</th>\n",
       "      <td>0</td>\n",
       "      <td>0</td>\n",
       "      <td>13</td>\n",
       "      <td>mild</td>\n",
       "      <td>Paroxetine</td>\n",
       "      <td>Full Remission</td>\n",
       "      <td>Improvement</td>\n",
       "      <td>Full Response</td>\n",
       "    </tr>\n",
       "    <tr>\n",
       "      <th>886</th>\n",
       "      <td>0</td>\n",
       "      <td>0</td>\n",
       "      <td>5</td>\n",
       "      <td>mild</td>\n",
       "      <td>Paroxetine</td>\n",
       "      <td>Full Remission</td>\n",
       "      <td>Improvement</td>\n",
       "      <td>Partial Response</td>\n",
       "    </tr>\n",
       "    <tr>\n",
       "      <th>887</th>\n",
       "      <td>0</td>\n",
       "      <td>0</td>\n",
       "      <td>10</td>\n",
       "      <td>mild</td>\n",
       "      <td>Paroxetine</td>\n",
       "      <td>Full Remission</td>\n",
       "      <td>Improvement</td>\n",
       "      <td>Full Response</td>\n",
       "    </tr>\n",
       "    <tr>\n",
       "      <th>889</th>\n",
       "      <td>0</td>\n",
       "      <td>0</td>\n",
       "      <td>5</td>\n",
       "      <td>mild</td>\n",
       "      <td>Paroxetine</td>\n",
       "      <td>Full Remission</td>\n",
       "      <td>Improvement</td>\n",
       "      <td>Full Response</td>\n",
       "    </tr>\n",
       "    <tr>\n",
       "      <th>1003</th>\n",
       "      <td>0</td>\n",
       "      <td>0</td>\n",
       "      <td>10</td>\n",
       "      <td>mild</td>\n",
       "      <td>Paroxetine</td>\n",
       "      <td>Full Remission</td>\n",
       "      <td>Improvement</td>\n",
       "      <td>Partial Response</td>\n",
       "    </tr>\n",
       "    <tr>\n",
       "      <th>1034</th>\n",
       "      <td>0</td>\n",
       "      <td>0</td>\n",
       "      <td>18</td>\n",
       "      <td>moderate</td>\n",
       "      <td>Paroxetine</td>\n",
       "      <td>Remission</td>\n",
       "      <td>Improvement</td>\n",
       "      <td>Partial Response</td>\n",
       "    </tr>\n",
       "    <tr>\n",
       "      <th>1113</th>\n",
       "      <td>0</td>\n",
       "      <td>0</td>\n",
       "      <td>20</td>\n",
       "      <td>moderate</td>\n",
       "      <td>Paroxetine</td>\n",
       "      <td>Full Remission</td>\n",
       "      <td>Improvement</td>\n",
       "      <td>Full Response</td>\n",
       "    </tr>\n",
       "    <tr>\n",
       "      <th>1132</th>\n",
       "      <td>0</td>\n",
       "      <td>0</td>\n",
       "      <td>7</td>\n",
       "      <td>mild</td>\n",
       "      <td>Paroxetine</td>\n",
       "      <td>Remission</td>\n",
       "      <td>Worst</td>\n",
       "      <td>No Response</td>\n",
       "    </tr>\n",
       "    <tr>\n",
       "      <th>1133</th>\n",
       "      <td>0</td>\n",
       "      <td>0</td>\n",
       "      <td>20</td>\n",
       "      <td>moderate</td>\n",
       "      <td>Paroxetine</td>\n",
       "      <td>Remission</td>\n",
       "      <td>Improvement</td>\n",
       "      <td>Partial Response</td>\n",
       "    </tr>\n",
       "    <tr>\n",
       "      <th>1155</th>\n",
       "      <td>0</td>\n",
       "      <td>0</td>\n",
       "      <td>9</td>\n",
       "      <td>mild</td>\n",
       "      <td>Paroxetine</td>\n",
       "      <td>Full Remission</td>\n",
       "      <td>Improvement</td>\n",
       "      <td>Full Response</td>\n",
       "    </tr>\n",
       "    <tr>\n",
       "      <th>1224</th>\n",
       "      <td>0</td>\n",
       "      <td>0</td>\n",
       "      <td>15</td>\n",
       "      <td>mild</td>\n",
       "      <td>Paroxetine</td>\n",
       "      <td>Full Remission</td>\n",
       "      <td>Improvement</td>\n",
       "      <td>Full Response</td>\n",
       "    </tr>\n",
       "    <tr>\n",
       "      <th>1343</th>\n",
       "      <td>0</td>\n",
       "      <td>0</td>\n",
       "      <td>18</td>\n",
       "      <td>moderate</td>\n",
       "      <td>Paroxetine</td>\n",
       "      <td>Full Remission</td>\n",
       "      <td>Big Improvement</td>\n",
       "      <td>Full Response</td>\n",
       "    </tr>\n",
       "    <tr>\n",
       "      <th>1403</th>\n",
       "      <td>0</td>\n",
       "      <td>0</td>\n",
       "      <td>17</td>\n",
       "      <td>mild</td>\n",
       "      <td>Paroxetine</td>\n",
       "      <td>Full Remission</td>\n",
       "      <td>Improvement</td>\n",
       "      <td>Full Response</td>\n",
       "    </tr>\n",
       "  </tbody>\n",
       "</table>\n",
       "</div>"
      ],
      "text/plain": [
       "      V1-HAMD08  V1-HAMD09  V1-all     level        DRUG          Remission  \\\n",
       "555           0          0       6      mild  Paroxetine     Full Remission   \n",
       "565           0          0       9      mild  Paroxetine          Remission   \n",
       "575           0          0      17      mild  Paroxetine          Remission   \n",
       "576           0          0      17      mild  Paroxetine     Full Remission   \n",
       "579           0          0      10      mild  Paroxetine     Full Remission   \n",
       "600           0          0       7      mild  Paroxetine     Full Remission   \n",
       "602           0          0      10      mild  Paroxetine     Full Remission   \n",
       "612           0          0       7      mild  Paroxetine          Remission   \n",
       "616           0          0       7      mild  Paroxetine     Full Remission   \n",
       "626           0          0      11      mild  Paroxetine          Remission   \n",
       "628           0          0       9      mild  Paroxetine     Full Remission   \n",
       "631           0          0       5      mild  Paroxetine     Full Remission   \n",
       "636           0          0       8      mild  Paroxetine     Full Remission   \n",
       "637           0          0      24  moderate  Paroxetine  Partial Remission   \n",
       "642           0          0       2      mild  Paroxetine     Full Remission   \n",
       "650           0          0       4      mild  Paroxetine     Full Remission   \n",
       "660           0          0      17      mild  Paroxetine          Remission   \n",
       "666           0          0       7      mild  Paroxetine     Full Remission   \n",
       "670           0          0      12      mild  Paroxetine     Full Remission   \n",
       "682           0          0       8      mild  Paroxetine          Remission   \n",
       "686           0          0       8      mild  Paroxetine     Full Remission   \n",
       "688           0          0       3      mild  Paroxetine     Full Remission   \n",
       "693           0          0       5      mild  Paroxetine     Full Remission   \n",
       "696           0          0      19  moderate  Paroxetine     Full Remission   \n",
       "700           0          0      20  moderate  Paroxetine     Full Remission   \n",
       "704           0          0      17      mild  Paroxetine     Full Remission   \n",
       "716           0          0       4      mild  Paroxetine     Full Remission   \n",
       "722           0          0      18  moderate  Paroxetine          Remission   \n",
       "728           0          0      11      mild  Paroxetine          Remission   \n",
       "735           0          0       5      mild  Paroxetine     Full Remission   \n",
       "759           0          0       7      mild  Paroxetine     Full Remission   \n",
       "771           0          0      13      mild  Paroxetine     Full Remission   \n",
       "778           0          0      12      mild  Paroxetine     Full Remission   \n",
       "791           0          0      13      mild  Paroxetine          Remission   \n",
       "805           0          0      11      mild  Paroxetine     Full Remission   \n",
       "806           0          0      13      mild  Paroxetine     Full Remission   \n",
       "808           0          0      25    severe  Paroxetine  No/Mild Remission   \n",
       "814           0          0      13      mild  Paroxetine          Remission   \n",
       "820           0          0      10      mild  Paroxetine     Full Remission   \n",
       "837           0          0      14      mild  Paroxetine          Remission   \n",
       "843           0          0      23  moderate  Paroxetine          Remission   \n",
       "854           0          0      10      mild  Paroxetine     Full Remission   \n",
       "862           0          0      20  moderate  Paroxetine          Remission   \n",
       "865           0          0      19  moderate  Paroxetine  Partial Remission   \n",
       "870           0          0      13      mild  Paroxetine     Full Remission   \n",
       "886           0          0       5      mild  Paroxetine     Full Remission   \n",
       "887           0          0      10      mild  Paroxetine     Full Remission   \n",
       "889           0          0       5      mild  Paroxetine     Full Remission   \n",
       "1003          0          0      10      mild  Paroxetine     Full Remission   \n",
       "1034          0          0      18  moderate  Paroxetine          Remission   \n",
       "1113          0          0      20  moderate  Paroxetine     Full Remission   \n",
       "1132          0          0       7      mild  Paroxetine          Remission   \n",
       "1133          0          0      20  moderate  Paroxetine          Remission   \n",
       "1155          0          0       9      mild  Paroxetine     Full Remission   \n",
       "1224          0          0      15      mild  Paroxetine     Full Remission   \n",
       "1343          0          0      18  moderate  Paroxetine     Full Remission   \n",
       "1403          0          0      17      mild  Paroxetine     Full Remission   \n",
       "\n",
       "           Difference          Response  \n",
       "555       Improvement     Full Response  \n",
       "565             Worst       No Response  \n",
       "575       Improvement  Partial Response  \n",
       "576       Improvement     Full Response  \n",
       "579       Improvement     Full Response  \n",
       "600       Improvement  Partial Response  \n",
       "602       Improvement     Full Response  \n",
       "612             Worst       No Response  \n",
       "616       Improvement  Partial Response  \n",
       "626       Improvement  Partial Response  \n",
       "628       Improvement     Full Response  \n",
       "631             Worst       No Response  \n",
       "636       Improvement     Full Response  \n",
       "637       Improvement  Partial Response  \n",
       "642         No Change       No Response  \n",
       "650       Improvement  Partial Response  \n",
       "660       Improvement  Partial Response  \n",
       "666       Improvement     Full Response  \n",
       "670       Improvement     Full Response  \n",
       "682             Worst       No Response  \n",
       "686       Improvement  Partial Response  \n",
       "688       Improvement     Full Response  \n",
       "693       Improvement  Partial Response  \n",
       "696   Big Improvement     Full Response  \n",
       "700   Big Improvement     Full Response  \n",
       "704       Improvement     Full Response  \n",
       "716       Improvement     Full Response  \n",
       "722       Improvement  Partial Response  \n",
       "728             Worst       No Response  \n",
       "735       Improvement  Partial Response  \n",
       "759       Improvement     Full Response  \n",
       "771       Improvement     Full Response  \n",
       "778       Improvement  Partial Response  \n",
       "791       Improvement  Partial Response  \n",
       "805       Improvement     Full Response  \n",
       "806       Improvement     Full Response  \n",
       "808             Worst       No Response  \n",
       "814       Improvement  Partial Response  \n",
       "820       Improvement  Partial Response  \n",
       "837       Improvement  Partial Response  \n",
       "843       Improvement     Full Response  \n",
       "854       Improvement     Full Response  \n",
       "862       Improvement  Partial Response  \n",
       "865             Worst       No Response  \n",
       "870       Improvement     Full Response  \n",
       "886       Improvement  Partial Response  \n",
       "887       Improvement     Full Response  \n",
       "889       Improvement     Full Response  \n",
       "1003      Improvement  Partial Response  \n",
       "1034      Improvement  Partial Response  \n",
       "1113      Improvement     Full Response  \n",
       "1132            Worst       No Response  \n",
       "1133      Improvement  Partial Response  \n",
       "1155      Improvement     Full Response  \n",
       "1224      Improvement     Full Response  \n",
       "1343  Big Improvement     Full Response  \n",
       "1403      Improvement     Full Response  "
      ]
     },
     "execution_count": 227,
     "metadata": {},
     "output_type": "execute_result"
    }
   ],
   "source": [
    "na_rp = na_r[na_r['DRUG'] == 'Paroxetine']\n",
    "\n",
    "narp1 = go.Histogram(x = na_rp['Remission'], name = 'Remission')\n",
    "narp2 = go.Histogram(x = na_rp['Difference'], name = 'Difference')\n",
    "narp3 = go.Histogram(x = na_rp['Response'], name = 'Response')\n",
    "\n",
    "fig15 = make_subplots(rows = 1, cols = 3, shared_yaxes = True, horizontal_spacing = 0.02)\n",
    "fig15.add_trace(narp1, row = 1, col = 1)\n",
    "fig15.add_trace(narp2, row = 1, col = 2)\n",
    "fig15.add_trace(narp3, row = 1, col = 3)\n",
    "\n",
    "fig15.update_xaxes(categoryorder = 'array', categoryarray = remission_labels, row = 1, col = 1)\n",
    "fig15.update_xaxes(categoryorder = 'array', categoryarray = difference_labels, row = 1, col = 2)\n",
    "fig15.update_xaxes(categoryorder = 'array', categoryarray = response_labels, row = 1, col = 3)\n",
    "\n",
    "fig15.update_layout(\n",
    "    font = {\n",
    "        \"size\": 15\n",
    "    },\n",
    "    \n",
    "    title = {\n",
    "        \"text\": 'Figure 15. Neither Agitation nor Retardation with Patients taking Paroxetine',\n",
    "        \"x\": 0.5,\n",
    "        \"xanchor\" : \"center\",\n",
    "        \"font\" : {\n",
    "            \"size\": 20\n",
    "        }\n",
    "    },\n",
    "    #xaxis =dict(tickmode = 'linear',\n",
    "    #tick0 = 0,\n",
    "    #dtick = 1),\n",
    "    xaxis1 = {\n",
    "        \"tickangle\": -45,\n",
    "    },\n",
    "    xaxis2 = {\n",
    "        \"title\" : 'Drug Efficiency Labels',\n",
    "        \"tickangle\": -45,\n",
    "    },\n",
    "    xaxis3 = {\n",
    "        \"tickangle\": -45,\n",
    "    },\n",
    "#     xaxis_title = 'Drug Efficiency Labels',\n",
    "    yaxis_title = 'Count',\n",
    "    showlegend = True,\n",
    "    width = 1600,\n",
    "    height = 900)\n",
    "\n",
    "fig15.show()\n",
    "\n",
    "na_rp"
   ]
  },
  {
   "cell_type": "code",
   "execution_count": 228,
   "metadata": {},
   "outputs": [
    {
     "data": {
      "text/plain": [
       "[1, 2, 16, 38, 8, 1, 45, 3, 9, 21, 27]"
      ]
     },
     "execution_count": 228,
     "metadata": {},
     "output_type": "execute_result"
    }
   ],
   "source": [
    "# Paroxetine Remission\n",
    "mild_narp = len(na_rp[na_rp['Remission'] == 'No/Mild Remission'])\n",
    "part_narp = len(na_rp[na_rp['Remission'] == 'Partial Remission'])\n",
    "remi_narp = len(na_rp[na_rp['Remission'] == 'Remission'])\n",
    "full_narp = len(na_rp[na_rp['Remission'] == 'Full Remission'])\n",
    "\n",
    "# Paroxetine Difference\n",
    "wor_narp = len(na_rp[na_rp['Difference'] == 'Worst'])\n",
    "nc_narp = len(na_rp[na_rp['Difference'] == 'No Change'])\n",
    "i_narp = len(na_rp[na_rp['Difference'] == 'Improvement'])\n",
    "bi_narp = len(na_rp[na_rp['Difference'] == 'Big Improvement'])\n",
    "\n",
    "# Paroxetine Response\n",
    "nr_narp = len(na_rp[na_rp['Response'] == 'No Response'])\n",
    "pr_narp = len(na_rp[na_rp['Response'] == 'Partial Response'])\n",
    "fr_narp = len(na_rp[na_rp['Response'] == 'Full Response'])\n",
    "\n",
    "narp = [mild_narp, part_narp, remi_narp, full_narp,\n",
    "        wor_narp, nc_narp, i_narp, bi_narp,\n",
    "        nr_narp, pr_narp, fr_narp]\n",
    "\n",
    "narp"
   ]
  },
  {
   "cell_type": "code",
   "execution_count": 229,
   "metadata": {},
   "outputs": [
    {
     "data": {
      "application/vnd.plotly.v1+json": {
       "config": {
        "plotlyServerURL": "https://plot.ly"
       },
       "data": [
        {
         "name": "Remission",
         "type": "histogram",
         "x": [
          "Remission",
          "Remission",
          "Full Remission",
          "Full Remission",
          "Full Remission",
          "Full Remission"
         ],
         "xaxis": "x",
         "yaxis": "y"
        },
        {
         "name": "Difference",
         "type": "histogram",
         "x": [
          "No Change",
          "Worst",
          "Big Improvement",
          "Big Improvement",
          "Improvement",
          "Improvement"
         ],
         "xaxis": "x2",
         "yaxis": "y2"
        },
        {
         "name": "Response",
         "type": "histogram",
         "x": [
          "No Response",
          "No Response",
          "Full Response",
          "Full Response",
          "Full Response",
          "Full Response"
         ],
         "xaxis": "x3",
         "yaxis": "y3"
        }
       ],
       "layout": {
        "font": {
         "size": 15
        },
        "height": 900,
        "showlegend": true,
        "template": {
         "data": {
          "bar": [
           {
            "error_x": {
             "color": "#2a3f5f"
            },
            "error_y": {
             "color": "#2a3f5f"
            },
            "marker": {
             "line": {
              "color": "#E5ECF6",
              "width": 0.5
             },
             "pattern": {
              "fillmode": "overlay",
              "size": 10,
              "solidity": 0.2
             }
            },
            "type": "bar"
           }
          ],
          "barpolar": [
           {
            "marker": {
             "line": {
              "color": "#E5ECF6",
              "width": 0.5
             },
             "pattern": {
              "fillmode": "overlay",
              "size": 10,
              "solidity": 0.2
             }
            },
            "type": "barpolar"
           }
          ],
          "carpet": [
           {
            "aaxis": {
             "endlinecolor": "#2a3f5f",
             "gridcolor": "white",
             "linecolor": "white",
             "minorgridcolor": "white",
             "startlinecolor": "#2a3f5f"
            },
            "baxis": {
             "endlinecolor": "#2a3f5f",
             "gridcolor": "white",
             "linecolor": "white",
             "minorgridcolor": "white",
             "startlinecolor": "#2a3f5f"
            },
            "type": "carpet"
           }
          ],
          "choropleth": [
           {
            "colorbar": {
             "outlinewidth": 0,
             "ticks": ""
            },
            "type": "choropleth"
           }
          ],
          "contour": [
           {
            "colorbar": {
             "outlinewidth": 0,
             "ticks": ""
            },
            "colorscale": [
             [
              0,
              "#0d0887"
             ],
             [
              0.1111111111111111,
              "#46039f"
             ],
             [
              0.2222222222222222,
              "#7201a8"
             ],
             [
              0.3333333333333333,
              "#9c179e"
             ],
             [
              0.4444444444444444,
              "#bd3786"
             ],
             [
              0.5555555555555556,
              "#d8576b"
             ],
             [
              0.6666666666666666,
              "#ed7953"
             ],
             [
              0.7777777777777778,
              "#fb9f3a"
             ],
             [
              0.8888888888888888,
              "#fdca26"
             ],
             [
              1,
              "#f0f921"
             ]
            ],
            "type": "contour"
           }
          ],
          "contourcarpet": [
           {
            "colorbar": {
             "outlinewidth": 0,
             "ticks": ""
            },
            "type": "contourcarpet"
           }
          ],
          "heatmap": [
           {
            "colorbar": {
             "outlinewidth": 0,
             "ticks": ""
            },
            "colorscale": [
             [
              0,
              "#0d0887"
             ],
             [
              0.1111111111111111,
              "#46039f"
             ],
             [
              0.2222222222222222,
              "#7201a8"
             ],
             [
              0.3333333333333333,
              "#9c179e"
             ],
             [
              0.4444444444444444,
              "#bd3786"
             ],
             [
              0.5555555555555556,
              "#d8576b"
             ],
             [
              0.6666666666666666,
              "#ed7953"
             ],
             [
              0.7777777777777778,
              "#fb9f3a"
             ],
             [
              0.8888888888888888,
              "#fdca26"
             ],
             [
              1,
              "#f0f921"
             ]
            ],
            "type": "heatmap"
           }
          ],
          "heatmapgl": [
           {
            "colorbar": {
             "outlinewidth": 0,
             "ticks": ""
            },
            "colorscale": [
             [
              0,
              "#0d0887"
             ],
             [
              0.1111111111111111,
              "#46039f"
             ],
             [
              0.2222222222222222,
              "#7201a8"
             ],
             [
              0.3333333333333333,
              "#9c179e"
             ],
             [
              0.4444444444444444,
              "#bd3786"
             ],
             [
              0.5555555555555556,
              "#d8576b"
             ],
             [
              0.6666666666666666,
              "#ed7953"
             ],
             [
              0.7777777777777778,
              "#fb9f3a"
             ],
             [
              0.8888888888888888,
              "#fdca26"
             ],
             [
              1,
              "#f0f921"
             ]
            ],
            "type": "heatmapgl"
           }
          ],
          "histogram": [
           {
            "marker": {
             "pattern": {
              "fillmode": "overlay",
              "size": 10,
              "solidity": 0.2
             }
            },
            "type": "histogram"
           }
          ],
          "histogram2d": [
           {
            "colorbar": {
             "outlinewidth": 0,
             "ticks": ""
            },
            "colorscale": [
             [
              0,
              "#0d0887"
             ],
             [
              0.1111111111111111,
              "#46039f"
             ],
             [
              0.2222222222222222,
              "#7201a8"
             ],
             [
              0.3333333333333333,
              "#9c179e"
             ],
             [
              0.4444444444444444,
              "#bd3786"
             ],
             [
              0.5555555555555556,
              "#d8576b"
             ],
             [
              0.6666666666666666,
              "#ed7953"
             ],
             [
              0.7777777777777778,
              "#fb9f3a"
             ],
             [
              0.8888888888888888,
              "#fdca26"
             ],
             [
              1,
              "#f0f921"
             ]
            ],
            "type": "histogram2d"
           }
          ],
          "histogram2dcontour": [
           {
            "colorbar": {
             "outlinewidth": 0,
             "ticks": ""
            },
            "colorscale": [
             [
              0,
              "#0d0887"
             ],
             [
              0.1111111111111111,
              "#46039f"
             ],
             [
              0.2222222222222222,
              "#7201a8"
             ],
             [
              0.3333333333333333,
              "#9c179e"
             ],
             [
              0.4444444444444444,
              "#bd3786"
             ],
             [
              0.5555555555555556,
              "#d8576b"
             ],
             [
              0.6666666666666666,
              "#ed7953"
             ],
             [
              0.7777777777777778,
              "#fb9f3a"
             ],
             [
              0.8888888888888888,
              "#fdca26"
             ],
             [
              1,
              "#f0f921"
             ]
            ],
            "type": "histogram2dcontour"
           }
          ],
          "mesh3d": [
           {
            "colorbar": {
             "outlinewidth": 0,
             "ticks": ""
            },
            "type": "mesh3d"
           }
          ],
          "parcoords": [
           {
            "line": {
             "colorbar": {
              "outlinewidth": 0,
              "ticks": ""
             }
            },
            "type": "parcoords"
           }
          ],
          "pie": [
           {
            "automargin": true,
            "type": "pie"
           }
          ],
          "scatter": [
           {
            "fillpattern": {
             "fillmode": "overlay",
             "size": 10,
             "solidity": 0.2
            },
            "type": "scatter"
           }
          ],
          "scatter3d": [
           {
            "line": {
             "colorbar": {
              "outlinewidth": 0,
              "ticks": ""
             }
            },
            "marker": {
             "colorbar": {
              "outlinewidth": 0,
              "ticks": ""
             }
            },
            "type": "scatter3d"
           }
          ],
          "scattercarpet": [
           {
            "marker": {
             "colorbar": {
              "outlinewidth": 0,
              "ticks": ""
             }
            },
            "type": "scattercarpet"
           }
          ],
          "scattergeo": [
           {
            "marker": {
             "colorbar": {
              "outlinewidth": 0,
              "ticks": ""
             }
            },
            "type": "scattergeo"
           }
          ],
          "scattergl": [
           {
            "marker": {
             "colorbar": {
              "outlinewidth": 0,
              "ticks": ""
             }
            },
            "type": "scattergl"
           }
          ],
          "scattermapbox": [
           {
            "marker": {
             "colorbar": {
              "outlinewidth": 0,
              "ticks": ""
             }
            },
            "type": "scattermapbox"
           }
          ],
          "scatterpolar": [
           {
            "marker": {
             "colorbar": {
              "outlinewidth": 0,
              "ticks": ""
             }
            },
            "type": "scatterpolar"
           }
          ],
          "scatterpolargl": [
           {
            "marker": {
             "colorbar": {
              "outlinewidth": 0,
              "ticks": ""
             }
            },
            "type": "scatterpolargl"
           }
          ],
          "scatterternary": [
           {
            "marker": {
             "colorbar": {
              "outlinewidth": 0,
              "ticks": ""
             }
            },
            "type": "scatterternary"
           }
          ],
          "surface": [
           {
            "colorbar": {
             "outlinewidth": 0,
             "ticks": ""
            },
            "colorscale": [
             [
              0,
              "#0d0887"
             ],
             [
              0.1111111111111111,
              "#46039f"
             ],
             [
              0.2222222222222222,
              "#7201a8"
             ],
             [
              0.3333333333333333,
              "#9c179e"
             ],
             [
              0.4444444444444444,
              "#bd3786"
             ],
             [
              0.5555555555555556,
              "#d8576b"
             ],
             [
              0.6666666666666666,
              "#ed7953"
             ],
             [
              0.7777777777777778,
              "#fb9f3a"
             ],
             [
              0.8888888888888888,
              "#fdca26"
             ],
             [
              1,
              "#f0f921"
             ]
            ],
            "type": "surface"
           }
          ],
          "table": [
           {
            "cells": {
             "fill": {
              "color": "#EBF0F8"
             },
             "line": {
              "color": "white"
             }
            },
            "header": {
             "fill": {
              "color": "#C8D4E3"
             },
             "line": {
              "color": "white"
             }
            },
            "type": "table"
           }
          ]
         },
         "layout": {
          "annotationdefaults": {
           "arrowcolor": "#2a3f5f",
           "arrowhead": 0,
           "arrowwidth": 1
          },
          "autotypenumbers": "strict",
          "coloraxis": {
           "colorbar": {
            "outlinewidth": 0,
            "ticks": ""
           }
          },
          "colorscale": {
           "diverging": [
            [
             0,
             "#8e0152"
            ],
            [
             0.1,
             "#c51b7d"
            ],
            [
             0.2,
             "#de77ae"
            ],
            [
             0.3,
             "#f1b6da"
            ],
            [
             0.4,
             "#fde0ef"
            ],
            [
             0.5,
             "#f7f7f7"
            ],
            [
             0.6,
             "#e6f5d0"
            ],
            [
             0.7,
             "#b8e186"
            ],
            [
             0.8,
             "#7fbc41"
            ],
            [
             0.9,
             "#4d9221"
            ],
            [
             1,
             "#276419"
            ]
           ],
           "sequential": [
            [
             0,
             "#0d0887"
            ],
            [
             0.1111111111111111,
             "#46039f"
            ],
            [
             0.2222222222222222,
             "#7201a8"
            ],
            [
             0.3333333333333333,
             "#9c179e"
            ],
            [
             0.4444444444444444,
             "#bd3786"
            ],
            [
             0.5555555555555556,
             "#d8576b"
            ],
            [
             0.6666666666666666,
             "#ed7953"
            ],
            [
             0.7777777777777778,
             "#fb9f3a"
            ],
            [
             0.8888888888888888,
             "#fdca26"
            ],
            [
             1,
             "#f0f921"
            ]
           ],
           "sequentialminus": [
            [
             0,
             "#0d0887"
            ],
            [
             0.1111111111111111,
             "#46039f"
            ],
            [
             0.2222222222222222,
             "#7201a8"
            ],
            [
             0.3333333333333333,
             "#9c179e"
            ],
            [
             0.4444444444444444,
             "#bd3786"
            ],
            [
             0.5555555555555556,
             "#d8576b"
            ],
            [
             0.6666666666666666,
             "#ed7953"
            ],
            [
             0.7777777777777778,
             "#fb9f3a"
            ],
            [
             0.8888888888888888,
             "#fdca26"
            ],
            [
             1,
             "#f0f921"
            ]
           ]
          },
          "colorway": [
           "#636efa",
           "#EF553B",
           "#00cc96",
           "#ab63fa",
           "#FFA15A",
           "#19d3f3",
           "#FF6692",
           "#B6E880",
           "#FF97FF",
           "#FECB52"
          ],
          "font": {
           "color": "#2a3f5f"
          },
          "geo": {
           "bgcolor": "white",
           "lakecolor": "white",
           "landcolor": "#E5ECF6",
           "showlakes": true,
           "showland": true,
           "subunitcolor": "white"
          },
          "hoverlabel": {
           "align": "left"
          },
          "hovermode": "closest",
          "mapbox": {
           "style": "light"
          },
          "paper_bgcolor": "white",
          "plot_bgcolor": "#E5ECF6",
          "polar": {
           "angularaxis": {
            "gridcolor": "white",
            "linecolor": "white",
            "ticks": ""
           },
           "bgcolor": "#E5ECF6",
           "radialaxis": {
            "gridcolor": "white",
            "linecolor": "white",
            "ticks": ""
           }
          },
          "scene": {
           "xaxis": {
            "backgroundcolor": "#E5ECF6",
            "gridcolor": "white",
            "gridwidth": 2,
            "linecolor": "white",
            "showbackground": true,
            "ticks": "",
            "zerolinecolor": "white"
           },
           "yaxis": {
            "backgroundcolor": "#E5ECF6",
            "gridcolor": "white",
            "gridwidth": 2,
            "linecolor": "white",
            "showbackground": true,
            "ticks": "",
            "zerolinecolor": "white"
           },
           "zaxis": {
            "backgroundcolor": "#E5ECF6",
            "gridcolor": "white",
            "gridwidth": 2,
            "linecolor": "white",
            "showbackground": true,
            "ticks": "",
            "zerolinecolor": "white"
           }
          },
          "shapedefaults": {
           "line": {
            "color": "#2a3f5f"
           }
          },
          "ternary": {
           "aaxis": {
            "gridcolor": "white",
            "linecolor": "white",
            "ticks": ""
           },
           "baxis": {
            "gridcolor": "white",
            "linecolor": "white",
            "ticks": ""
           },
           "bgcolor": "#E5ECF6",
           "caxis": {
            "gridcolor": "white",
            "linecolor": "white",
            "ticks": ""
           }
          },
          "title": {
           "x": 0.05
          },
          "xaxis": {
           "automargin": true,
           "gridcolor": "white",
           "linecolor": "white",
           "ticks": "",
           "title": {
            "standoff": 15
           },
           "zerolinecolor": "white",
           "zerolinewidth": 2
          },
          "yaxis": {
           "automargin": true,
           "gridcolor": "white",
           "linecolor": "white",
           "ticks": "",
           "title": {
            "standoff": 15
           },
           "zerolinecolor": "white",
           "zerolinewidth": 2
          }
         }
        },
        "title": {
         "font": {
          "size": 20
         },
         "text": "Figure 16. Neither Agitation nor Retardation with Patients taking Fluoxetine",
         "x": 0.5,
         "xanchor": "center"
        },
        "width": 1600,
        "xaxis": {
         "anchor": "y",
         "categoryarray": [
          "Full Remission",
          "Remission",
          "Partial Remission",
          "No/Mild Remission"
         ],
         "categoryorder": "array",
         "domain": [
          0,
          0.32
         ],
         "tickangle": -45
        },
        "xaxis2": {
         "anchor": "y2",
         "categoryarray": [
          "Worst",
          "No Change",
          "Improvement",
          "Big Improvement"
         ],
         "categoryorder": "array",
         "domain": [
          0.34,
          0.66
         ],
         "tickangle": -45,
         "title": {
          "text": "Drug Efficiency Labels"
         }
        },
        "xaxis3": {
         "anchor": "y3",
         "categoryarray": [
          "No Response",
          "Partial Response",
          "Full Response"
         ],
         "categoryorder": "array",
         "domain": [
          0.68,
          1
         ],
         "tickangle": -45
        },
        "yaxis": {
         "anchor": "x",
         "domain": [
          0,
          1
         ],
         "title": {
          "text": "Count"
         }
        },
        "yaxis2": {
         "anchor": "x2",
         "domain": [
          0,
          1
         ],
         "matches": "y",
         "showticklabels": false
        },
        "yaxis3": {
         "anchor": "x3",
         "domain": [
          0,
          1
         ],
         "matches": "y",
         "showticklabels": false
        }
       }
      },
      "text/html": [
       "<div>                            <div id=\"b6f4c9a2-9cc3-496d-8f3d-027ffa25d849\" class=\"plotly-graph-div\" style=\"height:900px; width:1600px;\"></div>            <script type=\"text/javascript\">                require([\"plotly\"], function(Plotly) {                    window.PLOTLYENV=window.PLOTLYENV || {};                                    if (document.getElementById(\"b6f4c9a2-9cc3-496d-8f3d-027ffa25d849\")) {                    Plotly.newPlot(                        \"b6f4c9a2-9cc3-496d-8f3d-027ffa25d849\",                        [{\"name\":\"Remission\",\"x\":[\"Remission\",\"Remission\",\"Full Remission\",\"Full Remission\",\"Full Remission\",\"Full Remission\"],\"type\":\"histogram\",\"xaxis\":\"x\",\"yaxis\":\"y\"},{\"name\":\"Difference\",\"x\":[\"No Change\",\"Worst\",\"Big Improvement\",\"Big Improvement\",\"Improvement\",\"Improvement\"],\"type\":\"histogram\",\"xaxis\":\"x2\",\"yaxis\":\"y2\"},{\"name\":\"Response\",\"x\":[\"No Response\",\"No Response\",\"Full Response\",\"Full Response\",\"Full Response\",\"Full Response\"],\"type\":\"histogram\",\"xaxis\":\"x3\",\"yaxis\":\"y3\"}],                        {\"template\":{\"data\":{\"histogram2dcontour\":[{\"type\":\"histogram2dcontour\",\"colorbar\":{\"outlinewidth\":0,\"ticks\":\"\"},\"colorscale\":[[0.0,\"#0d0887\"],[0.1111111111111111,\"#46039f\"],[0.2222222222222222,\"#7201a8\"],[0.3333333333333333,\"#9c179e\"],[0.4444444444444444,\"#bd3786\"],[0.5555555555555556,\"#d8576b\"],[0.6666666666666666,\"#ed7953\"],[0.7777777777777778,\"#fb9f3a\"],[0.8888888888888888,\"#fdca26\"],[1.0,\"#f0f921\"]]}],\"choropleth\":[{\"type\":\"choropleth\",\"colorbar\":{\"outlinewidth\":0,\"ticks\":\"\"}}],\"histogram2d\":[{\"type\":\"histogram2d\",\"colorbar\":{\"outlinewidth\":0,\"ticks\":\"\"},\"colorscale\":[[0.0,\"#0d0887\"],[0.1111111111111111,\"#46039f\"],[0.2222222222222222,\"#7201a8\"],[0.3333333333333333,\"#9c179e\"],[0.4444444444444444,\"#bd3786\"],[0.5555555555555556,\"#d8576b\"],[0.6666666666666666,\"#ed7953\"],[0.7777777777777778,\"#fb9f3a\"],[0.8888888888888888,\"#fdca26\"],[1.0,\"#f0f921\"]]}],\"heatmap\":[{\"type\":\"heatmap\",\"colorbar\":{\"outlinewidth\":0,\"ticks\":\"\"},\"colorscale\":[[0.0,\"#0d0887\"],[0.1111111111111111,\"#46039f\"],[0.2222222222222222,\"#7201a8\"],[0.3333333333333333,\"#9c179e\"],[0.4444444444444444,\"#bd3786\"],[0.5555555555555556,\"#d8576b\"],[0.6666666666666666,\"#ed7953\"],[0.7777777777777778,\"#fb9f3a\"],[0.8888888888888888,\"#fdca26\"],[1.0,\"#f0f921\"]]}],\"heatmapgl\":[{\"type\":\"heatmapgl\",\"colorbar\":{\"outlinewidth\":0,\"ticks\":\"\"},\"colorscale\":[[0.0,\"#0d0887\"],[0.1111111111111111,\"#46039f\"],[0.2222222222222222,\"#7201a8\"],[0.3333333333333333,\"#9c179e\"],[0.4444444444444444,\"#bd3786\"],[0.5555555555555556,\"#d8576b\"],[0.6666666666666666,\"#ed7953\"],[0.7777777777777778,\"#fb9f3a\"],[0.8888888888888888,\"#fdca26\"],[1.0,\"#f0f921\"]]}],\"contourcarpet\":[{\"type\":\"contourcarpet\",\"colorbar\":{\"outlinewidth\":0,\"ticks\":\"\"}}],\"contour\":[{\"type\":\"contour\",\"colorbar\":{\"outlinewidth\":0,\"ticks\":\"\"},\"colorscale\":[[0.0,\"#0d0887\"],[0.1111111111111111,\"#46039f\"],[0.2222222222222222,\"#7201a8\"],[0.3333333333333333,\"#9c179e\"],[0.4444444444444444,\"#bd3786\"],[0.5555555555555556,\"#d8576b\"],[0.6666666666666666,\"#ed7953\"],[0.7777777777777778,\"#fb9f3a\"],[0.8888888888888888,\"#fdca26\"],[1.0,\"#f0f921\"]]}],\"surface\":[{\"type\":\"surface\",\"colorbar\":{\"outlinewidth\":0,\"ticks\":\"\"},\"colorscale\":[[0.0,\"#0d0887\"],[0.1111111111111111,\"#46039f\"],[0.2222222222222222,\"#7201a8\"],[0.3333333333333333,\"#9c179e\"],[0.4444444444444444,\"#bd3786\"],[0.5555555555555556,\"#d8576b\"],[0.6666666666666666,\"#ed7953\"],[0.7777777777777778,\"#fb9f3a\"],[0.8888888888888888,\"#fdca26\"],[1.0,\"#f0f921\"]]}],\"mesh3d\":[{\"type\":\"mesh3d\",\"colorbar\":{\"outlinewidth\":0,\"ticks\":\"\"}}],\"scatter\":[{\"fillpattern\":{\"fillmode\":\"overlay\",\"size\":10,\"solidity\":0.2},\"type\":\"scatter\"}],\"parcoords\":[{\"type\":\"parcoords\",\"line\":{\"colorbar\":{\"outlinewidth\":0,\"ticks\":\"\"}}}],\"scatterpolargl\":[{\"type\":\"scatterpolargl\",\"marker\":{\"colorbar\":{\"outlinewidth\":0,\"ticks\":\"\"}}}],\"bar\":[{\"error_x\":{\"color\":\"#2a3f5f\"},\"error_y\":{\"color\":\"#2a3f5f\"},\"marker\":{\"line\":{\"color\":\"#E5ECF6\",\"width\":0.5},\"pattern\":{\"fillmode\":\"overlay\",\"size\":10,\"solidity\":0.2}},\"type\":\"bar\"}],\"scattergeo\":[{\"type\":\"scattergeo\",\"marker\":{\"colorbar\":{\"outlinewidth\":0,\"ticks\":\"\"}}}],\"scatterpolar\":[{\"type\":\"scatterpolar\",\"marker\":{\"colorbar\":{\"outlinewidth\":0,\"ticks\":\"\"}}}],\"histogram\":[{\"marker\":{\"pattern\":{\"fillmode\":\"overlay\",\"size\":10,\"solidity\":0.2}},\"type\":\"histogram\"}],\"scattergl\":[{\"type\":\"scattergl\",\"marker\":{\"colorbar\":{\"outlinewidth\":0,\"ticks\":\"\"}}}],\"scatter3d\":[{\"type\":\"scatter3d\",\"line\":{\"colorbar\":{\"outlinewidth\":0,\"ticks\":\"\"}},\"marker\":{\"colorbar\":{\"outlinewidth\":0,\"ticks\":\"\"}}}],\"scattermapbox\":[{\"type\":\"scattermapbox\",\"marker\":{\"colorbar\":{\"outlinewidth\":0,\"ticks\":\"\"}}}],\"scatterternary\":[{\"type\":\"scatterternary\",\"marker\":{\"colorbar\":{\"outlinewidth\":0,\"ticks\":\"\"}}}],\"scattercarpet\":[{\"type\":\"scattercarpet\",\"marker\":{\"colorbar\":{\"outlinewidth\":0,\"ticks\":\"\"}}}],\"carpet\":[{\"aaxis\":{\"endlinecolor\":\"#2a3f5f\",\"gridcolor\":\"white\",\"linecolor\":\"white\",\"minorgridcolor\":\"white\",\"startlinecolor\":\"#2a3f5f\"},\"baxis\":{\"endlinecolor\":\"#2a3f5f\",\"gridcolor\":\"white\",\"linecolor\":\"white\",\"minorgridcolor\":\"white\",\"startlinecolor\":\"#2a3f5f\"},\"type\":\"carpet\"}],\"table\":[{\"cells\":{\"fill\":{\"color\":\"#EBF0F8\"},\"line\":{\"color\":\"white\"}},\"header\":{\"fill\":{\"color\":\"#C8D4E3\"},\"line\":{\"color\":\"white\"}},\"type\":\"table\"}],\"barpolar\":[{\"marker\":{\"line\":{\"color\":\"#E5ECF6\",\"width\":0.5},\"pattern\":{\"fillmode\":\"overlay\",\"size\":10,\"solidity\":0.2}},\"type\":\"barpolar\"}],\"pie\":[{\"automargin\":true,\"type\":\"pie\"}]},\"layout\":{\"autotypenumbers\":\"strict\",\"colorway\":[\"#636efa\",\"#EF553B\",\"#00cc96\",\"#ab63fa\",\"#FFA15A\",\"#19d3f3\",\"#FF6692\",\"#B6E880\",\"#FF97FF\",\"#FECB52\"],\"font\":{\"color\":\"#2a3f5f\"},\"hovermode\":\"closest\",\"hoverlabel\":{\"align\":\"left\"},\"paper_bgcolor\":\"white\",\"plot_bgcolor\":\"#E5ECF6\",\"polar\":{\"bgcolor\":\"#E5ECF6\",\"angularaxis\":{\"gridcolor\":\"white\",\"linecolor\":\"white\",\"ticks\":\"\"},\"radialaxis\":{\"gridcolor\":\"white\",\"linecolor\":\"white\",\"ticks\":\"\"}},\"ternary\":{\"bgcolor\":\"#E5ECF6\",\"aaxis\":{\"gridcolor\":\"white\",\"linecolor\":\"white\",\"ticks\":\"\"},\"baxis\":{\"gridcolor\":\"white\",\"linecolor\":\"white\",\"ticks\":\"\"},\"caxis\":{\"gridcolor\":\"white\",\"linecolor\":\"white\",\"ticks\":\"\"}},\"coloraxis\":{\"colorbar\":{\"outlinewidth\":0,\"ticks\":\"\"}},\"colorscale\":{\"sequential\":[[0.0,\"#0d0887\"],[0.1111111111111111,\"#46039f\"],[0.2222222222222222,\"#7201a8\"],[0.3333333333333333,\"#9c179e\"],[0.4444444444444444,\"#bd3786\"],[0.5555555555555556,\"#d8576b\"],[0.6666666666666666,\"#ed7953\"],[0.7777777777777778,\"#fb9f3a\"],[0.8888888888888888,\"#fdca26\"],[1.0,\"#f0f921\"]],\"sequentialminus\":[[0.0,\"#0d0887\"],[0.1111111111111111,\"#46039f\"],[0.2222222222222222,\"#7201a8\"],[0.3333333333333333,\"#9c179e\"],[0.4444444444444444,\"#bd3786\"],[0.5555555555555556,\"#d8576b\"],[0.6666666666666666,\"#ed7953\"],[0.7777777777777778,\"#fb9f3a\"],[0.8888888888888888,\"#fdca26\"],[1.0,\"#f0f921\"]],\"diverging\":[[0,\"#8e0152\"],[0.1,\"#c51b7d\"],[0.2,\"#de77ae\"],[0.3,\"#f1b6da\"],[0.4,\"#fde0ef\"],[0.5,\"#f7f7f7\"],[0.6,\"#e6f5d0\"],[0.7,\"#b8e186\"],[0.8,\"#7fbc41\"],[0.9,\"#4d9221\"],[1,\"#276419\"]]},\"xaxis\":{\"gridcolor\":\"white\",\"linecolor\":\"white\",\"ticks\":\"\",\"title\":{\"standoff\":15},\"zerolinecolor\":\"white\",\"automargin\":true,\"zerolinewidth\":2},\"yaxis\":{\"gridcolor\":\"white\",\"linecolor\":\"white\",\"ticks\":\"\",\"title\":{\"standoff\":15},\"zerolinecolor\":\"white\",\"automargin\":true,\"zerolinewidth\":2},\"scene\":{\"xaxis\":{\"backgroundcolor\":\"#E5ECF6\",\"gridcolor\":\"white\",\"linecolor\":\"white\",\"showbackground\":true,\"ticks\":\"\",\"zerolinecolor\":\"white\",\"gridwidth\":2},\"yaxis\":{\"backgroundcolor\":\"#E5ECF6\",\"gridcolor\":\"white\",\"linecolor\":\"white\",\"showbackground\":true,\"ticks\":\"\",\"zerolinecolor\":\"white\",\"gridwidth\":2},\"zaxis\":{\"backgroundcolor\":\"#E5ECF6\",\"gridcolor\":\"white\",\"linecolor\":\"white\",\"showbackground\":true,\"ticks\":\"\",\"zerolinecolor\":\"white\",\"gridwidth\":2}},\"shapedefaults\":{\"line\":{\"color\":\"#2a3f5f\"}},\"annotationdefaults\":{\"arrowcolor\":\"#2a3f5f\",\"arrowhead\":0,\"arrowwidth\":1},\"geo\":{\"bgcolor\":\"white\",\"landcolor\":\"#E5ECF6\",\"subunitcolor\":\"white\",\"showland\":true,\"showlakes\":true,\"lakecolor\":\"white\"},\"title\":{\"x\":0.05},\"mapbox\":{\"style\":\"light\"}}},\"xaxis\":{\"anchor\":\"y\",\"domain\":[0.0,0.32],\"categoryorder\":\"array\",\"categoryarray\":[\"Full Remission\",\"Remission\",\"Partial Remission\",\"No/Mild Remission\"],\"tickangle\":-45},\"yaxis\":{\"anchor\":\"x\",\"domain\":[0.0,1.0],\"title\":{\"text\":\"Count\"}},\"xaxis2\":{\"anchor\":\"y2\",\"domain\":[0.34,0.66],\"categoryorder\":\"array\",\"categoryarray\":[\"Worst\",\"No Change\",\"Improvement\",\"Big Improvement\"],\"title\":{\"text\":\"Drug Efficiency Labels\"},\"tickangle\":-45},\"yaxis2\":{\"anchor\":\"x2\",\"domain\":[0.0,1.0],\"matches\":\"y\",\"showticklabels\":false},\"xaxis3\":{\"anchor\":\"y3\",\"domain\":[0.68,1.0],\"categoryorder\":\"array\",\"categoryarray\":[\"No Response\",\"Partial Response\",\"Full Response\"],\"tickangle\":-45},\"yaxis3\":{\"anchor\":\"x3\",\"domain\":[0.0,1.0],\"matches\":\"y\",\"showticklabels\":false},\"font\":{\"size\":15},\"title\":{\"font\":{\"size\":20},\"text\":\"Figure 16. Neither Agitation nor Retardation with Patients taking Fluoxetine\",\"x\":0.5,\"xanchor\":\"center\"},\"showlegend\":true,\"width\":1600,\"height\":900},                        {\"responsive\": true}                    ).then(function(){\n",
       "                            \n",
       "var gd = document.getElementById('b6f4c9a2-9cc3-496d-8f3d-027ffa25d849');\n",
       "var x = new MutationObserver(function (mutations, observer) {{\n",
       "        var display = window.getComputedStyle(gd).display;\n",
       "        if (!display || display === 'none') {{\n",
       "            console.log([gd, 'removed!']);\n",
       "            Plotly.purge(gd);\n",
       "            observer.disconnect();\n",
       "        }}\n",
       "}});\n",
       "\n",
       "// Listen for the removal of the full notebook cells\n",
       "var notebookContainer = gd.closest('#notebook-container');\n",
       "if (notebookContainer) {{\n",
       "    x.observe(notebookContainer, {childList: true});\n",
       "}}\n",
       "\n",
       "// Listen for the clearing of the current output cell\n",
       "var outputEl = gd.closest('.output');\n",
       "if (outputEl) {{\n",
       "    x.observe(outputEl, {childList: true});\n",
       "}}\n",
       "\n",
       "                        })                };                });            </script>        </div>"
      ]
     },
     "metadata": {},
     "output_type": "display_data"
    },
    {
     "data": {
      "text/html": [
       "<div>\n",
       "<style scoped>\n",
       "    .dataframe tbody tr th:only-of-type {\n",
       "        vertical-align: middle;\n",
       "    }\n",
       "\n",
       "    .dataframe tbody tr th {\n",
       "        vertical-align: top;\n",
       "    }\n",
       "\n",
       "    .dataframe thead th {\n",
       "        text-align: right;\n",
       "    }\n",
       "</style>\n",
       "<table border=\"1\" class=\"dataframe\">\n",
       "  <thead>\n",
       "    <tr style=\"text-align: right;\">\n",
       "      <th></th>\n",
       "      <th>V1-HAMD08</th>\n",
       "      <th>V1-HAMD09</th>\n",
       "      <th>V1-all</th>\n",
       "      <th>level</th>\n",
       "      <th>DRUG</th>\n",
       "      <th>Remission</th>\n",
       "      <th>Difference</th>\n",
       "      <th>Response</th>\n",
       "    </tr>\n",
       "  </thead>\n",
       "  <tbody>\n",
       "    <tr>\n",
       "      <th>1427</th>\n",
       "      <td>0</td>\n",
       "      <td>0</td>\n",
       "      <td>11</td>\n",
       "      <td>mild</td>\n",
       "      <td>Fluoxetine</td>\n",
       "      <td>Remission</td>\n",
       "      <td>No Change</td>\n",
       "      <td>No Response</td>\n",
       "    </tr>\n",
       "    <tr>\n",
       "      <th>1429</th>\n",
       "      <td>0</td>\n",
       "      <td>0</td>\n",
       "      <td>13</td>\n",
       "      <td>mild</td>\n",
       "      <td>Fluoxetine</td>\n",
       "      <td>Remission</td>\n",
       "      <td>Worst</td>\n",
       "      <td>No Response</td>\n",
       "    </tr>\n",
       "    <tr>\n",
       "      <th>1437</th>\n",
       "      <td>0</td>\n",
       "      <td>0</td>\n",
       "      <td>16</td>\n",
       "      <td>mild</td>\n",
       "      <td>Fluoxetine</td>\n",
       "      <td>Full Remission</td>\n",
       "      <td>Big Improvement</td>\n",
       "      <td>Full Response</td>\n",
       "    </tr>\n",
       "    <tr>\n",
       "      <th>1440</th>\n",
       "      <td>0</td>\n",
       "      <td>0</td>\n",
       "      <td>19</td>\n",
       "      <td>moderate</td>\n",
       "      <td>Fluoxetine</td>\n",
       "      <td>Full Remission</td>\n",
       "      <td>Big Improvement</td>\n",
       "      <td>Full Response</td>\n",
       "    </tr>\n",
       "    <tr>\n",
       "      <th>1441</th>\n",
       "      <td>0</td>\n",
       "      <td>0</td>\n",
       "      <td>11</td>\n",
       "      <td>mild</td>\n",
       "      <td>Fluoxetine</td>\n",
       "      <td>Full Remission</td>\n",
       "      <td>Improvement</td>\n",
       "      <td>Full Response</td>\n",
       "    </tr>\n",
       "    <tr>\n",
       "      <th>1451</th>\n",
       "      <td>0</td>\n",
       "      <td>0</td>\n",
       "      <td>15</td>\n",
       "      <td>mild</td>\n",
       "      <td>Fluoxetine</td>\n",
       "      <td>Full Remission</td>\n",
       "      <td>Improvement</td>\n",
       "      <td>Full Response</td>\n",
       "    </tr>\n",
       "  </tbody>\n",
       "</table>\n",
       "</div>"
      ],
      "text/plain": [
       "      V1-HAMD08  V1-HAMD09  V1-all     level        DRUG       Remission  \\\n",
       "1427          0          0      11      mild  Fluoxetine       Remission   \n",
       "1429          0          0      13      mild  Fluoxetine       Remission   \n",
       "1437          0          0      16      mild  Fluoxetine  Full Remission   \n",
       "1440          0          0      19  moderate  Fluoxetine  Full Remission   \n",
       "1441          0          0      11      mild  Fluoxetine  Full Remission   \n",
       "1451          0          0      15      mild  Fluoxetine  Full Remission   \n",
       "\n",
       "           Difference       Response  \n",
       "1427        No Change    No Response  \n",
       "1429            Worst    No Response  \n",
       "1437  Big Improvement  Full Response  \n",
       "1440  Big Improvement  Full Response  \n",
       "1441      Improvement  Full Response  \n",
       "1451      Improvement  Full Response  "
      ]
     },
     "execution_count": 229,
     "metadata": {},
     "output_type": "execute_result"
    }
   ],
   "source": [
    "na_rf = na_r[na_r['DRUG'] == 'Fluoxetine']\n",
    "\n",
    "narf1 = go.Histogram(x = na_rf['Remission'], name = 'Remission')\n",
    "narf2 = go.Histogram(x = na_rf['Difference'], name = 'Difference')\n",
    "narf3 = go.Histogram(x = na_rf['Response'], name = 'Response')\n",
    "\n",
    "fig16 = make_subplots(rows = 1, cols = 3, shared_yaxes = True, horizontal_spacing = 0.02)\n",
    "fig16.add_trace(narf1, row = 1, col = 1)\n",
    "fig16.add_trace(narf2, row = 1, col = 2)\n",
    "fig16.add_trace(narf3, row = 1, col = 3)\n",
    "\n",
    "fig16.update_xaxes(categoryorder = 'array', categoryarray = remission_labels, row = 1, col = 1)\n",
    "fig16.update_xaxes(categoryorder = 'array', categoryarray = difference_labels, row = 1, col = 2)\n",
    "fig16.update_xaxes(categoryorder = 'array', categoryarray = response_labels, row = 1, col = 3)\n",
    "\n",
    "fig16.update_layout(\n",
    "    font = {\n",
    "        \"size\": 15\n",
    "    },\n",
    "    \n",
    "    title = {\n",
    "        \"text\": 'Figure 16. Neither Agitation nor Retardation with Patients taking Fluoxetine',\n",
    "        \"x\": 0.5,\n",
    "        \"xanchor\" : \"center\",\n",
    "        \"font\" : {\n",
    "            \"size\": 20\n",
    "        }\n",
    "    },\n",
    "    #xaxis =dict(tickmode = 'linear',\n",
    "    #tick0 = 0,\n",
    "    #dtick = 1),\n",
    "    xaxis1 = {\n",
    "        \"tickangle\": -45,\n",
    "    },\n",
    "    xaxis2 = {\n",
    "        \"title\" : 'Drug Efficiency Labels',\n",
    "        \"tickangle\": -45,\n",
    "    },\n",
    "    xaxis3 = {\n",
    "        \"tickangle\": -45,\n",
    "    },\n",
    "#     xaxis_title = 'Drug Efficiency Labels',\n",
    "    yaxis_title = 'Count',\n",
    "    showlegend = True,\n",
    "    width = 1600,\n",
    "    height = 900)\n",
    "\n",
    "fig16.show()\n",
    "\n",
    "na_rf\n",
    "# len(na_rf[na_rf['Remission'] == 'Remission'])"
   ]
  },
  {
   "cell_type": "code",
   "execution_count": 230,
   "metadata": {},
   "outputs": [
    {
     "data": {
      "text/plain": [
       "[0, 0, 2, 4, 1, 1, 2, 2, 2, 0, 4]"
      ]
     },
     "execution_count": 230,
     "metadata": {},
     "output_type": "execute_result"
    }
   ],
   "source": [
    "# Fluoxetine Remission\n",
    "mild_narf = len(na_rf[na_rf['Remission'] == 'No/Mild Remission'])\n",
    "part_narf = len(na_rf[na_rf['Remission'] == 'Partial Remission'])\n",
    "remi_narf = len(na_rf[na_rf['Remission'] == 'Remission'])\n",
    "full_narf = len(na_rf[na_rf['Remission'] == 'Full Remission'])\n",
    "\n",
    "#Fluoxetine Difference\n",
    "wor_narf = len(na_rf[na_rf['Difference'] == 'Worst'])\n",
    "nc_narf = len(na_rf[na_rf['Difference'] == 'No Change'])\n",
    "i_narf = len(na_rf[na_rf['Difference'] == 'Improvement'])\n",
    "bi_narf = len(na_rf[na_rf['Difference'] == 'Big Improvement'])\n",
    "\n",
    "# Fluoxetine Response\n",
    "nr_narf = len(na_rf[na_rf['Response'] == 'No Response'])\n",
    "pr_narf = len(na_rf[na_rf['Response'] == 'Partial Response'])\n",
    "fr_narf = len(na_rf[na_rf['Response'] == 'Full Response'])\n",
    "\n",
    "narf = [mild_narf, part_narf, remi_narf, full_narf,\n",
    "        wor_narf, nc_narf, i_narf, bi_narf,\n",
    "        nr_narf, pr_narf, fr_narf]\n",
    "\n",
    "narf"
   ]
  },
  {
   "cell_type": "markdown",
   "metadata": {},
   "source": [
    "# The Statistics Table"
   ]
  },
  {
   "cell_type": "code",
   "execution_count": 231,
   "metadata": {},
   "outputs": [
    {
     "data": {
      "text/html": [
       "<div>\n",
       "<style scoped>\n",
       "    .dataframe tbody tr th:only-of-type {\n",
       "        vertical-align: middle;\n",
       "    }\n",
       "\n",
       "    .dataframe tbody tr th {\n",
       "        vertical-align: top;\n",
       "    }\n",
       "\n",
       "    .dataframe thead tr th {\n",
       "        text-align: left;\n",
       "    }\n",
       "</style>\n",
       "<table border=\"1\" class=\"dataframe\">\n",
       "  <thead>\n",
       "    <tr>\n",
       "      <th></th>\n",
       "      <th colspan=\"4\" halign=\"left\">Remission</th>\n",
       "      <th colspan=\"4\" halign=\"left\">Difference</th>\n",
       "      <th colspan=\"3\" halign=\"left\">Response</th>\n",
       "    </tr>\n",
       "    <tr>\n",
       "      <th></th>\n",
       "      <th>No/Mild Remission</th>\n",
       "      <th>Partial Remission</th>\n",
       "      <th>Remission</th>\n",
       "      <th>Full Remission</th>\n",
       "      <th>Worst</th>\n",
       "      <th>No Change</th>\n",
       "      <th>Improvement</th>\n",
       "      <th>Big Improvement</th>\n",
       "      <th>No Response</th>\n",
       "      <th>Partial Response</th>\n",
       "      <th>Full Response</th>\n",
       "    </tr>\n",
       "  </thead>\n",
       "  <tbody>\n",
       "    <tr>\n",
       "      <th>Agitation Only, Duloxetine</th>\n",
       "      <td>5</td>\n",
       "      <td>11</td>\n",
       "      <td>86</td>\n",
       "      <td>89</td>\n",
       "      <td>16</td>\n",
       "      <td>4</td>\n",
       "      <td>138</td>\n",
       "      <td>33</td>\n",
       "      <td>20</td>\n",
       "      <td>63</td>\n",
       "      <td>108</td>\n",
       "    </tr>\n",
       "    <tr>\n",
       "      <th>Agitation Only, Venlaxafine</th>\n",
       "      <td>0</td>\n",
       "      <td>4</td>\n",
       "      <td>18</td>\n",
       "      <td>1</td>\n",
       "      <td>0</td>\n",
       "      <td>1</td>\n",
       "      <td>21</td>\n",
       "      <td>1</td>\n",
       "      <td>1</td>\n",
       "      <td>14</td>\n",
       "      <td>8</td>\n",
       "    </tr>\n",
       "    <tr>\n",
       "      <th>Agitation Only, Paroxetine</th>\n",
       "      <td>1</td>\n",
       "      <td>2</td>\n",
       "      <td>25</td>\n",
       "      <td>33</td>\n",
       "      <td>5</td>\n",
       "      <td>1</td>\n",
       "      <td>49</td>\n",
       "      <td>6</td>\n",
       "      <td>6</td>\n",
       "      <td>25</td>\n",
       "      <td>30</td>\n",
       "    </tr>\n",
       "    <tr>\n",
       "      <th>Agitation Only, Fluoxine</th>\n",
       "      <td>0</td>\n",
       "      <td>3</td>\n",
       "      <td>7</td>\n",
       "      <td>4</td>\n",
       "      <td>5</td>\n",
       "      <td>0</td>\n",
       "      <td>9</td>\n",
       "      <td>0</td>\n",
       "      <td>5</td>\n",
       "      <td>5</td>\n",
       "      <td>4</td>\n",
       "    </tr>\n",
       "    <tr>\n",
       "      <th>Retardation Only, Duloxetine</th>\n",
       "      <td>4</td>\n",
       "      <td>14</td>\n",
       "      <td>113</td>\n",
       "      <td>111</td>\n",
       "      <td>12</td>\n",
       "      <td>3</td>\n",
       "      <td>185</td>\n",
       "      <td>42</td>\n",
       "      <td>15</td>\n",
       "      <td>95</td>\n",
       "      <td>132</td>\n",
       "    </tr>\n",
       "    <tr>\n",
       "      <th>Retardation Only, Venlaxafine</th>\n",
       "      <td>0</td>\n",
       "      <td>4</td>\n",
       "      <td>15</td>\n",
       "      <td>15</td>\n",
       "      <td>0</td>\n",
       "      <td>0</td>\n",
       "      <td>24</td>\n",
       "      <td>10</td>\n",
       "      <td>0</td>\n",
       "      <td>17</td>\n",
       "      <td>17</td>\n",
       "    </tr>\n",
       "    <tr>\n",
       "      <th>Retardation Only, Paroxetine</th>\n",
       "      <td>1</td>\n",
       "      <td>1</td>\n",
       "      <td>24</td>\n",
       "      <td>63</td>\n",
       "      <td>1</td>\n",
       "      <td>1</td>\n",
       "      <td>78</td>\n",
       "      <td>9</td>\n",
       "      <td>2</td>\n",
       "      <td>28</td>\n",
       "      <td>59</td>\n",
       "    </tr>\n",
       "    <tr>\n",
       "      <th>Retardation Only, Fluoxine</th>\n",
       "      <td>0</td>\n",
       "      <td>2</td>\n",
       "      <td>4</td>\n",
       "      <td>3</td>\n",
       "      <td>0</td>\n",
       "      <td>1</td>\n",
       "      <td>7</td>\n",
       "      <td>1</td>\n",
       "      <td>1</td>\n",
       "      <td>4</td>\n",
       "      <td>4</td>\n",
       "    </tr>\n",
       "    <tr>\n",
       "      <th>Agitation and Retardation, Duloxetine</th>\n",
       "      <td>6</td>\n",
       "      <td>42</td>\n",
       "      <td>163</td>\n",
       "      <td>156</td>\n",
       "      <td>13</td>\n",
       "      <td>8</td>\n",
       "      <td>270</td>\n",
       "      <td>76</td>\n",
       "      <td>21</td>\n",
       "      <td>142</td>\n",
       "      <td>204</td>\n",
       "    </tr>\n",
       "    <tr>\n",
       "      <th>Agitation and Retardation, Venlaxafine</th>\n",
       "      <td>2</td>\n",
       "      <td>6</td>\n",
       "      <td>36</td>\n",
       "      <td>28</td>\n",
       "      <td>2</td>\n",
       "      <td>1</td>\n",
       "      <td>49</td>\n",
       "      <td>20</td>\n",
       "      <td>3</td>\n",
       "      <td>29</td>\n",
       "      <td>40</td>\n",
       "    </tr>\n",
       "    <tr>\n",
       "      <th>Agitation and Retardation, Paroxetine</th>\n",
       "      <td>4</td>\n",
       "      <td>12</td>\n",
       "      <td>67</td>\n",
       "      <td>62</td>\n",
       "      <td>9</td>\n",
       "      <td>5</td>\n",
       "      <td>114</td>\n",
       "      <td>17</td>\n",
       "      <td>14</td>\n",
       "      <td>60</td>\n",
       "      <td>71</td>\n",
       "    </tr>\n",
       "    <tr>\n",
       "      <th>Agitation and Retardation, Fluoxine</th>\n",
       "      <td>1</td>\n",
       "      <td>1</td>\n",
       "      <td>9</td>\n",
       "      <td>5</td>\n",
       "      <td>2</td>\n",
       "      <td>0</td>\n",
       "      <td>9</td>\n",
       "      <td>5</td>\n",
       "      <td>2</td>\n",
       "      <td>7</td>\n",
       "      <td>7</td>\n",
       "    </tr>\n",
       "    <tr>\n",
       "      <th>Neither Agitation nor Retardation Only, Duloxetine</th>\n",
       "      <td>2</td>\n",
       "      <td>6</td>\n",
       "      <td>40</td>\n",
       "      <td>73</td>\n",
       "      <td>19</td>\n",
       "      <td>8</td>\n",
       "      <td>89</td>\n",
       "      <td>5</td>\n",
       "      <td>27</td>\n",
       "      <td>35</td>\n",
       "      <td>59</td>\n",
       "    </tr>\n",
       "    <tr>\n",
       "      <th>Neither Agitation nor Retardation, Venlaxafine</th>\n",
       "      <td>0</td>\n",
       "      <td>1</td>\n",
       "      <td>5</td>\n",
       "      <td>4</td>\n",
       "      <td>0</td>\n",
       "      <td>0</td>\n",
       "      <td>6</td>\n",
       "      <td>4</td>\n",
       "      <td>0</td>\n",
       "      <td>3</td>\n",
       "      <td>7</td>\n",
       "    </tr>\n",
       "    <tr>\n",
       "      <th>Neither Agitation nor Retardation, Paroxetine</th>\n",
       "      <td>1</td>\n",
       "      <td>2</td>\n",
       "      <td>16</td>\n",
       "      <td>38</td>\n",
       "      <td>8</td>\n",
       "      <td>1</td>\n",
       "      <td>45</td>\n",
       "      <td>3</td>\n",
       "      <td>9</td>\n",
       "      <td>21</td>\n",
       "      <td>27</td>\n",
       "    </tr>\n",
       "    <tr>\n",
       "      <th>Neither Agitation nor Retardation, Fluoxine</th>\n",
       "      <td>0</td>\n",
       "      <td>0</td>\n",
       "      <td>2</td>\n",
       "      <td>4</td>\n",
       "      <td>1</td>\n",
       "      <td>1</td>\n",
       "      <td>2</td>\n",
       "      <td>2</td>\n",
       "      <td>2</td>\n",
       "      <td>0</td>\n",
       "      <td>4</td>\n",
       "    </tr>\n",
       "  </tbody>\n",
       "</table>\n",
       "</div>"
      ],
      "text/plain": [
       "                                                           Remission  \\\n",
       "                                                   No/Mild Remission   \n",
       "Agitation Only, Duloxetine                                         5   \n",
       "Agitation Only, Venlaxafine                                        0   \n",
       "Agitation Only, Paroxetine                                         1   \n",
       "Agitation Only, Fluoxine                                           0   \n",
       "Retardation Only, Duloxetine                                       4   \n",
       "Retardation Only, Venlaxafine                                      0   \n",
       "Retardation Only, Paroxetine                                       1   \n",
       "Retardation Only, Fluoxine                                         0   \n",
       "Agitation and Retardation, Duloxetine                              6   \n",
       "Agitation and Retardation, Venlaxafine                             2   \n",
       "Agitation and Retardation, Paroxetine                              4   \n",
       "Agitation and Retardation, Fluoxine                                1   \n",
       "Neither Agitation nor Retardation Only, Duloxetine                 2   \n",
       "Neither Agitation nor Retardation, Venlaxafine                     0   \n",
       "Neither Agitation nor Retardation, Paroxetine                      1   \n",
       "Neither Agitation nor Retardation, Fluoxine                        0   \n",
       "\n",
       "                                                                      \\\n",
       "                                                   Partial Remission   \n",
       "Agitation Only, Duloxetine                                        11   \n",
       "Agitation Only, Venlaxafine                                        4   \n",
       "Agitation Only, Paroxetine                                         2   \n",
       "Agitation Only, Fluoxine                                           3   \n",
       "Retardation Only, Duloxetine                                      14   \n",
       "Retardation Only, Venlaxafine                                      4   \n",
       "Retardation Only, Paroxetine                                       1   \n",
       "Retardation Only, Fluoxine                                         2   \n",
       "Agitation and Retardation, Duloxetine                             42   \n",
       "Agitation and Retardation, Venlaxafine                             6   \n",
       "Agitation and Retardation, Paroxetine                             12   \n",
       "Agitation and Retardation, Fluoxine                                1   \n",
       "Neither Agitation nor Retardation Only, Duloxetine                 6   \n",
       "Neither Agitation nor Retardation, Venlaxafine                     1   \n",
       "Neither Agitation nor Retardation, Paroxetine                      2   \n",
       "Neither Agitation nor Retardation, Fluoxine                        0   \n",
       "\n",
       "                                                                             \\\n",
       "                                                   Remission Full Remission   \n",
       "Agitation Only, Duloxetine                                86             89   \n",
       "Agitation Only, Venlaxafine                               18              1   \n",
       "Agitation Only, Paroxetine                                25             33   \n",
       "Agitation Only, Fluoxine                                   7              4   \n",
       "Retardation Only, Duloxetine                             113            111   \n",
       "Retardation Only, Venlaxafine                             15             15   \n",
       "Retardation Only, Paroxetine                              24             63   \n",
       "Retardation Only, Fluoxine                                 4              3   \n",
       "Agitation and Retardation, Duloxetine                    163            156   \n",
       "Agitation and Retardation, Venlaxafine                    36             28   \n",
       "Agitation and Retardation, Paroxetine                     67             62   \n",
       "Agitation and Retardation, Fluoxine                        9              5   \n",
       "Neither Agitation nor Retardation Only, Duloxetine        40             73   \n",
       "Neither Agitation nor Retardation, Venlaxafine             5              4   \n",
       "Neither Agitation nor Retardation, Paroxetine             16             38   \n",
       "Neither Agitation nor Retardation, Fluoxine                2              4   \n",
       "\n",
       "                                                   Difference            \\\n",
       "                                                        Worst No Change   \n",
       "Agitation Only, Duloxetine                                 16         4   \n",
       "Agitation Only, Venlaxafine                                 0         1   \n",
       "Agitation Only, Paroxetine                                  5         1   \n",
       "Agitation Only, Fluoxine                                    5         0   \n",
       "Retardation Only, Duloxetine                               12         3   \n",
       "Retardation Only, Venlaxafine                               0         0   \n",
       "Retardation Only, Paroxetine                                1         1   \n",
       "Retardation Only, Fluoxine                                  0         1   \n",
       "Agitation and Retardation, Duloxetine                      13         8   \n",
       "Agitation and Retardation, Venlaxafine                      2         1   \n",
       "Agitation and Retardation, Paroxetine                       9         5   \n",
       "Agitation and Retardation, Fluoxine                         2         0   \n",
       "Neither Agitation nor Retardation Only, Duloxetine         19         8   \n",
       "Neither Agitation nor Retardation, Venlaxafine              0         0   \n",
       "Neither Agitation nor Retardation, Paroxetine               8         1   \n",
       "Neither Agitation nor Retardation, Fluoxine                 1         1   \n",
       "\n",
       "                                                                \\\n",
       "                                                   Improvement   \n",
       "Agitation Only, Duloxetine                                 138   \n",
       "Agitation Only, Venlaxafine                                 21   \n",
       "Agitation Only, Paroxetine                                  49   \n",
       "Agitation Only, Fluoxine                                     9   \n",
       "Retardation Only, Duloxetine                               185   \n",
       "Retardation Only, Venlaxafine                               24   \n",
       "Retardation Only, Paroxetine                                78   \n",
       "Retardation Only, Fluoxine                                   7   \n",
       "Agitation and Retardation, Duloxetine                      270   \n",
       "Agitation and Retardation, Venlaxafine                      49   \n",
       "Agitation and Retardation, Paroxetine                      114   \n",
       "Agitation and Retardation, Fluoxine                          9   \n",
       "Neither Agitation nor Retardation Only, Duloxetine          89   \n",
       "Neither Agitation nor Retardation, Venlaxafine               6   \n",
       "Neither Agitation nor Retardation, Paroxetine               45   \n",
       "Neither Agitation nor Retardation, Fluoxine                  2   \n",
       "\n",
       "                                                                    \\\n",
       "                                                   Big Improvement   \n",
       "Agitation Only, Duloxetine                                      33   \n",
       "Agitation Only, Venlaxafine                                      1   \n",
       "Agitation Only, Paroxetine                                       6   \n",
       "Agitation Only, Fluoxine                                         0   \n",
       "Retardation Only, Duloxetine                                    42   \n",
       "Retardation Only, Venlaxafine                                   10   \n",
       "Retardation Only, Paroxetine                                     9   \n",
       "Retardation Only, Fluoxine                                       1   \n",
       "Agitation and Retardation, Duloxetine                           76   \n",
       "Agitation and Retardation, Venlaxafine                          20   \n",
       "Agitation and Retardation, Paroxetine                           17   \n",
       "Agitation and Retardation, Fluoxine                              5   \n",
       "Neither Agitation nor Retardation Only, Duloxetine               5   \n",
       "Neither Agitation nor Retardation, Venlaxafine                   4   \n",
       "Neither Agitation nor Retardation, Paroxetine                    3   \n",
       "Neither Agitation nor Retardation, Fluoxine                      2   \n",
       "\n",
       "                                                      Response  \\\n",
       "                                                   No Response   \n",
       "Agitation Only, Duloxetine                                  20   \n",
       "Agitation Only, Venlaxafine                                  1   \n",
       "Agitation Only, Paroxetine                                   6   \n",
       "Agitation Only, Fluoxine                                     5   \n",
       "Retardation Only, Duloxetine                                15   \n",
       "Retardation Only, Venlaxafine                                0   \n",
       "Retardation Only, Paroxetine                                 2   \n",
       "Retardation Only, Fluoxine                                   1   \n",
       "Agitation and Retardation, Duloxetine                       21   \n",
       "Agitation and Retardation, Venlaxafine                       3   \n",
       "Agitation and Retardation, Paroxetine                       14   \n",
       "Agitation and Retardation, Fluoxine                          2   \n",
       "Neither Agitation nor Retardation Only, Duloxetine          27   \n",
       "Neither Agitation nor Retardation, Venlaxafine               0   \n",
       "Neither Agitation nor Retardation, Paroxetine                9   \n",
       "Neither Agitation nor Retardation, Fluoxine                  2   \n",
       "\n",
       "                                                                     \\\n",
       "                                                   Partial Response   \n",
       "Agitation Only, Duloxetine                                       63   \n",
       "Agitation Only, Venlaxafine                                      14   \n",
       "Agitation Only, Paroxetine                                       25   \n",
       "Agitation Only, Fluoxine                                          5   \n",
       "Retardation Only, Duloxetine                                     95   \n",
       "Retardation Only, Venlaxafine                                    17   \n",
       "Retardation Only, Paroxetine                                     28   \n",
       "Retardation Only, Fluoxine                                        4   \n",
       "Agitation and Retardation, Duloxetine                           142   \n",
       "Agitation and Retardation, Venlaxafine                           29   \n",
       "Agitation and Retardation, Paroxetine                            60   \n",
       "Agitation and Retardation, Fluoxine                               7   \n",
       "Neither Agitation nor Retardation Only, Duloxetine               35   \n",
       "Neither Agitation nor Retardation, Venlaxafine                    3   \n",
       "Neither Agitation nor Retardation, Paroxetine                    21   \n",
       "Neither Agitation nor Retardation, Fluoxine                       0   \n",
       "\n",
       "                                                                  \n",
       "                                                   Full Response  \n",
       "Agitation Only, Duloxetine                                   108  \n",
       "Agitation Only, Venlaxafine                                    8  \n",
       "Agitation Only, Paroxetine                                    30  \n",
       "Agitation Only, Fluoxine                                       4  \n",
       "Retardation Only, Duloxetine                                 132  \n",
       "Retardation Only, Venlaxafine                                 17  \n",
       "Retardation Only, Paroxetine                                  59  \n",
       "Retardation Only, Fluoxine                                     4  \n",
       "Agitation and Retardation, Duloxetine                        204  \n",
       "Agitation and Retardation, Venlaxafine                        40  \n",
       "Agitation and Retardation, Paroxetine                         71  \n",
       "Agitation and Retardation, Fluoxine                            7  \n",
       "Neither Agitation nor Retardation Only, Duloxetine            59  \n",
       "Neither Agitation nor Retardation, Venlaxafine                 7  \n",
       "Neither Agitation nor Retardation, Paroxetine                 27  \n",
       "Neither Agitation nor Retardation, Fluoxine                    4  "
      ]
     },
     "execution_count": 231,
     "metadata": {},
     "output_type": "execute_result"
    }
   ],
   "source": [
    "Labels = ['Agitation Only, Duloxetine', 'Agitation Only, Venlaxafine','Agitation Only, Paroxetine', 'Agitation Only, Fluoxine',\n",
    "          'Retardation Only, Duloxetine', 'Retardation Only, Venlaxafine','Retardation Only, Paroxetine', 'Retardation Only, Fluoxine',\n",
    "          'Agitation and Retardation, Duloxetine', 'Agitation and Retardation, Venlaxafine','Agitation and Retardation, Paroxetine', 'Agitation and Retardation, Fluoxine',\n",
    "          'Neither Agitation nor Retardation, Duloxetine', 'Neither Agitation nor Retardation, Venlaxafine','Neither Agitation nor Retardation, Paroxetine', 'Neither Agitation nor Retardation, Fluoxine']\n",
    "\n",
    "header = [('Remission', 'No/Mild Remission'), ('Remission', 'Partial Remission'), ('Remission', 'Remission'), ('Remission', 'Full Remission'),\n",
    "         ('Difference', 'Worst'), ('Difference', 'No Change'), ('Difference', 'Improvement'), ('Difference', 'Big Improvement'),\n",
    "         ('Response', 'No Response'), ('Response', 'Partial Response'), ('Response', 'Full Response')]\n",
    "\n",
    "data = pd.DataFrame([ad, av, ap, af,\n",
    "                     rd, rv, rp, rf, \n",
    "                     rad, rav, rap, raf,\n",
    "                     nard, narv, narp, narf],\n",
    "                   index = Labels)\n",
    "\n",
    "data.columns = pd.MultiIndex.from_tuples(header)\n",
    "\n",
    "data.to_csv(\"Mission 2.csv\")\n",
    "# {'Remission': ['No/Mild Remission': [len(na_rf[na_rf['Remission'] == 'No/Mild Remission'])],\n",
    "#            'Partial Remission': [len(na_rf[na_rf['Remission'] == 'Partial Remission'])],\n",
    "#            'Remission': [len(na_rf[na_rf['Remission'] == 'Remission'])],\n",
    "#            'Full Remission': [len(na_rf[na_rf['Remission'] == 'Full Remission'])]]}\n",
    "#['Difference', 'Difference', 'Difference', 'Difference'], ['Worst','No Change', 'Improvement', 'Big Improvement']\n",
    "\n",
    "data"
   ]
  },
  {
   "cell_type": "markdown",
   "metadata": {},
   "source": [
    "# Remission for each drugs"
   ]
  },
  {
   "cell_type": "code",
   "execution_count": 232,
   "metadata": {},
   "outputs": [],
   "source": [
    "# No/Mild Remission\n",
    "\n",
    "mild_ad = len(a_od[a_od['Remission'] == 'No/Mild Remission'])\n",
    "mild_av = len(a_ov[a_ov['Remission'] == 'No/Mild Remission'])\n",
    "mild_ap = len(a_op[a_op['Remission'] == 'No/Mild Remission'])\n",
    "mild_af = len(a_of[a_of['Remission'] == 'No/Mild Remission'])\n",
    "                             \n",
    "mild_rd = len(r_od[r_od['Remission'] == 'No/Mild Remission'])\n",
    "mild_rv = len(r_ov[r_ov['Remission'] == 'No/Mild Remission'])\n",
    "mild_rp = len(r_op[r_op['Remission'] == 'No/Mild Remission'])\n",
    "mild_rf = len(r_of[r_of['Remission'] == 'No/Mild Remission'])\n",
    "                            \n",
    "mild_rad = len(r_ad[r_ad['Remission'] == 'No/Mild Remission'])\n",
    "mild_rav = len(r_av[r_av['Remission'] == 'No/Mild Remission'])\n",
    "mild_rap = len(r_ap[r_ap['Remission'] == 'No/Mild Remission'])\n",
    "mild_raf = len(r_af[r_af['Remission'] == 'No/Mild Remission'])\n",
    "                            \n",
    "mild_nard = len(na_rd[na_rd['Remission'] == 'No/Mild Remission'])\n",
    "mild_narv = len(na_rv[na_rv['Remission'] == 'No/Mild Remission'])\n",
    "mild_narp = len(na_rp[na_rp['Remission'] == 'No/Mild Remission'])\n",
    "mild_narf = len(na_rf[na_rf['Remission'] == 'No/Mild Remission'])\n",
    "\n",
    "mild = [mild_ad,mild_av, mild_ap, mild_af,\n",
    "        mild_rd, mild_rv, mild_rp, mild_rf,\n",
    "        mild_rad, mild_rav, mild_rap, mild_raf,\n",
    "        mild_nard, mild_narv, mild_narp, mild_narf]\n",
    "\n",
    "# Partial Remission\n",
    "\n",
    "part_ad = len(a_od[a_od['Remission'] == 'Partial Remission'])\n",
    "part_av = len(a_ov[a_ov['Remission'] == 'Partial Remission'])\n",
    "part_ap = len(a_op[a_op['Remission'] == 'Partial Remission'])\n",
    "part_af = len(a_of[a_of['Remission'] == 'Partial Remission'])\n",
    "                             \n",
    "part_rd = len(r_od[r_od['Remission'] == 'Partial Remission'])\n",
    "part_rv = len(r_ov[r_ov['Remission'] == 'Partial Remission'])\n",
    "part_rp = len(r_op[r_op['Remission'] == 'Partial Remission'])\n",
    "part_rf = len(r_of[r_of['Remission'] == 'Partial Remission'])\n",
    "                            \n",
    "part_rad= len(r_ad[r_ad['Remission'] == 'Partial Remission'])\n",
    "part_rav= len(r_av[r_av['Remission'] == 'Partial Remission'])\n",
    "part_rap= len(r_ap[r_ap['Remission'] == 'Partial Remission'])\n",
    "part_raf= len(r_af[r_af['Remission'] == 'Partial Remission'])\n",
    "                            \n",
    "part_nard = len(na_rd[na_rd['Remission'] == 'Partial Remission'])\n",
    "part_narv = len(na_rv[na_rv['Remission'] == 'Partial Remission'])\n",
    "part_narp = len(na_rp[na_rp['Remission'] == 'Partial Remission'])\n",
    "part_narf = len(na_rf[na_rf['Remission'] == 'Partial Remission'])\n",
    "\n",
    "part = [part_ad,part_av, part_ap, part_af,\n",
    "        part_rd, part_rv, part_rp, part_rf,\n",
    "        part_rad, part_rav, part_rap, part_raf,\n",
    "        part_nard, part_narv, part_narp, part_narf]\n",
    "\n",
    "#Remission\n",
    "\n",
    "remi_ad = len(a_od[a_od['Remission'] == 'Remission'])\n",
    "remi_av = len(a_ov[a_ov['Remission'] == 'Remission'])\n",
    "remi_ap = len(a_op[a_op['Remission'] == 'Remission'])\n",
    "remi_af = len(a_of[a_of['Remission'] == 'Remission'])\n",
    "                             \n",
    "remi_rd = len(r_od[r_od['Remission'] == 'Remission'])\n",
    "remi_rv = len(r_ov[r_ov['Remission'] == 'Remission'])\n",
    "remi_rp = len(r_op[r_op['Remission'] == 'Remission'])\n",
    "remi_rf = len(r_of[r_of['Remission'] == 'Remission'])\n",
    "                            \n",
    "remi_rad= len(r_ad[r_ad['Remission'] == 'Remission'])\n",
    "remi_rav= len(r_av[r_av['Remission'] == 'Remission'])\n",
    "remi_rap= len(r_ap[r_ap['Remission'] == 'Remission'])\n",
    "remi_raf= len(r_af[r_af['Remission'] == 'Remission'])\n",
    "                            \n",
    "remi_nard = len(na_rd[na_rd['Remission'] == 'Remission'])\n",
    "remi_narv = len(na_rv[na_rv['Remission'] == 'Remission'])\n",
    "remi_narp = len(na_rp[na_rp['Remission'] == 'Remission'])\n",
    "remi_narf = len(na_rf[na_rf['Remission'] == 'Remission'])\n",
    "\n",
    "remi = [remi_ad,remi_av, remi_ap, remi_af,\n",
    "        remi_rd, remi_rv, remi_rp, remi_rf,\n",
    "        remi_rad, remi_rav, remi_rap, remi_raf,\n",
    "        remi_nard, remi_narv, remi_narp, remi_narf]\n",
    "\n",
    "#Full Remission\n",
    "\n",
    "full_ad = len(a_od[a_od['Remission'] == 'Full Remission'])\n",
    "full_av = len(a_ov[a_ov['Remission'] == 'Full Remission'])\n",
    "full_ap = len(a_op[a_op['Remission'] == 'Full Remission'])\n",
    "full_af = len(a_of[a_of['Remission'] == 'Full Remission'])\n",
    "                             \n",
    "full_rd = len(r_od[r_od['Remission'] == 'Full Remission'])\n",
    "full_rv = len(r_ov[r_ov['Remission'] == 'Full Remission'])\n",
    "full_rp = len(r_op[r_op['Remission'] == 'Full Remission'])\n",
    "full_rf = len(r_of[r_of['Remission'] == 'Full Remission'])\n",
    "                            \n",
    "full_rad= len(r_ad[r_ad['Remission'] == 'Full Remission'])\n",
    "full_rav= len(r_av[r_av['Remission'] == 'Full Remission'])\n",
    "full_rap= len(r_ap[r_ap['Remission'] == 'Full Remission'])\n",
    "full_raf= len(r_af[r_af['Remission'] == 'Full Remission'])\n",
    "                            \n",
    "full_nard = len(na_rd[na_rd['Remission'] == 'Full Remission'])\n",
    "full_narv = len(na_rv[na_rv['Remission'] == 'Full Remission'])\n",
    "full_narp = len(na_rp[na_rp['Remission'] == 'Full Remission'])\n",
    "full_narf = len(na_rf[na_rf['Remission'] == 'Full Remission'])\n",
    "\n",
    "full = [full_ad,full_av, full_ap, full_af,\n",
    "        full_rd, full_rv, full_rp, full_rf,\n",
    "        full_rad, full_rav, full_rap, full_raf,\n",
    "        full_nard, full_narv, full_narp, full_narf]\n",
    "\n",
    "\n",
    "\n",
    "# Worse Difference\n",
    "\n",
    "wor_ad = len(a_od[a_od['Difference'] == 'Worst'])\n",
    "wor_av = len(a_ov[a_ov['Difference'] == 'Worst'])\n",
    "wor_ap = len(a_op[a_op['Difference'] == 'Worst'])\n",
    "wor_af = len(a_of[a_of['Difference'] == 'Worst'])\n",
    "                             \n",
    "wor_rd = len(r_od[r_od['Difference'] == 'Worst'])\n",
    "wor_rv = len(r_ov[r_ov['Difference'] == 'Worst'])\n",
    "wor_rp = len(r_op[r_op['Difference'] == 'Worst'])\n",
    "wor_rf = len(r_of[r_of['Difference'] == 'Worst'])\n",
    "                            \n",
    "wor_rad = len(r_ad[r_ad['Difference'] == 'Worst'])\n",
    "wor_rav = len(r_av[r_av['Difference'] == 'Worst'])\n",
    "wor_rap = len(r_ap[r_ap['Difference'] == 'Worst'])\n",
    "wor_raf = len(r_af[r_af['Difference'] == 'Worst'])\n",
    "                            \n",
    "wor_nard = len(na_rd[na_rd['Difference'] == 'Worst'])\n",
    "wor_narv = len(na_rv[na_rv['Difference'] == 'Worst'])\n",
    "wor_narp = len(na_rp[na_rp['Difference'] == 'Worst'])\n",
    "wor_narf = len(na_rf[na_rf['Difference'] == 'Worst'])\n",
    "\n",
    "# mild = [mild_ad,mild_av, mild_ap, mild_af,\n",
    "#         mild_rd, mild_rv, mild_rp, mild_rf,\n",
    "#         mild_rad, mild_rav, mild_rap, mild_raf,\n",
    "#         mild_nard, mild_narv, mild_narp, mild_narf]\n",
    "\n",
    "# No Change\n",
    "\n",
    "nc_ad = len(a_od[a_od['Difference'] == 'No Change'])\n",
    "nc_av = len(a_ov[a_ov['Difference'] == 'No Change'])\n",
    "nc_ap = len(a_op[a_op['Difference'] == 'No Change'])\n",
    "nc_af = len(a_of[a_of['Difference'] == 'No Change'])\n",
    "                             \n",
    "nc_rd = len(r_od[r_od['Difference'] == 'No Change'])\n",
    "nc_rv = len(r_ov[r_ov['Difference'] == 'No Change'])\n",
    "nc_rp = len(r_op[r_op['Difference'] == 'No Change'])\n",
    "nc_rf = len(r_of[r_of['Difference'] == 'No Change'])\n",
    "                            \n",
    "nc_rad= len(r_ad[r_ad['Difference'] == 'No Change'])\n",
    "nc_rav= len(r_av[r_av['Difference'] == 'No Change'])\n",
    "nc_rap= len(r_ap[r_ap['Difference'] == 'No Change'])\n",
    "nc_raf= len(r_af[r_af['Difference'] == 'No Change'])\n",
    "                            \n",
    "nc_nard = len(na_rd[na_rd['Difference'] == 'No Change'])\n",
    "nc_narv = len(na_rv[na_rv['Difference'] == 'No Change'])\n",
    "nc_narp = len(na_rp[na_rp['Difference'] == 'No Change'])\n",
    "nc_narf = len(na_rf[na_rf['Difference'] == 'No Change'])\n",
    "\n",
    "# part = [part_ad,part_av, part_ap, part_af,\n",
    "#         part_rd, part_rv, part_rp, part_rf,\n",
    "#         part_rad, part_rav, part_rap, part_raf,\n",
    "#         part_nard, part_narv, part_narp, part_narf]\n",
    "\n",
    "#Improvement\n",
    "\n",
    "i_ad = len(a_od[a_od['Difference'] == 'Improvement'])\n",
    "i_av = len(a_ov[a_ov['Difference'] == 'Improvement'])\n",
    "i_ap = len(a_op[a_op['Difference'] == 'Improvement'])\n",
    "i_af = len(a_of[a_of['Difference'] == 'Improvement'])\n",
    "                             \n",
    "i_rd = len(r_od[r_od['Difference'] == 'Improvement'])\n",
    "i_rv = len(r_ov[r_ov['Difference'] == 'Improvement'])\n",
    "i_rp = len(r_op[r_op['Difference'] == 'Improvement'])\n",
    "i_rf = len(r_of[r_of['Difference'] == 'Improvement'])\n",
    "                            \n",
    "i_rad= len(r_ad[r_ad['Difference'] == 'Improvement'])\n",
    "i_rav= len(r_av[r_av['Difference'] == 'Improvement'])\n",
    "i_rap= len(r_ap[r_ap['Difference'] == 'Improvement'])\n",
    "i_raf= len(r_af[r_af['Difference'] == 'Improvement'])\n",
    "                            \n",
    "i_nard = len(na_rd[na_rd['Difference'] == 'Improvement'])\n",
    "i_narv = len(na_rv[na_rv['Difference'] == 'Improvement'])\n",
    "i_narp = len(na_rp[na_rp['Difference'] == 'Improvement'])\n",
    "i_narf = len(na_rf[na_rf['Difference'] == 'Improvement'])\n",
    "\n",
    "# remi = [remi_ad,remi_av, remi_ap, remi_af,\n",
    "#         remi_rd, remi_rv, remi_rp, remi_rf,\n",
    "#         remi_rad, remi_rav, remi_rap, remi_raf,\n",
    "#         remi_nard, remi_narv, remi_narp, remi_narf]\n",
    "\n",
    "#Big Improvement\n",
    "\n",
    "bi_ad = len(a_od[a_od['Difference'] == 'Big Improvement'])\n",
    "bi_av = len(a_ov[a_ov['Difference'] == 'Big Improvement'])\n",
    "bi_ap = len(a_op[a_op['Difference'] == 'Big Improvement'])\n",
    "bi_af = len(a_of[a_of['Difference'] == 'Big Improvement'])\n",
    "                             \n",
    "bi_rd = len(r_od[r_od['Difference'] == 'Big Improvement'])\n",
    "bi_rv = len(r_ov[r_ov['Difference'] == 'Big Improvement'])\n",
    "bi_rp = len(r_op[r_op['Difference'] == 'Big Improvement'])\n",
    "bi_rf = len(r_of[r_of['Difference'] == 'Big Improvement'])\n",
    "                            \n",
    "bi_rad= len(r_ad[r_ad['Difference'] == 'Big Improvement'])\n",
    "bi_rav= len(r_av[r_av['Difference'] == 'Big Improvement'])\n",
    "bi_rap= len(r_ap[r_ap['Difference'] == 'Big Improvement'])\n",
    "bi_raf= len(r_af[r_af['Difference'] == 'Big Improvement'])\n",
    "                            \n",
    "bi_nard = len(na_rd[na_rd['Difference'] == 'Big Improvement'])\n",
    "bi_narv = len(na_rv[na_rv['Difference'] == 'Big Improvement'])\n",
    "bi_narp = len(na_rp[na_rp['Difference'] == 'Big Improvement'])\n",
    "bi_narf = len(na_rf[na_rf['Difference'] == 'Big Improvement'])\n",
    "\n",
    "# full = [full_ad,full_av, full_ap, full_af,\n",
    "#         full_rd, full_rv, full_rp, full_rf,\n",
    "#         full_rad, full_rav, full_rap, full_raf,\n",
    "#         full_nard, full_narv, full_narp, full_narf]\n",
    "\n",
    "# No Response\n",
    "\n",
    "nr_ad = len(a_od[a_od['Response'] == 'No Response'])\n",
    "nr_av = len(a_ov[a_ov['Response'] == 'No Response'])\n",
    "nr_ap = len(a_op[a_op['Response'] == 'No Response'])\n",
    "nr_af = len(a_of[a_of['Response'] == 'No Response'])\n",
    "                             \n",
    "nr_rd = len(r_od[r_od['Response'] == 'No Response'])\n",
    "nr_rv = len(r_ov[r_ov['Response'] == 'No Response'])\n",
    "nr_rp = len(r_op[r_op['Response'] == 'No Response'])\n",
    "nr_rf = len(r_of[r_of['Response'] == 'No Response'])\n",
    "                            \n",
    "nr_rad = len(r_ad[r_ad['Response'] == 'No Response'])\n",
    "nr_rav = len(r_av[r_av['Response'] == 'No Response'])\n",
    "nr_rap = len(r_ap[r_ap['Response'] == 'No Response'])\n",
    "nr_raf = len(r_af[r_af['Response'] == 'No Response'])\n",
    "                            \n",
    "nr_nard = len(na_rd[na_rd['Response'] == 'No Response'])\n",
    "nr_narv = len(na_rv[na_rv['Response'] == 'No Response'])\n",
    "nr_narp = len(na_rp[na_rp['Response'] == 'No Response'])\n",
    "nr_narf = len(na_rf[na_rf['Response'] == 'No Response'])\n",
    "\n",
    "# mild = [mild_ad,mild_av, mild_ap, mild_af,\n",
    "#         mild_rd, mild_rv, mild_rp, mild_rf,\n",
    "#         mild_rad, mild_rav, mild_rap, mild_raf,\n",
    "#         mild_nard, mild_narv, mild_narp, mild_narf]\n",
    "\n",
    "# Partial Response\n",
    "\n",
    "pr_ad = len(a_od[a_od['Response'] == 'Partial Response'])\n",
    "pr_av = len(a_ov[a_ov['Response'] == 'Partial Response'])\n",
    "pr_ap = len(a_op[a_op['Response'] == 'Partial Response'])\n",
    "pr_af = len(a_of[a_of['Response'] == 'Partial Response'])\n",
    "                             \n",
    "pr_rd = len(r_od[r_od['Response'] == 'Partial Response'])\n",
    "pr_rv = len(r_ov[r_ov['Response'] == 'Partial Response'])\n",
    "pr_rp = len(r_op[r_op['Response'] == 'Partial Response'])\n",
    "pr_rf = len(r_of[r_of['Response'] == 'Partial Response'])\n",
    "                            \n",
    "pr_rad= len(r_ad[r_ad['Response'] == 'Partial Response'])\n",
    "pr_rav= len(r_av[r_av['Response'] == 'Partial Response'])\n",
    "pr_rap= len(r_ap[r_ap['Response'] == 'Partial Response'])\n",
    "pr_raf= len(r_af[r_af['Response'] == 'Partial Response'])\n",
    "                            \n",
    "pr_nard = len(na_rd[na_rd['Response'] == 'Partial Response'])\n",
    "pr_narv = len(na_rv[na_rv['Response'] == 'Partial Response'])\n",
    "pr_narp = len(na_rp[na_rp['Response'] == 'Partial Response'])\n",
    "pr_narf = len(na_rf[na_rf['Response'] == 'Partial Response'])\n",
    "\n",
    "# part = [part_ad,part_av, part_ap, part_af,\n",
    "#         part_rd, part_rv, part_rp, part_rf,\n",
    "#         part_rad, part_rav, part_rap, part_raf,\n",
    "#         part_nard, part_narv, part_narp, part_narf]\n",
    "\n",
    "# Full Response\n",
    "\n",
    "fr_ad = len(a_od[a_od['Response'] == 'Full Response'])\n",
    "fr_av = len(a_ov[a_ov['Response'] == 'Full Response'])\n",
    "fr_ap = len(a_op[a_op['Response'] == 'Full Response'])\n",
    "fr_af = len(a_of[a_of['Response'] == 'Full Response'])\n",
    "                             \n",
    "fr_rd = len(r_od[r_od['Response'] == 'Full Response'])\n",
    "fr_rv = len(r_ov[r_ov['Response'] == 'Full Response'])\n",
    "fr_rp = len(r_op[r_op['Response'] == 'Full Response'])\n",
    "fr_rf = len(r_of[r_of['Response'] == 'Full Response'])\n",
    "                            \n",
    "fr_rad= len(r_ad[r_ad['Response'] == 'Full Response'])\n",
    "fr_rav= len(r_av[r_av['Response'] == 'Full Response'])\n",
    "fr_rap= len(r_ap[r_ap['Response'] == 'Full Response'])\n",
    "fr_raf= len(r_af[r_af['Response'] == 'Full Response'])\n",
    "                            \n",
    "fr_nard = len(na_rd[na_rd['Response'] == 'Full Response'])\n",
    "fr_narv = len(na_rv[na_rv['Response'] == 'Full Response'])\n",
    "fr_narp = len(na_rp[na_rp['Response'] == 'Full Response'])\n",
    "fr_narf = len(na_rf[na_rf['Response'] == 'Full Response'])\n",
    "\n",
    "# remi = [remi_ad,remi_av, remi_ap, remi_af,\n",
    "#         remi_rd, remi_rv, remi_rp, remi_rf,\n",
    "#         remi_rad, remi_rav, remi_rap, remi_raf,\n",
    "#         remi_nard, remi_narv, remi_narp, remi_narf]\n",
    "\n",
    "# full = [full_ad,full_av, full_ap, full_af,\n",
    "#         full_rd, full_rv, full_rp, full_rf,\n",
    "#         full_rad, full_rav, full_rap, full_raf,\n",
    "#         full_nard, full_narv, full_narp, full_narf]"
   ]
  },
  {
   "cell_type": "code",
   "execution_count": null,
   "metadata": {},
   "outputs": [],
   "source": []
  }
 ],
 "metadata": {
  "colab": {
   "provenance": []
  },
  "kernelspec": {
   "display_name": "Python 3 (ipykernel)",
   "language": "python",
   "name": "python3"
  },
  "language_info": {
   "codemirror_mode": {
    "name": "ipython",
    "version": 3
   },
   "file_extension": ".py",
   "mimetype": "text/x-python",
   "name": "python",
   "nbconvert_exporter": "python",
   "pygments_lexer": "ipython3",
   "version": "3.10.9"
  }
 },
 "nbformat": 4,
 "nbformat_minor": 1
}
